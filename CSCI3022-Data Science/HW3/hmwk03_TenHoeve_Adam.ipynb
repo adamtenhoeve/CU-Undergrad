{
 "cells": [
  {
   "cell_type": "markdown",
   "metadata": {},
   "source": [
    "<a/ id='top'></a>\n",
    "# Homework 3: Random Variables and Their Distributions\n",
    "***\n",
    "\n",
    "**Name**: Adam Ten Hoeve\n",
    "\n",
    "***\n",
    "\n",
    "This assignment is due on Moodle by **5pm on Friday October 12**. Your solutions to theoretical questions should be done in Markdown/MathJax directly below the associated question.  Your solutions to computational questions should include any specified Python code and results as well as written commentary on your conclusions.  Remember that you are encouraged to discuss the problems with your instructors and classmates, but **you must write all code and solutions on your own**. \n",
    "\n",
    "**NOTES**: \n",
    "\n",
    "- Do **NOT** load or use any Python packages that are not available in Anaconda 3.6. \n",
    "- Because you can technically evaluate notebook cells in a non-linear order, it's a good idea to do Cell $\\rightarrow$ Run All as a check before submitting your solutions.  That way if we need to run your code you will know that it will work as expected. \n",
    "- Submit only this Jupyter notebook to Moodle.  Do not compress it using tar, rar, zip, etc. \n",
    "- This should go without saying, but... For any question that asks you to calculate something, you **must show all work to receive credit**. Sparse or nonexistent work will receive sparse or nonexistent credit.\n",
    "\n",
    "---\n",
    "**Shortcuts:**  [Problem 1](#p1) | [Problem 2](#p2) | [Problem 3](#p3) | [Problem 4](#p4) | [Problem 5](#p5)\n",
    "\n",
    "---"
   ]
  },
  {
   "cell_type": "code",
   "execution_count": 1,
   "metadata": {
    "collapsed": true,
    "scrolled": true
   },
   "outputs": [],
   "source": [
    "import pandas as pd\n",
    "import numpy as np\n",
    "import matplotlib.pyplot as plt\n",
    "%matplotlib inline\n",
    "import math"
   ]
  },
  {
   "cell_type": "markdown",
   "metadata": {},
   "source": [
    "<br>\n",
    "\n",
    "---\n",
    "<a/ id='p1'></a>\n",
    "[Back to top](#top)\n",
    "### [20 points] Problem 1\n",
    "\n",
    "Suppose you are modeling the probability of observing flood levels of various heights when there is a storm in a particular coastal city.  Let $X$ be a random variable representing the observed flood height (in feet), which must be nonnegative. There are many different choices for probability density function (pdf) for $X$.  You decide to use the following pdf for $X$:\n",
    "\n",
    "$$\n",
    "f(x) = \\begin{cases}\n",
    "         c \\ x \\ e^{\\left(-\\frac{x^2}{10}\\right)} & 0 \\leq x < \\infty \\\\\n",
    "         0                           & \\text{otherwise}\n",
    "       \\end{cases}\n",
    "$$\n",
    "where $c$ is some normalizing constant.\n",
    "\n",
    "**Part A**: Determine the value of $c$ such that $f(x)$ is a valid density function. "
   ]
  },
  {
   "cell_type": "markdown",
   "metadata": {},
   "source": [
    "For $f(x)$ to be valid, the following must be true:\n",
    "\n",
    "$$\\int_{-\\infty}^{\\infty}f(x)dx = 1$$\n",
    "\n",
    "Because $f(x)$ is only non-zero when $x \\geq 0$, we can rewrite our bands to be between $0$ and $\\infty$. From here, we can solve the integral.\n",
    "\n",
    "$$1 = c \\int_{0}^{\\infty} xe^{-\\frac{x^2}{10}} dx$$\n",
    "\n",
    "Use u-substitution: $u=-\\frac{x^2}{10}$ leading to $du = -\\frac{1}{5}xdx$ and $-5du = xdx$.\n",
    "\n",
    "$$ 1 = c \\int_{0}^{\\infty} (-5du) * e^{u}$$\n",
    "\n",
    "$$-\\frac{1}{5} = c \\Big[ e^u \\Big]_0^{\\infty}$$\n",
    "\n",
    "$$-\\frac{1}{5} = c \\Big[ e^{-\\frac{x^2}{10}} \\Big]_0^{\\infty}$$\n",
    "\n",
    "$$-\\frac{1}{5} = c \\Big[ 0 - 1 \\Big]$$\n",
    "\n",
    "$$ \\boxed {c = \\frac{1}{5} }$$"
   ]
  },
  {
   "cell_type": "markdown",
   "metadata": {},
   "source": [
    "**Part B**: Compute the cumulative density (cdf) function $F(x)$ for $X$.  Then, conduct two sanity checks: First, what should $F(0)$ equal?  Second, what should be the limit of $F(x)$ as $x \\rightarrow \\infty$?  Be sure to **justify** these answers. Verify that $F(0)$ and $\\displaystyle \\lim_{x\\rightarrow \\infty} F(x)$ satisfy your hypotheses using cdf you derived."
   ]
  },
  {
   "cell_type": "markdown",
   "metadata": {},
   "source": [
    "We can solve for $F(x)$ using the following equation:\n",
    "\n",
    "$$F(x) = \\int_{-\\infty}^x f(x)dx$$\n",
    "\n",
    "Again, because the probability is $0$ unitl $x \\geq 0$, we can change the lower bound to equal zero.\n",
    "\n",
    "$$ F(x) = \\int_0^x \\frac{1}{5}te^{-\\frac{t^2}{10}} dt$$\n",
    "\n",
    "Using the same u-substitution from **Part A**:\n",
    "\n",
    "$$ F(x) = -\\frac{1}{5} \\Big[5e^{-\\frac{t^2}{10}} \\Big]_0^x$$\n",
    "\n",
    "$$ F(x) = -\\frac{1}{5} \\Big( 5e^{-\\frac{x^2}{10}} - 5 \\Big) $$\n",
    "\n",
    "$$ \\boxed{ F(x) = 1 - e^{-\\frac{x^2}{10}} } $$\n",
    "\n",
    "Because $P(x < 0) = 0$, the CDF should be $0$ when $x = 0$ because there have been no positive probabilities. \n",
    "$$ F(0) = 1 - e^{-\\frac{(0)^2}{10}} = 1 - 1 = 0 $$\n",
    "The CDF should also be $1$ when the $\\displaystyle \\lim_{x\\rightarrow \\infty}$ because it covers all possible probabilities. \n",
    "$$ F(\\infty) = 1 - e^{-\\frac{(\\infty)^2}{10}} = 1 - 0 = 1$$"
   ]
  },
  {
   "cell_type": "markdown",
   "metadata": {},
   "source": [
    "**Part C:**  Use the cdf you derived in **Part B** to calculate the median, $\\tilde{x}$, of the probability density for $X$."
   ]
  },
  {
   "cell_type": "markdown",
   "metadata": {},
   "source": [
    "The median would be the x-value when the CDF = $\\frac{1}{2}$ because we would have covered half the data.\n",
    "\n",
    "$$ \\frac{1}{2} = 1 - e^{-\\frac{\\tilde{x}^2}{10}}$$\n",
    "\n",
    "$$ \\frac{1}{2} = e^{-\\frac{\\tilde{x}^2}{10}} $$\n",
    "\n",
    "$$ \\ln \\Big( \\frac{1}{2} \\Big) = -\\frac{\\tilde{x}^2}{10}$$\n",
    "\n",
    "$$ -\\ln{2}= -\\frac{\\tilde{x}^2}{10}$$\n",
    "\n",
    "$$ \\boxed{ \\tilde{x} = \\sqrt{10 \\ln{2}} }$$"
   ]
  },
  {
   "cell_type": "markdown",
   "metadata": {},
   "source": [
    "**Part D**: It is a well-known fact that if there is a storm in your coastal city, if the flood level exceeds 6 feet, then the town will become inundated with octopuses in an event known localy as **Octogeddon**. Use the cdf you computed in **Part B** to find the probability that a given storm is an Octogeddon. "
   ]
  },
  {
   "cell_type": "markdown",
   "metadata": {},
   "source": [
    "An octogeddon occurs when $X > 6$. The probability that there is an octogeddon is therefor:\n",
    "\n",
    "$$P(x > 6) = 1 - P(x \\leq 6) = 1 - F(6)$$\n",
    "\n",
    "Plug in $x=6$ to the CDF.\n",
    "\n",
    "$$ F(6) = 1 - e^{-\\frac{(6)^2}{10}}$$\n",
    "\n",
    "Then solve for octogeddon.\n",
    "\n",
    "$$ \\boxed{ P(x > 6) = 1 - \\Big( 1 - e^{-\\frac{(6)^2}{10}} \\Big) \\approx 0.0273 }$$"
   ]
  },
  {
   "cell_type": "markdown",
   "metadata": {},
   "source": [
    "**Part E:** You have been painstakingly collecting data on storms in your city, and have determined that storms occur at an average rate of 5 per year. To makes things a bit more precise, the pdf from **Part A** really describes the distribution of flood heights *given* that there is a storm, $P(X \\mid \\text{storm})$. You may assume that storms occur as independent events of one another.\n",
    "\n",
    "What is the probability of observing 3 storms in a given year, none of which are Octogeddons?\n",
    "\n",
    "That is, what is $P(3 \\text{ non-Octogeddon storms} \\cap 3 \\text{ storms})$?"
   ]
  },
  {
   "cell_type": "markdown",
   "metadata": {},
   "source": [
    "Using the equation for Conditional Probability: \n",
    "\n",
    "$$P(3 \\text{ non-Octogeddon storms} \\cap 3 \\text{ storms}) = P (3 \\text{ non-Octogeddon storms} \\mid 3 \\text{ storms})*P(3 \\text{ storms})$$\n",
    "\n",
    "Because the storms are independent, we can rewrite the $3$ non-Octogeddons as 3 different probabilities of non-Octogeddons occuring.\n",
    "\n",
    "$$ P( \\text{ non-Octogeddon1} \\mid \\text{storm1}) * P( \\text{ non-Octogeddon2} \\mid \\text{storm2}) * P( \\text{ non-Octogeddon3} \\mid \\text{storm3}) * P(3 \\text{ storms})$$\n",
    "\n",
    "A non-Octogeddon occurs when $X<6$ so we can rewrite our equation as:\n",
    "\n",
    "$$ P( x < 6 \\mid \\text{storm1}) * P( x < 6 \\mid \\text{storm2}) * P( x < 6 \\mid \\text{storm3}) * P(3 \\text{ storms})$$\n",
    "\n",
    "Each $P(x < 6 \\mid \\text{storm})$ is the CDF $F(6) = 1 - e^{-\\frac{(6)^2}{10}}$.\n",
    "\n",
    "$$ F(6)*F(6)*F(6)*P(3 \\text{ storms}) = F(6)^3*P(3 \\text{ storms})$$\n",
    "\n",
    "Let $Y$ be a Random Variable for the number of storms that occurs. $Y$ will then be characterized by a Poisson Distribution with rate $\\lambda = 5$. The PMF of $Y$ is $P(Y=k) = e^{-5}*\\frac{5^k}{k!}$. Therefor, the probability of $3$ storms occuring is: \n",
    "\n",
    "$$P(Y=3) = e^{-5}*\\frac{5^3}{3!} = \\frac{125}{6e^5}$$\n",
    "\n",
    "Plug in all of our values into the above equation to get our final answer.\n",
    "\n",
    "$$ \\boxed { P(3 \\text{ non-Octogeddon storms} \\cap 3 \\text{ storms}) =\\Big( 1 - e^{-\\frac{(6)^2}{10}} \\Big)^3 * \\frac{125}{6e^5} \\approx 0.1292 } $$"
   ]
  },
  {
   "cell_type": "markdown",
   "metadata": {},
   "source": [
    "<br>\n",
    "\n",
    "---\n",
    "<a/ id='p2'></a>\n",
    "[Back to top](#top)\n",
    "### [20 points] Problem 2\n",
    "\n",
    "You are waiting in line at the grocery store. It is taking _forever_!  There are only two lines open; one is being tended by a cashier named [John Henry](https://en.wikipedia.org/wiki/John_Henry_(folklore)), and the other is tended by a [self check-out machine](https://theconversation.com/the-economics-of-self-service-checkouts-78593). Like all human beings when they arrive at the front of the store to check-out and encounter lines everywhere, you first experience a moment of intense panic. _Which line will be the fastest?_ you wonder, as people shuffle around you.\n",
    "\n",
    "You decide you need to model the arrival of customers at the front of each of the lines.  From your Intro to Data Science class you remember that the distribution of times _between_ independent arrivals is often modeled using an Exponential distribution.  You observe the following:\n",
    "* John's line checks-out an average of 4 customers per ten minutes,\n",
    "* the self check-out machine checks-out an average of 5 customers per ten minutes **if** the machine is working properly, \n",
    "* the self check-out machine checks-out an average of 1 customer per ten minutes if the machine is freezing up, and\n",
    "* in any given moment, the self check-out machine has a probability of 0.1 of freezing up.\n",
    "\n",
    "Answer the following questions about this scenario. **Note** that for **Parts B-D** you should clearly express the computation you're doing with math, but feel free to do any fancy function evaluations with Python. \n",
    "\n",
    "**Part A**:  Assuming the between-customer times do in fact follow exponential distributions, what distributions do you expect the **number** of customers who pass through each line in a given 10-minute interval to follow?  What are the parameter(s) of each distribution?  Note that you should consider both the case where the self check-out is working properly and when it is broken."
   ]
  },
  {
   "cell_type": "markdown",
   "metadata": {},
   "source": [
    "The number of customers per line in 10 minute intervals is given by Poisson distributions. The PMF of a poison distribution is $P(X=k) = e^{-\\lambda}*\\frac{\\lambda^k}{k!}$  \n",
    "\n",
    "**John's Line:** John checks-out an average of 4 customers per 10 minutes, so the rate $\\lambda = 4$. PMF is $P(X_J = k) = e^{-4}*\\frac{4^k}{k!}$.  \n",
    "\n",
    "**Working Self-Checkout**: Serves 5 people per 10 minutes, $\\lambda = 5$. PMF is $P(X_W = k) = e^{-5}*\\frac{5^k}{k!}$.   \n",
    "\n",
    "**Frozen Self-Checkout**: Serves 1 person per 10 minutes, $\\lambda = 1$. PMF is $P(X_W = k) = e^{-1}*\\frac{1^k}{k!}$."
   ]
  },
  {
   "cell_type": "markdown",
   "metadata": {},
   "source": [
    "**Part B**:  What is the probability that 6 customers pass through John's line in the next 10 minutes?  What about the self check-out, assuming that it is working?  What about the self check-out, assuming that it is frozen?"
   ]
  },
  {
   "cell_type": "code",
   "execution_count": 2,
   "metadata": {
    "collapsed": true
   },
   "outputs": [],
   "source": [
    "# Function to solve Poisson Distributions with paramaters rate lambda and value k.\n",
    "def Poisson(lam, k):\n",
    "    return np.exp(-lam) * (lam**k) / (math.factorial(k))"
   ]
  },
  {
   "cell_type": "code",
   "execution_count": 3,
   "metadata": {},
   "outputs": [
    {
     "name": "stdout",
     "output_type": "stream",
     "text": [
      "The probability that 6 customers pass through John's checks-out is 0.1042.\n"
     ]
    }
   ],
   "source": [
    "# John's Line\n",
    "John6 = Poisson(4,6)\n",
    "print(\"The probability that 6 customers pass through John's checks-out is {:0.4}.\".format(John6))"
   ]
  },
  {
   "cell_type": "code",
   "execution_count": 4,
   "metadata": {},
   "outputs": [
    {
     "name": "stdout",
     "output_type": "stream",
     "text": [
      "The probabillity that 6 customers pass through the working self check-out is 0.1462.\n"
     ]
    }
   ],
   "source": [
    "#Unfrozen machine\n",
    "unFrozen6 = Poisson(5,6)\n",
    "print(\"The probabillity that 6 customers pass through the working self check-out is {:0.4}.\".format(unFrozen6))"
   ]
  },
  {
   "cell_type": "code",
   "execution_count": 5,
   "metadata": {},
   "outputs": [
    {
     "name": "stdout",
     "output_type": "stream",
     "text": [
      "The probability that 6 customers pass through the frozen self check-out is 0.0005109.\n"
     ]
    }
   ],
   "source": [
    "# Frozen machine\n",
    "frozen6 = Poisson(1,6)\n",
    "print(\"The probability that 6 customers pass through the frozen self check-out is {:0.4}.\".format(frozen6))"
   ]
  },
  {
   "cell_type": "markdown",
   "metadata": {},
   "source": [
    "**Part C:**  Use your answer to **Part B** and the Law of Total Probability to calculate the probability that the self check-out tends 6 customers is the next 10 minutes."
   ]
  },
  {
   "cell_type": "markdown",
   "metadata": {},
   "source": [
    "From the law of total probability:\n",
    "$$P(X=6) = P(X=6 \\mid \\text{Not Frozen})P(\\text{Not Frozen}) + P(X=6 \\mid \\text{Frozen})P( \\text{Frozen})$$\n",
    "\n",
    "The probabillity that the machine is frozen is $0.1$. Therefor the probability that it is not frozn is $0.9$. We can get the other two probabilities from **Part B**."
   ]
  },
  {
   "cell_type": "code",
   "execution_count": 6,
   "metadata": {},
   "outputs": [
    {
     "name": "stdout",
     "output_type": "stream",
     "text": [
      "The probability that 6 people pass through the self check-out is 0.1317.\n"
     ]
    }
   ],
   "source": [
    "machine6 = unFrozen6*0.9 + frozen6*0.1\n",
    "print(\"The probability that 6 people pass through the self check-out is {:0.4}.\".format(machine6))"
   ]
  },
  {
   "cell_type": "markdown",
   "metadata": {},
   "source": [
    "**Part D**:  S'pose John is working a 5-hour shift from 4-9 PM after school. He gets no breaks, because the year is 1870 and worker's rights is not yet a thing.  Calculate **exactly** (aside from rounding) the probability that he serves 100 or more customers during his shift.  (Assume we can safely scale our data up to a 5-hour interval.)"
   ]
  },
  {
   "cell_type": "markdown",
   "metadata": {},
   "source": [
    "To solve for $P(x>100)$, we can instead calculate $P(x \\geq 100) = 1 - P(x < 100) = 1 - F(99)$. We must then find the CDF. On average, John serves 4 customers per 10 minutes. Therefor, on average, he will serve 120 people in 5 hours on and his new rate is $\\lambda = 120$. With this rate, the CDF is:\n",
    "\n",
    "$$F(x) = \\sum_{k=0}^{x}e^{-120}*\\frac{120^k}{k!}$$\n",
    "\n",
    "We are now able to solve for the probability $P(X \\geq 100)$."
   ]
  },
  {
   "cell_type": "code",
   "execution_count": 7,
   "metadata": {},
   "outputs": [
    {
     "name": "stdout",
     "output_type": "stream",
     "text": [
      "The probability that John serves 100 or more people in 5 hours is 0.9721.\n"
     ]
    }
   ],
   "source": [
    "John99orLess = 0\n",
    "for i in range(100):\n",
    "    John99orLess += Poisson(120, i)\n",
    "John100orMore = 1 - John99orLess\n",
    "print(\"The probability that John serves 100 or more people in 5 hours is {:0.4}.\".format(John100orMore))"
   ]
  },
  {
   "cell_type": "markdown",
   "metadata": {},
   "source": [
    "**Part E**:  Write a function `checkout_count` to simulate the number of customers served by the self check-out machine in a 5-hour shift. At the very least, your function should take as input the working and broken customer arrival rate parameters, and the probability that the machine is working properly. Your simulation should model the arrival of each new customer, and sample whether or not the machine is working properly for each new customer. Then, your function should simulate customer arrival times at the front of the line by sampling between-customer times from $Exp(\\lambda)$ via Numpy's [random.exponential](https://docs.scipy.org/doc/numpy-1.13.0/reference/generated/numpy.random.exponential.html) function, where the argument $\\lambda$ will depend on the state of the machine (working or broken). Your function should return the number of customer arrivals in a 5-hour shift. Use at least 5000 simulations.\n",
    "\n",
    "Use this function to estimate the probability of the self check-out machine serves 100 or more customers in a 5-hour shift, and report your result.\n",
    "\n",
    "Finally, use **this same function**, to verify your answer to **Part D**.\n",
    "\n",
    "**Caution!**  Be aware that in some Numpy or Scipy functions for distribution and/or random variables, the conventions for the parameter arguments may differ from those used in class."
   ]
  },
  {
   "cell_type": "code",
   "execution_count": 8,
   "metadata": {
    "collapsed": true
   },
   "outputs": [],
   "source": [
    "def checkout_count(time_len, rate_work, rate_broken, p):#time_len is 300 min, rate_work = 150, rate_broken = 30, p = 0.1\n",
    "    sims = 5000\n",
    "    num_customers = np.zeros(sims)\n",
    "    for i in range(sims):\n",
    "        temp_time_len = time_len\n",
    "        while(temp_time_len > 0):\n",
    "            isFrozen = np.random.uniform(0,1) # Determines if is frozen or not. If this is < p, then is not frozen.\n",
    "            if (isFrozen < p): # If is not frozen\n",
    "                temp_time_len -= np.random.exponential(1/rate_work) * 10 # Time between customers per 10 minutes\n",
    "                if temp_time_len > 0: # Check to make sure they don't go over 5 hours\n",
    "                    num_customers[i] += 1 # Increase number of customers by 1\n",
    "            else: # If is frozen\n",
    "                temp_time_len -= np.random.exponential(1/rate_broken) * 10\n",
    "                if temp_time_len > 0:\n",
    "                    num_customers[i] += 1\n",
    "    return num_customers, sims"
   ]
  },
  {
   "cell_type": "code",
   "execution_count": 9,
   "metadata": {},
   "outputs": [
    {
     "name": "stdout",
     "output_type": "stream",
     "text": [
      "The probability that the machine checks-out 100 or more cusstomers is 0.6764.\n"
     ]
    }
   ],
   "source": [
    "# Prob that machine gets 100 or more customers\n",
    "customersMachine, sims = checkout_count(300, 5, 1, 0.9)\n",
    "customersMachineSum = 0\n",
    "for i in customersMachine:\n",
    "    if i > 100:\n",
    "        customersMachineSum += 1\n",
    "print(\"The probability that the machine checks-out 100 or more cusstomers is {:0.4}.\".format(customersMachineSum/sims))"
   ]
  },
  {
   "cell_type": "code",
   "execution_count": 10,
   "metadata": {
    "scrolled": true
   },
   "outputs": [
    {
     "name": "stdout",
     "output_type": "stream",
     "text": [
      "The probability that John checks-out 100 or more customers is 0.9666.\n"
     ]
    }
   ],
   "source": [
    "# Prob that John gets 100 or more customers\n",
    "customersJohn, sims = checkout_count(300, 4, 4, 1)\n",
    "customersJohnSum = 0\n",
    "for i in customersJohn:\n",
    "    if i > 100:\n",
    "        customersJohnSum += 1\n",
    "print(\"The probability that John checks-out 100 or more customers is {:0.4}.\".format(customersJohnSum/sims))"
   ]
  },
  {
   "cell_type": "markdown",
   "metadata": {},
   "source": [
    "Notice that John's simulated probability is very similar to the amount calculated in **Part B**, thus verifying our calculated result."
   ]
  },
  {
   "cell_type": "markdown",
   "metadata": {},
   "source": [
    "**Part F:** Comment on the results you found in **Part E** for the probabilities that John and the self check-out machine will serve 100 or more customers in a 5-hour block. Which seems like a better investment for the grocery store?"
   ]
  },
  {
   "cell_type": "markdown",
   "metadata": {},
   "source": [
    "From **Part E**, the probability 100 or more people will be checked out in 5 hours by the machine is $\\sim 0.672$ and by John is $ \\sim 0.971$. Therefor, John is a better investment because he will, on average, check-out a greater number of people than the automatic machine."
   ]
  },
  {
   "cell_type": "markdown",
   "metadata": {
    "collapsed": true
   },
   "source": [
    "### [20 points] Problem 3 \n",
    "***\n",
    "\n",
    "Let $X =$ the leading digit of a randomly selected number from a large accounting\n",
    "ledger. For example, if we randomly draw the number \\$20,695, then $X = 2.$\n",
    "People who make up numbers to commit accounting fraud tend to give $X$ a\n",
    "(discrete) uniform distribution, i.e., $P(X = x) = \\frac{1}{9}$, for $x \\in \\{1, ..., 9\\}$. However,\n",
    "there is empirical evidence that suggests that _naturally occurring_ numbers (e.g.,\n",
    "numbers in a non-fraudulent accounting ledgers) have leading digits that do not\n",
    "follow a uniform distribution. Instead, they follow a distribution defined by the following probability mass function:\n",
    "\n",
    "$$\n",
    "f(x) = \\log_{10}\\left( \\frac{x+1}{x} \\right) \\quad \\textrm{for } x = 1, 2, \\ldots, 9\n",
    "$$"
   ]
  },
  {
   "cell_type": "markdown",
   "metadata": {},
   "source": [
    "**Part A**: Write a function pmf_natural that implements $f(x)$. Your function should take in an integer $x$ and return $f(x) = P(X = x)$.  Use your function to argue that $f(x)$ is a well-defined probability mass function. "
   ]
  },
  {
   "cell_type": "code",
   "execution_count": 11,
   "metadata": {
    "collapsed": true
   },
   "outputs": [],
   "source": [
    "def pmf_natural(x):\n",
    "    return np.log10((x+1)/x)"
   ]
  },
  {
   "cell_type": "code",
   "execution_count": 12,
   "metadata": {},
   "outputs": [
    {
     "name": "stdout",
     "output_type": "stream",
     "text": [
      "When x = 1, P(X=i) = 0.3010\n",
      "When x = 2, P(X=i) = 0.1761\n",
      "When x = 3, P(X=i) = 0.1249\n",
      "When x = 4, P(X=i) = 0.0969\n",
      "When x = 5, P(X=i) = 0.0792\n",
      "When x = 6, P(X=i) = 0.0669\n",
      "When x = 7, P(X=i) = 0.0580\n",
      "When x = 8, P(X=i) = 0.0512\n",
      "When x = 9, P(X=i) = 0.0458\n",
      "The sum of probabilities of all events is 1.0.\n"
     ]
    }
   ],
   "source": [
    "sum = 0\n",
    "for i in range(1,10):\n",
    "    fx = pmf_natural(i)\n",
    "    print(\"When x = {}, P(X=i) = {:0.4f}\".format(i, fx))\n",
    "    sum += fx\n",
    "print(\"The sum of probabilities of all events is {}.\".format(sum))"
   ]
  },
  {
   "cell_type": "markdown",
   "metadata": {},
   "source": [
    "For a PMF to be well defined, it requires that there are no negative probabilities and that the sum over all events is 1. From the code above, we can see that the probabilities for $x = {1,2,...,9}$ are all non-negative and the sum of all probabilies is 1, so the PMF is well defined."
   ]
  },
  {
   "cell_type": "markdown",
   "metadata": {},
   "source": [
    "**Part B**: Use the function you wrote above to make two bar plots describing the pmf of the naturally occurring numbers as well as the discrete uniform distribution.  Make sure that the $x$- and $y$-limits on your plots are the same so that the two distributions are easy to compare. Please make one plot directly above the other. "
   ]
  },
  {
   "cell_type": "code",
   "execution_count": 13,
   "metadata": {
    "collapsed": true
   },
   "outputs": [],
   "source": [
    "probsFraud = [1/9] * 9 # Data set for the Discrete Uniform Distribution\n",
    "probsNatural = np.zeros(9)\n",
    "for i in range(1,10):\n",
    "    probsNatural[i-1] = pmf_natural(i) # Dataset for the naturally occuring numbers\n",
    "# probsNatural = pd.DataFrame(probsNatural)"
   ]
  },
  {
   "cell_type": "code",
   "execution_count": 14,
   "metadata": {},
   "outputs": [
    {
     "data": {
      "text/plain": [
       "Text(0,0.5,'P(X=k)')"
      ]
     },
     "execution_count": 14,
     "metadata": {},
     "output_type": "execute_result"
    },
    {
     "data": {
      "image/png": "[encoded data removed]",
      "text/plain": [
       "<matplotlib.figure.Figure at 0x204553ac160>"
      ]
     },
     "metadata": {},
     "output_type": "display_data"
    }
   ],
   "source": [
    "xaxis = [1,2,3,4,5,6,7,8,9]\n",
    "fig,axs = plt.subplots(2,1,figsize = (12,10))\n",
    "plt.subplots_adjust(hspace = 0.3)\n",
    "\n",
    "axs[0].bar(x=xaxis,\n",
    "           height = probsNatural,\n",
    "           width = 0.8)\n",
    "axs[0].set_ylim([0,1])\n",
    "axs[0].set_title(\"The Distribution of Natural Numbers\")\n",
    "axs[0].set_xlabel(\"X value\")\n",
    "axs[0].set_ylabel(\"P(X=k)\")\n",
    "\n",
    "axs[1].bar(x=xaxis,\n",
    "           height = probsFraud,\n",
    "           width = 0.8,\n",
    "           color = \"green\")\n",
    "axs[1].set_ylim([0,1])\n",
    "axs[1].set_title(\"The Distribution of Fraudulent Numbers\")\n",
    "axs[1].set_xlabel(\"X Value\")\n",
    "axs[1].set_ylabel(\"P(X=k)\")"
   ]
  },
  {
   "cell_type": "markdown",
   "metadata": {},
   "source": [
    "**Part C**: Write a function cdf_natural that implements the cumulative distribution function $F(y)$ for $X$ and use it to compute the probability that the leading digit in a number is at most 4 and at most 5. "
   ]
  },
  {
   "cell_type": "code",
   "execution_count": 15,
   "metadata": {
    "collapsed": true
   },
   "outputs": [],
   "source": [
    "def cdf_natural(y): # Will loop through all discrete values <= y and return the sum of those pdf's.\n",
    "    cdf = 0\n",
    "    for i in range(1, y+1): # Will return sum of pdfs from 1 to y\n",
    "        cdf += pmf_natural(i)\n",
    "    return cdf"
   ]
  },
  {
   "cell_type": "code",
   "execution_count": 16,
   "metadata": {},
   "outputs": [
    {
     "name": "stdout",
     "output_type": "stream",
     "text": [
      "The probability that the leading digit is at most X=4 is 0.699.\n",
      "The probability that the leading digit is at most x=5 is 0.7782.\n"
     ]
    }
   ],
   "source": [
    "print(\"The probability that the leading digit is at most X=4 is {:0.4}.\".format(cdf_natural(4)))\n",
    "print(\"The probability that the leading digit is at most x=5 is {:0.4}.\".format(cdf_natural(5)))"
   ]
  },
  {
   "cell_type": "markdown",
   "metadata": {},
   "source": [
    "**Part D**: The data in tax_data.txt contains the taxable income for individuals in 1978. Use Pandas and the information from **Parts A-D** to determine whether or not the dataset is likely fraudulent.  In addition to code and any graphical summaries, make sure to clearly justify your conclusion in words. "
   ]
  },
  {
   "cell_type": "code",
   "execution_count": 17,
   "metadata": {
    "collapsed": true
   },
   "outputs": [],
   "source": [
    "file_path = \"tax_data.txt\"\n",
    "dfIncome = pd.read_csv(file_path, \n",
    "                       header = 0,\n",
    "                       sep = \"\\t\",       # Have to separate data by the tab command\n",
    "                       names = [\"id\", \"income\"]) # Split into two collumns"
   ]
  },
  {
   "cell_type": "code",
   "execution_count": 18,
   "metadata": {
    "collapsed": true
   },
   "outputs": [],
   "source": [
    "# dfIncome.head()\n",
    "incomes = np.zeros(10)             # List for the frequency of the data\n",
    "incomesNormalized = np.zeros(9)    # List for the cleaned data. Not including any #s that start with 0.\n",
    "length = 0                         # The total number of entries in the cleaned data\n",
    "\n",
    "for i, row in dfIncome.iterrows(): # For each row in the dataframe\n",
    "    x = int(str(row[\"income\"])[0]) # Gets the first letter each income amount\n",
    "    incomes[x] += 1                # Increase the frequency of that number by 1\n",
    "    if (x != 0):                   # This is for the cleaned and normalized dataset\n",
    "        incomesNormalized[x-1] += 1\n",
    "        length += 1\n",
    "        \n",
    "incomesNormalized = incomesNormalized / length # Convert the frequencies to probabilities\n",
    "# print(incomes)\n",
    "# print(incomesNormalized)"
   ]
  },
  {
   "cell_type": "code",
   "execution_count": 19,
   "metadata": {},
   "outputs": [
    {
     "name": "stdout",
     "output_type": "stream",
     "text": [
      "The probability that the leading digit is 1 is 0.3278721146192624.\n",
      "The probability that the leading digit is 2 is 0.21408861767046963.\n",
      "The probability that the leading digit is 3 is 0.12356725921995224.\n",
      "The probability that the leading digit is 4 is 0.089539665693818.\n",
      "The probability that the leading digit is 5 is 0.07224728044574158.\n",
      "The probability that the leading digit is 6 is 0.052149111170071635.\n",
      "The probability that the leading digit is 7 is 0.04111170071637039.\n",
      "The probability that the leading digit is 8 is 0.03936057309631202.\n",
      "The probability that the leading digit is 9 is 0.04006367736800212.\n"
     ]
    }
   ],
   "source": [
    "# Finding the PMF of the income data\n",
    "for i in range(9):\n",
    "    print(\"The probability that the leading digit is {} is {}.\".format(i+1, incomesNormalized[i]))"
   ]
  },
  {
   "cell_type": "code",
   "execution_count": 20,
   "metadata": {
    "collapsed": true
   },
   "outputs": [],
   "source": [
    "# Finding the CDF of the income data\n",
    "def IncomeCDF(y):\n",
    "    sum = 0\n",
    "    for i in range(1,y+1):\n",
    "        sum += incomesNormalized[i]\n",
    "    return sum"
   ]
  },
  {
   "cell_type": "code",
   "execution_count": 21,
   "metadata": {},
   "outputs": [
    {
     "name": "stdout",
     "output_type": "stream",
     "text": [
      "The probability that the leading digit of the income data is at most 4 is 0.49944282302998144.\n",
      "The probability that the leading digit of the income data is at most 5 is 0.551591934200053.\n"
     ]
    }
   ],
   "source": [
    "print(\"The probability that the leading digit of the income data is at most 4 is {}.\".format(IncomeCDF(4)))\n",
    "print(\"The probability that the leading digit of the income data is at most 5 is {}.\".format(IncomeCDF(5)))"
   ]
  },
  {
   "cell_type": "code",
   "execution_count": 22,
   "metadata": {},
   "outputs": [
    {
     "data": {
      "image/png": "[encoded data removed]",
      "text/plain": [
       "<matplotlib.figure.Figure at 0x204553b8d68>"
      ]
     },
     "metadata": {},
     "output_type": "display_data"
    }
   ],
   "source": [
    "xaxis2 = [0,1,2,3,4,5,6,7,8,9] # Have to change the xaxis to include the numbers that begin with 0.\n",
    "fig, ax = plt.subplots(1,2,figsize = (20,8))\n",
    "\n",
    "ax[0].bar(x = xaxis2,\n",
    "          height = incomes)\n",
    "ax[0].set_xlabel(\"The Leading Digit\")\n",
    "ax[0].set_ylabel(\"Frequency\")\n",
    "ax[0].set_title(\"The Frequency of Leading Digits, Uncleaned\")\n",
    "\n",
    "ax[1].bar(x = xaxis,\n",
    "          height = incomesNormalized)\n",
    "ax[1].set_xlabel(\"The Leading Digit\")\n",
    "ax[1].set_ylabel(\"The probability that the Leading Digit is x\")\n",
    "ax[1].set_title(\"The Probability of Leading Digits, Cleaned\")\n",
    "ax[1].set_ylim([0,1]);\n"
   ]
  },
  {
   "cell_type": "markdown",
   "metadata": {},
   "source": [
    "When comparing the plots above to the plots from **Part B**, it's clear that the data does not have a uniform distribution and follows closely with the PDF of the natural numbers. Similarly, by printing each probability for each leading digit from the incomes data, we can see that it the initial value, when $x=1$, is similar, with the calculated PMF having $P(x=1) = 0.301$ and the income data having $P(x=1) = 0.328$. The probabilities for the income data then decays slower than the calculated data, but the overall shape of the plot is the same. From these observations, it can be conclused that the data is not fraudulent."
   ]
  },
  {
   "cell_type": "markdown",
   "metadata": {},
   "source": [
    "### [20 points] Problem 4\n",
    "***\n",
    "\n",
    "Well. They're back at it. Tony and Dan are honing their lightsaber skills, and this time they've got a _new_ tournament format. (They wouldn't have had to switch formats, but you figured out all the probabilities for their previous tournament format two weeks ago, so this is on you.)\n",
    "\n",
    "The new format is a _Best-of-9 Series_ of individual duels. The first professor to win 5 duels is declared the winner. Each duel can be considered to be independent of all previous duels. Moreover, a rigorous statistical analysis of Tony's and Dan's strengths, weaknesses, and handwriting, has revealed that Tony has an edge: the probability that Tony wins any one duel against Dan is given by $p=0.56$."
   ]
  },
  {
   "cell_type": "markdown",
   "metadata": {},
   "source": [
    "**Part A**: What is the probability that Tony wins the 9-duel series on the 8th duel? "
   ]
  },
  {
   "cell_type": "markdown",
   "metadata": {},
   "source": [
    "The probability that Tony wins on the eigth duel can be calculated with a negative binomial distribution because we know he wins the 8th duel. More specifically, Let X be a random variable for the number of Tony's wins. Then $X \\sim NegBin(8,0.56)$ and for $X=8$, we will solve the distribution:\n",
    "\n",
    "$$ \\boxed{ f(8; 5,0.56) = {7 \\choose 4}(0.56)^5(0.44)^3 \\approx 0.1642 } $$"
   ]
  },
  {
   "cell_type": "markdown",
   "metadata": {},
   "source": [
    "**Part B**: What is the probability that Tony wins the 9-duel series in _any_ valid number of duels? "
   ]
  },
  {
   "cell_type": "markdown",
   "metadata": {},
   "source": [
    "If we always know that Tony wins, then there will always be at least 5 duels. Therefor, the only thing that will change between each occurance is the number of duels that Dan wins, which will be between 0 and 4. In terms of a Negative Binomial Distribution, this will change $n$ the overall number of trials conducted.\n",
    "\n",
    "$$ \\boxed{ \\sum_{k=0}^4{5-1+k \\choose 5-1}(0.56)^5(0.44)^k = {4 \\choose 4}(0.56)^5(0.44)^0 + ... + {8 \\choose 4}(0.56)^5(0.44)^4 \\approx 0.6449 } $$"
   ]
  },
  {
   "cell_type": "markdown",
   "metadata": {},
   "source": [
    "**Part C**: The winner of the tournament will take home \\$10,000 to use for a giant home aquarium for Stella the Octopus. Because the stakes are so high, Tony has decided to hire a famous Jedi consultant, Darth Ketelsen, to help him prepare for each duel. \n",
    "\n",
    "With Ketelsen's help, Tony's probability of winning any given match increases to $p = 0.7$. Ketelsen charges a fee of \\$90 per game, but as a testament to her confidence in her abilities, only charges Tony the \\$90 for games that he wins and _only if Tony wins the whole tournament_.  So, if Tony competes in a 9-duel tournament and wins, he will take home \\$10,000 _minus_ \\$450 for Darth Ketelsen's fees, for a total payout of \\$9,550.  What is the expected payout for a 9-duel series?   "
   ]
  },
  {
   "cell_type": "markdown",
   "metadata": {},
   "source": [
    "To solve the expected value, we must solve for the possible payouts and the probabilities of getting those payouts.  \n",
    "\n",
    "$$ E[X] = (\\text{Payout if Tony Wins})P(TonyWins) + (\\text{Payout if Tony Loses})P(TonyLoses)$$\n",
    "\n",
    "If Tony wins the tournament, then he won 5 duels under Ketelson's teachings and would win \\$9,550. If Tony loses the tournament, then he will not be charged anything because Ketelson only charges him if he wins. Therefor the payouts are \\$9,550 if he wins and \\$0 if he loses.  \n",
    "\n",
    "The probability that Tony wins the duel can be calculated with a negative binomial distribution with $p=0.7$ because of Tony's training. It is a negative binomial because if Tony wins the tournament, then we know he won the last duel. Because the tourament is a best-of-9, and we are assuming that Tony wins, to calculate the total probability of Tony winning, we must calculate the probability for rounds $n={5,6,7,8,9} depending on the number of round that Dan wins.\n",
    "\n",
    "$$P(TonyWin)  = \\sum_{k=0}^4 {5+k-1 \\choose 5-1}(0.7)^5(0.3)^k \\approx 0.9012$$\n",
    "\n",
    "Knowing the probability that Tony wins, it is easy to calculate the probability that Tony looses because it is the compliment.  \n",
    "\n",
    "$$P(TonyLose) = 1 - P(TonyWin) = 1 - 0.9012 \\approx 0.0988$$\n",
    "\n",
    "Plugging these values back in, we can calculate the expected value of the payout:\n",
    "\n",
    "$$\\boxed { E[X] = (9550)(0.9012) + (0)(0.0988) = 8606.46 \\text{ dollars}} $$"
   ]
  },
  {
   "cell_type": "code",
   "execution_count": 23,
   "metadata": {},
   "outputs": [
    {
     "name": "stdout",
     "output_type": "stream",
     "text": [
      "0.9011913399999996\n"
     ]
    }
   ],
   "source": [
    "# Probability that Tony wins the tournament\n",
    "sum = 0\n",
    "for i in range(5):\n",
    "    sum += math.factorial(4+i) / math.factorial(i) / math.factorial(4) * (0.7)**5 * (0.3)**i # Negative Binomial\n",
    "print(sum)"
   ]
  },
  {
   "cell_type": "markdown",
   "metadata": {},
   "source": [
    "**Part D**: This year the Jedi Knight Lightsaber-on-Lightsaber Association (the JKLOL Assoc) is implementing an experimental rule: Since Tony is rumored to be the stronger duelist, he gets to _choose_ the length of the championship tournament! Specifically, he can choose the series to be any odd length, from $N=3, 5, 7 \\dots, 99$ duels long. Assuming that Tony continues to use the service of Darth Ketelsen, and considering the fact that Tony has a better-than-even chance of winning each duel, explain the trade-offs between choosing a short series vs. a long series in terms of Expected Payout. "
   ]
  },
  {
   "cell_type": "markdown",
   "metadata": {},
   "source": [
    "The more duels Tony decides to do, the greater the chance of him winning but the more money he will be paying to Darth Ketelsen. For example, if Tony chooses a best-of-3, the probability that he wins is $0.784$ but he will only spend \\$180 on training, so he will keep \\$9,820 of the winnings. On the other side, If Tony chooses a best-of-99, then he has a $0.99998$ probability of winning, but will spend \\$4,500 on training, so will only walk away with \\$5,500."
   ]
  },
  {
   "cell_type": "markdown",
   "metadata": {},
   "source": [
    "**Part E**: Write a function `optimal_series` that takes in $p$, the probability that Tony wins an individual duel, then computes the Expected Payout for each series of length $N=3, 5, 7, \\ldots 99$ and returns the optimal series length.  In addition to returning the optimal series length, your function should also produce a plot of Expected Payout vs Series Length. You may write any additional helper functions that you like, but you should not change the API for the function optimal_series. "
   ]
  },
  {
   "cell_type": "code",
   "execution_count": 24,
   "metadata": {
    "collapsed": true
   },
   "outputs": [],
   "source": [
    "def optimal_series(p):\n",
    "    duels = [i for i in range(3, 100, 2)]           # Create list N = 3, 5, ..., 99\n",
    "    EX = 0                                          # Temporary variable for expected value\n",
    "    EXs = np.zeros(len(duels))\n",
    "    EXindex = 0\n",
    "    optimal_series_length = 0\n",
    "    for i in duels:                                 # Iterate through all duels to find the most optimal expected value\n",
    "        probTonyWin = TonyWins(i, p)                # Calc the prob that Tony wins with helper function bellow\n",
    "        probTonyLose = 1 - probTonyWin              # Complement of the prob that Tony wins\n",
    "        payoutTonyWin = 10000 - (90*math.ceil(i/2)) # Calculate Ketelsen's pay from the number of Tony wins\n",
    "        payoutTonyLose = 0\n",
    "        expectedValue = probTonyWin*payoutTonyWin + probTonyLose*payoutTonyLose\n",
    "        if expectedValue > EX:                      # If calculated expected value is greater than the temp variable\n",
    "            EX = expectedValue                      # Set to temp variable\n",
    "            optimal_series_length = i               # Determine the # of duels that occured for that new expected value\n",
    "        EXs[EXindex] = expectedValue                # Add stuff to an array to plot all the expected values\n",
    "        EXindex += 1\n",
    "    plot_optimal_series(EXs, duels)\n",
    "    return optimal_series_length"
   ]
  },
  {
   "cell_type": "code",
   "execution_count": 25,
   "metadata": {
    "collapsed": true
   },
   "outputs": [],
   "source": [
    "# Find the probability that Tony Wins the tourament, given the best-of-number\n",
    "def TonyWins(n, p): # Is a negative binomial, so need parameters for number of trials and prob of success\n",
    "    wins = math.ceil(n/2) # Need the number of wins to win the tournament, which is the first value greater than half\n",
    "    sum  = 0\n",
    "    for i in range(wins): # Calculate the CDF for negative binomial, so finding P(x <= wins)\n",
    "        sum += math.factorial(wins-1+i) / math.factorial(i) / math.factorial(wins-1) * (p**wins) * ((1-p)**i)\n",
    "    return sum"
   ]
  },
  {
   "cell_type": "code",
   "execution_count": 26,
   "metadata": {
    "collapsed": true
   },
   "outputs": [],
   "source": [
    "# Plotting all the Cat's Pajamas\n",
    "def plot_optimal_series(expectations, xaxis):\n",
    "    fig,ax = plt.subplots(1,1,figsize = (12,8))\n",
    "    ax.bar(x = xaxis,\n",
    "           height = expectations,\n",
    "           color = \"dodgerblue\")\n",
    "    ax.set_title(\"The Expected Payouts Based on Number of Duels\")\n",
    "    ax.set_xlabel(\"The Number of Duels\")\n",
    "    ax.set_ylabel(\"Expected Payout in Dollars\")\n",
    "    return"
   ]
  },
  {
   "cell_type": "code",
   "execution_count": 27,
   "metadata": {},
   "outputs": [
    {
     "name": "stdout",
     "output_type": "stream",
     "text": [
      "Tony should choose to do 17 duels to get the optimal expected payout.\n"
     ]
    },
    {
     "data": {
      "image/png": "[encoded data removed]",
      "text/plain": [
       "<matplotlib.figure.Figure at 0x20455b61668>"
      ]
     },
     "metadata": {},
     "output_type": "display_data"
    }
   ],
   "source": [
    "print(\"Tony should choose to do {} duels to get the optimal expected payout.\".format(optimal_series(0.7)))"
   ]
  },
  {
   "cell_type": "markdown",
   "metadata": {},
   "source": [
    "### [20 points] Problem 5\n",
    "\n",
    "Cement your superior stochastic simulation skills by solving some straightforward simulation scenarios."
   ]
  },
  {
   "cell_type": "markdown",
   "metadata": {},
   "source": [
    "**Part A**: Using a stochastic simulation, compute the probability that, from a shuffled standard deck of cards, two cards are sequentially chosen which have either identical value or _adjacent_ value. You may let Aces be high or low, but not both."
   ]
  },
  {
   "cell_type": "code",
   "execution_count": 28,
   "metadata": {
    "collapsed": true
   },
   "outputs": [],
   "source": [
    "# Create the deck\n",
    "# Only need to care about the value of the card, not the suit, so will not take that into account.\n",
    "def CreateDeck():\n",
    "    deck = []\n",
    "    for i in range(0, 400, 100): # For each suit, will be the hundreds digit to differentiate b/n cards.\n",
    "        for j in range(1,14): # There are 13 different valued cards. Ace = 1\n",
    "            deck.append(i+j)\n",
    "    return deck"
   ]
  },
  {
   "cell_type": "code",
   "execution_count": 29,
   "metadata": {
    "collapsed": true
   },
   "outputs": [],
   "source": [
    "def CompareCards(sims):\n",
    "    fullDeck = CreateDeck()\n",
    "    totalSimilar = 0\n",
    "    for i in range(sims):\n",
    "        deck = fullDeck.copy()         # deck is reassigned to the full 52 cards\n",
    "        card1 = np.random.choice(deck) # Pick the first card\n",
    "        deck.remove(card1)             # Remove that card from the deck\n",
    "        card2 = np.random.choice(deck) # Pick the second card\n",
    "        difference = (card1 % 100) - (card2 % 100) # Find the difference between the values of the two cards\n",
    "        if (difference <= 1 and difference >= -1): # If the same or adjacent\n",
    "            totalSimilar += 1                      # Increase the adjacency counter\n",
    "    return totalSimilar / sims # To returns the probability, return the number of adjacent events over the total events"
   ]
  },
  {
   "cell_type": "code",
   "execution_count": 30,
   "metadata": {},
   "outputs": [
    {
     "name": "stdout",
     "output_type": "stream",
     "text": [
      "The probability that the two cards are the same value or adjacent is 0.2057.\n"
     ]
    }
   ],
   "source": [
    "print(\"The probability that the two cards are the same value or adjacent is {:0.4f}.\".format(CompareCards(50000)))"
   ]
  },
  {
   "cell_type": "markdown",
   "metadata": {},
   "source": [
    "**Part B**: Using a stochastic simulation, compute the probability that, from a shuffled standard deck of cards, three cards are sequentially chosen which form a run, e.g. 4-5-6 or 9-10-J. (The cards do not need to be drawn in order, like 4,5,6... any order is fine, like 6,4,5.) You may let Aces be high or low, but not both."
   ]
  },
  {
   "cell_type": "code",
   "execution_count": 31,
   "metadata": {
    "collapsed": true
   },
   "outputs": [],
   "source": [
    "def FindRun(sims):\n",
    "    fullDeck = CreateDeck()\n",
    "    totalRuns = 0\n",
    "    for i in range(sims):\n",
    "        deck = fullDeck.copy()\n",
    "        card1 = np.random.choice(deck)     # Chose the first card\n",
    "        deck.remove(card1)                 # Remove that card from the deck\n",
    "        card2 = np.random.choice(deck)     # Choose the second card\n",
    "        deck.remove(card2)\n",
    "        card3 = np.random.choice(deck)     # Choose the third card\n",
    "        cards = [card1 % 100, card2 % 100, card3 % 100]    # \n",
    "        cards.sort()\n",
    "        if ((cards[1] - cards[0] == 1) and (cards[2] - cards[1] == 1)):\n",
    "            totalRuns += 1\n",
    "    return totalRuns / sims"
   ]
  },
  {
   "cell_type": "code",
   "execution_count": 32,
   "metadata": {},
   "outputs": [
    {
     "name": "stdout",
     "output_type": "stream",
     "text": [
      "The probability that 3 random cards form a run is 0.0320.\n"
     ]
    }
   ],
   "source": [
    "print(\"The probability that 3 random cards form a run is {:0.4f}.\".format(FindRun(50000)))"
   ]
  },
  {
   "cell_type": "markdown",
   "metadata": {},
   "source": [
    "**Part C**: When flipping over cards, sequentially, from a randomly shuffled deck, what is the probability that the third Ace will be revealed between flips 16 and 24, inclusively?"
   ]
  },
  {
   "cell_type": "code",
   "execution_count": 33,
   "metadata": {
    "collapsed": true
   },
   "outputs": [],
   "source": [
    "def FindThirdAce(sims):\n",
    "    fullDeck = CreateDeck()\n",
    "    aces = 0\n",
    "    totalThirdAces = 0\n",
    "    for i in range(sims):\n",
    "        deck = fullDeck.copy() # Reset variables\n",
    "        aces = 0\n",
    "        for j in range(15): # Perform 15 random pulls. Count the number of aces.\n",
    "            card = np.random.choice(deck)\n",
    "            deck.remove(card)\n",
    "            card = card % 100\n",
    "            if card == 1: # Cound the number of aces that occur in first section\n",
    "                aces += 1\n",
    "        if aces >= 3: # If there has already been 3 aces, then can not be in flips 16-24, so dont complete loop\n",
    "            continue\n",
    "        for k in range(9): # Perform 8 more pulls and see if the third ace is there.\n",
    "            card = np.random.choice(deck)\n",
    "            deck.remove(card) # Remove the card from the deck\n",
    "            card = card % 100\n",
    "            if card == 1:  # Check if the card is an ace\n",
    "                aces += 1\n",
    "            if aces == 3:  # See if three aces have been revealed\n",
    "                totalThirdAces += 1 # Increment the counter of third aces seen in 16-24.\n",
    "                break      # Don't need to continue the loop\n",
    "    return totalThirdAces / sims # Return the probability"
   ]
  },
  {
   "cell_type": "code",
   "execution_count": 34,
   "metadata": {},
   "outputs": [
    {
     "name": "stdout",
     "output_type": "stream",
     "text": [
      "The probability of finding the third ace between flips 16 and 24 is 0.1828.\n"
     ]
    }
   ],
   "source": [
    "print(\"The probability of finding the third ace between flips 16 and 24 is {:0.4f}.\".format(FindThirdAce(50000)))"
   ]
  },
  {
   "cell_type": "markdown",
   "metadata": {},
   "source": [
    "**Part D**: Using a stochastic simulation, determine the probability mass function for: the probability that the first card drawn is an $X$, given that the card was part of a 3-card sequence (as in Part B). Express your PMF as a bar graph. Explain why it has the shape that it has."
   ]
  },
  {
   "cell_type": "code",
   "execution_count": 137,
   "metadata": {
    "collapsed": true
   },
   "outputs": [],
   "source": [
    "# P(X = k | run) = P(run | X)P(X) / P(run)    \n",
    "def pmf(sims):\n",
    "    probs = np.zeros(13)    # Initialize the array of probabilities\n",
    "    probIndex = 0\n",
    "    probX = 1/13            # P(X)\n",
    "    probRun = FindRun(sims) # P(run)\n",
    "    runGivenX = ProbRunGivenX(sims)  # array of P(run | X) for x = {1, 2, ..., 13}\n",
    "    for i in range(1,14):   # For each card, so we can find the prob for each card\n",
    "        probs[i-1] = runGivenX[i-1] * probX / probRun   # Calculate the prob of that card forming a run.\n",
    "#     print(np.sum(probs))\n",
    "    pmfPlot(probs)"
   ]
  },
  {
   "cell_type": "code",
   "execution_count": 138,
   "metadata": {
    "collapsed": true
   },
   "outputs": [],
   "source": [
    "# Probability that you get a run given first card is x, P(run | x)\n",
    "def ProbRunGivenX(sims):\n",
    "    run = np.zeros(13)\n",
    "    fullDeck = CreateDeck()\n",
    "    for i in range(sims):\n",
    "        for i in range(1,14):\n",
    "            deck = fullDeck.copy()\n",
    "            deck.remove(i)\n",
    "            card2 = np.random.choice(deck)    # Pull second card\n",
    "            deck.remove(card2)\n",
    "            card3 = np.random.choice(deck)    # Pull third card\n",
    "            cards = [i, card2 % 100, card3 % 100]\n",
    "            cards.sort()\n",
    "            if ((cards[1] - cards[0] == 1) and (cards[2] - cards[1] == 1)): # See if they form a run\n",
    "                run[i-1] += 1     # If so, increase the number of runs of that first number by 1\n",
    "#     print(run)\n",
    "#     print(run/sims)\n",
    "    return(run/sims)"
   ]
  },
  {
   "cell_type": "code",
   "execution_count": 139,
   "metadata": {
    "collapsed": true
   },
   "outputs": [],
   "source": [
    "def pmfPlot(probs):\n",
    "    xaxis = [i for i in range(1,14)]\n",
    "    fig,ax = plt.subplots(1,1, figsize = (10,6))\n",
    "    \n",
    "    ax.bar(x = xaxis,\n",
    "           height = probs)\n",
    "    ax.set_title(\"The PDF of Each Value of Card Given it is in a Run\")\n",
    "    ax.set_xlabel(\"The Value of the Card\")\n",
    "    ax.set_ylabel(\"Probability\")"
   ]
  },
  {
   "cell_type": "code",
   "execution_count": 140,
   "metadata": {},
   "outputs": [
    {
     "data": {
      "image/png": "[encoded data removed]",
      "text/plain": [
       "<matplotlib.figure.Figure at 0x20458146d30>"
      ]
     },
     "metadata": {},
     "output_type": "display_data"
    }
   ],
   "source": [
    "pmf(50000);"
   ]
  },
  {
   "cell_type": "markdown",
   "metadata": {},
   "source": [
    "The shape of the plot makes sense because the cards with values 3 - 11 can form runs in three different ways. Given the first card has value k, a run can from if:\n",
    "\n",
    "1. The two other cards have value k-1 and k-2.\n",
    "1. The two other cards have value k-1 and k+1.\n",
    "1. The two other cards have value k+1 and k+2.\n",
    "\n",
    "If the first card is an ace with the value 1 then it can only form a run in one way, by pulling a 2 and a 3. Because of this, the probability that 1 has a run is roughly $1/3$ the chance that a card that has all three cases has a run. This is also true for Kings, as they can only get a run by pulling a Queen and a Jack. The 2 and Queen cards have 2 of the 3 ways to form a run, so havae $2/3$ the prob as normal. This explains why all the center cards have the same probability of getting a run while the cards on the edges has a smaller chance."
   ]
  }
 ],
 "metadata": {
  "kernelspec": {
   "display_name": "Python 3",
   "language": "python",
   "name": "python3"
  },
  "language_info": {
   "codemirror_mode": {
    "name": "ipython",
    "version": 3
   },
   "file_extension": ".py",
   "mimetype": "text/x-python",
   "name": "python",
   "nbconvert_exporter": "python",
   "pygments_lexer": "ipython3",
   "version": "3.6.3"
  }
 },
 "nbformat": 4,
 "nbformat_minor": 2
}
