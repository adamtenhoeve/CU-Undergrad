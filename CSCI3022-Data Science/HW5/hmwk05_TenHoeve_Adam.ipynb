{
 "cells": [
  {
   "cell_type": "markdown",
   "metadata": {},
   "source": [
    "<a id='top'></a>\n",
    "\n",
    "# Homework 5: Confidence intervals and other things\n",
    "***\n",
    "\n",
    "**Name**: Adam Ten Hoeve\n",
    "\n",
    "***\n",
    "\n",
    "This assignment is due on Moodle by **5 PM on Friday November 9**. Your solutions to theoretical questions should be done in Markdown/MathJax directly below the associated question.  Your solutions to computational questions should include any specified Python code and results as well as written commentary on your conclusions.  Remember that you are encouraged to discuss the problems with your instructors and classmates, but **you must write all code and solutions on your own**.  \n",
    "\n",
    "**NOTES**: \n",
    "\n",
    "- Do **NOT** load or use any Python packages that are not available in Anaconda 3.6. \n",
    "- Some problems with code may be autograded.  If we provide a function API **do not** change it.  If we do not provide a function API then you're free to structure your code however you like. \n",
    "- Because you can technically evaluate notebook cells is a non-linear order, it's a good idea to do Cell $\\rightarrow$ Run All as a check before submitting your solutions.  That way if we need to run your code you will know that it will work as expected. \n",
    "- Submit only this Jupyter notebook to Moodle.  Do not compress it using tar, rar, zip, etc. \n",
    "- This should go without saying, but... For any question that asks you to calculate something, you **must show all work to receive credit**. Sparse or nonexistent work will receive sparse or nonexistent credit.\n",
    "\n",
    "---\n",
    "**Shortcuts:**  [Problem 1](#p1) | [Problem 2](#p2) | [Problem 3](#p3) | [Problem 4](#p4)\n",
    "\n",
    "---"
   ]
  },
  {
   "cell_type": "code",
   "execution_count": 2,
   "metadata": {
    "collapsed": true,
    "scrolled": true
   },
   "outputs": [],
   "source": [
    "import numpy as np\n",
    "import math\n",
    "import matplotlib.pyplot as plt\n",
    "import pandas as pd\n",
    "import scipy.stats as stats\n",
    "%matplotlib inline"
   ]
  },
  {
   "cell_type": "markdown",
   "metadata": {},
   "source": [
    "---\n",
    "\n",
    "<a id='p1'></a>\n",
    "[Back to top](#top)\n",
    "\n",
    "### [30 points] Problem 1 - Sea-level rise, schmee-level rise!\n",
    "\n",
    "You have been contacted by the local government of Key West, Florida, to assess whether there is statistical evidence for sea-level rise in the area. You obtain from the University of Hawaii Sea Level Center's [gigantic repository of sea-level data](https://uhslc.soest.hawaii.edu/data/?rq) the daily mean sea levels file [linked here](https://piazza.com/class_profile/get_resource/jhaqogsdelf76h/jixzm0rl5dp6y4) and below.\n",
    "\n",
    "In this problem, you will:\n",
    "1. practice calculating confidence intervals, \n",
    "1. practice wrangling a real-life data set into a form where you can actually compute these confidence intervals, because life will rarely be so kind as to simply hand you a nicely packaged and cleaned set of data, and\n",
    "1. save Key West from a watery fate?"
   ]
  },
  {
   "cell_type": "code",
   "execution_count": 3,
   "metadata": {},
   "outputs": [
    {
     "data": {
      "text/html": [
       "<div>\n",
       "<style>\n",
       "    .dataframe thead tr:only-child th {\n",
       "        text-align: right;\n",
       "    }\n",
       "\n",
       "    .dataframe thead th {\n",
       "        text-align: left;\n",
       "    }\n",
       "\n",
       "    .dataframe tbody tr th {\n",
       "        vertical-align: top;\n",
       "    }\n",
       "</style>\n",
       "<table border=\"1\" class=\"dataframe\">\n",
       "  <thead>\n",
       "    <tr style=\"text-align: right;\">\n",
       "      <th></th>\n",
       "      <th>Year</th>\n",
       "      <th>Month</th>\n",
       "      <th>Day</th>\n",
       "      <th>SL</th>\n",
       "    </tr>\n",
       "  </thead>\n",
       "  <tbody>\n",
       "    <tr>\n",
       "      <th>0</th>\n",
       "      <td>1913</td>\n",
       "      <td>1</td>\n",
       "      <td>20</td>\n",
       "      <td>1453</td>\n",
       "    </tr>\n",
       "    <tr>\n",
       "      <th>1</th>\n",
       "      <td>1913</td>\n",
       "      <td>1</td>\n",
       "      <td>21</td>\n",
       "      <td>1439</td>\n",
       "    </tr>\n",
       "    <tr>\n",
       "      <th>2</th>\n",
       "      <td>1913</td>\n",
       "      <td>1</td>\n",
       "      <td>22</td>\n",
       "      <td>1444</td>\n",
       "    </tr>\n",
       "    <tr>\n",
       "      <th>3</th>\n",
       "      <td>1913</td>\n",
       "      <td>1</td>\n",
       "      <td>23</td>\n",
       "      <td>1489</td>\n",
       "    </tr>\n",
       "    <tr>\n",
       "      <th>4</th>\n",
       "      <td>1913</td>\n",
       "      <td>1</td>\n",
       "      <td>24</td>\n",
       "      <td>1474</td>\n",
       "    </tr>\n",
       "  </tbody>\n",
       "</table>\n",
       "</div>"
      ],
      "text/plain": [
       "   Year  Month  Day    SL\n",
       "0  1913      1   20  1453\n",
       "1  1913      1   21  1439\n",
       "2  1913      1   22  1444\n",
       "3  1913      1   23  1489\n",
       "4  1913      1   24  1474"
      ]
     },
     "execution_count": 3,
     "metadata": {},
     "output_type": "execute_result"
    }
   ],
   "source": [
    "# Local and web paths to the data; pick which works for you.\n",
    "local_path = \"data/sealevel_keywest.csv\"\n",
    "web_path   = \"https://raw.githubusercontent.com/dblarremore/csci3022/master/homework/homework5/data/sealevel_keywest.csv\"\n",
    "file_path  = local_path\n",
    "\n",
    "dfSL = pd.read_csv(file_path, header=None)\n",
    "dfSL.rename(columns={0 : 'Year', 1 : 'Month', 2 : 'Day', 3 : 'SL'}, inplace=True)\n",
    "dfSL.head()\n",
    "# dfSL.loc[dfSL[\"Day\"] == 1]"
   ]
  },
  {
   "cell_type": "markdown",
   "metadata": {},
   "source": [
    "**Part A:**  Write a function `clean_data` to:\n",
    "1. take in a single argument of a raw sea level data frame (e.g., `dfSL` above),\n",
    "2. compute the fill-value used to replace missing sea level (SL) data (**not** hard-coded!),\n",
    "3. use the Pandas `DataFrame.dropna` method to remove all missing rows of data, \n",
    "4. select only the data point on the second day of each month, and\n",
    "4. return a cleaned Pandas data frame.\n",
    "\n",
    "Use your shiny new function to clean the `dfSL` data frame and save the results in a new data frame.\n",
    "\n",
    "There is a very specific reason to sample only one daily data point per month. We will talk about it later."
   ]
  },
  {
   "cell_type": "code",
   "execution_count": 4,
   "metadata": {
    "collapsed": true
   },
   "outputs": [],
   "source": [
    "def clean_data(df):\n",
    "    \n",
    "    # your code goes here!\n",
    "    # Gets the minimum value, which is the fill value.\n",
    "    fillValue = df.SL.min()\n",
    "    \n",
    "    # Get Rid of the min values\n",
    "    dfClean = df.copy()\n",
    "    dfClean.SL.replace(to_replace = fillValue, value = np.nan, inplace = True)\n",
    "    dfClean.dropna(inplace = True) # Inplace doesn't make a copy, it alters the existing df\n",
    "    \n",
    "    # Return the second day of each month\n",
    "    dfClean = dfClean.loc[dfClean[\"Day\"] == 2]\n",
    "    \n",
    "    return dfClean"
   ]
  },
  {
   "cell_type": "code",
   "execution_count": 5,
   "metadata": {},
   "outputs": [
    {
     "data": {
      "text/html": [
       "<div>\n",
       "<style>\n",
       "    .dataframe thead tr:only-child th {\n",
       "        text-align: right;\n",
       "    }\n",
       "\n",
       "    .dataframe thead th {\n",
       "        text-align: left;\n",
       "    }\n",
       "\n",
       "    .dataframe tbody tr th {\n",
       "        vertical-align: top;\n",
       "    }\n",
       "</style>\n",
       "<table border=\"1\" class=\"dataframe\">\n",
       "  <thead>\n",
       "    <tr style=\"text-align: right;\">\n",
       "      <th></th>\n",
       "      <th>Year</th>\n",
       "      <th>Month</th>\n",
       "      <th>Day</th>\n",
       "      <th>SL</th>\n",
       "    </tr>\n",
       "  </thead>\n",
       "  <tbody>\n",
       "    <tr>\n",
       "      <th>13</th>\n",
       "      <td>1913</td>\n",
       "      <td>2</td>\n",
       "      <td>2</td>\n",
       "      <td>1409.0</td>\n",
       "    </tr>\n",
       "    <tr>\n",
       "      <th>41</th>\n",
       "      <td>1913</td>\n",
       "      <td>3</td>\n",
       "      <td>2</td>\n",
       "      <td>1397.0</td>\n",
       "    </tr>\n",
       "    <tr>\n",
       "      <th>72</th>\n",
       "      <td>1913</td>\n",
       "      <td>4</td>\n",
       "      <td>2</td>\n",
       "      <td>1402.0</td>\n",
       "    </tr>\n",
       "    <tr>\n",
       "      <th>102</th>\n",
       "      <td>1913</td>\n",
       "      <td>5</td>\n",
       "      <td>2</td>\n",
       "      <td>1450.0</td>\n",
       "    </tr>\n",
       "    <tr>\n",
       "      <th>133</th>\n",
       "      <td>1913</td>\n",
       "      <td>6</td>\n",
       "      <td>2</td>\n",
       "      <td>1490.0</td>\n",
       "    </tr>\n",
       "  </tbody>\n",
       "</table>\n",
       "</div>"
      ],
      "text/plain": [
       "     Year  Month  Day      SL\n",
       "13   1913      2    2  1409.0\n",
       "41   1913      3    2  1397.0\n",
       "72   1913      4    2  1402.0\n",
       "102  1913      5    2  1450.0\n",
       "133  1913      6    2  1490.0"
      ]
     },
     "execution_count": 5,
     "metadata": {},
     "output_type": "execute_result"
    }
   ],
   "source": [
    "dfClean = clean_data(dfSL)\n",
    "dfClean.head()"
   ]
  },
  {
   "cell_type": "markdown",
   "metadata": {},
   "source": [
    "**Part B:**  Plot the cleaned time series of sea levels. Be sure to label your axes, including units. The UHSLC data portal includes a link to the metadata accompanying our data set; if you are not sure about units, that would be a good place to start looking. For the $x$-axis, place the $x$ tick marks on January 2 of each year that is divisible by 10 (i.e., 1920, 1930, ...), and label with that year. You may need to do additional processing in order to grab these indices. \n",
    "\n",
    "**Bonus challenge (0 points):**  Why do we choose to work with the second day of each month instead of the first?  You may need to look at the original data set to answer this."
   ]
  },
  {
   "cell_type": "code",
   "execution_count": 6,
   "metadata": {},
   "outputs": [
    {
     "data": {
      "image/png": "[encoded data removed]",
      "text/plain": [
       "<matplotlib.figure.Figure at 0x272c7b89198>"
      ]
     },
     "metadata": {},
     "output_type": "display_data"
    }
   ],
   "source": [
    "fig,ax = plt.subplots(1,1,figsize = (10,6))\n",
    "\n",
    "index = dfClean.index[(dfClean[\"Month\"] == 1) & (dfClean[\"Year\"] % 10 == 0) & (dfClean[\"Day\"] == 2)]\n",
    "\n",
    "dfClean[\"SL\"].plot()\n",
    "\n",
    "# Where we put the ticks\n",
    "ax.set_xticks(index)\n",
    "\n",
    "# What we label the ticks\n",
    "ax.set_xticklabels(dfClean.loc[index, \"Year\"])\n",
    "\n",
    "ax.set_xlabel(\"Year\")\n",
    "ax.set_ylabel(\"Sea Level in Millimeters\")\n",
    "ax.set_title(\"Cleaned Data of Sea Levels Per Year\");"
   ]
  },
  {
   "cell_type": "markdown",
   "metadata": {},
   "source": [
    "**Part C:** Use your cleaned sea levels data frame to create two new Pandas data frames or series:\n",
    "1. one object to contain the sea levels between (and including) the years 1986 and 1995, and\n",
    "2. another object to contain the sea levels between (and including) the years 2006 and 2015.\n",
    "\n",
    "Then, create a single-panel figure that includes density histograms of each decade of sea levels. Be sure to label everything appropriately.\n",
    "\n",
    "Finally, based on the data in front of you, formulate and state a hypothesis about how the mean sea level in the decade 2006-2015 compares to the mean sea level in the decade 1986-1995."
   ]
  },
  {
   "cell_type": "code",
   "execution_count": 7,
   "metadata": {},
   "outputs": [
    {
     "data": {
      "image/png": "[encoded data removed]",
      "text/plain": [
       "<matplotlib.figure.Figure at 0x272c7735e80>"
      ]
     },
     "metadata": {},
     "output_type": "display_data"
    }
   ],
   "source": [
    "df1986 = dfClean.loc[(dfClean[\"Year\"] >= 1986) & (dfClean[\"Year\"] <= 1995)]\n",
    "df2006 = dfClean.loc[(dfClean[\"Year\"] >= 2006) & (dfClean[\"Year\"] <= 2015)]\n",
    "\n",
    "fig,ax = plt.subplots(1, 1, figsize = (10, 6))\n",
    "\n",
    "ax.hist(df1986.SL, density = True, alpha = 0.5, color = \"darkblue\", label = \"1986 to 1995\")\n",
    "ax.hist(df2006.SL, density = True, alpha = 0.5, color = \"firebrick\", label = \"2006 to 2015\")\n",
    "\n",
    "ax.set_xlabel(\"Sea Level in Millimeters\")\n",
    "ax.set_ylabel(\"Density\")\n",
    "ax.set_title(\"Density of Sea Levels\")\n",
    "ax.legend();"
   ]
  },
  {
   "cell_type": "markdown",
   "metadata": {},
   "source": [
    "From the figure above, we can see that the plot for 2006 to 2015 has a greater positive skew than the data from 1986 to 1995. Because of this, we can hypothesize that the mean from the 06_15 data is greater than the mean from the 86_95 data."
   ]
  },
  {
   "cell_type": "markdown",
   "metadata": {},
   "source": [
    "**Part D:** Compute a 99.9% confidence interval for each of (1) the mean sea level in the 1986-1995 decade ($\\mu_{1986-1995}$) and (2) the mean sea level in the 2006-2015 decade ($\\mu_{2006-2015}$).  You may use Python for arithmetic operations and executing the calculations, but the relevant steps/set-up should be displayed in Markdown/MathJax.\n",
    "\n",
    "Based on these two confidence intervals, do you think there is sufficient evidence to conclude that there is or is not a significant difference in the mean sea level between 1986-1995 and 2006-2015? Justify your answer. "
   ]
  },
  {
   "cell_type": "markdown",
   "metadata": {
    "collapsed": true
   },
   "source": [
    "We can solve the confidence interval using the equation:  $\\bar{x} \\pm z_{\\alpha/2}\\dfrac{\\sigma}{\\sqrt{n}}$  \n",
    "99.9% confidence means $z_\\alpha = 0.001$. $z_{\\alpha/2}= 0.0005 = 3.2905$\n",
    "\n",
    "For 1986-1995:  \n",
    "$1670.575 \\pm 3.2905*\\Big( \\dfrac{98.09}{\\sqrt{120}} \\Big) = [1641.1, 1700.0] $\n",
    "\n",
    "For 2006 - 2015:  \n",
    "$ 1720.7 \\pm 3.2905*\\Big( \\dfrac{109.4}{\\sqrt{118}} \\Big) = [1687.5, 1753.8] $\n",
    "\n",
    "The confidence intervals overlap so we can not conclude that there is significant statisitical evidence to support that there is a significant difference in means."
   ]
  },
  {
   "cell_type": "code",
   "execution_count": 8,
   "metadata": {},
   "outputs": [
    {
     "name": "stdout",
     "output_type": "stream",
     "text": [
      "z-0.005 is 3.2905267314919255\n",
      "The mean of df1986: 1670.575\n",
      "The Standard Deviation of df1986 is 98.09473843348242\n",
      "The number of samples of df1986 is 120\n",
      "The mean of df2006: 1720.677966101695\n",
      "The Standard Deviation of df2006 is 109.36301557439\n",
      "The number of samples of df2006 is 118\n",
      "CI for 1986: [1641.1090455116241, 1700.040954488376]\n",
      "CI for 2006: [1687.5499905823867, 1753.805941621003]\n"
     ]
    }
   ],
   "source": [
    "zAlpha = stats.norm.ppf(1-0.0005)\n",
    "mean1986 = np.mean(df1986.SL)\n",
    "std1986 = np.std(df1986.SL)\n",
    "n1986 = len(df1986)\n",
    "mean2006 = np.mean(df2006.SL)\n",
    "std2006 = np.std(df2006.SL)\n",
    "n2006 = len(df2006)\n",
    "\n",
    "lower1986 = mean1986 - (zAlpha * std1986 / math.sqrt(n1986))\n",
    "upper1986 = mean1986 + (zAlpha * std1986 / math.sqrt(n1986))\n",
    "\n",
    "lower2006 = mean2006 - (zAlpha * std2006 / math.sqrt(n2006))\n",
    "upper2006 = mean2006 + (zAlpha * std2006 / math.sqrt(n2006))\n",
    "\n",
    "print(\"z-0.005 is {}\".format(zAlpha))\n",
    "\n",
    "print(\"The mean of df1986: {}\".format(np.mean(mean1986)))\n",
    "print(\"The Standard Deviation of df1986 is {}\".format(std1986))\n",
    "print(\"The number of samples of df1986 is {}\".format(n1986))\n",
    "\n",
    "print(\"The mean of df2006: {}\".format(mean2006))\n",
    "print(\"The Standard Deviation of df2006 is {}\".format(std2006))\n",
    "print(\"The number of samples of df2006 is {}\".format(n2006))\n",
    "print(\"CI for 1986: [{}, {}]\".format(lower1986, upper1986))\n",
    "print(\"CI for 2006: [{}, {}]\".format(lower2006, upper2006))"
   ]
  },
  {
   "cell_type": "markdown",
   "metadata": {},
   "source": [
    "**Part E:**  Compute a 99.9% confidence interval for the ***difference in mean sea level*** between the 2006-2015 and the 1986-1995 decades ($\\mu_{2006-2015} - \\mu_{1986-1995}$. Based on this, make a conclusion regarding your hypothesis from **Part C**, and compare to what your results in **Part D** implied. You may use Python for arithmetic operations and executing the calculations, but the relevant steps/set-up should be displayed in Markdown/MathJax."
   ]
  },
  {
   "cell_type": "markdown",
   "metadata": {},
   "source": [
    "We can solve the Confidence Interval for the difference in means using the equations: $ \\mu_{06-15} - \\mu_{86-95} \\pm z_{\\alpha/2}\\sqrt{\\dfrac{\\sigma_1^2}{m}+\\dfrac{\\sigma_2^2}{n}} $.\n",
    "\n",
    "Using the numbers from above:\n",
    "\n",
    "$$ CI = 1720.7 - 1670.6 \\pm 3.29*\\sqrt{\\dfrac{109.4^2}{118} + \\dfrac{98.1^2}{120}} $$\n",
    "\n",
    "$$ CI = [5.7667, 94.4392] $$\n",
    "\n",
    "This confirms our hypothesis from **Part C** that the mean of the 2006-2015 sea levels are higher than the mean sea levels of 1986-1995 because the confidence interval of the difference in means is positive and does not contain zero. This is different from our inference from **Part D** that said there is not significant evidence to support the difference in means. Spooky!"
   ]
  },
  {
   "cell_type": "code",
   "execution_count": 9,
   "metadata": {},
   "outputs": [
    {
     "data": {
      "text/plain": [
       "[5.7666916086917297, 94.439240594697964]"
      ]
     },
     "execution_count": 9,
     "metadata": {},
     "output_type": "execute_result"
    }
   ],
   "source": [
    "lowerDiff = mean2006 - mean1986 - (zAlpha * math.sqrt((std2006**2/n2006)+(std1986**2/n1986)))\n",
    "upperDiff = mean2006 - mean1986 + (zAlpha * math.sqrt((std2006**2/n2006)+(std1986**2/n1986)))\n",
    "CIdiff = [lowerDiff, upperDiff]\n",
    "CIdiff"
   ]
  },
  {
   "cell_type": "markdown",
   "metadata": {},
   "source": [
    "**Part F:**  The confidence intervals from **Parts D** and **E** were derived using the Central Limit Theorem.  Which assumption of the Central Limit Theorem would likely be violated if we took more than one measurement per month to form our samples, and why?"
   ]
  },
  {
   "cell_type": "markdown",
   "metadata": {},
   "source": [
    "For us to use the Central Limit Theorem, we are assuming that all the data points are independent and identically distributed. If we were to take more measurement per moth then the likelyhood that the samples were independent would be decreased. For example, if we were to take two samples that were a day apart, then it is likely that the sea level of the second day depends on the sea level of the first day, so they wouldn't be independent."
   ]
  },
  {
   "cell_type": "markdown",
   "metadata": {},
   "source": [
    "---\n",
    "\n",
    "<a id='p2'></a>\n",
    "[Back to top](#top)\n",
    "\n",
    "### [25 points] Problem 2 - Quality of Red vs White Wine \n",
    "\n",
    "**Part A:** Load the data in [`winequalityred.csv`](https://piazza.com/class_profile/get_resource/jhaqogsdelf76h/jixzm1ebc6q6ye) and [`winequalitywhite.csv`](https://piazza.com/class_profile/get_resource/jhaqogsdelf76h/jixzm17x9pu6y9) into Pandas DataFrames.  They are available under Resources on Piazza, and linked here and below.  A description of this dataset can be found on [UC Irvine's Machine Learning Repository](https://archive.ics.uci.edu/ml/datasets/Wine+Quality). The quantity of interest for this problem is the quality of the wine.\n",
    "\n",
    "Are we justified in using the Central Limit Theorem in our analysis of estimates of the mean and proportions of the data?  Justify your response. "
   ]
  },
  {
   "cell_type": "code",
   "execution_count": 10,
   "metadata": {
    "collapsed": true
   },
   "outputs": [],
   "source": [
    "# read either local or web file version; pick whichever works for you\n",
    "local_file_white = \"data/winequality-white.csv\"\n",
    "local_file_red   = \"data/winequality-red.csv\"\n",
    "web_file_white = \"https://raw.githubusercontent.com/dblarremore/csci3022/master/homework/homework5/data/winequality-white.csv\"\n",
    "web_file_red   = \"https://raw.githubusercontent.com/dblarremore/csci3022/master/homework/homework5/data/winequality-red.csv\"\n",
    "\n",
    "dfRed   = pd.read_csv(local_file_red, delimiter=';')\n",
    "dfWhite = pd.read_csv(local_file_white, delimiter=';')"
   ]
  },
  {
   "cell_type": "markdown",
   "metadata": {
    "collapsed": true
   },
   "source": [
    "In order for the CLT to be applicable, there must be many samples (more than 30) and they must be iid. There are 1599 samples of red wine and 4898 samples of white wine, so both have enough samples. We do not know if the samples are iid so that will be an assumption we are making to perform calculations."
   ]
  },
  {
   "cell_type": "code",
   "execution_count": 11,
   "metadata": {},
   "outputs": [
    {
     "name": "stdout",
     "output_type": "stream",
     "text": [
      "1599\n",
      "4898\n"
     ]
    }
   ],
   "source": [
    "print(len(dfRed))\n",
    "print(len(dfWhite))"
   ]
  },
  {
   "cell_type": "markdown",
   "metadata": {},
   "source": [
    "**Part B:** Let $X$ be a random variable denoting the quality of a bottle of wine, and let $C$ be a random variable denoting its color (either red ($r$) or white ($w$)). For the remainder of this problem, we are concerned with probabilities such as \"If I buy a random bottle of red wine, what is the probability that its quality is at least a 7?\". We could write that probability as $P(X \\geq 7 \\mid C=r)$, for example, and consider it the ***proportion*** of the population of red wines that are at least a 7 in quality. Calculate and report estimates of $P(X \\geq 7 \\mid C=r)$ and $P(X \\geq 7 \\mid C=w)$.\n",
    "\n",
    "Obtain 95% confidence intervals for the proportion of red and white wines that are **at least** a 7 in quality (obtain one CI for each color).  Based on your results, if you are interested in buying many high quality bottles of wine but are buying totally at random, is one color a better bet than the other? Fully justify your answer.\n",
    "\n",
    "Calculations may be executed in Python, but you need to set up your work (*what* it is you are calculating) in Markdown/MathJax."
   ]
  },
  {
   "cell_type": "code",
   "execution_count": 12,
   "metadata": {},
   "outputs": [
    {
     "name": "stdout",
     "output_type": "stream",
     "text": [
      "The proportion of red wines with quality >= 7 is:  0.1357098186366479\n",
      "The number of samples of red wine is 1599\n",
      "The proportion of white wines with quality >= 7 is: 0.21641486320947326\n",
      "The number of samples of white wine is 4898\n",
      "Red confidence interval: [0.11892335230093068, 0.15249628497236514]\n",
      "White confidence Interval: [0.20488231343578847, 0.22794741298315804]\n"
     ]
    }
   ],
   "source": [
    "dfRedQED7 = dfRed.loc[dfRed[\"quality\"] >= 7]\n",
    "redGEQ7 = len(dfRedQED7)\n",
    "redTotal = len(dfRed)\n",
    "propRedGEQ7 = redGEQ7 / redTotal\n",
    "print(\"The proportion of red wines with quality >= 7 is: \", propRedGEQ7)\n",
    "print(\"The number of samples of red wine is\", redTotal)\n",
    "\n",
    "dfWhiteQED7 = dfWhite.loc[dfWhite[\"quality\"] >= 7]\n",
    "whiteGEQ7 = len(dfWhiteQED7)\n",
    "whiteTotal = len(dfWhite)\n",
    "propWhiteGEQ7 = whiteGEQ7 / whiteTotal\n",
    "print(\"The proportion of white wines with quality >= 7 is:\", propWhiteGEQ7)\n",
    "print(\"The number of samples of white wine is\", whiteTotal)\n",
    "\n",
    "zAlpha = stats.norm.ppf(1 - 0.025)\n",
    "\n",
    "redUpper = propRedGEQ7 + (zAlpha * math.sqrt(propRedGEQ7 * (1 - propRedGEQ7) / redTotal))\n",
    "redLower = propRedGEQ7 - (zAlpha * math.sqrt(propRedGEQ7 * (1 - propRedGEQ7) / redTotal))\n",
    "CIRed = [redLower, redUpper]\n",
    "print(\"Red confidence interval:\", CIRed)\n",
    "\n",
    "whiteUpper = propWhiteGEQ7 + (zAlpha * math.sqrt(propWhiteGEQ7 * (1 - propWhiteGEQ7) / whiteTotal))\n",
    "whiteLower = propWhiteGEQ7 - (zAlpha * math.sqrt(propWhiteGEQ7 * (1 - propWhiteGEQ7) / whiteTotal))\n",
    "CIWhite = [whiteLower, whiteUpper]\n",
    "print(\"White confidence Interval:\", CIWhite)"
   ]
  },
  {
   "cell_type": "markdown",
   "metadata": {},
   "source": [
    "The proporrtion of Red Wine with quality greater than or equal to seven is: $P(X \\geq 7 | C = r) = 0.1357$.  \n",
    "The proportion of White Wine with quality greater than or equal to seven is: $P(X \\geq 7 | C = w) = 0.2164$.\n",
    "\n",
    "We can calculate the CI for proportions using the equation: $ \\hat{p} \\pm z_{\\alpha/2} \\sqrt{\\dfrac{p(1-p)}{n}} $\n",
    "\n",
    "Red Wine:  \n",
    "$ CI_r = 0.1357 \\pm 1.96 * \\sqrt{\\dfrac{0.1357(1 - 0.1357)}{1599}} = [0.1189, 0.1525] $\n",
    "\n",
    "White Wine:  \n",
    "$ CI_w = 0.2164 \\pm 1.96 * \\sqrt{\\dfrac{0.2164(1 - 0.2164)}{4898}} = [0.2049, 0.2279] $\n",
    "\n",
    "From the confidence intervals above, we can see that the intervals do not do not overlap at the 95% confidence level so the proportion high quality white wines is greater than the proportion of high quality red wines. Therefor you should buy random white wines if you want more high quality bottles."
   ]
  },
  {
   "cell_type": "markdown",
   "metadata": {},
   "source": [
    "**Part C:** Now, as college students (and teachers), we might not be super concerned with buying a really high quality bottle of wine.  Let's focus instead on making sure we do *not* buy a really disgusting bottle of wine.  Calculate and report estimates of $P(X \\geq 5 \\mid C=r)$ and $P(X \\geq 5 \\mid C=w)$.\n",
    "\n",
    "Obtain 95% confidence intervals for the proportion of red and white wines that are **at least** a 5 in quality, that is, $P(X \\geq 5 \\mid C)$.  Based on your results - and what you saw in Problem 1 - if you are interested in buying bottles of wine that are at least a 5 in quality, but are again buying wine totally randomly, can you conclude that you are better off buying one color over the other? Fully justify your answer."
   ]
  },
  {
   "cell_type": "code",
   "execution_count": 13,
   "metadata": {},
   "outputs": [
    {
     "name": "stdout",
     "output_type": "stream",
     "text": [
      "The proportion of red wines with quatlity >= 5 is 0.9606003752345216\n",
      "The proportion of white wines with quality >= 5 is 0.9626378113515721\n",
      "Red confidence interval: [0.95106492337382564, 0.97013582709521751]\n",
      "White confidence Interval: [0.95732668891532136, 0.96794893378782287]\n"
     ]
    }
   ],
   "source": [
    "propRedGEQ5 = len(dfRed.loc[dfRed[\"quality\"] >= 5]) / redTotal\n",
    "print(\"The proportion of red wines with quatlity >= 5 is\", propRedGEQ5)\n",
    "\n",
    "propWhiteGEQ5 = len(dfWhite.loc[dfWhite[\"quality\"] >= 5]) / whiteTotal\n",
    "print(\"The proportion of white wines with quality >= 5 is\", propWhiteGEQ5)\n",
    "\n",
    "zAlpha = stats.norm.ppf(1 - 0.025)\n",
    "\n",
    "redUpper2 = propRedGEQ5 + (zAlpha * math.sqrt(propRedGEQ5 * (1 - propRedGEQ5) / redTotal))\n",
    "redLower2 = propRedGEQ5 - (zAlpha * math.sqrt(propRedGEQ5 * (1 - propRedGEQ5) / redTotal))\n",
    "CIRed2 = [redLower2, redUpper2]\n",
    "print(\"Red confidence interval:\", CIRed2)\n",
    "\n",
    "whiteUpper2 = propWhiteGEQ5 + (zAlpha * math.sqrt(propWhiteGEQ5 * (1 - propWhiteGEQ5) / whiteTotal))\n",
    "whiteLower2 = propWhiteGEQ5 - (zAlpha * math.sqrt(propWhiteGEQ5 * (1 - propWhiteGEQ5) / whiteTotal))\n",
    "CIWhite2 = [whiteLower2, whiteUpper2]\n",
    "print(\"White confidence Interval:\", CIWhite2)"
   ]
  },
  {
   "cell_type": "markdown",
   "metadata": {},
   "source": [
    "The proporrtion of Red Wine with quality greater than or equal to 5 is: $P(X \\geq 5 | C = r) = 0.9606$.  \n",
    "The proportion of White Wine with quality greater than or equal to 5 is: $P(X \\geq 5 | C = w) = 0.9626$.\n",
    "\n",
    "Using the same process from **Part B**, we can see that the CI's for a quality of at least 5 are:  \n",
    "Red Wine:  \n",
    "$ CI_r = 0.9606 \\pm 1.96 * \\sqrt{\\dfrac{0.9606(1 - 0.9606)}{1599}} = [0.9511, 0.9701] $\n",
    "\n",
    "White Wine:  \n",
    "$ CI_w = 0.9626 \\pm 1.96 * \\sqrt{\\dfrac{0.9626(1 - 0.9626)}{4898}} = [0.9573, 0.9679] $\n",
    "\n",
    "The confidence intervals at 95% confidence overlap, meaning that there is not a significant difference between their means. Based on these results, it does not matter which type of wine we buy if we are looking for one with quality >= 5."
   ]
  },
  {
   "cell_type": "markdown",
   "metadata": {},
   "source": [
    "**Part D:** Compute a 95% confidence interval for the difference in proportions of red and white wines that are at least a 5 in quality. \n",
    "\n",
    "Now, based on your results for this part, can you conclude that you are better off buying one color over the other? Fully justify your answer. How does your work here differ from your work in **Part C**?"
   ]
  },
  {
   "cell_type": "code",
   "execution_count": 14,
   "metadata": {},
   "outputs": [
    {
     "name": "stdout",
     "output_type": "stream",
     "text": [
      "[-0.012952236331461057, 0.0088773640973599782]\n"
     ]
    }
   ],
   "source": [
    "CIdiffLower = propRedGEQ5 - propWhiteGEQ5 - zAlpha * math.sqrt((propRedGEQ5 * (1 - propRedGEQ5) / redTotal) + (propWhiteGEQ5 * (1 - propWhiteGEQ5) / whiteTotal))\n",
    "CIdiffUpper = propRedGEQ5 - propWhiteGEQ5 + zAlpha * math.sqrt((propRedGEQ5 * (1 - propRedGEQ5) / redTotal) + (propWhiteGEQ5 * (1 - propWhiteGEQ5) / whiteTotal))\n",
    "CIdiff = [CIdiffLower, CIdiffUpper]\n",
    "print(CIdiff)"
   ]
  },
  {
   "cell_type": "markdown",
   "metadata": {},
   "source": [
    "We can calculate the CI using the equation: $ \\hat{p_r} - \\hat{p_w} \\pm z_{\\alpha/2} * \\sqrt{\\dfrac{p_r(1 - p_r)}{n_r} + \\dfrac{p_w(1 - p_w)}{n_w}} $\n",
    "\n",
    "$CI = 0.9606 - 0.9626 \\pm 1.96 * \\sqrt{\\dfrac{0.9606(1 - 0.9606)}{1599} + \\dfrac{0.9626(1 - 0.9626)}{4898}} \\approx [-0.0130, 0.0089]$\n",
    "\n",
    "Similar to **Part C**, we can conclude that one wine is not superior to the other because the confidence interval contains 0. If we are content with good enough wine, we can select either red or white and be confidence that the choice didn't matter."
   ]
  },
  {
   "cell_type": "markdown",
   "metadata": {},
   "source": [
    "**Part E:**  Now, we have many more observations of white wines than red. This certainly contributes to the width of the 95% confidence interval for the proportion of red wines that are at least a 5 in quality, which you should have found in **Part C** to be wider than the corresponding confidence interval for white wines. \n",
    "\n",
    "How large would our sample size of red wines need to be in order to guarantee that this 95% confidence interval width is at most 0.01? Note that we are hypothetically adding more samples, so we do not know the precise value of $\\hat{p}$."
   ]
  },
  {
   "cell_type": "code",
   "execution_count": 15,
   "metadata": {},
   "outputs": [
    {
     "data": {
      "text/plain": [
       "38415.99999999999"
      ]
     },
     "execution_count": 15,
     "metadata": {},
     "output_type": "execute_result"
    }
   ],
   "source": [
    "0.25 / (0.01 / 2 / 1.96)**2"
   ]
  },
  {
   "cell_type": "markdown",
   "metadata": {},
   "source": [
    "We can calculate the width of the red wine's confidence interval using the equation: $ width = 2*z_{\\alpha/2} * \\sqrt{\\dfrac{p_r(1-p_r)}{n_r}}$  \n",
    "\n",
    "Because we don't know what $p_r$ is, we must assume it is the worst case scenario which would be when $p_r = 1/2$ so $p_r(1-p_r) = 1/4$\n",
    "\n",
    "Solving for a width of at most 0.01, we can solve for $n_r$:\n",
    "\n",
    "$ width = 2 * 1.96 * \\sqrt{\\dfrac{0.25}{n_r}} \\leq 0.01 $\n",
    "\n",
    "$ \\sqrt{\\dfrac{0.25}{n_r}} \\leq 0.00255$\n",
    "\n",
    "$ \\boxed{ n \\geq 38415 }$\n",
    "\n",
    "We would need 38416 sampless for the red wine confidence interval of quality at least 5 to be 0.01 wide."
   ]
  },
  {
   "cell_type": "markdown",
   "metadata": {},
   "source": [
    "---\n",
    "\n",
    "<a id='p3'></a>\n",
    "[Back to top](#top)\n",
    "\n",
    "### [30 points] Problem 3 - Exploring Confidence Intervals \n",
    "\n",
    "The [Gumbel](https://en.wikipedia.org/wiki/Gumbel_distribution) distribution is one of several distributions frequently used to model environmental extremes (for example, extreme temperatures and sea levels).  It is also fairly asymmetric, and thus interesting for investigating confidence intervals.  It is implemented in scipy.stats as [gumbel_r](https://docs.scipy.org/doc/scipy/reference/generated/scipy.stats.gumbel_r.html), where the appendix \"\\_r\" denotes the right-skewed version of the Gumbel distribution (as opposed to the left-skewed)."
   ]
  },
  {
   "cell_type": "markdown",
   "metadata": {},
   "source": [
    "**Part A**: Complete the following code cell to plot a histogram of 100 realizations from the Gumbel distribution with parameters $\\mu=8$ and $\\beta=2$.  Be sure to leave this cell executed before turning in your assignment! Make your histogram grey with gold edges."
   ]
  },
  {
   "cell_type": "code",
   "execution_count": 16,
   "metadata": {},
   "outputs": [
    {
     "data": {
      "image/png": "[encoded data removed]",
      "text/plain": [
       "<matplotlib.figure.Figure at 0x272c7cd0e80>"
      ]
     },
     "metadata": {},
     "output_type": "display_data"
    }
   ],
   "source": [
    "mu = 8 # The loc of the data\n",
    "beta = 2 # The scale of the data\n",
    "n_sample = 1000\n",
    "\n",
    "# Gets the 100 random pulls from the Gumbel dist with loc mu and scale beta.\n",
    "gumbels = stats.gumbel_r.rvs(loc = mu, scale = beta, size = n_sample)\n",
    "fig,ax = plt.subplots(1, 1, figsize = (10, 6))\n",
    "\n",
    "ax.hist(gumbels, color = \"grey\", edgecolor = \"gold\")\n",
    "ax.set_xlabel(\"Simulated Gumbel Realization\")\n",
    "ax.set_ylabel(\"Frequency\")\n",
    "ax.set_title(\"Histogram of Frequency of 100 random Gumbel Trials\");"
   ]
  },
  {
   "cell_type": "markdown",
   "metadata": {},
   "source": [
    "**Part B:** Look up the analytical mean and variance of the Gumbel distribution with parameters $\\mu=8$ and $\\beta=2$ and calculate them here by hand.  Note that the Euler–Mascheroni constant can be accessed via `np.euler_gamma`. \n",
    "\n",
    "Use the empirical mean from your sample in **Part A**, and the true variance of the Gumbel distribution to compute by hand a 95% confidence interval for the mean."
   ]
  },
  {
   "cell_type": "markdown",
   "metadata": {},
   "source": [
    "The mean is given by: $\\bar{x} = \\mu + \\beta \\gamma $ where $\\gamma$ is the Euler-Mascheroni constant. Plugging in our numbers we get:\n",
    "$$ \\bar{x} = \\mu + \\beta \\gamma = 8 + 2 \\gamma \\approx 9.1544 $$\n",
    "\n",
    "The variance is given by: $$ \\sigma^2 = \\dfrac{\\pi^2}{6}*\\beta^2 = \\dfrac{\\pi^2}{6} * 2^2 \\approx 6.5797 $$\n",
    "\n",
    "Using the code below, we also know that the simulated mean is ~ 9.1. Now we can solve for a 95% CI using the equation: $ \\bar{x} \\pm z_{\\alpha/2} * \\dfrac{\\sigma}{\\sqrt{n}} $\n",
    "\n",
    "$$ CI: 9.1 \\pm 1.96 * \\dfrac{\\sqrt{6.57}}{\\sqrt{100}}$$ \n",
    "\n",
    "$$ CI: [8.8030, 9.8085] $$"
   ]
  },
  {
   "cell_type": "code",
   "execution_count": 17,
   "metadata": {},
   "outputs": [
    {
     "name": "stdout",
     "output_type": "stream",
     "text": [
      "The true mean of the distribution is 9.154431329803066\n",
      "The true variance of the distribution is 6.579736267392906\n",
      "The simulated mean from the sample is 9.200274986849777\n",
      "The 95% confidence inteval is [9.0412913841663016, 9.359258589533253]\n"
     ]
    }
   ],
   "source": [
    "trueMean = 8 + 2 * np.euler_gamma\n",
    "print(\"The true mean of the distribution is {}\".format(trueMean))\n",
    "trueVar = np.pi**2 / 6 * beta**2\n",
    "print(\"The true variance of the distribution is {}\".format(trueVar))\n",
    "sampleMean = np.mean(gumbels)\n",
    "print(\"The simulated mean from the sample is {}\".format(sampleMean))\n",
    "\n",
    "zAlpha = stats.norm.ppf(1 - 0.025)\n",
    "gumbelCIUpper = sampleMean + zAlpha * math.sqrt(trueVar / n_sample)\n",
    "gumbelCILower = sampleMean - zAlpha * math.sqrt(trueVar / n_sample)\n",
    "gumbelCI = [gumbelCILower, gumbelCIUpper]\n",
    "print(\"The 95% confidence inteval is {}\".format(gumbelCI))"
   ]
  },
  {
   "cell_type": "markdown",
   "metadata": {},
   "source": [
    "**Part C:  A theoretical interlude.** When Stella O'Flaherty (the famous octopus) ran her solution code for **Part B**, she obtained a 95% confidence interval of $[8.81, 9.82]$ for the mean of the $Gum(\\mu=8, \\beta=2)$ distribution. For each of the following, explain why or why not the situation described is correct, given the technical definition of a 95% confidence interval we went over in class.\n",
    "\n",
    "**(i)** If you had no other evidence regarding true mean of the $Gum(\\mu=8, \\beta=2)$ distribution, you could say there is a 95% chance that its true mean falls between 8.81 and 9.82.\n",
    "\n",
    "**(ii)** If a class of 100 students all construct 95% confidence intervals for the mean of the $Gum(\\mu=8, \\beta=2)$ distribution, then we expect about 95 of their CIs to contain the true mean, and about 5 of them to miss the true mean.\n",
    "\n",
    "**(iii)** There is a 95% probability that any given random variable sampled from $Gum(\\mu=8, \\beta=2)$ will be between 8.81 and 9.82."
   ]
  },
  {
   "cell_type": "markdown",
   "metadata": {},
   "source": [
    "1. False. The confidence interval does not describe how often a mean lies within a single interval but how often it lies within many intervals calculated with the same formula.\n",
    "1. True. This is the definition of confidence intervals. Over many calculation with a 95% significance would mean that 95% would contain the true mean and 5% would not.\n",
    "1. False. The confidence interval tells us about the true mean of the data, it doesn't tell us anything about individual values."
   ]
  },
  {
   "cell_type": "markdown",
   "metadata": {},
   "source": [
    "**Part D:** In this part you'll write a function to investigate the _coverage properties_ of a confidence interval for the mean of the Gumbel distribution. Complete the following function to randomly sample $m=500$ sample means with sample size $n=100$ for the Gumbel distribution with parameters $\\mu=8$ and $\\beta=2$.  For each random sample, compute the 66% confidence interval for the mean. Note that you actually know that the variance for the true population distribution is, $\\sigma^2$.  Your function should do two things: \n",
    "\n",
    "1. Report the proportion of confidence intervals that successfully cover the true mean of the distribution \n",
    "2. Make a plot of 50 randomly selected confidence intervals. Overlay the intervals on the line $y=\\textrm{True mean}$ (from **Part B**). Color confidence intervals black if they cover the true mean, and red if they don't.  \n",
    "\n",
    "Be sure to leave this cell executed before turning in your assignment!"
   ]
  },
  {
   "cell_type": "code",
   "execution_count": 18,
   "metadata": {
    "collapsed": true,
    "scrolled": false
   },
   "outputs": [],
   "source": [
    "def confidence_intervals(m=5000, n=100):\n",
    "    mu = 8\n",
    "    beta = 2\n",
    "    # Your code here\n",
    "    fig,ax = plt.subplots(1, 1, figsize = (10, 6))\n",
    "    \n",
    "    proportion_CIs_covering_mean = 0\n",
    "    zAlpha = stats.norm.ppf(1 - 0.17)\n",
    "    for i in range(m):\n",
    "        mean = np.mean(stats.gumbel_r.rvs(loc = mu, scale = beta, size = n))\n",
    "        lower = mean - zAlpha * math.sqrt(trueVar) / math.sqrt(n)\n",
    "        upper = mean + zAlpha * math.sqrt(trueVar) / math.sqrt(n)\n",
    "        # Plot the first 50 CI's\n",
    "        if i < 50:\n",
    "            if (trueMean > lower and trueMean < upper):\n",
    "                proportion_CIs_covering_mean += 1\n",
    "                ax.plot([i,i], [lower, upper], color = \"black\")\n",
    "            else:\n",
    "                ax.plot([i,i], [lower, upper], color = \"red\")\n",
    "        if(trueMean > lower and trueMean < upper):\n",
    "            proportion_CIs_covering_mean += 1\n",
    "    \n",
    "    # Plot the true mean\n",
    "    ax.plot([0,49], [trueMean, trueMean], color=\"steelblue\", ls='--', lw=3)\n",
    "    \n",
    "    # Set the titles and axes\n",
    "    ax.set_title(\"Plot of 50 Confidence Intervals for random pulls from the Gumbel Distribution\")\n",
    "        \n",
    "    proportion_CIs_covering_mean = proportion_CIs_covering_mean / m\n",
    "    print(\"proportion covering mean: {:.3f}\".format(proportion_CIs_covering_mean))"
   ]
  },
  {
   "cell_type": "code",
   "execution_count": 19,
   "metadata": {},
   "outputs": [
    {
     "name": "stdout",
     "output_type": "stream",
     "text": [
      "proportion covering mean: 0.663\n"
     ]
    },
    {
     "data": {
      "image/png": "[encoded data removed]",
      "text/plain": [
       "<matplotlib.figure.Figure at 0x272c7bcb2b0>"
      ]
     },
     "metadata": {},
     "output_type": "display_data"
    }
   ],
   "source": [
    "confidence_intervals()"
   ]
  },
  {
   "cell_type": "markdown",
   "metadata": {},
   "source": [
    "**Part E:** Does the proportion of confidence intervals that cover the true mean of the distribution agree with the theory described in class?  Justify your conclusion. "
   ]
  },
  {
   "cell_type": "markdown",
   "metadata": {},
   "source": [
    "The simulated proportion is ~66% which means that about 66 out of every 100 confidence intervals contain the true mean. This is the theoretical definition of a 66% confidence interval, so our simulated values do agree with the theoretical ones."
   ]
  },
  {
   "cell_type": "markdown",
   "metadata": {
    "collapsed": true
   },
   "source": [
    "---\n",
    "\n",
    "<a id='p4'></a>\n",
    "[Back to top](#top)\n",
    "\n",
    "### [15 points] Problem 4 - Freethrows\n",
    "***\n",
    "\n",
    "Keep your skills sharp by answering these straightforward questions."
   ]
  },
  {
   "cell_type": "markdown",
   "metadata": {},
   "source": [
    "**Part A**: <font color='green'>You are driving through the paint toward the basket when Steph Curry fouls you. You step to the line to sink this freethrow shot, which is delivered in the form of a CSCI3022 problem:</font>\n",
    "\n",
    "You have a shuffled deck of cards. It includes the usual 52 cards AND three special additional Octopus cards. You flip over the cards one by one, without replacing them in the deck. You count how many cards you'll have to flip until you flip over the second Octopus.  You repeat this many times. Simulate this process. Plot a histogram with binsize=1 of the outcomes, in lightgrey with white outline. Compute the mean, median, and mode for this dataset, indicate them on the plot too, using linstyles of green dashed, pink dotted, and black solid, respectively. Look up how to do a legend in MatPlotLib, and label your histogram, mean, median.\n",
    "***"
   ]
  },
  {
   "cell_type": "code",
   "execution_count": 20,
   "metadata": {
    "collapsed": true
   },
   "outputs": [],
   "source": [
    "def PullsUntilOctopuses(sims):\n",
    "    # Create a deck of 52 cards and add 3 octopus (100+) cards to it\n",
    "    deck = np.arange(1, 53)\n",
    "    deck = np.append(deck, 100)\n",
    "    deck = np.append(deck, 101)\n",
    "    deck = np.append(deck, 102)\n",
    "\n",
    "    totalPulls = np.zeros(sims)\n",
    "    for i in range(sims):\n",
    "        spareDeck = deck.copy()\n",
    "        pulls = 0\n",
    "        octopuses = 0\n",
    "        while octopuses != 2:\n",
    "            card = np.random.choice(spareDeck)\n",
    "            spareDeck = np.setdiff1d(spareDeck, card)\n",
    "            pulls += 1\n",
    "            if card - 100 >= 0:\n",
    "                octopuses += 1\n",
    "        totalPulls[i] = pulls\n",
    "    \n",
    "    # Find stat values\n",
    "    mean = np.mean(totalPulls)\n",
    "    median = np.median(totalPulls)\n",
    "    mode = stats.mode(totalPulls)   \n",
    "    \n",
    "    fig,ax = plt.subplots(1, 1, figsize = (10, 6))\n",
    "    \n",
    "    ax.hist(totalPulls, bins = 53, color = \"lightgrey\", edgecolor = \"white\")\n",
    "    # Plot the mean, median and mode lines\n",
    "    plt.axvline(mean, color = \"green\", ls=\"--\", linewidth = 2, label = \"mean\")\n",
    "    plt.axvline(median, color = \"hotpink\", ls=\":\", linewidth = 2, label = \"median\")\n",
    "    plt.axvline(mode[0], color = \"black\", label = \"mode\")\n",
    "    \n",
    "    ax.set_title(\"Histogram of the Number of Pulls of Cards before 2 Octopuses\")\n",
    "    ax.set_xlabel(\"Number of Pulls\")\n",
    "    ax.set_ylabel(\"Frequency\")\n",
    "    ax.legend()"
   ]
  },
  {
   "cell_type": "code",
   "execution_count": 21,
   "metadata": {},
   "outputs": [
    {
     "data": {
      "image/png": "[encoded data removed]",
      "text/plain": [
       "<matplotlib.figure.Figure at 0x272c7e62240>"
      ]
     },
     "metadata": {},
     "output_type": "display_data"
    }
   ],
   "source": [
    "PullsUntilOctopuses(100000)"
   ]
  },
  {
   "cell_type": "markdown",
   "metadata": {},
   "source": [
    "**Part B**: <font color='green'>You sink your first free throw and immediately get dap from your teammates, Oscar O'Flaherty and Octavia O'Flaherty. You prepare to take another shot, which—and you're not going to believe this—is another CSCI3022 problem:</font>\n",
    "\n",
    "In general, which is wider: a 95% confidence interval or a 99% confidence interval? How would you explain this to your younger sibling, who is not a statistician?\n",
    "***"
   ]
  },
  {
   "cell_type": "markdown",
   "metadata": {
    "collapsed": true
   },
   "source": [
    "In general, a 99% percent confidence interval will be wider because a confidence interval estimates the range that the true mean is in. If you want to be more confident that the interval contains the mean, then the interval will need to contain more values, which means it will be larger than the 95% as that interval contains fewer values. Also, in term of the equation $\\bar{x} \\pm z_{\\alpha/2} * \\frac{\\sigma}{\\sqrt{n}}$, by increasing the signficance, we increase the value of $z_{\\alpha}$ which has a direct relation to the increase of the size of the confidence interval. Therefor the 99% has a larger confidence interval than the 95%."
   ]
  },
  {
   "cell_type": "markdown",
   "metadata": {},
   "source": [
    "**Part C**: <font color='green'>The crowd is silent. Everything is slow motion. You're literally in the air, releasing what looks to be a perfect shot to tie the match. As you release the ball, a hand appears to block it. It is Kevin Durant. :( \n",
    "\n",
    "Luckily, his fingertips also brush against your arm. That's a foul, and everyone saw it. Back to the line. Back to CSCI3022:</font>\n",
    "\n",
    "Let $X$ be a normally-distributed random variable. You draw from it and get these values, stored in the numpy array **durant**, below. Compute a 95% confidence interval for the _standard deviation_.\n",
    "***"
   ]
  },
  {
   "cell_type": "code",
   "execution_count": 22,
   "metadata": {},
   "outputs": [
    {
     "name": "stdout",
     "output_type": "stream",
     "text": [
      "The CI is [0.064572773351783158, 0.12969458215353388]\n"
     ]
    }
   ],
   "source": [
    "durant = np.array([3.7778,3.9459,3.8248,4.1111,4.0180,4.0898,4.0380,3.9273,3.9614,3.8387])\n",
    "\n",
    "# Not enough values? Bootstrap to the rescue!\n",
    "m = 1000\n",
    "resamples = [np.random.choice(durant, size = len(durant), replace = True) for ii in range(m)]\n",
    "sigmas = [np.std(jj) for jj in resamples]\n",
    "\n",
    "lower = np.percentile(sigmas, 2.5)\n",
    "upper = np.percentile(sigmas, 97.5)\n",
    "CI = [lower, upper]\n",
    "print(\"The CI is {}\".format(CI))"
   ]
  },
  {
   "cell_type": "markdown",
   "metadata": {
    "collapsed": true
   },
   "source": [
    "To get the confidence interval for the data, we need to use the bootstrap method because there aren't enought data points to use the Central Limit Theorem. From that method, we found a 95% confidence interval of $[0.0827, 0.1221]$."
   ]
  },
  {
   "cell_type": "markdown",
   "metadata": {},
   "source": [
    "**Part D**: <font color='green'>\"Draymond Green has it all, in spite of living in the Bay Area,\" you think to yourself. \"But he doesn't have this shot...\" You're all over him, and he's going to have to pass. You can see the irritation in his eyes. Then you realize that it's not irritation, and he's not being distracted by your superb defense. He's being distracted by this CSCI3022 problem:</font>\n",
    "\n",
    "If you're doing quality control for the average strength of carbon fiber that will be used in airplane construction, and your alternative hypothesis is that the strength of the carbon is below tolerance, and therefore unsafe, would you rather have a low Type I error rate or a low Type II error rate? Explain.\n",
    "\n",
    "***"
   ]
  },
  {
   "cell_type": "markdown",
   "metadata": {},
   "source": [
    "A Type I error means that the null was rejected when it was in fact true. In the context of this problem that would mean that the hypothesis that the carbon fiber is strong enough was rejected, even though it actually was strong enough. A Type II error would be accepting the null even though it is false, which would be saying it is strong enough even though it is not. Because of this, we would prefer a lower Type II error. It would be be worse to assume the carbon fiber is strong enough if it actually isn't than to assume it is not strong enough if it actually is."
   ]
  },
  {
   "cell_type": "markdown",
   "metadata": {},
   "source": [
    "**Part E**: <font color='green'>You are watching tape footage at halftime with your personal trainer, Stella O'Flaherty. You gotta focus up if you're going to match Klay Thompson's speed in the second half. You take a sip of Gatorade and Dr. O'Flaherty suggests that you do the following CSCI3022 problem:</font>\n",
    "\n",
    "You measure 53 suckers from baby reef octopuses and find that they are, on average, 45.2 mm wide, with a standard devaition of 30.4mm. \n",
    "\n",
    "Then you measure 41 suckers from from baby dumbo octopuses and find that they are, on average, 52.8 mm wide, with a standard deviation of 22.8 mm. \n",
    "\n",
    "Is there statistical evidence at the 0.05 significance level that the true mean of baby dumbo octopus sucker width exceeds the true mean of baby reef octopus sucker width by more than 6 mm?  Use a test of your choice.\n",
    "\n",
    "***"
   ]
  },
  {
   "cell_type": "markdown",
   "metadata": {},
   "source": [
    "$\\mu_1$ is the mean of baby reef octopuses.  \n",
    "$\\mu_2$ is the mean of baby dumbo octopuses.\n",
    "\n",
    "Null Hypothesis: $ \\mu_2 - \\mu_1 = 6$  \n",
    "Alternate Hypothesis: $ \\mu_2 - \\mu_1 > 6$\n",
    "\n",
    "Let's test using a p-value!  \n",
    "We can solve for the z value using the equation: $z = \\dfrac{\\mu_2 - \\mu_1 - c}{\\sqrt{\\frac{s_1^2}{m} + \\frac{s_2^2}{n}}}$\n",
    "\n",
    "Plugging our octo-stats in:\n",
    "$$ z = \\dfrac{52.8 - 45.2 - 6}{\\sqrt{\\dfrac{22.8^2}{41} + \\dfrac{30.4^2}{53}}} \\approx 0.2916$$\n",
    "\n",
    "Compare significance:  \n",
    "$$ 1 - \\phi(0.2916) \\approx 0.3853 $$\n",
    "\n",
    "0.3853 is not less than 0.05 so we fail to reject the null hypothesis. There is not enough statistical evidence to say that true mean of dumbo octopus sucker widths exceeds the true mean of baby reef octopuses sucker width by more than 6mm."
   ]
  },
  {
   "cell_type": "code",
   "execution_count": 23,
   "metadata": {},
   "outputs": [
    {
     "name": "stdout",
     "output_type": "stream",
     "text": [
      "0.2915555403427804\n",
      "0.385313236382\n"
     ]
    }
   ],
   "source": [
    "z = (52.8 - 45.2 - 6) / math.sqrt(((22.8**2)/41) + ((30.4**2)/53))\n",
    "print(z)\n",
    "sig = 1 - stats.norm.cdf(z)\n",
    "print(sig)"
   ]
  },
  {
   "cell_type": "markdown",
   "metadata": {},
   "source": [
    "We can confirm our findings by using another test, such as with a confidence interval. Using the code below, we found that a 95% CI is $[-3.1561, 18.3561]$. This interval contains 0 so we again accept the null hypothesis, confirming our answer above."
   ]
  },
  {
   "cell_type": "code",
   "execution_count": 24,
   "metadata": {},
   "outputs": [
    {
     "name": "stdout",
     "output_type": "stream",
     "text": [
      "[-3.1560981222068722, 18.35609812220686]\n"
     ]
    }
   ],
   "source": [
    "l = 52.8 - 45.2 - (1.96 * math.sqrt((22.8**2 / 41) + (30.4**2)/53))\n",
    "u = 52.8 - 45.2 + (1.96 * math.sqrt((22.8**2 / 41) + (30.4**2)/53))\n",
    "ci = [l, u]\n",
    "print(ci)"
   ]
  },
  {
   "cell_type": "code",
   "execution_count": null,
   "metadata": {
    "collapsed": true
   },
   "outputs": [],
   "source": []
  }
 ],
 "metadata": {
  "kernelspec": {
   "display_name": "Python 3",
   "language": "python",
   "name": "python3"
  },
  "language_info": {
   "codemirror_mode": {
    "name": "ipython",
    "version": 3
   },
   "file_extension": ".py",
   "mimetype": "text/x-python",
   "name": "python",
   "nbconvert_exporter": "python",
   "pygments_lexer": "ipython3",
   "version": "3.6.3"
  }
 },
 "nbformat": 4,
 "nbformat_minor": 2
}
