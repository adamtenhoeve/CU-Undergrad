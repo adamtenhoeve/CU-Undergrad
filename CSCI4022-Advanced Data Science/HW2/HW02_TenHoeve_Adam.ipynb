{
 "cells": [
  {
   "cell_type": "markdown",
   "metadata": {},
   "source": [
    "<a id='top'></a>\n",
    "\n",
    "# Homework 2: CSCI 4022 F19\n",
    "***\n",
    "\n",
    "**Name**: Adam Ten Hoeve\n",
    "\n",
    "***\n",
    "\n",
    "This assignment is due on Canvas by **MIDNIGHT on Friday September 27**. Your solutions to theoretical questions should be done in Markdown directly below the associated question.  Your solutions to computational questions should include any specified Python code and results as well as written commentary on your conclusions.  Remember that you are encouraged to discuss the problems with your classmates, but **you must write all code and solutions on your own**.\n",
    "**NOTES**: \n",
    "\n",
    "- Any relevant data sets should be available under the **Data** module on Canvas.\n",
    "- If you're not familiar with typesetting math directly into Markdown then by all means, do your work on paper first and then typeset it later.  Remember that there is a [reference guide](https://math.meta.stackexchange.com/questions/5020/mathjax-basic-tutorial-and-quick-reference) linked on Canvas on writing math in Markdown. **All** of your written commentary, justifications and mathematical work should be in Markdown.\n",
    "- Because you can technically evaluate notebook cells is a non-linear order, it's a good idea to do Kernel $\\rightarrow$ Restart & Run All as a check before submitting your solutions.  That way if we need to run your code you will know that it will work as expected. \n",
    "- It is **bad form** to make your reader interpret numerical output from your code.  If a question asks you to compute some value from the data you should show your code output **AND** write a summary of the results in Markdown directly below your code. \n",
    "- This probably goes without saying, but... For any question that asks you to calculate something, you **must show all work and justify your answers to receive credit**. Sparse or nonexistent work will receive sparse or nonexistent credit. \n",
    "\n",
    "---\n",
    "**Shortcuts:**  [Problem 1](#p1) | [Problem 2](#p2) | [Problem 3](#p3) | [Problem 4](#p4) | [Problem 5](#p5) | [Problem 6](#p6) \n",
    "\n",
    "---"
   ]
  },
  {
   "cell_type": "code",
   "execution_count": 10,
   "metadata": {},
   "outputs": [],
   "source": [
    "import pandas as pd\n",
    "import matplotlib.pyplot as plt\n",
    "import numpy as np\n",
    "import string\n",
    "%matplotlib inline"
   ]
  },
  {
   "cell_type": "markdown",
   "metadata": {},
   "source": [
    "***\n",
    "<a/ id='p1'></a>\n",
    "[Back to top](#top)\n",
    "# HW2 Part 1\n",
    "# Problem 1 (Theory: minhashing; 10 pts)\n",
    "\n",
    "Consider minhash values for a single column vector that contains seven components/rows. Five rows hold 0 and two hold 1. Consider taking all 7! = 5040 possible distinct permutations of seven rows. When we choose a permutation of the rows and produce a minhash value for the column, we will use the number of the row, in the permuted order, that is the first with a 1.  Use Markdown cells to demonstrate answers to the following.\n",
    "\n",
    "#### a) For exactly how many of the 5040 permutations is the minhash value for the column a 7?  What proportion is this?"
   ]
  },
  {
   "cell_type": "markdown",
   "metadata": {},
   "source": [
    "There are 7 total rows. In order for the minhash value to be 7, then there must be a 1 in the $7^{th}$ row. This leaves 5 rows with 0 and 1 row with 1. However, the other 1 must be located in a row between 1-6, as the seventh row is taken. Because the minhash value is taken from the first row that contains a 1, it would always have to take the value the other row that contains a 1. This means that it is not possible for the minhash value to be 7. Therefor, there are $0$ permutations where the minhash value is 7, with a proportion of $\\frac{0}{5040} = 0.00$."
   ]
  },
  {
   "cell_type": "markdown",
   "metadata": {},
   "source": [
    "#### b) For exactly how many of the 5040 permutations is the minhash value for the column a 6?"
   ]
  },
  {
   "cell_type": "markdown",
   "metadata": {},
   "source": [
    "For the minhash value to be 6, then the two $1$ values would have to be in the $6^{th}$ and $7^{th}$ rows. Therefor our permutation can be reduced to the perumuation of the five $0$ values in the first five rows and the permuation of the $1$ values in the last two rows. There are $5!$ ways to order the five $0$ values. There is $2!$ ways to order the two $1$ values for each of the permuations of the $0$ values. This leads to a total number of permutations of:\n",
    "\n",
    "$$ 5! * 2! = 240$$\n",
    "\n",
    "This is $\\frac{240}{5040} \\approx 0.048$ of the total number of permutations."
   ]
  },
  {
   "cell_type": "markdown",
   "metadata": {},
   "source": [
    "#### c) For exactly how many of the 5040 permutations is the minhash value for the column a 3?"
   ]
  },
  {
   "cell_type": "markdown",
   "metadata": {},
   "source": [
    "For the minhash value to be 3, the following must be true:\n",
    "- There is a $1$ value located in the $3^{rd}$ row.\n",
    "- There is not a $1$ located in the first two rows. \n",
    "\n",
    "These two conditions lead to the fact that the remaining 1 can be located anywhere in the $4^{th}$ - $7^{th}$ rows. From here, we can break down the permutations into sections:\n",
    "- We can think of the five 0 values as being permuted before we \"insert\" the two 1 values into the string. This way, there are $5! = 120$ possible permutations of 0 values.\n",
    "- Now we \"insert\" the 1 values into the string. The first 1 is located in the $3^{rd}$ row and can be either of the two 1 values, so there are $2! = 2$ possible combinations.\n",
    "- The remaining 1 value can be in any location directly before, inbetween or after the last three 0 values. This leads to 4 possible \"locations\" it can be inserted into.  \n",
    "\n",
    "Because each of these rules happens independently, we get $120 * 2 * 4 = 960$ permutations, which is $\\frac{960}{5040} \\approx 0.190$ of all the possible permutations."
   ]
  },
  {
   "cell_type": "markdown",
   "metadata": {},
   "source": [
    "***\n",
    "<a/ id='p2'></a>\n",
    "[Back to top](#top)\n",
    "# Problem 2 (Edit Distance; 20 pts)\n",
    "\n",
    "The following code is a recursive implementation of edit distance."
   ]
  },
  {
   "cell_type": "code",
   "execution_count": 2,
   "metadata": {},
   "outputs": [],
   "source": [
    "#see https://www.python-course.eu/levenshtein_distance.php for this and other, more computationally efficient implementations\n",
    "\n",
    "def LD(s, t):\n",
    "    if s == \"\":\n",
    "        return len(t)\n",
    "    if t == \"\":\n",
    "        return len(s)\n",
    "    if s[-1] == t[-1]:\n",
    "        cost = 0\n",
    "    else:\n",
    "        cost = 1\n",
    "       \n",
    "    res = min([LD(s[:-1], t)+1,\n",
    "               LD(s, t[:-1])+1, \n",
    "               LD(s[:-1], t[:-1]) + cost])\n",
    "    return res\n"
   ]
  },
  {
   "cell_type": "code",
   "execution_count": 3,
   "metadata": {},
   "outputs": [
    {
     "name": "stdout",
     "output_type": "stream",
     "text": [
      "3\n",
      "6\n",
      "3\n"
     ]
    }
   ],
   "source": [
    "# This is another function from https://www.python-course.eu/levenshtein_distance.php which is much faster\n",
    "def LD(s, t, costs=(1, 1, 1)):\n",
    "    \"\"\" \n",
    "        iterative_levenshtein(s, t) -> ldist\n",
    "        ldist is the Levenshtein distance between the strings \n",
    "        s and t.\n",
    "        For all i and j, dist[i,j] will contain the Levenshtein \n",
    "        distance between the first i characters of s and the \n",
    "        first j characters of t\n",
    "        \n",
    "        costs: a tuple or a list with three integers (d, i, s)\n",
    "               where d defines the costs for a deletion\n",
    "                     i defines the costs for an insertion and\n",
    "                     s defines the costs for a substitution\n",
    "    \"\"\"\n",
    "    rows = len(s)+1\n",
    "    cols = len(t)+1\n",
    "    deletes, inserts, substitutes = costs\n",
    "    \n",
    "    dist = [[0 for x in range(cols)] for x in range(rows)]\n",
    "    # source prefixes can be transformed into empty strings \n",
    "    # by deletions:\n",
    "    for row in range(1, rows):\n",
    "        dist[row][0] = row * deletes\n",
    "    # target prefixes can be created from an empty source string\n",
    "    # by inserting the characters\n",
    "    for col in range(1, cols):\n",
    "        dist[0][col] = col * inserts\n",
    "        \n",
    "    for col in range(1, cols):\n",
    "        for row in range(1, rows):\n",
    "            if s[row-1] == t[col-1]:\n",
    "                cost = 0\n",
    "            else:\n",
    "                cost = substitutes\n",
    "            dist[row][col] = min(dist[row-1][col] + deletes,\n",
    "                                 dist[row][col-1] + inserts,\n",
    "                                 dist[row-1][col-1] + cost) # substitution\n",
    "#     for r in range(rows):\n",
    "#         print(dist[r])\n",
    "    \n",
    " \n",
    "    return dist[row][col]\n",
    "# default:\n",
    "print(LD(\"abc\", \"xyz\"))\n",
    "# the costs for substitions are twice as high as inserts and delets:\n",
    "print(LD(\"abc\", \"xyz\", costs=(1, 1, 2)))\n",
    "# inserts and deletes are twice as high as substitutes\n",
    "print(LD(\"abc\", \"xyz\", costs=(2, 2, 1)))"
   ]
  },
  {
   "cell_type": "markdown",
   "metadata": {},
   "source": [
    "#### 2a) Determine whether the above implementation only allows insertions and deletions or also also substitutions as single operation by calculating the pairwise edit distances by hand between \"house,\" \"whose,\" and \"louse\" and comparing to the output from the `LD` function."
   ]
  },
  {
   "cell_type": "markdown",
   "metadata": {},
   "source": [
    "**Comparison 1**  \n",
    "Word1 = \"house\"     Word2 = \"whose\"  \n",
    "To turn word1 into word2 without substitutions:  \n",
    "- Add a 'w' before 'h'\n",
    "- Remove the 'u'  \n",
    "\n",
    "Total operation count: 2  \n",
    "&nbsp;\n",
    "\n",
    "**Comparision 2**  \n",
    "Word1 = \"house\"     Word2 = \"louse\"  \n",
    "To turn word1 into word2 without substitutions:\n",
    "- Remove 'h'\n",
    "- Add 'l' before the 'o'\n",
    "\n",
    "Total operation count: 2  \n",
    "&nbsp;\n",
    "\n",
    "**Comparison 3**  \n",
    "Word1 = \"whose\"     Word2 = \"louse\"  \n",
    "To turn word1 into word2 without substitutions:\n",
    "- Remove 'w'\n",
    "- Remove 'h'\n",
    "- Add 'l' before 'o'\n",
    "- Add 'u' between 'o' and 's'  \n",
    "\n",
    "Total operation count: 4"
   ]
  },
  {
   "cell_type": "code",
   "execution_count": 4,
   "metadata": {
    "scrolled": true
   },
   "outputs": [
    {
     "name": "stdout",
     "output_type": "stream",
     "text": [
      "The LD edit distance between 'house' and 'whose' is 2\n"
     ]
    }
   ],
   "source": [
    "#using LD function\n",
    "print(\"The LD edit distance between 'house' and 'whose' is {}\".format(LD('house','whose')))"
   ]
  },
  {
   "cell_type": "code",
   "execution_count": 5,
   "metadata": {},
   "outputs": [
    {
     "name": "stdout",
     "output_type": "stream",
     "text": [
      "The LD edit distance between 'house' and 'louse' is 1\n"
     ]
    }
   ],
   "source": [
    "print(\"The LD edit distance between 'house' and 'louse' is {}\".format(LD('house','louse')))"
   ]
  },
  {
   "cell_type": "code",
   "execution_count": 6,
   "metadata": {},
   "outputs": [
    {
     "name": "stdout",
     "output_type": "stream",
     "text": [
      "The LD edit distance between 'louse' and 'whose' is 3\n"
     ]
    }
   ],
   "source": [
    "print(\"The LD edit distance between 'louse' and 'whose' is {}\".format(LD('louse','whose')))"
   ]
  },
  {
   "cell_type": "markdown",
   "metadata": {},
   "source": [
    "Because the edit distance of the LD function is less than or equal to those computed by hand without using substitutions, we can conclude that the implementation does allow substitution operations.\n",
    "\n",
    "***"
   ]
  },
  {
   "cell_type": "markdown",
   "metadata": {},
   "source": [
    "This quesion makes use of two files called: `Actual words.txt` and `pred_words.txt`.\n",
    "\n",
    "Tom is developing a speech recognition system, but found that the system is misspelling a few words,  He wants to check if the computer is having difficulty in indentifying long words.  Help him out by plotting a graph with the length of the word in the x-axis and the `LD` function distance necessary to convert the system identified string to the original string on the y-axis.\n",
    "\n",
    "#### 2b)  Compare edit distances and plot distances versus word length in a plot:"
   ]
  },
  {
   "cell_type": "code",
   "execution_count": 11,
   "metadata": {},
   "outputs": [],
   "source": [
    "with open(\"actual_words.txt\", \"r\") as act_file:\n",
    "    with open(\"pred_words.txt\", \"r\") as pred_file:\n",
    "        actual_words = act_file.read().split()\n",
    "        pred_words = pred_file.read().split()\n",
    "        # Get the length of each word\n",
    "        x = [len(word) for word in actual_words]\n",
    "        # Get the Edit Distance between each word and the predicted words\n",
    "        y = [0] * len(actual_words)\n",
    "        for index, act_word in enumerate(actual_words):\n",
    "            y[index] = LD(pred_words[index], act_word)"
   ]
  },
  {
   "cell_type": "code",
   "execution_count": 12,
   "metadata": {},
   "outputs": [],
   "source": [
    "# Determine the counts of each (length, misspelling) pair\n",
    "misspell_dict = {}\n",
    "\n",
    "for i in range(len(x)):\n",
    "    if (x[i], y[i]) not in misspell_dict.keys():\n",
    "        misspell_dict[(x[i], y[i])] = 1\n",
    "    else:\n",
    "        misspell_dict[(x[i], y[i])] += 1"
   ]
  },
  {
   "cell_type": "code",
   "execution_count": 13,
   "metadata": {},
   "outputs": [
    {
     "data": {
      "image/png": "[encoded data removed]",
      "text/plain": [
       "<Figure size 1008x432 with 1 Axes>"
      ]
     },
     "metadata": {
      "needs_background": "light"
     },
     "output_type": "display_data"
    }
   ],
   "source": [
    "import matplotlib.patches as mpatches\n",
    "fig, ax = plt.subplots(1, 1, figsize=(14, 6))\n",
    "\n",
    "for word_len in np.unique(x):\n",
    "    for num_misspelled in np.unique(y):\n",
    "        dict_key = (word_len, num_misspelled)\n",
    "        if dict_key in misspell_dict.keys():\n",
    "            bar_width = 1.0 / 4.0\n",
    "            if num_misspelled == 0:\n",
    "                ax.bar(word_len-bar_width, misspell_dict[dict_key], width=bar_width, \n",
    "                       color='c', edgecolor=\"white\")\n",
    "            elif num_misspelled == 1:\n",
    "                ax.bar(word_len, misspell_dict[dict_key], width=bar_width, \n",
    "                       color='orchid', edgecolor=\"white\")\n",
    "            elif num_misspelled == 2:\n",
    "                ax.bar(word_len+bar_width, misspell_dict[dict_key], width=bar_width, \n",
    "                       color='peru', edgecolor=\"white\")\n",
    "                \n",
    "z_patch = mpatches.Patch(color='c', label=\"Zero Errors\")\n",
    "o_patch = mpatches.Patch(color='orchid', label=\"One Error\")\n",
    "t_patch = mpatches.Patch(color='peru', label=\"Two Errors\")\n",
    "ax.legend(handles=[z_patch, o_patch, t_patch])\n",
    "                \n",
    "ax.set_title(\"Edit Distance per Word Length\")\n",
    "ax.set_ylabel(\"Edit Distance\")\n",
    "ax.set_xlabel(\"Word Length\")\n",
    "\n",
    "ax.set_xticks(np.arange(14));"
   ]
  },
  {
   "cell_type": "markdown",
   "metadata": {},
   "source": [
    "There does appear to be a positive correlation between the word length and the number of mistakes. The shorter mostly have zero or one errors, while all words longer than 9 characters all had at least one error."
   ]
  },
  {
   "cell_type": "markdown",
   "metadata": {},
   "source": [
    "#### 2c)  Compare whether or not there is a misspelling versus word length in a plot:"
   ]
  },
  {
   "cell_type": "code",
   "execution_count": 72,
   "metadata": {},
   "outputs": [],
   "source": [
    "num_msp = np.array([0] * len(np.unique(x)))\n",
    "for index, word in enumerate(actual_words):\n",
    "    # If they are not the same, meaning there is a misspelling\n",
    "    if word != pred_words[index]:\n",
    "        num_msp[len(word)-1] += 1"
   ]
  },
  {
   "cell_type": "code",
   "execution_count": 73,
   "metadata": {},
   "outputs": [
    {
     "data": {
      "image/png": "[encoded data removed]",
      "text/plain": [
       "<Figure size 720x432 with 1 Axes>"
      ]
     },
     "metadata": {
      "needs_background": "light"
     },
     "output_type": "display_data"
    }
   ],
   "source": [
    "fig, ax = plt.subplots(1, 1, figsize=(10, 6))\n",
    "ax.scatter(np.unique(x), num_msp)\n",
    "ax.set_title(\"Number of Misspellings per length of word\")\n",
    "ax.set_xlabel(\"Word Length\")\n",
    "ax.set_ylabel(\"Number of Misspellings\");"
   ]
  },
  {
   "cell_type": "code",
   "execution_count": 74,
   "metadata": {},
   "outputs": [
    {
     "data": {
      "image/png": "[encoded data removed]",
      "text/plain": [
       "<Figure size 720x432 with 1 Axes>"
      ]
     },
     "metadata": {
      "needs_background": "light"
     },
     "output_type": "display_data"
    }
   ],
   "source": [
    "word_length_counts = np.array([0] * len(np.unique(x)))\n",
    "for index, value in enumerate(np.unique(x)):\n",
    "    word_length_counts[index] = x.count(value)\n",
    "word_msp_proportions = num_msp / word_length_counts\n",
    "\n",
    "fig, ax = plt.subplots(1, 1, figsize=(10, 6))\n",
    "ax.scatter(np.unique(x), word_msp_proportions)\n",
    "ax.set_title(\"Proportion of Misspelled Words Per Length\")\n",
    "ax.set_xlabel(\"Number of Characters\")\n",
    "ax.set_ylabel(\"Proportion of Misspellings\");"
   ]
  },
  {
   "cell_type": "markdown",
   "metadata": {},
   "source": [
    "From the graph of misspelling counts alone, it does not appear like there is an obvious correlation between word length and misspellings. However, the proportion graph does provide more evidence that there is some correlation. All the words that were 10 characters or longer were misspelled. The words with less than 10 characters are more varied in the proportion that are misspelled, so it is difficult to make a direct claim about the correlation of the data."
   ]
  },
  {
   "cell_type": "markdown",
   "metadata": {},
   "source": [
    "#### 2d)  Can you infer from the graph if there is a linear relationship between the number of operations and the length of words?  What about a logistic-linear relationship between whether there is a misspelling or not and the length of words?  Report the confidence intervals of appropriate regression coefficients to support your conclusion.\n"
   ]
  },
  {
   "cell_type": "code",
   "execution_count": 78,
   "metadata": {},
   "outputs": [],
   "source": [
    "import statsmodels.api as sm\n",
    "# For finding the relation of length of word to number of operations (edit distance)\n",
    "X = x\n",
    "X = sm.add_constant(X)\n",
    "Y = y\n",
    "\n",
    "model = sm.OLS(Y, X)\n",
    "results = model.fit()"
   ]
  },
  {
   "cell_type": "code",
   "execution_count": 79,
   "metadata": {},
   "outputs": [
    {
     "data": {
      "text/html": [
       "<table class=\"simpletable\">\n",
       "<caption>OLS Regression Results</caption>\n",
       "<tr>\n",
       "  <th>Dep. Variable:</th>            <td>y</td>        <th>  R-squared:         </th> <td>   0.067</td>\n",
       "</tr>\n",
       "<tr>\n",
       "  <th>Model:</th>                   <td>OLS</td>       <th>  Adj. R-squared:    </th> <td>   0.047</td>\n",
       "</tr>\n",
       "<tr>\n",
       "  <th>Method:</th>             <td>Least Squares</td>  <th>  F-statistic:       </th> <td>   3.436</td>\n",
       "</tr>\n",
       "<tr>\n",
       "  <th>Date:</th>             <td>Thu, 26 Sep 2019</td> <th>  Prob (F-statistic):</th>  <td>0.0699</td> \n",
       "</tr>\n",
       "<tr>\n",
       "  <th>Time:</th>                 <td>22:10:22</td>     <th>  Log-Likelihood:    </th> <td> -46.831</td>\n",
       "</tr>\n",
       "<tr>\n",
       "  <th>No. Observations:</th>      <td>    50</td>      <th>  AIC:               </th> <td>   97.66</td>\n",
       "</tr>\n",
       "<tr>\n",
       "  <th>Df Residuals:</th>          <td>    48</td>      <th>  BIC:               </th> <td>   101.5</td>\n",
       "</tr>\n",
       "<tr>\n",
       "  <th>Df Model:</th>              <td>     1</td>      <th>                     </th>     <td> </td>   \n",
       "</tr>\n",
       "<tr>\n",
       "  <th>Covariance Type:</th>      <td>nonrobust</td>    <th>                     </th>     <td> </td>   \n",
       "</tr>\n",
       "</table>\n",
       "<table class=\"simpletable\">\n",
       "<tr>\n",
       "    <td></td>       <th>coef</th>     <th>std err</th>      <th>t</th>      <th>P>|t|</th>  <th>[0.025</th>    <th>0.975]</th>  \n",
       "</tr>\n",
       "<tr>\n",
       "  <th>const</th> <td>    0.2205</td> <td>    0.194</td> <td>    1.137</td> <td> 0.261</td> <td>   -0.170</td> <td>    0.611</td>\n",
       "</tr>\n",
       "<tr>\n",
       "  <th>x1</th>    <td>    0.0507</td> <td>    0.027</td> <td>    1.854</td> <td> 0.070</td> <td>   -0.004</td> <td>    0.106</td>\n",
       "</tr>\n",
       "</table>\n",
       "<table class=\"simpletable\">\n",
       "<tr>\n",
       "  <th>Omnibus:</th>       <td>10.578</td> <th>  Durbin-Watson:     </th> <td>   1.733</td>\n",
       "</tr>\n",
       "<tr>\n",
       "  <th>Prob(Omnibus):</th> <td> 0.005</td> <th>  Jarque-Bera (JB):  </th> <td>  10.399</td>\n",
       "</tr>\n",
       "<tr>\n",
       "  <th>Skew:</th>          <td> 1.073</td> <th>  Prob(JB):          </th> <td> 0.00552</td>\n",
       "</tr>\n",
       "<tr>\n",
       "  <th>Kurtosis:</th>      <td> 3.618</td> <th>  Cond. No.          </th> <td>    15.7</td>\n",
       "</tr>\n",
       "</table><br/><br/>Warnings:<br/>[1] Standard Errors assume that the covariance matrix of the errors is correctly specified."
      ],
      "text/plain": [
       "<class 'statsmodels.iolib.summary.Summary'>\n",
       "\"\"\"\n",
       "                            OLS Regression Results                            \n",
       "==============================================================================\n",
       "Dep. Variable:                      y   R-squared:                       0.067\n",
       "Model:                            OLS   Adj. R-squared:                  0.047\n",
       "Method:                 Least Squares   F-statistic:                     3.436\n",
       "Date:                Thu, 26 Sep 2019   Prob (F-statistic):             0.0699\n",
       "Time:                        22:10:22   Log-Likelihood:                -46.831\n",
       "No. Observations:                  50   AIC:                             97.66\n",
       "Df Residuals:                      48   BIC:                             101.5\n",
       "Df Model:                           1                                         \n",
       "Covariance Type:            nonrobust                                         \n",
       "==============================================================================\n",
       "                 coef    std err          t      P>|t|      [0.025      0.975]\n",
       "------------------------------------------------------------------------------\n",
       "const          0.2205      0.194      1.137      0.261      -0.170       0.611\n",
       "x1             0.0507      0.027      1.854      0.070      -0.004       0.106\n",
       "==============================================================================\n",
       "Omnibus:                       10.578   Durbin-Watson:                   1.733\n",
       "Prob(Omnibus):                  0.005   Jarque-Bera (JB):               10.399\n",
       "Skew:                           1.073   Prob(JB):                      0.00552\n",
       "Kurtosis:                       3.618   Cond. No.                         15.7\n",
       "==============================================================================\n",
       "\n",
       "Warnings:\n",
       "[1] Standard Errors assume that the covariance matrix of the errors is correctly specified.\n",
       "\"\"\""
      ]
     },
     "execution_count": 79,
     "metadata": {},
     "output_type": "execute_result"
    }
   ],
   "source": [
    "results.summary()"
   ]
  },
  {
   "cell_type": "markdown",
   "metadata": {},
   "source": [
    "The above table is about the relationship between the length of the words and the number of operations to fix the mmistakes. From the table we can see that there is a positive correlation of $\\approx 0.051$ with a p-value of $0.070$ and Confidence Interval of $[-0.004, 0.106]$. This is very close to, but just shy of being statistically significant at the level of 95% confidence, but is statistically significant at the 90% confidence level."
   ]
  },
  {
   "cell_type": "code",
   "execution_count": 107,
   "metadata": {},
   "outputs": [
    {
     "name": "stdout",
     "output_type": "stream",
     "text": [
      "Optimization terminated successfully.\n",
      "         Current function value: 0.612733\n",
      "         Iterations 5\n"
     ]
    },
    {
     "data": {
      "text/html": [
       "<table class=\"simpletable\">\n",
       "<caption>Logit Regression Results</caption>\n",
       "<tr>\n",
       "  <th>Dep. Variable:</th>         <td>y</td>        <th>  No. Observations:  </th>  <td>    50</td> \n",
       "</tr>\n",
       "<tr>\n",
       "  <th>Model:</th>               <td>Logit</td>      <th>  Df Residuals:      </th>  <td>    48</td> \n",
       "</tr>\n",
       "<tr>\n",
       "  <th>Method:</th>               <td>MLE</td>       <th>  Df Model:          </th>  <td>     1</td> \n",
       "</tr>\n",
       "<tr>\n",
       "  <th>Date:</th>          <td>Thu, 26 Sep 2019</td> <th>  Pseudo R-squ.:     </th>  <td>0.1119</td> \n",
       "</tr>\n",
       "<tr>\n",
       "  <th>Time:</th>              <td>22:35:04</td>     <th>  Log-Likelihood:    </th> <td> -30.637</td>\n",
       "</tr>\n",
       "<tr>\n",
       "  <th>converged:</th>           <td>True</td>       <th>  LL-Null:           </th> <td> -34.497</td>\n",
       "</tr>\n",
       "<tr>\n",
       "  <th> </th>                      <td> </td>        <th>  LLR p-value:       </th> <td>0.005458</td>\n",
       "</tr>\n",
       "</table>\n",
       "<table class=\"simpletable\">\n",
       "<tr>\n",
       "    <td></td>       <th>coef</th>     <th>std err</th>      <th>z</th>      <th>P>|z|</th>  <th>[0.025</th>    <th>0.975]</th>  \n",
       "</tr>\n",
       "<tr>\n",
       "  <th>const</th> <td>    1.8261</td> <td>    0.719</td> <td>    2.541</td> <td> 0.011</td> <td>    0.417</td> <td>    3.235</td>\n",
       "</tr>\n",
       "<tr>\n",
       "  <th>x1</th>    <td>   -0.2633</td> <td>    0.103</td> <td>   -2.547</td> <td> 0.011</td> <td>   -0.466</td> <td>   -0.061</td>\n",
       "</tr>\n",
       "</table>"
      ],
      "text/plain": [
       "<class 'statsmodels.iolib.summary.Summary'>\n",
       "\"\"\"\n",
       "                           Logit Regression Results                           \n",
       "==============================================================================\n",
       "Dep. Variable:                      y   No. Observations:                   50\n",
       "Model:                          Logit   Df Residuals:                       48\n",
       "Method:                           MLE   Df Model:                            1\n",
       "Date:                Thu, 26 Sep 2019   Pseudo R-squ.:                  0.1119\n",
       "Time:                        22:35:04   Log-Likelihood:                -30.637\n",
       "converged:                       True   LL-Null:                       -34.497\n",
       "                                        LLR p-value:                  0.005458\n",
       "==============================================================================\n",
       "                 coef    std err          z      P>|z|      [0.025      0.975]\n",
       "------------------------------------------------------------------------------\n",
       "const          1.8261      0.719      2.541      0.011       0.417       3.235\n",
       "x1            -0.2633      0.103     -2.547      0.011      -0.466      -0.061\n",
       "==============================================================================\n",
       "\"\"\""
      ]
     },
     "execution_count": 107,
     "metadata": {},
     "output_type": "execute_result"
    }
   ],
   "source": [
    "# Calculate a boolean condition for if the word was misspelled or not\n",
    "was_misspelled = np.array([np.array(actual_words) == np.array(pred_words)])\n",
    "was_misspelled = was_misspelled.astype(int)\n",
    "was_misspelled\n",
    "\n",
    "# Logistic regression for number of misspellings vs. length of words\n",
    "X = x\n",
    "X = sm.add_constant(X)\n",
    "Y = was_misspelled[0]\n",
    "\n",
    "model = sm.Logit(Y, X)\n",
    "results = model.fit()\n",
    "\n",
    "results.summary()"
   ]
  },
  {
   "cell_type": "markdown",
   "metadata": {},
   "source": [
    "The table above is the results of a logistic regression between the lengths of the words and whether the word was misspelled. From the table, we get a relationship with pvalue of $0.011$ and confidence interval of $[-0.466, -0.061]$. Similar to the other regression, the coefficient is not statistically significant at the 95% confidence level.\n",
    "\n",
    "From these two regressions, we can make the educated decision that the number of misspellings and number of edits to fix the misspellings does not depend on the length of the words."
   ]
  },
  {
   "cell_type": "markdown",
   "metadata": {},
   "source": [
    "***\n",
    "<a/ id='p3'></a>\n",
    "[Back to top](#top)\n",
    "# Problem 3 (Applied Minhashing; 20 pts)\n",
    "\n",
    "In this problem we compare similarities of 5 documents available on http://www.gutenberg.org\n",
    "\n",
    " 1) The first approximately 10000 characters of Miguel de Unamuno's *Niebla*, written in Spanish, in the file `Niebla.txt`\n",
    " \n",
    " 2) The first approximately 10000 characters of Miguel de Cervantes *The Ingenious Gentleman Don Quixote of La Mancha*, written in Spanish, in the file `DQ.txt`\n",
    " \n",
    " 3) The first approximately 10000 characters of Homer's *The Iliad*, translated into English by Alexander Pope, in the file `Iliad.txt`\n",
    " \n",
    " 4) The first approximately 10000 characters of Mark Twain's *The Adventures of Tom Sawyer*, in the file `TS.txt` \n",
    " \n",
    " 5) A selected approximately 10000 characters of Mark Twain's *Adventures of Huckleberry Finn*, in the file `MT.txt`\n",
    "\n",
    "### a) Clean the 4 documents, scrubbing all punctuation, changes cases to lower case, and removing accent marks as appropriate.  \n",
    "\n",
    "You should have only 27 unique characters in each book/section after cleaning, corresponding to white spaces and the 26 letters.  \n",
    "\n",
    "(You can and probably should use functions in the string package such as `string.lower`, `string.replace`, etc.)\n",
    "\n",
    "\n"
   ]
  },
  {
   "cell_type": "code",
   "execution_count": 41,
   "metadata": {},
   "outputs": [],
   "source": [
    "import re\n",
    "import io"
   ]
  },
  {
   "cell_type": "code",
   "execution_count": 104,
   "metadata": {},
   "outputs": [],
   "source": [
    "def clean_doc(filename):\n",
    "    # Takes a filename, opens it, cleans it, and returns an array of the words in the file.\n",
    "    with open(filename, \"r\", encoding=\"utf-8\") as file:\n",
    "        file_text = file.read()\n",
    "        # Remove all punctuation and numbers\n",
    "        file_text = re.sub(r\"[\\,\\.\\!\\-\\?\\'\\—\\_\\(\\)\\¡\\:\\;\\«\\»\\’\\¿“”*\\[\\]\\\"0-9]\", \"\", file_text)\n",
    "        # Remove new line characteres\n",
    "        file_text = re.sub(r\"\\n\", \" \", file_text)\n",
    "        # Convert everything to lower case\n",
    "        file_text = file_text.lower()\n",
    "        # Start scrubbing specific characters\n",
    "        file_text = re.sub(r\"ñ\", \"n\", file_text)\n",
    "        file_text = re.sub(r\"ó\", \"o\", file_text)\n",
    "        file_text = re.sub(r\"í\", \"i\", file_text)\n",
    "        file_text = re.sub(r\"é\", \"e\", file_text)\n",
    "        file_text = re.sub(r\"á\", \"a\", file_text)\n",
    "        file_text = re.sub(r\"ú\", \"u\", file_text)\n",
    "        file_text = re.sub(r\"ć\", \"c\", file_text)\n",
    "        # Remove extra whitespace\n",
    "        file_text = ' '.join(file_text.split())\n",
    "        # Return the scrubbed text\n",
    "        return file_text\n",
    "    \n",
    "Niebla_text = clean_doc(\"Niebla.txt\")\n",
    "TS_text = clean_doc(\"TS.txt\")\n",
    "HF_text = clean_doc(\"HF.txt\")\n",
    "Iliad_text = clean_doc(\"Iliad.txt\")\n",
    "DQ_text = clean_doc(\"DQ.txt\")\n",
    "\n",
    "# Niebla_set = set(Niebla_text.split())\n",
    "# TS_set = set(TS_text.split())\n",
    "# HF_set = set(HF_text.split())\n",
    "# Iliad_text = set(Iliad_text.split())\n",
    "# DQ_text = clean_doc(\"DQ.txt\")"
   ]
  },
  {
   "cell_type": "markdown",
   "metadata": {},
   "source": [
    "\n",
    "### b) Compute exact similarity scores between the documents.  Are these the expected results?\n",
    "\n"
   ]
  },
  {
   "cell_type": "code",
   "execution_count": 131,
   "metadata": {},
   "outputs": [],
   "source": [
    "def calc_similarity(k, doc1, doc2):\n",
    "    # Split each document into shingles of size k\n",
    "    doc1_shingles = set([doc1[0+i:k+i] for i in range(0, len(doc1))])\n",
    "    doc2_shingles = set([doc2[0+i:k+i] for i in range(0, len(doc2))])\n",
    "                \n",
    "    # Get the number of shingles that are in both\n",
    "    num_in_both = np.sum([1 if shingle in doc2_shingles else 0 for shingle in doc1_shingles])\n",
    "    # Get the number of shingles that are in either\n",
    "    num_in_either = len(doc1_shingles) + len(doc2_shingles) - num_in_both\n",
    "    # Calculate the similarity\n",
    "    return num_in_both / num_in_either"
   ]
  },
  {
   "cell_type": "code",
   "execution_count": 134,
   "metadata": {},
   "outputs": [
    {
     "name": "stdout",
     "output_type": "stream",
     "text": [
      "When k = 7, the similarity between TS and HF is 0.0660\n",
      "When k = 7, the similarity between TS and Niebla is 0.0012\n",
      "When k = 7, the similarity between TS and The Iliad is 0.0357\n",
      "When k = 7, the similarity between TS and DQ is 0.0011\n",
      "\n",
      "When k = 7, the similarity between Niebla and DQ is 0.0671\n",
      "When k = 7, the similarity between Niebla and HF is 0.0001\n",
      "When k = 7, the similarity between Niebla and the Iliad is 0.0013\n",
      "\n",
      "When k = 7, the similarity between Iliad and DQ is 0.0009\n",
      "When k = 7, the similarity between Iliad and HF is 0.0334\n"
     ]
    }
   ],
   "source": [
    "print(\"When k = {}, the similarity between TS and HF is {:0.4f}\".format(7, calc_similarity(7, TS_text, HF_text)))\n",
    "print(\"When k = {}, the similarity between TS and Niebla is {:0.4f}\".format(7, calc_similarity(7, TS_text, Niebla_text)))\n",
    "print(\"When k = {}, the similarity between TS and The Iliad is {:0.4f}\".format(7, calc_similarity(7, TS_text, Iliad_text)))\n",
    "print(\"When k = {}, the similarity between TS and DQ is {:0.4f}\".format(7, calc_similarity(7, TS_text, DQ_text)))\n",
    "print()\n",
    "print(\"When k = {}, the similarity between Niebla and DQ is {:0.4f}\".format(7, calc_similarity(7, Niebla_text, DQ_text)))\n",
    "print(\"When k = {}, the similarity between Niebla and HF is {:0.4f}\".format(7, calc_similarity(7, Niebla_text, HF_text)))\n",
    "print(\"When k = {}, the similarity between Niebla and the Iliad is {:0.4f}\".format(7, calc_similarity(7, Niebla_text, Iliad_text)))\n",
    "print()\n",
    "print(\"When k = {}, the similarity between Iliad and DQ is {:0.4f}\".format(7, calc_similarity(7, Iliad_text, DQ_text)))\n",
    "print(\"When k = {}, the similarity between Iliad and HF is {:0.4f}\".format(7, calc_similarity(7, Iliad_text, HF_text)))"
   ]
  },
  {
   "cell_type": "code",
   "execution_count": 227,
   "metadata": {},
   "outputs": [],
   "source": [
    "k = np.arange(0, 16)\n",
    "TS_HF_sim = [calc_similarity(k_i, TS_text, HF_text) for k_i in k]\n",
    "TS_Niebla_sim = [calc_similarity(k_i, TS_text, Niebla_text) for k_i in k]\n",
    "TS_Iliad_sim = [calc_similarity(k_i, TS_text, Iliad_text) for k_i in k]\n",
    "TS_DQ_sim = [calc_similarity(k_i, TS_text, DQ_text) for k_i in k]\n",
    "Niebla_DQ_sim = [calc_similarity(k_i, Niebla_text, DQ_text) for k_i in k]\n",
    "Niebla_HF_sim = [calc_similarity(k_i, Niebla_text, DQ_text) for k_i in k]\n",
    "Niebla_Iliad_sim = [calc_similarity(k_i, Niebla_text, DQ_text) for k_i in k]\n",
    "Iliad_HF_sim = [calc_similarity(k_i, Iliad_text, HF_text) for k_i in k]\n",
    "Iliad_DQ_sim = [calc_similarity(k_i, Iliad_text, DQ_text) for k_i in k]"
   ]
  },
  {
   "cell_type": "code",
   "execution_count": 229,
   "metadata": {},
   "outputs": [
    {
     "data": {
      "image/png": "[encoded data removed]",
      "text/plain": [
       "<Figure size 720x432 with 1 Axes>"
      ]
     },
     "metadata": {
      "needs_background": "light"
     },
     "output_type": "display_data"
    }
   ],
   "source": [
    "fig, ax = plt.subplots(1, 1, figsize=(10, 6))\n",
    "ax.plot(k, TS_HF_sim, label=\"TS & HF\")\n",
    "ax.plot(k, TS_Niebla_sim, label=\"TS & Niebla\")\n",
    "ax.plot(k, TS_Iliad_sim, label=\"TS & Iliad\")\n",
    "ax.plot(k, TS_DQ_sim, label=\"TS & DQ\")\n",
    "ax.plot(k, Niebla_DQ_sim, label=\"Niebla & DQ\")\n",
    "ax.plot(k, Niebla_HF_sim, label=\"Niebla & HF\")\n",
    "ax.plot(k, Niebla_Iliad_sim, label=\"Niebla & Iliad\")\n",
    "ax.plot(k, Iliad_HF_sim, label=\"Iliad & HF\")\n",
    "ax.plot(k, Iliad_DQ_sim, label=\"Iliad & DQ\")\n",
    "ax.legend()\n",
    "ax.set_title(\"Similarity Scores Based on Length of Shingle\")\n",
    "ax.set_ylabel(\"Similarity\")\n",
    "ax.set_xlabel(\"Length of Shingles\");"
   ]
  },
  {
   "cell_type": "markdown",
   "metadata": {},
   "source": [
    "We can see that our similarity scores are what we expected them to be. The two Mark Twain passages are the most similar to each other, and also the least similar from the two spanish passages. The Iliad has a simiarlity score in between the two Mark Twain and Spanish passages, which makes sense because its a translation from greek, but still written in English.  \n",
    "\n",
    "From the graph we can see that when $k$ is very small (k < 3), the similarities between all the documents is very high. This is because it is comparing single or pairs of letters, which are likely to appear even if the content of the two documents is very different. If $k > 7$, then the similarities are very small because it would be comparing multiple words to each other, which is unlikely with the overall small length of the documents. When $3 \\le k \\le 7$ is where we can see the clearest difference in similarity between documents, such as TS and HF being similar to each other whereas TS and DQ are very different."
   ]
  },
  {
   "cell_type": "markdown",
   "metadata": {},
   "source": [
    "### c) Implement minhashing with 1000 hash functions on the 4 documents, checking your results against those in part b).\n",
    "\n"
   ]
  },
  {
   "cell_type": "code",
   "execution_count": 203,
   "metadata": {},
   "outputs": [],
   "source": [
    "def hash_1000(row_num):\n",
    "    p = 599779\n",
    "    hashes = [(i*row_num + 7) % p for i in range(1000)]\n",
    "    return hashes"
   ]
  },
  {
   "cell_type": "code",
   "execution_count": 206,
   "metadata": {},
   "outputs": [],
   "source": [
    "def calc_minhash_signature_matrix(k, docs):\n",
    "    # Get the shingles of each document\n",
    "    doc_shingles = [set([doc[0+i:k+i] for i in range(0, len(doc))]) for doc in docs]\n",
    "    # Create a set of all the shingles of all documents\n",
    "    all_shingles = set([])\n",
    "    for shingles_set in doc_shingles:\n",
    "        all_shingles = all_shingles.union(shingles_set)\n",
    "\n",
    "    # Create characteristic matrix\n",
    "    char_matrix = np.array([[0] * len(docs)] * len(all_shingles))\n",
    "    # Populate cell (i, j) in char matrix with 1 if shingle_num i exists in document_num j.\n",
    "    for shingle_index, shingle in enumerate(all_shingles):\n",
    "        # If shingle is in document, set the index value to 1\n",
    "        for doc_index, shingle_set in enumerate(doc_shingles):\n",
    "            if shingle in shingle_set:\n",
    "                char_matrix[shingle_index][doc_index] = 1\n",
    "    \n",
    "    # Initialize signature matrix\n",
    "    signature_matrix = np.array([[np.inf] * len(docs)] * 1000)  # There 1000 hash functions so 1000 rows\n",
    "    \n",
    "    # For every row in character matrix\n",
    "    for row_num, char_row in enumerate(char_matrix):\n",
    "        # Calculate 1000 hash values\n",
    "        hashes = hash_1000(row_num)\n",
    "        # For each document on that row\n",
    "        for doc_num, has_a_shingle in enumerate(char_row):\n",
    "            # If that document contains that shingle\n",
    "            if has_a_shingle:\n",
    "                # Set the value of that column to the min(sig(i, c), hash(r))\n",
    "                signature_matrix[:, doc_num] = np.minimum(hashes, signature_matrix[:, doc_num])\n",
    "    return signature_matrix\n",
    "\n",
    "sigm = calc_minhash_signature_matrix(7, [TS_text, HF_text, Iliad_text, Niebla_text, DQ_text])"
   ]
  },
  {
   "cell_type": "code",
   "execution_count": 208,
   "metadata": {},
   "outputs": [
    {
     "name": "stdout",
     "output_type": "stream",
     "text": [
      "The MinHash similarity between TS and HF is 0.0770\n",
      "The MinHash similarity between TS and Niebla is 0.0010\n",
      "The MinHash similarity between TS and Iliad is 0.0100\n",
      "The MinHash similarity between TS and DQ is 0.0030\n",
      "\n",
      "The MinHash similarity between Niebla and DQ is 0.0850\n",
      "The MinHash similarity between Niebla and HF is 0.0010\n",
      "The MinHash similarity between Niebla and Iliad is 0.0010\n",
      "\n",
      "The MinHash similarity between Iliad and DQ is 0.0010\n",
      "The MinHash similarity between Iliad and HF is 0.0160\n"
     ]
    }
   ],
   "source": [
    "def calc_sim_from_signature_matrix(sigm, doc1, doc2):\n",
    "    doc_to_index = {\"TS\": 0, \"HF\": 1, \"Iliad\": 2, \"Niebla\": 3, \"DQ\": 4}\n",
    "    index1 = doc_to_index[doc1]\n",
    "    index2 = doc_to_index[doc2]\n",
    "    \n",
    "    sim = np.sum(sigm[:, index1] == sigm[:, index2]) / len(sigm[:, 1])\n",
    "    print(\"The MinHash similarity between {} and {} is {:0.4f}\".format(doc1, doc2, sim))\n",
    "    \n",
    "calc_sim_from_signature_matrix(sigm, \"TS\", \"HF\")\n",
    "calc_sim_from_signature_matrix(sigm, \"TS\", \"Niebla\")\n",
    "calc_sim_from_signature_matrix(sigm, \"TS\", \"Iliad\")\n",
    "calc_sim_from_signature_matrix(sigm, \"TS\", \"DQ\")\n",
    "print()\n",
    "calc_sim_from_signature_matrix(sigm, \"Niebla\", \"DQ\")\n",
    "calc_sim_from_signature_matrix(sigm, \"Niebla\", \"HF\")\n",
    "calc_sim_from_signature_matrix(sigm, \"Niebla\", \"Iliad\")\n",
    "print()\n",
    "calc_sim_from_signature_matrix(sigm, \"Iliad\", \"DQ\")\n",
    "calc_sim_from_signature_matrix(sigm, \"Iliad\", \"HF\")"
   ]
  },
  {
   "cell_type": "markdown",
   "metadata": {},
   "source": [
    "We can see that the trend is the same with the MinHash algorithm as it was with our results from **part b**. The numbers are slightly different but the overall trends are the same."
   ]
  },
  {
   "cell_type": "markdown",
   "metadata": {},
   "source": [
    "\n",
    "\n",
    "### d) Discussion:\n",
    "\n",
    "Can we detect expected differences here?  Are the two Spanish docuemnts most similar to each other?  Are the two documents by the same author, with the same theme, the most similar?  What kind of alternatives \n",
    "\n"
   ]
  },
  {
   "cell_type": "markdown",
   "metadata": {},
   "source": [
    "As seen above, the two spanish documents are most similar to each other and the two Mark Twain novels are also most similar to each other. This makes sense as they will have similar character combinations. This means we are detecting expected differences, based on our previous knowledge of what should be similar and different about the documents."
   ]
  },
  {
   "cell_type": "markdown",
   "metadata": {},
   "source": [
    "# HW2 Part 2\n",
    "\n",
    "***\n",
    "<a/ id='p4'></a>\n",
    "[Back to top](#top)\n",
    "# Problem 4 (Theory: GMM; 10 pts)\n",
    "\n",
    "In the GMM slides from lecture 5, we stated that the weights $w_m$ of the 1-dimension GMM with pdf\n",
    "\n",
    "$f(x|\\theta)=w_1\\phi(x|\\mu_1, \\sigma_1^2)+w_2\\phi(x|\\mu_2, \\sigma_2^2)+\\dots+ w_m\\phi(x|\\mu_m, \\sigma_m^2)$\n",
    "\n",
    "required the weights to sum to one.  \n",
    "\n",
    "#### a) Use the following markdown cell to prove this statement.  In a sentence, describe how this proof might change in higher dimensions."
   ]
  },
  {
   "cell_type": "markdown",
   "metadata": {},
   "source": [
    "Because $f(x |\\sigma)$ is a PDF, we know that all the area under the curve must sum to 1. Therefor, if we take it's integral over all possible values, then it will be equal to 1.\n",
    "\n",
    "$$\n",
    "\\begin{align*}\n",
    "    \\int_{-\\infty}^{\\infty} f(x | \\sigma) &= \\int_{-\\infty}^{\\infty} \\Big[ w_1\\phi(x|\\mu_1, \\sigma_1^2)+w_2\\phi(x|\\mu_2, \\sigma_2^2)+\\dots+ w_m\\phi(x|\\mu_m, \\sigma_m^2) \\Big] \\\\\n",
    "   1 &= \\int_{-\\infty}^{\\infty} w_1\\phi(x|\\mu_1, \\sigma_1^2) + \\int_{-\\infty}^{\\infty}w_2\\phi(x|\\mu_2, \\sigma_2^2) + \\dots + \\int_{-\\infty}^{\\infty}w_m\\phi(x|\\mu_m, \\sigma_m^2) \\\\\n",
    "   1 &= w_1 \\int_{-\\infty}^{\\infty} \\phi(x|\\mu_1, \\sigma_1^2) + w_2 \\int_{-\\infty}^{\\infty}\\phi(x|\\mu_2, \\sigma_2^2) + \\dots + w_m \\int_{-\\infty}^{\\infty}w_m\\phi(x|\\mu_m, \\sigma_m^2) \\\\\n",
    "   1 &= w_1 (1) + w_2 (1) + \\dots + w_m (1) \\\\\n",
    "   1 &= \\sum_{i=1}^m w_i\n",
    "\\end{align*}\n",
    "$$"
   ]
  },
  {
   "cell_type": "markdown",
   "metadata": {},
   "source": [
    "#### b) Is it possible to have a valid pdf $f(x)$ above if any of the weights $w_k$ are negative?  If not, why not?  If so, what other difficulties might be associated with negative weights?"
   ]
  },
  {
   "cell_type": "markdown",
   "metadata": {},
   "source": [
    "Intuitively, each weight $w_i$ represents the proportion of the total area of the GMM that lies under component $i$. It can be thought of as $w_i = 1 - \\Delta_i$ where $\\Delta_i$ is the proportion of the total area **not** under the $i^{th}$ component. In this way, for $w_i$ to be negative, then it would have a negative area (which is not possible) and $\\Delta_i > 1$, which would mean that there was more area under all the other components than there was under the total GMM, which is also not possible. Therefor, we can not have a negative weight."
   ]
  },
  {
   "cell_type": "markdown",
   "metadata": {},
   "source": [
    "***\n",
    "<a/ id='p5'></a>\n",
    "[Back to top](#top)\n",
    "# Problem 5 (Applied K-Means; 20 pts)\n",
    "\n",
    "#### Given is the youtube dataset, which has 1000 trending videos of Youtube (2017) with additional information such as views, likes, dislikes, etc about each video\n",
    "\n",
    "Import youtube dataset as pandas dataframe, see kmeans_youtube_data.csv."
   ]
  },
  {
   "cell_type": "code",
   "execution_count": 109,
   "metadata": {},
   "outputs": [
    {
     "data": {
      "text/html": [
       "<div>\n",
       "<style scoped>\n",
       "    .dataframe tbody tr th:only-of-type {\n",
       "        vertical-align: middle;\n",
       "    }\n",
       "\n",
       "    .dataframe tbody tr th {\n",
       "        vertical-align: top;\n",
       "    }\n",
       "\n",
       "    .dataframe thead th {\n",
       "        text-align: right;\n",
       "    }\n",
       "</style>\n",
       "<table border=\"1\" class=\"dataframe\">\n",
       "  <thead>\n",
       "    <tr style=\"text-align: right;\">\n",
       "      <th></th>\n",
       "      <th>video_id</th>\n",
       "      <th>title</th>\n",
       "      <th>channel_title</th>\n",
       "      <th>category_id</th>\n",
       "      <th>views</th>\n",
       "      <th>likes</th>\n",
       "      <th>dislikes</th>\n",
       "      <th>comment_count</th>\n",
       "    </tr>\n",
       "  </thead>\n",
       "  <tbody>\n",
       "    <tr>\n",
       "      <th>0</th>\n",
       "      <td>p9wE8dyzEJE</td>\n",
       "      <td>A Quiet Place (2018) - Official Teaser Trailer...</td>\n",
       "      <td>Paramount Pictures</td>\n",
       "      <td>1</td>\n",
       "      <td>2336528</td>\n",
       "      <td>6729</td>\n",
       "      <td>167</td>\n",
       "      <td>1286</td>\n",
       "    </tr>\n",
       "    <tr>\n",
       "      <th>1</th>\n",
       "      <td>rvskMHn0sqQ</td>\n",
       "      <td>A Selfish Argument for Making the World a Bett...</td>\n",
       "      <td>Kurzgesagt – In a Nutshell</td>\n",
       "      <td>27</td>\n",
       "      <td>1865071</td>\n",
       "      <td>137897</td>\n",
       "      <td>3691</td>\n",
       "      <td>15624</td>\n",
       "    </tr>\n",
       "    <tr>\n",
       "      <th>2</th>\n",
       "      <td>NaX-oGJEZI8</td>\n",
       "      <td>Aaj Se Teri | Padman | Akshay Kumar &amp; Radhika ...</td>\n",
       "      <td>Zee Music Company</td>\n",
       "      <td>10</td>\n",
       "      <td>4222559</td>\n",
       "      <td>92092</td>\n",
       "      <td>3460</td>\n",
       "      <td>5512</td>\n",
       "    </tr>\n",
       "    <tr>\n",
       "      <th>3</th>\n",
       "      <td>dUaCEs3HfdI</td>\n",
       "      <td>Aastha Gill - Buzz feat Badshah | Priyank Shar...</td>\n",
       "      <td>Sony Music India</td>\n",
       "      <td>10</td>\n",
       "      <td>17546748</td>\n",
       "      <td>237743</td>\n",
       "      <td>27279</td>\n",
       "      <td>21034</td>\n",
       "    </tr>\n",
       "    <tr>\n",
       "      <th>4</th>\n",
       "      <td>7kLO2AB5SPM</td>\n",
       "      <td>about Logan Paul</td>\n",
       "      <td>CaseyNeistat</td>\n",
       "      <td>22</td>\n",
       "      <td>2768013</td>\n",
       "      <td>165858</td>\n",
       "      <td>9001</td>\n",
       "      <td>14577</td>\n",
       "    </tr>\n",
       "  </tbody>\n",
       "</table>\n",
       "</div>"
      ],
      "text/plain": [
       "      video_id                                              title  \\\n",
       "0  p9wE8dyzEJE  A Quiet Place (2018) - Official Teaser Trailer...   \n",
       "1  rvskMHn0sqQ  A Selfish Argument for Making the World a Bett...   \n",
       "2  NaX-oGJEZI8  Aaj Se Teri | Padman | Akshay Kumar & Radhika ...   \n",
       "3  dUaCEs3HfdI  Aastha Gill - Buzz feat Badshah | Priyank Shar...   \n",
       "4  7kLO2AB5SPM                                   about Logan Paul   \n",
       "\n",
       "                channel_title  category_id     views   likes  dislikes  \\\n",
       "0          Paramount Pictures            1   2336528    6729       167   \n",
       "1  Kurzgesagt – In a Nutshell           27   1865071  137897      3691   \n",
       "2           Zee Music Company           10   4222559   92092      3460   \n",
       "3            Sony Music India           10  17546748  237743     27279   \n",
       "4                CaseyNeistat           22   2768013  165858      9001   \n",
       "\n",
       "   comment_count  \n",
       "0           1286  \n",
       "1          15624  \n",
       "2           5512  \n",
       "3          21034  \n",
       "4          14577  "
      ]
     },
     "execution_count": 109,
     "metadata": {},
     "output_type": "execute_result"
    }
   ],
   "source": [
    "df = pd.read_csv(\"kmeans_youtube_dataset.csv\")\n",
    "df.head()"
   ]
  },
  {
   "cell_type": "markdown",
   "metadata": {},
   "source": [
    "#### (a) Perform k-means clustering on this dataset using Euclidean distance as the distance metric. \n",
    "- Take 'views' and 'likes' as the features\n",
    "- initiate the centroids as the extreme points\n",
    "- choose k as 5"
   ]
  },
  {
   "cell_type": "code",
   "execution_count": 110,
   "metadata": {},
   "outputs": [
    {
     "data": {
      "image/png": "[encoded data removed]",
      "text/plain": [
       "<Figure size 720x432 with 1 Axes>"
      ]
     },
     "metadata": {
      "needs_background": "light"
     },
     "output_type": "display_data"
    }
   ],
   "source": [
    "fig, ax = plt.subplots(1, 1, figsize=(10, 6))\n",
    "ax.scatter(df[\"views\"], df[\"likes\"])\n",
    "ax.set_title(\"Likes vs. Views\")\n",
    "ax.set_xlabel(\"Views\")\n",
    "ax.set_ylabel(\"Likes\");"
   ]
  },
  {
   "cell_type": "code",
   "execution_count": 80,
   "metadata": {},
   "outputs": [],
   "source": [
    "def dist(x1, x2):\n",
    "    return np.sqrt(np.sum((x1-x2)**2))"
   ]
  },
  {
   "cell_type": "code",
   "execution_count": 5,
   "metadata": {},
   "outputs": [],
   "source": [
    "# We're setting the 5 centroids based on the percentiles of the data. This way we still take into account the 'extreme'\n",
    "# points without completely skewing the data.\n",
    "centroids = np.array([[0]*2]*5)\n",
    "centroids[0] = [np.percentile(df[\"views\"], 0), np.percentile(df[\"likes\"], 0)]\n",
    "centroids[1] = [np.percentile(df[\"views\"], 25), np.percentile(df[\"likes\"], 25)]\n",
    "centroids[2] = [np.percentile(df[\"views\"], 50), np.percentile(df[\"likes\"], 50)]\n",
    "centroids[3] = [np.percentile(df[\"views\"], 75), np.percentile(df[\"likes\"], 75)]\n",
    "centroids[4] = [np.percentile(df[\"views\"], 100), np.percentile(df[\"likes\"], 100)]"
   ]
  },
  {
   "cell_type": "code",
   "execution_count": 6,
   "metadata": {},
   "outputs": [],
   "source": [
    "dfData = df[[\"views\", \"likes\"]].copy()\n",
    "dfData[\"cluster\"] = np.array([-1] * len(dfData))\n",
    "\n",
    "k = 5  # Number of means\n",
    "n = 30  # how many loops\n",
    "dists = [[-1] * k] * len(dfData)  # Initialize list of distances\n",
    "cluster_labels = [-1] * len(dfData)\n",
    "for i in range(n):\n",
    "    # Label each point based on the nearest centroid\n",
    "    for j in range(len(dfData)):\n",
    "        dists[j] = [dist([dfData[\"views\"].iloc[j], dfData[\"likes\"].iloc[j]], centroid) for centroid in centroids]\n",
    "        cluster_labels[j] = dists[j].index(min(dists[j]))\n",
    "    dfData[\"cluster\"] = cluster_labels\n",
    "    # Update the centroids based on the clusters\n",
    "    for cluster in np.arange(5):\n",
    "        # Extract the data per cluster of that type\n",
    "        dfCluster = dfData.loc[dfData[\"cluster\"] == cluster]\n",
    "        new_x = np.mean(dfCluster[\"views\"])\n",
    "        new_y = np.mean(dfCluster[\"likes\"])\n",
    "        centroids[cluster] = [new_x, new_y]"
   ]
  },
  {
   "cell_type": "code",
   "execution_count": 7,
   "metadata": {},
   "outputs": [
    {
     "data": {
      "image/png": "[encoded data removed]",
      "text/plain": [
       "<Figure size 720x432 with 1 Axes>"
      ]
     },
     "metadata": {
      "needs_background": "light"
     },
     "output_type": "display_data"
    }
   ],
   "source": [
    "fig, ax = plt.subplots(1, 1, figsize = (10, 6))\n",
    "ax.scatter(dfData[\"views\"], dfData[\"likes\"], c=dfData[\"cluster\"])\n",
    "ax.set_title(\"Likes vs. Views Colored Per Cluster\")\n",
    "ax.set_xlabel(\"Views\")\n",
    "ax.set_ylabel(\"Likes\");"
   ]
  },
  {
   "cell_type": "markdown",
   "metadata": {},
   "source": [
    "How will you deal with the outliers in this problem?"
   ]
  },
  {
   "cell_type": "markdown",
   "metadata": {},
   "source": [
    "Ignoring data is a bad idea, so I think a good approach would be to assign the centroids in percentiles. In this way, the outliers will still be represented by the high percentiles but the majority of the data, and the centroids, will still be together."
   ]
  },
  {
   "cell_type": "markdown",
   "metadata": {},
   "source": [
    "#### (b) How does 'category_id' affect the results? Which category gets most views and likes?"
   ]
  },
  {
   "cell_type": "code",
   "execution_count": 22,
   "metadata": {},
   "outputs": [],
   "source": [
    "categs = {}\n",
    "labels = []\n",
    "c = 0\n",
    "for i in df[\"category_id\"]:\n",
    "    if i not in categs.keys():\n",
    "        categs[i] = c\n",
    "        c += 1\n",
    "    labels.append(categs[i])"
   ]
  },
  {
   "cell_type": "code",
   "execution_count": 36,
   "metadata": {},
   "outputs": [
    {
     "data": {
      "image/png": "[encoded data removed]",
      "text/plain": [
       "<Figure size 720x432 with 1 Axes>"
      ]
     },
     "metadata": {
      "needs_background": "light"
     },
     "output_type": "display_data"
    }
   ],
   "source": [
    "import matplotlib.cm as cm\n",
    "colors = np.array([\"grey\", \"cyan\", \"darksalmon\", \"gold\", \"olivedrab\", \"palegreen\", \\\n",
    "                   \"lightseagreen\", \"paleturquoise\", \"deepskyblue\", \"navy\", \"mediumpurple\", \\\n",
    "                   \"plum\", \"mediumvioletred\", \"crimson\", \"green\"])\n",
    "df[\"category_id\"] = df[\"category_id\"].astype(\"category\")\n",
    "\n",
    "fig, ax = plt.subplots(1, 1, figsize=(10, 6))\n",
    "for index, category in enumerate(df[\"category_id\"].unique()):\n",
    "    dfPlot = df.loc[df[\"category_id\"] == category]\n",
    "    ax.scatter(dfPlot[\"views\"], dfPlot[\"likes\"], alpha=0.5, c=colors[index], label=category)\n",
    "\n",
    "ax.set_title(\"Likes vs. Views by Category_id\")\n",
    "ax.set_xlabel(\"Views\")\n",
    "ax.set_ylabel(\"Likes\")\n",
    "ax.legend();"
   ]
  },
  {
   "cell_type": "markdown",
   "metadata": {},
   "source": [
    "Most of the categories appears to get similar numbers of views and likes. The most obvious outliers are category 24, which gets a lot of views but not a lot of likes and category 10 which gets both a lot of views and a lot of likes."
   ]
  },
  {
   "cell_type": "code",
   "execution_count": 83,
   "metadata": {},
   "outputs": [
    {
     "data": {
      "image/png": "[encoded data removed]",
      "text/plain": [
       "<Figure size 720x432 with 1 Axes>"
      ]
     },
     "metadata": {
      "needs_background": "light"
     },
     "output_type": "display_data"
    }
   ],
   "source": [
    "fig, ax = plt.subplots(1, 1, figsize=(10, 6))\n",
    "dfData[\"category\"] = pd.to_numeric(df[\"category_id\"])\n",
    "margin_bottom = np.zeros(len(dfData[\"cluster\"].drop_duplicates()))\n",
    "\n",
    "for index, category in enumerate(dfData[\"category\"].unique()):\n",
    "    dfCat = dfData.loc[dfData[\"category\"] == category]\n",
    "    counts, bins, bars = ax.hist(dfCat[\"cluster\"], bins=np.arange(6)-0.5,  bottom=margin_bottom, \n",
    "                                 color=colors[index], edgecolor=\"white\", label=str(category))\n",
    "    margin_bottom += counts\n",
    "\n",
    "ax.set_title(\"Histogram of Categories per Cluster\")\n",
    "ax.set_xlabel(\"Cluster\")\n",
    "ax.set_ylabel(\"Frequency\")\n",
    "ax.legend();"
   ]
  },
  {
   "cell_type": "markdown",
   "metadata": {},
   "source": [
    "The histogram also shows us the distribution of the categories per cluster. Similar to above, we can see that categories 10 and 24 are the most likely to be classified into the higher categories (and thus having more views and likes) than the other categories."
   ]
  },
  {
   "cell_type": "markdown",
   "metadata": {},
   "source": [
    "#### (c) Find the optimal k for the previous problem (a) using the idea of an \"elbow\" or bend in the average distance-to-centroid of the data set."
   ]
  },
  {
   "cell_type": "code",
   "execution_count": 101,
   "metadata": {},
   "outputs": [],
   "source": [
    "from sklearn.cluster import KMeans\n",
    "# Need to calculate the standard square error for each point for different values of k\n",
    "SSE = []\n",
    "k = np.arange(1, 11)\n",
    "for k_i in k:\n",
    "    kmeans = KMeans(n_clusters = k_i).fit(dfData[[\"views\", \"likes\"]])\n",
    "    centroids = kmeans.cluster_centers_\n",
    "    pred_clusters = kmeans.predict(dfData[[\"views\", \"likes\"]])\n",
    "    dist = 0\n",
    "#     Calculate Euclidean distance between all points and their centroids\n",
    "    for i in range(len(dfData)):\n",
    "        cluster_centroid = centroids[pred_clusters[i]]\n",
    "        dist += ((dfData[\"views\"].iloc[i] - cluster_centroid[0])**2 \n",
    "                 + (dfData[\"likes\"].iloc[i] - cluster_centroid[1])**2)\n",
    "    SSE.append(dist)"
   ]
  },
  {
   "cell_type": "code",
   "execution_count": 104,
   "metadata": {},
   "outputs": [
    {
     "data": {
      "image/png": "[encoded data removed]",
      "text/plain": [
       "<Figure size 720x432 with 1 Axes>"
      ]
     },
     "metadata": {
      "needs_background": "light"
     },
     "output_type": "display_data"
    }
   ],
   "source": [
    "fig, ax = plt.subplots(1, 1, figsize=(10, 6))\n",
    "ax.plot(k, SSE)\n",
    "ax.scatter(k, SSE, marker=\"x\")\n",
    "ax.set_title(\"Elbow Plot of Distances from Points to Centroids\")\n",
    "ax.set_xlabel(\"Number of Centroids\")\n",
    "ax.set_ylabel(\"Sum of Squared Distances\");"
   ]
  },
  {
   "cell_type": "markdown",
   "metadata": {},
   "source": [
    "From the plot above, we can determine the \"optimal\" value of k based on when the error decreases little beyond that value. For our data set, we can say that the optimal k value is 5."
   ]
  },
  {
   "cell_type": "markdown",
   "metadata": {},
   "source": [
    "#### (d) Include 'comments' as a feature and do the clustering again.  Are there certain types of category_ids that seem to lend themselves to more comments?  Explain."
   ]
  },
  {
   "cell_type": "code",
   "execution_count": 151,
   "metadata": {},
   "outputs": [
    {
     "data": {
      "image/png": "[encoded data removed]",
      "text/plain": [
       "<Figure size 720x432 with 1 Axes>"
      ]
     },
     "metadata": {
      "needs_background": "light"
     },
     "output_type": "display_data"
    }
   ],
   "source": [
    "fig, ax = plt.subplots(1, 1, figsize=(10, 6))\n",
    "\n",
    "for index, category in enumerate(dfData[\"category\"].unique()):\n",
    "    dfCat = dfData.loc[dfData[\"category\"] == category]\n",
    "    ax.scatter(category, np.median(dfCat[\"comments\"]), marker=\"x\", c=\"c\")\n",
    "ax.set_title(\"Medians of Comments per Category\")\n",
    "ax.set_xlabel(\"Category ID\")\n",
    "ax.set_ylabel(\"Medain Number of Comments\");"
   ]
  },
  {
   "cell_type": "markdown",
   "metadata": {},
   "source": [
    "From the plot above, we can see that videos from category 29 have far more comments per video ($\\sim 175,000$) than the other categories, which all have between $5,000$ and $20,000$."
   ]
  },
  {
   "cell_type": "code",
   "execution_count": 143,
   "metadata": {},
   "outputs": [],
   "source": [
    "dfData[\"comments\"] = df[\"comment_count\"]\n",
    "# Same code as above but with comments as a feature\n",
    "SSE_with_comments = []\n",
    "k = np.arange(1, 11)\n",
    "for k_i in k:\n",
    "    kmeans = KMeans(n_clusters = k_i).fit(dfData[[\"views\", \"likes\", \"comments\"]])\n",
    "    centroids = kmeans.cluster_centers_\n",
    "    pred_clusters = kmeans.predict(dfData[[\"views\", \"likes\", \"comments\"]])\n",
    "    dist = 0\n",
    "#     Calculate Euclidean distance between all points and their centroids\n",
    "    for i in range(len(dfData)):\n",
    "        cluster_centroid = centroids[pred_clusters[i]]\n",
    "        dist += ((dfData[\"views\"].iloc[i] - cluster_centroid[0])**2 \n",
    "                 + (dfData[\"likes\"].iloc[i] - cluster_centroid[1])**2\n",
    "                 + (dfData[\"comments\"].iloc[i] - cluster_centroid[2])**2)\n",
    "    SSE_with_comments.append(dist)"
   ]
  },
  {
   "cell_type": "code",
   "execution_count": 144,
   "metadata": {
    "scrolled": false
   },
   "outputs": [
    {
     "data": {
      "image/png": "[encoded data removed]",
      "text/plain": [
       "<Figure size 720x432 with 1 Axes>"
      ]
     },
     "metadata": {
      "needs_background": "light"
     },
     "output_type": "display_data"
    }
   ],
   "source": [
    "fig, ax = plt.subplots(1, 1, figsize=(10, 6))\n",
    "ax.plot(k, SSE_with_comments)\n",
    "ax.scatter(k, SSE, marker=\"x\")\n",
    "ax.set_title(\"Total Distances when Number of Comments is Included\")\n",
    "ax.set_xlabel(\"Number of Centroids\")\n",
    "ax.set_ylabel(\"Sum of Squared Distances\");"
   ]
  },
  {
   "cell_type": "markdown",
   "metadata": {},
   "source": [
    "After fitting our model with \"comment_count\" as a feature, we can see that the elbow graph is about the same as the one with only \"views\" and \"likes\" as features."
   ]
  },
  {
   "cell_type": "markdown",
   "metadata": {},
   "source": [
    "#### (e) What are the shortcomings of using euclidean distance in this case? What other distance metrics can be used apart from euclidean?"
   ]
  },
  {
   "cell_type": "code",
   "execution_count": 146,
   "metadata": {},
   "outputs": [
    {
     "data": {
      "text/html": [
       "<div>\n",
       "<style scoped>\n",
       "    .dataframe tbody tr th:only-of-type {\n",
       "        vertical-align: middle;\n",
       "    }\n",
       "\n",
       "    .dataframe tbody tr th {\n",
       "        vertical-align: top;\n",
       "    }\n",
       "\n",
       "    .dataframe thead th {\n",
       "        text-align: right;\n",
       "    }\n",
       "</style>\n",
       "<table border=\"1\" class=\"dataframe\">\n",
       "  <thead>\n",
       "    <tr style=\"text-align: right;\">\n",
       "      <th></th>\n",
       "      <th>views</th>\n",
       "      <th>likes</th>\n",
       "      <th>comment_count</th>\n",
       "    </tr>\n",
       "  </thead>\n",
       "  <tbody>\n",
       "    <tr>\n",
       "      <th>count</th>\n",
       "      <td>1.000000e+03</td>\n",
       "      <td>1.000000e+03</td>\n",
       "      <td>1000.00000</td>\n",
       "    </tr>\n",
       "    <tr>\n",
       "      <th>mean</th>\n",
       "      <td>3.802194e+06</td>\n",
       "      <td>1.660264e+05</td>\n",
       "      <td>19229.45300</td>\n",
       "    </tr>\n",
       "    <tr>\n",
       "      <th>std</th>\n",
       "      <td>3.694175e+06</td>\n",
       "      <td>2.486123e+05</td>\n",
       "      <td>42509.86567</td>\n",
       "    </tr>\n",
       "    <tr>\n",
       "      <th>min</th>\n",
       "      <td>1.724134e+06</td>\n",
       "      <td>6.700000e+02</td>\n",
       "      <td>24.00000</td>\n",
       "    </tr>\n",
       "    <tr>\n",
       "      <th>25%</th>\n",
       "      <td>2.031443e+06</td>\n",
       "      <td>3.421225e+04</td>\n",
       "      <td>3209.50000</td>\n",
       "    </tr>\n",
       "    <tr>\n",
       "      <th>50%</th>\n",
       "      <td>2.618269e+06</td>\n",
       "      <td>1.068750e+05</td>\n",
       "      <td>9060.50000</td>\n",
       "    </tr>\n",
       "    <tr>\n",
       "      <th>75%</th>\n",
       "      <td>3.930847e+06</td>\n",
       "      <td>2.083985e+05</td>\n",
       "      <td>20622.00000</td>\n",
       "    </tr>\n",
       "    <tr>\n",
       "      <th>max</th>\n",
       "      <td>3.934993e+07</td>\n",
       "      <td>3.880074e+06</td>\n",
       "      <td>692311.00000</td>\n",
       "    </tr>\n",
       "  </tbody>\n",
       "</table>\n",
       "</div>"
      ],
      "text/plain": [
       "              views         likes  comment_count\n",
       "count  1.000000e+03  1.000000e+03     1000.00000\n",
       "mean   3.802194e+06  1.660264e+05    19229.45300\n",
       "std    3.694175e+06  2.486123e+05    42509.86567\n",
       "min    1.724134e+06  6.700000e+02       24.00000\n",
       "25%    2.031443e+06  3.421225e+04     3209.50000\n",
       "50%    2.618269e+06  1.068750e+05     9060.50000\n",
       "75%    3.930847e+06  2.083985e+05    20622.00000\n",
       "max    3.934993e+07  3.880074e+06   692311.00000"
      ]
     },
     "execution_count": 146,
     "metadata": {},
     "output_type": "execute_result"
    }
   ],
   "source": [
    "df[[\"views\", \"likes\", \"comment_count\"]].describe()"
   ]
  },
  {
   "cell_type": "markdown",
   "metadata": {},
   "source": [
    "One shortcoming is that the values are not normalized. We can see in the table above that the values and standard deviations of the \"views\" and \"likes\" are far greater than the values of \"comment_count.\" This means that they will have a higher difference in distance, and thus greater influence on the Euclidean distance calculation, than the values of \"comment_count\" will have."
   ]
  },
  {
   "cell_type": "markdown",
   "metadata": {},
   "source": [
    "#### (f) What is the correlation coefficient between 'views' and 'likes'? What do you infer from this?"
   ]
  },
  {
   "cell_type": "code",
   "execution_count": 147,
   "metadata": {},
   "outputs": [
    {
     "data": {
      "text/plain": [
       "array([[1.        , 0.60646017],\n",
       "       [0.60646017, 1.        ]])"
      ]
     },
     "execution_count": 147,
     "metadata": {},
     "output_type": "execute_result"
    }
   ],
   "source": [
    "np.corrcoef(dfData[\"views\"], dfData[\"likes\"])"
   ]
  },
  {
   "cell_type": "markdown",
   "metadata": {},
   "source": [
    "The correlation coefficient between \"views\" and \"likes\" is $\\approx 0.606$, which is a strong correlation. This basically means that for every 10 people that watch a video, 6 of them will like it. This will mean that our data is likely occuring along a roughly linear line between \"views\" and \"likes\"."
   ]
  },
  {
   "cell_type": "markdown",
   "metadata": {},
   "source": [
    "***\n",
    "<a/ id='p6'></a>\n",
    "[Back to top](#top)\n",
    "# Problem 6 (K-means vs. GMM; 20 pts)\n",
    "\n",
    "In this consider a synthetic data set generated by simulating data coming from 3 components."
   ]
  },
  {
   "cell_type": "code",
   "execution_count": 60,
   "metadata": {},
   "outputs": [],
   "source": [
    "import numpy as np \n",
    "import pandas as pd\n",
    "import scipy.stats as stats\n",
    "import matplotlib.pyplot as plt\n",
    "%matplotlib inline\n",
    "np.random.seed(4022)"
   ]
  },
  {
   "cell_type": "markdown",
   "metadata": {},
   "source": [
    "Cluster 1 is coming from a uniform process on $[0,1] \\times [0,1]$:"
   ]
  },
  {
   "cell_type": "code",
   "execution_count": 61,
   "metadata": {},
   "outputs": [],
   "source": [
    "def unifcluster(nsamp):\n",
    "    d={'x': np.random.random(size=nsamp), 'y': np.random.random(size=nsamp)}\n",
    "    dftemp= pd.DataFrame(data=d)\n",
    "    dftemp['True_Cluster']='uniform'\n",
    "    return dftemp\n",
    "\n",
    "#Example 70 points\n",
    "dfunif=unifcluster(70)\n",
    "# plt.scatter(dfunif['x'],dfunif['y'], color='green')\n",
    "# plt.ylim(-1, 3);\n",
    "# plt.xlim(-1, 3);\n"
   ]
  },
  {
   "cell_type": "markdown",
   "metadata": {},
   "source": [
    "Cluster 2 is coming from a multivariate normal (a Gaussian!)"
   ]
  },
  {
   "cell_type": "code",
   "execution_count": 62,
   "metadata": {},
   "outputs": [],
   "source": [
    "def normcluster(nsamp):\n",
    "    d=np.random.multivariate_normal([1.05,1.3], [[.5,-.1],[-.1,.2]],nsamp)\n",
    "    dftemp = pd.DataFrame(data=d, columns=['x','y'])\n",
    "    dftemp['True_Cluster']='normal'\n",
    "    return dftemp\n",
    "\n",
    "#Example 50 points\n",
    "dfnorm=normcluster(50)\n",
    "# plt.scatter(dfnorm['x'],dfnorm['y'], color='blue')\n",
    "# plt.ylim(-1, 3);\n",
    "# plt.xlim(-1, 3);\n",
    "\n",
    "       \n",
    "       "
   ]
  },
  {
   "cell_type": "markdown",
   "metadata": {},
   "source": [
    "Cluster 3 is coming from... something angular?"
   ]
  },
  {
   "cell_type": "code",
   "execution_count": 63,
   "metadata": {},
   "outputs": [],
   "source": [
    "def polarcluster(nsamp):\n",
    "    beta=np.random.beta(10,10,nsamp)\n",
    "    theta=[bi*np.pi-.9 for bi in beta]\n",
    "    runif=np.random.random(nsamp)\n",
    "    r=[.3*ri+1.55 for ri in runif]\n",
    "    x=[0]*nsamp\n",
    "    y=[0]*nsamp\n",
    "    for i in range(nsamp):\n",
    "        x[i]=r[i]*np.cos(theta[i])\n",
    "        y[i]=r[i]*np.sin(theta[i])\n",
    "    d={'x': x, 'y': y}\n",
    "    dftemp= pd.DataFrame(data=d)\n",
    "    dftemp['True_Cluster']='polar'\n",
    "    return dftemp\n",
    "\n",
    "#Example 50 points\n",
    "dfpolar=polarcluster(50)\n",
    "# plt.scatter(dfpolar['x'],dfpolar['y'], color='red')\n",
    "# plt.ylim(-1, 3);\n",
    "# plt.xlim(-1, 3);    "
   ]
  },
  {
   "cell_type": "markdown",
   "metadata": {},
   "source": [
    "All together, these give us our data set:"
   ]
  },
  {
   "cell_type": "code",
   "execution_count": 64,
   "metadata": {},
   "outputs": [
    {
     "data": {
      "text/html": [
       "<div>\n",
       "<style scoped>\n",
       "    .dataframe tbody tr th:only-of-type {\n",
       "        vertical-align: middle;\n",
       "    }\n",
       "\n",
       "    .dataframe tbody tr th {\n",
       "        vertical-align: top;\n",
       "    }\n",
       "\n",
       "    .dataframe thead th {\n",
       "        text-align: right;\n",
       "    }\n",
       "</style>\n",
       "<table border=\"1\" class=\"dataframe\">\n",
       "  <thead>\n",
       "    <tr style=\"text-align: right;\">\n",
       "      <th></th>\n",
       "      <th>x</th>\n",
       "      <th>y</th>\n",
       "      <th>True_Cluster</th>\n",
       "    </tr>\n",
       "  </thead>\n",
       "  <tbody>\n",
       "    <tr>\n",
       "      <th>0</th>\n",
       "      <td>0.355593</td>\n",
       "      <td>1.262988</td>\n",
       "      <td>normal</td>\n",
       "    </tr>\n",
       "    <tr>\n",
       "      <th>1</th>\n",
       "      <td>0.779189</td>\n",
       "      <td>0.764100</td>\n",
       "      <td>normal</td>\n",
       "    </tr>\n",
       "    <tr>\n",
       "      <th>2</th>\n",
       "      <td>0.572387</td>\n",
       "      <td>2.050624</td>\n",
       "      <td>normal</td>\n",
       "    </tr>\n",
       "    <tr>\n",
       "      <th>3</th>\n",
       "      <td>-0.524114</td>\n",
       "      <td>1.761501</td>\n",
       "      <td>normal</td>\n",
       "    </tr>\n",
       "    <tr>\n",
       "      <th>4</th>\n",
       "      <td>1.353092</td>\n",
       "      <td>1.563850</td>\n",
       "      <td>normal</td>\n",
       "    </tr>\n",
       "    <tr>\n",
       "      <th>5</th>\n",
       "      <td>1.249703</td>\n",
       "      <td>0.982300</td>\n",
       "      <td>normal</td>\n",
       "    </tr>\n",
       "    <tr>\n",
       "      <th>6</th>\n",
       "      <td>0.706100</td>\n",
       "      <td>0.646253</td>\n",
       "      <td>normal</td>\n",
       "    </tr>\n",
       "    <tr>\n",
       "      <th>7</th>\n",
       "      <td>1.307480</td>\n",
       "      <td>2.089174</td>\n",
       "      <td>normal</td>\n",
       "    </tr>\n",
       "    <tr>\n",
       "      <th>8</th>\n",
       "      <td>0.444544</td>\n",
       "      <td>1.391092</td>\n",
       "      <td>normal</td>\n",
       "    </tr>\n",
       "    <tr>\n",
       "      <th>9</th>\n",
       "      <td>1.106045</td>\n",
       "      <td>0.986996</td>\n",
       "      <td>normal</td>\n",
       "    </tr>\n",
       "  </tbody>\n",
       "</table>\n",
       "</div>"
      ],
      "text/plain": [
       "          x         y True_Cluster\n",
       "0  0.355593  1.262988       normal\n",
       "1  0.779189  0.764100       normal\n",
       "2  0.572387  2.050624       normal\n",
       "3 -0.524114  1.761501       normal\n",
       "4  1.353092  1.563850       normal\n",
       "5  1.249703  0.982300       normal\n",
       "6  0.706100  0.646253       normal\n",
       "7  1.307480  2.089174       normal\n",
       "8  0.444544  1.391092       normal\n",
       "9  1.106045  0.986996       normal"
      ]
     },
     "execution_count": 64,
     "metadata": {},
     "output_type": "execute_result"
    },
    {
     "data": {
      "image/png": "[encoded data removed]",
      "text/plain": [
       "<Figure size 432x288 with 1 Axes>"
      ]
     },
     "metadata": {
      "needs_background": "light"
     },
     "output_type": "display_data"
    }
   ],
   "source": [
    "df=dfnorm.append(dfunif.append(dfpolar))\n",
    "plt.scatter(df['x'],df['y'], color='black')\n",
    "\n",
    "plt.scatter(dfunif['x'],dfunif['y'], color='green')\n",
    "plt.scatter(dfnorm['x'],dfnorm['y'], color='blue')\n",
    "plt.scatter(dfpolar['x'],dfpolar['y'], color='red')\n",
    "plt.ylim(-1, 3);\n",
    "plt.xlim(-1, 3);  \n",
    "\n",
    "df.head(10)\n"
   ]
  },
  {
   "cell_type": "markdown",
   "metadata": {},
   "source": [
    "The goal of this problem is to compare k-means and GMMs on this sort of data, and describe strenghts and weaknesses of each model in a way that we could choose between them *a priori* in the future.  The data is in `df`."
   ]
  },
  {
   "cell_type": "markdown",
   "metadata": {},
   "source": [
    "### Part 1: K-Means and Sensitivity\n",
    "\n",
    "For both k=2 and k=3, we are going to run k-means 100 times, each with a different random initialization.\n",
    "\n",
    "Perform the following operations 100 times:\n",
    "\n",
    "    1) Initialize k-means by randomly selecting `k' of your data points\n",
    "    2) Run k-means until convergence\n",
    "    3) Save the final cluster for each point\n",
    "    \n",
    "    \n",
    "A few rows of your final k=3 output might be:\n",
    "\n",
    "`dfk3.head(3)'\n",
    "\n",
    "| Point # | Run1 | Run2 | Run3 | ... | Run 100 |\n",
    "| --- | --- |\n",
    "| 1 | 1 | 2 | 1| ... | 1 |\n",
    "| 2 | 3 | 1 | 3 | ... | 3|\n",
    "| 3 | 1 | 2 | 1 | ... | 1|\n",
    "\n",
    "(so in this example, points 1 & 3 were always in the same cluster, but point 2 was elsewhere)"
   ]
  },
  {
   "cell_type": "code",
   "execution_count": 6,
   "metadata": {},
   "outputs": [],
   "source": [
    "def df_dist(x1, x2):\n",
    "    return np.sqrt(np.sum((x1-x2)**2))"
   ]
  },
  {
   "cell_type": "code",
   "execution_count": 12,
   "metadata": {
    "collapsed": true
   },
   "outputs": [
    {
     "name": "stdout",
     "output_type": "stream",
     "text": [
      "0\n",
      "1\n",
      "2\n",
      "3\n",
      "4\n",
      "5\n",
      "6\n",
      "7\n",
      "8\n",
      "9\n",
      "10\n",
      "11\n",
      "12\n",
      "13\n",
      "14\n",
      "15\n",
      "16\n",
      "17\n",
      "18\n",
      "19\n",
      "20\n",
      "21\n",
      "22\n",
      "23\n",
      "24\n",
      "25\n",
      "26\n",
      "27\n",
      "28\n",
      "29\n",
      "30\n",
      "31\n",
      "32\n",
      "33\n",
      "34\n",
      "35\n",
      "36\n",
      "37\n",
      "38\n",
      "39\n",
      "40\n",
      "41\n",
      "42\n",
      "43\n",
      "44\n",
      "45\n",
      "46\n",
      "47\n",
      "48\n",
      "49\n",
      "50\n",
      "51\n",
      "52\n",
      "53\n",
      "54\n",
      "55\n",
      "56\n",
      "57\n",
      "58\n",
      "59\n",
      "60\n",
      "61\n",
      "62\n",
      "63\n",
      "64\n",
      "65\n",
      "66\n",
      "67\n",
      "68\n",
      "69\n",
      "70\n",
      "71\n",
      "72\n",
      "73\n",
      "74\n",
      "75\n",
      "76\n",
      "77\n",
      "78\n",
      "79\n",
      "80\n",
      "81\n",
      "82\n",
      "83\n",
      "84\n",
      "85\n",
      "86\n",
      "87\n",
      "88\n",
      "89\n",
      "90\n",
      "91\n",
      "92\n",
      "93\n",
      "94\n",
      "95\n",
      "96\n",
      "97\n",
      "98\n",
      "99\n",
      "0\n",
      "1\n",
      "2\n",
      "3\n",
      "4\n",
      "5\n",
      "6\n",
      "7\n",
      "8\n",
      "9\n",
      "10\n",
      "11\n",
      "12\n",
      "13\n",
      "14\n",
      "15\n",
      "16\n",
      "17\n",
      "18\n",
      "19\n",
      "20\n",
      "21\n",
      "22\n",
      "23\n",
      "24\n",
      "25\n",
      "26\n",
      "27\n",
      "28\n",
      "29\n",
      "30\n",
      "31\n",
      "32\n",
      "33\n",
      "34\n",
      "35\n",
      "36\n",
      "37\n",
      "38\n",
      "39\n",
      "40\n",
      "41\n",
      "42\n",
      "43\n",
      "44\n",
      "45\n",
      "46\n",
      "47\n",
      "48\n",
      "49\n",
      "50\n",
      "51\n",
      "52\n",
      "53\n",
      "54\n",
      "55\n",
      "56\n",
      "57\n",
      "58\n",
      "59\n",
      "60\n",
      "61\n",
      "62\n",
      "63\n",
      "64\n",
      "65\n",
      "66\n",
      "67\n",
      "68\n",
      "69\n",
      "70\n",
      "71\n",
      "72\n",
      "73\n",
      "74\n",
      "75\n",
      "76\n",
      "77\n",
      "78\n",
      "79\n",
      "80\n",
      "81\n",
      "82\n",
      "83\n",
      "84\n",
      "85\n",
      "86\n",
      "87\n",
      "88\n",
      "89\n",
      "90\n",
      "91\n",
      "92\n",
      "93\n",
      "94\n",
      "95\n",
      "96\n",
      "97\n",
      "98\n",
      "99\n"
     ]
    }
   ],
   "source": [
    "K = [2, 3]\n",
    "n = 100  # Repeat n times\n",
    "\n",
    "df_size = len(df)\n",
    "dfk2 = pd.DataFrame(data=np.zeros([n, df_size]))\n",
    "dfk3 = pd.DataFrame(data=np.zeros([n, df_size]))\n",
    "dfTemp = df.copy()\n",
    "\n",
    "for k in K:\n",
    "    for run_num in range(n):\n",
    "        data_indexes = np.random.choice(np.arange(df_size), k, replace=False)\n",
    "        centroids = df[[\"x\", \"y\"]].iloc[data_indexes, :]\n",
    "        dists = [[-1] * k]* df_size\n",
    "        # Run k means until convergence, which we'll estimate as 10\n",
    "        for i in range(10):\n",
    "            cluster_labels = [-1] * df_size\n",
    "            # Label each point based on the nearest centroid\n",
    "            for j in range(df_size):\n",
    "                dists[j] = centroids.apply(lambda x: df_dist(x, df[[\"x\", \"y\"]].iloc[j, :]), axis=1)\n",
    "                cluster_labels[j] = list(dists[j]).index(np.min(dists[j]))\n",
    "            # Save the predicted labels\n",
    "            dfTemp[\"cluster\"] = cluster_labels\n",
    "            # Update the centroids based on the clusters\n",
    "            for cluster in np.arange(k):\n",
    "                # Extract the data per cluster of that type\n",
    "                dfCluster = dfTemp.loc[dfTemp[\"cluster\"] == cluster]\n",
    "                new_x = np.mean(dfCluster[\"x\"])\n",
    "                new_y = np.mean(dfCluster[\"y\"])\n",
    "                centroids.iloc[cluster, :] = [new_x, new_y]\n",
    "        # Update dataframes of labels at end of each k-means training\n",
    "        if k == 2:\n",
    "            dfk2.loc[run_num, :] = cluster_labels\n",
    "        elif k == 3:\n",
    "            dfk3.loc[run_num, :] = cluster_labels\n",
    "        print(run_num)"
   ]
  },
  {
   "cell_type": "code",
   "execution_count": 7,
   "metadata": {},
   "outputs": [],
   "source": [
    "# Save the dataframes because that function took forever\n",
    "# dfk2.to_pickle(\"dfk2.pkl\")\n",
    "# dfk3.to_pickle(\"dfk3.pkl\")\n",
    "\n",
    "# Use these commands to load dataframes if you close jupyter\n",
    "dfk2 = pd.read_pickle(\"dfk2.pkl\")\n",
    "dfk3 = pd.read_pickle(\"dfk3.pkl\")"
   ]
  },
  {
   "cell_type": "markdown",
   "metadata": {},
   "source": [
    "### Part 2: GMM as a hard cluster\n",
    "\n",
    "Run the EM algorithm for a Gaussian mixture model on the data with k=2 and k=3 components.  Initialize using the min/max of the first data dimension for k=2, then also initialize with the point the greatest minimum distance from these two points for k=3.\n",
    "\n",
    "When your model has run instead of reporting the estimated $\\gamma$ or $p$ probabilities, *hard* cluster each point $x_i$ according to the maximum estimated $\\gamma$ value for that point so the GMM and k-means models can be compared side by side."
   ]
  },
  {
   "cell_type": "code",
   "execution_count": 150,
   "metadata": {},
   "outputs": [],
   "source": [
    "dfFinal = pd.DataFrame(np.zeros([5, len(df)]))"
   ]
  },
  {
   "cell_type": "code",
   "execution_count": 228,
   "metadata": {},
   "outputs": [],
   "source": [
    "k = 2  # Number of components\n",
    "n = 50  # Number of times to iterate\n",
    "\n",
    "minx = np.min(df[\"x\"])\n",
    "maxx = np.max(df[\"x\"])\n",
    "\n",
    "mu1 = [float(df.loc[df[\"x\"] == minx][\"x\"]), float(df.loc[df[\"x\"] == minx][\"y\"])]\n",
    "mu2 = [float(df.loc[df[\"x\"] == maxx][\"x\"]), float(df.loc[df[\"x\"] == maxx][\"y\"])]\n",
    "var1 = np.cov([df[\"x\"], df[\"y\"]])\n",
    "var2 = np.cov([df[\"x\"], df[\"y\"]])\n",
    "\n",
    "p_class1 = 1 / k\n",
    "p_class2 = 1 / k\n",
    "for i in range(n):\n",
    "    p_data_given_class1 = stats.multivariate_normal.pdf(df[[\"x\", \"y\"]], mean=mu1, cov=var1)\n",
    "    p_data_given_class2 = stats.multivariate_normal.pdf(df[[\"x\", \"y\"]], mean=mu2, cov=var2)\n",
    "    \n",
    "    p_class1_given_data = p_data_given_class1*p_class1\n",
    "    p_class2_given_data = p_data_given_class2*p_class2\n",
    "    \n",
    "    summ = p_class1_given_data + p_class2_given_data\n",
    "    p_class1_given_data = p_class1_given_data / summ\n",
    "    p_class2_given_data = p_class2_given_data / summ\n",
    "    \n",
    "    n_class1 = np.sum(p_class1_given_data)\n",
    "    n_class2 = np.sum(p_class2_given_data)\n",
    "    \n",
    "    pi = n_class2 / len(df)\n",
    "\n",
    "    # to put into the more general variable names\n",
    "    p_class1 = 1-pi\n",
    "    p_class2 = pi\n",
    "    \n",
    "    # Recalculate the mean values\n",
    "    mu1[0] = np.sum(p_class1_given_data * df[\"x\"]) / n_class1\n",
    "    mu1[1] = np.sum(p_class1_given_data * df[\"y\"]) / n_class1\n",
    "    mu2[0] = np.sum(p_class2_given_data * df[\"x\"]) / n_class2\n",
    "    mu2[1] = np.sum(p_class2_given_data * df[\"y\"]) / n_class2\n",
    "    \n",
    "    # Var and Cov for component 1\n",
    "    var1[0, 0] = np.sum(p_class1_given_data * (df[\"x\"] - mu1[0])**2) / n_class1\n",
    "    var1[1, 1] = np.sum(p_class1_given_data * (df[\"y\"] - mu1[1])**2) / n_class1\n",
    "    var1[0, 1] = np.sum(p_class1_given_data * (df[\"x\"] - mu1[0]) * (df[\"y\"] - mu1[1])) / n_class1\n",
    "#     var1[0, 1] = np.sum((df[\"x\"] - mu1[0]) * (df[\"y\"] - mu1[1])) / n_class1\n",
    "    var1[1, 0] = var1[0, 1]\n",
    "    \n",
    "    # Var and Cov for component 2\n",
    "    var2[0, 0] = np.sum(p_class2_given_data * (df[\"x\"] - mu2[0])**2) / n_class2\n",
    "    var2[1, 1] = np.sum(p_class2_given_data * (df[\"y\"] - mu2[1])**2) / n_class2\n",
    "    var2[0, 1] = np.sum(p_class2_given_data * (df[\"x\"] - mu2[0]) * (df[\"y\"] - mu2[1])) / n_class2\n",
    "#     var2[0, 1] = np.sum((df[\"x\"] - mu2[0]) * (df[\"y\"] - mu2[1])) / n_class2\n",
    "    var2[1, 0] = var2[0, 1]"
   ]
  },
  {
   "cell_type": "code",
   "execution_count": 229,
   "metadata": {},
   "outputs": [
    {
     "data": {
      "text/html": [
       "<div>\n",
       "<style scoped>\n",
       "    .dataframe tbody tr th:only-of-type {\n",
       "        vertical-align: middle;\n",
       "    }\n",
       "\n",
       "    .dataframe tbody tr th {\n",
       "        vertical-align: top;\n",
       "    }\n",
       "\n",
       "    .dataframe thead th {\n",
       "        text-align: right;\n",
       "    }\n",
       "</style>\n",
       "<table border=\"1\" class=\"dataframe\">\n",
       "  <thead>\n",
       "    <tr style=\"text-align: right;\">\n",
       "      <th></th>\n",
       "      <th>0</th>\n",
       "      <th>1</th>\n",
       "      <th>2</th>\n",
       "      <th>3</th>\n",
       "      <th>4</th>\n",
       "      <th>5</th>\n",
       "      <th>6</th>\n",
       "      <th>7</th>\n",
       "      <th>8</th>\n",
       "      <th>9</th>\n",
       "      <th>...</th>\n",
       "      <th>160</th>\n",
       "      <th>161</th>\n",
       "      <th>162</th>\n",
       "      <th>163</th>\n",
       "      <th>164</th>\n",
       "      <th>165</th>\n",
       "      <th>166</th>\n",
       "      <th>167</th>\n",
       "      <th>168</th>\n",
       "      <th>169</th>\n",
       "    </tr>\n",
       "  </thead>\n",
       "  <tbody>\n",
       "    <tr>\n",
       "      <th>0</th>\n",
       "      <td>1.0</td>\n",
       "      <td>0.0</td>\n",
       "      <td>1.0</td>\n",
       "      <td>1.0</td>\n",
       "      <td>1.0</td>\n",
       "      <td>1.0</td>\n",
       "      <td>0.0</td>\n",
       "      <td>1.0</td>\n",
       "      <td>1.0</td>\n",
       "      <td>1.0</td>\n",
       "      <td>...</td>\n",
       "      <td>1.0</td>\n",
       "      <td>1.0</td>\n",
       "      <td>1.0</td>\n",
       "      <td>1.0</td>\n",
       "      <td>1.0</td>\n",
       "      <td>1.0</td>\n",
       "      <td>1.0</td>\n",
       "      <td>1.0</td>\n",
       "      <td>1.0</td>\n",
       "      <td>1.0</td>\n",
       "    </tr>\n",
       "    <tr>\n",
       "      <th>1</th>\n",
       "      <td>0.0</td>\n",
       "      <td>2.0</td>\n",
       "      <td>0.0</td>\n",
       "      <td>0.0</td>\n",
       "      <td>0.0</td>\n",
       "      <td>1.0</td>\n",
       "      <td>2.0</td>\n",
       "      <td>0.0</td>\n",
       "      <td>0.0</td>\n",
       "      <td>0.0</td>\n",
       "      <td>...</td>\n",
       "      <td>1.0</td>\n",
       "      <td>1.0</td>\n",
       "      <td>1.0</td>\n",
       "      <td>0.0</td>\n",
       "      <td>1.0</td>\n",
       "      <td>1.0</td>\n",
       "      <td>1.0</td>\n",
       "      <td>1.0</td>\n",
       "      <td>1.0</td>\n",
       "      <td>0.0</td>\n",
       "    </tr>\n",
       "    <tr>\n",
       "      <th>2</th>\n",
       "      <td>0.0</td>\n",
       "      <td>1.0</td>\n",
       "      <td>0.0</td>\n",
       "      <td>1.0</td>\n",
       "      <td>0.0</td>\n",
       "      <td>0.0</td>\n",
       "      <td>1.0</td>\n",
       "      <td>0.0</td>\n",
       "      <td>0.0</td>\n",
       "      <td>0.0</td>\n",
       "      <td>...</td>\n",
       "      <td>0.0</td>\n",
       "      <td>0.0</td>\n",
       "      <td>0.0</td>\n",
       "      <td>0.0</td>\n",
       "      <td>1.0</td>\n",
       "      <td>0.0</td>\n",
       "      <td>1.0</td>\n",
       "      <td>0.0</td>\n",
       "      <td>0.0</td>\n",
       "      <td>0.0</td>\n",
       "    </tr>\n",
       "    <tr>\n",
       "      <th>3</th>\n",
       "      <td>0.0</td>\n",
       "      <td>1.0</td>\n",
       "      <td>0.0</td>\n",
       "      <td>0.0</td>\n",
       "      <td>0.0</td>\n",
       "      <td>2.0</td>\n",
       "      <td>1.0</td>\n",
       "      <td>0.0</td>\n",
       "      <td>0.0</td>\n",
       "      <td>2.0</td>\n",
       "      <td>...</td>\n",
       "      <td>2.0</td>\n",
       "      <td>2.0</td>\n",
       "      <td>2.0</td>\n",
       "      <td>0.0</td>\n",
       "      <td>2.0</td>\n",
       "      <td>2.0</td>\n",
       "      <td>2.0</td>\n",
       "      <td>2.0</td>\n",
       "      <td>2.0</td>\n",
       "      <td>0.0</td>\n",
       "    </tr>\n",
       "    <tr>\n",
       "      <th>4</th>\n",
       "      <td>0.0</td>\n",
       "      <td>0.0</td>\n",
       "      <td>0.0</td>\n",
       "      <td>0.0</td>\n",
       "      <td>0.0</td>\n",
       "      <td>0.0</td>\n",
       "      <td>0.0</td>\n",
       "      <td>0.0</td>\n",
       "      <td>0.0</td>\n",
       "      <td>0.0</td>\n",
       "      <td>...</td>\n",
       "      <td>2.0</td>\n",
       "      <td>2.0</td>\n",
       "      <td>2.0</td>\n",
       "      <td>2.0</td>\n",
       "      <td>2.0</td>\n",
       "      <td>2.0</td>\n",
       "      <td>2.0</td>\n",
       "      <td>2.0</td>\n",
       "      <td>2.0</td>\n",
       "      <td>2.0</td>\n",
       "    </tr>\n",
       "  </tbody>\n",
       "</table>\n",
       "<p>5 rows × 170 columns</p>\n",
       "</div>"
      ],
      "text/plain": [
       "   0    1    2    3    4    5    6    7    8    9    ...  160  161  162  163  \\\n",
       "0  1.0  0.0  1.0  1.0  1.0  1.0  0.0  1.0  1.0  1.0  ...  1.0  1.0  1.0  1.0   \n",
       "1  0.0  2.0  0.0  0.0  0.0  1.0  2.0  0.0  0.0  0.0  ...  1.0  1.0  1.0  0.0   \n",
       "2  0.0  1.0  0.0  1.0  0.0  0.0  1.0  0.0  0.0  0.0  ...  0.0  0.0  0.0  0.0   \n",
       "3  0.0  1.0  0.0  0.0  0.0  2.0  1.0  0.0  0.0  2.0  ...  2.0  2.0  2.0  0.0   \n",
       "4  0.0  0.0  0.0  0.0  0.0  0.0  0.0  0.0  0.0  0.0  ...  2.0  2.0  2.0  2.0   \n",
       "\n",
       "   164  165  166  167  168  169  \n",
       "0  1.0  1.0  1.0  1.0  1.0  1.0  \n",
       "1  1.0  1.0  1.0  1.0  1.0  0.0  \n",
       "2  1.0  0.0  1.0  0.0  0.0  0.0  \n",
       "3  2.0  2.0  2.0  2.0  2.0  0.0  \n",
       "4  2.0  2.0  2.0  2.0  2.0  2.0  \n",
       "\n",
       "[5 rows x 170 columns]"
      ]
     },
     "execution_count": 229,
     "metadata": {},
     "output_type": "execute_result"
    }
   ],
   "source": [
    "# Classify \n",
    "clusters = np.array([0] * len(df))\n",
    "for i in range(len(df)):\n",
    "    x = float(df[\"x\"].iloc[i])\n",
    "    y = float(df[\"y\"].iloc[i])\n",
    "    \n",
    "    resp_class1 = stats.multivariate_normal.pdf([x, y], mean=mu1, cov=var1)\n",
    "    resp_class2 = stats.multivariate_normal.pdf([x, y], mean=mu2, cov=var2)\n",
    "\n",
    "    p_class1_from_data = resp_class1*p_class1\n",
    "    p_class2_from_data = resp_class2*p_class2\n",
    "    summm = p_class1_from_data + p_class2_from_data\n",
    "    p_class1_from_data = p_class1_from_data / summm\n",
    "    p_class2_from_data = p_class2_from_data / summm\n",
    "    \n",
    "    if p_class1_from_data > p_class2_from_data:\n",
    "        clusters[i] = 0\n",
    "    else:\n",
    "        clusters[i] = 1\n",
    "        \n",
    "dfFinal.loc[0, :] = clusters\n",
    "dfFinal"
   ]
  },
  {
   "cell_type": "code",
   "execution_count": 230,
   "metadata": {},
   "outputs": [],
   "source": [
    "# Now repeat with k = 3\n",
    "k = 3  # Number of components\n",
    "n = 50  # Number of times to iterate\n",
    "\n",
    "minx = np.min(df[\"x\"])\n",
    "maxx = np.max(df[\"x\"])\n",
    "medx = np.median(df[\"x\"])\n",
    "\n",
    "mu1 = [float(df.loc[df[\"x\"] == minx][\"x\"]), float(df.loc[df[\"x\"] == minx][\"y\"])]\n",
    "mu2 = [float(df.loc[df[\"x\"] == maxx][\"x\"]), float(df.loc[df[\"x\"] == maxx][\"y\"])]\n",
    "# Find the point that is closest to the middle\n",
    "dist_to_med = [dist(row, medx) for index, row in df[[\"x\", \"y\"]].iterrows()]    \n",
    "med_point_index = dist_to_med.index(min(dist_to_med))    \n",
    "mu3 = [float(df[\"x\"].iloc[med_point_index]), float(df[\"y\"].iloc[med_point_index])]\n",
    "    \n",
    "var1 = np.cov([df[\"x\"], df[\"y\"]])\n",
    "var2 = np.cov([df[\"x\"], df[\"y\"]])\n",
    "var3 = np.cov([df[\"x\"], df[\"y\"]])\n",
    "\n",
    "p_class1 = 1.0 / k\n",
    "p_class2 = 1.0 / k\n",
    "p_class3 = 1.0 / k\n",
    "for i in range(n):\n",
    "    p_data_given_class1 = stats.multivariate_normal.pdf(df[[\"x\", \"y\"]], mean=mu1, cov=var1)\n",
    "    p_data_given_class2 = stats.multivariate_normal.pdf(df[[\"x\", \"y\"]], mean=mu2, cov=var2)\n",
    "    p_data_given_class3 = stats.multivariate_normal.pdf(df[[\"x\", \"y\"]], mean=mu3, cov=var3)\n",
    "    \n",
    "    p_class1_given_data = p_data_given_class1 * p_class1\n",
    "    p_class2_given_data = p_data_given_class2 * p_class2\n",
    "    p_class3_given_data = p_data_given_class3 * p_class3\n",
    "        \n",
    "    summ = p_class1_given_data + p_class2_given_data + p_class3_given_data\n",
    "    p_class1_given_data = p_class1_given_data / summ\n",
    "    p_class2_given_data = p_class2_given_data / summ\n",
    "    p_class3_given_data = p_class3_given_data / summ\n",
    "    \n",
    "    n_class1 = np.sum(p_class1_given_data)\n",
    "    n_class2 = np.sum(p_class2_given_data)\n",
    "    n_class3 = np.sum(p_class3_given_data)\n",
    "    \n",
    "    # to put into the more general variable names\n",
    "    p_class1 = n_class1 / len(df)\n",
    "    p_class2 = n_class2 / len(df)\n",
    "    p_class3 = 1 - p_class2 - p_class1\n",
    "        \n",
    "    # Recalculate the mean values\n",
    "    mu1[0] = np.sum(p_class1_given_data * df[\"x\"]) / n_class1\n",
    "    mu1[1] = np.sum(p_class1_given_data * df[\"y\"]) / n_class1\n",
    "    mu2[0] = np.sum(p_class2_given_data * df[\"x\"]) / n_class2\n",
    "    mu2[1] = np.sum(p_class2_given_data * df[\"y\"]) / n_class2\n",
    "    mu3[0] = np.sum(p_class3_given_data * df[\"x\"]) / n_class3\n",
    "    mu3[1] = np.sum(p_class3_given_data * df[\"y\"]) / n_class3\n",
    "    \n",
    "#     # Var and Cov for component 1\n",
    "    var1[0, 0] = np.sum(p_class1_given_data * (df[\"x\"] - mu1[0])**2) / n_class1\n",
    "    var1[1, 1] = np.sum(p_class1_given_data * (df[\"y\"] - mu1[1])**2) / n_class1\n",
    "    var1[0, 1] = np.sum(p_class1_given_data * (df[\"x\"] - mu1[0]) * (df[\"y\"] - mu1[1])) / n_class1\n",
    "    var1[1, 0] = var1[0, 1]\n",
    "    \n",
    "    # Var and Cov for component 2\n",
    "    var2[0, 0] = np.sum(p_class2_given_data * (df[\"x\"] - mu2[0])**2) / n_class2\n",
    "    var2[1, 1] = np.sum(p_class2_given_data * (df[\"y\"] - mu2[1])**2) / n_class2\n",
    "    var2[0, 1] = np.sum(p_class2_given_data * (df[\"x\"] - mu2[0]) * (df[\"y\"] - mu2[1])) / n_class2\n",
    "    var2[1, 0] = var2[0, 1]\n",
    "    \n",
    "    # Var and Cov for component 3\n",
    "    var3[0, 0] = np.sum(p_class3_given_data * (df[\"x\"] - mu3[0])**2) / n_class3\n",
    "    var3[1, 1] = np.sum(p_class3_given_data * (df[\"y\"] - mu3[1])**2) / n_class3\n",
    "    var3[0, 1] = np.sum(p_class3_given_data * (df[\"x\"] - mu3[0]) * (df[\"y\"] - mu3[1])) / n_class3\n",
    "    var3[1, 0] = var3[0, 1]\n",
    "\n",
    "#     Var and Cov for component 1\n",
    "#     var1[0, 0] = np.sum(p_class1_given_data * (df[\"x\"] - mu1[0])**2) / n_class1\n",
    "#     var1[1, 1] = np.sum(p_class1_given_data * (df[\"y\"] - mu1[1])**2) / n_class1\n",
    "#     var1[0, 1] = np.sum((df[\"x\"] - mu1[0]) * (df[\"y\"] - mu1[1])) / n_class1\n",
    "#     var1[1, 0] = var1[0, 1]\n",
    "    \n",
    "#     # Var and Cov for component 2\n",
    "#     var2[0, 0] = np.sum(p_class2_given_data * (df[\"x\"] - mu2[0])**2) / n_class2\n",
    "#     var2[1, 1] = np.sum(p_class2_given_data * (df[\"y\"] - mu2[1])**2) / n_class2\n",
    "#     var2[0, 1] = np.sum((df[\"x\"] - mu2[0]) * (df[\"y\"] - mu2[1])) / n_class2\n",
    "#     var2[1, 0] = var2[0, 1]\n",
    "    \n",
    "#     # Var and Cov for component 3\n",
    "#     var3[0, 0] = np.sum(p_class3_given_data * (df[\"x\"] - mu3[0])**2) / n_class3\n",
    "#     var3[1, 1] = np.sum(p_class3_given_data * (df[\"y\"] - mu3[1])**2) / n_class3\n",
    "#     var3[0, 1] = np.sum((df[\"x\"] - mu3[0]) * (df[\"y\"] - mu3[1])) / n_class3\n",
    "#     var3[1, 0] = var3[0, 1]"
   ]
  },
  {
   "cell_type": "code",
   "execution_count": 231,
   "metadata": {},
   "outputs": [
    {
     "data": {
      "text/html": [
       "<div>\n",
       "<style scoped>\n",
       "    .dataframe tbody tr th:only-of-type {\n",
       "        vertical-align: middle;\n",
       "    }\n",
       "\n",
       "    .dataframe tbody tr th {\n",
       "        vertical-align: top;\n",
       "    }\n",
       "\n",
       "    .dataframe thead th {\n",
       "        text-align: right;\n",
       "    }\n",
       "</style>\n",
       "<table border=\"1\" class=\"dataframe\">\n",
       "  <thead>\n",
       "    <tr style=\"text-align: right;\">\n",
       "      <th></th>\n",
       "      <th>0</th>\n",
       "      <th>1</th>\n",
       "      <th>2</th>\n",
       "      <th>3</th>\n",
       "      <th>4</th>\n",
       "      <th>5</th>\n",
       "      <th>6</th>\n",
       "      <th>7</th>\n",
       "      <th>8</th>\n",
       "      <th>9</th>\n",
       "      <th>...</th>\n",
       "      <th>160</th>\n",
       "      <th>161</th>\n",
       "      <th>162</th>\n",
       "      <th>163</th>\n",
       "      <th>164</th>\n",
       "      <th>165</th>\n",
       "      <th>166</th>\n",
       "      <th>167</th>\n",
       "      <th>168</th>\n",
       "      <th>169</th>\n",
       "    </tr>\n",
       "  </thead>\n",
       "  <tbody>\n",
       "    <tr>\n",
       "      <th>0</th>\n",
       "      <td>1.0</td>\n",
       "      <td>0.0</td>\n",
       "      <td>1.0</td>\n",
       "      <td>1.0</td>\n",
       "      <td>1.0</td>\n",
       "      <td>1.0</td>\n",
       "      <td>0.0</td>\n",
       "      <td>1.0</td>\n",
       "      <td>1.0</td>\n",
       "      <td>1.0</td>\n",
       "      <td>...</td>\n",
       "      <td>1.0</td>\n",
       "      <td>1.0</td>\n",
       "      <td>1.0</td>\n",
       "      <td>1.0</td>\n",
       "      <td>1.0</td>\n",
       "      <td>1.0</td>\n",
       "      <td>1.0</td>\n",
       "      <td>1.0</td>\n",
       "      <td>1.0</td>\n",
       "      <td>1.0</td>\n",
       "    </tr>\n",
       "    <tr>\n",
       "      <th>1</th>\n",
       "      <td>0.0</td>\n",
       "      <td>2.0</td>\n",
       "      <td>0.0</td>\n",
       "      <td>0.0</td>\n",
       "      <td>0.0</td>\n",
       "      <td>1.0</td>\n",
       "      <td>2.0</td>\n",
       "      <td>0.0</td>\n",
       "      <td>0.0</td>\n",
       "      <td>0.0</td>\n",
       "      <td>...</td>\n",
       "      <td>1.0</td>\n",
       "      <td>1.0</td>\n",
       "      <td>1.0</td>\n",
       "      <td>0.0</td>\n",
       "      <td>1.0</td>\n",
       "      <td>1.0</td>\n",
       "      <td>1.0</td>\n",
       "      <td>1.0</td>\n",
       "      <td>1.0</td>\n",
       "      <td>0.0</td>\n",
       "    </tr>\n",
       "    <tr>\n",
       "      <th>2</th>\n",
       "      <td>0.0</td>\n",
       "      <td>1.0</td>\n",
       "      <td>0.0</td>\n",
       "      <td>1.0</td>\n",
       "      <td>0.0</td>\n",
       "      <td>0.0</td>\n",
       "      <td>1.0</td>\n",
       "      <td>0.0</td>\n",
       "      <td>0.0</td>\n",
       "      <td>0.0</td>\n",
       "      <td>...</td>\n",
       "      <td>0.0</td>\n",
       "      <td>0.0</td>\n",
       "      <td>0.0</td>\n",
       "      <td>0.0</td>\n",
       "      <td>1.0</td>\n",
       "      <td>0.0</td>\n",
       "      <td>1.0</td>\n",
       "      <td>0.0</td>\n",
       "      <td>0.0</td>\n",
       "      <td>0.0</td>\n",
       "    </tr>\n",
       "    <tr>\n",
       "      <th>3</th>\n",
       "      <td>0.0</td>\n",
       "      <td>1.0</td>\n",
       "      <td>0.0</td>\n",
       "      <td>0.0</td>\n",
       "      <td>0.0</td>\n",
       "      <td>2.0</td>\n",
       "      <td>1.0</td>\n",
       "      <td>0.0</td>\n",
       "      <td>0.0</td>\n",
       "      <td>2.0</td>\n",
       "      <td>...</td>\n",
       "      <td>2.0</td>\n",
       "      <td>2.0</td>\n",
       "      <td>2.0</td>\n",
       "      <td>0.0</td>\n",
       "      <td>2.0</td>\n",
       "      <td>2.0</td>\n",
       "      <td>2.0</td>\n",
       "      <td>2.0</td>\n",
       "      <td>2.0</td>\n",
       "      <td>0.0</td>\n",
       "    </tr>\n",
       "    <tr>\n",
       "      <th>4</th>\n",
       "      <td>0.0</td>\n",
       "      <td>0.0</td>\n",
       "      <td>0.0</td>\n",
       "      <td>0.0</td>\n",
       "      <td>0.0</td>\n",
       "      <td>0.0</td>\n",
       "      <td>0.0</td>\n",
       "      <td>0.0</td>\n",
       "      <td>0.0</td>\n",
       "      <td>0.0</td>\n",
       "      <td>...</td>\n",
       "      <td>2.0</td>\n",
       "      <td>2.0</td>\n",
       "      <td>2.0</td>\n",
       "      <td>2.0</td>\n",
       "      <td>2.0</td>\n",
       "      <td>2.0</td>\n",
       "      <td>2.0</td>\n",
       "      <td>2.0</td>\n",
       "      <td>2.0</td>\n",
       "      <td>2.0</td>\n",
       "    </tr>\n",
       "  </tbody>\n",
       "</table>\n",
       "<p>5 rows × 170 columns</p>\n",
       "</div>"
      ],
      "text/plain": [
       "   0    1    2    3    4    5    6    7    8    9    ...  160  161  162  163  \\\n",
       "0  1.0  0.0  1.0  1.0  1.0  1.0  0.0  1.0  1.0  1.0  ...  1.0  1.0  1.0  1.0   \n",
       "1  0.0  2.0  0.0  0.0  0.0  1.0  2.0  0.0  0.0  0.0  ...  1.0  1.0  1.0  0.0   \n",
       "2  0.0  1.0  0.0  1.0  0.0  0.0  1.0  0.0  0.0  0.0  ...  0.0  0.0  0.0  0.0   \n",
       "3  0.0  1.0  0.0  0.0  0.0  2.0  1.0  0.0  0.0  2.0  ...  2.0  2.0  2.0  0.0   \n",
       "4  0.0  0.0  0.0  0.0  0.0  0.0  0.0  0.0  0.0  0.0  ...  2.0  2.0  2.0  2.0   \n",
       "\n",
       "   164  165  166  167  168  169  \n",
       "0  1.0  1.0  1.0  1.0  1.0  1.0  \n",
       "1  1.0  1.0  1.0  1.0  1.0  0.0  \n",
       "2  1.0  0.0  1.0  0.0  0.0  0.0  \n",
       "3  2.0  2.0  2.0  2.0  2.0  0.0  \n",
       "4  2.0  2.0  2.0  2.0  2.0  2.0  \n",
       "\n",
       "[5 rows x 170 columns]"
      ]
     },
     "execution_count": 231,
     "metadata": {},
     "output_type": "execute_result"
    }
   ],
   "source": [
    "# classify for k=3\n",
    "# Classify \n",
    "clusters_gmmk3 = np.array([0] * len(df))\n",
    "for i in range(len(df)):\n",
    "    x = float(df[\"x\"].iloc[i])\n",
    "    y = float(df[\"y\"].iloc[i])\n",
    "    \n",
    "    p_data_from_class1 = stats.multivariate_normal.pdf([x, y], mean=mu1, cov=var1)\n",
    "    p_data_from_class2 = stats.multivariate_normal.pdf([x, y], mean=mu2, cov=var2)\n",
    "    p_data_from_class3 = stats.multivariate_normal.pdf([x, y], mean=mu3, cov=var3)\n",
    "\n",
    "    p_class1_from_data = p_data_from_class1*p_class1\n",
    "    p_class2_from_data = p_data_from_class2*p_class2\n",
    "    p_class3_from_data = p_data_from_class3*p_class3\n",
    "    \n",
    "    summm = p_class1_from_data + p_class2_from_data + p_class3_from_data\n",
    "    p_class1_from_data = p_class1_from_data / summm\n",
    "    p_class2_from_data = p_class2_from_data / summm\n",
    "    p_class3_from_data = p_class3_from_data / summm\n",
    "    \n",
    "    # If p_class1 is largest\n",
    "    if p_class1_from_data > p_class2_from_data and p_class1_from_data > p_class3_from_data:\n",
    "        clusters_gmmk3[i] = 0\n",
    "    # If p_class2 is largest\n",
    "    elif p_class2_from_data > p_class1_from_data and p_class2_from_data > p_class3_from_data:\n",
    "        clusters_gmmk3[i] = 1\n",
    "    # Else class 3 is largest\n",
    "    else:\n",
    "        clusters_gmmk3[i] = 2\n",
    "        \n",
    "dfFinal.loc[1, :] = clusters_gmmk3\n",
    "dfFinal"
   ]
  },
  {
   "cell_type": "markdown",
   "metadata": {},
   "source": [
    "### Part 3: Scoring models with a Rand statistic\n",
    "We need to do two things: pick a \"best\" model between the multiple calibrations of k-means, and then eventually compare between the models with different numbers of components.\n",
    "\n",
    "To do this we are going to use the Rand statistic, with documentation here: \n",
    "\n",
    "https://scikit-learn.org/stable/modules/generated/sklearn.metrics.adjusted_rand_score.html\n",
    "\n",
    "\n",
    "A) For the 100 runs of `k=2` k-means, compute a similarity matrix of all-pairwise Rand scores.  Select the run with the highest overall summed Rand scores as the \"most indicative run\" (note: this is actually the clustroid of the clusters, if we consider Rand similarity an approximate distance!).  Add that run to a data frame holding the final hard clusters of the two GMM models.\n",
    "\n",
    "B) Repeat part 3A) for `k=3` k-means.  You should now have a matrix with 4 rows (one per model) and 170 columns.  Plot in 4 panes each of these clustering results, with different colors for each cluster.\n",
    "\n",
    "C) Add the original data's clusters to this data frame.\n",
    "\n",
    "D) Compute and print the Rand Statistic for each of the 4 models, comparing to the true data."
   ]
  },
  {
   "cell_type": "code",
   "execution_count": 232,
   "metadata": {},
   "outputs": [
    {
     "name": "stdout",
     "output_type": "stream",
     "text": [
      "1.0\n",
      "-0.49999999999999994\n"
     ]
    }
   ],
   "source": [
    "from sklearn.metrics.cluster import adjusted_rand_score\n",
    "print(adjusted_rand_score([1, 0, 1], [0,1,0])) #example that's actually the same assignments!\n",
    "print(adjusted_rand_score([1, 0, 1], [0,0,1])) #example: Rand score is negative if very different"
   ]
  },
  {
   "cell_type": "code",
   "execution_count": 233,
   "metadata": {},
   "outputs": [],
   "source": [
    "# Part a\n",
    "# Calculate the similarity matrix\n",
    "sim_matrix = np.zeros([len(dfk2), len(dfk2)])\n",
    "for i in range(len(dfk2)):\n",
    "    for j in range(i+1, len(dfk2)):\n",
    "        sim_matrix[i, j] = adjusted_rand_score(dfk2.iloc[i], dfk2.iloc[j])\n",
    "        \n",
    "# Sum all the pairwise rand scores\n",
    "rand_sums = [0] * len(dfk2)\n",
    "for i in range(len(dfk2)):\n",
    "    summ = 0\n",
    "    for j in range(len(dfk2)):\n",
    "        summ += sim_matrix[i,j]\n",
    "    rand_sums[i] = summ\n",
    "    \n",
    "# Find the run with the maximum rand score\n",
    "max_run_index = rand_sums.index(np.max(rand_sums))\n",
    "\n",
    "# Then add that row from dfk2 to the final dataframe\n",
    "dfFinal.iloc[2, :] = dfk2.iloc[max_run_index]"
   ]
  },
  {
   "cell_type": "code",
   "execution_count": 234,
   "metadata": {},
   "outputs": [],
   "source": [
    "# Part B\n",
    "sim_k3_matrix = np.zeros([len(dfk3), len(dfk3)])\n",
    "for i in range(len(dfk3)):\n",
    "    for j in range(i+1, len(dfk3)):\n",
    "        sim_matrix[i, j] = adjusted_rand_score(dfk3.iloc[i], dfk3.iloc[j])\n",
    "        \n",
    "rand_sums_k3 = [0] * len(dfk3)\n",
    "for i in range(len(dfk3)):\n",
    "    summ = 0\n",
    "    for j in range(len(dfk3)):\n",
    "        summ += sim_k3_matrix[i, j]\n",
    "    rand_sums[i] = summ\n",
    "\n",
    "k3_max_run_index = rand_sums_k3.index(np.max(rand_sums_k3))\n",
    "dfFinal.iloc[3, :] = dfk3.iloc[k3_max_run_index]"
   ]
  },
  {
   "cell_type": "code",
   "execution_count": 235,
   "metadata": {
    "scrolled": true
   },
   "outputs": [],
   "source": [
    "# Part C\n",
    "cluster_to_id = {\"normal\": 0, \"uniform\": 1, \"polar\": 2}\n",
    "cids = np.zeros(len(df))\n",
    "for i in range(len(df)):\n",
    "    cids[i] = cluster_to_id[df[\"True_Cluster\"].iloc[i]]\n",
    "dfFinal.iloc[4, :] = cids"
   ]
  },
  {
   "cell_type": "code",
   "execution_count": 236,
   "metadata": {},
   "outputs": [
    {
     "name": "stdout",
     "output_type": "stream",
     "text": [
      "The Rand Statistic for GMM with k=2 is 0.4708\n",
      "The Rand Statistic for GMM with k=3 is 0.7159\n",
      "The Rand Statistic for K-Means with k=2 is 0.4950\n",
      "The Rand Statistic for K-Means with k=3 is 0.6227\n"
     ]
    }
   ],
   "source": [
    "# Part D\n",
    "gmmk2_rand = adjusted_rand_score(dfFinal.iloc[0], dfFinal.iloc[4])\n",
    "print(\"The Rand Statistic for GMM with k=2 is {:0.4f}\".format(gmmk2_rand))\n",
    "\n",
    "gmmk3_rand = adjusted_rand_score(dfFinal.iloc[1], dfFinal.iloc[4])\n",
    "print(\"The Rand Statistic for GMM with k=3 is {:0.4f}\".format(gmmk3_rand))\n",
    "\n",
    "kmk2_rand = adjusted_rand_score(dfFinal.iloc[2], dfFinal.iloc[4])\n",
    "print(\"The Rand Statistic for K-Means with k=2 is {:0.4f}\".format(kmk2_rand))\n",
    "\n",
    "kmk3_rand = adjusted_rand_score(dfFinal.iloc[3], dfFinal.iloc[4])\n",
    "print(\"The Rand Statistic for K-Means with k=3 is {:0.4f}\".format(kmk3_rand))"
   ]
  },
  {
   "cell_type": "markdown",
   "metadata": {},
   "source": [
    "### Part 4: Discussion\n",
    "\n",
    "A) Between the 4 models: k-means with k=2 or k=3, and 2 or 3 component Gaussian Mixture models, describe in words why you think the best performing model performed best.\n",
    "\n",
    "B) Describe in words why you think the worst performing model performed the worst.  Is it a function of the model or using a Rand statistic to score?\n",
    "\n",
    "For both A) and B) try to make specific comments about the *shape* of the data: which algorithms should work best on angular, uniform, and normal clusters?"
   ]
  },
  {
   "cell_type": "markdown",
   "metadata": {},
   "source": [
    "**Make plots to do this**"
   ]
  },
  {
   "cell_type": "code",
   "execution_count": 237,
   "metadata": {
    "scrolled": false
   },
   "outputs": [
    {
     "data": {
      "text/plain": [
       "Text(0.5,1,'K-Means with k=3')"
      ]
     },
     "execution_count": 237,
     "metadata": {},
     "output_type": "execute_result"
    },
    {
     "data": {
      "image/png": "[encoded data removed]",
      "text/plain": [
       "<Figure size 1080x720 with 4 Axes>"
      ]
     },
     "metadata": {
      "needs_background": "light"
     },
     "output_type": "display_data"
    }
   ],
   "source": [
    "fig, ax = plt.subplots(2, 2, figsize=(15, 10))\n",
    "\n",
    "# Plots for GMM k=2\n",
    "gmmk2_colors = np.array([\"c\" if ii else \"peru\" for ii in dfFinal.iloc[0]])\n",
    "ax[0, 0].scatter(x=df[\"x\"], y=df[\"y\"], c=gmmk2_colors)\n",
    "ax[0, 0].set_title(\"GMM with k=2\")\n",
    "\n",
    "kmeansk2_colors = np.array([\"c\" if ii else \"peru\" for ii in dfFinal.iloc[2]])\n",
    "ax[0, 1].scatter(x=df[\"x\"], y=df[\"y\"], c=kmeansk2_colors)\n",
    "ax[0, 1].set_title(\"K-Means with k=2\")\n",
    "\n",
    "gmmk3_colors = dfFinal.iloc[1].map({0:\"c\", 1:\"peru\", 2:\"orchid\"})\n",
    "ax[1, 0].scatter(x=df[\"x\"], y=df[\"y\"], c=gmmk3_colors)\n",
    "ax[1, 0].set_title(\"GMM with k=3\")\n",
    "\n",
    "kmeansk3_colors = dfFinal.iloc[3].map({0:\"c\", 1:\"peru\", 2:\"orchid\"})\n",
    "ax[1, 1].scatter(x=df[\"x\"], y=df[\"y\"], c=kmeansk3_colors)\n",
    "ax[1, 1].set_title(\"K-Means with k=3\");"
   ]
  },
  {
   "cell_type": "markdown",
   "metadata": {},
   "source": [
    "**Part A**: According to the Rand Statistic, the best performing model was the GMM with $k=3$. From the graphs above, we can see why it had the best outcome. This GMM was the only model that was able to capture a large amount of the \"polar\" cluster without combining it with another cluster, due to it being able to weight the different components. It also able to capture the shape of the \"uniform\" cluster, even though that was more common with the other models. In general, a GMM should be able to detect differences in overlapping clusters better than K-Means because of the weights on each component, which was demonstrated in the problem.\n",
    "\n",
    "**Part B**: Both the k=2 models had the worst Rand Scores, with the K-Means model having 0.4950 and the GMM having 0.4708. As we can see in the graph, both those models combined most of the \"polar\" and \"normal\" clusters together into a single cluster, which greatly reduced their similarity scores. We can also see that the K-Means model was better at seperating the \"uniform\" data from the other clusters. It makes sense that the GMM performed the worst because, not only was it using the wrong number of components, but 2 of the three categories did not follow gaussian distributions. Because of this, it was worse at fitting those points than the K-Means, which only matches on distance and doesn't try to estimate the underlying parameters of the model."
   ]
  },
  {
   "cell_type": "code",
   "execution_count": null,
   "metadata": {},
   "outputs": [],
   "source": []
  }
 ],
 "metadata": {
  "kernelspec": {
   "display_name": "Python 3",
   "language": "python",
   "name": "python3"
  },
  "language_info": {
   "codemirror_mode": {
    "name": "ipython",
    "version": 3
   },
   "file_extension": ".py",
   "mimetype": "text/x-python",
   "name": "python",
   "nbconvert_exporter": "python",
   "pygments_lexer": "ipython3",
   "version": "3.7.4"
  }
 },
 "nbformat": 4,
 "nbformat_minor": 2
}
