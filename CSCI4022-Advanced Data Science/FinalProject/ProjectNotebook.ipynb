{
 "cells": [
  {
   "cell_type": "markdown",
   "metadata": {},
   "source": [
    "Final Project for CSCI4022  \n",
    "Project by Adam Ten Hoeve"
   ]
  },
  {
   "cell_type": "markdown",
   "metadata": {},
   "source": [
    "# Preprocessing"
   ]
  },
  {
   "cell_type": "markdown",
   "metadata": {},
   "source": [
    "Import packages:"
   ]
  },
  {
   "cell_type": "code",
   "execution_count": 1,
   "metadata": {},
   "outputs": [],
   "source": [
    "import os\n",
    "import re\n",
    "import numpy as np\n",
    "import pandas as pd\n",
    "import matplotlib.pyplot as plt\n",
    "\n",
    "\n",
    "%matplotlib inline"
   ]
  },
  {
   "cell_type": "markdown",
   "metadata": {},
   "source": [
    "Load in the data:"
   ]
  },
  {
   "cell_type": "code",
   "execution_count": 2,
   "metadata": {},
   "outputs": [
    {
     "data": {
      "text/html": [
       "<div>\n",
       "<style scoped>\n",
       "    .dataframe tbody tr th:only-of-type {\n",
       "        vertical-align: middle;\n",
       "    }\n",
       "\n",
       "    .dataframe tbody tr th {\n",
       "        vertical-align: top;\n",
       "    }\n",
       "\n",
       "    .dataframe thead th {\n",
       "        text-align: right;\n",
       "    }\n",
       "</style>\n",
       "<table border=\"1\" class=\"dataframe\">\n",
       "  <thead>\n",
       "    <tr style=\"text-align: right;\">\n",
       "      <th></th>\n",
       "      <th>NumRated</th>\n",
       "      <th>joke1</th>\n",
       "      <th>joke2</th>\n",
       "      <th>joke3</th>\n",
       "      <th>joke4</th>\n",
       "      <th>joke5</th>\n",
       "      <th>joke6</th>\n",
       "      <th>joke7</th>\n",
       "      <th>joke8</th>\n",
       "      <th>joke9</th>\n",
       "      <th>...</th>\n",
       "      <th>joke91</th>\n",
       "      <th>joke92</th>\n",
       "      <th>joke93</th>\n",
       "      <th>joke94</th>\n",
       "      <th>joke95</th>\n",
       "      <th>joke96</th>\n",
       "      <th>joke97</th>\n",
       "      <th>joke98</th>\n",
       "      <th>joke99</th>\n",
       "      <th>joke100</th>\n",
       "    </tr>\n",
       "    <tr>\n",
       "      <th>userID</th>\n",
       "      <th></th>\n",
       "      <th></th>\n",
       "      <th></th>\n",
       "      <th></th>\n",
       "      <th></th>\n",
       "      <th></th>\n",
       "      <th></th>\n",
       "      <th></th>\n",
       "      <th></th>\n",
       "      <th></th>\n",
       "      <th></th>\n",
       "      <th></th>\n",
       "      <th></th>\n",
       "      <th></th>\n",
       "      <th></th>\n",
       "      <th></th>\n",
       "      <th></th>\n",
       "      <th></th>\n",
       "      <th></th>\n",
       "      <th></th>\n",
       "      <th></th>\n",
       "    </tr>\n",
       "  </thead>\n",
       "  <tbody>\n",
       "    <tr>\n",
       "      <td>0</td>\n",
       "      <td>74</td>\n",
       "      <td>-7.82</td>\n",
       "      <td>8.79</td>\n",
       "      <td>-9.66</td>\n",
       "      <td>-8.16</td>\n",
       "      <td>-7.52</td>\n",
       "      <td>-8.50</td>\n",
       "      <td>-9.85</td>\n",
       "      <td>4.17</td>\n",
       "      <td>-8.98</td>\n",
       "      <td>...</td>\n",
       "      <td>2.82</td>\n",
       "      <td>99.00</td>\n",
       "      <td>99.00</td>\n",
       "      <td>99.00</td>\n",
       "      <td>99.00</td>\n",
       "      <td>99.00</td>\n",
       "      <td>-5.63</td>\n",
       "      <td>99.00</td>\n",
       "      <td>99.00</td>\n",
       "      <td>99.00</td>\n",
       "    </tr>\n",
       "    <tr>\n",
       "      <td>1</td>\n",
       "      <td>100</td>\n",
       "      <td>4.08</td>\n",
       "      <td>-0.29</td>\n",
       "      <td>6.36</td>\n",
       "      <td>4.37</td>\n",
       "      <td>-2.38</td>\n",
       "      <td>-9.66</td>\n",
       "      <td>-0.73</td>\n",
       "      <td>-5.34</td>\n",
       "      <td>8.88</td>\n",
       "      <td>...</td>\n",
       "      <td>2.82</td>\n",
       "      <td>-4.95</td>\n",
       "      <td>-0.29</td>\n",
       "      <td>7.86</td>\n",
       "      <td>-0.19</td>\n",
       "      <td>-2.14</td>\n",
       "      <td>3.06</td>\n",
       "      <td>0.34</td>\n",
       "      <td>-4.32</td>\n",
       "      <td>1.07</td>\n",
       "    </tr>\n",
       "    <tr>\n",
       "      <td>2</td>\n",
       "      <td>49</td>\n",
       "      <td>99.00</td>\n",
       "      <td>99.00</td>\n",
       "      <td>99.00</td>\n",
       "      <td>99.00</td>\n",
       "      <td>9.03</td>\n",
       "      <td>9.27</td>\n",
       "      <td>9.03</td>\n",
       "      <td>9.27</td>\n",
       "      <td>99.00</td>\n",
       "      <td>...</td>\n",
       "      <td>99.00</td>\n",
       "      <td>99.00</td>\n",
       "      <td>99.00</td>\n",
       "      <td>9.08</td>\n",
       "      <td>99.00</td>\n",
       "      <td>99.00</td>\n",
       "      <td>99.00</td>\n",
       "      <td>99.00</td>\n",
       "      <td>99.00</td>\n",
       "      <td>99.00</td>\n",
       "    </tr>\n",
       "    <tr>\n",
       "      <td>3</td>\n",
       "      <td>48</td>\n",
       "      <td>99.00</td>\n",
       "      <td>8.35</td>\n",
       "      <td>99.00</td>\n",
       "      <td>99.00</td>\n",
       "      <td>1.80</td>\n",
       "      <td>8.16</td>\n",
       "      <td>-2.82</td>\n",
       "      <td>6.21</td>\n",
       "      <td>99.00</td>\n",
       "      <td>...</td>\n",
       "      <td>99.00</td>\n",
       "      <td>99.00</td>\n",
       "      <td>99.00</td>\n",
       "      <td>0.53</td>\n",
       "      <td>99.00</td>\n",
       "      <td>99.00</td>\n",
       "      <td>99.00</td>\n",
       "      <td>99.00</td>\n",
       "      <td>99.00</td>\n",
       "      <td>99.00</td>\n",
       "    </tr>\n",
       "    <tr>\n",
       "      <td>4</td>\n",
       "      <td>91</td>\n",
       "      <td>8.50</td>\n",
       "      <td>4.61</td>\n",
       "      <td>-4.17</td>\n",
       "      <td>-5.39</td>\n",
       "      <td>1.36</td>\n",
       "      <td>1.60</td>\n",
       "      <td>7.04</td>\n",
       "      <td>4.61</td>\n",
       "      <td>-0.44</td>\n",
       "      <td>...</td>\n",
       "      <td>5.19</td>\n",
       "      <td>5.58</td>\n",
       "      <td>4.27</td>\n",
       "      <td>5.19</td>\n",
       "      <td>5.73</td>\n",
       "      <td>1.55</td>\n",
       "      <td>3.11</td>\n",
       "      <td>6.55</td>\n",
       "      <td>1.80</td>\n",
       "      <td>1.60</td>\n",
       "    </tr>\n",
       "  </tbody>\n",
       "</table>\n",
       "<p>5 rows × 101 columns</p>\n",
       "</div>"
      ],
      "text/plain": [
       "        NumRated  joke1  joke2  joke3  joke4  joke5  joke6  joke7  joke8  \\\n",
       "userID                                                                     \n",
       "0             74  -7.82   8.79  -9.66  -8.16  -7.52  -8.50  -9.85   4.17   \n",
       "1            100   4.08  -0.29   6.36   4.37  -2.38  -9.66  -0.73  -5.34   \n",
       "2             49  99.00  99.00  99.00  99.00   9.03   9.27   9.03   9.27   \n",
       "3             48  99.00   8.35  99.00  99.00   1.80   8.16  -2.82   6.21   \n",
       "4             91   8.50   4.61  -4.17  -5.39   1.36   1.60   7.04   4.61   \n",
       "\n",
       "        joke9  ...  joke91  joke92  joke93  joke94  joke95  joke96  joke97  \\\n",
       "userID         ...                                                           \n",
       "0       -8.98  ...    2.82   99.00   99.00   99.00   99.00   99.00   -5.63   \n",
       "1        8.88  ...    2.82   -4.95   -0.29    7.86   -0.19   -2.14    3.06   \n",
       "2       99.00  ...   99.00   99.00   99.00    9.08   99.00   99.00   99.00   \n",
       "3       99.00  ...   99.00   99.00   99.00    0.53   99.00   99.00   99.00   \n",
       "4       -0.44  ...    5.19    5.58    4.27    5.19    5.73    1.55    3.11   \n",
       "\n",
       "        joke98  joke99  joke100  \n",
       "userID                           \n",
       "0        99.00   99.00    99.00  \n",
       "1         0.34   -4.32     1.07  \n",
       "2        99.00   99.00    99.00  \n",
       "3        99.00   99.00    99.00  \n",
       "4         6.55    1.80     1.60  \n",
       "\n",
       "[5 rows x 101 columns]"
      ]
     },
     "execution_count": 2,
     "metadata": {},
     "output_type": "execute_result"
    }
   ],
   "source": [
    "# Specify the data files locations\n",
    "dir_path = \"data_files\"\n",
    "file_path_1 = os.path.join(dir_path, \"jester-data-1.csv\")\n",
    "file_path_2 = os.path.join(dir_path, \"jester-data-2.csv\")\n",
    "file_path_3 = os.path.join(dir_path, \"jester-data-3.csv\")\n",
    "\n",
    "# Load each csv into a pandas dataframe\n",
    "df_1 = pd.read_csv(file_path_1, header=None)\n",
    "df_2 = pd.read_csv(file_path_2, header=None)\n",
    "df_3 = pd.read_csv(file_path_3, header=None)\n",
    "\n",
    "# Combine the dataframes into one large dataframe\n",
    "df = df_1.append(df_2).append(df_3)\n",
    "\n",
    "# Give each user an unqiue index by reindexing\n",
    "df.index = range(df.shape[0])\n",
    "df.index.name = \"userID\"\n",
    "\n",
    "# Give each column an appropriate column name.\n",
    "# Note that the first column is the number of jokes rated by user i, and the remaining columns are each a \n",
    "# ranking of joke j.\n",
    "col_names = [\"joke\"+str(i) for i in range(1, df.shape[1])]\n",
    "df.columns = [\"NumRated\"] + col_names\n",
    "df.head(5)"
   ]
  },
  {
   "cell_type": "markdown",
   "metadata": {},
   "source": [
    "Clean the data:"
   ]
  },
  {
   "cell_type": "code",
   "execution_count": 3,
   "metadata": {},
   "outputs": [
    {
     "data": {
      "text/html": [
       "<div>\n",
       "<style scoped>\n",
       "    .dataframe tbody tr th:only-of-type {\n",
       "        vertical-align: middle;\n",
       "    }\n",
       "\n",
       "    .dataframe tbody tr th {\n",
       "        vertical-align: top;\n",
       "    }\n",
       "\n",
       "    .dataframe thead th {\n",
       "        text-align: right;\n",
       "    }\n",
       "</style>\n",
       "<table border=\"1\" class=\"dataframe\">\n",
       "  <thead>\n",
       "    <tr style=\"text-align: right;\">\n",
       "      <th></th>\n",
       "      <th>NumRated</th>\n",
       "      <th>joke1</th>\n",
       "      <th>joke2</th>\n",
       "      <th>joke3</th>\n",
       "      <th>joke4</th>\n",
       "      <th>joke5</th>\n",
       "      <th>joke6</th>\n",
       "      <th>joke7</th>\n",
       "      <th>joke8</th>\n",
       "      <th>joke9</th>\n",
       "      <th>...</th>\n",
       "      <th>joke91</th>\n",
       "      <th>joke92</th>\n",
       "      <th>joke93</th>\n",
       "      <th>joke94</th>\n",
       "      <th>joke95</th>\n",
       "      <th>joke96</th>\n",
       "      <th>joke97</th>\n",
       "      <th>joke98</th>\n",
       "      <th>joke99</th>\n",
       "      <th>joke100</th>\n",
       "    </tr>\n",
       "    <tr>\n",
       "      <th>userID</th>\n",
       "      <th></th>\n",
       "      <th></th>\n",
       "      <th></th>\n",
       "      <th></th>\n",
       "      <th></th>\n",
       "      <th></th>\n",
       "      <th></th>\n",
       "      <th></th>\n",
       "      <th></th>\n",
       "      <th></th>\n",
       "      <th></th>\n",
       "      <th></th>\n",
       "      <th></th>\n",
       "      <th></th>\n",
       "      <th></th>\n",
       "      <th></th>\n",
       "      <th></th>\n",
       "      <th></th>\n",
       "      <th></th>\n",
       "      <th></th>\n",
       "      <th></th>\n",
       "    </tr>\n",
       "  </thead>\n",
       "  <tbody>\n",
       "    <tr>\n",
       "      <td>0</td>\n",
       "      <td>74.0</td>\n",
       "      <td>-7.82</td>\n",
       "      <td>8.79</td>\n",
       "      <td>-9.66</td>\n",
       "      <td>-8.16</td>\n",
       "      <td>-7.52</td>\n",
       "      <td>-8.50</td>\n",
       "      <td>-9.85</td>\n",
       "      <td>4.17</td>\n",
       "      <td>-8.98</td>\n",
       "      <td>...</td>\n",
       "      <td>2.82</td>\n",
       "      <td>NaN</td>\n",
       "      <td>NaN</td>\n",
       "      <td>NaN</td>\n",
       "      <td>NaN</td>\n",
       "      <td>NaN</td>\n",
       "      <td>-5.63</td>\n",
       "      <td>NaN</td>\n",
       "      <td>NaN</td>\n",
       "      <td>NaN</td>\n",
       "    </tr>\n",
       "    <tr>\n",
       "      <td>1</td>\n",
       "      <td>100.0</td>\n",
       "      <td>4.08</td>\n",
       "      <td>-0.29</td>\n",
       "      <td>6.36</td>\n",
       "      <td>4.37</td>\n",
       "      <td>-2.38</td>\n",
       "      <td>-9.66</td>\n",
       "      <td>-0.73</td>\n",
       "      <td>-5.34</td>\n",
       "      <td>8.88</td>\n",
       "      <td>...</td>\n",
       "      <td>2.82</td>\n",
       "      <td>-4.95</td>\n",
       "      <td>-0.29</td>\n",
       "      <td>7.86</td>\n",
       "      <td>-0.19</td>\n",
       "      <td>-2.14</td>\n",
       "      <td>3.06</td>\n",
       "      <td>0.34</td>\n",
       "      <td>-4.32</td>\n",
       "      <td>1.07</td>\n",
       "    </tr>\n",
       "    <tr>\n",
       "      <td>2</td>\n",
       "      <td>49.0</td>\n",
       "      <td>NaN</td>\n",
       "      <td>NaN</td>\n",
       "      <td>NaN</td>\n",
       "      <td>NaN</td>\n",
       "      <td>9.03</td>\n",
       "      <td>9.27</td>\n",
       "      <td>9.03</td>\n",
       "      <td>9.27</td>\n",
       "      <td>NaN</td>\n",
       "      <td>...</td>\n",
       "      <td>NaN</td>\n",
       "      <td>NaN</td>\n",
       "      <td>NaN</td>\n",
       "      <td>9.08</td>\n",
       "      <td>NaN</td>\n",
       "      <td>NaN</td>\n",
       "      <td>NaN</td>\n",
       "      <td>NaN</td>\n",
       "      <td>NaN</td>\n",
       "      <td>NaN</td>\n",
       "    </tr>\n",
       "    <tr>\n",
       "      <td>3</td>\n",
       "      <td>48.0</td>\n",
       "      <td>NaN</td>\n",
       "      <td>8.35</td>\n",
       "      <td>NaN</td>\n",
       "      <td>NaN</td>\n",
       "      <td>1.80</td>\n",
       "      <td>8.16</td>\n",
       "      <td>-2.82</td>\n",
       "      <td>6.21</td>\n",
       "      <td>NaN</td>\n",
       "      <td>...</td>\n",
       "      <td>NaN</td>\n",
       "      <td>NaN</td>\n",
       "      <td>NaN</td>\n",
       "      <td>0.53</td>\n",
       "      <td>NaN</td>\n",
       "      <td>NaN</td>\n",
       "      <td>NaN</td>\n",
       "      <td>NaN</td>\n",
       "      <td>NaN</td>\n",
       "      <td>NaN</td>\n",
       "    </tr>\n",
       "    <tr>\n",
       "      <td>4</td>\n",
       "      <td>91.0</td>\n",
       "      <td>8.50</td>\n",
       "      <td>4.61</td>\n",
       "      <td>-4.17</td>\n",
       "      <td>-5.39</td>\n",
       "      <td>1.36</td>\n",
       "      <td>1.60</td>\n",
       "      <td>7.04</td>\n",
       "      <td>4.61</td>\n",
       "      <td>-0.44</td>\n",
       "      <td>...</td>\n",
       "      <td>5.19</td>\n",
       "      <td>5.58</td>\n",
       "      <td>4.27</td>\n",
       "      <td>5.19</td>\n",
       "      <td>5.73</td>\n",
       "      <td>1.55</td>\n",
       "      <td>3.11</td>\n",
       "      <td>6.55</td>\n",
       "      <td>1.80</td>\n",
       "      <td>1.60</td>\n",
       "    </tr>\n",
       "  </tbody>\n",
       "</table>\n",
       "<p>5 rows × 101 columns</p>\n",
       "</div>"
      ],
      "text/plain": [
       "        NumRated  joke1  joke2  joke3  joke4  joke5  joke6  joke7  joke8  \\\n",
       "userID                                                                     \n",
       "0           74.0  -7.82   8.79  -9.66  -8.16  -7.52  -8.50  -9.85   4.17   \n",
       "1          100.0   4.08  -0.29   6.36   4.37  -2.38  -9.66  -0.73  -5.34   \n",
       "2           49.0    NaN    NaN    NaN    NaN   9.03   9.27   9.03   9.27   \n",
       "3           48.0    NaN   8.35    NaN    NaN   1.80   8.16  -2.82   6.21   \n",
       "4           91.0   8.50   4.61  -4.17  -5.39   1.36   1.60   7.04   4.61   \n",
       "\n",
       "        joke9  ...  joke91  joke92  joke93  joke94  joke95  joke96  joke97  \\\n",
       "userID         ...                                                           \n",
       "0       -8.98  ...    2.82     NaN     NaN     NaN     NaN     NaN   -5.63   \n",
       "1        8.88  ...    2.82   -4.95   -0.29    7.86   -0.19   -2.14    3.06   \n",
       "2         NaN  ...     NaN     NaN     NaN    9.08     NaN     NaN     NaN   \n",
       "3         NaN  ...     NaN     NaN     NaN    0.53     NaN     NaN     NaN   \n",
       "4       -0.44  ...    5.19    5.58    4.27    5.19    5.73    1.55    3.11   \n",
       "\n",
       "        joke98  joke99  joke100  \n",
       "userID                           \n",
       "0          NaN     NaN      NaN  \n",
       "1         0.34   -4.32     1.07  \n",
       "2          NaN     NaN      NaN  \n",
       "3          NaN     NaN      NaN  \n",
       "4         6.55    1.80     1.60  \n",
       "\n",
       "[5 rows x 101 columns]"
      ]
     },
     "execution_count": 3,
     "metadata": {},
     "output_type": "execute_result"
    }
   ],
   "source": [
    "# Notice that 99.00 was used as a filler value for jokes that were not rated. Let's replace these with np.nan.\n",
    "df[df == 99.00] = np.nan\n",
    "df.head(5)\n",
    "# We don't want to replace them with 0, or another numeric value, as these will skew the rankings towards those values.\n",
    "# Many calculations we will be performing will depend on specific non-null entries, so it's easiest to make them nan at the\n",
    "# beginning."
   ]
  },
  {
   "cell_type": "code",
   "execution_count": 4,
   "metadata": {},
   "outputs": [
    {
     "data": {
      "text/html": [
       "<div>\n",
       "<style scoped>\n",
       "    .dataframe tbody tr th:only-of-type {\n",
       "        vertical-align: middle;\n",
       "    }\n",
       "\n",
       "    .dataframe tbody tr th {\n",
       "        vertical-align: top;\n",
       "    }\n",
       "\n",
       "    .dataframe thead th {\n",
       "        text-align: right;\n",
       "    }\n",
       "</style>\n",
       "<table border=\"1\" class=\"dataframe\">\n",
       "  <thead>\n",
       "    <tr style=\"text-align: right;\">\n",
       "      <th></th>\n",
       "      <th>joke1</th>\n",
       "      <th>joke2</th>\n",
       "      <th>joke3</th>\n",
       "      <th>joke4</th>\n",
       "      <th>joke5</th>\n",
       "      <th>joke6</th>\n",
       "      <th>joke7</th>\n",
       "      <th>joke8</th>\n",
       "      <th>joke9</th>\n",
       "      <th>joke10</th>\n",
       "      <th>...</th>\n",
       "      <th>joke91</th>\n",
       "      <th>joke92</th>\n",
       "      <th>joke93</th>\n",
       "      <th>joke94</th>\n",
       "      <th>joke95</th>\n",
       "      <th>joke96</th>\n",
       "      <th>joke97</th>\n",
       "      <th>joke98</th>\n",
       "      <th>joke99</th>\n",
       "      <th>joke100</th>\n",
       "    </tr>\n",
       "    <tr>\n",
       "      <th>userID</th>\n",
       "      <th></th>\n",
       "      <th></th>\n",
       "      <th></th>\n",
       "      <th></th>\n",
       "      <th></th>\n",
       "      <th></th>\n",
       "      <th></th>\n",
       "      <th></th>\n",
       "      <th></th>\n",
       "      <th></th>\n",
       "      <th></th>\n",
       "      <th></th>\n",
       "      <th></th>\n",
       "      <th></th>\n",
       "      <th></th>\n",
       "      <th></th>\n",
       "      <th></th>\n",
       "      <th></th>\n",
       "      <th></th>\n",
       "      <th></th>\n",
       "      <th></th>\n",
       "    </tr>\n",
       "  </thead>\n",
       "  <tbody>\n",
       "    <tr>\n",
       "      <td>0</td>\n",
       "      <td>-7.82</td>\n",
       "      <td>8.79</td>\n",
       "      <td>-9.66</td>\n",
       "      <td>-8.16</td>\n",
       "      <td>-7.52</td>\n",
       "      <td>-8.50</td>\n",
       "      <td>-9.85</td>\n",
       "      <td>4.17</td>\n",
       "      <td>-8.98</td>\n",
       "      <td>-4.76</td>\n",
       "      <td>...</td>\n",
       "      <td>2.82</td>\n",
       "      <td>NaN</td>\n",
       "      <td>NaN</td>\n",
       "      <td>NaN</td>\n",
       "      <td>NaN</td>\n",
       "      <td>NaN</td>\n",
       "      <td>-5.63</td>\n",
       "      <td>NaN</td>\n",
       "      <td>NaN</td>\n",
       "      <td>NaN</td>\n",
       "    </tr>\n",
       "    <tr>\n",
       "      <td>1</td>\n",
       "      <td>4.08</td>\n",
       "      <td>-0.29</td>\n",
       "      <td>6.36</td>\n",
       "      <td>4.37</td>\n",
       "      <td>-2.38</td>\n",
       "      <td>-9.66</td>\n",
       "      <td>-0.73</td>\n",
       "      <td>-5.34</td>\n",
       "      <td>8.88</td>\n",
       "      <td>9.22</td>\n",
       "      <td>...</td>\n",
       "      <td>2.82</td>\n",
       "      <td>-4.95</td>\n",
       "      <td>-0.29</td>\n",
       "      <td>7.86</td>\n",
       "      <td>-0.19</td>\n",
       "      <td>-2.14</td>\n",
       "      <td>3.06</td>\n",
       "      <td>0.34</td>\n",
       "      <td>-4.32</td>\n",
       "      <td>1.07</td>\n",
       "    </tr>\n",
       "    <tr>\n",
       "      <td>2</td>\n",
       "      <td>NaN</td>\n",
       "      <td>NaN</td>\n",
       "      <td>NaN</td>\n",
       "      <td>NaN</td>\n",
       "      <td>9.03</td>\n",
       "      <td>9.27</td>\n",
       "      <td>9.03</td>\n",
       "      <td>9.27</td>\n",
       "      <td>NaN</td>\n",
       "      <td>NaN</td>\n",
       "      <td>...</td>\n",
       "      <td>NaN</td>\n",
       "      <td>NaN</td>\n",
       "      <td>NaN</td>\n",
       "      <td>9.08</td>\n",
       "      <td>NaN</td>\n",
       "      <td>NaN</td>\n",
       "      <td>NaN</td>\n",
       "      <td>NaN</td>\n",
       "      <td>NaN</td>\n",
       "      <td>NaN</td>\n",
       "    </tr>\n",
       "    <tr>\n",
       "      <td>3</td>\n",
       "      <td>NaN</td>\n",
       "      <td>8.35</td>\n",
       "      <td>NaN</td>\n",
       "      <td>NaN</td>\n",
       "      <td>1.80</td>\n",
       "      <td>8.16</td>\n",
       "      <td>-2.82</td>\n",
       "      <td>6.21</td>\n",
       "      <td>NaN</td>\n",
       "      <td>1.84</td>\n",
       "      <td>...</td>\n",
       "      <td>NaN</td>\n",
       "      <td>NaN</td>\n",
       "      <td>NaN</td>\n",
       "      <td>0.53</td>\n",
       "      <td>NaN</td>\n",
       "      <td>NaN</td>\n",
       "      <td>NaN</td>\n",
       "      <td>NaN</td>\n",
       "      <td>NaN</td>\n",
       "      <td>NaN</td>\n",
       "    </tr>\n",
       "    <tr>\n",
       "      <td>4</td>\n",
       "      <td>8.50</td>\n",
       "      <td>4.61</td>\n",
       "      <td>-4.17</td>\n",
       "      <td>-5.39</td>\n",
       "      <td>1.36</td>\n",
       "      <td>1.60</td>\n",
       "      <td>7.04</td>\n",
       "      <td>4.61</td>\n",
       "      <td>-0.44</td>\n",
       "      <td>5.73</td>\n",
       "      <td>...</td>\n",
       "      <td>5.19</td>\n",
       "      <td>5.58</td>\n",
       "      <td>4.27</td>\n",
       "      <td>5.19</td>\n",
       "      <td>5.73</td>\n",
       "      <td>1.55</td>\n",
       "      <td>3.11</td>\n",
       "      <td>6.55</td>\n",
       "      <td>1.80</td>\n",
       "      <td>1.60</td>\n",
       "    </tr>\n",
       "  </tbody>\n",
       "</table>\n",
       "<p>5 rows × 100 columns</p>\n",
       "</div>"
      ],
      "text/plain": [
       "        joke1  joke2  joke3  joke4  joke5  joke6  joke7  joke8  joke9  joke10  \\\n",
       "userID                                                                          \n",
       "0       -7.82   8.79  -9.66  -8.16  -7.52  -8.50  -9.85   4.17  -8.98   -4.76   \n",
       "1        4.08  -0.29   6.36   4.37  -2.38  -9.66  -0.73  -5.34   8.88    9.22   \n",
       "2         NaN    NaN    NaN    NaN   9.03   9.27   9.03   9.27    NaN     NaN   \n",
       "3         NaN   8.35    NaN    NaN   1.80   8.16  -2.82   6.21    NaN    1.84   \n",
       "4        8.50   4.61  -4.17  -5.39   1.36   1.60   7.04   4.61  -0.44    5.73   \n",
       "\n",
       "        ...  joke91  joke92  joke93  joke94  joke95  joke96  joke97  joke98  \\\n",
       "userID  ...                                                                   \n",
       "0       ...    2.82     NaN     NaN     NaN     NaN     NaN   -5.63     NaN   \n",
       "1       ...    2.82   -4.95   -0.29    7.86   -0.19   -2.14    3.06    0.34   \n",
       "2       ...     NaN     NaN     NaN    9.08     NaN     NaN     NaN     NaN   \n",
       "3       ...     NaN     NaN     NaN    0.53     NaN     NaN     NaN     NaN   \n",
       "4       ...    5.19    5.58    4.27    5.19    5.73    1.55    3.11    6.55   \n",
       "\n",
       "        joke99  joke100  \n",
       "userID                   \n",
       "0          NaN      NaN  \n",
       "1        -4.32     1.07  \n",
       "2          NaN      NaN  \n",
       "3          NaN      NaN  \n",
       "4         1.80     1.60  \n",
       "\n",
       "[5 rows x 100 columns]"
      ]
     },
     "execution_count": 4,
     "metadata": {},
     "output_type": "execute_result"
    }
   ],
   "source": [
    "# Remove the NumRated column because it's annoying to format around, skews data if I forget about it, and is not needed\n",
    "df = df.loc[:, df.columns != \"NumRated\"]\n",
    "df.head()"
   ]
  },
  {
   "cell_type": "markdown",
   "metadata": {},
   "source": [
    "Let's calculate some helpful metadata from each user and joke:\n",
    "* What is the global average rating?\n",
    "* What is each user's average rating?\n",
    "* What is each joke's average rating?  \n",
    "\n",
    "These help us establish baselines for users and jokes, which can help us make more informed recommendations in the future."
   ]
  },
  {
   "cell_type": "code",
   "execution_count": 5,
   "metadata": {},
   "outputs": [],
   "source": [
    "# Find the global average\n",
    "global_avg = np.nanmean(df)\n",
    "\n",
    "# Find each user's average rating\n",
    "user_avgs = np.nanmean(df, axis=1)\n",
    "\n",
    "# Find each joke's average rating\n",
    "joke_avgs = np.nanmean(df, axis=0)"
   ]
  },
  {
   "cell_type": "markdown",
   "metadata": {},
   "source": [
    "We can also do some basic data exploration to get a better idea of what our data looks like. Let's take a look at average joke ratings.  \n",
    "* What is the average rating of each joke?\n",
    "* What is the distribution of average joke ratings?\n",
    "* How many times was each joke rated?"
   ]
  },
  {
   "cell_type": "code",
   "execution_count": 6,
   "metadata": {},
   "outputs": [
    {
     "data": {
      "image/png": "[encoded data removed]",
      "text/plain": [
       "<Figure size 720x432 with 1 Axes>"
      ]
     },
     "metadata": {
      "needs_background": "light"
     },
     "output_type": "display_data"
    }
   ],
   "source": [
    "fig, ax = plt.subplots(1, 1, figsize=(10, 6))\n",
    "\n",
    "# Let's create a plot for the average rating of each joke\n",
    "ax.bar(x=np.arange(0, 100), height=joke_avgs)\n",
    "ax.set_title(\"Average Ranking of Jokes\")\n",
    "ax.set_xlabel(\"Joke Index\")\n",
    "ax.set_ylabel(\"Average Ranking\")\n",
    "ax.set_xticks(np.arange(0, 105, 5));"
   ]
  },
  {
   "cell_type": "code",
   "execution_count": 7,
   "metadata": {},
   "outputs": [
    {
     "data": {
      "text/plain": [
       "Text(0,0.5,'Frequency')"
      ]
     },
     "execution_count": 7,
     "metadata": {},
     "output_type": "execute_result"
    },
    {
     "data": {
      "image/png": "[encoded data removed]",
      "text/plain": [
       "<Figure size 720x432 with 1 Axes>"
      ]
     },
     "metadata": {
      "needs_background": "light"
     },
     "output_type": "display_data"
    }
   ],
   "source": [
    "# And let's make a histogram of the amount each ranking\n",
    "fig, ax = plt.subplots(1, 1, figsize=(10, 6))\n",
    "\n",
    "ax.hist(joke_avgs, bins=20, edgecolor=\"white\")\n",
    "ax.set_xticks(np.arange(-5, 5.5, 0.5))\n",
    "ax.set_title(\"Histogram of Average Joke Ratings\")\n",
    "ax.set_xlabel(\"Ranking\")\n",
    "ax.set_ylabel(\"Frequency\")"
   ]
  },
  {
   "cell_type": "code",
   "execution_count": 8,
   "metadata": {},
   "outputs": [
    {
     "data": {
      "image/png": "[encoded data removed]",
      "text/plain": [
       "<Figure size 720x432 with 1 Axes>"
      ]
     },
     "metadata": {
      "needs_background": "light"
     },
     "output_type": "display_data"
    }
   ],
   "source": [
    "# And let's look at how many times each joke was rated\n",
    "fig, ax = plt.subplots(1, 1, figsize=(10, 6))\n",
    "\n",
    "joke_counts = df.count()\n",
    "ax.bar(x=range(0, 100), height=joke_counts)\n",
    "ax.set_title(\"Number of Times Each Joke was Ranked\")\n",
    "ax.set_xlabel(\"Joke Index\")\n",
    "ax.set_ylabel(\"Count\")\n",
    "ax.set_xticks(np.arange(0, 105, 5));"
   ]
  },
  {
   "cell_type": "markdown",
   "metadata": {},
   "source": [
    "We can see that jokes {5, 7, 8, 13, 15, 16, 17, 18, 19, 20} have been ranked the most, and can be considered dense. If we want to ask people for itinital joke rankings, it would be best to ask them those jokes. But the joke's distributions might be important as well. Let's look at jokes 5, 7, and 13 to get a few examples. "
   ]
  },
  {
   "cell_type": "code",
   "execution_count": 9,
   "metadata": {},
   "outputs": [
    {
     "data": {
      "image/png": "[encoded data removed]",
      "text/plain": [
       "<Figure size 720x1296 with 3 Axes>"
      ]
     },
     "metadata": {
      "needs_background": "light"
     },
     "output_type": "display_data"
    }
   ],
   "source": [
    "fig,ax = plt.subplots(3, 1, figsize=(10, 18))\n",
    "\n",
    "joke5_ratings = df[\"joke5\"].to_numpy()\n",
    "joke5_ratings = joke5_ratings[~np.isnan(joke5_ratings)]\n",
    "\n",
    "joke7_ratings = df[\"joke7\"].to_numpy()\n",
    "joke7_ratings = joke7_ratings[~np.isnan(joke7_ratings)]\n",
    "\n",
    "joke13_ratings = df[\"joke13\"].to_numpy()\n",
    "joke13_ratings = joke13_ratings[~np.isnan(joke13_ratings)]\n",
    "\n",
    "ax[0].hist(joke5_ratings, bins=20, edgecolor=\"white\")\n",
    "ax[0].set_title(\"Histogram of Joke 5 Ratings\")\n",
    "ax[0].set_ylabel(\"Frequency\")\n",
    "ax[0].set_xlabel(\"Rating\")\n",
    "\n",
    "ax[1].hist(joke7_ratings, bins=20, edgecolor=\"white\")\n",
    "ax[1].set_title(\"Histogram of Joke 7 Ratings\")\n",
    "ax[1].set_ylabel(\"Frequency\")\n",
    "ax[1].set_xlabel(\"Rating\")\n",
    "\n",
    "ax[2].hist(joke13_ratings, bins=20, edgecolor=\"white\")\n",
    "ax[2].set_title(\"Histogram of Joke 13 Ratings\")\n",
    "ax[2].set_ylabel(\"Frequency\")\n",
    "ax[2].set_xlabel(\"Rating\");"
   ]
  },
  {
   "cell_type": "markdown",
   "metadata": {},
   "source": [
    "Let's also make some plot for the user's themselves.  \n",
    "* What was the distribution of user's average ratings?"
   ]
  },
  {
   "cell_type": "code",
   "execution_count": 10,
   "metadata": {},
   "outputs": [
    {
     "data": {
      "image/png": "[encoded data removed]",
      "text/plain": [
       "<Figure size 720x432 with 1 Axes>"
      ]
     },
     "metadata": {
      "needs_background": "light"
     },
     "output_type": "display_data"
    }
   ],
   "source": [
    "fig, ax = plt.subplots(1, 1, figsize=(10, 6))\n",
    "\n",
    "ax.hist(user_avgs[1:], bins=20, edgecolor=\"white\")\n",
    "ax.set_title(\"Histogram of average user rankings\")\n",
    "ax.set_xlabel(\"Average Ranking\")\n",
    "ax.set_ylabel(\"Frequency\");"
   ]
  },
  {
   "cell_type": "markdown",
   "metadata": {},
   "source": [
    "So we have the average rating, but we don't know if the data is independently sorted. As in, the data collectors could've sorted the data by some metric beforehand, which could effect our results, particularly if we choose a specific holdout set for evaluation."
   ]
  },
  {
   "cell_type": "code",
   "execution_count": 11,
   "metadata": {},
   "outputs": [
    {
     "data": {
      "image/png": "[encoded data removed]",
      "text/plain": [
       "<Figure size 720x432 with 1 Axes>"
      ]
     },
     "metadata": {
      "needs_background": "light"
     },
     "output_type": "display_data"
    }
   ],
   "source": [
    "size_groups = 100\n",
    "num_groups = int(df.shape[0] / size_groups)\n",
    "avg_rating = np.zeros(num_groups)\n",
    "\n",
    "for i in range(num_groups):\n",
    "    group = df.iloc[i*size_groups: (i+1)*size_groups]\n",
    "    avg_rating[i] = np.nanmean(group)\n",
    "    \n",
    "fig, ax = plt.subplots(1, 1, figsize=(10, 6))\n",
    "ax.plot(np.arange(num_groups), avg_rating)\n",
    "ax.set_title(\"Average Rank Per Data Index (In Blocks of size {})\".format(size_groups))\n",
    "ax.set_xlabel(\"Block Index\")\n",
    "ax.set_ylabel(\"Average Rank\");"
   ]
  },
  {
   "cell_type": "markdown",
   "metadata": {},
   "source": [
    "So there is a trend in the data that the first few indexes have a generally higher ranking than the later indexes. This is important for telling us that, if we use a holdout set for evaluation, we should choose random indexes or else impart structured error into the results."
   ]
  },
  {
   "cell_type": "markdown",
   "metadata": {},
   "source": [
    "So we have a general idea of some trends of the data. It's worth noticing that our current data is only recommendations, which are useful for user-user and item-item recommendations, but not if we want to content-based recommendations. To get that, we're going to create a new content matrix and get some information from each joke:\n",
    "* Subject of the joke (Political, Religious, \"X, Y and Z walked into a bar\", Profession based, etc) \n",
    "* TF-IDF of non-frequent terms (ie not including words like \"the\", \"and\", \"she\", \"but\", etc)\n",
    "\n",
    "To get the first of the two, we could do some really complex natural language processing, but because there is only 100 jokes it will be considerably easier to just read all the jokes and do it by hand. To get the TF_IDF scores, we will need to code the algorithm. But first, time to read some bad jokes!"
   ]
  },
  {
   "cell_type": "code",
   "execution_count": 12,
   "metadata": {},
   "outputs": [],
   "source": [
    "# Topic selection. Is hardcoded. Blech.\n",
    "joke_content = np.zeros((df.shape[1], 15))  # 15 cols because that's how many \"content\" types of jokes I found.\n",
    "# Column topics: \n",
    "# [Q/A format, medical, political, religious, race/nationality, career/profession, \n",
    "# sex/relationships, about gender, in a bar, current events, pun/play on words, \n",
    "# mothers/fathers, technology/science, animals, \"screw in a lightbulb\"]\n",
    "joke_content[0] = [0, 1, 0, 0, 0, 0, 0, 0, 0, 0, 0, 0, 0, 0, 0]\n",
    "joke_content[1] = [0, 0, 0, 0, 0, 0, 1, 0, 0, 0, 0, 0, 0, 0, 0]\n",
    "joke_content[2] = [1, 0, 0, 0, 0, 0, 0, 0, 0, 0, 0, 0, 0, 0, 0]\n",
    "joke_content[3] = [1, 0, 0, 0, 0, 0, 0, 1, 0, 0, 0, 0, 0, 0, 0]\n",
    "joke_content[4] = [1, 0, 0, 0, 0, 0, 0, 0, 0, 1, 0, 0, 0, 0, 0]\n",
    "joke_content[5] = [0, 0, 1, 0, 0, 0, 0, 0, 0, 1, 0, 0, 0, 0, 0]\n",
    "joke_content[6] = [1, 0, 0, 0, 0, 0, 0, 1, 0, 0, 0, 0, 0, 0, 1]\n",
    "joke_content[7] = [1, 1, 0, 1, 0, 0, 0, 0, 0, 0, 0, 0, 0, 0, 0]\n",
    "joke_content[8] = [0, 0, 0, 0, 1, 0, 0, 0, 1, 0, 0, 0, 0, 0, 0]\n",
    "joke_content[9] = [0, 0, 0, 0, 0, 1, 0, 0, 0, 0, 1, 0, 0, 0, 0]\n",
    "joke_content[10] = [1, 0, 0, 0, 1, 0, 0, 0, 0, 0, 0, 0, 0, 0, 0]\n",
    "joke_content[11] = [0, 0, 0, 0, 0, 0, 1, 0, 0, 0, 0, 0, 0, 0, 0]\n",
    "joke_content[12] = [0, 0, 1, 0, 1, 0, 0, 0, 0, 1, 0, 0, 0, 0, 0]\n",
    "joke_content[13] = [0, 0, 0, 0, 0, 0, 1, 0, 0, 0, 0, 1, 0, 0, 0]\n",
    "joke_content[14] = [1, 1, 0, 0, 1, 0, 0, 0, 0, 0, 0, 0, 0, 0, 0]\n",
    "joke_content[15] = [1, 0, 0, 0, 0, 0, 0, 0, 0, 0, 1, 0, 0, 0, 0]\n",
    "joke_content[16] = [1, 0, 0, 0, 0, 0, 0, 1, 0, 0, 0, 0, 0, 0, 1]\n",
    "joke_content[17] = [0, 0, 0, 0, 0, 1, 0, 0, 0, 0, 0, 0, 0, 1, 0]\n",
    "joke_content[18] = [1, 0, 0, 0, 1, 0, 0, 0, 0, 0, 0, 0, 0, 0, 0]\n",
    "joke_content[19] = [1, 0, 0, 0, 0, 0, 0, 0, 0, 0, 0, 0, 1, 0, 0]\n",
    "joke_content[20] = [1, 0, 0, 0, 0, 0, 1, 1, 0, 0, 0, 0, 0, 0, 0]\n",
    "joke_content[21] = [0, 0, 0, 0, 0, 0, 1, 0, 0, 0, 0, 0, 0, 1, 0]\n",
    "joke_content[22] = [1, 0, 0, 0, 1, 0, 0, 0, 0, 0, 0, 0, 0, 0, 0]\n",
    "joke_content[23] = [1, 0, 0, 0, 0, 0, 0, 0, 0, 0, 1, 0, 0, 1, 0]\n",
    "joke_content[24] = [0, 0, 0, 0, 0, 0, 0, 1, 0, 0, 0, 0, 0, 0, 0]\n",
    "joke_content[25] = [0, 0, 0, 0, 0, 0, 1, 0, 1, 0, 0, 0, 0, 0, 0]\n",
    "joke_content[26] = [0, 0, 1, 0, 0, 0, 0, 0, 0, 1, 0, 0, 0, 0, 0]\n",
    "joke_content[27] = [0, 0, 0, 0, 0, 1, 0, 0, 0, 0, 0, 0, 1, 0, 0]\n",
    "joke_content[28] = [0, 0, 0, 0, 1, 0, 1, 0, 0, 0, 0, 0, 0, 1, 0]\n",
    "joke_content[29] = [1, 0, 0, 0, 0, 1, 0, 0, 0, 0, 0, 0, 0, 0, 0]\n",
    "joke_content[30] = [0, 0, 1, 0, 0, 0, 1, 0, 0, 1, 0, 0, 0, 0, 0]\n",
    "joke_content[31] = [0, 0, 0, 1, 0, 0, 0, 0, 0, 0, 0, 0, 0, 0, 0]\n",
    "joke_content[32] = [1, 0, 0, 0, 1, 1, 0, 0, 0, 0, 0, 0, 0, 0, 0]\n",
    "joke_content[33] = [0, 0, 0, 0, 1, 0, 0, 0, 0, 0, 0, 0, 0, 0, 0]\n",
    "joke_content[34] = [0, 0, 0, 1, 0, 0, 0, 0, 0, 0, 0, 0, 0, 0, 0]\n",
    "joke_content[35] = [0, 0, 0, 0, 1, 0, 0, 0, 1, 0, 0, 0, 0, 0, 0]\n",
    "joke_content[36] = [0, 1, 0, 1, 0, 0, 0, 0, 0, 0, 0, 1, 0, 0, 0]\n",
    "joke_content[37] = [0, 0, 0, 0, 0, 0, 0, 0, 0, 0, 0, 0, 0, 1, 0]\n",
    "joke_content[38] = [1, 0, 0, 0, 0, 0, 0, 1, 0, 0, 0, 0, 0, 0, 0]\n",
    "joke_content[39] = [1, 0, 0, 0, 1, 0, 0, 0, 0, 0, 0, 0, 0, 0, 1]\n",
    "joke_content[40] = [1, 0, 0, 1, 0, 0, 1, 0, 0, 0, 0, 0, 0, 0, 0]\n",
    "joke_content[41] = [0, 0, 0, 0, 0, 0, 1, 1, 0, 0, 0, 0, 0, 0, 0]\n",
    "joke_content[42] = [0, 0, 0, 0, 0, 1, 0, 0, 0, 1, 0, 0, 0, 0, 0]\n",
    "joke_content[43] = [0, 0, 0, 0, 0, 0, 0, 0, 1, 0, 0, 0, 0, 1, 0]\n",
    "joke_content[44] = [0, 0, 0, 0, 1, 0, 0, 0, 0, 0, 0, 1, 0, 0, 0]\n",
    "joke_content[45] = [0, 0, 0, 0, 0, 0, 1, 0, 0, 0, 0, 0, 0, 0, 0]\n",
    "joke_content[46] = [0, 0, 0, 0, 0, 1, 0, 0, 0, 0, 0, 0, 0, 0, 0]\n",
    "joke_content[47] = [0, 0, 0, 0, 0, 1, 0, 0, 0, 0, 0, 0, 0, 0, 0]\n",
    "joke_content[48] = [0, 0, 0, 0, 0, 1, 0, 0, 0, 0, 0, 0, 0, 0, 0]\n",
    "joke_content[49] = [0, 0, 0, 1, 0, 0, 1, 0, 0, 0, 0, 0, 0, 0, 0]\n",
    "joke_content[50] = [0, 0, 1, 0, 0, 0, 1, 0, 0, 1, 0, 0, 0, 0, 0]\n",
    "# Now that I'm halfway done, I definately should've made this sparse\n",
    "joke_content[51] = [1, 0, 1, 0, 0, 0, 1, 0, 0, 1, 0, 0, 0, 0, 0]\n",
    "joke_content[52] = [0, 0, 0, 0, 0, 0, 1, 0, 0, 0, 0, 1, 0, 0, 0]\n",
    "joke_content[53] = [0, 0, 0, 1, 0, 0, 1, 0, 0, 0, 0, 0, 0, 0, 0]\n",
    "joke_content[54] = [0, 0, 0, 0, 0, 0, 0, 0, 0, 0, 1, 1, 0, 0, 0]\n",
    "joke_content[55] = [0, 0, 0, 0, 0, 0, 1, 0, 0, 1, 0, 0, 0, 0, 0]\n",
    "joke_content[56] = [1, 0, 0, 0, 0, 0, 0, 0, 0, 0, 1, 0, 0, 0, 0]\n",
    "joke_content[57] = [1, 0, 0, 0, 0, 0, 0, 0, 0, 0, 0, 0, 0, 0, 1]\n",
    "joke_content[58] = [0, 0, 1, 0, 1, 0, 0, 0, 0, 0, 0, 0, 0, 0, 0]\n",
    "joke_content[59] = [1, 0, 0, 1, 0, 1, 0, 0, 0, 0, 0, 0, 0, 0, 0]\n",
    "joke_content[60] = [0, 0, 1, 0, 0, 0, 0, 0, 0, 1, 0, 0, 0, 0, 0]\n",
    "joke_content[61] = [0, 0, 0, 0, 0, 1, 0, 0, 0, 0, 0, 0, 0, 0, 0]\n",
    "joke_content[62] = [0, 0, 0, 0, 0, 1, 0, 0, 0, 0, 0, 0, 0, 0, 0]\n",
    "joke_content[63] = [1, 1, 0, 0, 0, 0, 0, 0, 0, 0, 0, 0, 0, 0, 0]\n",
    "joke_content[64] = [0, 0, 0, 0, 1, 0, 0, 0, 1, 0, 0, 0, 0, 0, 0]\n",
    "joke_content[65] = [0, 0, 0, 0, 0, 1, 0, 0, 0, 0, 0, 0, 0, 0, 0]\n",
    "joke_content[66] = [0, 0, 0, 0, 0, 0, 1, 0, 0, 0, 1, 0, 0, 0, 0]\n",
    "joke_content[67] = [0, 0, 0, 0, 0, 1, 0, 0, 0, 0, 0, 0, 0, 0, 0]\n",
    "joke_content[68] = [0, 0, 0, 0, 0, 0, 1, 1, 0, 0, 0, 0, 0, 0, 0]\n",
    "joke_content[69] = [0, 0, 0, 0, 0, 1, 0, 0, 0, 0, 0, 0, 0, 0, 0]\n",
    "joke_content[70] = [0, 0, 0, 0, 0, 1, 0, 0, 0, 0, 0, 0, 1, 0, 0]\n",
    "joke_content[71] = [0, 0, 0, 0, 0, 0, 1, 0, 0, 0, 0, 0, 0, 0, 0]\n",
    "joke_content[72] = [1, 0, 1, 0, 0, 0, 0, 0, 0, 1, 0, 0, 0, 0, 0]\n",
    "joke_content[73] = [1, 1, 0, 0, 0, 0, 0, 0, 0, 0, 0, 0, 0, 0, 1]\n",
    "joke_content[74] = [1, 0, 0, 0, 0, 0, 0, 1, 0, 0, 0, 0, 0, 0, 0]\n",
    "joke_content[75] = [0, 0, 0, 0, 0, 0, 0, 1, 0, 0, 0, 0, 0, 0, 0]\n",
    "joke_content[76] = [0, 0, 1, 0, 0, 0, 0, 0, 0, 0, 0, 0, 0, 0, 0]\n",
    "joke_content[77] = [1, 0, 1, 0, 0, 0, 0, 0, 0, 0, 0, 0, 0, 0, 0]\n",
    "joke_content[78] = [1, 0, 1, 0, 0, 0, 0, 0, 0, 0, 0, 0, 0, 0, 0]\n",
    "joke_content[79] = [0, 0, 1, 0, 0, 0, 0, 0, 0, 1, 0, 0, 0, 0, 0]\n",
    "joke_content[80] = [0, 0, 0, 0, 1, 0, 0, 0, 0, 0, 1, 0, 0, 0, 0]\n",
    "joke_content[81] = [1, 0, 0, 0, 0, 1, 0, 0, 0, 0, 0, 0, 1, 0, 0]\n",
    "joke_content[82] = [0, 0, 0, 0, 0, 0, 1, 1, 0, 0, 0, 0, 0, 0, 0]\n",
    "joke_content[83] = [1, 0, 0, 0, 0, 1, 0, 0, 0, 0, 0, 0, 0, 0, 0]\n",
    "joke_content[84] = [1, 0, 1, 0, 0, 0, 0, 0, 0, 1, 0, 0, 0, 0, 1]\n",
    "joke_content[85] = [0, 0, 0, 0, 0, 0, 0, 0, 1, 0, 0, 0, 1, 0, 0]\n",
    "joke_content[86] = [0, 1, 0, 0, 0, 0, 0, 0, 0, 0, 0, 0, 0, 0, 0]\n",
    "joke_content[87] = [0, 1, 0, 0, 1, 0, 0, 0, 0, 0, 0, 0, 0, 0, 0]\n",
    "joke_content[88] = [0, 0, 0, 0, 1, 0, 0, 0, 0, 0, 0, 0, 0, 0, 0]\n",
    "joke_content[89] = [1, 0, 0, 0, 0, 1, 0, 0, 0, 0, 0, 0, 1, 0, 1]\n",
    "joke_content[90] = [0, 0, 0, 0, 0, 0, 0, 0, 1, 0, 1, 0, 0, 1, 0]\n",
    "joke_content[91] = [0, 0, 0, 0, 0, 1, 0, 0, 0, 0, 0, 0, 0, 0, 0]\n",
    "joke_content[92] = [0, 0, 0, 0, 0, 1, 0, 0, 0, 0, 0, 0, 0, 0, 0]\n",
    "joke_content[93] = [0, 0, 0, 0, 0, 0, 0, 0, 0, 0, 0, 0, 1, 0, 0]\n",
    "joke_content[94] = [0, 0, 0, 0, 0, 0, 0, 0, 0, 0, 1, 0, 0, 0, 0]\n",
    "joke_content[95] = [0, 0, 0, 0, 0, 1, 0, 0, 0, 0, 1, 0, 0, 0, 0]\n",
    "joke_content[96] = [0, 0, 0, 0, 0, 0, 0, 0, 0, 0, 1, 0, 0, 0, 0]\n",
    "joke_content[97] = [0, 0, 0, 0, 0, 0, 0, 1, 0, 0, 0, 0, 0, 0, 0]\n",
    "joke_content[98] = [0, 0, 0, 0, 0, 0, 0, 0, 0, 0, 1, 0, 0, 0, 0]\n",
    "joke_content[99] = [0, 0, 1, 0, 0, 0, 1, 0, 0, 1, 0, 0, 0, 0, 0]"
   ]
  },
  {
   "cell_type": "markdown",
   "metadata": {},
   "source": [
    "Wow, some of those jokes are not good. But we push on for science! It would also be good to get some computational features of each joke. We can can calculate the TF-IDF scores for each word, for each joke. Because the other features are boolean values, and the TF_IDF scores will be floats, we probably won't be able to combine the two systems. But it could provide an interesting method of comparison, seeing which model built on which content system works better."
   ]
  },
  {
   "cell_type": "code",
   "execution_count": 13,
   "metadata": {},
   "outputs": [],
   "source": [
    "# Now we want to calculate the length of each joke.\n",
    "filename = \"JokeTexts.txt\"\n",
    "num_jokes = df.shape[1]\n",
    "joke_lengths = np.zeros((num_jokes))\n",
    "corpus = []  # Create a map for all unique words. This will map col_index to word\n",
    "\n",
    "# Define a set of common words to not be included in the TF-IDF because don't influence joke content\n",
    "common_words = [\"the\", \"a\", \"be\", \"to\", \"of\", \"an\", \"in\", \"with\", \"at\", \"and\", \"have\", \"that\", \"i\", \"for\", \"or\", \\\n",
    "                \"his\", \"her\", \"had\"]\n",
    "\n",
    "# Need to find the corpus. Will then use this to define a matrix for each word and each document.\n",
    "# Load in the file of all joke texts\n",
    "with open(filename) as f:\n",
    "    lines = f.read().split(\"\\n\")\n",
    "    for joke_index, joke in enumerate(lines):\n",
    "        joke = re.sub(r'[^\\w\\s]', '', joke)  # Remove all punctuation\n",
    "        joke = joke.lower()  # Make all letters lowercase\n",
    "        joke_words = joke.split()\n",
    "        joke_lengths[joke_index] = len(joke_words)  # Store the length of each joke as a feature\n",
    "        \n",
    "        # Count the number of times each word occurs in full corpus.\n",
    "        for word in joke_words:\n",
    "            if word not in common_words and word not in corpus:\n",
    "                # Add word to the corpus. This way we have map of word_index/col_index -> word\n",
    "                corpus.append(word)"
   ]
  },
  {
   "cell_type": "code",
   "execution_count": 14,
   "metadata": {},
   "outputs": [],
   "source": [
    "# TF-IDF computation\n",
    "word_in_doc = np.ndarray((num_jokes, len(corpus)))  # Create a matrix for each word in the corpus and each document.\n",
    "tfidf = np.ndarray((num_jokes, len(corpus)))\n",
    "\n",
    "# Need to find how many documents each word is in.\n",
    "with open(filename) as f:\n",
    "    jokes = f.read().split(\"\\n\")\n",
    "    # for each joke, normalize by removing capitalization and puctuation\n",
    "    for joke_index, joke in enumerate(jokes):\n",
    "        joke = re.sub(r'[^\\w\\s]', '', joke)  # Remove all punctuation\n",
    "        joke = joke.lower()  # Make all letters lowercase\n",
    "        joke_words = joke.split()\n",
    "        for word in joke_words:\n",
    "            if word in corpus:\n",
    "                # Find the joke_index location\n",
    "                word_index = corpus.index(word)\n",
    "                word_in_doc[joke_index, word_index] += 1\n",
    "    \n",
    "# Calculate Term-Frequency. Number of times word appears in doc / total number of words in doc.\n",
    "TF = (word_in_doc.T / joke_lengths).T\n",
    "\n",
    "# Calculate the Inverse Doc Frequency. log(num_of_docs / num_of_docs_with_word)\n",
    "# Get the number of times each word appears in all documents\n",
    "num_docs_with_word = np.sum(word_in_doc > 0, axis=0)\n",
    "IDF = np.log(num_jokes / num_docs_with_word)\n",
    "\n",
    "# Calculate TF_IDF from the product of the two values.\n",
    "TF_IDF = TF * IDF"
   ]
  },
  {
   "cell_type": "code",
   "execution_count": 15,
   "metadata": {},
   "outputs": [
    {
     "name": "stdout",
     "output_type": "stream",
     "text": [
      "man\n",
      "god\n",
      "alzheimers\n",
      "disease\n",
      "visits\n",
      "thank\n",
      "doctor\n",
      "cancer\n",
      "\n",
      "awful\n",
      "move\n",
      "pedophile\n",
      "ten\n",
      "excellent\n",
      "him\n",
      "she\n",
      "told\n",
      "\n",
      "front\n",
      "willie\n",
      "200\n",
      "concert\n",
      "teeth\n",
      "row\n",
      "nelson\n",
      "4\n",
      "\n"
     ]
    }
   ],
   "source": [
    "# Now let's find the n most \"important\" words for each joke, just to check that it's working\n",
    "n = 8\n",
    "for row in TF_IDF[:3]:\n",
    "    best_score_idxs = np.argsort(row)[-n:]\n",
    "    for idx in best_score_idxs:\n",
    "        print(corpus[idx])\n",
    "    print()"
   ]
  },
  {
   "cell_type": "markdown",
   "metadata": {},
   "source": [
    "Even from those select words, we can tell some of the jokes are bad. But if we look at the actual jokes, those are the \"important\" words, so we can assume the algorithm is working. We have our two content-based systems. Later on, we will test each one seperately as well as a joint matrix, and compare results."
   ]
  },
  {
   "cell_type": "code",
   "execution_count": 16,
   "metadata": {},
   "outputs": [],
   "source": [
    "# Define a matrix with both the human_selected categories and the TF_IDF scores\n",
    "joint_joke_content = np.concatenate((joke_content, TF_IDF), axis=1)"
   ]
  },
  {
   "cell_type": "markdown",
   "metadata": {},
   "source": [
    "# Collaborative Filtering System"
   ]
  },
  {
   "cell_type": "markdown",
   "metadata": {},
   "source": [
    "In this section, we will try to calculate a system that will do peer-to-peer recommendations. We will use the Centered Cosine Similarity between user vectors to find the $m$ most similar users to user k, then use them to find the top $m$ jokes that user k hasn't ranked yet."
   ]
  },
  {
   "cell_type": "markdown",
   "metadata": {},
   "source": [
    "Let's start by creating a function to calculate the $m$ most similar other users, given a user vector, which can be from the dataframe or new entirely. Then we can use those $m$ users to predict rankings for our new user, and find the $n$ most likely high ranking jokes."
   ]
  },
  {
   "cell_type": "code",
   "execution_count": 17,
   "metadata": {},
   "outputs": [],
   "source": [
    "def centered_cosine_sim(new_user, dataframe):\n",
    "    '''\n",
    "    Calculates the centered cosine similarities between a vector of length n and a matrix of size m*n.\n",
    "    \n",
    "    new_user: Numpy Array of joke recommendations of length 100.\n",
    "    dataframe: A pandas DataFrame of stored user recommendation data. Has 100 columns.\n",
    "    \n",
    "    return: Numpy Array of the centered cosine similarity between new_user and every row in dataframe\n",
    "    '''\n",
    "    \n",
    "#     # Center all rows of the dataframe\n",
    "#     center_df = dataframe.sub(np.nanmean(dataframe, axis=1), axis=0)\n",
    "#     # Center the new_user vector\n",
    "#     center_user = new_user - np.nanmean(new_user)\n",
    "\n",
    "    ###################################### Test Code\n",
    "    center_df = dataframe\n",
    "    center_user = new_user\n",
    "    ###################################### WHY IS THIS GIVING ME BETTER RESULTS THAT THE CENTERING ONE!!!!\n",
    "    \n",
    "    # Calculate the dot product of each row and the new_user\n",
    "    numerator = np.nansum(center_df * center_user, axis=1)\n",
    "    \n",
    "    # Calculate the norm of the user and each row of the dataframe\n",
    "    norm_user = np.sqrt(np.nansum(np.power(center_user, 2)))\n",
    "    norm_df = np.sqrt(np.nansum(np.power(center_df, 2), axis=1))\n",
    "    \n",
    "    # Calculate the similarity scores for each row\n",
    "    sim = numerator / (norm_user * norm_df)\n",
    "    # Replace any nans with 0 (occur if dividing by zero, happens when all values of vector were the same)\n",
    "    sim = np.nan_to_num(sim)\n",
    "    \n",
    "    return sim\n",
    "\n",
    "\n",
    "def get_most_similar(sim_scores, m):\n",
    "    '''\n",
    "    Returns the indexes of the top m values from an input array. These correspond to the m most similar users \n",
    "    to some new user. The m is specified in this function.\n",
    "    \n",
    "    sim_scores: Numpy Array of similarity scores (floats).\n",
    "    m: int, the number of most similar users to use for getting most recommended jokes.\n",
    "    \n",
    "    return: \n",
    "        Numpy Array of similarity scores corresponding to the m most similar users.\n",
    "        NumPy Array of indexes corresponding to the location of the m most similar users.\n",
    "    '''\n",
    "    most_similar_scores = np.sort(sim_scores)[-m:]  # Gets the m most similar users\n",
    "    most_similar_idxs = np.argsort(sim_scores)[-m:]  # Gets the indexes of the m most similar users\n",
    "    # Note that if the \"new_user\" is a row from the original dataframe, then one of the returned \n",
    "    # indexes will be of the same row.\n",
    "    \n",
    "    return most_similar_scores, most_similar_idxs\n",
    "\n",
    "\n",
    "def get_recommended_jokes(df_similar, top_sim_scores, n=5):\n",
    "    '''\n",
    "    Calculates the top ranked jokes from the preferences of the most similar users.\n",
    "    n is specified in this function.\n",
    "    \n",
    "    df_similar: Pandas DataFrame of size m*101, where is m is number of most similar users to new_user\n",
    "    top_sim_scores: Numpy Array of length m for the similarity scores between new_user and each similar user.\n",
    "    n: Int, the number of top recommended jokes to return\n",
    "    \n",
    "    return: \n",
    "        :pred_top_jokes: Numpy Array of joke indexes corresponding to the highest predicted ranking jokes.\n",
    "    '''    \n",
    "    # Then calculate the score for each joke based on the each user's score and similarity score.\n",
    "    predicted_ranks = np.nansum(df_similar.T * top_sim_scores, axis=1) / np.sum(top_sim_scores)\n",
    "    \n",
    "    # Get the n top predicted ranking jokes\n",
    "    pred_top_jokes = np.argsort(predicted_ranks)[-n:]\n",
    "    \n",
    "    return pred_top_jokes, predicted_ranks\n",
    "\n",
    "\n",
    "def collaborative_recommendation(new_user, rank_matrix, m=20, n=5):\n",
    "    '''\n",
    "    Wrapper function to find the top jokes for a new user, based on a collaborative filtering approach.\n",
    "    \n",
    "    :new_user: Pandas Series. Length 100, where each element is the user's ranking (or np.nan) for that joke.\n",
    "    :rank_matrix: Pandas DataFrame. Contains ranks of all users. num_users rows by 100 columns.\n",
    "    :m: Int. The number of \"most similar\" people to use to compute the top jokes.\n",
    "    :n: Int. The number of top jokes returned.\n",
    "    \n",
    "    :return:\n",
    "        :top_jokes: Numpy Array of joke indicies corresponding to the top n jokes.\n",
    "        :predicted_ranks: Numpy Array of length 100, containing the predicted scores for each joke.\n",
    "    '''\n",
    "    # Calculate the similarity scores of each user to the new_user\n",
    "    sim_scores = centered_cosine_sim(new_user, rank_matrix)\n",
    "    \n",
    "    # Get the scores and indexes of the m most similar users to the new_user\n",
    "    most_sim_scores, most_sim_idxs = get_most_similar(sim_scores, m)\n",
    "    \n",
    "    # Create a new dataframe, only of the similar users to the new_user\n",
    "    df_sim = rank_matrix.iloc[most_sim_idxs].copy()\n",
    "    \n",
    "    # Get the most highly ranked jokes for the new_user\n",
    "    top_jokes, predicted_ranks = get_recommended_jokes(df_sim, most_sim_scores, n)\n",
    "    \n",
    "    return top_jokes, predicted_ranks"
   ]
  },
  {
   "cell_type": "code",
   "execution_count": 18,
   "metadata": {},
   "outputs": [
    {
     "name": "stdout",
     "output_type": "stream",
     "text": [
      "The predicted top ranking jokes for this user are: \n",
      "[27 54 35 65 29]\n",
      "The jokes actual rankings are:\n",
      "joke27    7.82\n",
      "joke54    8.30\n",
      "joke35    5.05\n",
      "joke65    2.82\n",
      "joke29    9.13\n",
      "Name: 0, dtype: float64\n"
     ]
    }
   ],
   "source": [
    "new_user = df.iloc[0]\n",
    "jokes, ranks = collaborative_recommendation(new_user, df, 20, 5)\n",
    "print(\"The predicted top ranking jokes for this user are: \\n{}\".format(jokes+1))\n",
    "print(\"The jokes actual rankings are:\\n{}\".format(df.iloc[0, jokes]))"
   ]
  },
  {
   "cell_type": "markdown",
   "metadata": {},
   "source": [
    "So it outputs things we want it to output. But before we can jump into visualizing our model, we should tune our $m$ parameter to get the \"optimal\" number of similar users to get our \"best\" jokes from."
   ]
  },
  {
   "cell_type": "code",
   "execution_count": 19,
   "metadata": {},
   "outputs": [],
   "source": [
    "num_users = 10\n",
    "np.random.seed(1234)\n",
    "user_idxs = np.random.choice(df.shape[0], num_users)\n",
    "# Create a holdout set. We remove part of the matrix (such as 50 rows and 50 cols) and see how similar our rankings are\n",
    "# to the actual rankings\n",
    "df_subsec = df.iloc[user_idxs, -50:].copy()\n",
    "df_eval = df.copy()\n",
    "df_eval.iloc[user_idxs, -50:] = np.nan\n",
    "\n",
    "# Now let's test different numbers of similar users\n",
    "m_values = np.arange(5, 205, 10)\n",
    "RMSE_values = []\n",
    "for m in m_values:\n",
    "    # Get the rankings for the users of the holdout set.\n",
    "    rankings = df_eval.iloc[user_idxs].apply(lambda user: collaborative_recommendation(user, df_eval, m, 5), axis=1)    \n",
    "    \n",
    "    # Results are in a weird format, so reformat and get the individual ranks of each joke for each user\n",
    "    values = np.ndarray((rankings.size, 50))\n",
    "    for idx, val in enumerate(rankings):\n",
    "        values[idx] = val[1][-50:]\n",
    "\n",
    "    # Calculate the difference between the actual values and the predicted values\n",
    "    results = (df_subsec - values).to_numpy()\n",
    "    results_plot = results[~np.isnan(results)]  # Remove the nan values\n",
    "    \n",
    "    # Calculate the RMSE as a way of determining how well our model performed. The lower the RMSE, the better.\n",
    "    RMSE = np.sqrt(np.sum(np.power(results_plot, 2)) / len(results_plot))\n",
    "    RMSE_values.append(RMSE)"
   ]
  },
  {
   "cell_type": "code",
   "execution_count": 20,
   "metadata": {},
   "outputs": [
    {
     "data": {
      "image/png": "[encoded data removed]",
      "text/plain": [
       "<Figure size 720x432 with 1 Axes>"
      ]
     },
     "metadata": {
      "needs_background": "light"
     },
     "output_type": "display_data"
    }
   ],
   "source": [
    "fig, ax = plt.subplots(1, 1, figsize=(10, 6))\n",
    "\n",
    "ax.plot(m_values, RMSE_values)\n",
    "ax.set_title(\"RMSE Values of Different Number of Similar Users\")\n",
    "ax.set_xlabel(\"Number of Similar Users\")\n",
    "ax.set_ylabel(\"RMSE\");"
   ]
  },
  {
   "cell_type": "markdown",
   "metadata": {},
   "source": [
    "The RMSE plot levels out at about $m\\approx100$, so we will use $100$ similar users in our future models. Now to visualize our system, we can use the same approach of having a holdout set and predicting the scores on the \"missing\" data. Then by determining how close the predictions were to the actual scores, we can get a good understanding of how well our model is performing."
   ]
  },
  {
   "cell_type": "code",
   "execution_count": 21,
   "metadata": {},
   "outputs": [],
   "source": [
    "# Create a copy of a subsection of the user matrix\n",
    "num_users = 100\n",
    "np.random.seed(1234)\n",
    "user_idxs = np.random.choice(df.shape[0], num_users)  # Choose random indexes\n",
    "\n",
    "df_subsec = df.iloc[user_idxs, -50:].copy()\n",
    "df_eval = df.copy()\n",
    "df_eval.iloc[user_idxs, -50:] = np.nan\n",
    "\n",
    "collab_rankings = np.zeros((num_users, 50))\n",
    "for iteration, user_idx in enumerate(user_idxs):\n",
    "    new_user = df_eval.iloc[user_idx]\n",
    "    _, pred_ranks = collaborative_recommendation(new_user, df_eval, 100, 5)\n",
    "    collab_rankings[iteration] = pred_ranks[-50:]\n",
    "    \n",
    "# Calculate the difference between the predicted and actual rankings\n",
    "collaborative_results = (df_subsec - collab_rankings).to_numpy()\n",
    "# To plot a histogram, need to get rid of all the nans\n",
    "collaborative_results_plot = collaborative_results[~np.isnan(collaborative_results)]"
   ]
  },
  {
   "cell_type": "code",
   "execution_count": 22,
   "metadata": {},
   "outputs": [
    {
     "data": {
      "image/png": "[encoded data removed]",
      "text/plain": [
       "<Figure size 720x432 with 1 Axes>"
      ]
     },
     "metadata": {
      "needs_background": "light"
     },
     "output_type": "display_data"
    }
   ],
   "source": [
    "fig, ax = plt.subplots(1, 1, figsize=(10, 6))\n",
    "ax.hist(collaborative_results_plot, bins=40, edgecolor=\"white\")\n",
    "ax.set_title(\"Histogram of Difference between Real and Predicted Rankings, Collaborative\")\n",
    "ax.set_xlabel(\"Difference in Ranking\")\n",
    "ax.set_ylabel(\"Frequency\");"
   ]
  },
  {
   "cell_type": "markdown",
   "metadata": {},
   "source": [
    "It might also be useful to see the total sum of differences of each user. This way we could see the variance between user's predicted and actual scores, and see if there are some high-variance users."
   ]
  },
  {
   "cell_type": "code",
   "execution_count": 23,
   "metadata": {},
   "outputs": [
    {
     "data": {
      "image/png": "[encoded data removed]",
      "text/plain": [
       "<Figure size 720x432 with 1 Axes>"
      ]
     },
     "metadata": {
      "needs_background": "light"
     },
     "output_type": "display_data"
    }
   ],
   "source": [
    "user_results = np.nansum(np.abs(collaborative_results), axis=1)\n",
    "fig, ax = plt.subplots(1, 1, figsize=(10, 6))\n",
    "ax.hist(user_results, bins=100, edgecolor=\"white\")\n",
    "ax.set_title(\"Total Difference of Predicted vs. Actual Score Per User\")\n",
    "ax.set_xlabel(\"Sum of Predicted - Actual Scores\")\n",
    "ax.set_ylabel(\"Frequency\");"
   ]
  },
  {
   "cell_type": "code",
   "execution_count": 50,
   "metadata": {},
   "outputs": [
    {
     "name": "stdout",
     "output_type": "stream",
     "text": [
      "Collaborative System RMSE score: 219.7339\n"
     ]
    }
   ],
   "source": [
    "RMSE_collab = np.sqrt(np.sum(np.power(collaborative_results_plot, 2)))\n",
    "\n",
    "print(\"Collaborative System RMSE score: {}\".format(np.round(RMSE_collab, 4)))"
   ]
  },
  {
   "cell_type": "markdown",
   "metadata": {},
   "source": [
    "From these two graphs, we can see quite a bit about our model. It looks like most of the differences are small, which is good, but there are some long tails on both sides, meaning some predictions are very wrong. The data is also mostly centered at zero, with a bias of about 1 to 2, making the average predictions some amount off. From the second plot, we can see that most users have low overall sum differences, as in on average each rating is about $0.6$ off from the actual value. However there are some outlier in the calculations, who have about $3.5$ difference between each predicted and actual value. From these results we can infer that the model is performing well for the \"average\" user, but doesn't predict to the \"unique\" users very well."
   ]
  },
  {
   "cell_type": "markdown",
   "metadata": {},
   "source": [
    "# Content Based System"
   ]
  },
  {
   "cell_type": "markdown",
   "metadata": {},
   "source": [
    "We have the item-profiles from above, when I went through all the jokes and determined what categories they fall within. With this, we can make user-profiles, based on their ranks for the different joke categories."
   ]
  },
  {
   "cell_type": "code",
   "execution_count": 24,
   "metadata": {},
   "outputs": [],
   "source": [
    "def content_based_recommendation(new_user, joke_content, n=5):\n",
    "    '''\n",
    "    Make recommendations using content-based methods.\n",
    "    \n",
    "    new_user: Pandas Series or Numpy Array of a user's 100 recommendations. Can have nan values.\n",
    "    joke_content: Numpy NDArray of categorical content of each joke.\n",
    "    n: Integer for the number of jokes returned by the function\n",
    "    \n",
    "    :return:\n",
    "        top_jokes: The n top-ranked jokes from the algorithm. Note the results are indexes of jokes from \n",
    "                   the joke_content matrix, which is zero indexed (joke1 is at index 0).\n",
    "        \n",
    "    '''\n",
    "    # Normalize each row of item profile by dividing by the sqrt(num_of_features) for each joke.\n",
    "#     normalized_content = joke_content / np.sqrt(np.sum(joke_content, axis=1)[:, np.newaxis])\n",
    "    \n",
    "    ########################## Test Code\n",
    "    normalized_content = joke_content\n",
    "    ##########################\n",
    "\n",
    "    # Normalize each user by subtracing the mean score for all their rankings\n",
    "    normalized_user = new_user - np.nanmean(new_user)\n",
    "\n",
    "    # Construct the user profile by taking the average of the user_matrix. Has the user's score for each feature.\n",
    "    # The user matrix is formed by multiplying element-wise the ith row of the content matrix with the ith element of the user\n",
    "    user_matrix = normalized_content * normalized_user[:, np.newaxis]\n",
    "    user_profile = np.nanmean(user_matrix, axis=0)\n",
    "\n",
    "    # Now find the jokes that most correspond with the user's profile\n",
    "    norm_content = np.sqrt(np.nansum(np.power(normalized_content, 2), axis=1))\n",
    "    norm_user = np.sqrt(np.nansum(np.power(user_profile, 2)))\n",
    "    dot_product = np.nansum(normalized_content * user_profile.T, axis=1)\n",
    "    \n",
    "    pred_enjoyment = dot_product / (norm_content * norm_user)\n",
    "    top_jokes = np.argsort(pred_enjoyment)[-n:]\n",
    "    \n",
    "    return top_jokes, pred_enjoyment\n"
   ]
  },
  {
   "cell_type": "code",
   "execution_count": 25,
   "metadata": {},
   "outputs": [
    {
     "name": "stdout",
     "output_type": "stream",
     "text": [
      "Using the hardcoded categories.\n",
      "The top jokes were [49 45 11  1 71].\n",
      "The user rated these jokes as:\n",
      "joke51   -8.69\n",
      "joke47    3.79\n",
      "joke13   -7.18\n",
      "joke3    -9.66\n",
      "joke73     NaN\n",
      "Name: 0, dtype: float64\n"
     ]
    }
   ],
   "source": [
    "# Now we can test it using the hard-coded categories\n",
    "test_user = df.iloc[0]\n",
    "content_results_1, _ = content_based_recommendation(test_user, joke_content, 5)\n",
    "\n",
    "print(\"Using the hardcoded categories.\")\n",
    "print(\"The top jokes were {}.\\nThe user rated these jokes as:\\n{}\".format(content_results_1, df.iloc[0, content_results_1+1]))"
   ]
  },
  {
   "cell_type": "code",
   "execution_count": 26,
   "metadata": {},
   "outputs": [
    {
     "name": "stdout",
     "output_type": "stream",
     "text": [
      "Using the TF_IDF data.\n",
      "The top jokes were [13 26  7  1 33].\n",
      "The user rated these jokes as:\n",
      "joke14    8.45\n",
      "joke27    7.82\n",
      "joke8     4.17\n",
      "joke2     8.79\n",
      "joke34    7.82\n",
      "Name: 0, dtype: float64\n"
     ]
    }
   ],
   "source": [
    "# Let's try it again but with the TF_IDF data\n",
    "content_results_2, _ = content_based_recommendation(test_user, TF_IDF, 5)\n",
    "print(\"Using the TF_IDF data.\")\n",
    "print(\"The top jokes were {}.\\nThe user rated these jokes as:\\n{}\".format(content_results_2, df.iloc[0, content_results_2]))"
   ]
  },
  {
   "cell_type": "code",
   "execution_count": 27,
   "metadata": {},
   "outputs": [
    {
     "name": "stdout",
     "output_type": "stream",
     "text": [
      "Using the joint categorical and TF_IDF data.\n",
      "The top jokes were [11 45 49 53  1].\n",
      "The user rated these jokes as:\n",
      "joke12   -6.75\n",
      "joke46   -6.26\n",
      "joke50    4.13\n",
      "joke54    8.30\n",
      "joke2     8.79\n",
      "Name: 0, dtype: float64\n"
     ]
    }
   ],
   "source": [
    "# And if we use the joint categorical and TF_IDF data\n",
    "content_results_3, _ = content_based_recommendation(test_user, joint_joke_content, 5)\n",
    "print(\"Using the joint categorical and TF_IDF data.\")\n",
    "print(\"The top jokes were {}.\\nThe user rated these jokes as:\\n{}\".format(content_results_3, df.iloc[0, content_results_3]))"
   ]
  },
  {
   "cell_type": "markdown",
   "metadata": {},
   "source": [
    "Because the content-based system doesn't predict rankings, but rather probabilities that the user will like the joke, we can't directly compare the results to the user's scores. What we can do is test whether the system is correctly guessing whether the user will rank a joke positively or negatively. I.e. if the system and user predict in the same direction, that they will or will not like a joke."
   ]
  },
  {
   "cell_type": "code",
   "execution_count": 28,
   "metadata": {},
   "outputs": [],
   "source": [
    "def evaluate_content_system(num_users, rank_matrix, content_matrix, n=5):\n",
    "    '''\n",
    "    Function to evaluate different content-based systems. Returns a percentage for each user for the amount of correctly\n",
    "    predicted signs of ranks (i.e. if both the predicted or actual were both positive or negative).\n",
    "    \n",
    "    :num_users: Integer for the number of users to test from the system\n",
    "    :df: Pandas Dataframe of user rankings\n",
    "    :cotent_matrix: Numppy NdArray of content ranking. Either the categorical matrix, TF_IDF, or the joint of the two.\n",
    "    :n: Integer. The number of top jokes returned.\n",
    "    \n",
    "    :return: Numpy Array of length num_users. Each entry is the proportion of correctly classified  signs of jokes to total\n",
    "             actual jokes evaluated.\n",
    "    '''\n",
    "    # Create a copy of a subsection of the user matrix\n",
    "    np.random.seed(1234)\n",
    "    user_idxs = np.random.choice(rank_matrix.shape[0], num_users)\n",
    "    df_eval = rank_matrix.iloc[user_idxs].copy()\n",
    "\n",
    "    # Calculate probablities that each user will like each joke\n",
    "    eval_rankings = df_eval.apply(lambda row: content_based_recommendation(row, content_matrix, n), axis=1)\n",
    "\n",
    "    # Predictions get returned in a jumbled form, so need to reformat to be useful.\n",
    "    pred_jokes = np.ndarray((num_users, n))\n",
    "    pred_values = np.ndarray((num_users, 100))\n",
    "    for idx, val in enumerate(eval_rankings):\n",
    "        pred_jokes[idx] = val[0]\n",
    "        pred_values[idx] = val[1]\n",
    "\n",
    "    # Determine correct and incorrect predictions based on if the both signs agree\n",
    "    do_rankings_agree = np.sign(pred_values) * np.sign(df_eval.to_numpy())\n",
    "    correct_rankings = np.nansum(do_rankings_agree == 1, axis=1)\n",
    "    incorrect_rankings = np.nansum(do_rankings_agree == -1, axis=1)\n",
    "\n",
    "    # Calculate the ratio of correctly predicted to total predicted\n",
    "    percent_correct_per_user = correct_rankings / (correct_rankings + incorrect_rankings)\n",
    "    percent_correct_plot = percent_correct_per_user[~np.isnan(percent_correct_per_user)]  # Remove nans so can plot results\n",
    "    \n",
    "    return percent_correct_plot, pred_jokes"
   ]
  },
  {
   "cell_type": "code",
   "execution_count": 42,
   "metadata": {},
   "outputs": [
    {
     "name": "stderr",
     "output_type": "stream",
     "text": [
      "D:\\Anaconda\\lib\\site-packages\\ipykernel_launcher.py:30: RuntimeWarning: invalid value encountered in sign\n"
     ]
    },
    {
     "data": {
      "image/png": "[encoded data removed]",
      "text/plain": [
       "<Figure size 1296x432 with 3 Axes>"
      ]
     },
     "metadata": {
      "needs_background": "light"
     },
     "output_type": "display_data"
    }
   ],
   "source": [
    "num_users = 500\n",
    "results_categorical, jokes_categorical = evaluate_content_system(num_users, df, joke_content, 10)\n",
    "results_tfidf, jokes_tfidf = evaluate_content_system(num_users, df, TF_IDF, 10)\n",
    "results_joint, jokes_joint = evaluate_content_system(num_users, df, joint_joke_content, 10)\n",
    "\n",
    "\n",
    "fig, ax = plt.subplots(1, 3, figsize=(18, 6))\n",
    "ax[0].hist(results_categorical, bins=20, edgecolor=\"white\")\n",
    "ax[0].axvline(np.mean(results_categorical), color=\"k\", linestyle=\"dashed\", alpha=0.65, label=\"mean\")\n",
    "ax[0].axvline(np.median(results_categorical), color=\"r\", linestyle=\"dotted\", alpha=0.8, label=\"median\")\n",
    "ax[0].set_xlabel(\"Percent of Signes Correctly Predicted\")\n",
    "ax[0].set_ylabel(\"Frequency\")\n",
    "ax[0].set_title(\"Proportion Ranked with Correct Signs, Tags\")\n",
    "ax[0].legend();\n",
    "\n",
    "ax[1].hist(results_tfidf, bins=20, edgecolor=\"white\")\n",
    "ax[1].axvline(np.mean(results_tfidf), color=\"k\", linestyle=\"dashed\", alpha=0.65, label=\"mean\")\n",
    "ax[1].axvline(np.median(results_tfidf), color=\"r\", linestyle=\"dotted\", alpha=0.8, label=\"median\")\n",
    "ax[1].set_xlabel(\"Percent of Signes Correctly Predicted\")\n",
    "ax[1].set_ylabel(\"Frequency\")\n",
    "ax[1].set_title(\"Proportion Ranked with Correct Signs, TF_IDF\")\n",
    "ax[1].legend();\n",
    "\n",
    "ax[2].hist(results_joint, bins=20, edgecolor=\"white\")\n",
    "ax[2].axvline(np.mean(results_joint), color=\"k\", linestyle=\"dashed\", alpha=0.65, label=\"mean\")\n",
    "ax[2].axvline(np.median(results_joint), color=\"r\", linestyle=\"dotted\", alpha=0.8, label=\"median\")\n",
    "ax[2].set_xlabel(\"Percent of Signes Correctly Predicted\")\n",
    "ax[2].set_ylabel(\"Frequency\")\n",
    "ax[2].set_title(\"Proportion of Ranked with Correct Signs, Hybrid\")\n",
    "ax[2].legend();"
   ]
  },
  {
   "cell_type": "markdown",
   "metadata": {},
   "source": [
    "It looks like the TF_IDF system does the best at predicting the signs of the resulting jokes, with an average of about 0.85, and the other two performed similarly, with an average of 0.65. This is helpful for showing that our models are predicting correctly better than a random guess, so something is going right. We do need to keep in mind that we are not measuring how much a person likes or dislikes a joke, just whether it has a positive or negative rating. "
   ]
  },
  {
   "cell_type": "markdown",
   "metadata": {},
   "source": [
    "Another evalulation measure that we can do is to see how many of the top $n$ predicted jokes are in the actual top $n$ jokes for each user."
   ]
  },
  {
   "cell_type": "code",
   "execution_count": 32,
   "metadata": {},
   "outputs": [],
   "source": [
    "def evaluate_content_top_jokes(system_best_jokes, rank_matrix):\n",
    "    '''\n",
    "    \n",
    "    '''\n",
    "    num_users = system_best_jokes.shape[0]\n",
    "    num_best_jokes = system_best_jokes.shape[1]\n",
    "    \n",
    "    np.random.seed(1234)\n",
    "    user_idxs = np.random.choice(rank_matrix.shape[0], num_users)\n",
    "    df_eval = rank_matrix.iloc[user_idxs].copy()\n",
    "    df_eval = df_eval.to_numpy()\n",
    "    \n",
    "    # Find the highest ranked jokes by the user\n",
    "    user_best_jokes = np.argsort(-df_eval)[:, :num_best_jokes]\n",
    "    \n",
    "    # Determine if the top jokes of the system are the top jokes of the user\n",
    "    isin = np.zeros((num_users, num_best_jokes))\n",
    "    for ii in range(num_users):\n",
    "        isin[ii] = np.isin(system_best_jokes[ii], user_best_jokes[ii])\n",
    "    \n",
    "    # Calculate the proportion of jokes that were in both system and user top jokes\n",
    "    isin_prop = np.sum(isin, axis=1) / num_best_jokes\n",
    "    \n",
    "    return isin_prop"
   ]
  },
  {
   "cell_type": "code",
   "execution_count": 44,
   "metadata": {},
   "outputs": [
    {
     "data": {
      "image/png": "[encoded data removed]",
      "text/plain": [
       "<Figure size 1296x432 with 3 Axes>"
      ]
     },
     "metadata": {
      "needs_background": "light"
     },
     "output_type": "display_data"
    }
   ],
   "source": [
    "categorical_prop_correct = evaluate_content_top_jokes(jokes_categorical, df)\n",
    "tfidf_prop_correct = evaluate_content_top_jokes(jokes_tfidf, df)\n",
    "joint_prop_correct = evaluate_content_top_jokes(jokes_joint, df)\n",
    "\n",
    "num_jokes = jokes_categorical.shape[1]\n",
    "\n",
    "# fig, ax = plt.subplots(3, 1, figsize=(10, 18))\n",
    "fig, ax = plt.subplots(1, 3, figsize=(18, 6))\n",
    "\n",
    "ax[0].hist(categorical_prop_correct, bins=10, edgecolor=\"white\")\n",
    "ax[0].set_title(\"Proportion of Predicted Jokes in Top {}, Categorical\".format(num_jokes))\n",
    "ax[0].set_xlabel(\"Proportion of predicted top jokes in actual top jokes\")\n",
    "ax[0].set_ylabel(\"Frequency\")\n",
    "\n",
    "ax[1].hist(tfidf_prop_correct, bins=10, edgecolor=\"white\")\n",
    "ax[1].set_title(\"Proportion of Predicted Jokes in Top {}, TF_IDF\".format(num_jokes))\n",
    "ax[1].set_xlabel(\"Proportion of predicted top jokes in actual top jokes\")\n",
    "ax[1].set_ylabel(\"Frequency\")\n",
    "\n",
    "ax[2].hist(joint_prop_correct, bins=10, edgecolor=\"white\")\n",
    "ax[2].set_title(\"Proportion of Predicted Jokes in Top {}, Hybrid\".format(num_jokes))\n",
    "ax[2].set_xlabel(\"Proportion of predicted top jokes actual top jokes\")\n",
    "ax[2].set_ylabel(\"Frequency\");"
   ]
  },
  {
   "cell_type": "markdown",
   "metadata": {},
   "source": [
    "These plots show us a similar result. The system trained on the TF_IDF data performed the best, while the other two performed worse but similarly. Using these two conclusions, we can make the judgement that a best system would use the TF_IDF data an not the other two."
   ]
  },
  {
   "cell_type": "markdown",
   "metadata": {},
   "source": [
    "So we've decided to use the TF_IDF system. Let's do a holdout set evaluation with this system to see how well it performs. Although, we should note that the predictions are (mostly) between [-1, 1], so we can multiply the results by 10 to (mostly) get a result that mimics the actual scale of the rankings."
   ]
  },
  {
   "cell_type": "code",
   "execution_count": 47,
   "metadata": {},
   "outputs": [
    {
     "data": {
      "image/png": "[encoded data removed]",
      "text/plain": [
       "<Figure size 720x432 with 1 Axes>"
      ]
     },
     "metadata": {
      "needs_background": "light"
     },
     "output_type": "display_data"
    }
   ],
   "source": [
    "# How many users to compare\n",
    "num_users_evaluated = 100\n",
    "np.random.seed(1234)\n",
    "user_idxs = np.random.choice(df.shape[0], num_users_evaluated)\n",
    "# Define a holdout set using the 50 of the jokes\n",
    "df_eval = df.copy()\n",
    "df_subsec = df.iloc[user_idxs, -50:].copy()\n",
    "df_eval.iloc[user_idxs, -50:] = np.nan\n",
    "\n",
    "# Calculate the predicted scores for each joke of each user in the holdout set\n",
    "eval_preds = np.zeros((num_users_evaluated, 50))\n",
    "for ii, user_idx in enumerate(user_idxs):\n",
    "    new_user = df_eval.iloc[user_idx]\n",
    "    # Calculate the scores using the TF_IDF system, because has been the best performing so far\n",
    "    _, content_preds = content_based_recommendation(new_user, TF_IDF, 5)\n",
    "    # Multiply the results by 10 to align the probability predictions with the actual ranking scale\n",
    "    eval_preds[ii] = content_preds[-50:] * 10\n",
    "    \n",
    "eval_diff = np.array(df_subsec - eval_preds)\n",
    "eval_diff_plot = eval_diff[~np.isnan(eval_diff)]\n",
    "\n",
    "fig, ax = plt.subplots(1, 1, figsize=(10, 6))\n",
    "ax.hist(eval_diff_plot, bins=40, edgecolor=\"white\")\n",
    "ax.set_title(\"Histogram of Differences Between in Rankings of TF_IDF System\")\n",
    "ax.set_xlabel(\"Difference Between Actual and Predicted Rankings\")\n",
    "ax.set_ylabel(\"Frequency\");"
   ]
  },
  {
   "cell_type": "code",
   "execution_count": 48,
   "metadata": {},
   "outputs": [
    {
     "data": {
      "image/png": "[encoded data removed]",
      "text/plain": [
       "<Figure size 720x432 with 1 Axes>"
      ]
     },
     "metadata": {
      "needs_background": "light"
     },
     "output_type": "display_data"
    }
   ],
   "source": [
    "# Let's also find out the total deviation of each user.\n",
    "eval_user_diff = np.nansum(np.abs(eval_diff), axis=1)\n",
    "fig, ax = plt.subplots(1, 1, figsize=(10, 6))\n",
    "ax.hist(eval_user_diff, bins=100, edgecolor=\"white\")\n",
    "ax.set_title(\"Histogram of the Total Differences of Rankings\")\n",
    "ax.set_xlabel(\"Sum Total of Differences between Actual and Predicted Rankings\")\n",
    "ax.set_ylabel(\"Frequency\");"
   ]
  },
  {
   "cell_type": "code",
   "execution_count": 49,
   "metadata": {},
   "outputs": [
    {
     "name": "stdout",
     "output_type": "stream",
     "text": [
      "TF_IDF RMSE: 254.45502673310702\n"
     ]
    }
   ],
   "source": [
    "RMSE_content = np.sqrt(np.sum(np.power(eval_diff_plot, 2)))\n",
    "\n",
    "print(\"TF_IDF RMSE: {}\".format(RMSE_content))"
   ]
  },
  {
   "cell_type": "markdown",
   "metadata": {},
   "source": [
    "Unlike the collaborative system, the content-based TF_IDF system does not provide a good basis for recommendation. We can see from the first plot that there is a consistant difference between the actual and predicted rankings. This could be explained from the content-based system not producing rankings for the jokes but probabilities that the user will like them, which we are scaling to fit the ranking scale. Either way, it would not provide a good system of recommendation on its own. This is supported by the second graph which shows that the average user has about a $0.7$ average difference between actual and predicted rankings, with outliers reaching up to a $4.0$ average difference in rankings.\n",
    "\n",
    "So we have two different systems that attempt to solve the same problem. What kind of data scientists would we be if we didn't try to staple them together?"
   ]
  },
  {
   "cell_type": "markdown",
   "metadata": {},
   "source": [
    "# Hybrid Systems"
   ]
  },
  {
   "cell_type": "markdown",
   "metadata": {},
   "source": [
    "Now we have a collaborative and a content-based system. We could combine these systems for each ranking to try and get the best of both, and hopefully get more accurate results. Again, the content system doesn't provide \"ranks,\" so we can multiply the predictions by 10 to get the content \"ranks.\" Then by averaging the two scores, we should (hopefully) get a more accurate result. We will repeat the same two visualization plots as the first two systems so we can compare them."
   ]
  },
  {
   "cell_type": "code",
   "execution_count": 36,
   "metadata": {},
   "outputs": [],
   "source": [
    "num_users_evaluated = 100\n",
    "np.random.seed(1234)\n",
    "user_idxs = np.random.choice(df.shape[0], num_users_evaluated)\n",
    "# Create a holdout set\n",
    "df_eval = df.copy()\n",
    "df_subsec = df.iloc[user_idxs, -50:].copy()\n",
    "df_eval.iloc[user_idxs, -50:] = np.nan\n",
    "# Calculate both the collaborative and content scores for each user in the holdout set, then get their average ranking\n",
    "eval_preds = np.zeros((num_users_evaluated, 50))\n",
    "for ii, user_idx in enumerate(user_idxs):\n",
    "    new_user = df_eval.iloc[user_idx]\n",
    "    _, collaborative_ranks = collaborative_recommendation(new_user, df_eval, 100, 5)\n",
    "    _, content_preds = content_based_recommendation(new_user, TF_IDF, 5)\n",
    "    # Take the average ranking of the collaborative and content results\n",
    "    user_preds = (collaborative_ranks + (content_preds * 10)) / 2\n",
    "    \n",
    "    ####################################################################\n",
    "    # Tried these aggregation methods but provided worse results\n",
    "    # user_preds = (collaborative_ranks + (content_preds * 10/np.abs(np.max(content_preds)))) / 2  # scale content to [-10, 10]\n",
    "    # user_preds = collaborative_ranks * np.abs(content_preds)  # Multiplicative\n",
    "    # user_preds = np.abs(collaborative_ranks) * content_preds\n",
    "    #####################################################################\n",
    "    \n",
    "    eval_preds[ii] = user_preds[-50:]"
   ]
  },
  {
   "cell_type": "code",
   "execution_count": 37,
   "metadata": {},
   "outputs": [
    {
     "data": {
      "image/png": "[encoded data removed]",
      "text/plain": [
       "<Figure size 720x432 with 1 Axes>"
      ]
     },
     "metadata": {
      "needs_background": "light"
     },
     "output_type": "display_data"
    }
   ],
   "source": [
    "# Take the difference between the predicted and actual scores\n",
    "hybrid_results = np.array(df_subsec - eval_preds)\n",
    "hybrid_results_plot = hybrid_results[~np.isnan(hybrid_results)]\n",
    "\n",
    "# Plot the results\n",
    "fig, ax = plt.subplots(1, 1, figsize=(10, 6))\n",
    "ax.hist(hybrid_results_plot, bins=40, edgecolor=\"white\")\n",
    "ax.set_title(\"Histogram of Difference in Rankings of Hybrid System\")\n",
    "ax.set_xlabel(\"Difference between Actual and Predicted Rankings\")\n",
    "ax.set_ylabel(\"Frequency\");"
   ]
  },
  {
   "cell_type": "code",
   "execution_count": 38,
   "metadata": {},
   "outputs": [
    {
     "data": {
      "image/png": "[encoded data removed]",
      "text/plain": [
       "<Figure size 720x432 with 1 Axes>"
      ]
     },
     "metadata": {
      "needs_background": "light"
     },
     "output_type": "display_data"
    }
   ],
   "source": [
    "# Also plot the deviance of each user\n",
    "hybrid_user_deviance = np.nansum(np.abs(hybrid_results), axis=1)\n",
    "\n",
    "fig, ax = plt.subplots(1, 1, figsize=(10, 6))\n",
    "ax.hist(hybrid_user_deviance, bins=100, edgecolor=\"white\")\n",
    "ax.set_title(\"Histogram of Total Deviance of Users for Hybrid System\")\n",
    "ax.set_xlabel(\"Sum Total of Differences between Actual and Predicted Rankings\")\n",
    "ax.set_ylabel(\"Frequency\");"
   ]
  },
  {
   "cell_type": "code",
   "execution_count": 51,
   "metadata": {},
   "outputs": [
    {
     "name": "stdout",
     "output_type": "stream",
     "text": [
      "RMSE for the hybrid system: 230.4386\n"
     ]
    }
   ],
   "source": [
    "RMSE_hybrid = np.sqrt(np.sum(np.power(hybrid_results_plot, 2)))\n",
    "\n",
    "print(\"RMSE for the hybrid system: {}\".format(np.round(RMSE_hybrid, 4)))"
   ]
  },
  {
   "cell_type": "markdown",
   "metadata": {},
   "source": [
    "Look at that! The hybrid system does pretty well. From the first plot, we see that there isn't a large bias of the rankings, as most are clustered around 0. From the second plot, we see that the average user has about a $0.3$ average difference between rankings and the most extreme outliers have about a $2.3$ average difference.\n",
    "\n",
    "So what do we do now that we have a bunch of systems?"
   ]
  },
  {
   "cell_type": "markdown",
   "metadata": {},
   "source": [
    "# Gimme Your Best Jokes"
   ]
  },
  {
   "cell_type": "markdown",
   "metadata": {},
   "source": [
    "Now it's time for us to put in our joke rankings and find what our prefect jokes are. From the preliminary analysis, we saw that jokes {5, 7, 8, 13, 15, 16, 17, 18, 19, 20} are all dense, meaning will provide the most comparisons for the collaborative system, and would be the best to start with. So let's rank those jokes, put our rank vector in the systems, and see what jokes they split out for us!"
   ]
  },
  {
   "cell_type": "code",
   "execution_count": 39,
   "metadata": {},
   "outputs": [],
   "source": [
    "my_vector = np.repeat(np.nan, 100)\n",
    "# Recall that the jokes are 1 indexed and the array is 0 indexed\n",
    "my_vector[4] = -3\n",
    "my_vector[6] = -3\n",
    "my_vector[7] = 4\n",
    "my_vector[12] = -8\n",
    "my_vector[14] = -2\n",
    "my_vector[15] = -3\n",
    "my_vector[16] = 3\n",
    "my_vector[17] = 1\n",
    "my_vector[18] = 4\n",
    "my_vector[19] = 6\n",
    "\n",
    "# Now we find the n most recommended jokes from each system\n",
    "n = 5\n",
    "# Collaborative System\n",
    "_, collab_ranks = collaborative_recommendation(my_vector, df, 40, n)\n",
    "# Content-Based System (TF_IDF)\n",
    "_, content_preds = content_based_recommendation(my_vector, TF_IDF, n)\n",
    "# Hybrid System\n",
    "hybrid_ranks = (collab_ranks + (content_preds * 10)) / 2\n",
    "\n",
    "# Only want to see jokes that haven't been ranked already\n",
    "collab_ranks[~np.isnan(my_vector)] = np.nan\n",
    "content_preds[~np.isnan(my_vector)] = np.nan\n",
    "hybrid_ranks[~np.isnan(my_vector)] = np.nan\n",
    "\n",
    "# Find the top n jokes from each system\n",
    "collab_joke_idx = np.argsort(-collab_ranks)[:n]\n",
    "content_joke_idx = np.argsort(-content_preds)[:n]\n",
    "hybrid_joke_idx = np.argsort(-hybrid_ranks)[:n]"
   ]
  },
  {
   "cell_type": "code",
   "execution_count": 40,
   "metadata": {},
   "outputs": [
    {
     "name": "stdout",
     "output_type": "stream",
     "text": [
      "n = 5\n",
      "The Collaborative System recommended jokes [32 50 36 35 27]\n",
      "The Content-based System recommended jokes [ 51  78  64 100   4]\n",
      "The Hybrid System recommended jokes [32 50 36 35 27]\n"
     ]
    }
   ],
   "source": [
    "print(\"n = {}\".format(n))\n",
    "#  Plus 1 to each index because want the joke num, not index in matrix\n",
    "print(\"The Collaborative System recommended jokes {}\".format(collab_joke_idx + 1))\n",
    "print(\"The Content-based System recommended jokes {}\".format(content_joke_idx + 1))\n",
    "print(\"The Hybrid System recommended jokes {}\".format(hybrid_joke_idx + 1))"
   ]
  },
  {
   "cell_type": "code",
   "execution_count": 58,
   "metadata": {},
   "outputs": [
    {
     "name": "stderr",
     "output_type": "stream",
     "text": [
      "D:\\Anaconda\\lib\\site-packages\\ipykernel_launcher.py:34: RuntimeWarning: invalid value encountered in true_divide\n"
     ]
    }
   ],
   "source": [
    "my_vector = np.repeat(np.nan, 100)\n",
    "# Recall that the jokes are 1 indexed and the array is 0 indexed\n",
    "my_vector[6] = 10\n",
    "my_vector[16] = 10\n",
    "my_vector[84] = 10\n",
    "my_vector[39] = 10\n",
    "my_vector[89] = 10\n",
    "\n",
    "# Now we find the n most recommended jokes from each system\n",
    "n = 5\n",
    "# Collaborative System\n",
    "_, collab_ranks = collaborative_recommendation(my_vector, df, 40, n)\n",
    "# Content-Based System (TF_IDF)\n",
    "_, content_preds = content_based_recommendation(my_vector, TF_IDF, n)\n",
    "# Hybrid System\n",
    "hybrid_ranks = (collab_ranks + (content_preds * 10)) / 2\n",
    "\n",
    "# Only want to see jokes that haven't been ranked already\n",
    "collab_ranks[~np.isnan(my_vector)] = np.nan\n",
    "content_preds[~np.isnan(my_vector)] = np.nan\n",
    "hybrid_ranks[~np.isnan(my_vector)] = np.nan\n",
    "\n",
    "# Find the top n jokes from each system\n",
    "collab_joke_idx = np.argsort(-collab_ranks)[:n]\n",
    "content_joke_idx = np.argsort(-content_preds)[:n]\n",
    "hybrid_joke_idx = np.argsort(-hybrid_ranks)[:n]"
   ]
  },
  {
   "cell_type": "code",
   "execution_count": 59,
   "metadata": {},
   "outputs": [
    {
     "name": "stdout",
     "output_type": "stream",
     "text": [
      "n = 5\n",
      "The Collaborative System recommended jokes [ 5 19 50 29 18]\n",
      "The Content-based System recommended jokes [ 1 73 72 71 70]\n",
      "The Hybrid System recommended jokes [ 1 73 72 71 70]\n"
     ]
    }
   ],
   "source": [
    "print(\"n = {}\".format(n))\n",
    "#  Plus 1 to each index because want the joke num, not index in matrix\n",
    "print(\"The Collaborative System recommended jokes {}\".format(collab_joke_idx + 1))\n",
    "print(\"The Content-based System recommended jokes {}\".format(content_joke_idx + 1))\n",
    "print(\"The Hybrid System recommended jokes {}\".format(hybrid_joke_idx + 1))"
   ]
  },
  {
   "cell_type": "markdown",
   "metadata": {},
   "source": [
    "Looking at the jokes that were recommended to me, the collaborative and hybrid systems did a way better job than the content-based system. Those jokes were pretty good. With that, I think we can conclude this notebook and say that the systems were successful. Yay, I can go to sleep now!"
   ]
  },
  {
   "cell_type": "markdown",
   "metadata": {},
   "source": [
    "# Future Work"
   ]
  },
  {
   "cell_type": "markdown",
   "metadata": {},
   "source": [
    "* Figure out why there is systematic error in all the systems.\n",
    "* Improve the content-based system. It's probably what's pulling the hybrid system down."
   ]
  }
 ],
 "metadata": {
  "kernelspec": {
   "display_name": "Python 3",
   "language": "python",
   "name": "python3"
  },
  "language_info": {
   "codemirror_mode": {
    "name": "ipython",
    "version": 3
   },
   "file_extension": ".py",
   "mimetype": "text/x-python",
   "name": "python",
   "nbconvert_exporter": "python",
   "pygments_lexer": "ipython3",
   "version": "3.6.9"
  }
 },
 "nbformat": 4,
 "nbformat_minor": 2
}
