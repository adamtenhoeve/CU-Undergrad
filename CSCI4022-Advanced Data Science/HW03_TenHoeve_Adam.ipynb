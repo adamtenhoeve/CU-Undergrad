{
 "cells": [
  {
   "cell_type": "markdown",
   "metadata": {},
   "source": [
    "<a id='top'></a>\n",
    "\n",
    "# Homework 3: CSCI 4022 F19\n",
    "***\n",
    "\n",
    "**Name**: Adam Ten Hoeve\n",
    "\n",
    "***\n",
    "\n",
    "This assignment is due on Canvas by **MIDNIGHT on Friday October 18**. Your solutions to theoretical questions should be done in Markdown directly below the associated question.  Your solutions to computational questions should include any specified Python code and results as well as written commentary on your conclusions.  Remember that you are encouraged to discuss the problems with your classmates, but **you must write all code and solutions on your own**.\n",
    "**NOTES**: \n",
    "\n",
    "- Any relevant data sets should be available under the **Data** module on Canvas.\n",
    "- If you're not familiar with typesetting math directly into Markdown then by all means, do your work on paper first and then typeset it later.  Remember that there is a [reference guide](https://math.meta.stackexchange.com/questions/5020/mathjax-basic-tutorial-and-quick-reference) linked on Canvas on writing math in Markdown. **All** of your written commentary, justifications and mathematical work should be in Markdown.\n",
    "- Because you can technically evaluate notebook cells is a non-linear order, it's a good idea to do Kernel $\\rightarrow$ Restart & Run All as a check before submitting your solutions.  That way if we need to run your code you will know that it will work as expected. \n",
    "- It is **bad form** to make your reader interpret numerical output from your code.  If a question asks you to compute some value from the data you should show your code output **AND** write a summary of the results in Markdown directly below your code. \n",
    "- This probably goes without saying, but... For any question that asks you to calculate something, you **must show all work and justify your answers to receive credit**. Sparse or nonexistent work will receive sparse or nonexistent credit. \n",
    "\n",
    "---\n",
    "**Shortcuts:**  [Problem 1](#p1) | [Problem 2](#p2) | [Problem 3](#p3) | [Problem 4](#p4) |\n",
    "\n",
    "---"
   ]
  },
  {
   "cell_type": "code",
   "execution_count": 1,
   "metadata": {},
   "outputs": [],
   "source": [
    "import pandas as pd\n",
    "import matplotlib.pyplot as plt\n",
    "import numpy as np\n",
    "%matplotlib inline"
   ]
  },
  {
   "cell_type": "markdown",
   "metadata": {},
   "source": [
    "***\n",
    "<a/ id='p1'></a>\n",
    "[Back to top](#top)\n",
    "# Problem 1 (Theory: Item Baskets; 15 pts)\n",
    "\n",
    "In using triangular arrays to store item basket data, we defined the function $a[k] :=$ count for the pair ${i, j}$, where $1 \\leq i < j \\leq n,$ with\n",
    "\n",
    "$k=(i-1)\\left(n-\\frac{i}{2}\\right) +j -i$\n",
    "\n",
    "\n",
    "This formula involves dividing an arbitrary integer i by 2. Yet $k$ is an index, so we need to have k be an integer. Prove that k will, in fact, be an integer.\n"
   ]
  },
  {
   "cell_type": "markdown",
   "metadata": {},
   "source": [
    "There are two cases we should consider for the $\\frac{i}{2}$ term, being whether $i$ is even or odd.\n",
    "* Even: If $i$ is even, then the $\\frac{i}{2}$ term is still an integer, in which all remaining operations (addition, subtraction and multiplication) will still result in $k$ being an integer.\n",
    "* Odd: Let's start by rewriting our statement as:\n",
    "\n",
    "$$\n",
    "\\begin{align*}\n",
    "    (i-1)\\Big(n-\\frac{i}{2}\\Big)+j-i &= (i-1)\\Big( \\dfrac{2n-i}{2} \\Big) +j-i \\\\\n",
    "    &= \\Big( \\dfrac{2n(i-1) - i(i-1)}{2}\\Big) +j-i \\\\\n",
    "    &= \\dfrac{2n(i-1)}{2} - \\dfrac{i(i-1)}{2} +j-i\n",
    "\\end{align*}\n",
    "$$\n",
    "\n",
    "From here we can note that we have two term that could potentially be non-integer terms: $\\dfrac{2n(i-1)}{2}$ and $\\dfrac{i(i-1)}{2}$. \n",
    "1. The first term simplifies to $n(i-1)$, which is the mulitplication of two integers, and will result in an integer.\n",
    "2. For the second term, note that $i-1$ is an even value, so it is evenly divisible by 2. Therefor, if we let $i-1 = 2g$, where g is some integer, then we can rewrite our term as $\\frac{2gi}{2} = gi$. Both $g$ and $i$ are integers so the product will result in another integer.\n",
    "\n",
    "All the remaining operations are additions and subtractions of integers, which can only result in a value of k which is also an integer.\n",
    "\n",
    "Therefor, all values of $i$ will result in $k$ being an integer."
   ]
  },
  {
   "cell_type": "markdown",
   "metadata": {},
   "source": [
    "***\n",
    "<a/ id='p2'></a>\n",
    "[Back to top](#top)\n",
    "# Problem 2 (Theory: Item Baskets; 15 pts)\n",
    "\n",
    "Suppose we have 20 distinct items numbered 1 to 20. Each basket is constructed by including the item numbered `k` with probability $1/k$, independent of other items.  As a result, all baskets will include item 1, half will include item 2, and so forth.  What are all of the *itemsets* expected to be frequent at a support threshold of 5%?\n",
    "\n",
    "Note: You may use simulation if you prefer, but I suspect you may find the pen-and-paper answer is easier."
   ]
  },
  {
   "cell_type": "markdown",
   "metadata": {},
   "source": [
    "Let's analyze this problem by looking at each basket size and seeing if the least likely item will be inside of it.\n",
    "\n",
    "For singletons, the least likely item is item 20, with a $1/20 = 0.05$ chance of being in each basket, which makes it frequent based on our threshold. Because this is the least likely item, all other items will also be frequent because they appear more often than item 20. Therefor all singletons are frequent at a support threshold of $5%$.\n",
    "\n",
    "Starting with tuple itemsets, we will start using the independence of the items where we can solve the shared probability $P(k_1 \\text{ and } k_2) = P(k_1)P(k_2)$. If this joint probability is $\\geq 0.05$, then the joint set is frequent. \n",
    "* For k=1, the worst case of k=20 leads to a joint of $P(k_1)P(k_{20}) = (1)(1/20) = 1/20$ which is frequent. If the worst case is fequent, then all tuples where one element is $k_1$ will be frequent.\n",
    "* For k=2, the largest other item that still leads to a fequent itemset is $k_{10}$ as $P(k_2)P(k_{10}) = (1/2)(1/10) = 1/20$. Therefor item 2 creates frequent tuples with all other items where k <= 10.\n",
    "* For k=3, the largest item with a frequent itemset is $k_6$ as $P(k_3)P(k_6) = (1/3)(1/6) = 1/18$. Therefor, $k_3$ forms frequent tuples with all items k <= 6.\n",
    "* For k=4, the only item with a larger k that is still within the threshold is with $k_5$. $P(k_4)P(k_5) = (1/4)(1/5) = 1/20.$ Therefor $k_4$ is only frequent with items k <= 5.\n",
    "* For k=5, there are no items larger than it that it is makes a frequent tuple with. Therefor, no other item which has a high k value (and lower probability) can have a tuple that is higher either.\n",
    "\n",
    "The resulting frequent tuples are: $(1,2), (1,3), \\dots, (1,20), (2,3), (2,4), \\dots,(2,10), (3,4), (3,5), (3,6), (4,5)$.\n",
    "\n",
    "To get the itemsets of three items, it's easiest to realize that if an itemset is frequent, then all of its subsets must also be frequent. In order for a single triple itemset to be frequent, there needs to be 3 tuples that are frequent that pairwise contain all the items in the triple. This means we only need to look at triples that can be formed from our frequent tuples.\n",
    "* For k=1, because $P(k_1) = 1$, it can be added to any tuple that doesn't already contain 1 and still have a support value greater than the threshold.\n",
    "* For k=2, there are four possible sets of three items made from the fequent tuples: (2, 3, 4), (2, 3, 5), (2, 3, 6), (2, 4, 5).\n",
    "    - P(k_2, k_3, k_4) = (1/2)(1/3)(1/4) = 1/24 < 1/20. Therefor it can't be frequent\n",
    "* Because the above triple isn't frequent, and all of the other combinations will have higher probabilities, there are no frequent triples that contain k=2. Or abstracting that even further, no other triple sets.\n",
    "\n",
    "This results in the frequent triples of: $(1, 2, 3), (1,2,4), \\dots, (1,2,10), (1,3,4), (1,3,5), (1,3,6), (1,4,5)$\n",
    "\n",
    "There can be no frequent quadruple sets because there aren't enough frequent triples with matching elements to form a frequent quadruple. But let's prove it anyways. For quadruple, the best case would be the items $k_1, k_2, k_3 \\text{ and } k_4 \\rightarrow P(k_1)P(k_2)P(k_3)P(k_4) = (1)(1/2)(1/3)(1/4) = 1/24 < 1/20$. If the best case, with the most likely items do not have a high enough probability to be frequent, then no other basket of four items can be frequent either. Therefor, there are no frequent itemsets with 4 items.\n",
    "\n",
    "Putting that all together, we get the expected frequent itemsets to be: \n",
    "\n",
    "$ \\boxed{ (1), (2), (3), (4), (5), (6), (7), (8), (9), (10), (11), (12), (13), (14), (15), (16), (17), (18), (19), (20), (1, 2), (1, 3), (1, 4), (1, 5), (1, 6), (1,7), (1,8), (1,9), (1, 10), (1,11), (1,12), (1,13), (1,14), (1,15), (1,16), (1,17), (1,18), (1,19), (1,20), (2,3), (2,4), (2,5), (2,6), (2,7), (2,8), (2,9), (2,10), (3,4), (3,5), (3,6), (4,5), (1,2,3), (1,2,4), (1,2,5), (1,2,6), (1,2,7), (1,2,8), (1,2,9), (1,2,10), (1,3,4), (1,3,5), (1,3,6), (1,4,5) } $"
   ]
  },
  {
   "cell_type": "markdown",
   "metadata": {},
   "source": [
    "***\n",
    "<a/ id='p3'></a>\n",
    "[Back to top](#top)\n",
    "# Problem 3 (Practice: Item Baskets; 30 pts)\n",
    "\n",
    "Consider the Online Retail data set provided in `onlineretail.csv`.  This includes over 500,000 purchases from an online retailer.\n",
    "\n",
    "We want to use the baskets (marked by `InvoiceNo`) and the items (marked by `StockCode` and/or `Description`) to perform an item basket analysis.\n",
    "\n",
    "This data set is small enough to run directly from main memory, so you may do that if you wish.  You may also complete this problem using only the first 100,000 entries of the .csv if you wish for shorter computational time.  Be very explicit which you are using.\n",
    "\n",
    "##### a)  There are some odd entries in the data set.  Make sure that you're discarding any transactions and items with no `Description`, non-positive `Quantity`, or non-positive `Unit Price`."
   ]
  },
  {
   "cell_type": "code",
   "execution_count": 2,
   "metadata": {
    "scrolled": true
   },
   "outputs": [],
   "source": [
    "# Load CSV\n",
    "df = pd.read_csv(\"onlineretail.csv\")\n",
    "# Remove rows with null descriptions\n",
    "df = df[pd.notnull(df['Description'])]\n",
    "# Remove non-positive Quantity\n",
    "df = df.loc[df[\"Quantity\"] >= 0]\n",
    "# Remove non-positive Unit Price\n",
    "df = df.loc[df[\"UnitPrice\"] >= 0]"
   ]
  },
  {
   "cell_type": "markdown",
   "metadata": {},
   "source": [
    "\n",
    "#### b) For our first iteration, we will use just `StockCode` for the items.  Use `StockCode` to create a table of frequent single items at 1% support threshold.  For convenience on this part of the problem and part c), you may choose to discard all items with non-integer values in `StockCode`.  Was 1% an appropriate support threshold?  Describe why or why not."
   ]
  },
  {
   "cell_type": "code",
   "execution_count": 3,
   "metadata": {},
   "outputs": [
    {
     "data": {
      "text/html": [
       "<div>\n",
       "<style scoped>\n",
       "    .dataframe tbody tr th:only-of-type {\n",
       "        vertical-align: middle;\n",
       "    }\n",
       "\n",
       "    .dataframe tbody tr th {\n",
       "        vertical-align: top;\n",
       "    }\n",
       "\n",
       "    .dataframe thead th {\n",
       "        text-align: right;\n",
       "    }\n",
       "</style>\n",
       "<table border=\"1\" class=\"dataframe\">\n",
       "  <thead>\n",
       "    <tr style=\"text-align: right;\">\n",
       "      <th></th>\n",
       "      <th>Quantity</th>\n",
       "      <th>IsFrequent</th>\n",
       "    </tr>\n",
       "    <tr>\n",
       "      <th>StockCode</th>\n",
       "      <th></th>\n",
       "      <th></th>\n",
       "    </tr>\n",
       "  </thead>\n",
       "  <tbody>\n",
       "    <tr>\n",
       "      <td>10133</td>\n",
       "      <td>198</td>\n",
       "      <td>True</td>\n",
       "    </tr>\n",
       "    <tr>\n",
       "      <td>15036</td>\n",
       "      <td>519</td>\n",
       "      <td>True</td>\n",
       "    </tr>\n",
       "    <tr>\n",
       "      <td>16237</td>\n",
       "      <td>297</td>\n",
       "      <td>True</td>\n",
       "    </tr>\n",
       "    <tr>\n",
       "      <td>17003</td>\n",
       "      <td>242</td>\n",
       "      <td>True</td>\n",
       "    </tr>\n",
       "    <tr>\n",
       "      <td>20668</td>\n",
       "      <td>222</td>\n",
       "      <td>True</td>\n",
       "    </tr>\n",
       "    <tr>\n",
       "      <td>...</td>\n",
       "      <td>...</td>\n",
       "      <td>...</td>\n",
       "    </tr>\n",
       "    <tr>\n",
       "      <td>85053</td>\n",
       "      <td>330</td>\n",
       "      <td>True</td>\n",
       "    </tr>\n",
       "    <tr>\n",
       "      <td>85066</td>\n",
       "      <td>529</td>\n",
       "      <td>True</td>\n",
       "    </tr>\n",
       "    <tr>\n",
       "      <td>85150</td>\n",
       "      <td>481</td>\n",
       "      <td>True</td>\n",
       "    </tr>\n",
       "    <tr>\n",
       "      <td>85152</td>\n",
       "      <td>683</td>\n",
       "      <td>True</td>\n",
       "    </tr>\n",
       "    <tr>\n",
       "      <td>85227</td>\n",
       "      <td>237</td>\n",
       "      <td>True</td>\n",
       "    </tr>\n",
       "  </tbody>\n",
       "</table>\n",
       "<p>808 rows × 2 columns</p>\n",
       "</div>"
      ],
      "text/plain": [
       "           Quantity  IsFrequent\n",
       "StockCode                      \n",
       "10133           198        True\n",
       "15036           519        True\n",
       "16237           297        True\n",
       "17003           242        True\n",
       "20668           222        True\n",
       "...             ...         ...\n",
       "85053           330        True\n",
       "85066           529        True\n",
       "85150           481        True\n",
       "85152           683        True\n",
       "85227           237        True\n",
       "\n",
       "[808 rows x 2 columns]"
      ]
     },
     "execution_count": 3,
     "metadata": {},
     "output_type": "execute_result"
    }
   ],
   "source": [
    "# Remove any items that don't have integer stock codes\n",
    "df_partb = df.copy()\n",
    "df_int_stockcode = pd.to_numeric(df_partb[\"StockCode\"], errors=\"coerce\", downcast=\"integer\").dropna()\n",
    "df_partb = df_partb.loc[df_int_stockcode.index]\n",
    "\n",
    "# Get the total number of baskets\n",
    "num_baskets = len(df_partb[\"InvoiceNo\"].unique())\n",
    "\n",
    "# Create a dataframe for each item with the number of baskets it was in\n",
    "df_item = df_partb.groupby(by=\"StockCode\").count()[[\"Quantity\"]]\n",
    "\n",
    "# Calculate the items that are above the support threshold\n",
    "df_item[\"IsFrequent\"] = (np.array(df_item[\"Quantity\"]) / num_baskets > 0.01)\n",
    "df_item.loc[df_item[\"IsFrequent\"]]"
   ]
  },
  {
   "cell_type": "code",
   "execution_count": 4,
   "metadata": {},
   "outputs": [
    {
     "name": "stdout",
     "output_type": "stream",
     "text": [
      "There are 2870 total items in the store\n",
      "there are 808 frequent items at the 1% support threshold\n"
     ]
    }
   ],
   "source": [
    "print(\"There are {} total items in the store\".format(len(df_item)))\n",
    "print(\"there are {} frequent items at the 1% support threshold\".format(len(df_item.loc[df_item[\"IsFrequent\"]])))"
   ]
  },
  {
   "cell_type": "markdown",
   "metadata": {},
   "source": [
    "From the code above, we can see that 808 items are frequent at the 1% support threshold, out of a total of 2870 items. This means 1% is likely not an appropriate threshold as there could be many potential frequent items, as the power set of prequent items is $2^{808} \\approx 1.71*10^{243}$. That's a lot of items. So we should probably increase the threshold so there are fewer frequent single items, and therefor fewer frequent sets."
   ]
  },
  {
   "cell_type": "markdown",
   "metadata": {},
   "source": [
    "#### c) Use A-priori to find all frequent  pairs of items from your set of frequent items in a).  Use whatevery support threshold you feel is most appropriate."
   ]
  },
  {
   "cell_type": "code",
   "execution_count": 5,
   "metadata": {},
   "outputs": [
    {
     "name": "stdout",
     "output_type": "stream",
     "text": [
      "There are 187 frequent items with a threshold of 0.025\n"
     ]
    }
   ],
   "source": [
    "# The new support threshold will be 0.025\n",
    "threshold = 0.025\n",
    "# From part B, find frequent singles with new support threshold\n",
    "df_item = df_partb.groupby(by=\"StockCode\").count()[[\"Quantity\"]]\n",
    "df_item[\"IsFrequent\"] = (np.array(df_item[\"Quantity\"]) / num_baskets > threshold)\n",
    "print(\"There are {} frequent items with a threshold of {}\".format(len(df_item.loc[df_item[\"IsFrequent\"]]), threshold))\n",
    "\n",
    "# Create a list of all items\n",
    "inventory = np.array(df_item.index)\n",
    "num_items = len(inventory)\n",
    "L1 = df_item.loc[df_item[\"IsFrequent\"]].index\n",
    "num_frequent_singles = len(L1)\n",
    "\n",
    "# Create all baskets\n",
    "baskets_series = df_partb.groupby(\"InvoiceNo\")[\"StockCode\"].apply(lambda x: set(np.unique(x)))\n",
    "baskets = baskets_series.to_dict()\n",
    "\n",
    "# Create lookup dictionary. Frequent items have unique value, all non-frequent items have -1 value.\n",
    "lookup = {}\n",
    "for item in inventory:\n",
    "    lookup[item] = -1\n",
    "# Assign all frequent single items a unique value\n",
    "for index, freq_item in enumerate(L1):\n",
    "    lookup[freq_item] = index"
   ]
  },
  {
   "cell_type": "code",
   "execution_count": 6,
   "metadata": {},
   "outputs": [],
   "source": [
    "# Now we need to find the counts of each pair\n",
    "# Initalize the triangular array\n",
    "trips = []\n",
    "for idx1 in range(num_frequent_singles):\n",
    "    for idx2 in range(idx1+1, num_frequent_singles):\n",
    "        trips.append((lookup[L1[idx1]], lookup[L1[idx2]], 0))\n",
    "\n",
    "# Now we want to populate our triangular array\n",
    "# For each basket, find all pairs of items\n",
    "for basket in baskets.values():\n",
    "    # Only care about items that are already frequent because frequent pairs can only come from 2 frequent singles\n",
    "    frequent_items = list(basket & set(L1))\n",
    "    # Get each item pair\n",
    "    for idx1 in range(len(frequent_items)):\n",
    "        for idx2 in range(idx1 + 1, len(frequent_items)):\n",
    "            # Find the item's i and j values\n",
    "            item1_idx = lookup[frequent_items[idx1]]\n",
    "            item2_idx = lookup[frequent_items[idx2]]\n",
    "            # Note that i <= j because triangluar array\n",
    "            if item1_idx > item2_idx:\n",
    "                item1_idx, item2_idx = item2_idx, item1_idx\n",
    "            # Find the index of the triangluar array from the i and j value\n",
    "            k = int(item1_idx*(len(L1) - (item1_idx+1)/2) + item2_idx - item1_idx - 1)\n",
    "            # Increment the number of occurances of that tuple by 1\n",
    "            trips[k] = (item1_idx, item2_idx, trips[k][2]+1)"
   ]
  },
  {
   "cell_type": "code",
   "execution_count": 7,
   "metadata": {},
   "outputs": [
    {
     "name": "stdout",
     "output_type": "stream",
     "text": [
      "There were 30 frequent pairs with a threshold of 0.025\n"
     ]
    },
    {
     "data": {
      "text/plain": [
       "[('20719', '20724'),\n",
       " ('20724', '22355'),\n",
       " ('20724', '22356'),\n",
       " ('20725', '20726'),\n",
       " ('20725', '20727'),\n",
       " ('20725', '20728'),\n",
       " ('20725', '22382'),\n",
       " ('20725', '22383'),\n",
       " ('20725', '22384'),\n",
       " ('20727', '20728'),\n",
       " ('20727', '22382'),\n",
       " ('20727', '22383'),\n",
       " ('20727', '22384'),\n",
       " ('20728', '22383'),\n",
       " ('20728', '22384'),\n",
       " ('21931', '22386'),\n",
       " ('21931', '22411'),\n",
       " ('22086', '22910'),\n",
       " ('22382', '22383'),\n",
       " ('22423', '22697'),\n",
       " ('22423', '22699'),\n",
       " ('22469', '22470'),\n",
       " ('22629', '22630'),\n",
       " ('22697', '22698'),\n",
       " ('22697', '22699'),\n",
       " ('22698', '22699'),\n",
       " ('22726', '22727'),\n",
       " ('23202', '23203'),\n",
       " ('23203', '23209'),\n",
       " ('23300', '23301')]"
      ]
     },
     "execution_count": 7,
     "metadata": {},
     "output_type": "execute_result"
    }
   ],
   "source": [
    "# We now have the count of each pair, now we need to figure out which ones are frequent.\n",
    "frequent_pairs = []\n",
    "for tri_value in trips:\n",
    "    # For each pair, determine if it is above the threshold\n",
    "    if tri_value[2] / num_baskets >= threshold:\n",
    "        # If it is, append it to the list of frequent pairs\n",
    "        frequent_pairs.append((L1[tri_value[0]], L1[tri_value[1]]))\n",
    "print(\"There were {} frequent pairs with a threshold of {}\".format(len(frequent_pairs), threshold))     \n",
    "frequent_pairs"
   ]
  },
  {
   "cell_type": "markdown",
   "metadata": {},
   "source": [
    "The lists of tuples above is the set of all frequent pairs for the dataset at the 2.5% threshold."
   ]
  },
  {
   "cell_type": "markdown",
   "metadata": {},
   "source": [
    "## Extra Credit on Problem 3 (10 pts)\n",
    "\n",
    "#### d) Use a hash table to hash items from their `Descriptions`.  Include a check to minimize and fix any collisions, as in nb08."
   ]
  },
  {
   "cell_type": "code",
   "execution_count": 8,
   "metadata": {},
   "outputs": [],
   "source": [
    "def hashfunc(itemname, p):\n",
    "    ascii_sum = np.sum([ord(char) for char in itemname])\n",
    "    hash = ascii_sum % p\n",
    "    return hash"
   ]
  },
  {
   "cell_type": "code",
   "execution_count": 9,
   "metadata": {},
   "outputs": [],
   "source": [
    "# Get all the unique descriptions from the dataset\n",
    "descriptions = np.array(df_partb[\"Description\"].unique())\n",
    "# Initalize the modulus and hash table\n",
    "p = 1567\n",
    "hash_lookup = [False]*p\n",
    "# Insert each description into the hash table\n",
    "for dscrp in descriptions:\n",
    "    # Hash the description\n",
    "    hv = hashfunc(dscrp, p)\n",
    "    # If the hash has not already been taken, then fill the empty location\n",
    "    if not hash_lookup[hv]:\n",
    "        hash_lookup[hv] = [(dscrp, np.where(descriptions == dscrp)[0][0])]\n",
    "    # If the bucket is full, then have to fill collisions\n",
    "    else:\n",
    "        # If the description has already been seen, then skip it. Don't insert it twice.\n",
    "        dscrp_in_bucket = [hash_lookup[hv][k][0] for k in range(len(hash_lookup[hv]))]\n",
    "        if dscrp in dscrp_in_bucket:\n",
    "            pass\n",
    "        # Otherwise its a new description and append it to the existing bucket.\n",
    "        else:\n",
    "            hash_lookup[hv].append((dscrp, np.where(descriptions == dscrp)[0][0]))"
   ]
  },
  {
   "cell_type": "markdown",
   "metadata": {},
   "source": [
    "#### e) Use A-priori to find all frequent items and all frequent pairs of items from your hashed data set in part c)."
   ]
  },
  {
   "cell_type": "code",
   "execution_count": 10,
   "metadata": {},
   "outputs": [],
   "source": [
    "# Create the baskets of descriptions\n",
    "desc_baskets = df_partb.groupby(\"InvoiceNo\")[\"Description\"].apply(lambda x: set(np.unique(x)))\n",
    "n_baskets = len(desc_baskets)\n",
    "\n",
    "# Initialize the inventory\n",
    "C1_desc = descriptions\n",
    "n_items = len(C1_desc)\n",
    "item_counts = np.zeros(n_items)  # Initialize each item count\n",
    "\n",
    "# Find the counts of each item\n",
    "for basket in desc_baskets:\n",
    "    for desc in basket:\n",
    "        hv = hashfunc(desc, p)\n",
    "        bucket = hash_lookup[hv]\n",
    "        for item in bucket:\n",
    "            if desc == item[0]:\n",
    "                item_counts[item[1]] += 1\n",
    "                break"
   ]
  },
  {
   "cell_type": "code",
   "execution_count": 11,
   "metadata": {},
   "outputs": [
    {
     "name": "stdout",
     "output_type": "stream",
     "text": [
      "There were 179 frequent single descriptions with a 0.025 support threshold.\n"
     ]
    }
   ],
   "source": [
    "# Find which indexes where frequent\n",
    "is_frequent = (item_counts / n_baskets) > threshold\n",
    "is_frequent_index = np.where(is_frequent)\n",
    "# Using the indexes, find which descriptions where frequent\n",
    "L1_desc = C1_desc[is_frequent_index]\n",
    "print(\"There were {} frequent single descriptions with a {} support threshold.\".format(len(L1_desc), threshold))"
   ]
  },
  {
   "cell_type": "code",
   "execution_count": 12,
   "metadata": {},
   "outputs": [],
   "source": [
    "# Now to do frequent pairs\n",
    "# Start by creating new lookup table\n",
    "pair_desc_lookup = {}\n",
    "for idx, desc in enumerate(L1_desc):\n",
    "    pair_desc_lookup[desc] = idx\n",
    "\n",
    "# Start by initializing triangular array\n",
    "desc_tri_array = []\n",
    "for i in range(len(L1_desc)):\n",
    "    for j in range(i+1, len(L1_desc)):\n",
    "        desc_tri_array.append((pair_desc_lookup[L1_desc[i]], pair_desc_lookup[L1_desc[j]], 0))\n",
    "        \n",
    "# Want to fill the triangular array with counts of pairs from the baskets\n",
    "for basket in desc_baskets:\n",
    "    frequent_descs = list(basket & set(L1_desc))\n",
    "    for idx1 in range(len(frequent_descs)):\n",
    "        for idx2 in range(idx1+1, len(frequent_descs)):\n",
    "            desc1_idx = pair_desc_lookup[frequent_descs[idx1]]\n",
    "            desc2_idx = pair_desc_lookup[frequent_descs[idx2]]\n",
    "            \n",
    "            if desc1_idx > desc2_idx:\n",
    "                desc1_idx, desc2_idx = desc2_idx, desc1_idx\n",
    "                \n",
    "            k = int(desc1_idx*(len(L1_desc) - (desc1_idx+1)/2) + desc2_idx - desc1_idx - 1)\n",
    "            desc_tri_array[k] = (desc1_idx, desc2_idx, desc_tri_array[k][2]+1)"
   ]
  },
  {
   "cell_type": "code",
   "execution_count": 13,
   "metadata": {},
   "outputs": [
    {
     "name": "stdout",
     "output_type": "stream",
     "text": [
      "There were 26 frequent pairs with a threshold of 0.025\n"
     ]
    },
    {
     "data": {
      "text/plain": [
       "[('ALARM CLOCK BAKELIKE RED ', 'ALARM CLOCK BAKELIKE GREEN'),\n",
       " ('SPACEBOY LUNCH BOX ', 'DOLLY GIRL LUNCH BOX'),\n",
       " (\"PAPER CHAIN KIT 50'S CHRISTMAS \", 'PAPER CHAIN KIT VINTAGE CHRISTMAS'),\n",
       " ('JUMBO BAG PINK POLKADOT', 'JUMBO STORAGE BAG SUKI'),\n",
       " ('LUNCH BAG RED RETROSPOT', 'LUNCH BAG SPACEBOY DESIGN '),\n",
       " ('LUNCH BAG RED RETROSPOT', 'LUNCH BAG WOODLAND'),\n",
       " ('LUNCH BAG RED RETROSPOT', 'LUNCH BAG PINK POLKADOT'),\n",
       " ('LUNCH BAG RED RETROSPOT', 'LUNCH BAG CARS BLUE'),\n",
       " ('LUNCH BAG RED RETROSPOT', 'LUNCH BAG  BLACK SKULL.'),\n",
       " ('LUNCH BAG RED RETROSPOT', 'LUNCH BAG SUKI DESIGN '),\n",
       " ('JUMBO STORAGE BAG SUKI', 'JUMBO SHOPPER VINTAGE RED PAISLEY'),\n",
       " ('HEART OF WICKER SMALL', 'HEART OF WICKER LARGE'),\n",
       " ('LUNCH BAG SPACEBOY DESIGN ', 'LUNCH BAG  BLACK SKULL.'),\n",
       " ('LUNCH BAG PINK POLKADOT', 'LUNCH BAG CARS BLUE'),\n",
       " ('LUNCH BAG PINK POLKADOT', 'LUNCH BAG  BLACK SKULL.'),\n",
       " ('LUNCH BAG CARS BLUE', 'LUNCH BAG  BLACK SKULL.'),\n",
       " ('LUNCH BAG  BLACK SKULL.', 'LUNCH BAG SUKI DESIGN '),\n",
       " ('REGENCY CAKESTAND 3 TIER', 'ROSES REGENCY TEACUP AND SAUCER '),\n",
       " ('REGENCY CAKESTAND 3 TIER', 'GREEN REGENCY TEACUP AND SAUCER'),\n",
       " ('ROSES REGENCY TEACUP AND SAUCER ', 'GREEN REGENCY TEACUP AND SAUCER'),\n",
       " ('ROSES REGENCY TEACUP AND SAUCER ', 'PINK REGENCY TEACUP AND SAUCER'),\n",
       " ('GREEN REGENCY TEACUP AND SAUCER', 'PINK REGENCY TEACUP AND SAUCER'),\n",
       " ('CHARLOTTE BAG SUKI DESIGN', 'RED RETROSPOT CHARLOTTE BAG'),\n",
       " ('CHARLOTTE BAG PINK POLKADOT', 'RED RETROSPOT CHARLOTTE BAG'),\n",
       " ('WOODLAND CHARLOTTE BAG', 'RED RETROSPOT CHARLOTTE BAG'),\n",
       " ('GARDENERS KNEELING PAD KEEP CALM ', 'GARDENERS KNEELING PAD CUP OF TEA ')]"
      ]
     },
     "execution_count": 13,
     "metadata": {},
     "output_type": "execute_result"
    }
   ],
   "source": [
    "# Now get all the frequent pairs from the proportions of the count over the number of baskets\n",
    "L2_desc = []\n",
    "for tri_value in desc_tri_array:\n",
    "    if tri_value[2] / n_baskets >= threshold:\n",
    "        L2_desc.append((L1_desc[tri_value[0]], L1_desc[tri_value[1]]))\n",
    "        \n",
    "print(\"There were {} frequent pairs with a threshold of {}\".format(len(L2_desc), threshold))\n",
    "L2_desc"
   ]
  },
  {
   "cell_type": "markdown",
   "metadata": {},
   "source": [
    "#### f) Did any frequent items appear in part d) that did not in part b)?  If so, list them."
   ]
  },
  {
   "cell_type": "code",
   "execution_count": 14,
   "metadata": {},
   "outputs": [
    {
     "data": {
      "text/plain": [
       "[]"
      ]
     },
     "execution_count": 14,
     "metadata": {},
     "output_type": "execute_result"
    }
   ],
   "source": [
    "diff_items = []\n",
    "# For each frequent description\n",
    "for desc in L1_desc:\n",
    "    # Find the StockCode of the description\n",
    "    df_desc = df_partb.loc[df_partb[\"Description\"] == desc]\n",
    "    desc_stockcode = df_desc[\"StockCode\"].unique()[0]\n",
    "    # If the stock code is not in the frequent items (using the stock codes), then add it to the list\n",
    "    if desc_stockcode not in L1:\n",
    "        diff_items.append((desc_stockcode, desc))\n",
    "        \n",
    "diff_items"
   ]
  },
  {
   "cell_type": "markdown",
   "metadata": {},
   "source": [
    "From the above code, resulting in an empty answer set, we can see that there isn't any \"frequent descriptions\" that didn't have a matching \"frequent StockCode.\" However, the reason that there were fewer frequent descriptions than StockCodes is because some items, with the same StockCode had different descriptions. If we look at the code cell below, we can see some examples of items that had the same StockCode but different descriptions. This leads the conclusion that some items that were frequent had multiple descriptions, which made the item not frequent when comparing descriptions because there were fewer pairs with each unqiue description."
   ]
  },
  {
   "cell_type": "code",
   "execution_count": 15,
   "metadata": {},
   "outputs": [
    {
     "name": "stdout",
     "output_type": "stream",
     "text": [
      "['GROOVY CACTUS INFLATABLE' 'check']\n",
      "['VIPPASSPORT COVER ' 'VIP PASSPORT COVER ']\n",
      "['RED RETROSPOT PURSE ' 'dotcom']\n",
      "['JUMBO BAG OWLS' 'found' 'Found' 'wrongly marked 23343' 'Marked as 23343'\n",
      " 'wrongly coded 23343']\n",
      "['LUNCH BAG RED RETROSPOT' 'LUNCH BAG RED SPOTTY']\n",
      "['KENSINGTON COFFEE SET' 'Found']\n",
      "['RETROSPOT RED WASHING UP GLOVES' 'Found']\n",
      "['RED FLOCK LOVE HEART PHOTO FRAME' 'check']\n",
      "['SET/5 RED RETROSPOT LID GLASS BOWLS' 'SET/5 RED SPOTTY LID GLASS BOWLS']\n",
      "['GREY FLORAL FELTCRAFT SHOULDER BAG' 'Amazon Adjustment']\n",
      "['12 PENCILS TALL TUBE POSY' 'found']\n",
      "['RIBBONS PURSE ' 'found']\n",
      "['SET/20 FRUIT SALAD PAPER NAPKINS ' 'found']\n",
      "['CHRISTMAS TOILET ROLL' 'had been put aside']\n",
      "['LARGE CAKE TOWEL, CHOCOLATE SPOTS' 'LARGE CAKE TOWEL CHOCOLATE SPOTS']\n",
      "['SWISS ROLL TOWEL, PINK  SPOTS' 'SWISS ROLL TOWEL PINK  SPOTS']\n",
      "['JINGLE BELLS TREE DECORATION' 'found']\n",
      "['POTTERING IN THE SHED METAL SIGN' 'found']\n",
      "['GIN + TONIC DIET METAL SIGN' 'GIN AND TONIC DIET METAL SIGN']\n",
      "['PLEASE ONE PERSON METAL SIGN' 'on cargo order' 'adjustment' 'dotcom']\n",
      "['WHITE BELL HONEYCOMB PAPER ' 'wrongly marked']\n",
      "['STRAWBERRY CERAMIC TRINKET BOX' 'STRAWBERRY CERAMIC TRINKET POT']\n",
      "['PINK  POLKADOT PLATE ' 'PINK POLKADOT PLATE ']\n",
      "['GLASS CHALICE GREEN  SMALL ' 'adjustment']\n",
      "['IVY HEART WREATH' 'check']\n",
      "['WHITE SKULL HOT WATER BOTTLE ' '?']\n",
      "['ELEPHANT, BIRTHDAY CARD, ' 'ELEPHANT BIRTHDAY CARD ']\n",
      "['RED RETROSPOT BUTTER DISH' 'check']\n",
      "['WOODLAND DESIGN  COTTON TOTE BAG' 'found']\n",
      "['VINTAGE UNION JACK BUNTING' 'rcvd be air temp fix for dotcom sit']\n",
      "['ASSORTED TUTTI FRUTTI HEART BOX' 'found' 'check']\n",
      "['BIG DOUGHNUT FRIDGE MAGNETS' 'check']\n",
      "['GOLD SCROLL GLASS T-LIGHT HOLDER' 'Adjustment']\n",
      "['CLASSIC FRENCH STYLE BASKET NATURAL' 'adjustment']\n",
      "['WHITE CHRISTMAS GARLAND STARS TREES' 'check' 'dotcom']\n",
      "['CHRISTMAS HANGING HEART WITH BELL' 'HANGING HEART WITH BELL' 'check']\n",
      "['GLITTER CHRISTMAS HEART ' 'GLITTER HEART DECORATION']\n",
      "['PAINTED METAL HEART WITH HOLLY BELL' 'amazon adjust']\n",
      "['DINOSAUR KEYRINGS ASSORTED' 'adjustment']\n",
      "['ASSORTED CREEPY CRAWLIES' 'damaged']\n",
      "['POTTING SHED TEA MUG' 'Amazon']\n",
      "['BINGO SET' 'Amazon']\n",
      "['KEY FOB , GARAGE DESIGN' 'GARAGE KEY FOB']\n",
      "['RED  HARMONICA IN BOX ' 'John Lewis']\n",
      "['JUMBO BAG SCANDINAVIAN PAISLEY' 'JUMBO BAG SCANDINAVIAN BLUE PAISLEY']\n",
      "['STRAWBERRY   PICNIC BAG' 'found']\n",
      "['VINTAGE PAISLEY STATIONERY SET' 'check']\n",
      "['VINTAGE CARAVAN GREETING CARD ' 'taig adjust']\n",
      "['PAPER BUNTING WHITE LACE' 'Amazon']\n",
      "['METAL SIGN HER DINNER IS SERVED ' 'check']\n",
      "['NOEL WOODEN BLOCK LETTERS ' 'had been put aside']\n",
      "['PARTY CONES CANDY TREE DECORATION' 'PARTY CONES CANDY DECORATION']\n",
      "['LADLE LOVE HEART RED ' 'MINI LADLE LOVE HEART RED ']\n",
      "['LADLE LOVE HEART PINK' 'MINI LADLE LOVE HEART PINK']\n",
      "['RETROSPOT TEA SET CERAMIC 11 PC ' 'amazon']\n",
      "['CHRISTMAS CRAFT WHITE FAIRY ' 'check']\n",
      "['FELTCRAFT 6 FLOWER FRIENDS' 'check']\n",
      "['3 HOOK PHOTO SHELF ANTIQUE WHITE' '?']\n",
      "['BLUE OWL SOFT TOY' 'amazon']\n",
      "['SET 10 LIGHTS NIGHT OWL' 'SET 10 NIGHT OWL LIGHTS']\n",
      "['SMALL POPCORN HOLDER' 'POPCORN HOLDER']\n",
      "['FRYING PAN RED RETROSPOT' 'FRYING PAN RED POLKADOT ']\n",
      "['MAGIC GARDEN FELT GARLAND ' 'GARLAND, MAGIC GARDEN 1.8M']\n",
      "['EASTER DECORATION SITTING BUNNY' 'DECORATION SITTING BUNNY']\n",
      "['DECORATION HEN ON NEST, HANGING' 'HANGING HEN ON NEST DECORATION']\n",
      "['DECORATION , WOBBLY RABBIT , METAL ' 'DECORATION WOBBLY RABBIT METAL ']\n",
      "['DECORATION , WOBBLY CHICKEN, METAL ' 'DECORATION WOBBLY CHICKEN']\n",
      "['CHARLOTTE BAG SUKI DESIGN' 'test']\n",
      "['LUNCH BAG SUKI  DESIGN ' 'LUNCH BAG SUKI DESIGN ']\n",
      "['MONEY BOX FIRST ADE DESIGN' 'MONEY BOX FIRST AID DESIGN']\n",
      "['SET OF 36 DOILIES SPACEBOY DESIGN ' 'SET OF 36 SPACEBOY PAPER DOILIES']\n",
      "['FAIRY TALE COTTAGE NIGHTLIGHT' 'FAIRY TALE COTTAGE NIGHT LIGHT']\n",
      "['GUMBALL COAT RACK' 'wrongly sold (22719) barcode']\n",
      "['PICNIC BASKET WICKER LARGE' 'Found']\n",
      "['PICNIC BASKET WICKER SMALL' 'PICNIC BASKET WICKER 60 PIECES']\n",
      "['MAGIC DRAWING SLATE BAKE A CAKE ' 'check']\n",
      "['HEADS AND TAILS SPORTING FUN' 'adjustment']\n",
      "['PACK OF 6 PANNETONE GIFT BOXES' 'PACK OF 6 PANETTONE GIFT BOXES']\n",
      "['CHRISTMAS GINGHAM HEART' 'GINGHAM HEART DECORATION']\n",
      "['CHRISTMAS MUSICAL ZINC HEART ' 'MUSICAL ZINC HEART DECORATION ']\n",
      "['CHRISTMAS RETROSPOT HEART WOOD' 'RETROSPOT WOODEN HEART DECORATION']\n",
      "['WOODEN SKITTLES GARDEN SET' 'check']\n",
      "['HAND WARMER RED POLKA DOT' 'HAND WARMER RED RETROSPOT']\n",
      "['DOORMAT CHRISTMAS VILLAGE' 'adjustment' 'had been put aside']\n",
      "['DOORMAT MERRY CHRISTMAS RED ' 'had been put aside']\n",
      "['SET OF 6 RIBBONS VINTAGE CHRISTMAS' 'amazon' 'amazon sales' 'FOUND']\n",
      "['POLKADOT PEN' 'adjustment']\n",
      "['SET OF 3 NOTEBOOKS IN PARCEL' 'found' 'check']\n",
      "['SWEETHEART CAKESTAND 3 TIER' 'CAKESTAND, 3 TIER, LOVEHEART'\n",
      " 'SWEETHEART 3 TIER CAKE STAND ']\n",
      "['GLASS BELL JAR LARGE' 'GLASS CLOCHE LARGE']\n",
      "['GLASS CLOCHE SMALL' 'GLASS BELL JAR SMALL']\n",
      "['SQUARECUSHION COVER PINK UNION FLAG'\n",
      " 'SQUARECUSHION COVER PINK UNION JACK']\n",
      "['CANDLEHOLDER PINK HANGING HEART' 'PINK HANGING HEART T-LIGHT HOLDER']\n",
      "['PACK 3 BOXES CHRISTMAS PANNETONE' 'check'\n",
      " 'PACK 3 BOXES CHRISTMAS PANETTONE']\n",
      "['PACK 3 BOXES BIRD PANNETONE ' 'PACK 3 BOXES BIRD PANETTONE ']\n",
      "['CHEST NATURAL WOOD 20 DRAWERS' 'test']\n",
      "['HOT WATER BOTTLE BABUSHKA ' 'HOT WATER BOTTLE BABUSHKA LARGE' 'Found']\n",
      "['BREAD BIN DINER STYLE IVORY' 'BREAD BIN, DINER STYLE, IVORY']\n",
      "['BREAD BIN DINER STYLE PINK' 'check' 'AMAZON']\n",
      "['BREAD BIN DINER STYLE MINT' 'BREAD BIN, DINER STYLE, MINT']\n",
      "['PEG BAG APPLES DESIGN' 'PEG BAG APPLE DESIGN']\n",
      "[' SET 2 TEA TOWELS I LOVE LONDON ' 'SET 2 TEA TOWELS I LOVE LONDON ']\n",
      "['BLUE GIANT GARDEN THERMOMETER' 'check' 'AMAZON']\n",
      "['GREEN GIANT GARDEN THERMOMETER' 'Amazon']\n",
      "['BAKING MOULD TOFFEE CUP CHOCOLATE' 'BAKING MOULD TOFFEE CUP  CHOCOLATE']\n",
      "['BAKING MOULD CHOCOLATE CUPCAKES' 'BAKING MOULD CHOCOLATE CUP CAKES'\n",
      " 'BAKING MOULD CUPCAKE CHOCOLATE']\n",
      "['APRON APPLE DELIGHT' 'ADULT APRON APPLE DELIGHT']\n",
      "['36 DOILIES DOLLY GIRL' 'SET OF 36 DOLLY GIRL PAPER DOILIES']\n",
      "['36 DOILIES VINTAGE CHRISTMAS' 'SET OF 36 VINTAGE CHRISTMAS DOILIES']\n",
      "['60 CAKE CASES VINTAGE CHRISTMAS' '72 CAKE CASES VINTAGE CHRISTMAS']\n",
      "['BIRTHDAY PARTY CORDON BARRIER TAPE' 'BIRTHDAY BANNER TAPE']\n",
      "['JAM JAR WITH GREEN LID' 'JAM JAR WITH BLUE LID']\n",
      "['3 TRADITIONAL COOKIE CUTTERS  SET' '3 TRADITIONAl BISCUIT CUTTERS  SET']\n",
      "[\"CHILDREN'S SPACEBOY MUG\" 'CHILDRENS SPACEBOY MUG']\n",
      "['WRAP, BILLBOARD FONTS DESIGN' 'WRAP BILLBOARD FONTS DESIGN']\n",
      "['GINGHAM ROSE WRAP' 'WRAP GINGHAM ROSE ']\n",
      "['TRAVEL CARD WALLET RETRO PETALS' 'TRAVEL CARD WALLET VINTAGE LEAF']\n",
      "['CORDIAL GLASS JUG' 'CORDIAL JUG']\n",
      "['GLASS  SONGBIRD STORAGE JAR' 'GLASS SONGBIRD STORAGE JAR']\n",
      "['DRAWER KNOB CRACKLE GLAZE BLUE' 'DOORKNOB CRACKED GLAZE BLUE']\n",
      "['DRAWER KNOB CRACKLE GLAZE GREEN' 'DOORKNOB CRACKED GLAZE GREEN']\n",
      "['DRAWER KNOB CRACKLE GLAZE PINK' 'DOORKNOB CRACKED GLAZE PINK']\n",
      "['DRAWER KNOB CRACKLE GLAZE IVORY' 'DOORKNOB CRACKED GLAZE IVORY']\n",
      "['DRAWER KNOB CERAMIC IVORY' 'DOORKNOB CERAMIC IVORY']\n",
      "['PAPER LANTERN 9 POINT SNOW STAR ' 'PAPER LANTERN 9 POINT SNOW STAR']\n",
      "['PAPER LANTERN 9 POINT SNOW STAR' 'PAPER LANTERN 6 POINT SNOW STAR']\n",
      "['PAPER LANTERN 9 POINT HOLLY STAR 40'\n",
      " 'PAPER LANTERN 9 POINT HOLLY STAR L']\n",
      "['PAPER LANTERN 9 POINT HOLLY STAR S'\n",
      " 'PAPER LANTERN 9 POINT HOLLY STAR 23']\n",
      "['PAPER LANTERN 5 POINT STAR MOON 30' 'PAPER LANTERN 5 POINT STAR MOON ']\n",
      "['PAPER LANTERN 5 POINT SEQUIN STAR' 'PAPER LANTERN 5 POINT STUDDED STAR']\n",
      "['FLOWERS CHANDELIER T-LIGHT HOLDER' 'CRYSTAL CHANDELIER T-LIGHT HOLDER']\n",
      "['GEMSTONE CHANDELIER T-LIGHT HOLDER' 'BEADED CHANDELIER T-LIGHT HOLDER']\n",
      "['VINTAGE EMBOSSED HEART' 'VINTAGE ENGRAVED HEART']\n",
      "['LARGE DECO JEWELLERY STAND' 'LARGE JEWELLERY STAND']\n",
      "['SMALL DECO JEWELLERY STAND' 'SMALL JEWELLERY STAND']\n",
      "['ALUMINIUM STAMPED HEART' 'ALUMINIUM HEART']\n",
      "['MARIE ANTOIENETT TRINKET BOX GOLD' 'MARIE ANTOINETTE TRINKET BOX GOLD']\n",
      "['DOUBLE CERAMIC PARLOUR HOOK' 'PARLOUR CERAMIC WALL HOOK']\n",
      "['TOADSTOOL BEDSIDE LIGHT ' ' TOADSTOOL BEDSIDE LIGHT ']\n",
      "['GREEN METAL BOX ARMY SUPPLIES' 'GREEN METAL BOX TOP SECRET']\n",
      "['RABBIT NIGHT LIGHT' 'allocate stock for dotcom orders ta'\n",
      " 'add stock to allocate online orders' 'for online retail orders' 'Amazon'\n",
      " 'website fixed']\n",
      "['ZINC  STAR T-LIGHT HOLDER ' 'ZINC STAR T-LIGHT HOLDER ']\n",
      "['ZINC HERB GARDEN CONTAINER' 'METAL HERB GERDEN CONTAINER' 'check']\n",
      "['BELL HEART DECORATION' 'JINGLE BELL HEART DECORATION']\n",
      "['IVORY PANTRY HANGING LAMP ' 'IVORY CAFE HANGING LAMP ']\n",
      "['ZINC HEARTS PLANT POT HOLDER' 'ZINC PLANT POT HOLDER']\n",
      "['WHITE WIRE PLANT POT HOLDER' 'WHITE HEARTS WIRE PLANT POT HOLDER']\n",
      "['LED TEA LIGHTS' 'PACK OF SIX LED TEA LIGHTS']\n",
      "['PARISIENNE JEWELLERY DRAWER ' 'dotcom adjust']\n",
      "['DOLLCRAFT GIRL AMELIE KIT' 'FELTCRAFT GIRL AMELIE KIT'\n",
      " 'DOLLCRAFT GIRL AMELIE']\n",
      "['DOLLCRAFT GIRL NICOLE' 'FELTCRAFT GIRL NICOLE KIT']\n",
      "['FELTCRAFT BOY JEAN-PAUL KIT' 'DOLLCRAFT BOY JEAN-PAUL ']\n",
      "['MISTLETOE HEART WREATH GREEN' 'MISELTOE HEART WREATH ']\n",
      "['MISTLETOE HEART WREATH CREAM' 'MISELTOE HEART WREATH WHITE'\n",
      " 'MISELTOE HEART WREATH CREAM' 'had been put aside']\n",
      "['SMALL ZINC HEART WALL ORGANISER' '?']\n",
      "['ZINC T-LIGHT HOLDER STAR LARGE' 'ZINC T-LIGHT HOLDER STARS LARGE']\n",
      "['MINIATURE ANTIQUE ROSE HOOK IVORY' 'MINITURE ANTIQUE ROSE HOOK IVORY']\n",
      "['SET OF 6 NATIVITY MAGNETS ' 'check']\n",
      "['CLASSIC SUGAR DISPENSER' 'CLASSIC CAFE SUGAR DISPENSER']\n",
      "['CLASSIC GLASS SWEET JAR' 'CLASSIC GLASS COOKIE JAR']\n",
      "['VINTAGE  2 METER FOLDING RULER' 'VINTAGE  2 METRE FOLDING RULER']\n",
      "['BUNDLE OF 3 RETRO NOTE BOOKS' 'BUNDLE OF 3 RETRO EXERCISE BOOKS']\n",
      "['GYMKHANNA TREASURE BOOK BOX' 'GYMKHANA TREASURE BOOK BOX']\n",
      "['RETRO LEAVES MAGNETIC NOTEPAD' 'RETO LEAVES MAGNETIC SHOPPING LIST'\n",
      " 'LEAVES MAGNETIC  SHOPPING LIST' 'VINTAGE LEAF MAGNETIC NOTEPAD']\n",
      "['SKETCHBOOK MAGNETIC SHOPPING LIST' 'VEGETABLE MAGNETIC  SHOPPING LIST']\n",
      "['mailout ' 'JUMBO BAG PEARS']\n",
      "['mailout' 'JUMBO BAG VINTAGE LEAF']\n",
      "['mailout' 'JUMBO BAG DOILEY PATTERNS' 'JUMBO BAG VINTAGE DOILEY '\n",
      " 'JUMBO BAG VINTAGE DOILY ']\n",
      "['CHARLOTTE BAG VINTAGE ALPHABET ' 'CHARLOTTE BAG ALPHABET  DESIGN']\n",
      "['mailout' 'LUNCH BAG DOILEY PATTERN ' 'LUNCH BAG VINTAGE DOILEY '\n",
      " 'LUNCH BAG VINTAGE DOILY ']\n",
      "['HEART WREATH DECORATION WITH BELL' 'PAINTED HEART WREATH WITH BELL']\n",
      "['JINGLE BELL HEART ANTIQUE GOLD' 'BELL HEART ANTIQUE GOLD']\n",
      "['VINTAGE DONKEY TAIL GAME ' 'DONKEY TAIL GAME ']\n",
      "['WRAP DOILEY DESIGN' 'WRAP  VINTAGE DOILEY ' 'WRAP  VINTAGE DOILY ']\n",
      "['WRAP VINTAGE PETALS  DESIGN' 'WRAP VINTAGE LEAF DESIGN']\n",
      "['STORAGE TIN VINTAGE LEAF' 'BISCUIT TIN VINTAGE LEAF']\n",
      "['DOILEY STORAGE TIN' 'DOILEY BISCUIT TIN' 'STORAGE TIN VINTAGE DOILEY '\n",
      " 'STORAGE TIN VINTAGE DOILY ']\n",
      "['SET OF 4 KNICK KNACK TINS LEAVES ' 'SET OF 4 KNICK KNACK TINS LEAF']\n",
      "['SET OF 4 KNICK KNACK TINS DOILEY ' 'SET OF 4 KNICK KNACK TINS DOILY '\n",
      " 'SET OF 4 KNICK KNACK TINS  DOILEY ']\n",
      "['ROUND STORAGE TIN VINTAGE LEAF' 'STORAGE TIN VINTAGE LEAF'\n",
      " 'CANNISTER VINTAGE LEAF DESIGN']\n",
      "['VINTAGE RED ENAMEL TRIM PLATE' 'ENAMEL DINNER PLATE PANTRY']\n",
      "['VINTAGE RED TRIM ENAMEL BOWL ' 'ENAMEL BOWL PANTRY']\n",
      "['VINTAGE RED ENAMEL TRIM MUG ' 'ENAMEL MUG PANTRY']\n",
      "['VINTAGE RED ENAMEL TRIM JUG ' 'ENAMEL JUG PANTRY']\n",
      "['16 PIECE CUTLERY SET PANTRY DESIGN' '16 PC CUTLERY SET PANTRY DESIGN']\n",
      "['CHILDRENS CUTLERY DOLLY GIRL ' 'KIDS CUTLERY DOLLY GIRL ']\n",
      "['CHILDRENS CUTLERY SPACEBOY ' 'KIDS CUTLERY SPACEBOY ']\n",
      "['SET OF 2 CERAMIC CHRISTMAS REINDEER'\n",
      " 'Lighthouse Trading zero invc incorr']\n",
      "['CHRISTMAS TABLE CANDLE SILVER SPIKE'\n",
      " 'CHRISTMAS TABLE SILVER CANDLE SPIKE']\n",
      "['FOLDING BUTTERFLY MIRROR HOT PINK ' 'FOLDING MIRROR HOT PINK ']\n",
      "['FOLDING BUTTERFLY MIRROR RED  ' 'FOLDING MIRROR RED  ']\n",
      "['FOLDING BUTTERFLY MIRROR IVORY ' 'FOLDING MIRROR IVORY ']\n",
      "['DOORMAT VINTAGE LEAVES DESIGN ' 'DOORMAT VINTAGE LEAF']\n",
      "['SPACE BOY CHILDRENS CUP' 'SPACEBOY CHILDRENS CUP']\n",
      "['SPOTTY BUNTING' 'BUNTING , SPOTTY ']\n",
      "['FOOD COVER WITH BEADS SET 2 ' 'FOOD COVER WITH BEADS , SET 2 SIZES']\n",
      "['SET OF 36 DOILIES PANTRY DESIGN' 'SET OF 36 PANTRY PAPER DOILIES']\n",
      "['RUSTIC STRAWBERRY JAMPOT LARGE ' 'RUSTIC STRAWBERRY JAM POT LARGE ']\n",
      "['RUSTIC STRAWBERRY JAMPOT SMALL' 'RUSTIC STRAWBERRY JAM POT SMALL']\n",
      "['MINT DINER WALL CLOCK' 'MINT DINER CLOCK']\n",
      "['JUMBO BAG VINTAGE CHRISTMAS ' 'came coded as 20713'\n",
      " 'wrongly coded 20713']\n",
      "['CHILDRENS TOY COOKING UTENSIL SET' 'check']\n",
      "['SET OF 12 T-LIGHTS VINTAGE DOILEY' 'SET OF 12 T-LIGHTS VINTAGE DOILY']\n",
      "['SET 8 CANDLES VINTAGE DOILEY' 'SET 8 CANDLES VINTAGE DOILY']\n",
      "['SET 12 COLOURING PENCILS DOILY' 'SET 12 COLOUR PENCILS DOILEY'\n",
      " 'SET 12 COLOURING PENCILS DOILEY']\n",
      "['SET 36 COLOUR PENCILS DOILEY' 'SET 36 COLOURING PENCILS DOILY'\n",
      " 'SET 36 COLOURING PENCILS DOILEY']\n",
      "['PACK OF 12 VINTAGE DOILY TISSUES' 'PACK OF 12 DOILEY TISSUES']\n",
      "['WOODLAND MINI BACKPACK' 'WOODLAND MINI RUCKSACK ']\n",
      "['SPACEBOY MINI BACKPACK' 'SPACEBOY MINI RUCKSACK']\n",
      "['DOLLY GIRL MINI BACKPACK' 'DOLLY GIRL MINI RUCKSACK']\n",
      "[' I LOVE LONDON MINI BACKPACK' ' I LOVE LONDON MINI RUCKSACK']\n",
      "['BUTTERFLY CUSHION COVER' 'LA JARDIN BOTANIQUE CUSHION COVER'\n",
      " 'LE JARDIN BOTANIQUE CUSHION COVER']\n",
      "['HOME SWEEET HOME 3 PEG HANGER ' 'HOME SWEET HOME 3 PEG HANGER ']\n",
      "['HOME SWEET HOME BLACKBOARD' 'check']\n",
      "['VINTAGE COFFEE GRINDER BOX' 'DECROTIVEVINTAGE COFFEE GRINDER BOX'\n",
      " 'DECORATIVE VINTAGE COFFEE  BOX']\n",
      "['GIFT BAG LARGE VINTAGE CHRISTMAS' 'VINTAGE CHRISTMAS GIFT BAG LARGE ']\n",
      "[\" 50'S CHRISTMAS GIFT BAG LARGE\" \"GIFT BAG LARGE 50'S CHRISTMAS\"]\n",
      "[' RED SPOT GIFT BAG LARGE' 'GIFT BAG LARGE SPOT ']\n",
      "['SET OF 3 MINI HANGING PORTRAITS' 'THREE MINI HANGING FRAMES']\n",
      "['SMALL PARLOUR PICTURE FRAME' 'SMALL PARLOUR FRAME']\n",
      "['MEDIUM PARLOUR PICTURE FRAME ' 'MEDIUM PARLOUR FRAME ']\n",
      "['LARGE PARLOUR PICTURE FRAME' 'LARGE PARLOUR FRAME']\n",
      "['ROCOCO WALL MIRROR WHITE' 'ROCOCO WALL MIROR']\n",
      "['TUSCAN VILLA FEEDING STATION' 'TUSCAN VILLA BIRD FEEDER']\n",
      "['TUSCAN VILLA DOVECOTE' 'TUSCAN VILLA DOVECOTE BIRD FEEDER']\n",
      "['HEART TRELLISTRIPLE T-LIGHT HOLDER'\n",
      " 'HEART TRELLIS TRIPLE T-LIGHT HOLDER']\n",
      "['GARLAND, VINTAGE BELLS' 'VINTAGE BELLS GARLAND']\n",
      "['CLASSIC CHROME BICYCLE BELL ' 'CLASSIC CROME BICYCLE BELL ']\n",
      "['PLAYING CARDS VINTAGE DOILEY ' 'PLAYING CARDS VINTAGE DOILY ']\n",
      "['CAT AND BIRD WALL ART' 'WALL ART CAT AND BIRD ']\n",
      "['DOG AND BALL WALL ART' 'WALL ART DOG AND BALL ']\n",
      "['TREASURE AHOY WALL ART' 'WALL ART TREASURE AHOY ']\n",
      "['HORSE & PONY WALL ART' 'WALL ART HORSE & PONY ']\n",
      "['BUFFALO BILL WALL ART ' 'WALL ART BUFFALO BILL ']\n",
      "['DOG LICENCE WALL ART' 'WALL ART DOG LICENCE ']\n",
      "['ANIMALS AND NATURE WALL ART' 'WALL ART ANIMALS AND NATURE ']\n",
      "['SPACEBOY WALL ART' 'WALL ART SPACEBOY']\n",
      "['DOLLY GIRL WALL ART' 'WALL ART DOLLY GIRL ']\n",
      "['WALL ART ONLY ONE PERSON ' 'WALL ART,ONLY ONE PERSON ']\n",
      "['STOP FOR TEA WALL ART' 'WALL ART STOP FOR TEA ']\n",
      "['BICYCLE SAFTEY WALL ART' 'WALL ART BICYCLE SAFTEY '\n",
      " 'WALL ART BICYCLE SAFETY']\n",
      "['VILLAGE SHOW WALL ART' 'WALL ART VILLAGE SHOW ']\n",
      "['I LOVE LONDON WALL ART' 'WALL ART I LOVE LONDON ']\n",
      "[\"WALL ART LOVES' SECRET \" \"WALL ART , LOVES' SECRET \"]\n",
      "['WALL ART THE MAGIC FOREST ' 'WALL ART , THE MAGIC FOREST ']\n",
      "['WALL ART CLASSIC PUDDINGS ' 'WALL ART ,PUDDINGS ']\n",
      "[\"70'S ALPHABET WALL ART\" \"WALL ART 70'S ALPHABET \"]\n",
      "['KEEP CALM WALL ART ' 'WALL ART KEEP CALM ']\n",
      "['WRAP RED DOILEY' 'WRAP RED VINTAGE DOILY']\n",
      "['SNACK TRAY I LOVE LONDON' 'Sale error']\n",
      "['KEEP CALM BIRTHDAY WRAP' 'WRAP KEEP CALM BIRTHDAY']\n",
      "['SMALL FOLKART STAR CHRISTMAS DEC' 'check']\n",
      "['FOLKART HEART NAPKIN RINGS' 'found' 'dotcom']\n",
      "['FOLK ART METAL HEART T-LIGHT HOLDER' 'Found' 'check']\n",
      "['ASSTD MULTICOLOUR CIRCLES MUG' 'adjustment']\n",
      "['ASS COL CIRCLE MOBILE ' 'ASSORTED COLOURED CIRCLE MOBILE ']\n",
      "['DOORMAT FRIENDSHIP ' 'adjustment']\n",
      "['WHITE METAL LANTERN' 'WHITE MOROCCAN METAL LANTERN']\n",
      "['SILVER BOOK MARK WITH BEADS' 'ANTIQUE SILVER BOOK MARK WITH BEADS']\n",
      "['HANGING JAM JAR T-LIGHT HOLDER' 'HANGING JAM JAR T-LIGHT HOLDERS']\n",
      "['COLOUR GLASS. STAR T-LIGHT HOLDER' 'COLOURED GLASS STAR T-LIGHT HOLDER']\n",
      "['COLUMBIAN CANDLE ROUND ' 'found box']\n",
      "['SET OF 2 CHRISTMAS DECOUPAGE CANDLE' 'dotcomstock']\n",
      "['WOOD S/3 CABINET ANT WHITE FINISH' '3 DRAWER ANTIQUE WHITE WOOD CABINET']\n",
      "['HOT BATHS METAL SIGN' 'FBA' 'amazon']\n",
      "['NO SINGING METAL SIGN' 'N0 SINGING METAL SIGN' 'check']\n",
      "['PINK HEART SHAPE EGG FRYING PAN' 'check']\n",
      "['HEN HOUSE W CHICK STANDING' 'HEN HOUSE WITH CHICK STANDING']\n",
      "['JUNGLE POPSICLES ICE LOLLY HOLDERS' 'JUNGLE POPSICLES ICE LOLLY MOULDS']\n",
      "[\"PINK B'FLY C/COVER W BOBBLES\" 'PINK BUTTERFLY CUSHION COVER']\n",
      "['ASSTD FRUIT+FLOWERS FRIDGE MAGNETS' 'found']\n",
      "['SET OF 6 KASHMIR FOLKART BAUBLES' 'found' 'michel oops']\n",
      "['ANTIQUE SILVER TEA GLASS ETCHED' 'ANTIQUE SILVER T-LIGHT GLASS']\n",
      "['SET OF 72 PINK HEART PAPER DOILIES' '?']\n",
      "['FRENCH ENAMEL POT W LID' 'found']\n",
      "['CUT GLASS T-LIGHT HOLDER OCTAGON' 'check?']\n",
      "['SMALL SQUARE CUT GLASS CANDLESTICK' 'found']\n",
      "['JARDIN ETCHED GLASS BUTTER DISH' 'JARDIN ETCHED GLASS CHEESE DISH']\n"
     ]
    }
   ],
   "source": [
    "for i in df_partb.groupby(\"StockCode\")[\"Description\"].unique():\n",
    "    if len(i) > 1:\n",
    "        print(i)"
   ]
  },
  {
   "attachments": {
    "image.png": {
     "image/png": "[encoded data removed]"
    }
   },
   "cell_type": "markdown",
   "metadata": {},
   "source": [
    "***\n",
    "<a/ id='p4'></a>\n",
    "[Back to top](#top)\n",
    "# Problem 4 (Computation: Power Method; 20 pts)\n",
    "\n",
    "![image.png](attachment:image.png)\n",
    "\n",
    "Consider the network graph above.\n",
    "\n",
    "#### a) Construct a column stochastic matrix representing the graph above, if any valid move is equally likely for each state."
   ]
  },
  {
   "cell_type": "code",
   "execution_count": 16,
   "metadata": {},
   "outputs": [
    {
     "data": {
      "text/plain": [
       "array([[0. , 0.5, 0. , 0. , 0. , 0. , 0. ],\n",
       "       [0. , 0. , 1. , 0. , 0. , 0. , 0.5],\n",
       "       [0. , 0. , 0. , 0. , 0. , 0.5, 0.5],\n",
       "       [0.5, 0. , 0. , 0. , 0. , 0. , 0. ],\n",
       "       [0. , 0. , 0. , 0.5, 0. , 0. , 0. ],\n",
       "       [0. , 0. , 0. , 0. , 0.5, 0. , 0. ],\n",
       "       [0.5, 0.5, 0. , 0.5, 0.5, 0.5, 0. ]])"
      ]
     },
     "execution_count": 16,
     "metadata": {},
     "output_type": "execute_result"
    }
   ],
   "source": [
    "N = 7\n",
    "M = np.zeros((N, N))\n",
    "M[0,:] = [0, 1/2, 0, 0, 0, 0, 0]\n",
    "M[1,:] = [0, 0, 1, 0, 0, 0, 1/2]\n",
    "M[2,:] = [0, 0, 0, 0, 0, 1/2, 1/2]\n",
    "M[3,:] = [1/2, 0, 0, 0, 0, 0, 0]\n",
    "M[4,:] = [0, 0, 0, 1/2, 0, 0, 0]\n",
    "M[5,:] = [0, 0, 0, 0, 1/2, 0, 0]\n",
    "M[6,:] = [1/2, 1/2, 0, 1/2, 1/2, 1/2, 0]\n",
    "M"
   ]
  },
  {
   "cell_type": "markdown",
   "metadata": {},
   "source": [
    "#### b) Find the stationary distribution of the random walk implied by the graph above via the power iteration."
   ]
  },
  {
   "cell_type": "code",
   "execution_count": 17,
   "metadata": {},
   "outputs": [],
   "source": [
    "def dist_L1(x1, x2):\n",
    "    return np.sum(np.abs(x1 - np.abs(x2)))"
   ]
  },
  {
   "cell_type": "code",
   "execution_count": 18,
   "metadata": {},
   "outputs": [],
   "source": [
    "r = np.repeat(1/N, N)\n",
    "r_old = r.copy()\n",
    "r_new = np.matmul(M, r_old)\n",
    "dist = dist_L1(r_new, r_old)\n",
    "thresh = 0.001\n",
    "# Iterate until convergence\n",
    "while dist > thresh:\n",
    "    r_old = r_new.copy()\n",
    "    r_new = np.matmul(M, r_old)\n",
    "    dist = dist_L1(r_new, r_old)"
   ]
  },
  {
   "cell_type": "code",
   "execution_count": 19,
   "metadata": {},
   "outputs": [
    {
     "name": "stdout",
     "output_type": "stream",
     "text": [
      "Stationary Dist:\n",
      " [0.14616612 0.29231916 0.15059989 0.07299369 0.03656442 0.01827131\n",
      " 0.28308541]\n"
     ]
    }
   ],
   "source": [
    "print(\"Stationary Dist:\\n\", r_new)"
   ]
  },
  {
   "cell_type": "markdown",
   "metadata": {},
   "source": [
    "From the above result, we can see that nodes 2 and 7 end up with the most \"flow\" and nodes 4, 5 and 6 with the least. This makes sense from the graph because there's a \"loop\" from nodes $2 \\rightarrow 1 \\rightarrow 4 \\rightarrow 5 \\rightarrow 6 \\rightarrow 3$, where the loop ends at either 7 or 3. Because all of those node, beside 3, have an outward edge to 7, it makes sense that 7 has a large amount of the flow. Then nodes 7 and 3 only lead to node 2, meaning all flow eventually leads through there causing it to also has a large stationary value. Nodes 4, 5 and 6 all have progressively smaller values because they are further down the loop, where each step has the chance of moving to Node 7, so getting further is less likely."
   ]
  }
 ],
 "metadata": {
  "kernelspec": {
   "display_name": "Python 3",
   "language": "python",
   "name": "python3"
  },
  "language_info": {
   "codemirror_mode": {
    "name": "ipython",
    "version": 3
   },
   "file_extension": ".py",
   "mimetype": "text/x-python",
   "name": "python",
   "nbconvert_exporter": "python",
   "pygments_lexer": "ipython3",
   "version": "3.6.9"
  }
 },
 "nbformat": 4,
 "nbformat_minor": 2
}
