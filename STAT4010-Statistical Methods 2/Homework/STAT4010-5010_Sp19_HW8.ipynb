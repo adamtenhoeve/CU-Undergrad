{
 "cells": [
  {
   "cell_type": "markdown",
   "metadata": {},
   "source": [
    "# Homework #8\n",
    "\n",
    "**Due by midnight on Friday April 26, 2019**. Complete all of the following problems. Ideally, the theoretical problems should be answered in a Markdown cell directly underneath the question. If you don't know LaTex/Markdown, you may submit separate handwritten solutions to the theoretical problems. Please do not turn in messy work. Computational problems should be completed in this notebook (using the R kernel is preferred). Computational questions may require code, plots, analysis, interpretation, etc. Working in small groups is allowed, but it is important that you make an effort to master the material and hand in your own work. \n"
   ]
  },
  {
   "cell_type": "markdown",
   "metadata": {},
   "source": [
    "Name: Adam Ten Hoeve"
   ]
  },
  {
   "cell_type": "markdown",
   "metadata": {},
   "source": [
    "## A. Theoretical Problems"
   ]
  },
  {
   "cell_type": "markdown",
   "metadata": {},
   "source": [
    "## A.1 \n",
    "\n",
    "#### (a) In the context of simple linear regression, show that if we center both $Y$ and $X$, then $\\widehat\\beta_0 = 0$. "
   ]
  },
  {
   "cell_type": "markdown",
   "metadata": {},
   "source": [
    "For SLR, we want to estimate $\\hat{\\alpha}$ and $\\hat{\\beta}$ such that:\n",
    "\n",
    "$$\n",
    "\\begin{align*}\n",
    "    0 &= \\sum_{i=1}^n [y_i - \\hat{\\beta_1}*x_i - \\hat{\\beta_0}] \\\\\n",
    "    0 &= -n\\hat{\\beta_0} + \\sum_{i=1}^n [Y_i - \\hat{\\beta_1}*x_i] \\\\\n",
    "    \\hat{\\beta_0} &= \\frac{1}{n}\\sum_{i=1}^n [y_i - \\hat{\\beta_1}*x_i] \\\\\n",
    "\\end{align*}\n",
    "$$\n",
    "\n",
    "If we center both Y and X, then we would be subtracting the mean from those vectors. Notice that:\n",
    "\n",
    "$$\n",
    "\\begin{align*}\n",
    "\\sum_{i=1}^n(x_i - \\bar{x}) &= \\sum_{i=1}^n(x_i) - \\sum_{i=1}^n(\\bar{x}) \\\\\n",
    "&= \\sum_{i=1}^n(x_i) - \\sum_{i=1}^n \\Big( \\frac{1}{n} \\sum_{i=1}^{n}(x_i) \\Big) \\\\\n",
    "&= \\sum_{i=1}^n(x_i) - \\sum_{i=1}^n(x_i) \\\\\n",
    "&= 0\n",
    "\\end{align*}\n",
    "$$\n",
    "\n",
    "This is also true for Y and $\\bar{y}$. Going back to our first equation we get:\n",
    "\n",
    "$$\n",
    "\\begin{align*}\n",
    "\\hat{\\beta_0} &= \\frac{1}{n}\\sum_{i=1}^n (y_i - \\bar{y}) - \\hat{\\beta_1}*(x_i - \\bar{x}) \\\\\n",
    "\\hat{\\beta_0} &= \\frac{1}{n}\\sum_{i=1}^n (y_i - \\bar{y}) - \\hat{\\beta_1}*\\frac{1}{n}\\sum_{i=1}^n(x_i - \\bar{x}) \\\\\n",
    "\\hat{\\beta_0} &= 0 - 0\n",
    "\\end{align*}\n",
    "$$\n",
    "\n",
    "Therefor, the intercept of SLR is 0 when both X and Y are centered."
   ]
  },
  {
   "cell_type": "markdown",
   "metadata": {},
   "source": [
    "#### (b) Suppose that we only center $Y$ but not $X$. What does $\\widehat\\beta_0$ become?"
   ]
  },
  {
   "cell_type": "markdown",
   "metadata": {},
   "source": [
    "$$\n",
    "\\begin{align*}\n",
    "\\hat{\\beta_0} &= \\frac{1}{n}\\sum_{i=1}^n (y_i - \\bar{y}) - \\hat{\\beta_1}*x_i \\\\\n",
    "\\hat{\\beta_0} &= \\frac{1}{n}\\sum_{i=1}^n (y_i - \\bar{y}) - \\hat{\\beta_1}*\\frac{1}{n}\\sum_{i=1}^nx_i \\\\\n",
    "\\hat{\\beta_0} &= 0 - \\hat{\\beta_1}*\\frac{1}{n}\\sum_{i=1}^nx_i \\\\\n",
    "\\hat{\\beta_0} &= - \\hat{\\beta_1}*(\\bar{x}) \\\\\n",
    "\\hat{\\beta_0} &= - \\hat{\\beta_1}\\bar{x} \\\\\n",
    "\\end{align*}\n",
    "$$"
   ]
  },
  {
   "cell_type": "markdown",
   "metadata": {},
   "source": [
    "## A.2 \n",
    "\n",
    "#### (a) Show that the ridge regression estimator is biased."
   ]
  },
  {
   "cell_type": "markdown",
   "metadata": {},
   "source": [
    "$$ \n",
    "\\begin{align*}\n",
    "\\hat{\\beta}_R &= (X^TX + \\lambda I)^{-1}X^TY \\\\\n",
    "&= (X^TX + \\lambda I)^{-1}X^T * \\Big[ (X)(X^TX + \\lambda I)^{-1}X^T + (\\epsilon) \\Big]\n",
    "\\end{align*}\n",
    "$$\n",
    "\n",
    "That doesn't cancel nicely. In the case that $\\lambda = 0$, then the estimate is the same as the estimator for ordinary least squares. However, when $\\lambda > 0$, then the gram matrix will no longer cancel and there will be some bias in the estimator."
   ]
  },
  {
   "cell_type": "markdown",
   "metadata": {},
   "source": [
    "#### (b) Let $\\boldsymbol{\\widehat\\beta}_{\\lambda}$ denote the ridge regression estimator for a given $\\lambda$, and let $\\boldsymbol{\\widehat\\beta}$ denote the ordinary least squares estimator. It turns out that, if the original predictors are orthogonal and standardized, then:\n",
    "\n",
    "$$\\boldsymbol{\\widehat\\beta}_{\\lambda}= \\frac{1}{1 + \\lambda}\\boldsymbol{\\widehat\\beta},$$\n",
    "\n",
    "and \n",
    "\n",
    "$$Var(\\boldsymbol{\\widehat\\beta}_{\\lambda}) = \\bigg(\\frac{1}{1+\\lambda}\\bigg)^2\\sigma^2I_p,$$\n",
    "\n",
    "#### where $I_p$ is the $p \\times p$ identity matrix (You don't have to, but can you prove these two formulas??) Use these formulas to:\n",
    "\n",
    "1. Justify the ridge regression estimator as a \"shrinkage\" method in two ways.\n",
    "2. Describe what happens to the ridge regression estimator as $\\lambda \\to \\infty$."
   ]
  },
  {
   "cell_type": "markdown",
   "metadata": {},
   "source": [
    "1. The first way that ridge regression is a shrinkage method is by introducing variance to reduce bias. By applying the ridge regression penalty, we are introducing bias to the estimator but reducing the estimator to zero, reducing variance.\n",
    "2. We can see from the first formula that the ridge regression estimator will approach zero as $\\lambda$ approaches infinity."
   ]
  },
  {
   "cell_type": "markdown",
   "metadata": {},
   "source": [
    "#### (c) Describe why we standardize our variables before performing ridge regression."
   ]
  },
  {
   "cell_type": "markdown",
   "metadata": {},
   "source": [
    "We can see in the equation for the ridge regression estimator that the penalty term is applied to all variables uniformly (the $+ \\lambda I$ part). This means, if the variables weren't standardized, then the effect of the penalty term would unevenly affect the coefficients. When the variables are standardized, the penalty term applies to each one by the same amount"
   ]
  },
  {
   "cell_type": "markdown",
   "metadata": {},
   "source": [
    "#### (d) Let $Y = \\widehat\\beta_0 + \\widehat\\beta_1X$ be the fitted model for unstandardized variables and $Z_2 = \\widehat\\theta Z_1$ be the model for the standardized model (predictors and response, i.e., $Z_2 = \\frac{Y - \\bar{Y}}{s_y}$, and $Z_1 = \\frac{X - \\bar{X}}{s_X}$). Construct a transformation to go from $\\widehat\\beta$ and $\\widehat\\theta$."
   ]
  },
  {
   "cell_type": "markdown",
   "metadata": {},
   "source": [
    "Let's start with the unstandardized model equation and work up from there.\n",
    "$$\n",
    "\\begin{align*}\n",
    "    Y &= \\hat{\\beta_0} + \\hat{\\beta_1}X \\\\\n",
    "    Y - \\bar{Y} &= \\hat{\\beta_0} + \\hat{\\beta_1}X - \\bar{Y} \\\\\n",
    "    Y - \\bar{Y} &= (\\bar{Y} - \\hat{\\beta_1}\\bar{X}) + \\hat{\\beta_1}X - \\bar{Y} \\\\\n",
    "    Y - \\bar{Y} &= - \\hat{\\beta_1}\\bar{X} + \\hat{\\beta_1}X \\\\\n",
    "    Y - \\bar{Y} &= \\hat{\\beta_1}(X - \\bar{X}) \\\\\n",
    "    \\dfrac{s_Y}{s_Y} (Y - \\bar{Y}) &= \\hat{\\beta_1}(X - \\bar{X}) \\dfrac{s_X}{s_X}\\\\\n",
    "    \\dfrac{Y - \\bar{Y}}{s_y} &= \\dfrac{s_X}{s_Y} \\hat{\\beta_1} * \\frac{X - \\bar{X}}{s_X} \\\\\n",
    "    Z_2 &= \\dfrac{s_X}{s_Y} \\hat{\\beta_1} * Z_1\n",
    "\\end{align*}\n",
    "$$\n",
    "\n",
    "Therefor $\\hat{\\theta} = \\dfrac{s_X}{s_Y} \\hat{\\beta_1}$."
   ]
  },
  {
   "cell_type": "markdown",
   "metadata": {},
   "source": [
    "## B. Computational Problems"
   ]
  },
  {
   "cell_type": "markdown",
   "metadata": {},
   "source": [
    "### Problem B.1\n",
    "\n",
    "#### (a) Using the divusa data, fit a regression of with divorce as the response and unemployed, femlab, marriage, birth, and military as predictors. Compute the variance inflation factors VIFs for each $\\widehat\\beta_j$, $j = 1,...,p$. Is there evidence that collinearity causes some predictors not to be significant? Explain your answer.\n",
    "\n"
   ]
  },
  {
   "cell_type": "code",
   "execution_count": 7,
   "metadata": {},
   "outputs": [
    {
     "data": {
      "text/plain": [
       "\n",
       "Call:\n",
       "lm(formula = divorce ~ . - year, data = divusa)\n",
       "\n",
       "Residuals:\n",
       "    Min      1Q  Median      3Q     Max \n",
       "-3.8611 -0.8916 -0.0496  0.8650  3.8300 \n",
       "\n",
       "Coefficients:\n",
       "            Estimate Std. Error t value Pr(>|t|)    \n",
       "(Intercept)  2.48784    3.39378   0.733   0.4659    \n",
       "unemployed  -0.11125    0.05592  -1.989   0.0505 .  \n",
       "femlab       0.38365    0.03059  12.543  < 2e-16 ***\n",
       "marriage     0.11867    0.02441   4.861 6.77e-06 ***\n",
       "birth       -0.12996    0.01560  -8.333 4.03e-12 ***\n",
       "military    -0.02673    0.01425  -1.876   0.0647 .  \n",
       "---\n",
       "Signif. codes:  0 '***' 0.001 '**' 0.01 '*' 0.05 '.' 0.1 ' ' 1\n",
       "\n",
       "Residual standard error: 1.65 on 71 degrees of freedom\n",
       "Multiple R-squared:  0.9208,\tAdjusted R-squared:  0.9152 \n",
       "F-statistic: 165.1 on 5 and 71 DF,  p-value: < 2.2e-16\n"
      ]
     },
     "metadata": {},
     "output_type": "display_data"
    },
    {
     "data": {
      "text/html": [
       "<dl class=dl-horizontal>\n",
       "\t<dt>unemployed</dt>\n",
       "\t\t<dd>2.25288785573732</dd>\n",
       "\t<dt>femlab</dt>\n",
       "\t\t<dd>3.61327568023518</dd>\n",
       "\t<dt>marriage</dt>\n",
       "\t\t<dd>2.86486398750274</dd>\n",
       "\t<dt>birth</dt>\n",
       "\t\t<dd>2.5854853502696</dd>\n",
       "\t<dt>military</dt>\n",
       "\t\t<dd>1.24959599784256</dd>\n",
       "</dl>\n"
      ],
      "text/latex": [
       "\\begin{description*}\n",
       "\\item[unemployed] 2.25288785573732\n",
       "\\item[femlab] 3.61327568023518\n",
       "\\item[marriage] 2.86486398750274\n",
       "\\item[birth] 2.5854853502696\n",
       "\\item[military] 1.24959599784256\n",
       "\\end{description*}\n"
      ],
      "text/markdown": [
       "unemployed\n",
       ":   2.25288785573732femlab\n",
       ":   3.61327568023518marriage\n",
       ":   2.86486398750274birth\n",
       ":   2.5854853502696military\n",
       ":   1.24959599784256\n",
       "\n"
      ],
      "text/plain": [
       "unemployed     femlab   marriage      birth   military \n",
       "  2.252888   3.613276   2.864864   2.585485   1.249596 "
      ]
     },
     "metadata": {},
     "output_type": "display_data"
    }
   ],
   "source": [
    "library(faraway) #vif() will calculate variance inflation factors...\n",
    "data(divusa)\n",
    "\n",
    "lmod = lm(divorce ~ . - year, data = divusa)\n",
    "summary(lmod)\n",
    "vif(lmod)"
   ]
  },
  {
   "cell_type": "markdown",
   "metadata": {},
   "source": [
    "The variance inflation factors of each variable is relatively low, as none of the factors exceed 4, meaning there is not significant correlation between any of the variables. We can also see that most of the standard errors of the model are similar and not that large (not including the intercept), which leads to us thinking that they are significant. However, the p-values of the unemployed and military variables are slightly above the 95% level, so we could remove those variables and see how the model fits."
   ]
  },
  {
   "cell_type": "markdown",
   "metadata": {},
   "source": [
    "#### (b) Does the removal of insignificant predictors from the model reduce the collinearity? Investigate."
   ]
  },
  {
   "cell_type": "code",
   "execution_count": 8,
   "metadata": {},
   "outputs": [
    {
     "data": {
      "text/plain": [
       "\n",
       "Call:\n",
       "lm(formula = divorce ~ femlab + marriage + birth, data = divusa)\n",
       "\n",
       "Residuals:\n",
       "    Min      1Q  Median      3Q     Max \n",
       "-3.6923 -1.1934 -0.0534  1.2265  3.6701 \n",
       "\n",
       "Coefficients:\n",
       "            Estimate Std. Error t value Pr(>|t|)    \n",
       "(Intercept) -1.54545    2.21247  -0.699    0.487    \n",
       "femlab       0.41337    0.02275  18.174  < 2e-16 ***\n",
       "marriage     0.12609    0.02199   5.735 2.07e-07 ***\n",
       "birth       -0.11627    0.01412  -8.235 5.10e-12 ***\n",
       "---\n",
       "Signif. codes:  0 '***' 0.001 '**' 0.01 '*' 0.05 '.' 0.1 ' ' 1\n",
       "\n",
       "Residual standard error: 1.695 on 73 degrees of freedom\n",
       "Multiple R-squared:  0.9141,\tAdjusted R-squared:  0.9106 \n",
       "F-statistic: 258.9 on 3 and 73 DF,  p-value: < 2.2e-16\n"
      ]
     },
     "metadata": {},
     "output_type": "display_data"
    },
    {
     "data": {
      "text/html": [
       "<dl class=dl-horizontal>\n",
       "\t<dt>femlab</dt>\n",
       "\t\t<dd>1.89339033653308</dd>\n",
       "\t<dt>marriage</dt>\n",
       "\t\t<dd>2.20189116801999</dd>\n",
       "\t<dt>birth</dt>\n",
       "\t\t<dd>2.00846940315787</dd>\n",
       "</dl>\n"
      ],
      "text/latex": [
       "\\begin{description*}\n",
       "\\item[femlab] 1.89339033653308\n",
       "\\item[marriage] 2.20189116801999\n",
       "\\item[birth] 2.00846940315787\n",
       "\\end{description*}\n"
      ],
      "text/markdown": [
       "femlab\n",
       ":   1.89339033653308marriage\n",
       ":   2.20189116801999birth\n",
       ":   2.00846940315787\n",
       "\n"
      ],
      "text/plain": [
       "  femlab marriage    birth \n",
       "1.893390 2.201891 2.008469 "
      ]
     },
     "metadata": {},
     "output_type": "display_data"
    }
   ],
   "source": [
    "lmod2 = lm(divorce ~ femlab + marriage + birth, data = divusa)\n",
    "summary(lmod2)\n",
    "vif(lmod2)"
   ]
  },
  {
   "cell_type": "markdown",
   "metadata": {},
   "source": [
    "By taking out the unemployed and military predictors, we reduced the collinearity of femlab from 3.61 to 1.89, which is a large change. The marriage and birth predictors changed by about 0.6 each, marriage from 2.86 to 2.20 and birth from 2.59 to 2.00, which is a smaller change. The amount in collinearity in the model was reduced by the removal of those predictors."
   ]
  },
  {
   "cell_type": "markdown",
   "metadata": {},
   "source": [
    "### Problem B.2\n",
    "\n",
    "The salmonella data was collected in a salmonella reverse mutagenicity essay. The predictor is the dose level of quinoline and the response is the numbers of revertant colonies of TA98 salmonella observed on each of three replicate plates. \n",
    "\n",
    "#### (a) Show that a Poisson GLM is inadequate and that some overdispersion must be allowed for. "
   ]
  },
  {
   "cell_type": "code",
   "execution_count": 9,
   "metadata": {
    "scrolled": false
   },
   "outputs": [
    {
     "data": {
      "text/html": [
       "<table>\n",
       "<thead><tr><th scope=col>colonies</th><th scope=col>dose</th></tr></thead>\n",
       "<tbody>\n",
       "\t<tr><td>15</td><td> 0</td></tr>\n",
       "\t<tr><td>21</td><td> 0</td></tr>\n",
       "\t<tr><td>29</td><td> 0</td></tr>\n",
       "\t<tr><td>16</td><td>10</td></tr>\n",
       "\t<tr><td>18</td><td>10</td></tr>\n",
       "\t<tr><td>21</td><td>10</td></tr>\n",
       "</tbody>\n",
       "</table>\n"
      ],
      "text/latex": [
       "\\begin{tabular}{r|ll}\n",
       " colonies & dose\\\\\n",
       "\\hline\n",
       "\t 15 &  0\\\\\n",
       "\t 21 &  0\\\\\n",
       "\t 29 &  0\\\\\n",
       "\t 16 & 10\\\\\n",
       "\t 18 & 10\\\\\n",
       "\t 21 & 10\\\\\n",
       "\\end{tabular}\n"
      ],
      "text/markdown": [
       "\n",
       "colonies | dose | \n",
       "|---|---|---|---|---|---|\n",
       "| 15 |  0 | \n",
       "| 21 |  0 | \n",
       "| 29 |  0 | \n",
       "| 16 | 10 | \n",
       "| 18 | 10 | \n",
       "| 21 | 10 | \n",
       "\n",
       "\n"
      ],
      "text/plain": [
       "  colonies dose\n",
       "1 15        0  \n",
       "2 21        0  \n",
       "3 29        0  \n",
       "4 16       10  \n",
       "5 18       10  \n",
       "6 21       10  "
      ]
     },
     "metadata": {},
     "output_type": "display_data"
    },
    {
     "data": {
      "text/plain": [
       "\n",
       "Call:\n",
       "glm(formula = colonies ~ dose, family = poisson, data = salmonella)\n",
       "\n",
       "Deviance Residuals: \n",
       "    Min       1Q   Median       3Q      Max  \n",
       "-2.6482  -1.8225  -0.2993   1.2917   5.1861  \n",
       "\n",
       "Coefficients:\n",
       "             Estimate Std. Error z value Pr(>|z|)    \n",
       "(Intercept) 3.3219950  0.0540292  61.485   <2e-16 ***\n",
       "dose        0.0001901  0.0001172   1.622    0.105    \n",
       "---\n",
       "Signif. codes:  0 '***' 0.001 '**' 0.01 '*' 0.05 '.' 0.1 ' ' 1\n",
       "\n",
       "(Dispersion parameter for poisson family taken to be 1)\n",
       "\n",
       "    Null deviance: 78.358  on 17  degrees of freedom\n",
       "Residual deviance: 75.806  on 16  degrees of freedom\n",
       "AIC: 172.34\n",
       "\n",
       "Number of Fisher Scoring iterations: 4\n"
      ]
     },
     "metadata": {},
     "output_type": "display_data"
    },
    {
     "data": {
      "text/html": [
       "<table>\n",
       "<thead><tr><th></th><th scope=col>Df</th><th scope=col>Deviance</th><th scope=col>AIC</th><th scope=col>LRT</th><th scope=col>Pr(&gt;Chi)</th></tr></thead>\n",
       "<tbody>\n",
       "\t<tr><th scope=row>&lt;none&gt;</th><td>NA       </td><td>75.80589 </td><td>172.3421 </td><td>      NA </td><td>       NA</td></tr>\n",
       "\t<tr><th scope=row>dose</th><td> 1       </td><td>78.35758 </td><td>172.8938 </td><td>2.551689 </td><td>0.1101764</td></tr>\n",
       "</tbody>\n",
       "</table>\n"
      ],
      "text/latex": [
       "\\begin{tabular}{r|lllll}\n",
       "  & Df & Deviance & AIC & LRT & Pr(>Chi)\\\\\n",
       "\\hline\n",
       "\t<none> & NA        & 75.80589  & 172.3421  &       NA  &        NA\\\\\n",
       "\tdose &  1        & 78.35758  & 172.8938  & 2.551689  & 0.1101764\\\\\n",
       "\\end{tabular}\n"
      ],
      "text/markdown": [
       "\n",
       "| <!--/--> | Df | Deviance | AIC | LRT | Pr(>Chi) | \n",
       "|---|---|\n",
       "| <none> | NA        | 75.80589  | 172.3421  |       NA  |        NA | \n",
       "| dose |  1        | 78.35758  | 172.8938  | 2.551689  | 0.1101764 | \n",
       "\n",
       "\n"
      ],
      "text/plain": [
       "       Df Deviance AIC      LRT      Pr(>Chi) \n",
       "<none> NA 75.80589 172.3421       NA        NA\n",
       "dose    1 78.35758 172.8938 2.551689 0.1101764"
      ]
     },
     "metadata": {},
     "output_type": "display_data"
    }
   ],
   "source": [
    "library(faraway)\n",
    "data(salmonella)\n",
    "head(salmonella)\n",
    "\n",
    "glmod = glm(colonies ~ dose, data = salmonella, family = poisson)\n",
    "summary(glmod)\n",
    "drop1(glmod, test = \"Chisq\")"
   ]
  },
  {
   "cell_type": "markdown",
   "metadata": {},
   "source": [
    "From the summary, we can see that the GLM is inadequate. First of all, the difference between the null deviance and residual deviance is small, meaning that fitting the model did not do much to address the variance in the data than just an intercept. From the drop1 function, we can also see that the dose predictor is not significant and increases the AIC of the model, meaning it can be removed."
   ]
  },
  {
   "cell_type": "markdown",
   "metadata": {},
   "source": [
    "#### (b) Estimate the overdispersion parameter and adjust the standard errors accordingly. "
   ]
  },
  {
   "cell_type": "code",
   "execution_count": 10,
   "metadata": {},
   "outputs": [
    {
     "data": {
      "text/html": [
       "5.08725759089023"
      ],
      "text/latex": [
       "5.08725759089023"
      ],
      "text/markdown": [
       "5.08725759089023"
      ],
      "text/plain": [
       "[1] 5.087258"
      ]
     },
     "metadata": {},
     "output_type": "display_data"
    },
    {
     "data": {
      "text/plain": [
       "\n",
       "Call:\n",
       "glm(formula = colonies ~ dose, family = poisson, data = salmonella)\n",
       "\n",
       "Deviance Residuals: \n",
       "    Min       1Q   Median       3Q      Max  \n",
       "-2.6482  -1.8225  -0.2993   1.2917   5.1861  \n",
       "\n",
       "Coefficients:\n",
       "             Estimate Std. Error z value Pr(>|z|)    \n",
       "(Intercept) 3.3219950  0.1218626  27.260   <2e-16 ***\n",
       "dose        0.0001901  0.0002644   0.719    0.472    \n",
       "---\n",
       "Signif. codes:  0 '***' 0.001 '**' 0.01 '*' 0.05 '.' 0.1 ' ' 1\n",
       "\n",
       "(Dispersion parameter for poisson family taken to be 5.087258)\n",
       "\n",
       "    Null deviance: 78.358  on 17  degrees of freedom\n",
       "Residual deviance: 75.806  on 16  degrees of freedom\n",
       "AIC: 172.34\n",
       "\n",
       "Number of Fisher Scoring iterations: 4\n"
      ]
     },
     "metadata": {},
     "output_type": "display_data"
    }
   ],
   "source": [
    "dp = sum(resid(glmod, type = \"pearson\")^2) / glmod$df.res;\n",
    "dp\n",
    "summary(glmod, dispersion = dp)"
   ]
  },
  {
   "cell_type": "markdown",
   "metadata": {},
   "source": [
    "### Problem B.3\n"
   ]
  },
  {
   "cell_type": "markdown",
   "metadata": {},
   "source": [
    "Consider the fat dataset, with percentage of body fat, siri, as the response and the other variables, except brozek and density, as potential predictors. \n",
    "\n",
    "#### Remove every tenth observation from the data for use as a test sample. Use the remaining data as a training sample building the following models:\n",
    "\n",
    "1. Linear regression with all mentioned predictors.\n",
    "2. Linear regression with variables selected using AIC.\n",
    "3. Principal component regression.\n",
    "4. Ridge regression.\n",
    "\n",
    "#### Use the models you find to predict the response in the test sample. Make a report on the performance of the models. "
   ]
  },
  {
   "cell_type": "code",
   "execution_count": 11,
   "metadata": {},
   "outputs": [
    {
     "data": {
      "text/html": [
       "<table>\n",
       "<thead><tr><th scope=col>brozek</th><th scope=col>siri</th><th scope=col>density</th><th scope=col>age</th><th scope=col>weight</th><th scope=col>height</th><th scope=col>adipos</th><th scope=col>free</th><th scope=col>neck</th><th scope=col>chest</th><th scope=col>abdom</th><th scope=col>hip</th><th scope=col>thigh</th><th scope=col>knee</th><th scope=col>ankle</th><th scope=col>biceps</th><th scope=col>forearm</th><th scope=col>wrist</th></tr></thead>\n",
       "<tbody>\n",
       "\t<tr><td>12.6  </td><td>12.3  </td><td>1.0708</td><td>23    </td><td>154.25</td><td>67.75 </td><td>23.7  </td><td>134.9 </td><td>36.2  </td><td> 93.1 </td><td> 85.2 </td><td> 94.5 </td><td>59.0  </td><td>37.3  </td><td>21.9  </td><td>32.0  </td><td>27.4  </td><td>17.1  </td></tr>\n",
       "\t<tr><td> 6.9  </td><td> 6.1  </td><td>1.0853</td><td>22    </td><td>173.25</td><td>72.25 </td><td>23.4  </td><td>161.3 </td><td>38.5  </td><td> 93.6 </td><td> 83.0 </td><td> 98.7 </td><td>58.7  </td><td>37.3  </td><td>23.4  </td><td>30.5  </td><td>28.9  </td><td>18.2  </td></tr>\n",
       "\t<tr><td>24.6  </td><td>25.3  </td><td>1.0414</td><td>22    </td><td>154.00</td><td>66.25 </td><td>24.7  </td><td>116.0 </td><td>34.0  </td><td> 95.8 </td><td> 87.9 </td><td> 99.2 </td><td>59.6  </td><td>38.9  </td><td>24.0  </td><td>28.8  </td><td>25.2  </td><td>16.6  </td></tr>\n",
       "\t<tr><td>10.9  </td><td>10.4  </td><td>1.0751</td><td>26    </td><td>184.75</td><td>72.25 </td><td>24.9  </td><td>164.7 </td><td>37.4  </td><td>101.8 </td><td> 86.4 </td><td>101.2 </td><td>60.1  </td><td>37.3  </td><td>22.8  </td><td>32.4  </td><td>29.4  </td><td>18.2  </td></tr>\n",
       "\t<tr><td>27.8  </td><td>28.7  </td><td>1.0340</td><td>24    </td><td>184.25</td><td>71.25 </td><td>25.6  </td><td>133.1 </td><td>34.4  </td><td> 97.3 </td><td>100.0 </td><td>101.9 </td><td>63.2  </td><td>42.2  </td><td>24.0  </td><td>32.2  </td><td>27.7  </td><td>17.7  </td></tr>\n",
       "\t<tr><td>20.6  </td><td>20.9  </td><td>1.0502</td><td>24    </td><td>210.25</td><td>74.75 </td><td>26.5  </td><td>167.0 </td><td>39.0  </td><td>104.5 </td><td> 94.4 </td><td>107.8 </td><td>66.0  </td><td>42.0  </td><td>25.6  </td><td>35.7  </td><td>30.6  </td><td>18.8  </td></tr>\n",
       "</tbody>\n",
       "</table>\n"
      ],
      "text/latex": [
       "\\begin{tabular}{r|llllllllllllllllll}\n",
       " brozek & siri & density & age & weight & height & adipos & free & neck & chest & abdom & hip & thigh & knee & ankle & biceps & forearm & wrist\\\\\n",
       "\\hline\n",
       "\t 12.6   & 12.3   & 1.0708 & 23     & 154.25 & 67.75  & 23.7   & 134.9  & 36.2   &  93.1  &  85.2  &  94.5  & 59.0   & 37.3   & 21.9   & 32.0   & 27.4   & 17.1  \\\\\n",
       "\t  6.9   &  6.1   & 1.0853 & 22     & 173.25 & 72.25  & 23.4   & 161.3  & 38.5   &  93.6  &  83.0  &  98.7  & 58.7   & 37.3   & 23.4   & 30.5   & 28.9   & 18.2  \\\\\n",
       "\t 24.6   & 25.3   & 1.0414 & 22     & 154.00 & 66.25  & 24.7   & 116.0  & 34.0   &  95.8  &  87.9  &  99.2  & 59.6   & 38.9   & 24.0   & 28.8   & 25.2   & 16.6  \\\\\n",
       "\t 10.9   & 10.4   & 1.0751 & 26     & 184.75 & 72.25  & 24.9   & 164.7  & 37.4   & 101.8  &  86.4  & 101.2  & 60.1   & 37.3   & 22.8   & 32.4   & 29.4   & 18.2  \\\\\n",
       "\t 27.8   & 28.7   & 1.0340 & 24     & 184.25 & 71.25  & 25.6   & 133.1  & 34.4   &  97.3  & 100.0  & 101.9  & 63.2   & 42.2   & 24.0   & 32.2   & 27.7   & 17.7  \\\\\n",
       "\t 20.6   & 20.9   & 1.0502 & 24     & 210.25 & 74.75  & 26.5   & 167.0  & 39.0   & 104.5  &  94.4  & 107.8  & 66.0   & 42.0   & 25.6   & 35.7   & 30.6   & 18.8  \\\\\n",
       "\\end{tabular}\n"
      ],
      "text/markdown": [
       "\n",
       "brozek | siri | density | age | weight | height | adipos | free | neck | chest | abdom | hip | thigh | knee | ankle | biceps | forearm | wrist | \n",
       "|---|---|---|---|---|---|\n",
       "| 12.6   | 12.3   | 1.0708 | 23     | 154.25 | 67.75  | 23.7   | 134.9  | 36.2   |  93.1  |  85.2  |  94.5  | 59.0   | 37.3   | 21.9   | 32.0   | 27.4   | 17.1   | \n",
       "|  6.9   |  6.1   | 1.0853 | 22     | 173.25 | 72.25  | 23.4   | 161.3  | 38.5   |  93.6  |  83.0  |  98.7  | 58.7   | 37.3   | 23.4   | 30.5   | 28.9   | 18.2   | \n",
       "| 24.6   | 25.3   | 1.0414 | 22     | 154.00 | 66.25  | 24.7   | 116.0  | 34.0   |  95.8  |  87.9  |  99.2  | 59.6   | 38.9   | 24.0   | 28.8   | 25.2   | 16.6   | \n",
       "| 10.9   | 10.4   | 1.0751 | 26     | 184.75 | 72.25  | 24.9   | 164.7  | 37.4   | 101.8  |  86.4  | 101.2  | 60.1   | 37.3   | 22.8   | 32.4   | 29.4   | 18.2   | \n",
       "| 27.8   | 28.7   | 1.0340 | 24     | 184.25 | 71.25  | 25.6   | 133.1  | 34.4   |  97.3  | 100.0  | 101.9  | 63.2   | 42.2   | 24.0   | 32.2   | 27.7   | 17.7   | \n",
       "| 20.6   | 20.9   | 1.0502 | 24     | 210.25 | 74.75  | 26.5   | 167.0  | 39.0   | 104.5  |  94.4  | 107.8  | 66.0   | 42.0   | 25.6   | 35.7   | 30.6   | 18.8   | \n",
       "\n",
       "\n"
      ],
      "text/plain": [
       "  brozek siri density age weight height adipos free  neck chest abdom hip  \n",
       "1 12.6   12.3 1.0708  23  154.25 67.75  23.7   134.9 36.2  93.1  85.2  94.5\n",
       "2  6.9    6.1 1.0853  22  173.25 72.25  23.4   161.3 38.5  93.6  83.0  98.7\n",
       "3 24.6   25.3 1.0414  22  154.00 66.25  24.7   116.0 34.0  95.8  87.9  99.2\n",
       "4 10.9   10.4 1.0751  26  184.75 72.25  24.9   164.7 37.4 101.8  86.4 101.2\n",
       "5 27.8   28.7 1.0340  24  184.25 71.25  25.6   133.1 34.4  97.3 100.0 101.9\n",
       "6 20.6   20.9 1.0502  24  210.25 74.75  26.5   167.0 39.0 104.5  94.4 107.8\n",
       "  thigh knee ankle biceps forearm wrist\n",
       "1 59.0  37.3 21.9  32.0   27.4    17.1 \n",
       "2 58.7  37.3 23.4  30.5   28.9    18.2 \n",
       "3 59.6  38.9 24.0  28.8   25.2    16.6 \n",
       "4 60.1  37.3 22.8  32.4   29.4    18.2 \n",
       "5 63.2  42.2 24.0  32.2   27.7    17.7 \n",
       "6 66.0  42.0 25.6  35.7   30.6    18.8 "
      ]
     },
     "metadata": {},
     "output_type": "display_data"
    },
    {
     "data": {
      "text/html": [
       "1.28035738666906"
      ],
      "text/latex": [
       "1.28035738666906"
      ],
      "text/markdown": [
       "1.28035738666906"
      ],
      "text/plain": [
       "[1] 1.280357"
      ]
     },
     "metadata": {},
     "output_type": "display_data"
    }
   ],
   "source": [
    "head(fat)\n",
    "# Find the number of rows of the data\n",
    "n = nrow(fat)\n",
    "# Create a sequence of every 10 words up to the number of rows\n",
    "s = seq(0, n, 10)\n",
    "# Split into training and testing sets of every 10th row.\n",
    "test = fat[s, ]\n",
    "test = test[ , -c(1, 3)]\n",
    "train = fat[-s, ]\n",
    "train = train[ , -c(1, 3)]\n",
    "# Fit the model on the training data\n",
    "lmod = lm(siri ~ . , data = train)\n",
    "# summary(lmod)\n",
    "\n",
    "# Predict the response of the test set using the model\n",
    "predMLR = predict(lmod, newdata = test)\n",
    "# Calculate the mean squared error to see how well its doing\n",
    "mseMLR = mean((test$siri - predMLR)^2)\n",
    "mseMLR"
   ]
  },
  {
   "cell_type": "markdown",
   "metadata": {},
   "source": [
    "We can use the mean squared error (MSE) between the true test values and our predicted values to get an approximation for how well our model is fitting the data. For the base MLR model with all the predictors, we get an MSE of 1.280. This value doesn't mean much on its own but will be useful when comparing the fits of the other models."
   ]
  },
  {
   "cell_type": "code",
   "execution_count": 12,
   "metadata": {
    "scrolled": false
   },
   "outputs": [
    {
     "name": "stdout",
     "output_type": "stream",
     "text": [
      "Start:  AIC=214.36\n",
      "siri ~ age + weight + height + adipos + free + neck + chest + \n",
      "    abdom + hip + thigh + knee + ankle + biceps + forearm + wrist\n",
      "\n",
      "          Df Sum of Sq    RSS    AIC\n",
      "- hip      1       0.0  506.9 212.37\n",
      "- neck     1       0.1  507.0 212.39\n",
      "- age      1       1.0  507.9 212.81\n",
      "- wrist    1       1.1  508.0 212.84\n",
      "- knee     1       3.1  510.0 213.75\n",
      "- height   1       3.6  510.4 213.94\n",
      "<none>                  506.9 214.36\n",
      "- biceps   1       5.3  512.2 214.73\n",
      "- ankle    1       5.7  512.6 214.89\n",
      "- chest    1      22.2  529.0 222.07\n",
      "- forearm  1      23.8  530.7 222.77\n",
      "- abdom    1      26.5  533.4 223.92\n",
      "- thigh    1      30.8  537.7 225.75\n",
      "- adipos   1      48.8  555.7 233.21\n",
      "- weight   1     582.4 1089.3 386.01\n",
      "- free     1    3456.8 3963.7 679.21\n",
      "\n",
      "Step:  AIC=212.37\n",
      "siri ~ age + weight + height + adipos + free + neck + chest + \n",
      "    abdom + thigh + knee + ankle + biceps + forearm + wrist\n",
      "\n",
      "          Df Sum of Sq    RSS    AIC\n",
      "- neck     1       0.1  507.0 210.40\n",
      "- age      1       1.0  507.9 210.81\n",
      "- wrist    1       1.1  508.0 210.86\n",
      "- knee     1       3.2  510.1 211.80\n",
      "- height   1       3.5  510.4 211.95\n",
      "<none>                  506.9 212.37\n",
      "- biceps   1       5.3  512.2 212.73\n",
      "- ankle    1       5.7  512.6 212.89\n",
      "- chest    1      23.1  530.0 220.50\n",
      "- forearm  1      23.8  530.7 220.78\n",
      "- abdom    1      27.9  534.9 222.55\n",
      "- thigh    1      34.2  541.2 225.21\n",
      "- adipos   1      50.3  557.2 231.85\n",
      "- weight   1     683.9 1190.8 404.23\n",
      "- free     1    3488.9 3995.8 679.05\n",
      "\n",
      "Step:  AIC=210.4\n",
      "siri ~ age + weight + height + adipos + free + chest + abdom + \n",
      "    thigh + knee + ankle + biceps + forearm + wrist\n",
      "\n",
      "          Df Sum of Sq    RSS    AIC\n",
      "- age      1       1.1  508.1 208.88\n",
      "- wrist    1       1.3  508.3 208.99\n",
      "- knee     1       3.1  510.1 209.80\n",
      "- height   1       3.6  510.6 210.02\n",
      "<none>                  507.0 210.40\n",
      "- biceps   1       5.4  512.4 210.80\n",
      "- ankle    1       5.6  512.6 210.89\n",
      "- chest    1      23.2  530.2 218.55\n",
      "- forearm  1      24.6  531.6 219.15\n",
      "- abdom    1      28.0  535.0 220.60\n",
      "- thigh    1      34.4  541.4 223.29\n",
      "- adipos   1      50.8  557.8 230.07\n",
      "- weight   1     689.6 1196.6 403.34\n",
      "- free     1    3532.0 4039.0 679.49\n",
      "\n",
      "Step:  AIC=208.88\n",
      "siri ~ weight + height + adipos + free + chest + abdom + thigh + \n",
      "    knee + ankle + biceps + forearm + wrist\n",
      "\n",
      "          Df Sum of Sq    RSS    AIC\n",
      "- wrist    1       2.9  511.0 208.19\n",
      "- height   1       3.3  511.4 208.35\n",
      "- knee     1       4.5  512.5 208.87\n",
      "<none>                  508.1 208.88\n",
      "- ankle    1       5.2  513.2 209.18\n",
      "- biceps   1       6.0  514.0 209.53\n",
      "- forearm  1      23.6  531.6 217.18\n",
      "- chest    1      24.2  532.3 217.46\n",
      "- abdom    1      33.7  541.8 221.48\n",
      "- thigh    1      35.3  543.3 222.12\n",
      "- adipos   1      51.1  559.1 228.63\n",
      "- weight   1     699.1 1207.2 403.34\n",
      "- free     1    3598.0 4106.0 681.23\n",
      "\n",
      "Step:  AIC=208.19\n",
      "siri ~ weight + height + adipos + free + chest + abdom + thigh + \n",
      "    knee + ankle + biceps + forearm\n",
      "\n",
      "          Df Sum of Sq    RSS    AIC\n",
      "- height   1       3.8  514.8 207.89\n",
      "<none>                  511.0 208.19\n",
      "- knee     1       5.7  516.7 208.72\n",
      "- ankle    1       6.9  517.9 209.24\n",
      "- biceps   1       7.0  518.0 209.30\n",
      "- chest    1      23.8  534.8 216.53\n",
      "- forearm  1      27.7  538.7 218.16\n",
      "- thigh    1      32.4  543.4 220.13\n",
      "- abdom    1      37.3  548.3 222.19\n",
      "- adipos   1      49.3  560.3 227.11\n",
      "- weight   1     696.5 1207.5 401.40\n",
      "- free     1    3798.4 4309.4 690.20\n",
      "\n",
      "Step:  AIC=207.89\n",
      "siri ~ weight + adipos + free + chest + abdom + thigh + knee + \n",
      "    ankle + biceps + forearm\n",
      "\n",
      "          Df Sum of Sq    RSS    AIC\n",
      "<none>                  514.8 207.89\n",
      "- knee     1       5.1  519.9 208.12\n",
      "- ankle    1       7.4  522.2 209.11\n",
      "- biceps   1       7.5  522.4 209.18\n",
      "- chest    1      24.0  538.9 216.25\n",
      "- forearm  1      28.8  543.6 218.23\n",
      "- thigh    1      30.0  544.8 218.73\n",
      "- abdom    1      39.1  553.9 222.49\n",
      "- adipos   1      86.6  601.4 241.18\n",
      "- weight   1     819.8 1334.7 422.13\n",
      "- free     1    3809.4 4324.2 688.98\n"
     ]
    },
    {
     "data": {
      "text/plain": [
       "\n",
       "Call:\n",
       "lm(formula = siri ~ weight + adipos + free + chest + abdom + \n",
       "    thigh + knee + ankle + biceps + forearm, data = train)\n",
       "\n",
       "Residuals:\n",
       "    Min      1Q  Median      3Q     Max \n",
       "-5.7926 -0.6839  0.2371  0.8824  6.8655 \n",
       "\n",
       "Coefficients:\n",
       "            Estimate Std. Error t value Pr(>|t|)    \n",
       "(Intercept) -7.24766    3.94171  -1.839 0.067331 .  \n",
       "weight       0.36973    0.01994  18.546  < 2e-16 ***\n",
       "adipos      -0.57022    0.09459  -6.028 7.09e-09 ***\n",
       "free        -0.55965    0.01400 -39.978  < 2e-16 ***\n",
       "chest        0.12099    0.03809   3.176 0.001709 ** \n",
       "abdom        0.15824    0.03908   4.049 7.18e-05 ***\n",
       "thigh        0.16140    0.04551   3.546 0.000479 ***\n",
       "knee         0.12767    0.08749   1.459 0.145947    \n",
       "ankle        0.13817    0.07858   1.758 0.080106 .  \n",
       "biceps       0.11222    0.06317   1.777 0.077055 .  \n",
       "forearm      0.24281    0.06990   3.474 0.000620 ***\n",
       "---\n",
       "Signif. codes:  0 '***' 0.001 '**' 0.01 '*' 0.05 '.' 0.1 ' ' 1\n",
       "\n",
       "Residual standard error: 1.544 on 216 degrees of freedom\n",
       "Multiple R-squared:  0.9687,\tAdjusted R-squared:  0.9673 \n",
       "F-statistic: 668.6 on 10 and 216 DF,  p-value: < 2.2e-16\n"
      ]
     },
     "metadata": {},
     "output_type": "display_data"
    },
    {
     "data": {
      "text/html": [
       "1.25892811834843"
      ],
      "text/latex": [
       "1.25892811834843"
      ],
      "text/markdown": [
       "1.25892811834843"
      ],
      "text/plain": [
       "[1] 1.258928"
      ]
     },
     "metadata": {},
     "output_type": "display_data"
    }
   ],
   "source": [
    "library(leaps)\n",
    "library(MASS)\n",
    "# Create a model with predictors from the AIC model\n",
    "lmodAIC = stepAIC(lmod)\n",
    "summary(lmodAIC)\n",
    "\n",
    "# Predict the response with the AIC model\n",
    "predAIC = predict(lmodAIC, newdata = test)\n",
    "# Compute the mean squared error to determine how well model is doing\n",
    "mseAIC = mean((test$siri - predAIC)^2)\n",
    "mseAIC"
   ]
  },
  {
   "cell_type": "markdown",
   "metadata": {},
   "source": [
    "The AIC model selection method gives us a mean squared error of 1.258, which is somehow less than the full model. Which is wierd. Because the MLR models has more predictors, it should be a better fit than the AIC model. Ignoring that, the MSE tells us that the AIC model does fit the data well while being simpler than the MLR model."
   ]
  },
  {
   "cell_type": "code",
   "execution_count": 13,
   "metadata": {},
   "outputs": [
    {
     "name": "stderr",
     "output_type": "stream",
     "text": [
      "Warning message:\n",
      "\"In summary.prcomp(prcomp(train[, -1]), scale = T) :\n",
      " extra argument 'scale' will be disregarded\""
     ]
    },
    {
     "data": {
      "text/plain": [
       "Importance of components:\n",
       "                           PC1     PC2     PC3     PC4     PC5     PC6     PC7\n",
       "Standard deviation     37.0474 14.5403 9.51132 3.63395 3.46200 2.54427 2.19986\n",
       "Proportion of Variance  0.7961  0.1226 0.05247 0.00766 0.00695 0.00375 0.00281\n",
       "Cumulative Proportion   0.7961  0.9187 0.97115 0.97881 0.98576 0.98952 0.99233\n",
       "                           PC8     PC9    PC10    PC11    PC12    PC13   PC14\n",
       "Standard deviation     1.85387 1.57678 1.41170 1.32373 1.24936 1.03687 0.8285\n",
       "Proportion of Variance 0.00199 0.00144 0.00116 0.00102 0.00091 0.00062 0.0004\n",
       "Cumulative Proportion  0.99432 0.99576 0.99692 0.99793 0.99884 0.99946 0.9999\n",
       "                          PC15\n",
       "Standard deviation     0.49086\n",
       "Proportion of Variance 0.00014\n",
       "Cumulative Proportion  1.00000"
      ]
     },
     "metadata": {},
     "output_type": "display_data"
    },
    {
     "data": {
      "text/html": [
       "1.28035738666906"
      ],
      "text/latex": [
       "1.28035738666906"
      ],
      "text/markdown": [
       "1.28035738666906"
      ],
      "text/plain": [
       "[1] 1.280357"
      ]
     },
     "metadata": {},
     "output_type": "display_data"
    }
   ],
   "source": [
    "# Fit a model using PCR\n",
    "# Create PCs\n",
    "s = prcomp(train[ , -1], scale = T)\n",
    "# Create a new table of result and the PC values\n",
    "df = data.frame(train$siri, s$x)\n",
    "# Fit a model frmo the PCs to the result\n",
    "lmodPCR = lm(train.siri ~ ., data = df)\n",
    "# summary(prcomp(train[ , -c(1,2,3)], scale = T))\n",
    "summary(prcomp(train[ , -1]), scale = T)\n",
    "\n",
    "eigen = s$rotation\n",
    "means = colMeans(train[, -1])\n",
    "sds = apply(train[, -1], 2, sd)\n",
    "testScaled = scale(test[ , -1], scale = sds, center = means)\n",
    "testPC = testScaled %*% eigen\n",
    "dfTest = data.frame(test$siri, testPC)\n",
    "# Predict the response with the PCR model\n",
    "predPCR = predict(lmodPCR, newdata = dfTest)\n",
    "# Compute the mean squared error to determine how well the model is doing\n",
    "msePCR = mean((test$siri - predPCR)^2)\n",
    "msePCR"
   ]
  },
  {
   "cell_type": "code",
   "execution_count": 14,
   "metadata": {},
   "outputs": [
    {
     "data": {
      "text/html": [
       "7.12763408461726"
      ],
      "text/latex": [
       "7.12763408461726"
      ],
      "text/markdown": [
       "7.12763408461726"
      ],
      "text/plain": [
       "[1] 7.127634"
      ]
     },
     "metadata": {},
     "output_type": "display_data"
    },
    {
     "data": {
      "text/html": [
       "12.1282375210024"
      ],
      "text/latex": [
       "12.1282375210024"
      ],
      "text/markdown": [
       "12.1282375210024"
      ],
      "text/plain": [
       "[1] 12.12824"
      ]
     },
     "metadata": {},
     "output_type": "display_data"
    }
   ],
   "source": [
    "lmodPCR2 = lm(train.siri ~ PC1 + PC2 + PC3 + PC4 + PC5 + PC6 + PC7, data = df)\n",
    "# Predict the response with the PCR model\n",
    "predPCR2 = predict(lmodPCR2, newdata = dfTest)\n",
    "# Compute the mean squared error to determine how well the model is doing\n",
    "mean((test$siri - predPCR2)^2)\n",
    "\n",
    "lmodPCR3 = lm(train.siri ~ PC1 + PC2, data = df)\n",
    "# Predict the response with the PCR model\n",
    "predPCR3 = predict(lmodPCR3, newdata = dfTest)\n",
    "# Compute the mean squared error to determine how well the model is doing\n",
    "mean((test$siri - predPCR3)^2)"
   ]
  },
  {
   "cell_type": "markdown",
   "metadata": {},
   "source": [
    "The mean squared error of the principal component regression model, when all the principle components, was 1.280 which is the same as the MSE for the MLR model. This makes sense because the PC regression is using all the same data, only transforming it into priciple components rather than predictors, so when we use all the principal components, we can only get as good of a fit as the MLR model. When we look at the principle components, we see that over 99% of the variance is included by the first seven PCs, which then gives us an MSE of $7.128$. When we take the first two PCs, which account for about 92% of the total variance, the MSE increases to $12.128$."
   ]
  },
  {
   "cell_type": "code",
   "execution_count": 15,
   "metadata": {},
   "outputs": [
    {
     "data": {
      "text/plain": [
       "\n",
       "Call:\n",
       "linearRidge(formula = siri ~ ., data = train)\n",
       "\n",
       "\n",
       "Coefficients:\n",
       "              Estimate Scaled estimate Std. Error (scaled) t value (scaled)\n",
       "(Intercept)  -46.63148              NA                  NA               NA\n",
       "age            0.01339         2.54266             2.49408            1.019\n",
       "weight         0.14456        65.11437             4.91825           13.239\n",
       "height         0.15443         8.71858             2.34155            3.723\n",
       "adipos        -0.09079        -5.04482             4.77756            1.056\n",
       "free          -0.43355      -119.40524             3.45520           34.558\n",
       "neck           0.05299         1.94946             3.45355            0.564\n",
       "chest          0.14785        19.05275             4.25804            4.475\n",
       "abdom          0.28830        47.30761             4.60364           10.276\n",
       "hip            0.13035        14.32576             4.61340            3.105\n",
       "thigh          0.19360        15.48606             4.07616            3.799\n",
       "knee           0.28107        10.27356             3.48413            2.949\n",
       "ankle          0.16972         4.44039             2.44160            1.819\n",
       "biceps         0.15935         7.20606             3.16800            2.275\n",
       "forearm        0.26718         8.20958             2.57443            3.189\n",
       "wrist         -0.14198        -2.03399             3.21341            0.633\n",
       "            Pr(>|t|)    \n",
       "(Intercept)       NA    \n",
       "age         0.307975    \n",
       "weight       < 2e-16 ***\n",
       "height      0.000197 ***\n",
       "adipos      0.290995    \n",
       "free         < 2e-16 ***\n",
       "neck        0.572428    \n",
       "chest       7.66e-06 ***\n",
       "abdom        < 2e-16 ***\n",
       "hip         0.001901 ** \n",
       "thigh       0.000145 ***\n",
       "knee        0.003191 ** \n",
       "ankle       0.068966 .  \n",
       "biceps      0.022927 *  \n",
       "forearm     0.001428 ** \n",
       "wrist       0.526752    \n",
       "---\n",
       "Signif. codes:  0 '***' 0.001 '**' 0.01 '*' 0.05 '.' 0.1 ' ' 1\n",
       "\n",
       "Ridge parameter: 0.03097475, chosen automatically, computed using 5 PCs\n",
       "\n",
       "Degrees of freedom: model 12.35 , variance 10.64 , residual 14.05 \n"
      ]
     },
     "metadata": {},
     "output_type": "display_data"
    },
    {
     "data": {
      "text/html": [
       "1.77316150184015"
      ],
      "text/latex": [
       "1.77316150184015"
      ],
      "text/markdown": [
       "1.77316150184015"
      ],
      "text/plain": [
       "[1] 1.773162"
      ]
     },
     "metadata": {},
     "output_type": "display_data"
    }
   ],
   "source": [
    "# Fit a model using ridge regression\n",
    "library(ridge)\n",
    "lmodRidge = linearRidge(siri ~ ., data = train)\n",
    "summary(lmodRidge)\n",
    "\n",
    "# Predict the response with the ridge model\n",
    "predRidge = predict(lmodRidge, newdata = test)\n",
    "# Compute the mean squared error to determine how well the model predicted\n",
    "mseRidge = mean((test$siri - predRidge)^2)\n",
    "mseRidge"
   ]
  },
  {
   "cell_type": "markdown",
   "metadata": {},
   "source": [
    "From the ridge regression model, we get a mean squared error of $1.773$. This is the highest of the models, but the values are still very close. The added bias of the ridge regression did not significantly reduce the variance of the model."
   ]
  },
  {
   "cell_type": "markdown",
   "metadata": {},
   "source": [
    "### Problem B.4\n",
    "\n",
    "Use the seatpos data with hipcenter as the response.\n",
    "\n",
    "#### (a) Fit a model with all eight predictors. Comment on the effect of leg length on the response. "
   ]
  },
  {
   "cell_type": "code",
   "execution_count": 16,
   "metadata": {},
   "outputs": [
    {
     "data": {
      "text/plain": [
       "\n",
       "Call:\n",
       "lm(formula = hipcenter ~ ., data = seatpos)\n",
       "\n",
       "Residuals:\n",
       "    Min      1Q  Median      3Q     Max \n",
       "-73.827 -22.833  -3.678  25.017  62.337 \n",
       "\n",
       "Coefficients:\n",
       "             Estimate Std. Error t value Pr(>|t|)  \n",
       "(Intercept) 436.43213  166.57162   2.620   0.0138 *\n",
       "Age           0.77572    0.57033   1.360   0.1843  \n",
       "Weight        0.02631    0.33097   0.080   0.9372  \n",
       "HtShoes      -2.69241    9.75304  -0.276   0.7845  \n",
       "Ht            0.60134   10.12987   0.059   0.9531  \n",
       "Seated        0.53375    3.76189   0.142   0.8882  \n",
       "Arm          -1.32807    3.90020  -0.341   0.7359  \n",
       "Thigh        -1.14312    2.66002  -0.430   0.6706  \n",
       "Leg          -6.43905    4.71386  -1.366   0.1824  \n",
       "---\n",
       "Signif. codes:  0 '***' 0.001 '**' 0.01 '*' 0.05 '.' 0.1 ' ' 1\n",
       "\n",
       "Residual standard error: 37.72 on 29 degrees of freedom\n",
       "Multiple R-squared:  0.6866,\tAdjusted R-squared:  0.6001 \n",
       "F-statistic:  7.94 on 8 and 29 DF,  p-value: 1.306e-05\n"
      ]
     },
     "metadata": {},
     "output_type": "display_data"
    },
    {
     "data": {
      "text/html": [
       "<table>\n",
       "<thead><tr><th></th><th scope=col>Df</th><th scope=col>Sum of Sq</th><th scope=col>RSS</th><th scope=col>AIC</th></tr></thead>\n",
       "<tbody>\n",
       "\t<tr><th scope=row>&lt;none&gt;</th><td>NA         </td><td>         NA</td><td>41261.78   </td><td>283.6240   </td></tr>\n",
       "\t<tr><th scope=row>Age</th><td> 1         </td><td>2632.116916</td><td>43893.90   </td><td>283.9739   </td></tr>\n",
       "\t<tr><th scope=row>Weight</th><td> 1         </td><td>   8.993219</td><td>41270.78   </td><td>281.6323   </td></tr>\n",
       "\t<tr><th scope=row>HtShoes</th><td> 1         </td><td> 108.430657</td><td>41370.21   </td><td>281.7238   </td></tr>\n",
       "\t<tr><th scope=row>Ht</th><td> 1         </td><td>   5.014051</td><td>41266.80   </td><td>281.6286   </td></tr>\n",
       "\t<tr><th scope=row>Seated</th><td> 1         </td><td>  28.642794</td><td>41290.43   </td><td>281.6504   </td></tr>\n",
       "\t<tr><th scope=row>Arm</th><td> 1         </td><td> 164.974942</td><td>41426.76   </td><td>281.7757   </td></tr>\n",
       "\t<tr><th scope=row>Thigh</th><td> 1         </td><td> 262.761526</td><td>41524.55   </td><td>281.8652   </td></tr>\n",
       "\t<tr><th scope=row>Leg</th><td> 1         </td><td>2654.848346</td><td>43916.63   </td><td>283.9936   </td></tr>\n",
       "</tbody>\n",
       "</table>\n"
      ],
      "text/latex": [
       "\\begin{tabular}{r|llll}\n",
       "  & Df & Sum of Sq & RSS & AIC\\\\\n",
       "\\hline\n",
       "\t<none> & NA          &          NA & 41261.78    & 283.6240   \\\\\n",
       "\tAge &  1          & 2632.116916 & 43893.90    & 283.9739   \\\\\n",
       "\tWeight &  1          &    8.993219 & 41270.78    & 281.6323   \\\\\n",
       "\tHtShoes &  1          &  108.430657 & 41370.21    & 281.7238   \\\\\n",
       "\tHt &  1          &    5.014051 & 41266.80    & 281.6286   \\\\\n",
       "\tSeated &  1          &   28.642794 & 41290.43    & 281.6504   \\\\\n",
       "\tArm &  1          &  164.974942 & 41426.76    & 281.7757   \\\\\n",
       "\tThigh &  1          &  262.761526 & 41524.55    & 281.8652   \\\\\n",
       "\tLeg &  1          & 2654.848346 & 43916.63    & 283.9936   \\\\\n",
       "\\end{tabular}\n"
      ],
      "text/markdown": [
       "\n",
       "| <!--/--> | Df | Sum of Sq | RSS | AIC | \n",
       "|---|---|---|---|---|---|---|---|---|\n",
       "| <none> | NA          |          NA | 41261.78    | 283.6240    | \n",
       "| Age |  1          | 2632.116916 | 43893.90    | 283.9739    | \n",
       "| Weight |  1          |    8.993219 | 41270.78    | 281.6323    | \n",
       "| HtShoes |  1          |  108.430657 | 41370.21    | 281.7238    | \n",
       "| Ht |  1          |    5.014051 | 41266.80    | 281.6286    | \n",
       "| Seated |  1          |   28.642794 | 41290.43    | 281.6504    | \n",
       "| Arm |  1          |  164.974942 | 41426.76    | 281.7757    | \n",
       "| Thigh |  1          |  262.761526 | 41524.55    | 281.8652    | \n",
       "| Leg |  1          | 2654.848346 | 43916.63    | 283.9936    | \n",
       "\n",
       "\n"
      ],
      "text/plain": [
       "        Df Sum of Sq   RSS      AIC     \n",
       "<none>  NA          NA 41261.78 283.6240\n",
       "Age      1 2632.116916 43893.90 283.9739\n",
       "Weight   1    8.993219 41270.78 281.6323\n",
       "HtShoes  1  108.430657 41370.21 281.7238\n",
       "Ht       1    5.014051 41266.80 281.6286\n",
       "Seated   1   28.642794 41290.43 281.6504\n",
       "Arm      1  164.974942 41426.76 281.7757\n",
       "Thigh    1  262.761526 41524.55 281.8652\n",
       "Leg      1 2654.848346 43916.63 283.9936"
      ]
     },
     "metadata": {},
     "output_type": "display_data"
    },
    {
     "data": {
      "text/html": [
       "<dl class=dl-horizontal>\n",
       "\t<dt>Age</dt>\n",
       "\t\t<dd>1.99793147706425</dd>\n",
       "\t<dt>Weight</dt>\n",
       "\t\t<dd>3.64703012881238</dd>\n",
       "\t<dt>HtShoes</dt>\n",
       "\t\t<dd>307.429378016707</dd>\n",
       "\t<dt>Ht</dt>\n",
       "\t\t<dd>333.137832387505</dd>\n",
       "\t<dt>Seated</dt>\n",
       "\t\t<dd>8.95105380156838</dd>\n",
       "\t<dt>Arm</dt>\n",
       "\t\t<dd>4.49636844261024</dd>\n",
       "\t<dt>Thigh</dt>\n",
       "\t\t<dd>2.76288552162403</dd>\n",
       "\t<dt>Leg</dt>\n",
       "\t\t<dd>6.69429122446835</dd>\n",
       "</dl>\n"
      ],
      "text/latex": [
       "\\begin{description*}\n",
       "\\item[Age] 1.99793147706425\n",
       "\\item[Weight] 3.64703012881238\n",
       "\\item[HtShoes] 307.429378016707\n",
       "\\item[Ht] 333.137832387505\n",
       "\\item[Seated] 8.95105380156838\n",
       "\\item[Arm] 4.49636844261024\n",
       "\\item[Thigh] 2.76288552162403\n",
       "\\item[Leg] 6.69429122446835\n",
       "\\end{description*}\n"
      ],
      "text/markdown": [
       "Age\n",
       ":   1.99793147706425Weight\n",
       ":   3.64703012881238HtShoes\n",
       ":   307.429378016707Ht\n",
       ":   333.137832387505Seated\n",
       ":   8.95105380156838Arm\n",
       ":   4.49636844261024Thigh\n",
       ":   2.76288552162403Leg\n",
       ":   6.69429122446835\n",
       "\n"
      ],
      "text/plain": [
       "       Age     Weight    HtShoes         Ht     Seated        Arm      Thigh \n",
       "  1.997931   3.647030 307.429378 333.137832   8.951054   4.496368   2.762886 \n",
       "       Leg \n",
       "  6.694291 "
      ]
     },
     "metadata": {},
     "output_type": "display_data"
    }
   ],
   "source": [
    "library(faraway)\n",
    "data(seatpos)\n",
    "\n",
    "lmod = lm(hipcenter ~ ., data = seatpos)\n",
    "summary(lmod)\n",
    "drop1(lmod)\n",
    "vif(lmod)"
   ]
  },
  {
   "cell_type": "markdown",
   "metadata": {},
   "source": [
    "The estimate of Leg is -6.44, meaning that every incease in leg by 1 decreases hipcenter by 6.44. The p-value of this estimate is above 0.05, so we can say that it is does not signficantly affect the result, but all of the predictors are not-significant, and Leg has the lowest p-value, so that might be important. When we look at the variance inflation factors, we can see that there is some correlation between leg length and other variables, so we can take that into account in fitting the model."
   ]
  },
  {
   "cell_type": "markdown",
   "metadata": {},
   "source": [
    "#### (b) Compute a 95% prediction interval for the response at the mean value of the predictors. "
   ]
  },
  {
   "cell_type": "code",
   "execution_count": 17,
   "metadata": {},
   "outputs": [
    {
     "data": {
      "text/html": [
       "<table>\n",
       "<thead><tr><th></th><th scope=col>fit</th><th scope=col>lwr</th><th scope=col>upr</th></tr></thead>\n",
       "<tbody>\n",
       "\t<tr><th scope=row>1</th><td>-164.8849</td><td>-243.04  </td><td>-86.72972</td></tr>\n",
       "</tbody>\n",
       "</table>\n"
      ],
      "text/latex": [
       "\\begin{tabular}{r|lll}\n",
       "  & fit & lwr & upr\\\\\n",
       "\\hline\n",
       "\t1 & -164.8849 & -243.04   & -86.72972\\\\\n",
       "\\end{tabular}\n"
      ],
      "text/markdown": [
       "\n",
       "| <!--/--> | fit | lwr | upr | \n",
       "|---|\n",
       "| 1 | -164.8849 | -243.04   | -86.72972 | \n",
       "\n",
       "\n"
      ],
      "text/plain": [
       "  fit       lwr     upr      \n",
       "1 -164.8849 -243.04 -86.72972"
      ]
     },
     "metadata": {},
     "output_type": "display_data"
    }
   ],
   "source": [
    "means = colMeans(seatpos)\n",
    "means = data.frame(t(means))\n",
    "\n",
    "\n",
    "pred = predict(lmod, newdata = means, interval = \"prediction\")\n",
    "pred"
   ]
  },
  {
   "cell_type": "markdown",
   "metadata": {},
   "source": [
    "The 95% prediction interval for the full model is [-243.04, -86.73]."
   ]
  },
  {
   "cell_type": "markdown",
   "metadata": {},
   "source": [
    "#### (c) Use AIC to select a model. Now interpret the effect of leg length and compute the prediction interval. Compare the conclusions from the two models. "
   ]
  },
  {
   "cell_type": "code",
   "execution_count": 18,
   "metadata": {
    "scrolled": false
   },
   "outputs": [
    {
     "name": "stdout",
     "output_type": "stream",
     "text": [
      "Start:  AIC=283.62\n",
      "hipcenter ~ Age + Weight + HtShoes + Ht + Seated + Arm + Thigh + \n",
      "    Leg\n",
      "\n",
      "          Df Sum of Sq   RSS    AIC\n",
      "- Ht       1      5.01 41267 281.63\n",
      "- Weight   1      8.99 41271 281.63\n",
      "- Seated   1     28.64 41290 281.65\n",
      "- HtShoes  1    108.43 41370 281.72\n",
      "- Arm      1    164.97 41427 281.78\n",
      "- Thigh    1    262.76 41525 281.87\n",
      "<none>                 41262 283.62\n",
      "- Age      1   2632.12 43894 283.97\n",
      "- Leg      1   2654.85 43917 283.99\n",
      "\n",
      "Step:  AIC=281.63\n",
      "hipcenter ~ Age + Weight + HtShoes + Seated + Arm + Thigh + Leg\n",
      "\n",
      "          Df Sum of Sq   RSS    AIC\n",
      "- Weight   1     11.10 41278 279.64\n",
      "- Seated   1     30.52 41297 279.66\n",
      "- Arm      1    160.50 41427 279.78\n",
      "- Thigh    1    269.08 41536 279.88\n",
      "- HtShoes  1    971.84 42239 280.51\n",
      "<none>                 41267 281.63\n",
      "- Leg      1   2664.65 43931 282.01\n",
      "- Age      1   2808.52 44075 282.13\n",
      "\n",
      "Step:  AIC=279.64\n",
      "hipcenter ~ Age + HtShoes + Seated + Arm + Thigh + Leg\n",
      "\n",
      "          Df Sum of Sq   RSS    AIC\n",
      "- Seated   1     35.10 41313 277.67\n",
      "- Arm      1    156.47 41434 277.78\n",
      "- Thigh    1    285.16 41563 277.90\n",
      "- HtShoes  1    975.48 42253 278.53\n",
      "<none>                 41278 279.64\n",
      "- Leg      1   2661.39 43939 280.01\n",
      "- Age      1   3011.86 44290 280.31\n",
      "\n",
      "Step:  AIC=277.67\n",
      "hipcenter ~ Age + HtShoes + Arm + Thigh + Leg\n",
      "\n",
      "          Df Sum of Sq   RSS    AIC\n",
      "- Arm      1    172.02 41485 275.83\n",
      "- Thigh    1    344.61 41658 275.99\n",
      "- HtShoes  1   1853.43 43166 277.34\n",
      "<none>                 41313 277.67\n",
      "- Leg      1   2871.07 44184 278.22\n",
      "- Age      1   2976.77 44290 278.31\n",
      "\n",
      "Step:  AIC=275.83\n",
      "hipcenter ~ Age + HtShoes + Thigh + Leg\n",
      "\n",
      "          Df Sum of Sq   RSS    AIC\n",
      "- Thigh    1     472.8 41958 274.26\n",
      "<none>                 41485 275.83\n",
      "- HtShoes  1    2340.7 43826 275.92\n",
      "- Age      1    3501.0 44986 276.91\n",
      "- Leg      1    3591.7 45077 276.98\n",
      "\n",
      "Step:  AIC=274.26\n",
      "hipcenter ~ Age + HtShoes + Leg\n",
      "\n",
      "          Df Sum of Sq   RSS    AIC\n",
      "<none>                 41958 274.26\n",
      "- Age      1    3108.8 45067 274.98\n",
      "- Leg      1    3476.3 45434 275.28\n",
      "- HtShoes  1    4218.6 46176 275.90\n"
     ]
    },
    {
     "data": {
      "text/plain": [
       "\n",
       "Call:\n",
       "lm(formula = hipcenter ~ Age + HtShoes + Leg, data = seatpos)\n",
       "\n",
       "Residuals:\n",
       "    Min      1Q  Median      3Q     Max \n",
       "-79.269 -22.770  -4.342  21.853  60.907 \n",
       "\n",
       "Coefficients:\n",
       "            Estimate Std. Error t value Pr(>|t|)    \n",
       "(Intercept) 456.2137   102.8078   4.438 9.09e-05 ***\n",
       "Age           0.5998     0.3779   1.587   0.1217    \n",
       "HtShoes      -2.3023     1.2452  -1.849   0.0732 .  \n",
       "Leg          -6.8297     4.0693  -1.678   0.1024    \n",
       "---\n",
       "Signif. codes:  0 '***' 0.001 '**' 0.01 '*' 0.05 '.' 0.1 ' ' 1\n",
       "\n",
       "Residual standard error: 35.13 on 34 degrees of freedom\n",
       "Multiple R-squared:  0.6813,\tAdjusted R-squared:  0.6531 \n",
       "F-statistic: 24.22 on 3 and 34 DF,  p-value: 1.437e-08\n"
      ]
     },
     "metadata": {},
     "output_type": "display_data"
    },
    {
     "data": {
      "text/html": [
       "<dl class=dl-horizontal>\n",
       "\t<dt>Age</dt>\n",
       "\t\t<dd>1.01146740074024</dd>\n",
       "\t<dt>HtShoes</dt>\n",
       "\t\t<dd>5.77775236964156</dd>\n",
       "\t<dt>Leg</dt>\n",
       "\t\t<dd>5.75172854026637</dd>\n",
       "</dl>\n"
      ],
      "text/latex": [
       "\\begin{description*}\n",
       "\\item[Age] 1.01146740074024\n",
       "\\item[HtShoes] 5.77775236964156\n",
       "\\item[Leg] 5.75172854026637\n",
       "\\end{description*}\n"
      ],
      "text/markdown": [
       "Age\n",
       ":   1.01146740074024HtShoes\n",
       ":   5.77775236964156Leg\n",
       ":   5.75172854026637\n",
       "\n"
      ],
      "text/plain": [
       "     Age  HtShoes      Leg \n",
       "1.011467 5.777752 5.751729 "
      ]
     },
     "metadata": {},
     "output_type": "display_data"
    }
   ],
   "source": [
    "library(MASS)\n",
    "lmodAIC = stepAIC(lmod)\n",
    "summary(lmodAIC)\n",
    "vif(lmodAIC)"
   ]
  },
  {
   "cell_type": "code",
   "execution_count": 19,
   "metadata": {},
   "outputs": [
    {
     "data": {
      "text/html": [
       "<table>\n",
       "<thead><tr><th></th><th scope=col>fit</th><th scope=col>lwr</th><th scope=col>upr</th></tr></thead>\n",
       "<tbody>\n",
       "\t<tr><th scope=row>1</th><td>-164.8849</td><td>-237.209 </td><td>-92.56072</td></tr>\n",
       "</tbody>\n",
       "</table>\n"
      ],
      "text/latex": [
       "\\begin{tabular}{r|lll}\n",
       "  & fit & lwr & upr\\\\\n",
       "\\hline\n",
       "\t1 & -164.8849 & -237.209  & -92.56072\\\\\n",
       "\\end{tabular}\n"
      ],
      "text/markdown": [
       "\n",
       "| <!--/--> | fit | lwr | upr | \n",
       "|---|\n",
       "| 1 | -164.8849 | -237.209  | -92.56072 | \n",
       "\n",
       "\n"
      ],
      "text/plain": [
       "  fit       lwr      upr      \n",
       "1 -164.8849 -237.209 -92.56072"
      ]
     },
     "metadata": {},
     "output_type": "display_data"
    }
   ],
   "source": [
    "predict(lmodAIC, newdata = means, interval = \"predict\")"
   ]
  },
  {
   "cell_type": "code",
   "execution_count": 20,
   "metadata": {},
   "outputs": [
    {
     "data": {
      "text/html": [
       "<table>\n",
       "<thead><tr><th scope=col>Res.Df</th><th scope=col>RSS</th><th scope=col>Df</th><th scope=col>Sum of Sq</th><th scope=col>F</th><th scope=col>Pr(&gt;F)</th></tr></thead>\n",
       "<tbody>\n",
       "\t<tr><td>34        </td><td>41957.79  </td><td>NA        </td><td>      NA  </td><td>        NA</td><td>       NA </td></tr>\n",
       "\t<tr><td>29        </td><td>41261.78  </td><td> 5        </td><td>696.0084  </td><td>0.09783506</td><td>0.9917649 </td></tr>\n",
       "</tbody>\n",
       "</table>\n"
      ],
      "text/latex": [
       "\\begin{tabular}{r|llllll}\n",
       " Res.Df & RSS & Df & Sum of Sq & F & Pr(>F)\\\\\n",
       "\\hline\n",
       "\t 34         & 41957.79   & NA         &       NA   &         NA &        NA \\\\\n",
       "\t 29         & 41261.78   &  5         & 696.0084   & 0.09783506 & 0.9917649 \\\\\n",
       "\\end{tabular}\n"
      ],
      "text/markdown": [
       "\n",
       "Res.Df | RSS | Df | Sum of Sq | F | Pr(>F) | \n",
       "|---|---|\n",
       "| 34         | 41957.79   | NA         |       NA   |         NA |        NA  | \n",
       "| 29         | 41261.78   |  5         | 696.0084   | 0.09783506 | 0.9917649  | \n",
       "\n",
       "\n"
      ],
      "text/plain": [
       "  Res.Df RSS      Df Sum of Sq F          Pr(>F)   \n",
       "1 34     41957.79 NA       NA          NA        NA\n",
       "2 29     41261.78  5 696.0084  0.09783506 0.9917649"
      ]
     },
     "metadata": {},
     "output_type": "display_data"
    }
   ],
   "source": [
    "anova(lmodAIC, lmod, test = \"F\")"
   ]
  },
  {
   "cell_type": "markdown",
   "metadata": {},
   "source": [
    "With the reduced model, we see that the estimated coefficient is -6.83, meaning that each increase in left length by 1 would decrease hipcenter by 6.83, which is greater greater than the full model. The p-value of the leg-estimate is also less in the reduced model than the full model, from 0.182 to 0.102. The p-value is still high for the value to be significicant, which is likely because of the high variance inflation factor of Leg, which is again less than in the full model. The prediction interval is [-237.21, -92.56] with a fit of -164.88. With an ANOVA test, we get a p-value of 0.992, which strongly supports that the reduced model is the same as the full model, so we should use the reduced model."
   ]
  },
  {
   "cell_type": "markdown",
   "metadata": {},
   "source": [
    "### Problem B.5\n",
    "\n",
    "#### Use the teengamb data with gamble as the response and the other variables as predictors. Implement the following variable selection methods to determine the \"best\" model:\n",
    "\n",
    "1. Backward Elimination\n",
    "2. AIC\n",
    "3. Adjusted $R^2$."
   ]
  },
  {
   "cell_type": "code",
   "execution_count": 27,
   "metadata": {},
   "outputs": [
    {
     "data": {
      "text/plain": [
       "\n",
       "Call:\n",
       "lm(formula = gamble ~ ., data = teengamb)\n",
       "\n",
       "Residuals:\n",
       "    Min      1Q  Median      3Q     Max \n",
       "-51.082 -11.320  -1.451   9.452  94.252 \n",
       "\n",
       "Coefficients:\n",
       "             Estimate Std. Error t value Pr(>|t|)    \n",
       "(Intercept)  22.55565   17.19680   1.312   0.1968    \n",
       "sex         -22.11833    8.21111  -2.694   0.0101 *  \n",
       "status        0.05223    0.28111   0.186   0.8535    \n",
       "income        4.96198    1.02539   4.839 1.79e-05 ***\n",
       "verbal       -2.95949    2.17215  -1.362   0.1803    \n",
       "---\n",
       "Signif. codes:  0 '***' 0.001 '**' 0.01 '*' 0.05 '.' 0.1 ' ' 1\n",
       "\n",
       "Residual standard error: 22.69 on 42 degrees of freedom\n",
       "Multiple R-squared:  0.5267,\tAdjusted R-squared:  0.4816 \n",
       "F-statistic: 11.69 on 4 and 42 DF,  p-value: 1.815e-06\n"
      ]
     },
     "metadata": {},
     "output_type": "display_data"
    },
    {
     "data": {
      "text/html": [
       "<strong>status:</strong> 3"
      ],
      "text/latex": [
       "\\textbf{status:} 3"
      ],
      "text/markdown": [
       "**status:** 3"
      ],
      "text/plain": [
       "status \n",
       "     3 "
      ]
     },
     "metadata": {},
     "output_type": "display_data"
    },
    {
     "data": {
      "text/plain": [
       "\n",
       "Call:\n",
       "lm(formula = gamble ~ sex + income + verbal, data = teengamb)\n",
       "\n",
       "Residuals:\n",
       "    Min      1Q  Median      3Q     Max \n",
       "-50.639 -11.765  -1.594   9.305  93.867 \n",
       "\n",
       "Coefficients:\n",
       "            Estimate Std. Error t value Pr(>|t|)    \n",
       "(Intercept)  24.1390    14.7686   1.634   0.1095    \n",
       "sex         -22.9602     6.7706  -3.391   0.0015 ** \n",
       "income        4.8981     0.9551   5.128 6.64e-06 ***\n",
       "verbal       -2.7468     1.8253  -1.505   0.1397    \n",
       "---\n",
       "Signif. codes:  0 '***' 0.001 '**' 0.01 '*' 0.05 '.' 0.1 ' ' 1\n",
       "\n",
       "Residual standard error: 22.43 on 43 degrees of freedom\n",
       "Multiple R-squared:  0.5263,\tAdjusted R-squared:  0.4933 \n",
       "F-statistic: 15.93 on 3 and 43 DF,  p-value: 4.148e-07\n"
      ]
     },
     "metadata": {},
     "output_type": "display_data"
    }
   ],
   "source": [
    "library(faraway)\n",
    "data(teengamb)\n",
    "# Backward selection\n",
    "lmod = lm(gamble ~ ., data = teengamb)\n",
    "summary(lmod)\n",
    "# First step\n",
    "cc = coef(summary(lmod))  # coefficient table\n",
    "lnSigVariable = which.max(cc[,\"Pr(>|t|)\"]) # Get row with largest p-value\n",
    "lnSigVariable\n",
    "lmod2 = update(lmod, . ~ . - status)\n",
    "summary(lmod2)"
   ]
  },
  {
   "cell_type": "code",
   "execution_count": 23,
   "metadata": {},
   "outputs": [
    {
     "name": "stdout",
     "output_type": "stream",
     "text": [
      "Start:  AIC=298.18\n",
      "gamble ~ sex + status + income + verbal\n",
      "\n",
      "         Df Sum of Sq   RSS    AIC\n",
      "- status  1      17.8 21642 296.21\n",
      "<none>                21624 298.18\n",
      "- verbal  1     955.7 22580 298.21\n",
      "- sex     1    3735.8 25360 303.67\n",
      "- income  1   12056.2 33680 317.00\n",
      "\n",
      "Step:  AIC=296.21\n",
      "gamble ~ sex + income + verbal\n",
      "\n",
      "         Df Sum of Sq   RSS    AIC\n",
      "<none>                21642 296.21\n",
      "- verbal  1    1139.8 22781 296.63\n",
      "- sex     1    5787.9 27429 305.35\n",
      "- income  1   13236.1 34878 316.64\n"
     ]
    },
    {
     "data": {
      "text/plain": [
       "\n",
       "Call:\n",
       "lm(formula = gamble ~ sex + income + verbal, data = teengamb)\n",
       "\n",
       "Residuals:\n",
       "    Min      1Q  Median      3Q     Max \n",
       "-50.639 -11.765  -1.594   9.305  93.867 \n",
       "\n",
       "Coefficients:\n",
       "            Estimate Std. Error t value Pr(>|t|)    \n",
       "(Intercept)  24.1390    14.7686   1.634   0.1095    \n",
       "sex         -22.9602     6.7706  -3.391   0.0015 ** \n",
       "income        4.8981     0.9551   5.128 6.64e-06 ***\n",
       "verbal       -2.7468     1.8253  -1.505   0.1397    \n",
       "---\n",
       "Signif. codes:  0 '***' 0.001 '**' 0.01 '*' 0.05 '.' 0.1 ' ' 1\n",
       "\n",
       "Residual standard error: 22.43 on 43 degrees of freedom\n",
       "Multiple R-squared:  0.5263,\tAdjusted R-squared:  0.4933 \n",
       "F-statistic: 15.93 on 3 and 43 DF,  p-value: 4.148e-07\n"
      ]
     },
     "metadata": {},
     "output_type": "display_data"
    }
   ],
   "source": [
    "# AIC model\n",
    "lmodAIC = stepAIC(lmod)\n",
    "summary(lmodAIC)"
   ]
  },
  {
   "cell_type": "code",
   "execution_count": 32,
   "metadata": {},
   "outputs": [
    {
     "data": {
      "text/html": [
       "0.48164945214357"
      ],
      "text/latex": [
       "0.48164945214357"
      ],
      "text/markdown": [
       "0.48164945214357"
      ],
      "text/plain": [
       "[1] 0.4816495"
      ]
     },
     "metadata": {},
     "output_type": "display_data"
    },
    {
     "data": {
      "text/html": [
       "0.406234834924348"
      ],
      "text/latex": [
       "0.406234834924348"
      ],
      "text/markdown": [
       "0.406234834924348"
      ],
      "text/plain": [
       "[1] 0.4062348"
      ]
     },
     "metadata": {},
     "output_type": "display_data"
    },
    {
     "data": {
      "text/html": [
       "0.211421017769616"
      ],
      "text/latex": [
       "0.211421017769616"
      ],
      "text/markdown": [
       "0.211421017769616"
      ],
      "text/plain": [
       "[1] 0.211421"
      ]
     },
     "metadata": {},
     "output_type": "display_data"
    },
    {
     "data": {
      "text/html": [
       "0.49328791638237"
      ],
      "text/latex": [
       "0.49328791638237"
      ],
      "text/markdown": [
       "0.49328791638237"
      ],
      "text/plain": [
       "[1] 0.4932879"
      ]
     },
     "metadata": {},
     "output_type": "display_data"
    },
    {
     "data": {
      "text/html": [
       "0.471326690089365"
      ],
      "text/latex": [
       "0.471326690089365"
      ],
      "text/markdown": [
       "0.471326690089365"
      ],
      "text/plain": [
       "[1] 0.4713267"
      ]
     },
     "metadata": {},
     "output_type": "display_data"
    },
    {
     "data": {
      "text/html": [
       "0.0116281354112333"
      ],
      "text/latex": [
       "0.0116281354112333"
      ],
      "text/markdown": [
       "0.0116281354112333"
      ],
      "text/plain": [
       "[1] 0.01162814"
      ]
     },
     "metadata": {},
     "output_type": "display_data"
    },
    {
     "data": {
      "text/html": [
       "0.372367017922647"
      ],
      "text/latex": [
       "0.372367017922647"
      ],
      "text/markdown": [
       "0.372367017922647"
      ],
      "text/plain": [
       "[1] 0.372367"
      ]
     },
     "metadata": {},
     "output_type": "display_data"
    },
    {
     "data": {
      "text/html": [
       "0.375584415165022"
      ],
      "text/latex": [
       "0.375584415165022"
      ],
      "text/markdown": [
       "0.375584415165022"
      ],
      "text/plain": [
       "[1] 0.3755844"
      ]
     },
     "metadata": {},
     "output_type": "display_data"
    },
    {
     "data": {
      "text/html": [
       "0.201939830905886"
      ],
      "text/latex": [
       "0.201939830905886"
      ],
      "text/markdown": [
       "0.201939830905886"
      ],
      "text/plain": [
       "[1] 0.2019398"
      ]
     },
     "metadata": {},
     "output_type": "display_data"
    },
    {
     "data": {
      "text/html": [
       "0.211080979482153"
      ],
      "text/latex": [
       "0.211080979482153"
      ],
      "text/markdown": [
       "0.211080979482153"
      ],
      "text/plain": [
       "[1] 0.211081"
      ]
     },
     "metadata": {},
     "output_type": "display_data"
    },
    {
     "data": {
      "text/html": [
       "0.478724032358494"
      ],
      "text/latex": [
       "0.478724032358494"
      ],
      "text/markdown": [
       "0.478724032358494"
      ],
      "text/plain": [
       "[1] 0.478724"
      ]
     },
     "metadata": {},
     "output_type": "display_data"
    },
    {
     "data": {
      "text/html": [
       "0.0272786099193645"
      ],
      "text/latex": [
       "0.0272786099193645"
      ],
      "text/markdown": [
       "0.0272786099193645"
      ],
      "text/plain": [
       "[1] 0.02727861"
      ]
     },
     "metadata": {},
     "output_type": "display_data"
    },
    {
     "data": {
      "text/html": [
       "-0.0196234696853568"
      ],
      "text/latex": [
       "-0.0196234696853568"
      ],
      "text/markdown": [
       "-0.0196234696853568"
      ],
      "text/plain": [
       "[1] -0.01962347"
      ]
     },
     "metadata": {},
     "output_type": "display_data"
    },
    {
     "data": {
      "text/html": [
       "0.373356999112465"
      ],
      "text/latex": [
       "0.373356999112465"
      ],
      "text/markdown": [
       "0.373356999112465"
      ],
      "text/plain": [
       "[1] 0.373357"
      ]
     },
     "metadata": {},
     "output_type": "display_data"
    },
    {
     "data": {
      "text/html": [
       "0.147778637800387"
      ],
      "text/latex": [
       "0.147778637800387"
      ],
      "text/markdown": [
       "0.147778637800387"
      ],
      "text/plain": [
       "[1] 0.1477786"
      ]
     },
     "metadata": {},
     "output_type": "display_data"
    },
    {
     "data": {
      "text/html": [
       "0"
      ],
      "text/latex": [
       "0"
      ],
      "text/markdown": [
       "0"
      ],
      "text/plain": [
       "[1] 0"
      ]
     },
     "metadata": {},
     "output_type": "display_data"
    }
   ],
   "source": [
    "# Find model with highest adjusted r squared\n",
    "summary(lm(gamble ~ ., data = teengamb))$adj.r.squared\n",
    "summary(lm(gamble ~ . - sex, data = teengamb))$adj.r.squared\n",
    "summary(lm(gamble ~ . - income, data = teengamb))$adj.r.squared\n",
    "summary(lm(gamble ~ . - status, data = teengamb))$adj.r.squared\n",
    "summary(lm(gamble ~ . - verbal, data = teengamb))$adj.r.squared\n",
    "summary(lm(gamble ~ . - sex - income, data = teengamb))$adj.r.squared\n",
    "summary(lm(gamble ~ . - sex - status, data = teengamb))$adj.r.squared\n",
    "summary(lm(gamble ~ . - sex - verbal, data = teengamb))$adj.r.squared\n",
    "summary(lm(gamble ~ . - income - status, data = teengamb))$adj.r.squared\n",
    "summary(lm(gamble ~ . - income - verbal, data = teengamb))$adj.r.squared\n",
    "summary(lm(gamble ~ . - status - verbal, data = teengamb))$adj.r.squared\n",
    "summary(lm(gamble ~ . - sex - income - status, data = teengamb))$adj.r.squared\n",
    "summary(lm(gamble ~ . - sex - income - verbal, data = teengamb))$adj.r.squared\n",
    "summary(lm(gamble ~ . - sex - status - verbal, data = teengamb))$adj.r.squared\n",
    "summary(lm(gamble ~ . - income - status - verbal, data = teengamb))$adj.r.squared\n",
    "summary(lm(gamble ~ . - sex - income - status - verbal, data = teengamb))$adj.r.squared"
   ]
  },
  {
   "cell_type": "markdown",
   "metadata": {},
   "source": [
    "All three methods agree that the having the predictors sex, income and verbal is the best fit for the model with the least number of predictors. The backward selection has all p-values of predictors under $\\alpha = 0.15,$ the AIC function stopped at the three predictors, and the three predictors had the highest adjusted $R^2$ value of 0.493."
   ]
  },
  {
   "cell_type": "code",
   "execution_count": null,
   "metadata": {},
   "outputs": [],
   "source": []
  }
 ],
 "metadata": {
  "kernelspec": {
   "display_name": "R",
   "language": "R",
   "name": "ir"
  },
  "language_info": {
   "codemirror_mode": "r",
   "file_extension": ".r",
   "mimetype": "text/x-r-source",
   "name": "R",
   "pygments_lexer": "r",
   "version": "3.4.3"
  }
 },
 "nbformat": 4,
 "nbformat_minor": 2
}
