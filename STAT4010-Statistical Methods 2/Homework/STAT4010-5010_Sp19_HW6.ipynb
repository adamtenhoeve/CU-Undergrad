{
 "cells": [
  {
   "cell_type": "markdown",
   "metadata": {},
   "source": [
    "# Homework #6\n",
    "\n",
    "**Due by midnight on Friday March 15, 2019**. Complete all of the following problems. Ideally, the theoretical problems should be answered in a Markdown cell directly underneath the question. If you don't know LaTex/Markdown, you may submit separate handwritten solutions to the theoretical problems. Please do not turn in messy work. Computational problems should be completed in this notebook (using the R kernel is preferred). Computational questions may require code, plots, analysis, interpretation, etc. Working in small groups is allowed, but it is important that you make an effort to master the material and hand in your own work. \n"
   ]
  },
  {
   "cell_type": "markdown",
   "metadata": {},
   "source": [
    "Name: Adam Ten Hoeve  \n",
    "Section: STAT4010"
   ]
  },
  {
   "cell_type": "markdown",
   "metadata": {},
   "source": [
    "## A. Theoretical Problems"
   ]
  },
  {
   "cell_type": "markdown",
   "metadata": {},
   "source": [
    "### Problem A.1\n",
    "\n",
    "Show that, for the randomized complete block design, $$SS_{total} = SS_{treat} + SS_{block} + SS_{R}.$$"
   ]
  },
  {
   "cell_type": "markdown",
   "metadata": {},
   "source": [
    "We know that $SS_{total} = SS_{treatment} + SSE_{No\\_Blocks}$ so we can start there and see what happens when we add blocks. Let's start by writing out the whole equation that we're trying to solve for:\n",
    "\n",
    "$$ SS_{total} = \\sum_{i=1}^t r(\\bar{y}_{i.} - \\bar{y}_{..})^2 + \\sum_{j=1}^r t(\\bar{y}_{.j} - \\bar{y}_{..})^2 + \\sum_{i=1}^t \\sum_{j=1}^r (y_{ij} - \\bar{y}_{i.} - \\bar{y}_{.j} + \\bar{y}_{..})^2 \\\\ $$\n",
    "\n",
    "Now, we are starting with only the treatments. That means we are going to have to add the $\\bar{y}_{.j}$ and $\\bar{y}_{..}$ terms during the proof.\n",
    "\n",
    "$$\n",
    "\\begin{align*}\n",
    "    SS_{total} &= SS_{treatment} + SSE_{No\\_Blocks} \\\\\n",
    "    &= \\sum_{i=1}^t r(\\bar{y}_{i.} - \\bar{y}_{..})^2 + \\sum_{i=1}^t \\sum_{j=1}^r (y_{ij} - \\bar{y}_{i.})^2 \\\\\n",
    "    &= \\sum_{i=1}^t r(\\bar{y}_{i.} - \\bar{y}_{..})^2 + \\sum_{i=1}^t \\sum_{j=1}^r (y_{ij} - \\bar{y}_{i.} + (\\bar{y}_{.j} - \\bar{y}_{..}) - (\\bar{y}_{.j} - \\bar{y}_{..}))^2 \\\\\n",
    "    &= \\sum_{i=1}^t r(\\bar{y}_{i.} - \\bar{y}_{..})^2 + \\sum_{i=1}^t \\sum_{j=1}^r \\big( (\\bar{y}_{.j} - \\bar{y}_{..}) + (y_{ij} - \\bar{y}_{i.} - \\bar{y}_{.j} + \\bar{y}_{..}) \\big)^2 \\\\\n",
    "    &= \\sum_{i=1}^t r(\\bar{y}_{i.} - \\bar{y}_{..})^2 + \\sum_{i=1}^t \\sum_{j=1}^r (\\bar{y}_{.j} - \\bar{y}_{..})^2 + \\sum_{i=1}^t \\sum_{j=1}^r (y_{ij} - \\bar{y}_{i.} - \\bar{y}_{.j} + \\bar{y}_{..})^2 + 2\\sum_{i=1}^t \\sum_{j=1}^r (\\bar{y}_{.j} - \\bar{y}_{..})(y_{ij} - \\bar{y}_{i.} - \\bar{y}_{.j} + \\bar{y}_{..}) \\\\\n",
    "    &= SS_{treatment} + SS_{blocks} + SS_{Residuals} + 2\\sum_{i=1}^t \\sum_{j=1}^r (\\bar{y}_{.j} - \\bar{y}_{..})(y_{ij} - \\bar{y}_{i.} - \\bar{y}_{.j} + \\bar{y}_{..})\n",
    "\\end{align*}\n",
    "$$\n",
    "\n",
    "So now we just need to prove that $2\\sum_{i=1}^t \\sum_{j=1}^r (\\bar{y}_{.j} - \\bar{y}_{..})(y_{ij} - \\bar{y}_{i.} - \\bar{y}_{.j} + \\bar{y}_{..}) = 0$. \n",
    "\n",
    "$$\n",
    "\\begin{align*}\n",
    "    2\\sum_{i=1}^t \\sum_{j=1}^r (\\bar{y}_{.j} - \\bar{y}_{..})(y_{ij} - \\bar{y}_{i.} - \\bar{y}_{.j} + \\bar{y}_{..}) &= 2\\sum_{j=1}^r (\\bar{y}_{.j} - \\bar{y}_{..}) \\sum_{i=1}^t (y_{ij} - \\bar{y}_{i.} - \\bar{y}_{.j} + \\bar{y}_{..}) \\\\ \n",
    "    &= 2\\sum_{j=1}^r (\\bar{y}_{.j} - \\bar{y}_{..}) \\sum_{i=1}^t (y_{ij} - \\bar{y}_{i.} - \\bar{y}_{.j} + \\bar{y}_{..}) \\\\\n",
    "    &= 2\\sum_{j=1}^r (\\bar{y}_{.j} - \\bar{y}_{..}) \\Big[ \\sum_{i=1}^t y_{ij} - \\sum_{i=1}^t \\bar{y}_{.j} + \\sum_{i=1}^t (\\bar{y}_{..} - \\bar{y}_{i.})\\Big]\n",
    "\\end{align*}\n",
    "$$\n",
    "\n",
    "This last step might seem a bit weird but it works in the end. I think. First, we should remember that $\\bar{y}_{i.} = \\dfrac{y_{1.} + ... + y_{t.}}{t} \\rightarrow t\\bar{y}_{i.} = y_{1.} + ... + y_{t.}$. Now for $\\sum_{i=1}^t y_{ij}$ will be summing over a fixed j, so we can treat the sum as $\\sum_{i=1}^t y_{ij} = t\\bar{y}_{.j}$. For the second summantion, nothing inside the summation changes per iteration so we can just write $\\sum_{i=1}^t \\bar{y}_{.j} = t\\bar{y}_{.j}$. For the last summation, we must realise that $\\bar{y}_{..}$ is the average of $\\bar{y}_{i.}$ and we know that the sum of the differences between the \"data\" and its average is 0. Therefor $\\sum_{i=1}^t (\\bar{y}_{..} - \\bar{y}_{i.}) = 0$.\n",
    "\n",
    "$$\n",
    "\\begin{align*}\n",
    "    &= 2\\sum_{j=1}^r (\\bar{y}_{.j} - \\bar{y}_{..}) \\Big[ t\\bar{y}_{.j} - t\\bar{y}_{.j} + \\sum_{i=1}^t (\\bar{y}_{..} - \\bar{y}_{i.})\\Big] \\\\\n",
    "    &= 2\\sum_{j=1}^r (\\bar{y}_{.j} - \\bar{y}_{..}) \\Big[ 0 + 0 \\Big] \\\\\n",
    "    &= 0\n",
    "\\end{align*}\n",
    "$$\n",
    "\n",
    "Now that the extra summation is zero, we now know that $SS_{total} = SS_{treatment} + SS_{blocks} + SS_{Residuals}$"
   ]
  },
  {
   "cell_type": "markdown",
   "metadata": {},
   "source": [
    "### Problem A.2\n",
    "\n",
    "Describe why, in a randomized complete block design (RCBD), it is not possible to test whether interactions exist between the treatment and blocks."
   ]
  },
  {
   "cell_type": "markdown",
   "metadata": {},
   "source": [
    "Without replication, there isn't enough data to include interaction terms. By adding an interaction term, we would be increasing the number of parameters, meaning we would be lacking the degrees of freedom necesary to include it in a linear model and making the matrix nonidentifiable. Becuase of this, interaction terms are baked into the SSE of the model $y_{i,j} = \\tau_i + \\beta_j + \\epsilon_{i,j}$. If there is some non-additive relation between the treatment and blocking factors, it would make the error artificially large, thereby making all F tests artificially insensitive."
   ]
  },
  {
   "cell_type": "markdown",
   "metadata": {},
   "source": [
    "## B. Computational Problems"
   ]
  },
  {
   "cell_type": "markdown",
   "metadata": {},
   "source": [
    "### Problem B.1\n",
    "\n",
    "#### For the teengamb data, fit a model with gamble as the response and the other variables as predictors. Investigate the possibility of interactions between sex and the other predictors. Interpret your final model."
   ]
  },
  {
   "cell_type": "code",
   "execution_count": 10,
   "metadata": {},
   "outputs": [
    {
     "data": {
      "text/html": [
       "<table>\n",
       "<thead><tr><th scope=col>sex</th><th scope=col>status</th><th scope=col>income</th><th scope=col>verbal</th><th scope=col>gamble</th></tr></thead>\n",
       "<tbody>\n",
       "\t<tr><td>1   </td><td>51  </td><td>2.00</td><td>8   </td><td> 0.0</td></tr>\n",
       "\t<tr><td>1   </td><td>28  </td><td>2.50</td><td>8   </td><td> 0.0</td></tr>\n",
       "\t<tr><td>1   </td><td>37  </td><td>2.00</td><td>6   </td><td> 0.0</td></tr>\n",
       "\t<tr><td>1   </td><td>28  </td><td>7.00</td><td>4   </td><td> 7.3</td></tr>\n",
       "\t<tr><td>1   </td><td>65  </td><td>2.00</td><td>8   </td><td>19.6</td></tr>\n",
       "\t<tr><td>1   </td><td>61  </td><td>3.47</td><td>6   </td><td> 0.1</td></tr>\n",
       "</tbody>\n",
       "</table>\n"
      ],
      "text/latex": [
       "\\begin{tabular}{r|lllll}\n",
       " sex & status & income & verbal & gamble\\\\\n",
       "\\hline\n",
       "\t 1    & 51   & 2.00 & 8    &  0.0\\\\\n",
       "\t 1    & 28   & 2.50 & 8    &  0.0\\\\\n",
       "\t 1    & 37   & 2.00 & 6    &  0.0\\\\\n",
       "\t 1    & 28   & 7.00 & 4    &  7.3\\\\\n",
       "\t 1    & 65   & 2.00 & 8    & 19.6\\\\\n",
       "\t 1    & 61   & 3.47 & 6    &  0.1\\\\\n",
       "\\end{tabular}\n"
      ],
      "text/markdown": [
       "\n",
       "sex | status | income | verbal | gamble | \n",
       "|---|---|---|---|---|---|\n",
       "| 1    | 51   | 2.00 | 8    |  0.0 | \n",
       "| 1    | 28   | 2.50 | 8    |  0.0 | \n",
       "| 1    | 37   | 2.00 | 6    |  0.0 | \n",
       "| 1    | 28   | 7.00 | 4    |  7.3 | \n",
       "| 1    | 65   | 2.00 | 8    | 19.6 | \n",
       "| 1    | 61   | 3.47 | 6    |  0.1 | \n",
       "\n",
       "\n"
      ],
      "text/plain": [
       "  sex status income verbal gamble\n",
       "1 1   51     2.00   8       0.0  \n",
       "2 1   28     2.50   8       0.0  \n",
       "3 1   37     2.00   6       0.0  \n",
       "4 1   28     7.00   4       7.3  \n",
       "5 1   65     2.00   8      19.6  \n",
       "6 1   61     3.47   6       0.1  "
      ]
     },
     "metadata": {},
     "output_type": "display_data"
    }
   ],
   "source": [
    "library(faraway)\n",
    "data(teengamb)\n",
    "\n",
    "# teengamb$sex = as.factor(teengamb$sex)\n",
    "head(teengamb)"
   ]
  },
  {
   "cell_type": "code",
   "execution_count": 7,
   "metadata": {
    "scrolled": false
   },
   "outputs": [
    {
     "data": {
      "text/plain": [
       "\n",
       "Call:\n",
       "lm(formula = gamble ~ sex + status + income + verbal + sex:status + \n",
       "    sex:income + sex:verbal, data = teengamb)\n",
       "\n",
       "Residuals:\n",
       "    Min      1Q  Median      3Q     Max \n",
       "-56.654  -7.589  -1.016   3.323  83.903 \n",
       "\n",
       "Coefficients:\n",
       "            Estimate Std. Error t value Pr(>|t|)    \n",
       "(Intercept)  27.6354    17.6218   1.568   0.1249    \n",
       "sex         -33.0132    35.0530  -0.942   0.3521    \n",
       "status       -0.1456     0.3316  -0.439   0.6631    \n",
       "income        6.0291     1.0538   5.721 1.26e-06 ***\n",
       "verbal       -2.9748     2.4265  -1.226   0.2276    \n",
       "sex:status    0.3529     0.5492   0.643   0.5243    \n",
       "sex:income   -5.3478     2.4244  -2.206   0.0334 *  \n",
       "sex:verbal    2.8355     4.5973   0.617   0.5410    \n",
       "---\n",
       "Signif. codes:  0 '***' 0.001 '**' 0.01 '*' 0.05 '.' 0.1 ' ' 1\n",
       "\n",
       "Residual standard error: 20.98 on 39 degrees of freedom\n",
       "Multiple R-squared:  0.6243,\tAdjusted R-squared:  0.5569 \n",
       "F-statistic:  9.26 on 7 and 39 DF,  p-value: 1.06e-06\n"
      ]
     },
     "metadata": {},
     "output_type": "display_data"
    }
   ],
   "source": [
    "lmod = lm(gamble ~ sex + status + income + verbal + sex:status + sex:income + sex:verbal, data = teengamb)\n",
    "summary(lmod)"
   ]
  },
  {
   "cell_type": "markdown",
   "metadata": {},
   "source": [
    "From the t-tests above, we can see that the only interaction term that was statistically significant at the 95% confidence level was between sex and income. This means a better model could be with only sex, income, and their interaction term as the predictors, rather than all of them. Let's test that with an F-test."
   ]
  },
  {
   "cell_type": "code",
   "execution_count": 8,
   "metadata": {},
   "outputs": [
    {
     "data": {
      "text/plain": [
       "\n",
       "Call:\n",
       "lm(formula = gamble ~ sex + income + sex:income, data = teengamb)\n",
       "\n",
       "Residuals:\n",
       "    Min      1Q  Median      3Q     Max \n",
       "-56.522  -4.860  -1.790   6.273  93.478 \n",
       "\n",
       "Coefficients:\n",
       "            Estimate Std. Error t value Pr(>|t|)    \n",
       "(Intercept)  -2.6596     6.3164  -0.421  0.67580    \n",
       "sex           5.7996    11.2003   0.518  0.60724    \n",
       "income        6.5181     0.9881   6.597 4.95e-08 ***\n",
       "sex:income   -6.3432     2.1446  -2.958  0.00502 ** \n",
       "---\n",
       "Signif. codes:  0 '***' 0.001 '**' 0.01 '*' 0.05 '.' 0.1 ' ' 1\n",
       "\n",
       "Residual standard error: 20.98 on 43 degrees of freedom\n",
       "Multiple R-squared:  0.5857,\tAdjusted R-squared:  0.5568 \n",
       "F-statistic: 20.26 on 3 and 43 DF,  p-value: 2.451e-08\n"
      ]
     },
     "metadata": {},
     "output_type": "display_data"
    },
    {
     "data": {
      "text/html": [
       "<table>\n",
       "<thead><tr><th scope=col>Res.Df</th><th scope=col>RSS</th><th scope=col>Df</th><th scope=col>Sum of Sq</th><th scope=col>F</th><th scope=col>Pr(&gt;F)</th></tr></thead>\n",
       "<tbody>\n",
       "\t<tr><td>43       </td><td>18929.91 </td><td>NA       </td><td>      NA </td><td>      NA </td><td>       NA</td></tr>\n",
       "\t<tr><td>39       </td><td>17163.54 </td><td> 4       </td><td>1766.369 </td><td>1.003412 </td><td>0.4174647</td></tr>\n",
       "</tbody>\n",
       "</table>\n"
      ],
      "text/latex": [
       "\\begin{tabular}{r|llllll}\n",
       " Res.Df & RSS & Df & Sum of Sq & F & Pr(>F)\\\\\n",
       "\\hline\n",
       "\t 43        & 18929.91  & NA        &       NA  &       NA  &        NA\\\\\n",
       "\t 39        & 17163.54  &  4        & 1766.369  & 1.003412  & 0.4174647\\\\\n",
       "\\end{tabular}\n"
      ],
      "text/markdown": [
       "\n",
       "Res.Df | RSS | Df | Sum of Sq | F | Pr(>F) | \n",
       "|---|---|\n",
       "| 43        | 18929.91  | NA        |       NA  |       NA  |        NA | \n",
       "| 39        | 17163.54  |  4        | 1766.369  | 1.003412  | 0.4174647 | \n",
       "\n",
       "\n"
      ],
      "text/plain": [
       "  Res.Df RSS      Df Sum of Sq F        Pr(>F)   \n",
       "1 43     18929.91 NA       NA        NA        NA\n",
       "2 39     17163.54  4 1766.369  1.003412 0.4174647"
      ]
     },
     "metadata": {},
     "output_type": "display_data"
    }
   ],
   "source": [
    "lmod2 = lm(gamble ~ sex + income + sex:income, data = teengamb)\n",
    "summary(lmod2)\n",
    "anova(lmod2, lmod)"
   ]
  },
  {
   "cell_type": "markdown",
   "metadata": {},
   "source": [
    "Using the partial F-test above, we fail to reject the null and assert that the means of the models are the same and our reduced model is sufficient. Because sex is a 0 or 1, we have multiple different interpretations. If sex is 0 (male), then the model becomes $y_i = -2.66 + 5.80(0) + 6.52x_{i,income} - 6.34(0)x_{i,income} = -2.66 + 6.52x_{i,income}$, so each increase in income by 1 increases the gambling score by 6.52. If sex is 1 (female), then the model is $y_i = -2.66 + 5.80(1) + 6.52x_{i,income} - 6.34(1)x_{i,income} = 3.14 + 0.18x_{i,income}$, so an increase in income by 1 only inceases gambling by 0.18, significantly less than with males."
   ]
  },
  {
   "cell_type": "markdown",
   "metadata": {},
   "source": [
    "### Problem B.2\n",
    "\n",
    "#### Using the pulp data, determine whether there are any differences between the operators. What is the nature of these differences?"
   ]
  },
  {
   "cell_type": "code",
   "execution_count": 11,
   "metadata": {},
   "outputs": [],
   "source": [
    "data(pulp)\n",
    "# head(pulp)"
   ]
  },
  {
   "cell_type": "code",
   "execution_count": 43,
   "metadata": {},
   "outputs": [
    {
     "data": {
      "text/plain": [
       "\n",
       "Call:\n",
       "lm(formula = bright ~ operator, data = pulp)\n",
       "\n",
       "Residuals:\n",
       "   Min     1Q Median     3Q    Max \n",
       "-0.440 -0.195 -0.070  0.175  0.560 \n",
       "\n",
       "Coefficients:\n",
       "            Estimate Std. Error t value Pr(>|t|)    \n",
       "(Intercept)  60.2400     0.1458 413.243   <2e-16 ***\n",
       "operatorb    -0.1800     0.2062  -0.873   0.3955    \n",
       "operatorc     0.3800     0.2062   1.843   0.0839 .  \n",
       "operatord     0.4400     0.2062   2.134   0.0486 *  \n",
       "---\n",
       "Signif. codes:  0 '***' 0.001 '**' 0.01 '*' 0.05 '.' 0.1 ' ' 1\n",
       "\n",
       "Residual standard error: 0.326 on 16 degrees of freedom\n",
       "Multiple R-squared:  0.4408,\tAdjusted R-squared:  0.3359 \n",
       "F-statistic: 4.204 on 3 and 16 DF,  p-value: 0.02261\n"
      ]
     },
     "metadata": {},
     "output_type": "display_data"
    },
    {
     "data": {
      "text/plain": [
       "\n",
       "\t Simultaneous Tests for General Linear Hypotheses\n",
       "\n",
       "Multiple Comparisons of Means: Tukey Contrasts\n",
       "\n",
       "\n",
       "Fit: lm(formula = bright ~ operator, data = pulp)\n",
       "\n",
       "Linear Hypotheses:\n",
       "           Estimate Std. Error t value Pr(>|t|)  \n",
       "b - a == 0  -0.1800     0.2062  -0.873   0.8186  \n",
       "c - a == 0   0.3800     0.2062   1.843   0.2903  \n",
       "d - a == 0   0.4400     0.2062   2.134   0.1846  \n",
       "c - b == 0   0.5600     0.2062   2.716   0.0658 .\n",
       "d - b == 0   0.6200     0.2062   3.007   0.0376 *\n",
       "d - c == 0   0.0600     0.2062   0.291   0.9911  \n",
       "---\n",
       "Signif. codes:  0 '***' 0.001 '**' 0.01 '*' 0.05 '.' 0.1 ' ' 1\n",
       "(Adjusted p values reported -- single-step method)\n"
      ]
     },
     "metadata": {},
     "output_type": "display_data"
    }
   ],
   "source": [
    "pulp$operator = as.factor(pulp$operator)\n",
    "lmod = lm(bright ~ operator, data = pulp)\n",
    "summary(lmod)\n",
    "# Compare each operator to the others using contrasts\n",
    "library(multcomp)\n",
    "fit.gh = glht(lmod, linfct = mcp(operator = \"Tukey\"))\n",
    "summary(fit.gh)"
   ]
  },
  {
   "cell_type": "markdown",
   "metadata": {},
   "source": [
    "From the model summary, we can see that F-statistic has a p-value of 0.023. Therefor we reject the null and assert that there is some difference between the operators (assuming a 95% confidence level). Now we need to find out which operators are different, which we can do using contrasts. From the contrasts table, we can see that operators b and d have a statistically signficant difference of about 0.62 at the 95% confidence level. The difference between operators b and c is also signficant at the 90% confidence level with a difference of 0.56."
   ]
  },
  {
   "cell_type": "markdown",
   "metadata": {},
   "source": [
    "### Problem B.3 \n",
    "\n",
    "#### Data on butterfat content of milk from Canadian cows of five different breeds and two different ages can be found in the butterfat dataset. Note that this dataset contains observational data and not experimental data, but the same two-way ANOVA concepts apply (but causal conclusions should be more modest).\n",
    "\n",
    "1. Make appropriate plots of the data.\n",
    "2. Determine whether there is a significant interaction between breed and age. Do this both by constructing [interaction plots](https://courses.washington.edu/smartpsy/interactions.htm#) and formally through an ANOVA model with an interaction term.\n",
    "3. Determine whether there is a statistically significant difference between breeds and also ages.\n",
    "4. Present regression diagnostics for your chosen model and comment whether the assumptions have been met.\n",
    "5. Is the best breed in terms of butterfat content clearly superior to the second best breed?\n"
   ]
  },
  {
   "cell_type": "code",
   "execution_count": 12,
   "metadata": {},
   "outputs": [],
   "source": [
    "library(faraway)\n",
    "data(butterfat)\n",
    "# head(butterfat)"
   ]
  },
  {
   "cell_type": "code",
   "execution_count": 13,
   "metadata": {},
   "outputs": [
    {
     "data": {
      "image/png": "[encoded data removed]",
      "text/plain": [
       "plot without title"
      ]
     },
     "metadata": {},
     "output_type": "display_data"
    }
   ],
   "source": [
    "with(butterfat, boxplot(Butterfat ~ Breed, xlab = \"Breed\", ylab = \"Butterfat\"))"
   ]
  },
  {
   "cell_type": "code",
   "execution_count": 14,
   "metadata": {},
   "outputs": [
    {
     "data": {
      "image/png": "[encoded data removed]",
      "text/plain": [
       "plot without title"
      ]
     },
     "metadata": {},
     "output_type": "display_data"
    }
   ],
   "source": [
    "with(butterfat, boxplot(Butterfat ~ Age, xlab = \"Age\", ylab = \"Butterfat\"))"
   ]
  },
  {
   "cell_type": "code",
   "execution_count": 15,
   "metadata": {},
   "outputs": [
    {
     "data": {
      "image/png": "[encoded data removed]",
      "text/plain": [
       "plot without title"
      ]
     },
     "metadata": {},
     "output_type": "display_data"
    }
   ],
   "source": [
    "interaction.plot(butterfat$Breed, butterfat$Age, butterfat$Butterfat)"
   ]
  },
  {
   "cell_type": "code",
   "execution_count": 16,
   "metadata": {},
   "outputs": [
    {
     "data": {
      "image/png": "[encoded data removed]",
      "text/plain": [
       "plot without title"
      ]
     },
     "metadata": {},
     "output_type": "display_data"
    }
   ],
   "source": [
    "interaction.plot( butterfat$Age, butterfat$Breed, butterfat$Butterfat)"
   ]
  },
  {
   "cell_type": "code",
   "execution_count": 19,
   "metadata": {},
   "outputs": [
    {
     "data": {
      "text/plain": [
       "\n",
       "Call:\n",
       "lm(formula = Butterfat ~ Breed + Age + Breed:Age, data = butterfat)\n",
       "\n",
       "Residuals:\n",
       "    Min      1Q  Median      3Q     Max \n",
       "-1.0190 -0.2720 -0.0430  0.2372  1.3170 \n",
       "\n",
       "Coefficients:\n",
       "                                Estimate Std. Error t value Pr(>|t|)    \n",
       "(Intercept)                       3.9660     0.1316  30.143  < 2e-16 ***\n",
       "BreedCanadian                     0.5220     0.1861   2.805  0.00616 ** \n",
       "BreedGuernsey                     0.9330     0.1861   5.014 2.65e-06 ***\n",
       "BreedHolstein-Fresian            -0.3030     0.1861  -1.628  0.10693    \n",
       "BreedJersey                       1.1670     0.1861   6.272 1.22e-08 ***\n",
       "AgeMature                         0.1880     0.1861   1.010  0.31503    \n",
       "BreedCanadian:AgeMature          -0.2870     0.2631  -1.091  0.27834    \n",
       "BreedGuernsey:AgeMature          -0.0860     0.2631  -0.327  0.74457    \n",
       "BreedHolstein-Fresian:AgeMature  -0.1750     0.2631  -0.665  0.50773    \n",
       "BreedJersey:AgeMature             0.1310     0.2631   0.498  0.61982    \n",
       "---\n",
       "Signif. codes:  0 '***' 0.001 '**' 0.01 '*' 0.05 '.' 0.1 ' ' 1\n",
       "\n",
       "Residual standard error: 0.4161 on 90 degrees of freedom\n",
       "Multiple R-squared:  0.6926,\tAdjusted R-squared:  0.6619 \n",
       "F-statistic: 22.53 on 9 and 90 DF,  p-value: < 2.2e-16\n"
      ]
     },
     "metadata": {},
     "output_type": "display_data"
    },
    {
     "data": {
      "text/html": [
       "<table>\n",
       "<thead><tr><th scope=col>Res.Df</th><th scope=col>RSS</th><th scope=col>Df</th><th scope=col>Sum of Sq</th><th scope=col>F</th><th scope=col>Pr(&gt;F)</th></tr></thead>\n",
       "<tbody>\n",
       "\t<tr><td>94       </td><td>16.09400 </td><td>NA       </td><td>      NA </td><td>       NA</td><td>       NA</td></tr>\n",
       "\t<tr><td>90       </td><td>15.58013 </td><td> 4       </td><td>0.513866 </td><td>0.7420981</td><td>0.5657762</td></tr>\n",
       "</tbody>\n",
       "</table>\n"
      ],
      "text/latex": [
       "\\begin{tabular}{r|llllll}\n",
       " Res.Df & RSS & Df & Sum of Sq & F & Pr(>F)\\\\\n",
       "\\hline\n",
       "\t 94        & 16.09400  & NA        &       NA  &        NA &        NA\\\\\n",
       "\t 90        & 15.58013  &  4        & 0.513866  & 0.7420981 & 0.5657762\\\\\n",
       "\\end{tabular}\n"
      ],
      "text/markdown": [
       "\n",
       "Res.Df | RSS | Df | Sum of Sq | F | Pr(>F) | \n",
       "|---|---|\n",
       "| 94        | 16.09400  | NA        |       NA  |        NA |        NA | \n",
       "| 90        | 15.58013  |  4        | 0.513866  | 0.7420981 | 0.5657762 | \n",
       "\n",
       "\n"
      ],
      "text/plain": [
       "  Res.Df RSS      Df Sum of Sq F         Pr(>F)   \n",
       "1 94     16.09400 NA       NA         NA        NA\n",
       "2 90     15.58013  4 0.513866  0.7420981 0.5657762"
      ]
     },
     "metadata": {},
     "output_type": "display_data"
    }
   ],
   "source": [
    "lmod = lm(Butterfat ~ Breed + Age + Breed:Age, data = butterfat)\n",
    "lmod2 = lm(Butterfat ~ Breed + Age, data = butterfat)\n",
    "summary(lmod)\n",
    "anova(lmod2, lmod)"
   ]
  },
  {
   "cell_type": "markdown",
   "metadata": {},
   "source": [
    "From the first interaction plot, we see that the lines do cross, but only slightly. The second interaction plot shows no interaction. This could mean that the interaction in the first plot was due to variance and does not display a statistically significant interaction. The summary and anova summary support this claim. The p-value from the anova model is 0.56, which means we fail to reject the null and have to assert that the model with the interaction term does not have a statistically significant difference from the model without the interaction term. The individual t-tests between age and breed are also not significant at the 95% confidence level."
   ]
  },
  {
   "cell_type": "code",
   "execution_count": 20,
   "metadata": {},
   "outputs": [
    {
     "data": {
      "text/plain": [
       "\n",
       "Call:\n",
       "lm(formula = Butterfat ~ Breed + Age, data = butterfat)\n",
       "\n",
       "Residuals:\n",
       "    Min      1Q  Median      3Q     Max \n",
       "-1.0202 -0.2373 -0.0640  0.2617  1.2098 \n",
       "\n",
       "Coefficients:\n",
       "                      Estimate Std. Error t value Pr(>|t|)    \n",
       "(Intercept)            4.00770    0.10135  39.541  < 2e-16 ***\n",
       "BreedCanadian          0.37850    0.13085   2.893  0.00475 ** \n",
       "BreedGuernsey          0.89000    0.13085   6.802 9.48e-10 ***\n",
       "BreedHolstein-Fresian -0.39050    0.13085  -2.984  0.00362 ** \n",
       "BreedJersey            1.23250    0.13085   9.419 3.16e-15 ***\n",
       "AgeMature              0.10460    0.08276   1.264  0.20937    \n",
       "---\n",
       "Signif. codes:  0 '***' 0.001 '**' 0.01 '*' 0.05 '.' 0.1 ' ' 1\n",
       "\n",
       "Residual standard error: 0.4138 on 94 degrees of freedom\n",
       "Multiple R-squared:  0.6825,\tAdjusted R-squared:  0.6656 \n",
       "F-statistic: 40.41 on 5 and 94 DF,  p-value: < 2.2e-16\n"
      ]
     },
     "metadata": {},
     "output_type": "display_data"
    },
    {
     "data": {
      "image/png": "[encoded data removed]",
      "text/plain": [
       "Plot with title \"\""
      ]
     },
     "metadata": {},
     "output_type": "display_data"
    }
   ],
   "source": [
    "summary(lmod2)\n",
    "par(mfrow = c(2,2))\n",
    "plot(lmod2)"
   ]
  },
  {
   "cell_type": "code",
   "execution_count": 22,
   "metadata": {},
   "outputs": [
    {
     "data": {
      "text/html": [
       "-0.0300683551526145"
      ],
      "text/latex": [
       "-0.0300683551526145"
      ],
      "text/markdown": [
       "-0.0300683551526145"
      ],
      "text/plain": [
       "[1] -0.03006836"
      ]
     },
     "metadata": {},
     "output_type": "display_data"
    },
    {
     "data": {
      "image/png": "[encoded data removed]",
      "text/plain": [
       "plot without title"
      ]
     },
     "metadata": {},
     "output_type": "display_data"
    }
   ],
   "source": [
    "n = length(resid(lmod2))\n",
    "plot(tail(residuals(lmod2), n-1) ~ head(resid(lmod2), n-1), xlab = expression(hat(epsilon)[i]), ylab = expression(hat(epsilon)[i+1]))\n",
    "abline(h = 0, v = 0)\n",
    "cor(tail(residuals(lmod2), n-1), head(resid(lmod2), n-1))"
   ]
  },
  {
   "cell_type": "markdown",
   "metadata": {},
   "source": [
    "Of the three basic assumptions:\n",
    "1. Constant Variance. From the Residuals vs Fitted Values plot, we can see some slight trumpting in the variance of the data. This infers that there is some nonconstant variance in our data, if only slightly.\n",
    "2. Independent Errors. There does not appear to be any obvious structure in the Residuals vs. Fitted Values, which leads us to believe that the errors are independent and that the assumption holds. The plot of sequential errors also does not have any obvious structure, which supports our claim that the errors are independent.\n",
    "3. Normality. From the Q-Q plot, we can see that there are some heavy tails in the data, and possibly some rightward skew. This leads us to believe that the errors do not follow a normal distribution and violates the normality assumption."
   ]
  },
  {
   "cell_type": "code",
   "execution_count": 25,
   "metadata": {},
   "outputs": [
    {
     "data": {
      "text/plain": [
       "\n",
       "\t Simultaneous Tests for General Linear Hypotheses\n",
       "\n",
       "Multiple Comparisons of Means: Tukey Contrasts\n",
       "\n",
       "\n",
       "Fit: lm(formula = Butterfat ~ Breed + Age, data = butterfat)\n",
       "\n",
       "Linear Hypotheses:\n",
       "                                 Estimate Std. Error t value Pr(>|t|)    \n",
       "Canadian - Ayrshire == 0           0.3785     0.1308   2.893  0.03730 *  \n",
       "Guernsey - Ayrshire == 0           0.8900     0.1308   6.802  < 0.001 ***\n",
       "Holstein-Fresian - Ayrshire == 0  -0.3905     0.1308  -2.984  0.02912 *  \n",
       "Jersey - Ayrshire == 0             1.2325     0.1308   9.419  < 0.001 ***\n",
       "Guernsey - Canadian == 0           0.5115     0.1308   3.909  0.00167 ** \n",
       "Holstein-Fresian - Canadian == 0  -0.7690     0.1308  -5.877  < 0.001 ***\n",
       "Jersey - Canadian == 0             0.8540     0.1308   6.527  < 0.001 ***\n",
       "Holstein-Fresian - Guernsey == 0  -1.2805     0.1308  -9.786  < 0.001 ***\n",
       "Jersey - Guernsey == 0             0.3425     0.1308   2.618  0.07529 .  \n",
       "Jersey - Holstein-Fresian == 0     1.6230     0.1308  12.404  < 0.001 ***\n",
       "---\n",
       "Signif. codes:  0 '***' 0.001 '**' 0.01 '*' 0.05 '.' 0.1 ' ' 1\n",
       "(Adjusted p values reported -- single-step method)\n"
      ]
     },
     "metadata": {},
     "output_type": "display_data"
    }
   ],
   "source": [
    "fit.gh = glht(lmod2, linfct = mcp(Breed = \"Tukey\"))\n",
    "summary(fit.gh)"
   ]
  },
  {
   "cell_type": "markdown",
   "metadata": {},
   "source": [
    "From our boxplots above, we can see that the \"best\" breed, in terms of butterfat content, is the Jersey breed and the second best is Guernsey. Using contrasts, we can see that the estimate of $\\mu_{Jersey} - \\mu_{Guernsey} = 0.3425$ with a p-value of 0.075. This means there is a statistically significant difference between the two groups at 90% confidence, but not at 95% confidence. When we look at these facts, the Jersey breed is not clearly superior to the Guernsey breed."
   ]
  },
  {
   "cell_type": "markdown",
   "metadata": {},
   "source": [
    "### Problem B.4\n",
    "\n",
    "The morley data can be  viewed as a randomized block experiment with Run as the treatment factor and Expt as the blocking factor. Is there a difference between runs and what efficiency is gained  by blocking? (Make sure factors are stored in R as factors!)"
   ]
  },
  {
   "cell_type": "code",
   "execution_count": 32,
   "metadata": {},
   "outputs": [],
   "source": [
    "data(morley)\n",
    "morley$Expt = as.factor(morley$Expt)\n",
    "# morley"
   ]
  },
  {
   "cell_type": "code",
   "execution_count": 35,
   "metadata": {
    "scrolled": false
   },
   "outputs": [
    {
     "data": {
      "text/plain": [
       "\n",
       "Call:\n",
       "lm(formula = Speed ~ Run, data = morley)\n",
       "\n",
       "Residuals:\n",
       "     Min       1Q   Median       3Q      Max \n",
       "-233.632  -46.308   -3.104   40.100  215.313 \n",
       "\n",
       "Coefficients:\n",
       "            Estimate Std. Error t value Pr(>|t|)    \n",
       "(Intercept) 856.0947    16.4921  51.909   <2e-16 ***\n",
       "Run          -0.3519     1.3767  -0.256    0.799    \n",
       "---\n",
       "Signif. codes:  0 '***' 0.001 '**' 0.01 '*' 0.05 '.' 0.1 ' ' 1\n",
       "\n",
       "Residual standard error: 79.39 on 98 degrees of freedom\n",
       "Multiple R-squared:  0.0006662,\tAdjusted R-squared:  -0.009531 \n",
       "F-statistic: 0.06533 on 1 and 98 DF,  p-value: 0.7988\n"
      ]
     },
     "metadata": {},
     "output_type": "display_data"
    },
    {
     "data": {
      "text/plain": [
       "\n",
       "Call:\n",
       "lm(formula = Speed ~ Expt + Run, data = morley)\n",
       "\n",
       "Residuals:\n",
       "     Min       1Q   Median       3Q      Max \n",
       "-257.768  -43.329    1.926   42.250  158.713 \n",
       "\n",
       "Coefficients:\n",
       "            Estimate Std. Error t value Pr(>|t|)    \n",
       "(Intercept) 912.6947    21.5119  42.427  < 2e-16 ***\n",
       "Expt2       -53.0000    23.5900  -2.247 0.026999 *  \n",
       "Expt3       -64.0000    23.5900  -2.713 0.007930 ** \n",
       "Expt4       -88.5000    23.5900  -3.752 0.000304 ***\n",
       "Expt5       -77.5000    23.5900  -3.285 0.001432 ** \n",
       "Run          -0.3519     1.2937  -0.272 0.786222    \n",
       "---\n",
       "Signif. codes:  0 '***' 0.001 '**' 0.01 '*' 0.05 '.' 0.1 ' ' 1\n",
       "\n",
       "Residual standard error: 74.6 on 94 degrees of freedom\n",
       "Multiple R-squared:  0.1536,\tAdjusted R-squared:  0.1086 \n",
       "F-statistic: 3.412 on 5 and 94 DF,  p-value: 0.007075\n"
      ]
     },
     "metadata": {},
     "output_type": "display_data"
    },
    {
     "data": {
      "text/html": [
       "<table>\n",
       "<thead><tr><th scope=col>Res.Df</th><th scope=col>RSS</th><th scope=col>Df</th><th scope=col>Sum of Sq</th><th scope=col>F</th><th scope=col>Pr(&gt;F)</th></tr></thead>\n",
       "<tbody>\n",
       "\t<tr><td>98         </td><td>617612.3   </td><td>NA         </td><td>   NA      </td><td>      NA   </td><td>         NA</td></tr>\n",
       "\t<tr><td>94         </td><td>523098.3   </td><td> 4         </td><td>94514      </td><td>4.246007   </td><td>0.003335657</td></tr>\n",
       "</tbody>\n",
       "</table>\n"
      ],
      "text/latex": [
       "\\begin{tabular}{r|llllll}\n",
       " Res.Df & RSS & Df & Sum of Sq & F & Pr(>F)\\\\\n",
       "\\hline\n",
       "\t 98          & 617612.3    & NA          &    NA       &       NA    &          NA\\\\\n",
       "\t 94          & 523098.3    &  4          & 94514       & 4.246007    & 0.003335657\\\\\n",
       "\\end{tabular}\n"
      ],
      "text/markdown": [
       "\n",
       "Res.Df | RSS | Df | Sum of Sq | F | Pr(>F) | \n",
       "|---|---|\n",
       "| 98          | 617612.3    | NA          |    NA       |       NA    |          NA | \n",
       "| 94          | 523098.3    |  4          | 94514       | 4.246007    | 0.003335657 | \n",
       "\n",
       "\n"
      ],
      "text/plain": [
       "  Res.Df RSS      Df Sum of Sq F        Pr(>F)     \n",
       "1 98     617612.3 NA    NA           NA          NA\n",
       "2 94     523098.3  4 94514     4.246007 0.003335657"
      ]
     },
     "metadata": {},
     "output_type": "display_data"
    }
   ],
   "source": [
    "lmod = lm(Speed ~ Run, data = morley)\n",
    "lmodBlock = lm(Speed ~ Expt + Run, data = morley)\n",
    "\n",
    "summary(lmod)\n",
    "summary(lmodBlock)\n",
    "anova(lmod, lmodBlock)"
   ]
  },
  {
   "cell_type": "code",
   "execution_count": 36,
   "metadata": {},
   "outputs": [
    {
     "data": {
      "text/html": [
       "<table>\n",
       "<thead><tr><th></th><th scope=col>Df</th><th scope=col>Sum Sq</th><th scope=col>Mean Sq</th><th scope=col>F value</th><th scope=col>Pr(&gt;F)</th></tr></thead>\n",
       "<tbody>\n",
       "\t<tr><th scope=row>Expt</th><td> 4         </td><td> 94514.0000</td><td>23628.5000 </td><td>4.24600691 </td><td>0.003335657</td></tr>\n",
       "\t<tr><th scope=row>Run</th><td> 1         </td><td>   411.6992</td><td>  411.6992 </td><td>0.07398175 </td><td>0.786221720</td></tr>\n",
       "\t<tr><th scope=row>Residuals</th><td>94         </td><td>523098.3008</td><td> 5564.8755 </td><td>        NA </td><td>         NA</td></tr>\n",
       "</tbody>\n",
       "</table>\n"
      ],
      "text/latex": [
       "\\begin{tabular}{r|lllll}\n",
       "  & Df & Sum Sq & Mean Sq & F value & Pr(>F)\\\\\n",
       "\\hline\n",
       "\tExpt &  4          &  94514.0000 & 23628.5000  & 4.24600691  & 0.003335657\\\\\n",
       "\tRun &  1          &    411.6992 &   411.6992  & 0.07398175  & 0.786221720\\\\\n",
       "\tResiduals & 94          & 523098.3008 &  5564.8755  &         NA  &          NA\\\\\n",
       "\\end{tabular}\n"
      ],
      "text/markdown": [
       "\n",
       "| <!--/--> | Df | Sum Sq | Mean Sq | F value | Pr(>F) | \n",
       "|---|---|---|\n",
       "| Expt |  4          |  94514.0000 | 23628.5000  | 4.24600691  | 0.003335657 | \n",
       "| Run |  1          |    411.6992 |   411.6992  | 0.07398175  | 0.786221720 | \n",
       "| Residuals | 94          | 523098.3008 |  5564.8755  |         NA  |          NA | \n",
       "\n",
       "\n"
      ],
      "text/plain": [
       "          Df Sum Sq      Mean Sq    F value    Pr(>F)     \n",
       "Expt       4  94514.0000 23628.5000 4.24600691 0.003335657\n",
       "Run        1    411.6992   411.6992 0.07398175 0.786221720\n",
       "Residuals 94 523098.3008  5564.8755         NA          NA"
      ]
     },
     "metadata": {},
     "output_type": "display_data"
    }
   ],
   "source": [
    "# Find the significance of each level of model\n",
    "anova(lmodBlock)"
   ]
  },
  {
   "cell_type": "code",
   "execution_count": 34,
   "metadata": {},
   "outputs": [
    {
     "data": {
      "text/html": [
       "79.3861847817544"
      ],
      "text/latex": [
       "79.3861847817544"
      ],
      "text/markdown": [
       "79.3861847817544"
      ],
      "text/plain": [
       "[1] 79.38618"
      ]
     },
     "metadata": {},
     "output_type": "display_data"
    },
    {
     "data": {
      "text/html": [
       "74.5980934066925"
      ],
      "text/latex": [
       "74.5980934066925"
      ],
      "text/markdown": [
       "74.5980934066925"
      ],
      "text/plain": [
       "[1] 74.59809"
      ]
     },
     "metadata": {},
     "output_type": "display_data"
    },
    {
     "data": {
      "text/html": [
       "1.13249007799026"
      ],
      "text/latex": [
       "1.13249007799026"
      ],
      "text/markdown": [
       "1.13249007799026"
      ],
      "text/plain": [
       "[1] 1.13249"
      ]
     },
     "metadata": {},
     "output_type": "display_data"
    }
   ],
   "source": [
    "# Compare the estimate of the error variance of the models, with and without blocking\n",
    "summary(lmod)$sig\n",
    "summary(lmodBlock)$sig"
   ]
  },
  {
   "cell_type": "markdown",
   "metadata": {},
   "source": [
    "In the above calculations, we can see that blocking does have an impact on the model. When we blocked on Expt, we got a lower variance in the errors (74.6) than the model without blocking (79.4). When we found the significance of each level of model, we found that adding the blocking had a p-value of 0.0033, which means it was significant, but the Run treatment factor had a p-value of 0.786, meaning it was not significant. Even though the blocking helped the model, we found that the Runs did not affect the overall speed."
   ]
  }
 ],
 "metadata": {
  "kernelspec": {
   "display_name": "R",
   "language": "R",
   "name": "ir"
  },
  "language_info": {
   "codemirror_mode": "r",
   "file_extension": ".r",
   "mimetype": "text/x-r-source",
   "name": "R",
   "pygments_lexer": "r",
   "version": "3.4.3"
  }
 },
 "nbformat": 4,
 "nbformat_minor": 2
}
