{
 "cells": [
  {
   "cell_type": "markdown",
   "metadata": {},
   "source": [
    "# Homework #2\n",
    "\n",
    "**Due in class on Friday February 1, 2019**. Complete all of the following problems. Ideally, the theoretical problems should be answered in a Markdown cell directly underneath the question. If you don't know LaTex/Markdown, you may submit separate handwritten solutions to the theoretical problems. Please do not turn in messy work. Computational problems should be completed in this notebook (using the R kernel is preferred). Computational questions may require code, plots, analysis, interpretation, etc. Working in small groups is allowed, but it is important that you make an effort to master the material and hand in your own work. \n"
   ]
  },
  {
   "cell_type": "markdown",
   "metadata": {},
   "source": [
    "Name: Adam Ten Hoeve"
   ]
  },
  {
   "cell_type": "markdown",
   "metadata": {},
   "source": [
    "## A. Theoretical Problems"
   ]
  },
  {
   "cell_type": "markdown",
   "metadata": {},
   "source": [
    "### Problem A.1\n"
   ]
  },
  {
   "cell_type": "markdown",
   "metadata": {},
   "source": [
    "**This problem might require some outside-of-class research if you haven't taken a linear algebra/matrix methods course.**\n",
    "\n",
    "Matrices and vectors will play an important role for us in linear regression. Let's review some matrix theory as it might relate to linear regression.\n",
    "\n",
    "Consider the system of linear equations \n",
    "\n",
    "\\begin{equation} \n",
    "Y_i = \\beta_0 + \\sum^p_{j=1}\\beta_j X_{i,j} + \\varepsilon_i,\n",
    "\\end{equation}\n",
    "for $i = 1,...,n$, where $n$ is the number of data points (measurements in the sample), and $j = 1,...,p$, where \n",
    "\n",
    "1. $p+1$ is the number of parameters in the model. \n",
    "2. $Y_i$ is the $i^{th}$ measurement of the *response variable*.\n",
    "3. $X_{i,j}$ is the $i^{th}$ measurement of the $j^{th}$ *predictor variable*.\n",
    "4. $\\varepsilon_i$ is the $i^{th}$ *error term* and is a random variable (often assumed to be $N(0, \\sigma^2)$). \n",
    "5. $\\beta_j$ are *unknown parameters* of the model, ($j = 0,...,p$). We hope to estimate these, which would help us characterize the relationship between the predictors and response.\n",
    "\n",
    "#### (a)  Write the equation above in matrix vector form. Call the matrix including the predictors $X$, the vector of $Y_i$s $\\mathbf{Y}$, the vector of parameters $\\mathbf{\\beta}$, and the vector of error terms $\\mathbf{\\varepsilon}$. \n"
   ]
  },
  {
   "cell_type": "markdown",
   "metadata": {
    "collapsed": true
   },
   "source": [
    "$$Y = X\\beta + \\epsilon$$"
   ]
  },
  {
   "cell_type": "markdown",
   "metadata": {},
   "source": [
    "#### (b) In class, we will find that the OLS estimator for $\\mathbf{\\beta}$ in MLR is $\\widehat{\\boldsymbol\\beta} = (X^TX)^{-1}X^T\\mathbf{Y}$. \n",
    "\n",
    "\n",
    "1. What condition must be true about the columns of $X$ for the \"Gram\" matrix $X^TX$ to be invertible? \n",
    "2. What does this condition mean in practical terms? \n",
    "3. Suppose that the number of measurements ($n$) is less than the number of model parameters ($p+1$). What does this say about the invertibility of $X^TX$? What does this mean on a practical level?\n",
    "4. What is true about about $\\widehat{\\boldsymbol\\beta}$ if $X^TX$ is not invertible?\n",
    "\n",
    "\n"
   ]
  },
  {
   "cell_type": "markdown",
   "metadata": {},
   "source": [
    "1. A Gram Matrix $X^TX$ is invertible if and only if the columns of $X$ are linearly independent.\n",
    "2. Linear independence means that a column can not be represented as a combination of other rows and columns in the matrix. \n",
    "3. The matrix $X$ has $n$ rows and $p+1$ columns. Therefor, if $p+1 > n$ then there is always more vectors than is needed to span the space, meaning the columns are not linearly independent and $X^TX$ is not invertible. On a practical level, this means that if we have more predictors than observations, then we can not use the above equation as an estimator.\n",
    "4. If $X^TX$ is not invertible, then $\\widehat{\\beta}$ either has no solution or infinite solutions."
   ]
  },
  {
   "cell_type": "markdown",
   "metadata": {},
   "source": [
    "## B. Computational Problems"
   ]
  },
  {
   "cell_type": "markdown",
   "metadata": {},
   "source": [
    "### Problem B.1"
   ]
  },
  {
   "cell_type": "markdown",
   "metadata": {},
   "source": [
    "Let $X_1,...,X_{n_1}$ be an iid sample from population #1, with unknown mean $\\mu_1$ and known standard deviation $\\sigma_1$, and let $Y_1,...,Y_{n_2}$ be an iid sample from population #2, with unknown mean $\\mu_2$ and known standard deviation $\\sigma_2$. Suppose we want to conduct a hypothesis test of the sort: $$H_0: \\mu_1 - \\mu_2 = 0 \\,\\,\\, vs \\,\\,\\, H_1: \\mu_1 - \\mu_2 \\ge 0. $$\n",
    "\n",
    "The following algorithm has been suggested for a bootstrap test.\n",
    "\n",
    "1. Calculate the test statistic $$t = \\frac{\\bar{x} - \\bar{y}}{\\sqrt{\\sigma^2_1\\big/n_1 + \\sigma^2_2\\big/n_2}}$$\n",
    " \n",
    "2. Let $\\bar{z}$ be the mean of the combined data sets. Create two new data sets, $x^\\prime_1,...,x^\\prime_{n_1}$ and $y^\\prime_1,...,y^\\prime_{n_2}$ that are the original data sets centered at $\\bar{z}$.\n",
    "\n",
    "3. Draw $B$ random bootstrap samples of size $n_1$ from $x^\\prime_1,...,x^\\prime_{n_1}$ and of size $n_2$ from $y^\\prime_1,...,y^\\prime_{n_2}$. The result will be two matrices, $x^*$ and $y^*$; $x^*$ will containin columns of bootstrap samples from sample #1, and $y^*$ will contain columns of bootstrap samples from sample #2.\n",
    "\n",
    "4. Then, for each bootstrap sample pair, calculate \n",
    "\n",
    "$$t^* = \\frac{\\bar{x^*}_j - \\bar{y^*}_j}{\\sqrt{\\sigma^{*^2}_1\\big/n_1 + \\sigma^{*^2}_2\\big/n_2}},$$\n",
    "\n",
    "where $\\bar{x^*}_j$ is the sample mean of the $j^{th}$ bootstrap sample from sample #1, and $\\bar{y^*}_j$ is the sample mean of the $j^{th}$ bootstrap sample from sample #2. $\\sigma^{*^2}_1$ and $\\sigma^{*^2}_2$ are the corresponding variance estimates of the $j^{th}$ bootstrap sample. $t^*$ will be a vector of length $B$ and will approximate the distribution of the test statistic $t$.\n",
    "\n",
    "5. Estimate the p-value using $$\\frac{\\text{# of times }\\{t^* \\ge t \\}}{B}.$$ \n",
    "\n"
   ]
  },
  {
   "cell_type": "markdown",
   "metadata": {},
   "source": [
    "#### (a) Generate $X_1,...,X_{20} \\overset{iid}{\\sim} N(0,2)$ and $Y_1,...,Y_{15} \\overset{iid}{\\sim} N(1,3)$, and then forget that you know $\\mu_1 = 0$ and $\\mu_2 = 1$. Use the bootstrap method described above to test $$H_0: \\mu_1 - \\mu_2 = 0 \\,\\,\\, vs \\,\\,\\, H_1: \\mu_1 - \\mu_2 \\ge 0. $$"
   ]
  },
  {
   "cell_type": "code",
   "execution_count": 208,
   "metadata": {},
   "outputs": [],
   "source": [
    "n1 = 20; mu1 = 0; var1 = 2;\n",
    "x = rnorm(n = n1, mean = mu1, sd = sqrt(var1))\n",
    "xbar = mean(x)\n",
    "\n",
    "n2 = 15; mu2 = 1; var2 = 3;\n",
    "y = rnorm(n = n2, mean = mu2, sd = sqrt(var2))\n",
    "ybar = mean(y)"
   ]
  },
  {
   "cell_type": "code",
   "execution_count": 209,
   "metadata": {},
   "outputs": [
    {
     "data": {
      "text/html": [
       "-2.95534856858372"
      ],
      "text/latex": [
       "-2.95534856858372"
      ],
      "text/markdown": [
       "-2.95534856858372"
      ],
      "text/plain": [
       "[1] -2.955349"
      ]
     },
     "metadata": {},
     "output_type": "display_data"
    }
   ],
   "source": [
    "# Calculate the test statistic\n",
    "t = (xbar - ybar) / sqrt((var1 / n1) + (var2 / n2))\n",
    "t"
   ]
  },
  {
   "cell_type": "code",
   "execution_count": 210,
   "metadata": {},
   "outputs": [],
   "source": [
    "# Create zbar from both sets and center x and y at zbar to make xPrime and yPrime\n",
    "z = c(x, y)\n",
    "zbar = mean(z)\n",
    "\n",
    "xPrime = x - xbar + zbar\n",
    "yPrime = y - ybar + zbar"
   ]
  },
  {
   "cell_type": "code",
   "execution_count": 211,
   "metadata": {},
   "outputs": [],
   "source": [
    "# Generate B bootstrap samples from xPrime and yPrime to get xStar and yStar\n",
    "B = 5000\n",
    "xStar = replicate(B, sample(xPrime, size = n1, replace = TRUE))\n",
    "yStar = replicate(B, sample(yPrime, size = n2, replace = TRUE))\n",
    "\n",
    "# Calculate mean and variance of each column\n",
    "xStarBar = colMeans(xStar)\n",
    "xStarVar = apply(xStar, 2, var)\n",
    "\n",
    "yStarBar = colMeans(yStar)\n",
    "yStarVar = apply(yStar, 2, var)"
   ]
  },
  {
   "cell_type": "code",
   "execution_count": 212,
   "metadata": {},
   "outputs": [
    {
     "data": {
      "text/html": [
       "5000"
      ],
      "text/latex": [
       "5000"
      ],
      "text/markdown": [
       "5000"
      ],
      "text/plain": [
       "[1] 5000"
      ]
     },
     "metadata": {},
     "output_type": "display_data"
    }
   ],
   "source": [
    "# For each bootstrap sample pair, calculate tStar.\n",
    "tStar = (xStarBar - yStarBar) / sqrt((xStarVar / n1) + (yStarVar / n2))\n",
    "length(tStar)"
   ]
  },
  {
   "cell_type": "code",
   "execution_count": 213,
   "metadata": {},
   "outputs": [
    {
     "name": "stdout",
     "output_type": "stream",
     "text": [
      "Out estimated p-value is 0.9968"
     ]
    }
   ],
   "source": [
    "# Calculate the estimated p-value\n",
    "pval = sum(tStar >= t) / B\n",
    "cat(\"Out estimated p-value is\", pval)"
   ]
  },
  {
   "cell_type": "markdown",
   "metadata": {},
   "source": [
    "Because our estimated p-value is $\\sim 0.9968 > 0.05$, we fail to reject the null hypothesis and assert that $\\mu_1 - \\mu_2 = 0$."
   ]
  },
  {
   "cell_type": "markdown",
   "metadata": {},
   "source": [
    "#### (b) Use t.test() to test the hypotheses in part (a)."
   ]
  },
  {
   "cell_type": "code",
   "execution_count": 214,
   "metadata": {
    "scrolled": true
   },
   "outputs": [
    {
     "data": {
      "text/plain": [
       "\n",
       "\tWelch Two Sample t-test\n",
       "\n",
       "data:  x and y\n",
       "t = -3.0246, df = 28.155, p-value = 0.9974\n",
       "alternative hypothesis: true difference in means is greater than 0\n",
       "95 percent confidence interval:\n",
       " -2.528958       Inf\n",
       "sample estimates:\n",
       " mean of x  mean of y \n",
       "-0.7472115  0.8714996 \n"
      ]
     },
     "metadata": {},
     "output_type": "display_data"
    }
   ],
   "source": [
    "t.test(x, y, alternative = \"greater\")"
   ]
  },
  {
   "cell_type": "markdown",
   "metadata": {},
   "source": [
    "#### (c) How much do the answers from (a) and (b) differ? Explain the relationship between these tests."
   ]
  },
  {
   "cell_type": "markdown",
   "metadata": {},
   "source": [
    "The two p-values are very similar, only having a 0.0006 difference between the two. Both tests perform the same functions, testing what the probability of observing the data is assuming that the null is true. In running the above code 3 times, we get different p-values for both tests: (0.9854, 0.9771), <br /> (0.9810, 0.9849), (0.7914, 0.79). Each time the tests are very similar, even if the relative p-values change based on the random samples. If our original samples had more data, we could expect both tests to be more constant in their evaluations. Similarly, we would likely see a greater difference between the two p-values if we used fewer bootstrap samples, such as 500 instead of 5000."
   ]
  },
  {
   "cell_type": "markdown",
   "metadata": {},
   "source": [
    "### Problem B.2\n",
    "\n",
    "A tennis club has two systems to measure the speed of a tennis ball. The local tennis pros suspect one system, ${\\tt speed1}$, is consistently recording faster speeds. To test her suspicions, she sets up both systems and records the speed of 12 serves (three serves from each side of the court). The values are stored in the data frame ${\\tt TENNIS}$, with variables ${\\tt speed1}$ and ${\\tt speed2}$. The recorded speeds are in kilometers per hour. You can access ${\\tt TENNIS}$ by installing the PASWR2 package (if you haven't dont so already: install.packages(\"PASWR2\")) and running:\n",
    "\n",
    "library(PASWR2)\n",
    "\n",
    "data(TENNIS)\n",
    "\n",
    "\n",
    "#### Does the evidence support the tennis pro's suspicion? Use the above bootstrap hypothesis testing procedure and $\\alpha = 0.1$. "
   ]
  },
  {
   "cell_type": "code",
   "execution_count": 87,
   "metadata": {},
   "outputs": [
    {
     "name": "stderr",
     "output_type": "stream",
     "text": [
      "Loading required package: lattice\n",
      "Loading required package: ggplot2\n"
     ]
    }
   ],
   "source": [
    "#install.packages(\"PASWR2\",dependencies = TRUE)\n",
    "library(PASWR2)\n",
    "data(TENNIS)\n",
    "\n",
    "s1 = TENNIS$speed1\n",
    "s2 = TENNIS$speed2\n",
    "\n",
    "# Get the length, sample mean and sample variance from each sample.\n",
    "n1 = length(s1)\n",
    "s1Bar = mean(s1)\n",
    "s1Var = var(s1)\n",
    "\n",
    "n2 = length(s2)\n",
    "s2Bar = mean(s2)\n",
    "s2Var = var(s2)"
   ]
  },
  {
   "cell_type": "code",
   "execution_count": 88,
   "metadata": {},
   "outputs": [
    {
     "data": {
      "text/html": [
       "-0.26746470499351"
      ],
      "text/latex": [
       "-0.26746470499351"
      ],
      "text/markdown": [
       "-0.26746470499351"
      ],
      "text/plain": [
       "[1] -0.2674647"
      ]
     },
     "metadata": {},
     "output_type": "display_data"
    }
   ],
   "source": [
    "# Calculate the test statistic\n",
    "t = (s1Bar - s2Bar) / sqrt((s1Var / n1) + (s2Var / n2))\n",
    "t"
   ]
  },
  {
   "cell_type": "code",
   "execution_count": 89,
   "metadata": {},
   "outputs": [],
   "source": [
    "# Calculate zBar from both statisitcs and center s1 and s2 at zBar\n",
    "z = c(s1, s2)\n",
    "zBar = mean(z)\n",
    "\n",
    "s1Prime = s1 - s1Bar + zBar\n",
    "s2Prime = s2 - s2Bar + zBar"
   ]
  },
  {
   "cell_type": "code",
   "execution_count": 90,
   "metadata": {},
   "outputs": [],
   "source": [
    "# Generate B bootstrap samples from s1Prime and s2Prime\n",
    "B = 5000\n",
    "s1Star = replicate(B, sample(s1Prime, size = n1, replace = TRUE))\n",
    "s2Star = replicate(B, sample(s2Prime, size = n2, replace = TRUE))\n",
    "\n",
    "s1StarBar = colMeans(s1Star)\n",
    "s1StarVar = apply(s1Star, 2, var)\n",
    "\n",
    "s2StarBar = colMeans(s2Star)\n",
    "s2StarVar = apply(s2Star, 2, var)"
   ]
  },
  {
   "cell_type": "code",
   "execution_count": 91,
   "metadata": {},
   "outputs": [
    {
     "data": {
      "text/html": [
       "5000"
      ],
      "text/latex": [
       "5000"
      ],
      "text/markdown": [
       "5000"
      ],
      "text/plain": [
       "[1] 5000"
      ]
     },
     "metadata": {},
     "output_type": "display_data"
    }
   ],
   "source": [
    "# Calculate tStar\n",
    "tStar = (s1StarBar - s2StarBar) / sqrt((s1StarVar / n1) + (s2StarVar / n2))\n",
    "length(tStar)"
   ]
  },
  {
   "cell_type": "code",
   "execution_count": 92,
   "metadata": {},
   "outputs": [
    {
     "data": {
      "text/html": [
       "0.593"
      ],
      "text/latex": [
       "0.593"
      ],
      "text/markdown": [
       "0.593"
      ],
      "text/plain": [
       "[1] 0.593"
      ]
     },
     "metadata": {},
     "output_type": "display_data"
    }
   ],
   "source": [
    "# Calculate estimated p-value\n",
    "pval = sum(tStar >= t) / B\n",
    "pval"
   ]
  },
  {
   "cell_type": "markdown",
   "metadata": {},
   "source": [
    "Using the bootstrap method from **Problem B.1**, we get a p-value of 0.593 > 0.1 so we fail to reject the null and assert that the two systems do not have a significant difference in their speed measurements."
   ]
  },
  {
   "cell_type": "markdown",
   "metadata": {},
   "source": [
    "### Problem B.3\n",
    "Let $X_1,...,X_{30} \\overset{iid}{\\sim}N(1,9)$. The formula for a 90% confidence interval for $\\mu$ is \n",
    "\n",
    "$$\\bar{X} \\pm 1.64\\frac{\\sigma}{\\sqrt{n}}.$$\n",
    "\n",
    "Let's conduct a simulation to confirm the coverage of this confidence interval.\n",
    "\n",
    "#### (a) Generate $m = 500$ random samples of size $n = 30$ from $N(1,9)$ and calculate the 90% confidence interval for each. Don't print anything."
   ]
  },
  {
   "cell_type": "code",
   "execution_count": 94,
   "metadata": {},
   "outputs": [],
   "source": [
    "sigma = 3\n",
    "m = 500\n",
    "n = 30\n",
    "x = replicate(m, sample(rnorm(n = n, mean = 1, sd = sigma)))\n",
    "xBar = colMeans(x)\n",
    "lowers = xBar - (1.64 * sigma / sqrt(n))\n",
    "uppers = xBar + (1.64 * sigma / sqrt(n))\n",
    "CIs = matrix(c(lowers, uppers), ncol = 2)"
   ]
  },
  {
   "cell_type": "markdown",
   "metadata": {},
   "source": [
    "#### (b) Estimate the coverage by finding the number of intervals that cover the true mean, and dividing my $m$."
   ]
  },
  {
   "cell_type": "code",
   "execution_count": 95,
   "metadata": {},
   "outputs": [],
   "source": [
    "isMeanCovered <- function(x){\n",
    "    return(x[1] <= 1 && x[2] >= 1)\n",
    "}"
   ]
  },
  {
   "cell_type": "code",
   "execution_count": 96,
   "metadata": {},
   "outputs": [
    {
     "data": {
      "text/html": [
       "0.9"
      ],
      "text/latex": [
       "0.9"
      ],
      "text/markdown": [
       "0.9"
      ],
      "text/plain": [
       "[1] 0.9"
      ]
     },
     "metadata": {},
     "output_type": "display_data"
    }
   ],
   "source": [
    "coverage = sum(apply(CIs, 1, isMeanCovered)) / m\n",
    "coverage"
   ]
  },
  {
   "cell_type": "markdown",
   "metadata": {},
   "source": [
    "The coverage of the Confidence Intervals is 0.9. This makes sense because we're evaluating our confidence intervals at 90% significance, meaning that we expect 9/10 of them to cover the true mean, which is confirmed by the calculations."
   ]
  },
  {
   "cell_type": "markdown",
   "metadata": {},
   "source": [
    "### Problem B.4\n",
    "\n",
    "Suppose that $X_1,...,X_8 \\overset{iid}{\\sim} Exp(\\lambda)$. \n",
    "\n",
    "\n",
    "#### (a) Compute a $90\\%$ pivot confidence interval for the population variance: $Var(X) = 1/\\lambda^2 = \\theta$.\n",
    "\n"
   ]
  },
  {
   "cell_type": "code",
   "execution_count": 102,
   "metadata": {},
   "outputs": [
    {
     "name": "stdout",
     "output_type": "stream",
     "text": [
      "The 90% pivot confidence interval is 0.02337527 0.05238412"
     ]
    }
   ],
   "source": [
    "set.seed(99)\n",
    "lambda = 5\n",
    "trueVar = 1/(lambda^2)\n",
    "n = 8\n",
    "x = rexp(n = n, rate = lambda)\n",
    "thetaHat = mean(x)^2\n",
    "# thetaHat\n",
    "# Bootstrap samples\n",
    "B = 5000\n",
    "boots = replicate(B, sample(x, size = n, replace = TRUE))\n",
    "thetaStarHat = apply(boots, 2, mean)^2\n",
    "# mean(thetaStarHat)\n",
    "lower = 2*thetaHat - as.numeric(quantile(thetaStarHat, probs = 0.95))\n",
    "upper = 2*thetaHat - as.numeric(quantile(thetaStarHat, probs = 0.05))\n",
    "CI = c(lower, upper)\n",
    "cat(\"The 90% pivot confidence interval is\", CI)"
   ]
  },
  {
   "cell_type": "markdown",
   "metadata": {},
   "source": [
    "#### (b) Investigate the coverage of the bootstrap pivot confidence interval from part (a)."
   ]
  },
  {
   "cell_type": "code",
   "execution_count": 103,
   "metadata": {},
   "outputs": [],
   "source": [
    "isVarCovered <- function(x){\n",
    "    return((x[1] <= trueVar) && (x[2] >= trueVar))\n",
    "}"
   ]
  },
  {
   "cell_type": "code",
   "execution_count": 109,
   "metadata": {
    "scrolled": true
   },
   "outputs": [
    {
     "data": {
      "text/html": [
       "1"
      ],
      "text/latex": [
       "1"
      ],
      "text/markdown": [
       "1"
      ],
      "text/plain": [
       "[1] 1"
      ]
     },
     "metadata": {},
     "output_type": "display_data"
    }
   ],
   "source": [
    "m = 500 # Number of confidence intervals\n",
    "B = 500 # Number of bootstraps per confidence interval\n",
    "CIs = matrix(nrow = m, ncol = 2)\n",
    "\n",
    "# Bootstrap samples\n",
    "for(i in 1:m){\n",
    "    # Generate B bootstrap samples from x\n",
    "    boots = replicate(B, sample(x, size = n, replace = TRUE))\n",
    "    # Calculate the variance of each column\n",
    "    thetaStarHat = apply(boots, 2, mean)^2\n",
    "    # Calculate the upper and lower bounds on the CI\n",
    "    lower = 2*thetaHat - as.numeric(quantile(thetaStarHat, probs = 0.95))\n",
    "    upper = 2*thetaHat - as.numeric(quantile(thetaStarHat, probs = 0.05))\n",
    "    # Add the new CI as a new row in the matrix of CIs\n",
    "    CIs[i, ] = c(lower, upper)\n",
    "}\n",
    "# We now have an m by 2 matrix of CIs. Want to see how many cover the true variance.\n",
    "coverage = sum(apply(CIs, 1, isVarCovered)) / m\n",
    "coverage"
   ]
  },
  {
   "cell_type": "markdown",
   "metadata": {},
   "source": [
    "After running multiple tests, we have found that the pivot confidence interval does not give us an accurate measurement. This is due to how skewed the data from the original sample is, as shown in the above histogram. The initial sample from the exponential distribution greatly affects whether all or none of the bootstrap data covers the true mean. Even with different size samples (changing n), different numbers of bootstraps (B), and different numbers of confidence intervals (m), this has been consistant across our trials."
   ]
  },
  {
   "cell_type": "markdown",
   "metadata": {},
   "source": [
    "### Problem B.5\n",
    "\n",
    "#### (a) Load the \"gala\" dataset, and describe the variables. "
   ]
  },
  {
   "cell_type": "code",
   "execution_count": 64,
   "metadata": {},
   "outputs": [
    {
     "data": {
      "text/html": [
       "<table>\n",
       "<thead><tr><th></th><th scope=col>Species</th><th scope=col>Endemics</th><th scope=col>Area</th><th scope=col>Elevation</th><th scope=col>Nearest</th><th scope=col>Scruz</th><th scope=col>Adjacent</th></tr></thead>\n",
       "<tbody>\n",
       "\t<tr><th scope=row>Baltra</th><td>58    </td><td>23    </td><td>25.09 </td><td>346   </td><td>0.6   </td><td> 0.6  </td><td>  1.84</td></tr>\n",
       "\t<tr><th scope=row>Bartolome</th><td>31    </td><td>21    </td><td> 1.24 </td><td>109   </td><td>0.6   </td><td>26.3  </td><td>572.33</td></tr>\n",
       "\t<tr><th scope=row>Caldwell</th><td> 3    </td><td> 3    </td><td> 0.21 </td><td>114   </td><td>2.8   </td><td>58.7  </td><td>  0.78</td></tr>\n",
       "\t<tr><th scope=row>Champion</th><td>25    </td><td> 9    </td><td> 0.10 </td><td> 46   </td><td>1.9   </td><td>47.4  </td><td>  0.18</td></tr>\n",
       "\t<tr><th scope=row>Coamano</th><td> 2    </td><td> 1    </td><td> 0.05 </td><td> 77   </td><td>1.9   </td><td> 1.9  </td><td>903.82</td></tr>\n",
       "\t<tr><th scope=row>Daphne.Major</th><td>18    </td><td>11    </td><td> 0.34 </td><td>119   </td><td>8.0   </td><td> 8.0  </td><td>  1.84</td></tr>\n",
       "</tbody>\n",
       "</table>\n"
      ],
      "text/latex": [
       "\\begin{tabular}{r|lllllll}\n",
       "  & Species & Endemics & Area & Elevation & Nearest & Scruz & Adjacent\\\\\n",
       "\\hline\n",
       "\tBaltra & 58     & 23     & 25.09  & 346    & 0.6    &  0.6   &   1.84\\\\\n",
       "\tBartolome & 31     & 21     &  1.24  & 109    & 0.6    & 26.3   & 572.33\\\\\n",
       "\tCaldwell &  3     &  3     &  0.21  & 114    & 2.8    & 58.7   &   0.78\\\\\n",
       "\tChampion & 25     &  9     &  0.10  &  46    & 1.9    & 47.4   &   0.18\\\\\n",
       "\tCoamano &  2     &  1     &  0.05  &  77    & 1.9    &  1.9   & 903.82\\\\\n",
       "\tDaphne.Major & 18     & 11     &  0.34  & 119    & 8.0    &  8.0   &   1.84\\\\\n",
       "\\end{tabular}\n"
      ],
      "text/markdown": [
       "\n",
       "| <!--/--> | Species | Endemics | Area | Elevation | Nearest | Scruz | Adjacent | \n",
       "|---|---|---|---|---|---|\n",
       "| Baltra | 58     | 23     | 25.09  | 346    | 0.6    |  0.6   |   1.84 | \n",
       "| Bartolome | 31     | 21     |  1.24  | 109    | 0.6    | 26.3   | 572.33 | \n",
       "| Caldwell |  3     |  3     |  0.21  | 114    | 2.8    | 58.7   |   0.78 | \n",
       "| Champion | 25     |  9     |  0.10  |  46    | 1.9    | 47.4   |   0.18 | \n",
       "| Coamano |  2     |  1     |  0.05  |  77    | 1.9    |  1.9   | 903.82 | \n",
       "| Daphne.Major | 18     | 11     |  0.34  | 119    | 8.0    |  8.0   |   1.84 | \n",
       "\n",
       "\n"
      ],
      "text/plain": [
       "             Species Endemics Area  Elevation Nearest Scruz Adjacent\n",
       "Baltra       58      23       25.09 346       0.6      0.6    1.84  \n",
       "Bartolome    31      21        1.24 109       0.6     26.3  572.33  \n",
       "Caldwell      3       3        0.21 114       2.8     58.7    0.78  \n",
       "Champion     25       9        0.10  46       1.9     47.4    0.18  \n",
       "Coamano       2       1        0.05  77       1.9      1.9  903.82  \n",
       "Daphne.Major 18      11        0.34 119       8.0      8.0    1.84  "
      ]
     },
     "metadata": {},
     "output_type": "display_data"
    }
   ],
   "source": [
    "# install.packages(\"faraway\", dependencies = TRUE)\n",
    "library(faraway)\n",
    "data(gala)\n",
    "head(gala)"
   ]
  },
  {
   "cell_type": "markdown",
   "metadata": {},
   "source": [
    "The data is about different plant species among the 30 Galapagos islands. Each row is a seperate island and the column variables include:\n",
    "- Species: The number of plant species on the island.\n",
    "- Endemics: The number of endemic species.\n",
    "- Area: The area of the island in $km^2$.\n",
    "- Elevation: The highest elevation of the island in $m$.\n",
    "- Nearest: The distance from the nearest island in $km$.\n",
    "- Scruz: The distance from Santa Cruz island in $km$.\n",
    "- Adjacent: The area of the adjacent island in $km^2$."
   ]
  },
  {
   "cell_type": "markdown",
   "metadata": {},
   "source": [
    "#### (b) Explore the relationship between the Species variable (response) and Endemics, Elevation, Nearest, and Adjacent (predictor variables). You might do so by creating four separate scatter plots (ideally, using ggplot()!). Do these relationships look linear? Does the variability in Species change as a function of any of the predictors? Are there any outliers in any of the plots?"
   ]
  },
  {
   "cell_type": "code",
   "execution_count": 103,
   "metadata": {
    "scrolled": false
   },
   "outputs": [
    {
     "data": {},
     "metadata": {},
     "output_type": "display_data"
    },
    {
     "data": {},
     "metadata": {},
     "output_type": "display_data"
    },
    {
     "data": {
      "image/png": "[encoded data removed]",
      "text/plain": [
       "plot without title"
      ]
     },
     "metadata": {},
     "output_type": "display_data"
    },
    {
     "data": {},
     "metadata": {},
     "output_type": "display_data"
    },
    {
     "data": {
      "image/png": "[encoded data removed]",
      "text/plain": [
       "plot without title"
      ]
     },
     "metadata": {},
     "output_type": "display_data"
    },
    {
     "data": {},
     "metadata": {},
     "output_type": "display_data"
    },
    {
     "data": {
      "image/png": "[encoded data removed]",
      "text/plain": [
       "plot without title"
      ]
     },
     "metadata": {},
     "output_type": "display_data"
    },
    {
     "data": {
      "image/png": "[encoded data removed]",
      "text/plain": [
       "plot without title"
      ]
     },
     "metadata": {},
     "output_type": "display_data"
    }
   ],
   "source": [
    "library(ggplot2)\n",
    "# ggplot(data = nameofdata) + geom_point(mapping = aes(x = predictor, y = response))\n",
    "ggplot(data = gala) + geom_point(mapping = aes(x = gala$Endemics, y = gala$Species))\n",
    "ggplot(data = gala) + geom_point(mapping = aes(x = gala$Elevation, y = gala$Species))\n",
    "ggplot(data = gala) + geom_point(mapping = aes(x = gala$Nearest, y = gala$Species))\n",
    "ggplot(data = gala) + geom_point(mapping = aes(x = gala$Adjacent, y = gala$Species))"
   ]
  },
  {
   "cell_type": "markdown",
   "metadata": {
    "collapsed": true
   },
   "source": [
    "Based on the scatterplots, we can make a reasonable guess as to the correlation between the predictors and the response. The Endemic and Elevation data both appear to be positively, linearly correlated to the number of species whereas the Nearest and Adjacent data do not appear correlated to the number of species.\n",
    "\n",
    "The variability of the correlated plots, being Endemic and Elevation, is notable. The Endemic data seems to have some spread in the number of species as Endemic predictor is increased, but not a large amount. In contrast, the variablility of the Elevation data is much greater as the data is relatively close when Elevation is low but very spread out when Elevation is high.\n",
    "\n",
    "The Species data is linear without any obvious outliers but the Elevation data does have more apparent outliers. The $\\sim (1500, 95)$ and $\\sim (850, 500)$ points are the most notable outliers and do not follow the linear relationship of the rest of the data. Because the Nearest and Adjacent data don't appear to be correlated to the number of species, it is not entirely useful to classify some of the points as outliers."
   ]
  }
 ],
 "metadata": {
  "kernelspec": {
   "display_name": "R",
   "language": "R",
   "name": "ir"
  },
  "language_info": {
   "codemirror_mode": "r",
   "file_extension": ".r",
   "mimetype": "text/x-r-source",
   "name": "R",
   "pygments_lexer": "r",
   "version": "3.4.3"
  }
 },
 "nbformat": 4,
 "nbformat_minor": 2
}
