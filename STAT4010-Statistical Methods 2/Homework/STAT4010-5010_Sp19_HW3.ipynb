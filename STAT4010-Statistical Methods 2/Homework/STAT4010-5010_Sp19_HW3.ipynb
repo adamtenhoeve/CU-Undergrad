{
 "cells": [
  {
   "cell_type": "markdown",
   "metadata": {},
   "source": [
    "# Homework #3\n",
    "\n",
    "**Due by midnight on Friday February 8, 2019**. Complete all of the following problems. Ideally, the theoretical problems should be answered in a Markdown cell directly underneath the question. If you don't know LaTex/Markdown, you may submit separate handwritten solutions to the theoretical problems. Please do not turn in messy work. Computational problems should be completed in this notebook (using the R kernel is preferred). Computational questions may require code, plots, analysis, interpretation, etc. Working in small groups is allowed, but it is important that you make an effort to master the material and hand in your own work. \n"
   ]
  },
  {
   "cell_type": "markdown",
   "metadata": {},
   "source": [
    "Name: Adam Ten Hoeve"
   ]
  },
  {
   "cell_type": "markdown",
   "metadata": {},
   "source": [
    "## A. Theoretical Problems"
   ]
  },
  {
   "cell_type": "markdown",
   "metadata": {},
   "source": [
    "### Problem A.1\n",
    "\n",
    "Assume that the variables $X$ and $Y$ are related linearly in a population and that a sample of $n$ data pairs, $(x_i, y_i)$, $i = 1,...n$, have been measured. Prove the following results:\n",
    "\n",
    "#### (a)   $\\displaystyle \\sum^n_{i=1}(x_i-\\bar{x}) = 0$.\n",
    "\n"
   ]
  },
  {
   "cell_type": "markdown",
   "metadata": {
    "collapsed": true
   },
   "source": [
    "$$\n",
    "\\begin{align*}\n",
    "\\sum_{i=1}^n(x_i - \\bar{x}) &= \\sum_{i=1}^n(x_i) - \\sum_{i=1}^n(\\bar{x}) \\\\\n",
    "&= \\sum_{i=1}^n(x_i) - \\sum_{i=1}^n \\Big( \\frac{1}{n} \\sum_{i=1}^{n}(x_i) \\Big) \\\\\n",
    "&= \\sum_{i=1}^n(x_i) - \\sum_{i=1}^n(x_i) \\\\\n",
    "&= 0\n",
    "\\end{align*}\n",
    "$$"
   ]
  },
  {
   "cell_type": "markdown",
   "metadata": {},
   "source": [
    "#### (b) $\\displaystyle \\sum^n_{i=1}(x_i - \\bar{x})^2 = \\sum^n_{i=1} x^2_i - n\\bar{x}^2$.\n",
    "\n"
   ]
  },
  {
   "cell_type": "markdown",
   "metadata": {},
   "source": [
    "$$\n",
    "\\begin{align*}\n",
    "\\sum^n_{i=1}(x_i - \\bar{x})^2 &= \\sum_{i=1}^n (x_i^2 - 2x_i\\bar{x} + \\bar{x}^2) \\\\\n",
    "&= \\sum_{i=1}^n (x_i^2) - \\sum_{i=1}^n 2x_i\\bar{x} + \\sum_{i=1}^n \\bar{x}^2 \\\\\n",
    "&= \\sum_{i=1}^n (x_i^2) - \\sum_{i=1}^n 2x_i (\\frac{1}{n} \\sum_{i=1}^n x_i) + \\sum_{i=1}^n (\\frac{1}{n} \\sum_{i=1}^n x_i)^2 \\\\\n",
    "&= \\sum_{i=1}^n (x_i^2) - \\frac{2}{n} \\sum_{i=1}^n x_i \\sum_{i=1}^n x_i + \\frac{1}{n} \\Big( \\sum_{i=1}^n x_i \\Big)^2 \\\\\n",
    "&= \\sum_{i=1}^n (x_i^2) - \\frac{2}{n} \\Big( \\sum_{i=1}^n x_i \\Big)^2 + \\frac{1}{n} \\Big( \\sum_{i=1}^n x_i \\Big)^2 \\\\\n",
    "&= \\sum_{i=1}^n (x_i^2) - \\frac{1}{n} \\Big( \\sum_{i=1}^n x_i \\Big)^2 \\\\\n",
    "\\text{Note that } \\bar{x}^2 = (\\frac{1}{n} \\sum_{i=1}^n x_i)^2 \\rightarrow n\\bar{x}^2 = \\frac{1}{n} (\\sum_{i=1}^n x_i)^2 \\\\\n",
    "&= \\sum_{i=1}^n x_i^2 - n\\bar{x}^2\n",
    "\\end{align*}\n",
    "$$"
   ]
  },
  {
   "cell_type": "markdown",
   "metadata": {},
   "source": [
    "#### (c) $\\displaystyle \\sum^n_{i=1}(x_i - \\bar{x})(Y_i - \\bar{Y}) = \\sum Y_ix_i - n\\bar{Y}\\bar{x}$"
   ]
  },
  {
   "cell_type": "markdown",
   "metadata": {},
   "source": [
    "$$\n",
    "\\begin{align*}\n",
    "    \\sum^n_{i=1}(x_i - \\bar{x})(Y_i - \\bar{Y}) &= \\sum^n_{i=1} (x_iY_i - x_i\\bar{y} - Y_i\\bar{x} + \\bar{x}\\bar{Y}) \\\\\n",
    "    &= \\sum^n_{i=1} x_iY_i - \\sum^n_{i=1}x_i(\\frac{1}{n}\\sum^n_{i=1}Y_i) - \\sum^n_{i=1}Y_i (\\frac{1}{n}\\sum^n_{i=1}x_i) + \\sum^n_{i=1} \\Big( (\\frac{1}{n}\\sum^n_{i=1}x_i) (\\frac{1}{n}\\sum^n_{i=1} Y_i) \\Big) \\\\\n",
    "    &= \\sum^n_{i=1} x_iY_i - \\frac{1}{n}\\sum^n_{i=1}x_i\\sum^n_{i=1}Y_i - \\frac{1}{n}\\sum^n_{i=1}Y_i\\sum^n_{i=1}x_i + \\frac{1}{n}\\sum^n_{i=1}x_i\\sum^n_{i=1}Y_i \\\\\n",
    "    &= \\sum^n_{i=1} x_iY_i - \\frac{1}{n}\\sum^n_{i=1}x_i\\sum^n_{i=1}Y_i \\\\\n",
    "    \\text{Note that } \\bar{x}\\bar{Y} = (\\frac{1}{n}\\sum^n_{i=1}x_i)(\\frac{1}{n}\\sum^n_{i=1}Y_i) \\rightarrow n\\bar{x}\\bar{Y} = \\frac{1}{n}\\sum^n_{i=1}x_i\\sum^n_{i=1}Y_i \\\\\n",
    "    &= \\sum^n_{i=1} x_iY_i - n\\bar{x}\\bar{Y}\n",
    "\\end{align*}\n",
    "$$"
   ]
  },
  {
   "cell_type": "markdown",
   "metadata": {},
   "source": [
    "#### (d) $\\displaystyle \\sum^n_{i=1}(\\bar{x}\\bar{y} - y_i\\bar{x}) = 0$. "
   ]
  },
  {
   "cell_type": "markdown",
   "metadata": {},
   "source": [
    "$$\n",
    "\\begin{align*}\n",
    "\\sum^n_{i=1}(\\bar{x}\\bar{y} - y_i\\bar{x}) &= \\bar{x}\\sum^n_{i=1}(y_i - \\bar{y}) \\\\ \n",
    "\\text{From part (a), we know that } \\sum^n_{i=1}(x_i-\\bar{x}) = 0 \\\\\n",
    "&= \\bar{x} ( 0 ) \\\\\n",
    "&= 0\n",
    "\\end{align*}\n",
    "$$"
   ]
  },
  {
   "cell_type": "markdown",
   "metadata": {},
   "source": [
    "### Problem A.2\n",
    "\n",
    "Consider the simple linear regression model $Y_i = \\beta_0 + \\beta_1x_i + \\varepsilon_i$ for $i = 1,...,n$, $\\,\\,\\,\\varepsilon_i \\sim N(0,\\sigma^2)$. In class, we showed that the least squares estimator in matrix-vector form is $\\mathbf{\\widehat{\\beta}} = (\\beta_0, \\beta_1)^T = (X^TX)^{-1}X^T\\mathbf{Y}$. In this problem, I want you to derive the least squares estimators individually, for simple linear regression. This should be easier, since it doesn't require linear algebra!\n",
    "\n",
    "Least squares requires that we minimize $$f(\\beta_0, \\beta_1) = \\sum^n_{i=1}\\bigg(Y_i - [\\beta_0 + \\beta_1x_i] \\bigg)^2$$ over $\\beta_0$ and $\\beta_1$. \n",
    "\n",
    "#### (a) Find the partial derivative of $f(\\beta_0, \\beta_1)$ with respect to $\\beta_0$, and the partial derivative of $f(\\beta_0, \\beta_1)$ with respect to $\\beta_1$. Recall that the partial derivative with respect to $x$ of a multivariate function $h(x,y)$ is calculated by taking the derivative  of $h$ with respect to $x$ while treating $y$ constant.\n"
   ]
  },
  {
   "cell_type": "markdown",
   "metadata": {},
   "source": [
    "To begin, we should note:\n",
    "$$ \\sum^n_{i=1}\\bigg(Y_i - [\\beta_0 + \\beta_1x_i] \\bigg)^2  = \\bigg( Y_1 - [\\beta_0 + \\beta_1x_1] \\bigg)^2 + ... + \\bigg( Y_n - [\\beta_0 + \\beta_1x_n] \\bigg)^2$$\n",
    "When we take the partials, it will be easier to take the partial of each individual term rather than as a sum.\n",
    "$$\n",
    "\\begin{align*}\n",
    "\\frac{\\partial}{\\partial \\beta_0} f(\\beta_0,\\beta_1) &= 2\\bigg( Y_1 - [\\beta_0 + \\beta_1x_1] \\bigg)(-1) + ... + 2\\bigg( Y_n - [\\beta_0 + \\beta_1x_n] \\bigg)(-1) \\\\\n",
    "&= (-2)\\sum_{i=1}^n \\big( Y_i - [\\beta_0 + \\beta_1x_i] \\big) \\\\\n",
    "\\frac{\\partial}{\\partial \\beta_1} f(\\beta_0,\\beta_1) &= 2\\bigg( Y_1 - [\\beta_0 + \\beta_1x_1] \\bigg)(-x_i) + ... + 2\\bigg( Y_n - [\\beta_0 + \\beta_1x_n] \\bigg)(-x_i) \\\\\n",
    "&= (-2)\\sum_{i=1}^n x_i\\big( Y_i - [\\beta_0 + \\beta_1x_i] \\big)\n",
    "\\end{align*}\n",
    "$$"
   ]
  },
  {
   "cell_type": "markdown",
   "metadata": {},
   "source": [
    "#### (b) Use part (a) to find the minimizers,  $\\widehat{\\beta}_0$ and $\\widehat{\\beta}_1$, of $f$. That is, set each partial derivative to zero and solve for $\\beta_0$ and $\\beta_1$. In particular, show\n",
    "\n",
    "\\begin{align*}\n",
    "\\widehat{\\beta}_1 &= \\frac{\\sum^n_{i=1}(x_i - \\bar{x})(Y_i -\\bar{Y})}{\\sum^n_{i=1}(x_i - \\bar{x})^2}  \\, \\, \\text{ and }\\\\ \\\\\n",
    "\\widehat{\\beta}_0 &= \\bar{Y} - \\widehat{\\beta}_1\\bar{x}.\n",
    "\\end{align*}"
   ]
  },
  {
   "cell_type": "markdown",
   "metadata": {},
   "source": [
    "First lets solve for $\\hat{\\beta}_0$\n",
    "$$\n",
    "\\begin{align*}\n",
    "    0 &= -2\\sum_{i=1}^n \\big( Y_i - [\\hat{\\beta_0} + \\hat{\\beta_1}x_i] \\big) \\\\\n",
    "    0 &= \\sum_{i=1}^n Y_i - \\sum_{i=1}^n \\hat{\\beta_0} - \\sum_{i=1}^n \\hat{\\beta_1}x_i \\\\\n",
    "    0 &= \\sum_{i=1}^n Y_i - n\\hat{\\beta_0} - \\hat{\\beta_1} \\sum_{i=1}^n x_i \\\\\n",
    "    n\\hat{\\beta_0} &= \\sum_{i=1}^n Y_i - \\hat{\\beta_1} \\sum_{i=1}^n x_i \\\\\n",
    "    \\hat{\\beta_0} &= \\frac{1}{n}\\sum_{i=1}^n Y_i - \\hat{\\beta_1}\\frac{1}{n} \\sum_{i=1}^n x_i \\\\\n",
    "\\end{align*}\n",
    "$$\n",
    "\n",
    "$$ \\boxed{ \\hat{\\beta_0} = \\bar{Y} - \\hat{\\beta_1}\\bar{x} } $$\n",
    "\n",
    "So $\\hat{\\beta_0}$ depends on $\\hat{\\beta_1}$. Let's solve for $\\hat{\\beta_1}$.\n",
    "$$\n",
    "\\begin{align*}\n",
    "    0 =& (-2)\\sum_{i=1}^n x_i \\big( Y_i - [\\hat{\\beta_0} + \\hat{\\beta_1}x_i] \\big) \\\\\n",
    "    0 =& \\sum_{i=1}^n x_iY_i - \\sum_{i=1}^n\\hat{\\beta_0}x_i - \\sum_{i=1}^n\\hat{\\beta_1}x_i^2 \n",
    "\\end{align*}\n",
    "$$\n",
    "Note that $\\bar{x} = \\frac{1}{n} \\sum_{i=1}^n x_i \\rightarrow n\\bar{x} = \\sum_{i=1}^n x_i$.\n",
    "\n",
    "$$ 0 = \\sum_{i=1}^n x_iY_i - \\hat{\\beta_0}n\\bar{x} - \\hat{\\beta_1} \\sum_{i=1}^n x_i^2 $$\n",
    "\n",
    "Substitue our equation for $\\hat{\\beta_1}$ into the above equation.\n",
    "$$ \n",
    "\\begin{align*}\n",
    "0 &= \\sum_{i=1}^n x_iY_i - (\\bar{Y} - \\hat{\\beta_1}\\bar{x})n\\bar{x} - \\hat{\\beta_1} \\sum_{i=1}^n x_i^2 \\\\\n",
    "\\hat{\\beta_1}\\sum_{i=1}^n x_i^2 - \\hat{\\beta_1}\\bar{x}^2n &= \\sum_{i=1}^n x_i Y_i - n\\bar{Y}\\bar{x} \\\\\n",
    "\\hat{\\beta_1} &= \\dfrac{\\sum_{i=1}^n x_i Y_i - n\\bar{Y}\\bar{x}}{\\sum_{i=1}^n x_iY_i - n\\bar{x}^2}\n",
    "\\end{align*}\n",
    "$$\n",
    "Substituting the equations from **A.1.b** and **A.1.c**, we can get $\\hat{\\beta_1}$ into its final equation.\n",
    "\n",
    "$$ \\boxed{ \\hat{\\beta}_1 = \\frac{\\sum^n_{i=1}(x_i - \\bar{x})(Y_i -\\bar{Y})}{\\sum^n_{i=1}(x_i - \\bar{x})^2} } $$"
   ]
  },
  {
   "cell_type": "markdown",
   "metadata": {},
   "source": [
    "### Problem A.3\n",
    "\n",
    "Explain whether you agree or disagree with the following statements:\n",
    "\n",
    "#### (a) $Cov(Y, X)$ and $Cor(Y, X)$ can take values between 0 and $\\infty$.\n"
   ]
  },
  {
   "cell_type": "markdown",
   "metadata": {},
   "source": [
    "This statement is false. The Covariance can take on any value $\\in [-\\infty, \\infty]$ because it does not account for the variance of the variables. The Correlation is a \"normalized\" version of the Covariance and all the values exist $ \\in [-1,1]$ where 1 is perfectly correlated and -1 is perfectly correlated in opposite directions. The main reason both can be negative is because two different variables can have inverse effects. An example of this is wavelength and frequency. As one of the values increases, the other decreases by a linear amount, meaning they are negatively correlated."
   ]
  },
  {
   "cell_type": "markdown",
   "metadata": {},
   "source": [
    "#### (b) If $Cov(Y,X) = 0$ or $Cor(Y,X) = 0$, one can conclude that there is no relationship between $Y$ and $X$.\n"
   ]
  },
  {
   "cell_type": "markdown",
   "metadata": {},
   "source": [
    "No. If $X$ & $Y$ are independent, then their covariance and correlation are 0. But if the covariance and correlation are 0, then they are not necesarily independent. For example, take the random variable $X \\sim N(0, \\sigma^2)$ and $Y=X^2$. Clearly, X and Y are related but $Cov(X,Y) = E[XY] - E[X]E[Y] = E[X^3] - 0 = 0$."
   ]
  },
  {
   "cell_type": "markdown",
   "metadata": {},
   "source": [
    "#### (c) The least squares line fitted to the points in the scatter plot of $Y$ versus $\\widehat{Y}$ has zero intercept and a unit slope (assume simple linear regression)."
   ]
  },
  {
   "cell_type": "markdown",
   "metadata": {},
   "source": [
    "This is true. The plot of $Y$ versus $\\hat{Y}$ is basically a plot of the error in the data. Because the error comes from $\\epsilon_i \\sim N(0,\\sigma^2)$, the least squares of the errors will then be centered at zero, because the mean is zero, and have a unit slope, because the data extends with a variation of $\\sigma^2$ from it on both sides. This is demonstrated by the graph from problem **B.1**. "
   ]
  },
  {
   "cell_type": "markdown",
   "metadata": {},
   "source": [
    "## B. Computational Problems"
   ]
  },
  {
   "cell_type": "markdown",
   "metadata": {},
   "source": [
    "### Problem B.1\n",
    "\n",
    "#### Run a simulation to confirm your result in problem A.3 part (c). That is, simulate some data with a known slope and intercept parameters, then fit an SLR model to the data, and plot the response vs the fitted values."
   ]
  },
  {
   "cell_type": "code",
   "execution_count": 33,
   "metadata": {},
   "outputs": [
    {
     "name": "stdout",
     "output_type": "stream",
     "text": [
      "The intercept of the least squares line for Y vs YHat is:  0 \n",
      "The slope of the least squares line for Y vs Yhat is:  1"
     ]
    },
    {
     "data": {
      "image/png": "[encoded data removed]",
      "text/plain": [
       "plot without title"
      ]
     },
     "metadata": {},
     "output_type": "display_data"
    }
   ],
   "source": [
    "# Using the linear equation y = 2x + 3. Using 30 datapoints.\n",
    "n = 30\n",
    "x = seq(0, 20, len = n)\n",
    "# Generate some error for the data so the data points don't form a perfect line.\n",
    "errors = rnorm(n, mean = 0, sd = 10)\n",
    "# Get all n coordinates (x,y) from the equation.\n",
    "y = 2*x + 3 + errors\n",
    "# Create a SLR model for the data and extract the slope and intercept\n",
    "lmod = lm(y ~ x)\n",
    "bestFitInter = coef(lmod)[1]\n",
    "bestFitMean = coef(lmod)[2]\n",
    "# Calculate points based on the best fit slope and intercept\n",
    "yHat = bestFitMean*x + bestFitInter\n",
    "# Plot Y vs. Yhat\n",
    "# plot(x = yHat, y = y, xlim = c(0, 30))\n",
    "plot(x = yHat, y = y)\n",
    "# Create another best-fit line for this plot\n",
    "lmod2 = lm(y ~ yHat) \n",
    "abline(lmod2)\n",
    "cat(\"The intercept of the least squares line for Y vs YHat is: \", coef(lmod2)[1] , \"\\n\")\n",
    "cat(\"The slope of the least squares line for Y vs Yhat is: \", coef(lmod2)[2])"
   ]
  },
  {
   "cell_type": "markdown",
   "metadata": {},
   "source": [
    "### Problem B.2\n",
    "\n",
    "This [link](http://www-bcf.usc.edu/~gareth/ISL/Advertising.csv) contains advertising data. This dataset contains, in thousands of dollars, TV, Radio, and Newspaper budgets for 200 different markets along with the Sales, in thousands of units, for each market.\n",
    "\n",
    "#### (a) Load the dataset using the link above, and explore it graphically and numerically. Are there relationships between variables?"
   ]
  },
  {
   "cell_type": "code",
   "execution_count": 9,
   "metadata": {},
   "outputs": [
    {
     "data": {
      "text/html": [
       "<table>\n",
       "<thead><tr><th scope=col>X</th><th scope=col>TV</th><th scope=col>radio</th><th scope=col>newspaper</th><th scope=col>sales</th></tr></thead>\n",
       "<tbody>\n",
       "\t<tr><td>1    </td><td>230.1</td><td>37.8 </td><td>69.2 </td><td>22.1 </td></tr>\n",
       "\t<tr><td>2    </td><td> 44.5</td><td>39.3 </td><td>45.1 </td><td>10.4 </td></tr>\n",
       "\t<tr><td>3    </td><td> 17.2</td><td>45.9 </td><td>69.3 </td><td> 9.3 </td></tr>\n",
       "\t<tr><td>4    </td><td>151.5</td><td>41.3 </td><td>58.5 </td><td>18.5 </td></tr>\n",
       "\t<tr><td>5    </td><td>180.8</td><td>10.8 </td><td>58.4 </td><td>12.9 </td></tr>\n",
       "\t<tr><td>6    </td><td>  8.7</td><td>48.9 </td><td>75.0 </td><td> 7.2 </td></tr>\n",
       "</tbody>\n",
       "</table>\n"
      ],
      "text/latex": [
       "\\begin{tabular}{r|lllll}\n",
       " X & TV & radio & newspaper & sales\\\\\n",
       "\\hline\n",
       "\t 1     & 230.1 & 37.8  & 69.2  & 22.1 \\\\\n",
       "\t 2     &  44.5 & 39.3  & 45.1  & 10.4 \\\\\n",
       "\t 3     &  17.2 & 45.9  & 69.3  &  9.3 \\\\\n",
       "\t 4     & 151.5 & 41.3  & 58.5  & 18.5 \\\\\n",
       "\t 5     & 180.8 & 10.8  & 58.4  & 12.9 \\\\\n",
       "\t 6     &   8.7 & 48.9  & 75.0  &  7.2 \\\\\n",
       "\\end{tabular}\n"
      ],
      "text/markdown": [
       "\n",
       "X | TV | radio | newspaper | sales | \n",
       "|---|---|---|---|---|---|\n",
       "| 1     | 230.1 | 37.8  | 69.2  | 22.1  | \n",
       "| 2     |  44.5 | 39.3  | 45.1  | 10.4  | \n",
       "| 3     |  17.2 | 45.9  | 69.3  |  9.3  | \n",
       "| 4     | 151.5 | 41.3  | 58.5  | 18.5  | \n",
       "| 5     | 180.8 | 10.8  | 58.4  | 12.9  | \n",
       "| 6     |   8.7 | 48.9  | 75.0  |  7.2  | \n",
       "\n",
       "\n"
      ],
      "text/plain": [
       "  X TV    radio newspaper sales\n",
       "1 1 230.1 37.8  69.2      22.1 \n",
       "2 2  44.5 39.3  45.1      10.4 \n",
       "3 3  17.2 45.9  69.3       9.3 \n",
       "4 4 151.5 41.3  58.5      18.5 \n",
       "5 5 180.8 10.8  58.4      12.9 \n",
       "6 6   8.7 48.9  75.0       7.2 "
      ]
     },
     "metadata": {},
     "output_type": "display_data"
    }
   ],
   "source": [
    "data = read.csv(\"Advertising.csv\")\n",
    "head(data)"
   ]
  },
  {
   "cell_type": "code",
   "execution_count": 10,
   "metadata": {},
   "outputs": [
    {
     "data": {
      "text/html": [
       "<table>\n",
       "<thead><tr><th></th><th scope=col>X</th><th scope=col>TV</th><th scope=col>radio</th><th scope=col>newspaper</th><th scope=col>sales</th></tr></thead>\n",
       "<tbody>\n",
       "\t<tr><th scope=row>X</th><td> 1.00000000</td><td>0.01771469 </td><td>-0.11068044</td><td>-0.15494414</td><td>-0.05161625</td></tr>\n",
       "\t<tr><th scope=row>TV</th><td> 0.01771469</td><td>1.00000000 </td><td> 0.05480866</td><td> 0.05664787</td><td> 0.78222442</td></tr>\n",
       "\t<tr><th scope=row>radio</th><td>-0.11068044</td><td>0.05480866 </td><td> 1.00000000</td><td> 0.35410375</td><td> 0.57622257</td></tr>\n",
       "\t<tr><th scope=row>newspaper</th><td>-0.15494414</td><td>0.05664787 </td><td> 0.35410375</td><td> 1.00000000</td><td> 0.22829903</td></tr>\n",
       "\t<tr><th scope=row>sales</th><td>-0.05161625</td><td>0.78222442 </td><td> 0.57622257</td><td> 0.22829903</td><td> 1.00000000</td></tr>\n",
       "</tbody>\n",
       "</table>\n"
      ],
      "text/latex": [
       "\\begin{tabular}{r|lllll}\n",
       "  & X & TV & radio & newspaper & sales\\\\\n",
       "\\hline\n",
       "\tX &  1.00000000 & 0.01771469  & -0.11068044 & -0.15494414 & -0.05161625\\\\\n",
       "\tTV &  0.01771469 & 1.00000000  &  0.05480866 &  0.05664787 &  0.78222442\\\\\n",
       "\tradio & -0.11068044 & 0.05480866  &  1.00000000 &  0.35410375 &  0.57622257\\\\\n",
       "\tnewspaper & -0.15494414 & 0.05664787  &  0.35410375 &  1.00000000 &  0.22829903\\\\\n",
       "\tsales & -0.05161625 & 0.78222442  &  0.57622257 &  0.22829903 &  1.00000000\\\\\n",
       "\\end{tabular}\n"
      ],
      "text/markdown": [
       "\n",
       "| <!--/--> | X | TV | radio | newspaper | sales | \n",
       "|---|---|---|---|---|\n",
       "| X |  1.00000000 | 0.01771469  | -0.11068044 | -0.15494414 | -0.05161625 | \n",
       "| TV |  0.01771469 | 1.00000000  |  0.05480866 |  0.05664787 |  0.78222442 | \n",
       "| radio | -0.11068044 | 0.05480866  |  1.00000000 |  0.35410375 |  0.57622257 | \n",
       "| newspaper | -0.15494414 | 0.05664787  |  0.35410375 |  1.00000000 |  0.22829903 | \n",
       "| sales | -0.05161625 | 0.78222442  |  0.57622257 |  0.22829903 |  1.00000000 | \n",
       "\n",
       "\n"
      ],
      "text/plain": [
       "          X           TV         radio       newspaper   sales      \n",
       "X          1.00000000 0.01771469 -0.11068044 -0.15494414 -0.05161625\n",
       "TV         0.01771469 1.00000000  0.05480866  0.05664787  0.78222442\n",
       "radio     -0.11068044 0.05480866  1.00000000  0.35410375  0.57622257\n",
       "newspaper -0.15494414 0.05664787  0.35410375  1.00000000  0.22829903\n",
       "sales     -0.05161625 0.78222442  0.57622257  0.22829903  1.00000000"
      ]
     },
     "metadata": {},
     "output_type": "display_data"
    }
   ],
   "source": [
    "cor(data, use = \"complete.obs\")"
   ]
  },
  {
   "cell_type": "code",
   "execution_count": 11,
   "metadata": {},
   "outputs": [
    {
     "data": {
      "image/png": "[encoded data removed]",
      "text/plain": [
       "plot without title"
      ]
     },
     "metadata": {},
     "output_type": "display_data"
    }
   ],
   "source": [
    "par(mfrow = c(2,2))\n",
    "\n",
    "plot(x = data$TV, y = data$sales);\n",
    "plot(x = data$radio, y = data$sales);\n",
    "plot(x = data$newspaper, y = data$sales);"
   ]
  },
  {
   "cell_type": "markdown",
   "metadata": {},
   "source": [
    "The above correlation table and graphs shown that TV is strongly correlated with sales (correlation = 0.7822), radio is somewhat correlated with sales (correlation = 0.5762), and newspaper is weekly correlated with sales (correlation = 0.2283)."
   ]
  },
  {
   "cell_type": "markdown",
   "metadata": {},
   "source": [
    "#### (b) Randomly split the dataset into two parts: a training set (80% of the data) and a testing set (20% of the data). "
   ]
  },
  {
   "cell_type": "code",
   "execution_count": 12,
   "metadata": {},
   "outputs": [],
   "source": [
    "# Set the seed for random numbers\n",
    "set.seed(99)\n",
    "# Sample size is 80% of the number of rows\n",
    "sampleSize = floor(0.8 * nrow(data))\n",
    "# Get random row indexes from the data set\n",
    "randIndexes = sample(seq_len(nrow(data)), size = sampleSize)\n",
    "# Create training set from rows with the random indexes. Make test set everything else.\n",
    "training = data[randIndexes, ]\n",
    "test = data[-randIndexes, ]"
   ]
  },
  {
   "cell_type": "markdown",
   "metadata": {},
   "source": [
    "#### (c) Conduct simple linear regression, using the lm() function and your training set, with sales as the response, and radio as the predictor. Print a summary and interpret the estimated coefficients. Write out the estimated regression equation."
   ]
  },
  {
   "cell_type": "code",
   "execution_count": 13,
   "metadata": {},
   "outputs": [
    {
     "data": {
      "text/plain": [
       "\n",
       "Call:\n",
       "lm(formula = training$sales ~ training$radio)\n",
       "\n",
       "Residuals:\n",
       "     Min       1Q   Median       3Q      Max \n",
       "-15.8620  -2.0937   0.8541   2.8860   8.0174 \n",
       "\n",
       "Coefficients:\n",
       "               Estimate Std. Error t value Pr(>|t|)    \n",
       "(Intercept)     9.06907    0.64632  14.032  < 2e-16 ***\n",
       "training$radio  0.21194    0.02337   9.067 4.53e-16 ***\n",
       "---\n",
       "Signif. codes:  0 '***' 0.001 '**' 0.01 '*' 0.05 '.' 0.1 ' ' 1\n",
       "\n",
       "Residual standard error: 4.41 on 158 degrees of freedom\n",
       "Multiple R-squared:  0.3423,\tAdjusted R-squared:  0.3381 \n",
       "F-statistic: 82.22 on 1 and 158 DF,  p-value: 4.525e-16\n"
      ]
     },
     "metadata": {},
     "output_type": "display_data"
    },
    {
     "data": {
      "text/html": [
       "<strong>(Intercept):</strong> 9.06907256020934"
      ],
      "text/latex": [
       "\\textbf{(Intercept):} 9.06907256020934"
      ],
      "text/markdown": [
       "**(Intercept):** 9.06907256020934"
      ],
      "text/plain": [
       "(Intercept) \n",
       "   9.069073 "
      ]
     },
     "metadata": {},
     "output_type": "display_data"
    },
    {
     "data": {
      "text/html": [
       "<strong>training$radio:</strong> 0.211942230254343"
      ],
      "text/latex": [
       "\\textbf{training\\textbackslash{}\\$radio:} 0.211942230254343"
      ],
      "text/markdown": [
       "**training$radio:** 0.211942230254343"
      ],
      "text/plain": [
       "training$radio \n",
       "     0.2119422 "
      ]
     },
     "metadata": {},
     "output_type": "display_data"
    }
   ],
   "source": [
    "linRadio = lm(training$sales ~ training$radio)\n",
    "summary(linRadio)\n",
    "coef(linRadio)[1]\n",
    "coef(linRadio)[2]"
   ]
  },
  {
   "cell_type": "markdown",
   "metadata": {},
   "source": [
    "For our training data, we got the equation $y = 0.212x + 9.069$. This means that increasing the amount of radio by 1 would only increase sales by 0.2119. This is not a very strong relationship between the two variables."
   ]
  },
  {
   "cell_type": "markdown",
   "metadata": {},
   "source": [
    "#### (c) Plot the data and overlay the least squares regression line. Report and interpret the coefficient of determination."
   ]
  },
  {
   "cell_type": "code",
   "execution_count": 14,
   "metadata": {},
   "outputs": [
    {
     "name": "stdout",
     "output_type": "stream",
     "text": [
      "The coefficeint of determination (R^2) is:  0.3422658"
     ]
    },
    {
     "data": {
      "image/png": "[encoded data removed]",
      "text/plain": [
       "plot without title"
      ]
     },
     "metadata": {},
     "output_type": "display_data"
    }
   ],
   "source": [
    "plot(x = training$radio, y = training$sales)\n",
    "abline(linRadio)\n",
    "cat(\"The coefficeint of determination (R^2) is: \", summary(linRadio)$r.squared)"
   ]
  },
  {
   "cell_type": "markdown",
   "metadata": {},
   "source": [
    "Our coefficient of determination is 0.3423, which is not close to 1. This means that the model does not explain most of the variaition in the data and that we should work to improve the model."
   ]
  },
  {
   "cell_type": "markdown",
   "metadata": {},
   "source": [
    "#### (d) Plot the residuals (y) against the fitted values (x). Does the variability in the residuals look constant as the fitted values increase? Interpret why that might be important. Also, produce a normal QQ-plot of the residuals. If the points of the QQ-plot roughly follow the line $y = x$, then we don't have evidence against normality of the residuals. How does the QQ-plot look for these residuals?"
   ]
  },
  {
   "cell_type": "code",
   "execution_count": 15,
   "metadata": {},
   "outputs": [
    {
     "ename": "ERROR",
     "evalue": "Error in plot(x = residualYs, y = residuals, xlab = \"Fitted Values\"): object 'residualYs' not found\n",
     "output_type": "error",
     "traceback": [
      "Error in plot(x = residualYs, y = residuals, xlab = \"Fitted Values\"): object 'residualYs' not found\nTraceback:\n",
      "1. plot(x = residualYs, y = residuals, xlab = \"Fitted Values\")"
     ]
    }
   ],
   "source": [
    "# Calculate the YHat value at for each radio data\n",
    "YHats = coef(linRadio)[2] * training$radio + coef(linRadio)[1]\n",
    "# Calculate the residials from y - yHat\n",
    "residuals = training$sales - YHats\n",
    "# Plot residuals vs yHat\n",
    "plot(x = residualYs, y = residuals, xlab = \"Fitted Values\")"
   ]
  },
  {
   "cell_type": "markdown",
   "metadata": {},
   "source": [
    "Based on the plot above, the variablility of the residuals increases as the fitted values get larger. This means that as the the model accounts for less variability of the sales vs radio data as the radio values get larger."
   ]
  },
  {
   "cell_type": "code",
   "execution_count": 16,
   "metadata": {},
   "outputs": [
    {
     "data": {
      "image/png": "[encoded data removed]",
      "text/plain": [
       "Plot with title \"Normal Q-Q Plot\""
      ]
     },
     "metadata": {},
     "output_type": "display_data"
    }
   ],
   "source": [
    "qqnorm(residuals, pch = 1, frame = FALSE)\n",
    "qqline(residuals, col = \"steelblue\", lwd = 2)"
   ]
  },
  {
   "cell_type": "markdown",
   "metadata": {},
   "source": [
    "From the QQplot, we can see that some of the data follows a normal distribution but also has more extreme values than would be expected at the tails. It is difficult to definitively tell if the data follows a normal distribution from the graph."
   ]
  },
  {
   "cell_type": "markdown",
   "metadata": {},
   "source": [
    "#### (e) We learned that, often, the goal of regression is to make predictions on new data. Let's see how well the model does at predicting values that we left out of the training set.\n",
    "\n",
    "#### We can get a sense of how well the model does at predicting by computing the prediction mean squared error (MSE):\n",
    "\n",
    "$$ MSE = \\frac{1}{n}\\sum^n_{i=1}\\bigg(y_i - \\widehat{y}_i \\bigg)^2.$$\n",
    "\n",
    "####  Compute the MSE for the data in the training set, and for data in the testing set. Which one is lower? Explain why you think it's lower."
   ]
  },
  {
   "cell_type": "code",
   "execution_count": 30,
   "metadata": {},
   "outputs": [
    {
     "data": {
      "text/html": [
       "19.2056661362235"
      ],
      "text/latex": [
       "19.2056661362235"
      ],
      "text/markdown": [
       "19.2056661362235"
      ],
      "text/plain": [
       "[1] 19.20567"
      ]
     },
     "metadata": {},
     "output_type": "display_data"
    },
    {
     "data": {
      "text/html": [
       "13.2083969857925"
      ],
      "text/latex": [
       "13.2083969857925"
      ],
      "text/markdown": [
       "13.2083969857925"
      ],
      "text/plain": [
       "[1] 13.2084"
      ]
     },
     "metadata": {},
     "output_type": "display_data"
    }
   ],
   "source": [
    "# Calculate the MSE for the training data\n",
    "trainingMSE = 1/nrow(training) * sum((training$sales - YHats)^2)\n",
    "\n",
    "# Create a linear model for the test data, create YHat from the slope and intercept of the linear model, and compute \n",
    "# the MSE.\n",
    "linTest = lm(test$sales ~ test$radio, data = test)\n",
    "testYHats = coef(linTest)[2] * test$radio + coef(linTest)[1]\n",
    "testingMSE = 1/nrow(test) * sum((test$sales - testYHats)^2)\n",
    "trainingMSE\n",
    "testingMSE"
   ]
  },
  {
   "cell_type": "markdown",
   "metadata": {},
   "source": [
    "The MSE of the testing set is 13.208 which is lower than the MSE of 19.206 of the training set. This is because the test set is smaller and contains fewer of the \"extremes\" than the training set. As shown in the questions above, the extreme values do not follow the same distribution and have higher variances, which results in less accurate predictions than the test data because it has fewer extremes."
   ]
  },
  {
   "cell_type": "markdown",
   "metadata": {},
   "source": [
    "### Problem B.3\n",
    "\n",
    "Now let's perform multiple linear regression using the dataset from Problem B.2\n",
    "\n",
    "\n",
    "#### (a) Perform MLR, using your training set, using sales as the response and all other variables as predictors."
   ]
  },
  {
   "cell_type": "code",
   "execution_count": 22,
   "metadata": {},
   "outputs": [
    {
     "data": {
      "text/plain": [
       "\n",
       "Call:\n",
       "lm(formula = sales ~ TV + radio + newspaper, data = training)\n",
       "\n",
       "Residuals:\n",
       "    Min      1Q  Median      3Q     Max \n",
       "-8.6118 -0.6569  0.1975  1.2522  2.7601 \n",
       "\n",
       "Coefficients:\n",
       "              Estimate Std. Error t value Pr(>|t|)    \n",
       "(Intercept)  2.9574591  0.3444175   8.587 8.59e-15 ***\n",
       "TV           0.0466668  0.0015979  29.206  < 2e-16 ***\n",
       "radio        0.1825387  0.0098530  18.526  < 2e-16 ***\n",
       "newspaper   -0.0007881  0.0064732  -0.122    0.903    \n",
       "---\n",
       "Signif. codes:  0 '***' 0.001 '**' 0.01 '*' 0.05 '.' 0.1 ' ' 1\n",
       "\n",
       "Residual standard error: 1.74 on 156 degrees of freedom\n",
       "Multiple R-squared:  0.8989,\tAdjusted R-squared:  0.897 \n",
       "F-statistic: 462.4 on 3 and 156 DF,  p-value: < 2.2e-16\n"
      ]
     },
     "metadata": {},
     "output_type": "display_data"
    }
   ],
   "source": [
    "mlr = lm(sales ~ TV + radio + newspaper, data = training)\n",
    "summary(mlr)"
   ]
  },
  {
   "cell_type": "markdown",
   "metadata": {},
   "source": [
    "#### (b) Interpret the estimated coefficient associated with TV. Interpret the coefficient of determination."
   ]
  },
  {
   "cell_type": "markdown",
   "metadata": {},
   "source": [
    "The estimated coefficient for TV is 0.0467, meaning 1 unit increase of TV will increase sales by 0.0467."
   ]
  },
  {
   "cell_type": "markdown",
   "metadata": {},
   "source": [
    "#### (c) Plot the residuals (y) against the fitted values (x). Do you notice any curvature in the residual plot? Also, produce a normal QQ-plot of the residuals. Do you have any worries about the normality of the residuals?"
   ]
  },
  {
   "cell_type": "code",
   "execution_count": 26,
   "metadata": {},
   "outputs": [
    {
     "data": {
      "image/png": "[encoded data removed]",
      "text/plain": [
       "plot without title"
      ]
     },
     "metadata": {},
     "output_type": "display_data"
    }
   ],
   "source": [
    "plot(y = resid(mlr), x = fitted(mlr))"
   ]
  },
  {
   "cell_type": "markdown",
   "metadata": {},
   "source": [
    "The graph does appear to be curved, beginning high then moving low around the midpoint and coming back up, similar to a U-shape."
   ]
  },
  {
   "cell_type": "code",
   "execution_count": 28,
   "metadata": {},
   "outputs": [
    {
     "data": {
      "image/png": "[encoded data removed]",
      "text/plain": [
       "Plot with title \"Normal Q-Q Plot\""
      ]
     },
     "metadata": {},
     "output_type": "display_data"
    }
   ],
   "source": [
    "qqnorm(resid(mlr), pch = 1, frame = FALSE)\n",
    "qqline(resid(mlr), col = \"steelblue\", lwd = 2)"
   ]
  },
  {
   "cell_type": "markdown",
   "metadata": {},
   "source": [
    "Similar to the SLR model, the QQplot shows that the residuals appear to be from a normal around the middle of the data but that there are too many values at the extremes to actually come from a normal."
   ]
  },
  {
   "cell_type": "markdown",
   "metadata": {},
   "source": [
    "#### (c) Compute the MSE for the data in the training set, and for data in the testing set. Which one is lower? Explain why you think it's lower."
   ]
  },
  {
   "cell_type": "code",
   "execution_count": 32,
   "metadata": {},
   "outputs": [
    {
     "data": {
      "text/html": [
       "2.95201951023682"
      ],
      "text/latex": [
       "2.95201951023682"
      ],
      "text/markdown": [
       "2.95201951023682"
      ],
      "text/plain": [
       "[1] 2.95202"
      ]
     },
     "metadata": {},
     "output_type": "display_data"
    },
    {
     "data": {
      "text/html": [
       "1.87864390527582"
      ],
      "text/latex": [
       "1.87864390527582"
      ],
      "text/markdown": [
       "1.87864390527582"
      ],
      "text/plain": [
       "[1] 1.878644"
      ]
     },
     "metadata": {},
     "output_type": "display_data"
    }
   ],
   "source": [
    "# Calculate the MSE for the training data\n",
    "trainingMSE = 1/nrow(training) * sum((training$sales - fitted(mlr))^2)\n",
    "\n",
    "# Create a linear model for the test data, create YHat from the slope and intercept of the linear model, and compute \n",
    "# the MSE.\n",
    "MLRTest = lm(sales ~ TV + radio + newspaper, data = test)\n",
    "testingMSE = 1/nrow(test) * sum((test$sales - fitted(MLRTest))^2)\n",
    "trainingMSE\n",
    "testingMSE"
   ]
  },
  {
   "cell_type": "markdown",
   "metadata": {},
   "source": [
    "Similar to the SLR model, the MSE of the test data (1.8786) is less than the MSE for the training data (2.9520), although both values are significantly less than that of the SLR model. And similar to the reason for the SLR model, the residuals at the extremes of the data are larger than those in the middle. Therefor, because the training set has more extremes it will have more of these larger residuals than the test set, which in turn increases the MSE of that sample."
   ]
  }
 ],
 "metadata": {
  "kernelspec": {
   "display_name": "R",
   "language": "R",
   "name": "ir"
  },
  "language_info": {
   "codemirror_mode": "r",
   "file_extension": ".r",
   "mimetype": "text/x-r-source",
   "name": "R",
   "pygments_lexer": "r",
   "version": "3.4.3"
  }
 },
 "nbformat": 4,
 "nbformat_minor": 2
}
