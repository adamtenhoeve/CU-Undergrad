{
 "cells": [
  {
   "cell_type": "code",
   "execution_count": null,
   "metadata": {},
   "outputs": [],
   "source": []
  },
  {
   "cell_type": "markdown",
   "metadata": {},
   "source": [
    "# Homework #1\n",
    "\n",
    "**Due in class on Friday January 25, 2019**. Complete all of the following problems. Ideally, the theoretical problems should be answered in a Markdown cell directly underneath the question. If you don't know LaTex/Markdown, you may submit separate handwritten solutions to the theoretical problems. Please do not turn in messy work. Computational problems should be completed in this notebook (using the R kernel is preferred). Computational questions may require code, plots, analysis, interpretation, etc. Working in small groups is allowed, but it is important that you make an effort to master the material and hand in your own work. \n"
   ]
  },
  {
   "cell_type": "markdown",
   "metadata": {},
   "source": [
    "Student: Adam Ten Hoeve"
   ]
  },
  {
   "cell_type": "markdown",
   "metadata": {},
   "source": [
    "## A. Theoretical Problems"
   ]
  },
  {
   "cell_type": "markdown",
   "metadata": {},
   "source": [
    "### Problem A.1\n"
   ]
  },
  {
   "cell_type": "markdown",
   "metadata": {},
   "source": [
    "Suppose that $X_1,...,X_n \\overset{iid}{\\sim}N(\\mu, \\sigma^2)$ and we are interested in an estimator for $\\theta = \\mu^2$. (Note that we will use the following calculuations to make comparisons to the parametric boostrap method explored below).\n",
    "\n",
    "#### (a) Find the maximum likelihood estimator for $\\theta$, denoted $\\widehat{\\theta}$."
   ]
  },
  {
   "cell_type": "markdown",
   "metadata": {
    "collapsed": true
   },
   "source": [
    "We want to find the $\\theta$ that maximizes that probability function. Note that the data comes from a normal distribution so one data point would come from the function: \n",
    "\n",
    "$$ f(X; \\mu^2) = \\dfrac{1}{\\sqrt{2\\pi \\sigma^2}}*e^{-\\frac{(x-\\mu)^2}{2\\sigma^2}} $$\n",
    "\n",
    "Since we have $n$ datapoints, we will multiply the probability functions together. This represents the probability of observing all of the observed data given the distribution.\n",
    "\n",
    "$$ f(X_1,...,X_n ; \\mu^2) = \\dfrac{1}{(2\\pi \\sigma^2)^{n/2}}*e^{-\\dfrac{\\sum_{i=1}^{n} \\Big(x_i-\\mu \\Big)^2}{2\\sigma^2}} $$\n",
    "\n",
    "To find the MLE, we will want to take the derivative of the above function and set it equal to zero. That would take some really ugly math so we can simplify it by taking the $\\log$ of both sides because logs are strictly monotonic functions.\n",
    "\n",
    "$$ NLL = \\ln \\Big[ f(X_1,...,X_n ; \\mu^2) \\Big] = -\\Big(\\frac{n}{2}\\Big)\\ln(2\\pi \\sigma^2) - \\Big(\\frac{1}{2\\sigma^2}\\Big) \\sum_{i=1}^n \\Big(x_i-\\mu \\Big)^2$$\n",
    "\n",
    "Solve for $MLE(\\mu) = \\frac{df}{d\\mu}$ and setting it equal to zero.\n",
    "\n",
    "$$ \\frac{\\partial NLL}{d\\mu} = 0 = \\dfrac{\\partial(-\\Big(\\frac{n}{2}\\Big)\\ln(2\\pi \\sigma^2) - \\Big(\\frac{1}{2\\sigma^2}\\Big) \\sum_{i=1}^n \\Big(x_i-\\mu \\Big)^2)}{\\partial \\theta} $$\n",
    "\n",
    "Note that the summation derives as:\n",
    "$$\\partial [(x_1 - \\mu)^2 + ...+(x_n -\\mu)^2 ]= 2(x_1 - \\mu)^2(-1) + ... + 2(x_n - \\mu)(-1)= -2\\sum_{i=1}^n x_i - \\mu $$\n",
    "\n",
    "Plugging this back in:\n",
    "\n",
    "$$ 0 = \\frac{-1}{2\\sigma^2}(-2)\\sum_{i=1}^n x_i - /u $$\n",
    "\n",
    "$$ 0 = \\sum_{i=1}^n x_i - \\mu $$\n",
    "\n",
    "$$ 0 = \\sum_{i=1}^n x_i - \\sum_{i=1}^n \\mu $$\n",
    "\n",
    "$$ n\\mu = \\sum_{i=1}^n x_i $$\n",
    "\n",
    "$$ \\mu = \\frac{1}{n} \\sum_{i=1}^n x_i $$\n",
    "\n",
    "Plug in $\\theta = \\mu^2$\n",
    "\n",
    "$$ \\sqrt{\\theta} = \\frac{1}{n} \\sum_{i=1}^n x_i $$\n",
    "\n",
    "$$ \\boxed{ \\hat{\\theta} = \\Big( \\frac{1}{n} \\sum_{i=1}^n x_i \\Big)^2 } $$\n",
    "\n",
    "Note that the equation inside the parenthesis is the same as the equation for $\\bar{x}$."
   ]
  },
  {
   "cell_type": "markdown",
   "metadata": {},
   "source": [
    "#### (b) Compute the bias of $\\widehat{\\theta}$, denoted $Bias(\\widehat{\\theta})$."
   ]
  },
  {
   "cell_type": "markdown",
   "metadata": {},
   "source": [
    "We can compute the bias using the equation $Bias(\\hat{\\theta}) = E(\\hat{\\theta}) - \\theta $. First, we substitute $\\hat{\\theta} \\rightarrow \\bar{x}^2$ and note that finding $E[\\bar{x}^2]$ would be difficult so instead we can use the equation $ Var(\\bar{x}) = E[\\bar{x}^2] - E[\\bar{x}]^2 \\rightarrow E[\\bar{x}^2] = Var(\\bar{x}) + E[\\bar{x}]^2.$ Therefor $Bias(\\hat{\\theta}) = Var(\\bar{x}) + E[\\bar{x}]^2 - \\theta$.\n",
    "\n",
    "Let's first solve for $E[\\bar{x}]$.\n",
    "\n",
    "$$ E[\\bar{x}] = E[\\frac{1}{n} \\sum_{i=1}^n x_i ] $$\n",
    "\n",
    "$$ = \\frac{1}{n} \\sum_{i=1}^n E[x_i] $$\n",
    "\n",
    "Because we know that the data is iid and comes from a normal distribution, we know that the expectation of each sampling is $\\mu$.\n",
    "\n",
    "$$ = \\frac{1}{n} \\sum_{i=1}^{n} \\mu $$\n",
    "\n",
    "$$ = \\mu $$\n",
    "\n",
    "Now let's solve for $Var(\\bar{x}).$\n",
    "\n",
    "$$ Var(\\bar{x}) = Var(\\frac{1}{n} \\sum_{i=1}^n x_i ) $$\n",
    "\n",
    "$$ = \\frac{1}{n^2} \\sum_{i=1}^n Var( x_i ) $$\n",
    "\n",
    "$$ = \\frac{1}{n^2} \\sum_{i=1}^n \\sigma^2 $$\n",
    "\n",
    "$$ = \\frac{1}{n^2} (n\\sigma^2) $$\n",
    "\n",
    "$$ = \\frac{\\sigma^2}{n} $$\n",
    "\n",
    "Now lets plug these values into our origional equation.\n",
    "\n",
    "$$ \\boxed{ Bias(\\hat{\\theta}) = Var(\\bar{x}) + E[\\bar{x}]^2 - \\theta = \\frac{\\sigma^2}{n} + \\mu^2 - \\mu^2 = \\frac{\\sigma^2}{n} }$$"
   ]
  },
  {
   "cell_type": "markdown",
   "metadata": {},
   "source": [
    "#### (c) (STAT 5010 Only) Compute the variance of $\\widehat{\\theta}$, denoted $Var(\\widehat{\\theta})$."
   ]
  },
  {
   "cell_type": "markdown",
   "metadata": {},
   "source": []
  },
  {
   "cell_type": "markdown",
   "metadata": {},
   "source": [
    "#### (d) Write down the natural estimates of $Bias(\\widehat{\\theta})$ and $Var(\\widehat{\\theta})$ (we wrote these formulas down in class)."
   ]
  },
  {
   "cell_type": "markdown",
   "metadata": {},
   "source": [
    "Bias: $ Bias_{\\hat{f}}(\\hat{\\theta}) \\approx \\frac{1}{\\beta} \\sum_{i=1}^{\\beta} \\hat{\\theta}_i^* - \\hat{\\theta} $\n",
    "\n",
    "Variance: $ Var_{\\hat{f}}(\\hat{\\theta}) \\approx \\frac{1}{1-\\beta} \\sum_{i=1}^{\\beta} (\\hat{\\theta}_i^* - \\bar{\\theta}^*) ^2$ where $ \\bar{\\theta}^* = \\frac{1}{\\beta} \\sum_{i=1}^{\\beta} \\hat{\\theta}_i^* $"
   ]
  },
  {
   "cell_type": "markdown",
   "metadata": {},
   "source": [
    "### Problem A.2\n",
    "\n",
    "#### Provide a brief explanation of the pros and cons of using the bootstrap for calculating confidence intervals."
   ]
  },
  {
   "cell_type": "markdown",
   "metadata": {},
   "source": [
    "**Pros:**\n",
    "- Can be performed on small data sets.\n",
    "- The sample data does not need to be normally distributed.\n",
    "- Can be used to perform CI's for many different parameters, not just the mean of the data. \n",
    "\n",
    "**Cons:**\n",
    "- Because the bootstrap method uses already sampled data, if the data has extreme or outlier data, then that will be reflected in the resamples.\n",
    "- Computationally expensive if used on large data sets because of the number of resamples."
   ]
  },
  {
   "cell_type": "markdown",
   "metadata": {},
   "source": [
    "## B. Computational Problems"
   ]
  },
  {
   "cell_type": "markdown",
   "metadata": {},
   "source": [
    "### Problem B.1"
   ]
  },
  {
   "cell_type": "markdown",
   "metadata": {},
   "source": [
    "#### Suppose that $X_1,...,X_8 \\overset{iid}{\\sim} \\Gamma(\\alpha, \\beta)$. Let's use the bootstrap to compute a $90\\%$ confidence interval for the population standard deviation: $sd(X) = \\sqrt{\\alpha/\\beta^2} = \\theta$.\n",
    "\n",
    "*Note: In this example, use the parameterization of the gamma distribution that R uses. This is different from the one used in STAT 4520/5520 math stat (the $\\beta$ here is $1/\\beta$ from math stat).*\n",
    "\n",
    "#### (a) State why a $\\chi^2$ confidence interval is not valid in this context.\n"
   ]
  },
  {
   "cell_type": "markdown",
   "metadata": {},
   "source": [
    "The $\\chi^2$ test for variance requires the data to be normally distributed. Because the data is taken from the gamma distribution, a $\\chi^2$ test is not applicable."
   ]
  },
  {
   "cell_type": "markdown",
   "metadata": {},
   "source": [
    "#### (b) Generate a sample of size $n = 8$ from $\\Gamma(\\alpha = 1, \\beta = 1/3)$ and calculate the true population standard deviation (in this example, we are generating data so that we can see how well our estimation procedure will do).\n"
   ]
  },
  {
   "cell_type": "code",
   "execution_count": 43,
   "metadata": {},
   "outputs": [
    {
     "data": {
      "text/html": [
       "<ol class=list-inline>\n",
       "\t<li>0.819716535702544</li>\n",
       "\t<li>4.2028828462397</li>\n",
       "\t<li>1.62098154548667</li>\n",
       "\t<li>9.2980566361805</li>\n",
       "\t<li>14.5287551590042</li>\n",
       "\t<li>2.73553322765183</li>\n",
       "\t<li>1.25052452260179</li>\n",
       "\t<li>0.696973579787054</li>\n",
       "</ol>\n"
      ],
      "text/latex": [
       "\\begin{enumerate*}\n",
       "\\item 0.819716535702544\n",
       "\\item 4.2028828462397\n",
       "\\item 1.62098154548667\n",
       "\\item 9.2980566361805\n",
       "\\item 14.5287551590042\n",
       "\\item 2.73553322765183\n",
       "\\item 1.25052452260179\n",
       "\\item 0.696973579787054\n",
       "\\end{enumerate*}\n"
      ],
      "text/markdown": [
       "1. 0.819716535702544\n",
       "2. 4.2028828462397\n",
       "3. 1.62098154548667\n",
       "4. 9.2980566361805\n",
       "5. 14.5287551590042\n",
       "6. 2.73553322765183\n",
       "7. 1.25052452260179\n",
       "8. 0.696973579787054\n",
       "\n",
       "\n"
      ],
      "text/plain": [
       "[1]  0.8197165  4.2028828  1.6209815  9.2980566 14.5287552  2.7355332  1.2505245\n",
       "[8]  0.6969736"
      ]
     },
     "metadata": {},
     "output_type": "display_data"
    }
   ],
   "source": [
    "n = 8\n",
    "smpl = rgamma(n = n, shape = 1, scale = 3)\n",
    "smpl"
   ]
  },
  {
   "cell_type": "markdown",
   "metadata": {},
   "source": [
    "The standard deviation of this distribution should be $\\sqrt{\\alpha / \\beta^2} = \\sqrt{1 / (1/3)^2} = 3 $"
   ]
  },
  {
   "cell_type": "markdown",
   "metadata": {},
   "source": [
    "#### (c) Generate $B = 200$ bootstrap samples from the above sample. Print the dimension, and articulate what each row/column represents. Avoid loops! (HINT: use the replicate() function.)\n"
   ]
  },
  {
   "cell_type": "code",
   "execution_count": 44,
   "metadata": {},
   "outputs": [
    {
     "data": {
      "text/html": [
       "<table>\n",
       "<tbody>\n",
       "\t<tr><td>4.2028828 </td><td> 1.2505245</td><td>0.8197165 </td><td> 1.2505245</td><td>1.6209815 </td><td> 0.8197165</td><td> 9.2980566</td><td> 1.2505245</td><td>1.2505245 </td><td>4.2028828 </td><td>...       </td><td>0.6969736 </td><td>14.5287552</td><td>1.6209815 </td><td> 4.2028828</td><td>14.528755 </td><td>0.6969736 </td><td>14.528755 </td><td>9.2980566 </td><td>2.7355332 </td><td>4.2028828 </td></tr>\n",
       "\t<tr><td>2.7355332 </td><td> 0.8197165</td><td>1.6209815 </td><td>14.5287552</td><td>2.7355332 </td><td> 1.2505245</td><td> 1.2505245</td><td> 1.6209815</td><td>4.2028828 </td><td>1.2505245 </td><td>...       </td><td>4.2028828 </td><td> 0.6969736</td><td>1.2505245 </td><td> 4.2028828</td><td> 4.202883 </td><td>9.2980566 </td><td> 1.250525 </td><td>1.2505245 </td><td>1.6209815 </td><td>0.8197165 </td></tr>\n",
       "\t<tr><td>0.8197165 </td><td> 0.8197165</td><td>0.8197165 </td><td>14.5287552</td><td>1.2505245 </td><td> 2.7355332</td><td> 0.6969736</td><td>14.5287552</td><td>2.7355332 </td><td>1.6209815 </td><td>...       </td><td>2.7355332 </td><td>14.5287552</td><td>2.7355332 </td><td> 0.6969736</td><td> 1.250525 </td><td>0.6969736 </td><td> 1.250525 </td><td>1.6209815 </td><td>0.8197165 </td><td>0.8197165 </td></tr>\n",
       "\t<tr><td>4.2028828 </td><td> 1.2505245</td><td>0.8197165 </td><td> 2.7355332</td><td>0.6969736 </td><td> 2.7355332</td><td> 4.2028828</td><td> 0.8197165</td><td>0.8197165 </td><td>4.2028828 </td><td>...       </td><td>1.6209815 </td><td> 1.6209815</td><td>0.8197165 </td><td> 4.2028828</td><td>14.528755 </td><td>9.2980566 </td><td> 4.202883 </td><td>1.6209815 </td><td>1.6209815 </td><td>2.7355332 </td></tr>\n",
       "\t<tr><td>9.2980566 </td><td>14.5287552</td><td>1.2505245 </td><td> 4.2028828</td><td>2.7355332 </td><td> 9.2980566</td><td> 2.7355332</td><td> 2.7355332</td><td>9.2980566 </td><td>4.2028828 </td><td>...       </td><td>0.8197165 </td><td> 1.2505245</td><td>0.6969736 </td><td>14.5287552</td><td> 1.620982 </td><td>2.7355332 </td><td> 2.735533 </td><td>2.7355332 </td><td>4.2028828 </td><td>2.7355332 </td></tr>\n",
       "\t<tr><td>2.7355332 </td><td> 1.2505245</td><td>1.2505245 </td><td> 1.6209815</td><td>9.2980566 </td><td> 1.6209815</td><td> 1.2505245</td><td> 0.8197165</td><td>9.2980566 </td><td>4.2028828 </td><td>...       </td><td>2.7355332 </td><td> 1.2505245</td><td>1.2505245 </td><td> 4.2028828</td><td> 1.250525 </td><td>2.7355332 </td><td> 1.620982 </td><td>1.2505245 </td><td>0.6969736 </td><td>0.6969736 </td></tr>\n",
       "\t<tr><td>1.2505245 </td><td> 2.7355332</td><td>1.6209815 </td><td> 1.6209815</td><td>1.6209815 </td><td>14.5287552</td><td> 0.8197165</td><td>14.5287552</td><td>2.7355332 </td><td>0.8197165 </td><td>...       </td><td>0.6969736 </td><td> 1.6209815</td><td>4.2028828 </td><td> 0.6969736</td><td> 2.735533 </td><td>0.8197165 </td><td> 1.250525 </td><td>0.8197165 </td><td>0.8197165 </td><td>4.2028828 </td></tr>\n",
       "\t<tr><td>0.8197165 </td><td> 1.6209815</td><td>1.6209815 </td><td> 0.8197165</td><td>2.7355332 </td><td> 9.2980566</td><td>14.5287552</td><td> 1.6209815</td><td>1.2505245 </td><td>2.7355332 </td><td>...       </td><td>4.2028828 </td><td> 9.2980566</td><td>9.2980566 </td><td>14.5287552</td><td> 9.298057 </td><td>4.2028828 </td><td> 1.250525 </td><td>4.2028828 </td><td>0.6969736 </td><td>0.6969736 </td></tr>\n",
       "</tbody>\n",
       "</table>\n"
      ],
      "text/latex": [
       "\\begin{tabular}{llllllllllllllllllllllllllllllllllllllllllllllllllllllllllllllllllllllllllllllllllllllllllllllllllllllllllllllllllllllllllllllllllllllllllllllllllllllllllllllllllllllllllllllllllllllllllllllllllllllll}\n",
       "\t 4.2028828  &  1.2505245 & 0.8197165  &  1.2505245 & 1.6209815  &  0.8197165 &  9.2980566 &  1.2505245 & 1.2505245  & 4.2028828  & ...        & 0.6969736  & 14.5287552 & 1.6209815  &  4.2028828 & 14.528755  & 0.6969736  & 14.528755  & 9.2980566  & 2.7355332  & 4.2028828 \\\\\n",
       "\t 2.7355332  &  0.8197165 & 1.6209815  & 14.5287552 & 2.7355332  &  1.2505245 &  1.2505245 &  1.6209815 & 4.2028828  & 1.2505245  & ...        & 4.2028828  &  0.6969736 & 1.2505245  &  4.2028828 &  4.202883  & 9.2980566  &  1.250525  & 1.2505245  & 1.6209815  & 0.8197165 \\\\\n",
       "\t 0.8197165  &  0.8197165 & 0.8197165  & 14.5287552 & 1.2505245  &  2.7355332 &  0.6969736 & 14.5287552 & 2.7355332  & 1.6209815  & ...        & 2.7355332  & 14.5287552 & 2.7355332  &  0.6969736 &  1.250525  & 0.6969736  &  1.250525  & 1.6209815  & 0.8197165  & 0.8197165 \\\\\n",
       "\t 4.2028828  &  1.2505245 & 0.8197165  &  2.7355332 & 0.6969736  &  2.7355332 &  4.2028828 &  0.8197165 & 0.8197165  & 4.2028828  & ...        & 1.6209815  &  1.6209815 & 0.8197165  &  4.2028828 & 14.528755  & 9.2980566  &  4.202883  & 1.6209815  & 1.6209815  & 2.7355332 \\\\\n",
       "\t 9.2980566  & 14.5287552 & 1.2505245  &  4.2028828 & 2.7355332  &  9.2980566 &  2.7355332 &  2.7355332 & 9.2980566  & 4.2028828  & ...        & 0.8197165  &  1.2505245 & 0.6969736  & 14.5287552 &  1.620982  & 2.7355332  &  2.735533  & 2.7355332  & 4.2028828  & 2.7355332 \\\\\n",
       "\t 2.7355332  &  1.2505245 & 1.2505245  &  1.6209815 & 9.2980566  &  1.6209815 &  1.2505245 &  0.8197165 & 9.2980566  & 4.2028828  & ...        & 2.7355332  &  1.2505245 & 1.2505245  &  4.2028828 &  1.250525  & 2.7355332  &  1.620982  & 1.2505245  & 0.6969736  & 0.6969736 \\\\\n",
       "\t 1.2505245  &  2.7355332 & 1.6209815  &  1.6209815 & 1.6209815  & 14.5287552 &  0.8197165 & 14.5287552 & 2.7355332  & 0.8197165  & ...        & 0.6969736  &  1.6209815 & 4.2028828  &  0.6969736 &  2.735533  & 0.8197165  &  1.250525  & 0.8197165  & 0.8197165  & 4.2028828 \\\\\n",
       "\t 0.8197165  &  1.6209815 & 1.6209815  &  0.8197165 & 2.7355332  &  9.2980566 & 14.5287552 &  1.6209815 & 1.2505245  & 2.7355332  & ...        & 4.2028828  &  9.2980566 & 9.2980566  & 14.5287552 &  9.298057  & 4.2028828  &  1.250525  & 4.2028828  & 0.6969736  & 0.6969736 \\\\\n",
       "\\end{tabular}\n"
      ],
      "text/markdown": [
       "\n",
       "| 4.2028828  |  1.2505245 | 0.8197165  |  1.2505245 | 1.6209815  |  0.8197165 |  9.2980566 |  1.2505245 | 1.2505245  | 4.2028828  | ...        | 0.6969736  | 14.5287552 | 1.6209815  |  4.2028828 | 14.528755  | 0.6969736  | 14.528755  | 9.2980566  | 2.7355332  | 4.2028828  | \n",
       "| 2.7355332  |  0.8197165 | 1.6209815  | 14.5287552 | 2.7355332  |  1.2505245 |  1.2505245 |  1.6209815 | 4.2028828  | 1.2505245  | ...        | 4.2028828  |  0.6969736 | 1.2505245  |  4.2028828 |  4.202883  | 9.2980566  |  1.250525  | 1.2505245  | 1.6209815  | 0.8197165  | \n",
       "| 0.8197165  |  0.8197165 | 0.8197165  | 14.5287552 | 1.2505245  |  2.7355332 |  0.6969736 | 14.5287552 | 2.7355332  | 1.6209815  | ...        | 2.7355332  | 14.5287552 | 2.7355332  |  0.6969736 |  1.250525  | 0.6969736  |  1.250525  | 1.6209815  | 0.8197165  | 0.8197165  | \n",
       "| 4.2028828  |  1.2505245 | 0.8197165  |  2.7355332 | 0.6969736  |  2.7355332 |  4.2028828 |  0.8197165 | 0.8197165  | 4.2028828  | ...        | 1.6209815  |  1.6209815 | 0.8197165  |  4.2028828 | 14.528755  | 9.2980566  |  4.202883  | 1.6209815  | 1.6209815  | 2.7355332  | \n",
       "| 9.2980566  | 14.5287552 | 1.2505245  |  4.2028828 | 2.7355332  |  9.2980566 |  2.7355332 |  2.7355332 | 9.2980566  | 4.2028828  | ...        | 0.8197165  |  1.2505245 | 0.6969736  | 14.5287552 |  1.620982  | 2.7355332  |  2.735533  | 2.7355332  | 4.2028828  | 2.7355332  | \n",
       "| 2.7355332  |  1.2505245 | 1.2505245  |  1.6209815 | 9.2980566  |  1.6209815 |  1.2505245 |  0.8197165 | 9.2980566  | 4.2028828  | ...        | 2.7355332  |  1.2505245 | 1.2505245  |  4.2028828 |  1.250525  | 2.7355332  |  1.620982  | 1.2505245  | 0.6969736  | 0.6969736  | \n",
       "| 1.2505245  |  2.7355332 | 1.6209815  |  1.6209815 | 1.6209815  | 14.5287552 |  0.8197165 | 14.5287552 | 2.7355332  | 0.8197165  | ...        | 0.6969736  |  1.6209815 | 4.2028828  |  0.6969736 |  2.735533  | 0.8197165  |  1.250525  | 0.8197165  | 0.8197165  | 4.2028828  | \n",
       "| 0.8197165  |  1.6209815 | 1.6209815  |  0.8197165 | 2.7355332  |  9.2980566 | 14.5287552 |  1.6209815 | 1.2505245  | 2.7355332  | ...        | 4.2028828  |  9.2980566 | 9.2980566  | 14.5287552 |  9.298057  | 4.2028828  |  1.250525  | 4.2028828  | 0.6969736  | 0.6969736  | \n",
       "\n",
       "\n"
      ],
      "text/plain": [
       "     [,1]      [,2]       [,3]      [,4]       [,5]      [,6]       [,7]      \n",
       "[1,] 4.2028828  1.2505245 0.8197165  1.2505245 1.6209815  0.8197165  9.2980566\n",
       "[2,] 2.7355332  0.8197165 1.6209815 14.5287552 2.7355332  1.2505245  1.2505245\n",
       "[3,] 0.8197165  0.8197165 0.8197165 14.5287552 1.2505245  2.7355332  0.6969736\n",
       "[4,] 4.2028828  1.2505245 0.8197165  2.7355332 0.6969736  2.7355332  4.2028828\n",
       "[5,] 9.2980566 14.5287552 1.2505245  4.2028828 2.7355332  9.2980566  2.7355332\n",
       "[6,] 2.7355332  1.2505245 1.2505245  1.6209815 9.2980566  1.6209815  1.2505245\n",
       "[7,] 1.2505245  2.7355332 1.6209815  1.6209815 1.6209815 14.5287552  0.8197165\n",
       "[8,] 0.8197165  1.6209815 1.6209815  0.8197165 2.7355332  9.2980566 14.5287552\n",
       "     [,8]       [,9]      [,10]     [,11] [,12]     [,13]      [,14]    \n",
       "[1,]  1.2505245 1.2505245 4.2028828 ...   0.6969736 14.5287552 1.6209815\n",
       "[2,]  1.6209815 4.2028828 1.2505245 ...   4.2028828  0.6969736 1.2505245\n",
       "[3,] 14.5287552 2.7355332 1.6209815 ...   2.7355332 14.5287552 2.7355332\n",
       "[4,]  0.8197165 0.8197165 4.2028828 ...   1.6209815  1.6209815 0.8197165\n",
       "[5,]  2.7355332 9.2980566 4.2028828 ...   0.8197165  1.2505245 0.6969736\n",
       "[6,]  0.8197165 9.2980566 4.2028828 ...   2.7355332  1.2505245 1.2505245\n",
       "[7,] 14.5287552 2.7355332 0.8197165 ...   0.6969736  1.6209815 4.2028828\n",
       "[8,]  1.6209815 1.2505245 2.7355332 ...   4.2028828  9.2980566 9.2980566\n",
       "     [,15]      [,16]     [,17]     [,18]     [,19]     [,20]     [,21]    \n",
       "[1,]  4.2028828 14.528755 0.6969736 14.528755 9.2980566 2.7355332 4.2028828\n",
       "[2,]  4.2028828  4.202883 9.2980566  1.250525 1.2505245 1.6209815 0.8197165\n",
       "[3,]  0.6969736  1.250525 0.6969736  1.250525 1.6209815 0.8197165 0.8197165\n",
       "[4,]  4.2028828 14.528755 9.2980566  4.202883 1.6209815 1.6209815 2.7355332\n",
       "[5,] 14.5287552  1.620982 2.7355332  2.735533 2.7355332 4.2028828 2.7355332\n",
       "[6,]  4.2028828  1.250525 2.7355332  1.620982 1.2505245 0.6969736 0.6969736\n",
       "[7,]  0.6969736  2.735533 0.8197165  1.250525 0.8197165 0.8197165 4.2028828\n",
       "[8,] 14.5287552  9.298057 4.2028828  1.250525 4.2028828 0.6969736 0.6969736"
      ]
     },
     "metadata": {},
     "output_type": "display_data"
    },
    {
     "data": {
      "text/html": [
       "<ol class=list-inline>\n",
       "\t<li>8</li>\n",
       "\t<li>200</li>\n",
       "</ol>\n"
      ],
      "text/latex": [
       "\\begin{enumerate*}\n",
       "\\item 8\n",
       "\\item 200\n",
       "\\end{enumerate*}\n"
      ],
      "text/markdown": [
       "1. 8\n",
       "2. 200\n",
       "\n",
       "\n"
      ],
      "text/plain": [
       "[1]   8 200"
      ]
     },
     "metadata": {},
     "output_type": "display_data"
    }
   ],
   "source": [
    "B = 200\n",
    "resamples = replicate(B, sample(smpl, size = n, replace = TRUE))\n",
    "resamples\n",
    "dim(resamples)"
   ]
  },
  {
   "cell_type": "markdown",
   "metadata": {},
   "source": [
    "The resamples matrix is 8 rows by 200 columns. This is because each column represents a single resampling of the data, with replacement, so the 200 columns are 200 resamples. There are 8 rows because each resample is the same size as the original sample."
   ]
  },
  {
   "cell_type": "markdown",
   "metadata": {},
   "source": [
    "#### (d) Calculate and print the MLE of $\\theta$ for the original sample. Denote this as $\\widehat{\\theta}$. Then, calculate the MLE of $\\theta$ for each bootstrap sample. Denote this as $\\widehat{\\theta}^*_i$, for $i = 1,...,B$. Avoid loops! (HINT: use the apply() function.) Display a histogram of these values."
   ]
  },
  {
   "cell_type": "code",
   "execution_count": 45,
   "metadata": {},
   "outputs": [
    {
     "name": "stdout",
     "output_type": "stream",
     "text": [
      "Theta-hat is  4.657852"
     ]
    }
   ],
   "source": [
    "# Calculate the standard deviation of the original sample.\n",
    "thetaHat = sqrt((n-1) / n) * sd(smpl)\n",
    "cat (\"Theta-hat is \", thetaHat)"
   ]
  },
  {
   "cell_type": "code",
   "execution_count": 46,
   "metadata": {},
   "outputs": [
    {
     "data": {
      "image/png": "[encoded data removed]",
      "text/plain": [
       "Plot with title \"Histogram of MLE's Bootstrap samples\""
      ]
     },
     "metadata": {},
     "output_type": "display_data"
    }
   ],
   "source": [
    "# Calculate the standard deviation of the bootstrap samples.\n",
    "thetaStarHat = sqrt((n-1) / n) * apply(resamples, 2, sd)\n",
    "hist(thetaStarHat,\n",
    "     main = \"Histogram of MLE's Bootstrap samples\",\n",
    "     col = \"thistle\")"
   ]
  },
  {
   "cell_type": "markdown",
   "metadata": {},
   "source": [
    "#### (e) Use the quantile() function to find the 5th and 95th percentile of the distribution of $\\widehat{\\theta}^*_i$. Use these values to calculate the $90\\%$ boostrap confidence interval for $\\theta$. "
   ]
  },
  {
   "cell_type": "code",
   "execution_count": 47,
   "metadata": {},
   "outputs": [
    {
     "name": "stdout",
     "output_type": "stream",
     "text": [
      "The 90% bootstrap confidence interval is 3.501705 8.116038"
     ]
    }
   ],
   "source": [
    "q = as.numeric(quantile(thetaStarHat, c(0.05, 0.95)))\n",
    "l = 2*sqrt((n-1) / n) * sd(smpl) - q[2]\n",
    "u = 2*sqrt((n-1) / n) * sd(smpl) - q[1]\n",
    "CI = c(l, u)\n",
    "cat(\"The 90% bootstrap confidence interval is\", CI)"
   ]
  },
  {
   "cell_type": "markdown",
   "metadata": {},
   "source": [
    "#### (f) Interpret this confidence interval."
   ]
  },
  {
   "cell_type": "markdown",
   "metadata": {
    "collapsed": true
   },
   "source": [
    "From the bootstrap, we are 90% confident that the standard deviation lies between $\\sim [1.724, 2.625]$. However, our true parameter was 3 which is not covered by the interval. This means that this was one of the 10% of times that the interval would not cover the standard deviation. If we were to run this entire simulation again, we would get a new gamma samples, new bootstrap samples, and a new confidence interval that could contain the true value. "
   ]
  },
  {
   "cell_type": "markdown",
   "metadata": {},
   "source": [
    "### Problem B.2"
   ]
  },
  {
   "cell_type": "markdown",
   "metadata": {},
   "source": [
    "Thus far, we've been looking at the *nonparametric bootstrap*. In this problem, we look at the *parametric bootstrap* as a way of estimating the bias and variance of an estimator $\\widehat{\\theta} = \\bar{X}^2$ of $\\theta = \\mu^2$ (in problem A.1 you calculated these values exactly).\n",
    "\n",
    "#### (a) Generate $X_1,...,X_{20} \\overset{iid}{\\sim}N(\\mu = 2, \\sigma^2 = 1)$, and then forget that you know $\\mu$ and $\\sigma^2$. Find the sample mean and sample variance. "
   ]
  },
  {
   "cell_type": "code",
   "execution_count": 426,
   "metadata": {},
   "outputs": [
    {
     "data": {
      "text/html": [
       "<ol class=list-inline>\n",
       "\t<li>1.50414243032034</li>\n",
       "\t<li>1.80756524171987</li>\n",
       "\t<li>1.72125668345407</li>\n",
       "\t<li>2.57566790851664</li>\n",
       "\t<li>2.82492022292156</li>\n",
       "\t<li>1.44340935468159</li>\n",
       "\t<li>2.64375166411978</li>\n",
       "\t<li>4.61439462067924</li>\n",
       "\t<li>2.17743358688641</li>\n",
       "\t<li>2.07511598737758</li>\n",
       "\t<li>1.05633013803401</li>\n",
       "\t<li>2.45630245895411</li>\n",
       "\t<li>3.13991134552701</li>\n",
       "\t<li>2.14683306997676</li>\n",
       "\t<li>1.55118977723899</li>\n",
       "\t<li>1.0072884972847</li>\n",
       "\t<li>3.10488563671164</li>\n",
       "\t<li>2.71160653086443</li>\n",
       "\t<li>0.487978244038687</li>\n",
       "\t<li>2.11761578560792</li>\n",
       "</ol>\n"
      ],
      "text/latex": [
       "\\begin{enumerate*}\n",
       "\\item 1.50414243032034\n",
       "\\item 1.80756524171987\n",
       "\\item 1.72125668345407\n",
       "\\item 2.57566790851664\n",
       "\\item 2.82492022292156\n",
       "\\item 1.44340935468159\n",
       "\\item 2.64375166411978\n",
       "\\item 4.61439462067924\n",
       "\\item 2.17743358688641\n",
       "\\item 2.07511598737758\n",
       "\\item 1.05633013803401\n",
       "\\item 2.45630245895411\n",
       "\\item 3.13991134552701\n",
       "\\item 2.14683306997676\n",
       "\\item 1.55118977723899\n",
       "\\item 1.0072884972847\n",
       "\\item 3.10488563671164\n",
       "\\item 2.71160653086443\n",
       "\\item 0.487978244038687\n",
       "\\item 2.11761578560792\n",
       "\\end{enumerate*}\n"
      ],
      "text/markdown": [
       "1. 1.50414243032034\n",
       "2. 1.80756524171987\n",
       "3. 1.72125668345407\n",
       "4. 2.57566790851664\n",
       "5. 2.82492022292156\n",
       "6. 1.44340935468159\n",
       "7. 2.64375166411978\n",
       "8. 4.61439462067924\n",
       "9. 2.17743358688641\n",
       "10. 2.07511598737758\n",
       "11. 1.05633013803401\n",
       "12. 2.45630245895411\n",
       "13. 3.13991134552701\n",
       "14. 2.14683306997676\n",
       "15. 1.55118977723899\n",
       "16. 1.0072884972847\n",
       "17. 3.10488563671164\n",
       "18. 2.71160653086443\n",
       "19. 0.487978244038687\n",
       "20. 2.11761578560792\n",
       "\n",
       "\n"
      ],
      "text/plain": [
       " [1] 1.5041424 1.8075652 1.7212567 2.5756679 2.8249202 1.4434094 2.6437517\n",
       " [8] 4.6143946 2.1774336 2.0751160 1.0563301 2.4563025 3.1399113 2.1468331\n",
       "[15] 1.5511898 1.0072885 3.1048856 2.7116065 0.4879782 2.1176158"
      ]
     },
     "metadata": {},
     "output_type": "display_data"
    }
   ],
   "source": [
    "# Generate data from normal distribution\n",
    "n = 20; mu = 2; var = 1;\n",
    "norm = rnorm(n, mean = mu, sd = sqrt(var))\n",
    "norm"
   ]
  },
  {
   "cell_type": "code",
   "execution_count": 436,
   "metadata": {},
   "outputs": [
    {
     "name": "stdout",
     "output_type": "stream",
     "text": [
      "The sample mean is 2.15838 and the sample variance is 0.8474205"
     ]
    }
   ],
   "source": [
    "# Calculate sample mean and sample variance\n",
    "xBar = mean(norm)\n",
    "s2 = var(norm)\n",
    "cat(\"The sample mean is\", xBar, \"and the sample variance is\", s2)"
   ]
  },
  {
   "cell_type": "markdown",
   "metadata": {},
   "source": [
    "#### (b) Define $\\widehat{N}$ to be the distribution of the variable $X_i$ in the population with the sample estimates plugged in for the unknown population parameters. Write down $\\widehat{N}$ based on the data generated in (a). "
   ]
  },
  {
   "cell_type": "markdown",
   "metadata": {},
   "source": [
    "$\\widehat{N} \\sim N(\\mu = 2.16,\\sigma^2 = 0.847)$"
   ]
  },
  {
   "cell_type": "markdown",
   "metadata": {},
   "source": [
    "#### (c) Draw $B = 500$ boostrap samples from $\\widehat{N}$, and for each bootstrap sample $(X_{1,j},...,X_{20,j})$, compute $$ \\widehat{\\theta}^*_j = \\bigg(\\frac{1}{20}\\sum^{20}_{i=1}X^*_{i,j}\\bigg)^2,$$ where $j = 1,...,B$."
   ]
  },
  {
   "cell_type": "code",
   "execution_count": 439,
   "metadata": {
    "scrolled": true
   },
   "outputs": [
    {
     "data": {
      "text/html": [
       "<table>\n",
       "<tbody>\n",
       "\t<tr><td>2.2009014</td><td>2.5674043</td><td>2.905851 </td><td>2.8798391</td><td>0.7709268</td><td>3.6398998</td><td>3.445225 </td><td>0.9775018</td><td>0.4475786</td><td>2.684184 </td><td>...      </td><td>2.126275 </td><td>1.0394528</td><td>1.596173 </td><td>2.883160 </td><td>0.7202477</td><td>2.538913 </td><td>2.604464 </td><td>0.9572377</td><td>3.392950 </td><td>2.3984763</td></tr>\n",
       "\t<tr><td>2.8817579</td><td>2.8989819</td><td>4.534987 </td><td>2.4976849</td><td>3.1774025</td><td>3.2678984</td><td>1.616447 </td><td>1.8059803</td><td>2.4866129</td><td>1.535169 </td><td>...      </td><td>2.190724 </td><td>2.7880646</td><td>3.512888 </td><td>0.726014 </td><td>2.1612660</td><td>2.834950 </td><td>1.435162 </td><td>0.7828230</td><td>2.692564 </td><td>0.9184322</td></tr>\n",
       "\t<tr><td>2.3466808</td><td>0.7811106</td><td>2.672120 </td><td>4.1992500</td><td>1.2626090</td><td>0.4580309</td><td>3.763145 </td><td>2.8232819</td><td>4.2606440</td><td>1.651975 </td><td>...      </td><td>2.435689 </td><td>2.5887580</td><td>2.992559 </td><td>2.175228 </td><td>2.5045968</td><td>2.449910 </td><td>1.901989 </td><td>3.8692150</td><td>2.688134 </td><td>2.7811811</td></tr>\n",
       "\t<tr><td>2.5353510</td><td>1.8424557</td><td>1.838340 </td><td>1.6079874</td><td>1.7580279</td><td>1.6700563</td><td>1.815669 </td><td>3.1352308</td><td>1.1843093</td><td>2.431862 </td><td>...      </td><td>1.515189 </td><td>0.3708802</td><td>1.742102 </td><td>1.555775 </td><td>3.2144316</td><td>3.013291 </td><td>2.825032 </td><td>0.5809042</td><td>1.712337 </td><td>3.5148649</td></tr>\n",
       "\t<tr><td>2.5277744</td><td>3.0855241</td><td>1.621594 </td><td>1.3000318</td><td>2.1533783</td><td>1.2002890</td><td>1.563634 </td><td>1.4776879</td><td>1.0727042</td><td>3.597145 </td><td>...      </td><td>1.931360 </td><td>3.4127816</td><td>2.538379 </td><td>2.889918 </td><td>1.9511387</td><td>2.404022 </td><td>2.607705 </td><td>2.3098280</td><td>2.516615 </td><td>2.1342494</td></tr>\n",
       "\t<tr><td>0.2401273</td><td>1.4784116</td><td>1.891476 </td><td>0.3315975</td><td>2.9435270</td><td>1.8032963</td><td>1.784922 </td><td>0.7999540</td><td>0.4541179</td><td>2.422566 </td><td>...      </td><td>3.137382 </td><td>2.8177854</td><td>1.081723 </td><td>2.518250 </td><td>2.9330252</td><td>3.031154 </td><td>2.936547 </td><td>4.1310834</td><td>2.300092 </td><td>3.0248680</td></tr>\n",
       "</tbody>\n",
       "</table>\n"
      ],
      "text/latex": [
       "\\begin{tabular}{llllllllllllllllllllllllllllllllllllllllllllllllllllllllllllllllllllllllllllllllllllllllllllllllllllllllllllllllllllllllllllllllllllllllllllllllllllllllllllllllllllllllllllllllllllllllllllllllllllllllllllllllllllllllllllllllllllllllllllllllllllllllllllllllllllllllllllllllllllllllllllllllllllllllllllllllllllllllllllllllllllllllllllllllllllllllllllllllllllllllllllllllllllllllllllllllllllllllllllllllllllllllllllllllllllllllllllllllllllllllllllllllllllllllllllllllllllllllllllllllllllllllllllllllllll}\n",
       "\t 2.2009014 & 2.5674043 & 2.905851  & 2.8798391 & 0.7709268 & 3.6398998 & 3.445225  & 0.9775018 & 0.4475786 & 2.684184  & ...       & 2.126275  & 1.0394528 & 1.596173  & 2.883160  & 0.7202477 & 2.538913  & 2.604464  & 0.9572377 & 3.392950  & 2.3984763\\\\\n",
       "\t 2.8817579 & 2.8989819 & 4.534987  & 2.4976849 & 3.1774025 & 3.2678984 & 1.616447  & 1.8059803 & 2.4866129 & 1.535169  & ...       & 2.190724  & 2.7880646 & 3.512888  & 0.726014  & 2.1612660 & 2.834950  & 1.435162  & 0.7828230 & 2.692564  & 0.9184322\\\\\n",
       "\t 2.3466808 & 0.7811106 & 2.672120  & 4.1992500 & 1.2626090 & 0.4580309 & 3.763145  & 2.8232819 & 4.2606440 & 1.651975  & ...       & 2.435689  & 2.5887580 & 2.992559  & 2.175228  & 2.5045968 & 2.449910  & 1.901989  & 3.8692150 & 2.688134  & 2.7811811\\\\\n",
       "\t 2.5353510 & 1.8424557 & 1.838340  & 1.6079874 & 1.7580279 & 1.6700563 & 1.815669  & 3.1352308 & 1.1843093 & 2.431862  & ...       & 1.515189  & 0.3708802 & 1.742102  & 1.555775  & 3.2144316 & 3.013291  & 2.825032  & 0.5809042 & 1.712337  & 3.5148649\\\\\n",
       "\t 2.5277744 & 3.0855241 & 1.621594  & 1.3000318 & 2.1533783 & 1.2002890 & 1.563634  & 1.4776879 & 1.0727042 & 3.597145  & ...       & 1.931360  & 3.4127816 & 2.538379  & 2.889918  & 1.9511387 & 2.404022  & 2.607705  & 2.3098280 & 2.516615  & 2.1342494\\\\\n",
       "\t 0.2401273 & 1.4784116 & 1.891476  & 0.3315975 & 2.9435270 & 1.8032963 & 1.784922  & 0.7999540 & 0.4541179 & 2.422566  & ...       & 3.137382  & 2.8177854 & 1.081723  & 2.518250  & 2.9330252 & 3.031154  & 2.936547  & 4.1310834 & 2.300092  & 3.0248680\\\\\n",
       "\\end{tabular}\n"
      ],
      "text/markdown": [
       "\n",
       "| 2.2009014 | 2.5674043 | 2.905851  | 2.8798391 | 0.7709268 | 3.6398998 | 3.445225  | 0.9775018 | 0.4475786 | 2.684184  | ...       | 2.126275  | 1.0394528 | 1.596173  | 2.883160  | 0.7202477 | 2.538913  | 2.604464  | 0.9572377 | 3.392950  | 2.3984763 | \n",
       "| 2.8817579 | 2.8989819 | 4.534987  | 2.4976849 | 3.1774025 | 3.2678984 | 1.616447  | 1.8059803 | 2.4866129 | 1.535169  | ...       | 2.190724  | 2.7880646 | 3.512888  | 0.726014  | 2.1612660 | 2.834950  | 1.435162  | 0.7828230 | 2.692564  | 0.9184322 | \n",
       "| 2.3466808 | 0.7811106 | 2.672120  | 4.1992500 | 1.2626090 | 0.4580309 | 3.763145  | 2.8232819 | 4.2606440 | 1.651975  | ...       | 2.435689  | 2.5887580 | 2.992559  | 2.175228  | 2.5045968 | 2.449910  | 1.901989  | 3.8692150 | 2.688134  | 2.7811811 | \n",
       "| 2.5353510 | 1.8424557 | 1.838340  | 1.6079874 | 1.7580279 | 1.6700563 | 1.815669  | 3.1352308 | 1.1843093 | 2.431862  | ...       | 1.515189  | 0.3708802 | 1.742102  | 1.555775  | 3.2144316 | 3.013291  | 2.825032  | 0.5809042 | 1.712337  | 3.5148649 | \n",
       "| 2.5277744 | 3.0855241 | 1.621594  | 1.3000318 | 2.1533783 | 1.2002890 | 1.563634  | 1.4776879 | 1.0727042 | 3.597145  | ...       | 1.931360  | 3.4127816 | 2.538379  | 2.889918  | 1.9511387 | 2.404022  | 2.607705  | 2.3098280 | 2.516615  | 2.1342494 | \n",
       "| 0.2401273 | 1.4784116 | 1.891476  | 0.3315975 | 2.9435270 | 1.8032963 | 1.784922  | 0.7999540 | 0.4541179 | 2.422566  | ...       | 3.137382  | 2.8177854 | 1.081723  | 2.518250  | 2.9330252 | 3.031154  | 2.936547  | 4.1310834 | 2.300092  | 3.0248680 | \n",
       "\n",
       "\n"
      ],
      "text/plain": [
       "     [,1]      [,2]      [,3]     [,4]      [,5]      [,6]      [,7]    \n",
       "[1,] 2.2009014 2.5674043 2.905851 2.8798391 0.7709268 3.6398998 3.445225\n",
       "[2,] 2.8817579 2.8989819 4.534987 2.4976849 3.1774025 3.2678984 1.616447\n",
       "[3,] 2.3466808 0.7811106 2.672120 4.1992500 1.2626090 0.4580309 3.763145\n",
       "[4,] 2.5353510 1.8424557 1.838340 1.6079874 1.7580279 1.6700563 1.815669\n",
       "[5,] 2.5277744 3.0855241 1.621594 1.3000318 2.1533783 1.2002890 1.563634\n",
       "[6,] 0.2401273 1.4784116 1.891476 0.3315975 2.9435270 1.8032963 1.784922\n",
       "     [,8]      [,9]      [,10]    [,11] [,12]    [,13]     [,14]    [,15]   \n",
       "[1,] 0.9775018 0.4475786 2.684184 ...   2.126275 1.0394528 1.596173 2.883160\n",
       "[2,] 1.8059803 2.4866129 1.535169 ...   2.190724 2.7880646 3.512888 0.726014\n",
       "[3,] 2.8232819 4.2606440 1.651975 ...   2.435689 2.5887580 2.992559 2.175228\n",
       "[4,] 3.1352308 1.1843093 2.431862 ...   1.515189 0.3708802 1.742102 1.555775\n",
       "[5,] 1.4776879 1.0727042 3.597145 ...   1.931360 3.4127816 2.538379 2.889918\n",
       "[6,] 0.7999540 0.4541179 2.422566 ...   3.137382 2.8177854 1.081723 2.518250\n",
       "     [,16]     [,17]    [,18]    [,19]     [,20]    [,21]    \n",
       "[1,] 0.7202477 2.538913 2.604464 0.9572377 3.392950 2.3984763\n",
       "[2,] 2.1612660 2.834950 1.435162 0.7828230 2.692564 0.9184322\n",
       "[3,] 2.5045968 2.449910 1.901989 3.8692150 2.688134 2.7811811\n",
       "[4,] 3.2144316 3.013291 2.825032 0.5809042 1.712337 3.5148649\n",
       "[5,] 1.9511387 2.404022 2.607705 2.3098280 2.516615 2.1342494\n",
       "[6,] 2.9330252 3.031154 2.936547 4.1310834 2.300092 3.0248680"
      ]
     },
     "metadata": {},
     "output_type": "display_data"
    },
    {
     "data": {
      "text/html": [
       "<ol class=list-inline>\n",
       "\t<li>20</li>\n",
       "\t<li>500</li>\n",
       "</ol>\n"
      ],
      "text/latex": [
       "\\begin{enumerate*}\n",
       "\\item 20\n",
       "\\item 500\n",
       "\\end{enumerate*}\n"
      ],
      "text/markdown": [
       "1. 20\n",
       "2. 500\n",
       "\n",
       "\n"
      ],
      "text/plain": [
       "[1]  20 500"
      ]
     },
     "metadata": {},
     "output_type": "display_data"
    }
   ],
   "source": [
    "B = 500\n",
    "boots = replicate(B, rnorm(n, mean = 2.16, sd = 0.9206))\n",
    "head(boots)\n",
    "dim(boots)"
   ]
  },
  {
   "cell_type": "markdown",
   "metadata": {},
   "source": [
    "#### (d) Compute an estimate of the bias:\n",
    "\n",
    "\\begin{align*}\n",
    "\\widehat{B}(\\widehat{\\theta}) \\approx \\frac{1}{B}\\sum^B_{j=1}\\widehat{\\theta}^*_j - \\bar{x}^2.\n",
    "\\end{align*}\n",
    "\n",
    "Compare this to the exact bias using the formula in problem A.1."
   ]
  },
  {
   "cell_type": "code",
   "execution_count": 440,
   "metadata": {},
   "outputs": [],
   "source": [
    "MLE <- function(x){\n",
    "    return((1/nrow(x)*colSums(x))^2)\n",
    "}"
   ]
  },
  {
   "cell_type": "code",
   "execution_count": 441,
   "metadata": {},
   "outputs": [
    {
     "data": {
      "text/html": [
       "0.0477246780770456"
      ],
      "text/latex": [
       "0.0477246780770456"
      ],
      "text/markdown": [
       "0.0477246780770456"
      ],
      "text/plain": [
       "[1] 0.04772468"
      ]
     },
     "metadata": {},
     "output_type": "display_data"
    }
   ],
   "source": [
    "# Find the bias uning the equation above\n",
    "thetaStarHat = MLE(boots)\n",
    "biasHat = (1/B)*sum(thetaStarHat - (xBar^2))\n",
    "biasHat"
   ]
  },
  {
   "cell_type": "code",
   "execution_count": 442,
   "metadata": {},
   "outputs": [
    {
     "data": {
      "text/html": [
       "0.0423710230567559"
      ],
      "text/latex": [
       "0.0423710230567559"
      ],
      "text/markdown": [
       "0.0423710230567559"
      ],
      "text/plain": [
       "[1] 0.04237102"
      ]
     },
     "metadata": {},
     "output_type": "display_data"
    }
   ],
   "source": [
    "# Biases using equation from 1.A\n",
    "bias = s2 / n\n",
    "bias"
   ]
  },
  {
   "cell_type": "markdown",
   "metadata": {},
   "source": [
    "The true bias of the population is $\\frac{\\sigma^2}{n} = \\frac{1}{20} = 0.05$.  \n",
    "The estaimated bias from our sample data is $\\frac{s^2}{n} = \\frac{0.847}{20} = 0.042$.  \n",
    "The bias from our 500 bootstrap samples is $\\sim 0.048$."
   ]
  },
  {
   "cell_type": "markdown",
   "metadata": {},
   "source": [
    "#### (e) Compute an estimate of the variance:\n",
    "\n",
    "\\begin{align*}\n",
    "\\widehat{\\text{Var}}(\\widehat{\\theta}) \\approx \\frac{1}{B-1}\\sum^B_{j=1}\\big(\\widehat{\\theta}^*_j - \\bar{\\theta} \\big)^2,\n",
    "\\end{align*}\n",
    "where \n",
    "\\begin{align*}\n",
    "\\bar{\\theta} = \\frac{1}{B}\\sum^B_{j=1}\\widehat{\\theta}^*_j .\n",
    "\\end{align*}\n",
    "Compare this to the exact variance using the formula in problem A.1."
   ]
  },
  {
   "cell_type": "code",
   "execution_count": null,
   "metadata": {},
   "outputs": [],
   "source": []
  },
  {
   "cell_type": "markdown",
   "metadata": {},
   "source": [
    "#### (f) True or False: For a fixed sample size $n = 20$, as $B$ increases, $\\widehat{B}(\\widehat{\\theta})$ will approach ${B}(\\widehat{\\theta})$.  That is, for a fixed $n$, the bootstrap estimate of the bias will approach the true bias as the number of bootstrap samples, $B$ increases. You might consider running a simulation to decide!"
   ]
  },
  {
   "cell_type": "markdown",
   "metadata": {},
   "source": [
    "False. As the number of bootstrap samples increase, the bootstrap bias will converge to the estimated bias, not the true bias."
   ]
  },
  {
   "cell_type": "code",
   "execution_count": 510,
   "metadata": {
    "scrolled": true
   },
   "outputs": [
    {
     "data": {
      "text/html": [
       "<ol class=list-inline>\n",
       "\t<li>0.000281030403839765</li>\n",
       "\t<li>0.000885221930701699</li>\n",
       "\t<li>0.000803806161407109</li>\n",
       "\t<li>0.000465337047612873</li>\n",
       "\t<li>0.000209460809049888</li>\n",
       "\t<li>-4.25859771218935e-05</li>\n",
       "</ol>\n"
      ],
      "text/latex": [
       "\\begin{enumerate*}\n",
       "\\item 0.000281030403839765\n",
       "\\item 0.000885221930701699\n",
       "\\item 0.000803806161407109\n",
       "\\item 0.000465337047612873\n",
       "\\item 0.000209460809049888\n",
       "\\item -4.25859771218935e-05\n",
       "\\end{enumerate*}\n"
      ],
      "text/markdown": [
       "1. 0.000281030403839765\n",
       "2. 0.000885221930701699\n",
       "3. 0.000803806161407109\n",
       "4. 0.000465337047612873\n",
       "5. 0.000209460809049888\n",
       "6. -4.25859771218935e-05\n",
       "\n",
       "\n"
      ],
      "text/plain": [
       "[1]  2.810304e-04  8.852219e-04  8.038062e-04  4.653370e-04  2.094608e-04\n",
       "[6] -4.258598e-05"
      ]
     },
     "metadata": {},
     "output_type": "display_data"
    }
   ],
   "source": [
    "# Test boostraps of different sizes\n",
    "B1 = 2000\n",
    "boots1 = replicate(B1, sample(norm, size = 20, replace = TRUE))\n",
    "thetaStarHat1 = MLE(boots1)\n",
    "# Generates the cumulative sum of the estimated error. Can see what the value converges to.\n",
    "bootsBiasHat = (1/B1)*cumsum(thetaStarHat1 - (xBar^2))\n",
    "bootsBiasHat"
   ]
  },
  {
   "cell_type": "markdown",
   "metadata": {},
   "source": [
    "### Problem B.3\n",
    "\n",
    "The \"Wisconsin Card Sorting Test\" is widely used by psychiatrists, neurologists, and neurophycologists with patients who have a brain injury. Patients with any sort of frontal lobe lesion generally do poorly on the test. The data frame WCST contains the test scores from a group of 50 patients from the *Virgen del Camino* Hospital.\n",
    "#### (a) Using the code below, load the WCST data and explore whether there is reason to believe that the score data comes from a non-normal distribution. First, create a histogram (use ggplot!) and describe whether the data look normal. Then, use the function shapiro.test() to explore normality. Be sure to explain what this function does--i.e., what's the null and alternative hypothesis--in your answer."
   ]
  },
  {
   "cell_type": "code",
   "execution_count": 462,
   "metadata": {
    "collapsed": true
   },
   "outputs": [
    {
     "name": "stderr",
     "output_type": "stream",
     "text": [
      "-- Attaching packages --------------------------------------- tidyverse 1.2.1 --\n",
      "v ggplot2 2.2.1     v purrr   0.2.4\n",
      "v tibble  1.4.1     v dplyr   0.7.4\n",
      "v tidyr   0.7.2     v stringr 1.2.0\n",
      "v readr   1.1.1     v forcats 0.2.0\n",
      "-- Conflicts ------------------------------------------ tidyverse_conflicts() --\n",
      "x dplyr::filter() masks stats::filter()\n",
      "x dplyr::lag()    masks stats::lag()\n"
     ]
    }
   ],
   "source": [
    "library(tidyverse)"
   ]
  },
  {
   "cell_type": "code",
   "execution_count": 491,
   "metadata": {},
   "outputs": [
    {
     "data": {},
     "metadata": {},
     "output_type": "display_data"
    },
    {
     "data": {
      "image/png": "[encoded data removed]",
      "text/plain": [
       "plot without title"
      ]
     },
     "metadata": {},
     "output_type": "display_data"
    }
   ],
   "source": [
    "wcst = read.table(file = \"WCST.txt\")\n",
    "ggplot(data = wcst, aes(x=score)) + geom_histogram(aes(y=..density..), bins = 50, color = \"black\", fill = \"white\") + \n",
    "geom_density(alpha=.2, fill=\"#FF6666\") "
   ]
  },
  {
   "cell_type": "code",
   "execution_count": 490,
   "metadata": {
    "scrolled": true
   },
   "outputs": [
    {
     "data": {
      "text/plain": [
       "\n",
       "\tShapiro-Wilk normality test\n",
       "\n",
       "data:  c(wcst)$score\n",
       "W = 0.77472, p-value = 2.405e-07\n"
      ]
     },
     "metadata": {},
     "output_type": "display_data"
    }
   ],
   "source": [
    "shapiro.test(c(wcst)$score)"
   ]
  },
  {
   "cell_type": "markdown",
   "metadata": {
    "collapsed": true
   },
   "source": [
    "From the plot above, we can see that the data does not clearly follow a normal distribution as it is skewed to the right. This is confirmed by the shapiro.test() function, which performs a normality test and returns a p-value. If the returned p-val > 0.05, then we fail to reject the null and assert that the data came from a normal distribution. When we performed this test, we got a p-value of $2.405e-07$ which is < 0.05, therefor the sample is not from a normal distribution."
   ]
  },
  {
   "cell_type": "markdown",
   "metadata": {},
   "source": [
    "#### (b) What assumptions must be made in order to compute a (non-boostrap) 95% confidence interval for the population mean score?"
   ]
  },
  {
   "cell_type": "markdown",
   "metadata": {
    "collapsed": true
   },
   "source": [
    "Our assumptions are:\n",
    "- The data is independent and identically distributed.\n",
    "- If the number of samples is >30 then can use the Central Limit Theorem.\n",
    "- If the number of samples is <30, then the population must be normally distributed in order to use non-bootstrap methods."
   ]
  },
  {
   "cell_type": "markdown",
   "metadata": {},
   "source": [
    "#### (c) Compute the confidence interval from (b)."
   ]
  },
  {
   "cell_type": "code",
   "execution_count": 509,
   "metadata": {},
   "outputs": [
    {
     "name": "stdout",
     "output_type": "stream",
     "text": [
      "The 95% confidence interval for the data is [ 16.37808 , 26.58192 ]"
     ]
    }
   ],
   "source": [
    "# Find the sample mean\n",
    "WCST = c(wcst)$score\n",
    "xbar = mean(WCST)\n",
    "s = sd(WCST)\n",
    "\n",
    "lower = xbar - 1.96 * s / sqrt(length(WCST))\n",
    "upper = xbar + 1.96 * s / sqrt(length(WCST))\n",
    "\n",
    "cat(\"The 95% confidence interval for the data is [\", lower, \",\", upper, \"]\")"
   ]
  },
  {
   "cell_type": "markdown",
   "metadata": {},
   "source": [
    "#### (d) Compute a 95% percentile bootstrap pivot confidence interval for the mean. "
   ]
  },
  {
   "cell_type": "code",
   "execution_count": 508,
   "metadata": {},
   "outputs": [
    {
     "name": "stdout",
     "output_type": "stream",
     "text": [
      "The pivot confidence interval is [ 16.299 , 26.221 ]"
     ]
    }
   ],
   "source": [
    "# Find the sample mean of the data\n",
    "xbar = mean(c(wcst)$score)\n",
    "# Perform the bootstrap\n",
    "B = 2000\n",
    "boots = replicate(B, sample(c(wcst)$score, size = nrow(wcst), replace = TRUE))\n",
    "xBarStar = colMeans(boots)\n",
    "\n",
    "lower = 2*xbar - as.numeric(quantile(xBarStar, probs = 0.975))\n",
    "upper = 2*xbar - as.numeric(quantile(xBarStar, probs = 0.025))\n",
    "cat(\"The 95% pivot confidence interval is [\", lower, \",\", upper, \"]\")"
   ]
  },
  {
   "cell_type": "markdown",
   "metadata": {},
   "source": [
    "### Problem B.4\n",
    "\n",
    "Load the data frame Animals from the MASS package. Construct a 95% bootstrap *percentile confidence interval* for the correlation coefficient between $\\log(brain)$ and $\\log(body)$. A percentile confidence interval is simply $$\\big[\\widehat{\\theta}^*_{\\alpha/2}, \\,\\, \\widehat{\\theta}^*_{1-\\alpha/2} \\big],$$ where $\\widehat{\\theta}^*_{\\alpha/2}$ is the $\\alpha/2$ quantile of the bootstrap distribution. (We note that in many cases, this confidence interval is not as accurate as the pivot interval discussed in class.)"
   ]
  },
  {
   "cell_type": "code",
   "execution_count": 24,
   "metadata": {},
   "outputs": [
    {
     "data": {
      "text/html": [
       "<table>\n",
       "<thead><tr><th></th><th scope=col>body</th><th scope=col>brain</th></tr></thead>\n",
       "<tbody>\n",
       "\t<tr><th scope=row>Mountain beaver</th><td>    1.35</td><td>  8.1   </td></tr>\n",
       "\t<tr><th scope=row>Cow</th><td>  465.00</td><td>423.0   </td></tr>\n",
       "\t<tr><th scope=row>Grey wolf</th><td>   36.33</td><td>119.5   </td></tr>\n",
       "\t<tr><th scope=row>Goat</th><td>   27.66</td><td>115.0   </td></tr>\n",
       "\t<tr><th scope=row>Guinea pig</th><td>    1.04</td><td>  5.5   </td></tr>\n",
       "\t<tr><th scope=row>Dipliodocus</th><td>11700.00</td><td> 50.0   </td></tr>\n",
       "</tbody>\n",
       "</table>\n"
      ],
      "text/latex": [
       "\\begin{tabular}{r|ll}\n",
       "  & body & brain\\\\\n",
       "\\hline\n",
       "\tMountain beaver &     1.35 &   8.1   \\\\\n",
       "\tCow &   465.00 & 423.0   \\\\\n",
       "\tGrey wolf &    36.33 & 119.5   \\\\\n",
       "\tGoat &    27.66 & 115.0   \\\\\n",
       "\tGuinea pig &     1.04 &   5.5   \\\\\n",
       "\tDipliodocus & 11700.00 &  50.0   \\\\\n",
       "\\end{tabular}\n"
      ],
      "text/markdown": [
       "\n",
       "| <!--/--> | body | brain | \n",
       "|---|---|---|---|---|---|\n",
       "| Mountain beaver |     1.35 |   8.1    | \n",
       "| Cow |   465.00 | 423.0    | \n",
       "| Grey wolf |    36.33 | 119.5    | \n",
       "| Goat |    27.66 | 115.0    | \n",
       "| Guinea pig |     1.04 |   5.5    | \n",
       "| Dipliodocus | 11700.00 |  50.0    | \n",
       "\n",
       "\n"
      ],
      "text/plain": [
       "                body     brain\n",
       "Mountain beaver     1.35   8.1\n",
       "Cow               465.00 423.0\n",
       "Grey wolf          36.33 119.5\n",
       "Goat               27.66 115.0\n",
       "Guinea pig          1.04   5.5\n",
       "Dipliodocus     11700.00  50.0"
      ]
     },
     "metadata": {},
     "output_type": "display_data"
    },
    {
     "data": {
      "text/html": [
       "28"
      ],
      "text/latex": [
       "28"
      ],
      "text/markdown": [
       "28"
      ],
      "text/plain": [
       "[1] 28"
      ]
     },
     "metadata": {},
     "output_type": "display_data"
    }
   ],
   "source": [
    "animals = MASS::Animals\n",
    "head(animals)\n",
    "nrow(animals)"
   ]
  },
  {
   "cell_type": "code",
   "execution_count": 25,
   "metadata": {},
   "outputs": [],
   "source": [
    "# Construct vector of correlations\n",
    "B = 5000\n",
    "correlations = c()\n",
    "for(i in 1:B){\n",
    "    # Create bootstrap sample from data set. Same length as original sample\n",
    "    boots = animals[sample(nrow(animals), nrow(animals), replace = TRUE), ]\n",
    "    # Calculate the correlation of bootstrap sample\n",
    "    cor = cor(log(boots$body), log(boots$brain))\n",
    "    # Add correlation to vector of correlations\n",
    "    correlations = c(correlations, cor)\n",
    "}"
   ]
  },
  {
   "cell_type": "code",
   "execution_count": 26,
   "metadata": {},
   "outputs": [
    {
     "name": "stdout",
     "output_type": "stream",
     "text": [
      "The 95% confidence interval for the correlation coefficient is [ 0.5478045 , 0.9548082 ]"
     ]
    }
   ],
   "source": [
    "# Create CI using quatiles\n",
    "lower = as.numeric(quantile(correlations, probs = 0.025))\n",
    "upper = as.numeric(quantile(correlations, probs = 0.975))\n",
    "\n",
    "cat(\"The 95% confidence interval for the correlation coefficient is [\", lower, \",\", upper, \"]\")"
   ]
  },
  {
   "cell_type": "code",
   "execution_count": null,
   "metadata": {},
   "outputs": [],
   "source": []
  }
 ],
 "metadata": {
  "kernelspec": {
   "display_name": "R",
   "language": "R",
   "name": "ir"
  },
  "language_info": {
   "codemirror_mode": "r",
   "file_extension": ".r",
   "mimetype": "text/x-r-source",
   "name": "R",
   "pygments_lexer": "r",
   "version": "3.4.3"
  }
 },
 "nbformat": 4,
 "nbformat_minor": 2
}
