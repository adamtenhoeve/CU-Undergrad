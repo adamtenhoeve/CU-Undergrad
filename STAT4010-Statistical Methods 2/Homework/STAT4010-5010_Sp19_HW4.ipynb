{
 "cells": [
  {
   "cell_type": "markdown",
   "metadata": {},
   "source": [
    "# Homework #4\n",
    "\n",
    "**Due by midnight on Friday February 15, 2019**. Complete all of the following problems. Ideally, the theoretical problems should be answered in a Markdown cell directly underneath the question. If you don't know LaTex/Markdown, you may submit separate handwritten solutions to the theoretical problems. Please do not turn in messy work. Computational problems should be completed in this notebook (using the R kernel is preferred). Computational questions may require code, plots, analysis, interpretation, etc. Working in small groups is allowed, but it is important that you make an effort to master the material and hand in your own work. \n"
   ]
  },
  {
   "cell_type": "markdown",
   "metadata": {},
   "source": [
    "Name: Adam Ten Hoeve"
   ]
  },
  {
   "cell_type": "markdown",
   "metadata": {},
   "source": [
    "## A. Theoretical Problems"
   ]
  },
  {
   "cell_type": "markdown",
   "metadata": {},
   "source": [
    "### Problem A.1\n",
    "\n",
    "For each of the following models, decide whether one could use linear least squares to estimate the model parameters. Explain your answer.\n",
    "\n",
    "1.  $\\displaystyle Y_i = \\beta_0 + \\beta_1\\log(X_i)$\n",
    "2. $\\displaystyle Y_i = \\beta_0 + e^{\\beta_1X_i}$\n",
    "3.  $\\displaystyle Y_i = \\beta_0 + \\beta_1\\sin(X_i)$\n",
    "4.  $\\displaystyle Y_i = \\beta_0 + \\sin(\\beta_1X_i)$\n",
    "\n",
    "\n"
   ]
  },
  {
   "cell_type": "markdown",
   "metadata": {},
   "source": [
    "1. Yes. Although the feature X is not linear, the model is linear with respect to the parameters $\\beta_0$ and $\\beta_1$. Because of this, the model can be treated as a system of linear equations and linear least squares can be applied.\n",
    "2. Yes. The model can be transformed to linear: $ Y_i = \\beta_0 + e^{\\beta_1X_i} = \\beta_0 + e^{\\beta_1}e^{X_i} = \\beta_0 + ke^{X_i}$. From here, all of the weights are linear coefficients so the model can be estimated using linear least squares.\n",
    "3. Yes. Similar to the reason for number 1, all of the coefficients are linear so the model can be treated as a system of linear equations and linear least squares can be a good estimate.\n",
    "4. No. Because the $\\beta_1$ term is within the sin() and can not be pulled out, the parameters are not linear and linear least squares would not work."
   ]
  },
  {
   "cell_type": "markdown",
   "metadata": {},
   "source": [
    "### Problem A.2\n",
    "\n",
    "#### Prove that $TSS = RSS + ESS$. Recall that $TSS$ is the total sum of squares, $RSS$ is the residual sum of squares, and $ESS$ is the explained (or model or regression) sum of squares. (HINT: you might start with TSS and add a fancy form of 1 somewhere.)\n"
   ]
  },
  {
   "cell_type": "markdown",
   "metadata": {},
   "source": [
    "$$\n",
    "\\begin{align*}\n",
    "    TSS =& \\sum_{i=1}^n (y_i - \\bar{y})^2 \\\\ \n",
    "    =& \\sum_{i=1}^n (y_i - \\hat{y}_i + \\hat{y}_i - \\bar{y})^2 \\\\\n",
    "    =& \\sum_{i=1}^n \\Big[ (y_i - \\bar{y}_i)^2 + (\\hat{y}_i - \\bar{y})^2 + 2(y_i - \\hat{y}_i)(\\hat{y}_i - \\bar{y}) \\Big] \\\\\n",
    "    =& \\sum_{i=1}^n (y_i - \\bar{y}_i)^2 + \\sum_{i=1}^n (\\hat{y}_i - \\bar{y})^2 + 2\\sum_{i=1}^n(y_i - \\hat{y}_i)(\\hat{y}_i - \\bar{y}) \\\\\n",
    "    =& ESS + RSS + 2\\sum_{i=1}^n(y_i - \\hat{y}_i)(\\hat{y}_i - \\bar{y})\n",
    "\\end{align*}\n",
    "$$\n",
    "From this point, we must prove $\\sum_{i=1}^n(y_i - \\hat{y}_i)(\\hat{y}_i - \\bar{y}) = 0$ for the equality to be true. Recall that $\\hat{y} = \\beta_0 + \\beta_1x_i$ in the SLR case, which we will use for simplicity.\n",
    "\n",
    "$$ \n",
    "\\begin{align*}\n",
    "0 &= \\sum_{i=1}^n(y_i - \\hat{y}_i)(\\hat{y}_i - \\bar{y}) \\\\\n",
    "&= \\sum_{i=1}^n \\hat{y}_i(y_i - \\hat{y}_i) - \\sum_{i=1}^n \\bar{y}(y_i - \\hat{y}_i) \\\\\n",
    "&= \\sum_{i=1}^n (\\beta_0 + \\beta_1x_i)(y_i - \\hat{y}_i) - \\bar{y} \\sum_{i=1}^n (y_i - \\hat{y}_i) \\\\\n",
    "&= \\beta_0\\sum_{i=1}^n (y_i - \\hat{y}_i) + \\beta_1\\sum_{i=1}^n x_i(y_i - \\hat{y}_i) - \\bar{y} \\sum_{i=1}^n (y_i - \\hat{y}_i) \\\\\n",
    "\\end{align*}\n",
    "$$\n",
    "\n",
    "We want to find $\\beta_0$ and $\\beta_1$ that minimize the sum. Therefor we can take the partial derivatives with respect to each variable and set it equal to zero. Let's start with $\\beta_0$.\n",
    "\n",
    "$$ 0 = \\frac{\\partial}{\\partial\\beta_0}\\Big( \\beta_0\\sum_{i=1}^n (y_i - \\hat{y}_i) + \\beta_1\\sum_{i=1}^n x_i(y_i - \\hat{y}_i) - \\bar{y} \\sum_{i=1}^n (y_i - \\hat{y}_i) \\Big) = \\sum_{i=1}^n y_i - \\hat{y}_i$$\n",
    "\n",
    "This makes sense as the sum of the residuals should be 0. Now let's take the derivative with respect to $\\beta_1$.\n",
    "\n",
    "$$ 0 = \\frac{\\partial}{\\partial\\beta_1}\\Big( \\beta_0\\sum_{i=1}^n (y_i - \\hat{y}_i) + \\beta_1\\sum_{i=1}^n x_i(y_i - \\hat{y}_i) - \\bar{y} \\sum_{i=1}^n (y_i - \\hat{y}_i) \\Big) = \\sum_{i=1}^n x_i(y_i - \\hat{y}_i)$$\n",
    "\n",
    "And finally knowing that the sum of the residuals is zero gives us our final answer:\n",
    "\n",
    "$$ \\sum_{i=1}^n(y_i - \\hat{y}_i)(\\hat{y}_i - \\bar{y}) = \\beta_0\\sum_{i=1}^n (y_i - \\hat{y}_i) + \\beta_1\\sum_{i=1}^n x_i(y_i - \\hat{y}_i) - \\bar{y} \\sum_{i=1}^n (y_i - \\hat{y}_i) = 0 $$\n",
    "\n",
    "Therefor:\n",
    "\n",
    "$$ TSS = ESS + RSS $$"
   ]
  },
  {
   "cell_type": "markdown",
   "metadata": {},
   "source": [
    "### Problem A.3\n",
    "\n",
    "When there is no good reason to believe that $Y$ and $X$ are correlated, instead of fitting a simple linear regression model to your data, we might fit $Y = \\beta_0 + \\varepsilon$. In fact, when we compute $R^2$ or conduct the full F-test, we are comparing a given MLR model to the model $Y = \\beta_0 + \\varepsilon$.\n",
    "\n",
    "\n",
    "#### (a) Generally, what is one advantage and one disadvantage of the mean as a measure of center?\n"
   ]
  },
  {
   "cell_type": "markdown",
   "metadata": {},
   "source": [
    "One advantage of the mean is that, with symmetric data, it accureatley and efficiently finds the center of the data. One disadvanged is that the mean can be heavily influenced by skew and outliers. For examle, if we have 9 data points with values around ~10, then 1 outlier data point with value of 1000, then the mean is $\\sim 109$, which does not accurately reflect the \"center\" of the majority of the data."
   ]
  },
  {
   "cell_type": "markdown",
   "metadata": {},
   "source": [
    "#### (b)  Generally, what is one advantage and one disadvantage of the median as a measure of center?"
   ]
  },
  {
   "cell_type": "markdown",
   "metadata": {},
   "source": [
    "Opposite of the mean, the median is still a good measure of center even when the data has outliers as it is not affected by the size of the data, only the order. However, the median can not be used if many statistical calculations or tests."
   ]
  },
  {
   "cell_type": "markdown",
   "metadata": {},
   "source": [
    "#### (c)  Show that the ordinary least squares estimate of $\\beta_0$ is $\\widehat{\\beta}_0 = \\bar{y}$. "
   ]
  },
  {
   "cell_type": "markdown",
   "metadata": {},
   "source": [
    "$$\n",
    "\\begin{align*}\n",
    "    RSS &= \\sum_{i=1}^n (Y_i - \\hat{Y-i})^2  \\\\\n",
    "    &= \\sum_{i=1}^n (Y_i - \\beta_0 + \\epsilon_i)^2 \\\\\n",
    "    &= (Y_1 - \\beta_0 + \\epsilon)^2 + ... + (Y_n - \\beta_0 + \\epsilon_i) \\\\\n",
    "\\end{align*}\n",
    "$$\n",
    "\n",
    "Recall that to get our estimate $\\hat{\\beta_0}$, we want to minimize the RSS. To do so, we will take the derivative with respect to $\\beta_0$ and set it equal to zero.\n",
    "\n",
    "$$\n",
    "\\begin{align*}\n",
    "    0 &= 2(Y_1 - \\beta_0 + \\epsilon)(-1) + ... + 2(Y_n - \\beta_0 + \\epsilon_i)(-1) \\\\\n",
    "    0 &= -2 \\sum_{i=1}^n Y_i - \\beta_0 - \\epsilon_i \\\\\n",
    "    0 &= \\sum_{i=1}^n Y_i - \\sum_{i=1}^n \\beta_0 - \\sum_{i=1}^n \\epsilon_i \\\\\n",
    "    0 &= \\sum_{i=1}^n Y_i - n\\beta_0 \\\\\n",
    "    \\beta_0 &= \\frac{1}{n} \\sum_{i=1}^n Y_i \\\\\n",
    "    \\hat{\\beta_0} &= \\bar{Y}\n",
    "\\end{align*}\n",
    "$$\n",
    "\n",
    "In the above equation, note that $\\sum_{i=1}^n \\epsilon_i = 0$ as the sum of the residuals is zero, assuming that the model is the line of best fit."
   ]
  },
  {
   "cell_type": "markdown",
   "metadata": {},
   "source": [
    "#### (d) (**Graduate Students only**) Show that the least absolute value estimate of $\\beta_0$, found by minimizing $\\sum^n_{i=1}|y_i-\\beta_0|$, is the sample median, $\\tilde{y}$. (For the linear algebra lovers: the minimization problem in least squares is performed using the 2-norm; this problem is performed using the 1-norm.)"
   ]
  },
  {
   "cell_type": "markdown",
   "metadata": {},
   "source": []
  },
  {
   "cell_type": "markdown",
   "metadata": {},
   "source": [
    "### Problem A.4\n",
    "\n",
    "Consider the following two models:\n",
    "\n",
    "\\begin{equation}\n",
    "Y_i = \\beta_0 + \\beta_1X_{i,1} + ... + \\beta_{p}X_{i,p} + \\varepsilon_i, \\,\\,\\,\\,\\,\\,\\, \\text{(M1)}\n",
    "\\end{equation}\n",
    "\n",
    "and\n",
    "\n",
    "\\begin{equation}\n",
    "Y_i = \\beta_0 + \\beta_1X_{i,1} + ... + \\beta_{p}X_{i,p} + \\beta_{p+1}X_{i,(p+1)} + \\varepsilon_i. \\,\\,\\,\\,\\,\\,\\, \\text{(M2)}\n",
    "\\end{equation}\n",
    "\n",
    "\n",
    "Show that $R^2$ for M2 is always greater than $R^2$ for M1, no matter what the added predictor is."
   ]
  },
  {
   "cell_type": "markdown",
   "metadata": {},
   "source": [
    "To start out, let's look at the equation for the coefficient of determination $R^2$.\n",
    "\n",
    "$$ R^2 = 1 - \\dfrac{RSS}{TSS} = 1 - \\dfrac{\\sum_{i=1}^n (y_i - \\hat{y}_i)^2}{\\sum_{i=1}^n (y_i - \\bar{y})^2}$$\n",
    "\n",
    "For M1:\n",
    "$$ R^2_{M1} = 1 - \\dfrac{\\sum_{i=1}^n (y_i - (\\beta_0 + \\beta_1X_{i,1} + ... + \\beta_pX_{i,p} + \\epsilon_i))^2}{\\sum_{i=1}^n (y_i - \\bar{y})^2} $$\n",
    "\n",
    "For M2:\n",
    "$$ R^2_{M2} = 1 - \\dfrac{\\sum_{i=1}^n (y_i - (\\beta_0 + \\beta_1X_{i,1} + ... + \\beta_pX_{i,p} + \\beta_{p+1}X_{i,(p+1)} + \\epsilon_i))^2}{\\sum_{i=1}^n (y_i - \\bar{y})^2} $$\n",
    "\n",
    "Now we can find a ratio of these two terms. If $\\dfrac{R^2_{M2}}{R^2_{M1}} > 1$, then we know that the $R^2$ value will always be greater than the other. Before we start, we should note that to get the largest total $R^2$ value, we want to minimize the $\\frac{RSS}{TSS}$ term.\n",
    "\n",
    "$$\n",
    "\\begin{align*}\n",
    "    1 &< \\dfrac{R^2_{M2}}{R^2_{M1}} \\\\\n",
    "    R^2_{M1} &< R^2_{M2} \\\\\n",
    "   1 - \\dfrac{\\sum_{i=1}^n (y_i - (\\beta_0 + \\beta_1X_{i,1} + ... + \\beta_pX_{i,p} + \\epsilon_i))^2}{\\sum_{i=1}^n (y_i - \\bar{y})^2} &< 1 - \\dfrac{\\sum_{i=1}^n (y_i - (\\beta_0 + \\beta_1X_{i,1} + ... + \\beta_pX_{i,p} + \\beta_{p+1}X_{i,(p+1)} + \\epsilon_i))^2}{\\sum_{i=1}^n (y_i - \\bar{y})^2} \\\\\n",
    "   \\sum_{i=1}^n (y_i - (\\beta_0 + \\beta_1X_{i,1} + ... + \\beta_pX_{i,p} + \\beta_{p+1}X_{i,(p+1)} + \\epsilon_i))^2 &< \\sum_{i=1}^n (y_i - (\\beta_0 + \\beta_1X_{i,1} + ... + \\beta_pX_{i,p} + \\epsilon_i))^2 \\\\\n",
    "\\end{align*}\n",
    "$$\n",
    "I'm not sure how to mathemicatically prove the rest of this but I will go through the intution behind it. We can see that the summations are basically describing distances between two points, one point being the true value $y$ and one being the estimated value $\\hat{y}$. The first model does not account for the $p+1$ parameter, which actual means that it's assigning $\\beta_{p+1} = 0$. The second model does account for the $p+1$ parameter, meaning that $\\beta_{p+1}$ may or may not be 0. If $\\beta_{p+1} = 0$ for both models, then they will have the same $R^2$. If $\\beta_{p+1} \\ne 0$ then (assuming it is the most optimal model) some of the variance of the data is being explained that is not being explained in the first model. Because of this, no matter the value of $\\beta_{p+1}$, the unexplained variation of the model $(\\frac{RSS}{TSS})$ will be less and the $R^2$ value will increase. "
   ]
  },
  {
   "cell_type": "markdown",
   "metadata": {},
   "source": [
    "## B. Computational Problems"
   ]
  },
  {
   "cell_type": "markdown",
   "metadata": {},
   "source": [
    "### Problem B.1\n",
    "\n",
    "#### (a) Load the ${\\tt prostate}$ data into R using the faraway package. The prostate data frame has 97 rows and 9 columns. It comes from a study on 97 men with prostate cancer who were due to receive a radical prostatectomy."
   ]
  },
  {
   "cell_type": "code",
   "execution_count": 1,
   "metadata": {},
   "outputs": [
    {
     "data": {
      "text/html": [
       "<table>\n",
       "<thead><tr><th scope=col>lcavol</th><th scope=col>lweight</th><th scope=col>age</th><th scope=col>lbph</th><th scope=col>svi</th><th scope=col>lcp</th><th scope=col>gleason</th><th scope=col>pgg45</th><th scope=col>lpsa</th></tr></thead>\n",
       "<tbody>\n",
       "\t<tr><td>-0.5798185</td><td>2.7695    </td><td>50        </td><td>-1.386294 </td><td>0         </td><td>-1.38629  </td><td>6         </td><td> 0        </td><td>-0.43078  </td></tr>\n",
       "\t<tr><td>-0.9942523</td><td>3.3196    </td><td>58        </td><td>-1.386294 </td><td>0         </td><td>-1.38629  </td><td>6         </td><td> 0        </td><td>-0.16252  </td></tr>\n",
       "\t<tr><td>-0.5108256</td><td>2.6912    </td><td>74        </td><td>-1.386294 </td><td>0         </td><td>-1.38629  </td><td>7         </td><td>20        </td><td>-0.16252  </td></tr>\n",
       "\t<tr><td>-1.2039728</td><td>3.2828    </td><td>58        </td><td>-1.386294 </td><td>0         </td><td>-1.38629  </td><td>6         </td><td> 0        </td><td>-0.16252  </td></tr>\n",
       "\t<tr><td> 0.7514161</td><td>3.4324    </td><td>62        </td><td>-1.386294 </td><td>0         </td><td>-1.38629  </td><td>6         </td><td> 0        </td><td> 0.37156  </td></tr>\n",
       "\t<tr><td>-1.0498221</td><td>3.2288    </td><td>50        </td><td>-1.386294 </td><td>0         </td><td>-1.38629  </td><td>6         </td><td> 0        </td><td> 0.76547  </td></tr>\n",
       "</tbody>\n",
       "</table>\n"
      ],
      "text/latex": [
       "\\begin{tabular}{r|lllllllll}\n",
       " lcavol & lweight & age & lbph & svi & lcp & gleason & pgg45 & lpsa\\\\\n",
       "\\hline\n",
       "\t -0.5798185 & 2.7695     & 50         & -1.386294  & 0          & -1.38629   & 6          &  0         & -0.43078  \\\\\n",
       "\t -0.9942523 & 3.3196     & 58         & -1.386294  & 0          & -1.38629   & 6          &  0         & -0.16252  \\\\\n",
       "\t -0.5108256 & 2.6912     & 74         & -1.386294  & 0          & -1.38629   & 7          & 20         & -0.16252  \\\\\n",
       "\t -1.2039728 & 3.2828     & 58         & -1.386294  & 0          & -1.38629   & 6          &  0         & -0.16252  \\\\\n",
       "\t  0.7514161 & 3.4324     & 62         & -1.386294  & 0          & -1.38629   & 6          &  0         &  0.37156  \\\\\n",
       "\t -1.0498221 & 3.2288     & 50         & -1.386294  & 0          & -1.38629   & 6          &  0         &  0.76547  \\\\\n",
       "\\end{tabular}\n"
      ],
      "text/markdown": [
       "\n",
       "lcavol | lweight | age | lbph | svi | lcp | gleason | pgg45 | lpsa | \n",
       "|---|---|---|---|---|---|\n",
       "| -0.5798185 | 2.7695     | 50         | -1.386294  | 0          | -1.38629   | 6          |  0         | -0.43078   | \n",
       "| -0.9942523 | 3.3196     | 58         | -1.386294  | 0          | -1.38629   | 6          |  0         | -0.16252   | \n",
       "| -0.5108256 | 2.6912     | 74         | -1.386294  | 0          | -1.38629   | 7          | 20         | -0.16252   | \n",
       "| -1.2039728 | 3.2828     | 58         | -1.386294  | 0          | -1.38629   | 6          |  0         | -0.16252   | \n",
       "|  0.7514161 | 3.4324     | 62         | -1.386294  | 0          | -1.38629   | 6          |  0         |  0.37156   | \n",
       "| -1.0498221 | 3.2288     | 50         | -1.386294  | 0          | -1.38629   | 6          |  0         |  0.76547   | \n",
       "\n",
       "\n"
      ],
      "text/plain": [
       "  lcavol     lweight age lbph      svi lcp      gleason pgg45 lpsa    \n",
       "1 -0.5798185 2.7695  50  -1.386294 0   -1.38629 6        0    -0.43078\n",
       "2 -0.9942523 3.3196  58  -1.386294 0   -1.38629 6        0    -0.16252\n",
       "3 -0.5108256 2.6912  74  -1.386294 0   -1.38629 7       20    -0.16252\n",
       "4 -1.2039728 3.2828  58  -1.386294 0   -1.38629 6        0    -0.16252\n",
       "5  0.7514161 3.4324  62  -1.386294 0   -1.38629 6        0     0.37156\n",
       "6 -1.0498221 3.2288  50  -1.386294 0   -1.38629 6        0     0.76547"
      ]
     },
     "metadata": {},
     "output_type": "display_data"
    }
   ],
   "source": [
    "library(faraway)\n",
    "head(prostate)"
   ]
  },
  {
   "cell_type": "markdown",
   "metadata": {},
   "source": [
    "#### (b) Conduct MLR with lpsa as the response and all of the other variables as predictors. Compute the 90% and 95% confidence intervals for the parameter associated with the age variable. Using these intervals, what could we have deduced about the p-value for age in the regression summary. "
   ]
  },
  {
   "cell_type": "code",
   "execution_count": 2,
   "metadata": {},
   "outputs": [
    {
     "data": {
      "text/html": [
       "<table>\n",
       "<thead><tr><th></th><th scope=col>2.5 %</th><th scope=col>97.5 %</th></tr></thead>\n",
       "<tbody>\n",
       "\t<tr><th scope=row>prostate$age</th><td>-0.04184062</td><td>0.002566267</td></tr>\n",
       "</tbody>\n",
       "</table>\n"
      ],
      "text/latex": [
       "\\begin{tabular}{r|ll}\n",
       "  & 2.5 \\% & 97.5 \\%\\\\\n",
       "\\hline\n",
       "\tprostate\\$age & -0.04184062 & 0.002566267\\\\\n",
       "\\end{tabular}\n"
      ],
      "text/markdown": [
       "\n",
       "| <!--/--> | 2.5 % | 97.5 % | \n",
       "|---|\n",
       "| prostate$age | -0.04184062 | 0.002566267 | \n",
       "\n",
       "\n"
      ],
      "text/plain": [
       "             2.5 %       97.5 %     \n",
       "prostate$age -0.04184062 0.002566267"
      ]
     },
     "metadata": {},
     "output_type": "display_data"
    },
    {
     "data": {
      "text/html": [
       "<table>\n",
       "<thead><tr><th></th><th scope=col>5 %</th><th scope=col>95 %</th></tr></thead>\n",
       "<tbody>\n",
       "\t<tr><th scope=row>prostate$age</th><td>-0.0382102  </td><td>-0.001064151</td></tr>\n",
       "</tbody>\n",
       "</table>\n"
      ],
      "text/latex": [
       "\\begin{tabular}{r|ll}\n",
       "  & 5 \\% & 95 \\%\\\\\n",
       "\\hline\n",
       "\tprostate\\$age & -0.0382102   & -0.001064151\\\\\n",
       "\\end{tabular}\n"
      ],
      "text/markdown": [
       "\n",
       "| <!--/--> | 5 % | 95 % | \n",
       "|---|\n",
       "| prostate$age | -0.0382102   | -0.001064151 | \n",
       "\n",
       "\n"
      ],
      "text/plain": [
       "             5 %        95 %        \n",
       "prostate$age -0.0382102 -0.001064151"
      ]
     },
     "metadata": {},
     "output_type": "display_data"
    }
   ],
   "source": [
    "lmod1 = lm(prostate$lpsa ~ prostate$lcavol + prostate$lweight + prostate$age + prostate$lbph + prostate$svi + prostate$lcp + prostate$gleason + prostate$pgg45, data = prostate)\n",
    "confint(lmod1, parm = \"prostate$age\", level = 0.95)\n",
    "confint(lmod1, parm = \"prostate$age\", level = 0.9)"
   ]
  },
  {
   "cell_type": "markdown",
   "metadata": {},
   "source": [
    "We know that conifidence intervals and p-values display related information. Because the 95% confidence interval covers 0, we know that the p-value is greater than 0.05. But because the 90% confidence interval does not cover 0, we know the p-value is less than 0.10."
   ]
  },
  {
   "cell_type": "markdown",
   "metadata": {},
   "source": [
    "#### (c) In class, we discussed a reason why conducting several individual hypothesis tests (e.g., t-tests for regression parameters) is problematic. It turns out that computing individual confidence intervals has a similar issue. Instead, we might compute a \"joint confidence region\" for several parameters.  Compute and display the 95% joint confidence region for the parameters associated with age and lbph. Plot the origin on this display. The location of the origin on the display tells us the outcome of certain hypothesis test. State the test and its outcome. \n",
    "\n",
    "The ellipse package and corresponding function should help here. Use the code below (and help files) as a guide."
   ]
  },
  {
   "cell_type": "code",
   "execution_count": 3,
   "metadata": {},
   "outputs": [
    {
     "data": {
      "image/png": "[encoded data removed]",
      "text/plain": [
       "plot without title"
      ]
     },
     "metadata": {},
     "output_type": "display_data"
    }
   ],
   "source": [
    "# install.packages(\"ellipse\")\n",
    "library(ellipse)\n",
    "#plot(ellipse(NameOfModel,c,type = \"l\") #c is a vector specifying the indices of the desired parameters\n",
    "index = c(4,5)\n",
    "plot(ellipse(lmod1, index, type = \"l\"))\n",
    "points(x = 0, y = 0, pch = 19)"
   ]
  },
  {
   "cell_type": "markdown",
   "metadata": {},
   "source": [
    "For the confidence region, we would be testing the hypotheses:\n",
    "\n",
    "$H_0: \\beta_j = 0$  \n",
    "$H_1: \\beta_j \\ne 0$\n",
    "\n",
    "The confidence region contains all the values of $\\mu_0$ that would not be rejected by a t-test. Therefor, because the origin is within the area, we fail to reject the null and assert that the features do not have a statistically significant impact on the result."
   ]
  },
  {
   "cell_type": "markdown",
   "metadata": {},
   "source": [
    "#### (d) Remove all predictors that are not significant at the $\\alpha = 0.05$ level. Test this model against the original model. Which model is preferred?"
   ]
  },
  {
   "cell_type": "code",
   "execution_count": 7,
   "metadata": {},
   "outputs": [
    {
     "data": {
      "text/html": [
       "<table>\n",
       "<thead><tr><th scope=col>Res.Df</th><th scope=col>RSS</th><th scope=col>Df</th><th scope=col>Sum of Sq</th><th scope=col>F</th><th scope=col>Pr(&gt;F)</th></tr></thead>\n",
       "<tbody>\n",
       "\t<tr><td>93       </td><td>47.78486 </td><td>NA       </td><td>      NA </td><td>      NA </td><td>       NA</td></tr>\n",
       "\t<tr><td>88       </td><td>44.16302 </td><td> 5       </td><td>3.621837 </td><td>1.443387 </td><td>0.2167334</td></tr>\n",
       "</tbody>\n",
       "</table>\n"
      ],
      "text/latex": [
       "\\begin{tabular}{r|llllll}\n",
       " Res.Df & RSS & Df & Sum of Sq & F & Pr(>F)\\\\\n",
       "\\hline\n",
       "\t 93        & 47.78486  & NA        &       NA  &       NA  &        NA\\\\\n",
       "\t 88        & 44.16302  &  5        & 3.621837  & 1.443387  & 0.2167334\\\\\n",
       "\\end{tabular}\n"
      ],
      "text/markdown": [
       "\n",
       "Res.Df | RSS | Df | Sum of Sq | F | Pr(>F) | \n",
       "|---|---|\n",
       "| 93        | 47.78486  | NA        |       NA  |       NA  |        NA | \n",
       "| 88        | 44.16302  |  5        | 3.621837  | 1.443387  | 0.2167334 | \n",
       "\n",
       "\n"
      ],
      "text/plain": [
       "  Res.Df RSS      Df Sum of Sq F        Pr(>F)   \n",
       "1 93     47.78486 NA       NA        NA        NA\n",
       "2 88     44.16302  5 3.621837  1.443387 0.2167334"
      ]
     },
     "metadata": {},
     "output_type": "display_data"
    }
   ],
   "source": [
    "lmodRed = lm(prostate$lpsa ~ prostate$lcavol + prostate$lweight + prostate$svi, data = prostate)\n",
    "anova(lmodRed, lmod1)"
   ]
  },
  {
   "cell_type": "markdown",
   "metadata": {},
   "source": [
    "After removing the data that was not significant at the $\\alpha = 0.05$ level (age, lbph, lcp, gleason, pgg45), we created a new model. When we tested this model with ANOVA, we found that it had a p-value of 0.217, which is greater than 0.05, so we reject the null and assert that the full model has a statistically significant difference that the reduced model so we should not get rid of all of those predictors."
   ]
  },
  {
   "cell_type": "markdown",
   "metadata": {},
   "source": [
    "### Problem B.2\n",
    "\n",
    "This [link](https://www.colorado.edu/amath/sites/default/files/attached-files/advertising.txt) contains advertising data. This dataset contains, in thousands of dollars, TV, Radio, and Newspaper budgets for 200 different markets along with the Sales, in thousands of units, for each market.\n",
    "\n",
    "#### (a) Load the dataset using the link above and split the data into a training set and a test set, as done in the previous homework. (Remove the variable X.)"
   ]
  },
  {
   "cell_type": "code",
   "execution_count": 2,
   "metadata": {},
   "outputs": [
    {
     "data": {
      "text/html": [
       "<table>\n",
       "<thead><tr><th scope=col>TV</th><th scope=col>radio</th><th scope=col>newspaper</th><th scope=col>sales</th></tr></thead>\n",
       "<tbody>\n",
       "\t<tr><td>230.1</td><td>37.8 </td><td>69.2 </td><td>22.1 </td></tr>\n",
       "\t<tr><td> 44.5</td><td>39.3 </td><td>45.1 </td><td>10.4 </td></tr>\n",
       "\t<tr><td> 17.2</td><td>45.9 </td><td>69.3 </td><td> 9.3 </td></tr>\n",
       "\t<tr><td>151.5</td><td>41.3 </td><td>58.5 </td><td>18.5 </td></tr>\n",
       "\t<tr><td>180.8</td><td>10.8 </td><td>58.4 </td><td>12.9 </td></tr>\n",
       "\t<tr><td>  8.7</td><td>48.9 </td><td>75.0 </td><td> 7.2 </td></tr>\n",
       "</tbody>\n",
       "</table>\n"
      ],
      "text/latex": [
       "\\begin{tabular}{r|llll}\n",
       " TV & radio & newspaper & sales\\\\\n",
       "\\hline\n",
       "\t 230.1 & 37.8  & 69.2  & 22.1 \\\\\n",
       "\t  44.5 & 39.3  & 45.1  & 10.4 \\\\\n",
       "\t  17.2 & 45.9  & 69.3  &  9.3 \\\\\n",
       "\t 151.5 & 41.3  & 58.5  & 18.5 \\\\\n",
       "\t 180.8 & 10.8  & 58.4  & 12.9 \\\\\n",
       "\t   8.7 & 48.9  & 75.0  &  7.2 \\\\\n",
       "\\end{tabular}\n"
      ],
      "text/markdown": [
       "\n",
       "TV | radio | newspaper | sales | \n",
       "|---|---|---|---|---|---|\n",
       "| 230.1 | 37.8  | 69.2  | 22.1  | \n",
       "|  44.5 | 39.3  | 45.1  | 10.4  | \n",
       "|  17.2 | 45.9  | 69.3  |  9.3  | \n",
       "| 151.5 | 41.3  | 58.5  | 18.5  | \n",
       "| 180.8 | 10.8  | 58.4  | 12.9  | \n",
       "|   8.7 | 48.9  | 75.0  |  7.2  | \n",
       "\n",
       "\n"
      ],
      "text/plain": [
       "  TV    radio newspaper sales\n",
       "1 230.1 37.8  69.2      22.1 \n",
       "2  44.5 39.3  45.1      10.4 \n",
       "3  17.2 45.9  69.3       9.3 \n",
       "4 151.5 41.3  58.5      18.5 \n",
       "5 180.8 10.8  58.4      12.9 \n",
       "6   8.7 48.9  75.0       7.2 "
      ]
     },
     "metadata": {},
     "output_type": "display_data"
    }
   ],
   "source": [
    "data = read.csv(\"Advertising.csv\")\n",
    "# Name of column to be dropped\n",
    "dropX = \"X\"\n",
    "data = data[, !(names(data) %in% dropX)]\n",
    "head(data)"
   ]
  },
  {
   "cell_type": "code",
   "execution_count": 3,
   "metadata": {},
   "outputs": [],
   "source": [
    "# Set the seed for random numbers\n",
    "set.seed(99)\n",
    "# Sample size is 80% of the number of rows\n",
    "sampleSize = floor(0.8 * nrow(data))\n",
    "# Get random row indexes from the data set\n",
    "randIndexes = sample(seq_len(nrow(data)), size = sampleSize)\n",
    "# Create training set from rows with the random indexes. Make test set everything else.\n",
    "training = data[randIndexes, ]\n",
    "test = data[-randIndexes, ]"
   ]
  },
  {
   "cell_type": "markdown",
   "metadata": {},
   "source": [
    "#### (b) Fit the full MLR model. Which variables are statistically significant at the 5% level? Discuss the difference between statistical and practical significance in this context. Also, the estimate for newspaper is negative. Do you actually think that sales *suffer* as a result of newspaper advertising?"
   ]
  },
  {
   "cell_type": "code",
   "execution_count": 4,
   "metadata": {},
   "outputs": [
    {
     "data": {
      "text/plain": [
       "\n",
       "Call:\n",
       "lm(formula = sales ~ TV + radio + newspaper, data = training)\n",
       "\n",
       "Residuals:\n",
       "    Min      1Q  Median      3Q     Max \n",
       "-8.6118 -0.6569  0.1975  1.2522  2.7601 \n",
       "\n",
       "Coefficients:\n",
       "              Estimate Std. Error t value Pr(>|t|)    \n",
       "(Intercept)  2.9574591  0.3444175   8.587 8.59e-15 ***\n",
       "TV           0.0466668  0.0015979  29.206  < 2e-16 ***\n",
       "radio        0.1825387  0.0098530  18.526  < 2e-16 ***\n",
       "newspaper   -0.0007881  0.0064732  -0.122    0.903    \n",
       "---\n",
       "Signif. codes:  0 '***' 0.001 '**' 0.01 '*' 0.05 '.' 0.1 ' ' 1\n",
       "\n",
       "Residual standard error: 1.74 on 156 degrees of freedom\n",
       "Multiple R-squared:  0.8989,\tAdjusted R-squared:  0.897 \n",
       "F-statistic: 462.4 on 3 and 156 DF,  p-value: < 2.2e-16\n"
      ]
     },
     "metadata": {},
     "output_type": "display_data"
    }
   ],
   "source": [
    "lmod = lm(sales ~ TV + radio + newspaper, data = training)\n",
    "summary(lmod)"
   ]
  },
  {
   "cell_type": "markdown",
   "metadata": {},
   "source": [
    "Based on the p-values in the above summary, the TV and radio variables are statistically significant because their p-values are lower than the significance level. Newspaper has a p-value of 0.903 which is much higher than the significance, so so must reject the null and say that it is not statistically significant. Although the data says that newspaper is statistically insignificant, it may still lead to other practical benefits in other ways that are not accounted for in the data, such as visibility and audience. The reason that the newspaper estimate is negative is most likely because it's very close to zero, meaning it has no influence on the result, but some variance in the data slightly shifted it to be negative. Practically, it is unlikely that creating newspapers would decrease sales. "
   ]
  },
  {
   "cell_type": "markdown",
   "metadata": {},
   "source": [
    "#### (c) Imagine that, in your test set, you don't have any response measurements. Compute predictions--including 95% *prediction* intervals--of sales for all measurements in your test set. Print the prediction MSE and the first five prediction intervals."
   ]
  },
  {
   "cell_type": "code",
   "execution_count": 5,
   "metadata": {},
   "outputs": [
    {
     "data": {
      "text/html": [
       "<table>\n",
       "<thead><tr><th></th><th scope=col>fit</th><th scope=col>lwr</th><th scope=col>upr</th></tr></thead>\n",
       "<tbody>\n",
       "\t<tr><th scope=row>3</th><td>12.084039</td><td> 8.561592</td><td>15.60649 </td></tr>\n",
       "\t<tr><th scope=row>5</th><td>13.320209</td><td> 9.835785</td><td>16.80463 </td></tr>\n",
       "\t<tr><th scope=row>8</th><td>12.135424</td><td> 8.679796</td><td>15.59105 </td></tr>\n",
       "\t<tr><th scope=row>14</th><td> 8.889091</td><td> 5.422603</td><td>12.35558 </td></tr>\n",
       "\t<tr><th scope=row>26</th><td>15.849677</td><td>12.359050</td><td>19.34030 </td></tr>\n",
       "</tbody>\n",
       "</table>\n"
      ],
      "text/latex": [
       "\\begin{tabular}{r|lll}\n",
       "  & fit & lwr & upr\\\\\n",
       "\\hline\n",
       "\t3 & 12.084039 &  8.561592 & 15.60649 \\\\\n",
       "\t5 & 13.320209 &  9.835785 & 16.80463 \\\\\n",
       "\t8 & 12.135424 &  8.679796 & 15.59105 \\\\\n",
       "\t14 &  8.889091 &  5.422603 & 12.35558 \\\\\n",
       "\t26 & 15.849677 & 12.359050 & 19.34030 \\\\\n",
       "\\end{tabular}\n"
      ],
      "text/markdown": [
       "\n",
       "| <!--/--> | fit | lwr | upr | \n",
       "|---|---|---|---|---|\n",
       "| 3 | 12.084039 |  8.561592 | 15.60649  | \n",
       "| 5 | 13.320209 |  9.835785 | 16.80463  | \n",
       "| 8 | 12.135424 |  8.679796 | 15.59105  | \n",
       "| 14 |  8.889091 |  5.422603 | 12.35558  | \n",
       "| 26 | 15.849677 | 12.359050 | 19.34030  | \n",
       "\n",
       "\n"
      ],
      "text/plain": [
       "   fit       lwr       upr     \n",
       "3  12.084039  8.561592 15.60649\n",
       "5  13.320209  9.835785 16.80463\n",
       "8  12.135424  8.679796 15.59105\n",
       "14  8.889091  5.422603 12.35558\n",
       "26 15.849677 12.359050 19.34030"
      ]
     },
     "metadata": {},
     "output_type": "display_data"
    },
    {
     "data": {
      "text/html": [
       "2.17858142802154"
      ],
      "text/latex": [
       "2.17858142802154"
      ],
      "text/markdown": [
       "2.17858142802154"
      ],
      "text/plain": [
       "[1] 2.178581"
      ]
     },
     "metadata": {},
     "output_type": "display_data"
    }
   ],
   "source": [
    "preds = predict(lmod, newdata = test)\n",
    "predIntervals = predict(lmod, newdata = test, interval = \"prediction\")\n",
    "head(predIntervals, 5)\n",
    "# Calculate the MSE = (1/n)*sum(y-yHat)^2\n",
    "mean((test[,4] - as.numeric(preds))^2)"
   ]
  },
  {
   "cell_type": "markdown",
   "metadata": {},
   "source": [
    "The MSE/RSS of the prediction is 2.179."
   ]
  },
  {
   "cell_type": "markdown",
   "metadata": {},
   "source": [
    "#### (d) Add some polynomial terms to the model. Specifically, add $TV^2$ and $radio^2$ to the model. To do this, you'll need to use the I() function: I(predictor^2). Comment on the significance of these terms. Assume $\\alpha = 0.05$."
   ]
  },
  {
   "cell_type": "code",
   "execution_count": 6,
   "metadata": {},
   "outputs": [
    {
     "data": {
      "text/plain": [
       "\n",
       "Call:\n",
       "lm(formula = sales ~ TV + radio + newspaper + I(TV^2) + I(radio^2), \n",
       "    data = training)\n",
       "\n",
       "Residuals:\n",
       "    Min      1Q  Median      3Q     Max \n",
       "-7.3234 -0.8082  0.0752  1.0235  3.2554 \n",
       "\n",
       "Coefficients:\n",
       "              Estimate Std. Error t value Pr(>|t|)    \n",
       "(Intercept)  1.823e+00  4.765e-01   3.826 0.000189 ***\n",
       "TV           7.824e-02  5.678e-03  13.778  < 2e-16 ***\n",
       "radio        1.324e-01  3.316e-02   3.993 0.000101 ***\n",
       "newspaper    1.736e-04  5.934e-03   0.029 0.976693    \n",
       "I(TV^2)     -1.113e-04  1.944e-05  -5.727 5.21e-08 ***\n",
       "I(radio^2)   1.149e-03  6.784e-04   1.693 0.092447 .  \n",
       "---\n",
       "Signif. codes:  0 '***' 0.001 '**' 0.01 '*' 0.05 '.' 0.1 ' ' 1\n",
       "\n",
       "Residual standard error: 1.577 on 154 degrees of freedom\n",
       "Multiple R-squared:  0.918,\tAdjusted R-squared:  0.9153 \n",
       "F-statistic: 344.8 on 5 and 154 DF,  p-value: < 2.2e-16\n"
      ]
     },
     "metadata": {},
     "output_type": "display_data"
    }
   ],
   "source": [
    "lmod2 = lm(sales ~ TV + radio + newspaper + I(TV^2) + I(radio^2), data = training)\n",
    "summary(lmod2)"
   ]
  },
  {
   "cell_type": "markdown",
   "metadata": {},
   "source": [
    "The added features are surprisingly signficant even though they are basesd on previous data. The $TV^2$ term has a very low p-value, by far low enough to be deemed statistically significant given normal tests. The $radio^2$ term was not deemed statistically significant at 95% confidence, but would be at 90% confidence."
   ]
  },
  {
   "cell_type": "markdown",
   "metadata": {},
   "source": [
    "#### (e) Is it surprising that $R^2$ increased from the model in (c) to the model in (d)? Explain why or why not."
   ]
  },
  {
   "cell_type": "markdown",
   "metadata": {
    "collapsed": true
   },
   "source": [
    "It should not be surprising because of two reasons. First, we know that increasing the number of features increases the $R^2$ value (or at worst keeps it the same) so by adding two more predictors, some other variation in the data was somewhat explained. Secondly, the new features are based on data from the original predictors, meaning that they more correlated than say random values. Both of these reasons explain why the value of $R^2$ inceased from **(c)** to **(d)**."
   ]
  },
  {
   "cell_type": "markdown",
   "metadata": {},
   "source": [
    "#### (f) Conduct a test (not just individual t-tests) to decide whether you should keep the quadratic terms in your model."
   ]
  },
  {
   "cell_type": "code",
   "execution_count": 8,
   "metadata": {},
   "outputs": [
    {
     "data": {
      "text/html": [
       "<table>\n",
       "<thead><tr><th scope=col>Res.Df</th><th scope=col>RSS</th><th scope=col>Df</th><th scope=col>Sum of Sq</th><th scope=col>F</th><th scope=col>Pr(&gt;F)</th></tr></thead>\n",
       "<tbody>\n",
       "\t<tr><td>156         </td><td>472.3231    </td><td>NA          </td><td>      NA    </td><td>      NA    </td><td>          NA</td></tr>\n",
       "\t<tr><td>154         </td><td>383.1527    </td><td> 2          </td><td>89.17041    </td><td>17.92006    </td><td>1.007437e-07</td></tr>\n",
       "</tbody>\n",
       "</table>\n"
      ],
      "text/latex": [
       "\\begin{tabular}{r|llllll}\n",
       " Res.Df & RSS & Df & Sum of Sq & F & Pr(>F)\\\\\n",
       "\\hline\n",
       "\t 156          & 472.3231     & NA           &       NA     &       NA     &           NA\\\\\n",
       "\t 154          & 383.1527     &  2           & 89.17041     & 17.92006     & 1.007437e-07\\\\\n",
       "\\end{tabular}\n"
      ],
      "text/markdown": [
       "\n",
       "Res.Df | RSS | Df | Sum of Sq | F | Pr(>F) | \n",
       "|---|---|\n",
       "| 156          | 472.3231     | NA           |       NA     |       NA     |           NA | \n",
       "| 154          | 383.1527     |  2           | 89.17041     | 17.92006     | 1.007437e-07 | \n",
       "\n",
       "\n"
      ],
      "text/plain": [
       "  Res.Df RSS      Df Sum of Sq F        Pr(>F)      \n",
       "1 156    472.3231 NA       NA        NA           NA\n",
       "2 154    383.1527  2 89.17041  17.92006 1.007437e-07"
      ]
     },
     "metadata": {},
     "output_type": "display_data"
    }
   ],
   "source": [
    "anova(lmod, lmod2)"
   ]
  },
  {
   "cell_type": "markdown",
   "metadata": {},
   "source": [
    "Because the p-value of the partial F-test is $1.007*10^{-7}< 0.05$, we reject the null and assert that the initial model is insuffienct and should use the model with the quadratic terms."
   ]
  },
  {
   "cell_type": "markdown",
   "metadata": {},
   "source": [
    "#### (g) Redo part (c) for the model with the quadratic terms. How do the predicted MSEs compare?"
   ]
  },
  {
   "cell_type": "code",
   "execution_count": 9,
   "metadata": {},
   "outputs": [
    {
     "data": {
      "text/html": [
       "<table>\n",
       "<thead><tr><th></th><th scope=col>fit</th><th scope=col>lwr</th><th scope=col>upr</th></tr></thead>\n",
       "<tbody>\n",
       "\t<tr><th scope=row>3</th><td>11.644807</td><td> 8.428899</td><td>14.86071 </td></tr>\n",
       "\t<tr><th scope=row>5</th><td>13.902990</td><td>10.732890</td><td>17.07309 </td></tr>\n",
       "\t<tr><th scope=row>8</th><td>12.656876</td><td> 9.503430</td><td>15.81032 </td></tr>\n",
       "\t<tr><th scope=row>14</th><td> 9.466606</td><td> 6.318100</td><td>12.61511 </td></tr>\n",
       "\t<tr><th scope=row>26</th><td>15.177423</td><td>11.985447</td><td>18.36940 </td></tr>\n",
       "</tbody>\n",
       "</table>\n"
      ],
      "text/latex": [
       "\\begin{tabular}{r|lll}\n",
       "  & fit & lwr & upr\\\\\n",
       "\\hline\n",
       "\t3 & 11.644807 &  8.428899 & 14.86071 \\\\\n",
       "\t5 & 13.902990 & 10.732890 & 17.07309 \\\\\n",
       "\t8 & 12.656876 &  9.503430 & 15.81032 \\\\\n",
       "\t14 &  9.466606 &  6.318100 & 12.61511 \\\\\n",
       "\t26 & 15.177423 & 11.985447 & 18.36940 \\\\\n",
       "\\end{tabular}\n"
      ],
      "text/markdown": [
       "\n",
       "| <!--/--> | fit | lwr | upr | \n",
       "|---|---|---|---|---|\n",
       "| 3 | 11.644807 |  8.428899 | 14.86071  | \n",
       "| 5 | 13.902990 | 10.732890 | 17.07309  | \n",
       "| 8 | 12.656876 |  9.503430 | 15.81032  | \n",
       "| 14 |  9.466606 |  6.318100 | 12.61511  | \n",
       "| 26 | 15.177423 | 11.985447 | 18.36940  | \n",
       "\n",
       "\n"
      ],
      "text/plain": [
       "   fit       lwr       upr     \n",
       "3  11.644807  8.428899 14.86071\n",
       "5  13.902990 10.732890 17.07309\n",
       "8  12.656876  9.503430 15.81032\n",
       "14  9.466606  6.318100 12.61511\n",
       "26 15.177423 11.985447 18.36940"
      ]
     },
     "metadata": {},
     "output_type": "display_data"
    },
    {
     "data": {
      "text/html": [
       "1.69265294281693"
      ],
      "text/latex": [
       "1.69265294281693"
      ],
      "text/markdown": [
       "1.69265294281693"
      ],
      "text/plain": [
       "[1] 1.692653"
      ]
     },
     "metadata": {},
     "output_type": "display_data"
    }
   ],
   "source": [
    "predQuad = predict(lmod2, newdata = test)\n",
    "predQuadIntervals = predict(lmod2, newdata = test, interval = \"prediction\")\n",
    "head(predQuadIntervals, 5)\n",
    "# Calculate the MSE = (1/n)*sum(y-yHat)^2\n",
    "mean((test[,4] - as.numeric(predQuad))^2)"
   ]
  },
  {
   "cell_type": "markdown",
   "metadata": {},
   "source": [
    "The MSE of the model with the quadratic terms was $1.693$ which is lower than the MSE of $2.179$ for the model without the quadratic terms. This also implies that the second model explains more variance in the data than the first model."
   ]
  }
 ],
 "metadata": {
  "kernelspec": {
   "display_name": "R",
   "language": "R",
   "name": "ir"
  },
  "language_info": {
   "codemirror_mode": "r",
   "file_extension": ".r",
   "mimetype": "text/x-r-source",
   "name": "R",
   "pygments_lexer": "r",
   "version": "3.4.3"
  }
 },
 "nbformat": 4,
 "nbformat_minor": 2
}
