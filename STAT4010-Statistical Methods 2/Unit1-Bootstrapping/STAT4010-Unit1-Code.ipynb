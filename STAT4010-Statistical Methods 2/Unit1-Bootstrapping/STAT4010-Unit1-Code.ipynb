{
 "cells": [
  {
   "cell_type": "markdown",
   "metadata": {},
   "source": [
    "# Bootstrap Simulations\n",
    "\n",
    "The purpose of this in-class notebook is for you to gain some experience with bootstrap simulations. You are expected to complete all exercises and turn in your work on Canvas (due date to be announced).\n"
   ]
  },
  {
   "cell_type": "markdown",
   "metadata": {},
   "source": [
    "Student: Adam Ten Hoeve"
   ]
  },
  {
   "cell_type": "markdown",
   "metadata": {},
   "source": [
    "## Problem #1\n",
    "\n",
    "Let's compare the \"normal theory\" confidence interval to the boostrap confidence interval.\n",
    "\n",
    "#### (a) Generate a sample of size $n = 45$ from an exponential distribution with rate $\\lambda = 1$. Calculate $\\bar{X}$. "
   ]
  },
  {
   "cell_type": "code",
   "execution_count": 1,
   "metadata": {},
   "outputs": [
    {
     "data": {
      "text/html": [
       "0.804668162947104"
      ],
      "text/latex": [
       "0.804668162947104"
      ],
      "text/markdown": [
       "0.804668162947104"
      ],
      "text/plain": [
       "[1] 0.8046682"
      ]
     },
     "metadata": {},
     "output_type": "display_data"
    }
   ],
   "source": [
    "n = 45\n",
    "exp = rexp(n = 45, rate = 1)\n",
    "xbar = mean(exp)\n",
    "xbar"
   ]
  },
  {
   "cell_type": "markdown",
   "metadata": {},
   "source": [
    "#### (b) Calculate B = 500 bootstrap samples, each of size $n$. You might do this in a $n \\times B$ matrix, for example, where each column is a boostrap sample. Then, find the mean of each bootstrap sample, denoted $\\bar{X}^*_i$, for $i = 1,...,B$. "
   ]
  },
  {
   "cell_type": "code",
   "execution_count": 3,
   "metadata": {},
   "outputs": [
    {
     "data": {
      "text/html": [
       "<table>\n",
       "<tbody>\n",
       "\t<tr><td>2.1990428 </td><td>1.3151880 </td><td>0.5114207 </td><td>0.2108267 </td><td>0.8688744 </td><td>0.21082674</td><td>4.39671709</td><td>0.4259320 </td><td>2.46257006</td><td>2.1990428 </td><td>...       </td><td>0.1719505 </td><td>0.3838786 </td><td>0.4884602 </td><td>2.1885191 </td><td>0.6569533 </td><td>1.2370635 </td><td>0.4893364 </td><td>0.9586463 </td><td>0.5119507 </td><td>4.39671709</td></tr>\n",
       "\t<tr><td>0.4884602 </td><td>0.6569533 </td><td>1.2340524 </td><td>0.2108267 </td><td>2.1885191 </td><td>0.20617357</td><td>0.21082674</td><td>0.8832461 </td><td>0.45630386</td><td>1.2340524 </td><td>...       </td><td>0.4563039 </td><td>0.4893364 </td><td>0.2108267 </td><td>0.5119507 </td><td>0.8688744 </td><td>2.4625701 </td><td>0.3838786 </td><td>0.4443789 </td><td>0.8150281 </td><td>0.24618296</td></tr>\n",
       "\t<tr><td>2.4625701 </td><td>0.2461830 </td><td>0.1422951 </td><td>0.4893364 </td><td>0.1413085 </td><td>0.05814851</td><td>0.04717689</td><td>0.2108267 </td><td>4.39671709</td><td>0.5119507 </td><td>...       </td><td>0.1422951 </td><td>0.3367388 </td><td>0.3367388 </td><td>0.8688744 </td><td>0.6105240 </td><td>0.1422951 </td><td>0.8688744 </td><td>0.1719505 </td><td>0.4884602 </td><td>1.31518796</td></tr>\n",
       "\t<tr><td>0.9586463 </td><td>0.1413085 </td><td>0.6569533 </td><td>0.6569533 </td><td>0.9586463 </td><td>0.28773179</td><td>0.33673878</td><td>1.1466165 </td><td>0.88324611</td><td>1.2547030 </td><td>...       </td><td>0.2461830 </td><td>0.4060589 </td><td>0.3838786 </td><td>0.4157167 </td><td>0.4884602 </td><td>0.4259320 </td><td>0.8022795 </td><td>0.4060589 </td><td>2.1990428 </td><td>0.04717689</td></tr>\n",
       "\t<tr><td>0.8688744 </td><td>0.4893364 </td><td>0.4893364 </td><td>0.4443789 </td><td>0.1719505 </td><td>0.42593203</td><td>0.48846024</td><td>1.4421334 </td><td>0.05814851</td><td>0.4884602 </td><td>...       </td><td>0.1422951 </td><td>1.1566422 </td><td>0.5114207 </td><td>0.2061736 </td><td>0.8150281 </td><td>1.2370635 </td><td>0.4884602 </td><td>0.8688744 </td><td>1.2370635 </td><td>1.23405236</td></tr>\n",
       "\t<tr><td>0.8688744 </td><td>0.2461830 </td><td>0.5114207 </td><td>0.6105240 </td><td>0.5114207 </td><td>2.18851913</td><td>0.23567527</td><td>1.2340524 </td><td>1.15664225</td><td>0.4563039 </td><td>...       </td><td>2.1885191 </td><td>1.6257535 </td><td>2.1990428 </td><td>0.8688744 </td><td>0.4060589 </td><td>0.5119507 </td><td>0.3367388 </td><td>0.1413085 </td><td>0.4259320 </td><td>0.51195072</td></tr>\n",
       "</tbody>\n",
       "</table>\n"
      ],
      "text/latex": [
       "\\begin{tabular}{llllllllllllllllllllllllllllllllllllllllllllllllllllllllllllllllllllllllllllllllllllllllllllllllllllllllllllllllllllllllllllllllllllllllllllllllllllllllllllllllllllllllllllllllllllllllllllllllllllllllllllllllllllllllllllllllllllllllllllllllllllllllllllllllllllllllllllllllllllllllllllllllllllllllllllllllllllllllllllllllllllllllllllllllllllllllllllllllllllllllllllllllllllllllllllllllllllllllllllllllllllllllllllllllllllllllllllllllllllllllllllllllllllllllllllllllllllllllllllllllllllllllllllllllllll}\n",
       "\t 2.1990428  & 1.3151880  & 0.5114207  & 0.2108267  & 0.8688744  & 0.21082674 & 4.39671709 & 0.4259320  & 2.46257006 & 2.1990428  & ...        & 0.1719505  & 0.3838786  & 0.4884602  & 2.1885191  & 0.6569533  & 1.2370635  & 0.4893364  & 0.9586463  & 0.5119507  & 4.39671709\\\\\n",
       "\t 0.4884602  & 0.6569533  & 1.2340524  & 0.2108267  & 2.1885191  & 0.20617357 & 0.21082674 & 0.8832461  & 0.45630386 & 1.2340524  & ...        & 0.4563039  & 0.4893364  & 0.2108267  & 0.5119507  & 0.8688744  & 2.4625701  & 0.3838786  & 0.4443789  & 0.8150281  & 0.24618296\\\\\n",
       "\t 2.4625701  & 0.2461830  & 0.1422951  & 0.4893364  & 0.1413085  & 0.05814851 & 0.04717689 & 0.2108267  & 4.39671709 & 0.5119507  & ...        & 0.1422951  & 0.3367388  & 0.3367388  & 0.8688744  & 0.6105240  & 0.1422951  & 0.8688744  & 0.1719505  & 0.4884602  & 1.31518796\\\\\n",
       "\t 0.9586463  & 0.1413085  & 0.6569533  & 0.6569533  & 0.9586463  & 0.28773179 & 0.33673878 & 1.1466165  & 0.88324611 & 1.2547030  & ...        & 0.2461830  & 0.4060589  & 0.3838786  & 0.4157167  & 0.4884602  & 0.4259320  & 0.8022795  & 0.4060589  & 2.1990428  & 0.04717689\\\\\n",
       "\t 0.8688744  & 0.4893364  & 0.4893364  & 0.4443789  & 0.1719505  & 0.42593203 & 0.48846024 & 1.4421334  & 0.05814851 & 0.4884602  & ...        & 0.1422951  & 1.1566422  & 0.5114207  & 0.2061736  & 0.8150281  & 1.2370635  & 0.4884602  & 0.8688744  & 1.2370635  & 1.23405236\\\\\n",
       "\t 0.8688744  & 0.2461830  & 0.5114207  & 0.6105240  & 0.5114207  & 2.18851913 & 0.23567527 & 1.2340524  & 1.15664225 & 0.4563039  & ...        & 2.1885191  & 1.6257535  & 2.1990428  & 0.8688744  & 0.4060589  & 0.5119507  & 0.3367388  & 0.1413085  & 0.4259320  & 0.51195072\\\\\n",
       "\\end{tabular}\n"
      ],
      "text/markdown": [
       "\n",
       "| 2.1990428  | 1.3151880  | 0.5114207  | 0.2108267  | 0.8688744  | 0.21082674 | 4.39671709 | 0.4259320  | 2.46257006 | 2.1990428  | ...        | 0.1719505  | 0.3838786  | 0.4884602  | 2.1885191  | 0.6569533  | 1.2370635  | 0.4893364  | 0.9586463  | 0.5119507  | 4.39671709 | \n",
       "| 0.4884602  | 0.6569533  | 1.2340524  | 0.2108267  | 2.1885191  | 0.20617357 | 0.21082674 | 0.8832461  | 0.45630386 | 1.2340524  | ...        | 0.4563039  | 0.4893364  | 0.2108267  | 0.5119507  | 0.8688744  | 2.4625701  | 0.3838786  | 0.4443789  | 0.8150281  | 0.24618296 | \n",
       "| 2.4625701  | 0.2461830  | 0.1422951  | 0.4893364  | 0.1413085  | 0.05814851 | 0.04717689 | 0.2108267  | 4.39671709 | 0.5119507  | ...        | 0.1422951  | 0.3367388  | 0.3367388  | 0.8688744  | 0.6105240  | 0.1422951  | 0.8688744  | 0.1719505  | 0.4884602  | 1.31518796 | \n",
       "| 0.9586463  | 0.1413085  | 0.6569533  | 0.6569533  | 0.9586463  | 0.28773179 | 0.33673878 | 1.1466165  | 0.88324611 | 1.2547030  | ...        | 0.2461830  | 0.4060589  | 0.3838786  | 0.4157167  | 0.4884602  | 0.4259320  | 0.8022795  | 0.4060589  | 2.1990428  | 0.04717689 | \n",
       "| 0.8688744  | 0.4893364  | 0.4893364  | 0.4443789  | 0.1719505  | 0.42593203 | 0.48846024 | 1.4421334  | 0.05814851 | 0.4884602  | ...        | 0.1422951  | 1.1566422  | 0.5114207  | 0.2061736  | 0.8150281  | 1.2370635  | 0.4884602  | 0.8688744  | 1.2370635  | 1.23405236 | \n",
       "| 0.8688744  | 0.2461830  | 0.5114207  | 0.6105240  | 0.5114207  | 2.18851913 | 0.23567527 | 1.2340524  | 1.15664225 | 0.4563039  | ...        | 2.1885191  | 1.6257535  | 2.1990428  | 0.8688744  | 0.4060589  | 0.5119507  | 0.3367388  | 0.1413085  | 0.4259320  | 0.51195072 | \n",
       "\n",
       "\n"
      ],
      "text/plain": [
       "     [,1]      [,2]      [,3]      [,4]      [,5]      [,6]       [,7]      \n",
       "[1,] 2.1990428 1.3151880 0.5114207 0.2108267 0.8688744 0.21082674 4.39671709\n",
       "[2,] 0.4884602 0.6569533 1.2340524 0.2108267 2.1885191 0.20617357 0.21082674\n",
       "[3,] 2.4625701 0.2461830 0.1422951 0.4893364 0.1413085 0.05814851 0.04717689\n",
       "[4,] 0.9586463 0.1413085 0.6569533 0.6569533 0.9586463 0.28773179 0.33673878\n",
       "[5,] 0.8688744 0.4893364 0.4893364 0.4443789 0.1719505 0.42593203 0.48846024\n",
       "[6,] 0.8688744 0.2461830 0.5114207 0.6105240 0.5114207 2.18851913 0.23567527\n",
       "     [,8]      [,9]       [,10]     [,11] [,12]     [,13]     [,14]    \n",
       "[1,] 0.4259320 2.46257006 2.1990428 ...   0.1719505 0.3838786 0.4884602\n",
       "[2,] 0.8832461 0.45630386 1.2340524 ...   0.4563039 0.4893364 0.2108267\n",
       "[3,] 0.2108267 4.39671709 0.5119507 ...   0.1422951 0.3367388 0.3367388\n",
       "[4,] 1.1466165 0.88324611 1.2547030 ...   0.2461830 0.4060589 0.3838786\n",
       "[5,] 1.4421334 0.05814851 0.4884602 ...   0.1422951 1.1566422 0.5114207\n",
       "[6,] 1.2340524 1.15664225 0.4563039 ...   2.1885191 1.6257535 2.1990428\n",
       "     [,15]     [,16]     [,17]     [,18]     [,19]     [,20]     [,21]     \n",
       "[1,] 2.1885191 0.6569533 1.2370635 0.4893364 0.9586463 0.5119507 4.39671709\n",
       "[2,] 0.5119507 0.8688744 2.4625701 0.3838786 0.4443789 0.8150281 0.24618296\n",
       "[3,] 0.8688744 0.6105240 0.1422951 0.8688744 0.1719505 0.4884602 1.31518796\n",
       "[4,] 0.4157167 0.4884602 0.4259320 0.8022795 0.4060589 2.1990428 0.04717689\n",
       "[5,] 0.2061736 0.8150281 1.2370635 0.4884602 0.8688744 1.2370635 1.23405236\n",
       "[6,] 0.8688744 0.4060589 0.5119507 0.3367388 0.1413085 0.4259320 0.51195072"
      ]
     },
     "metadata": {},
     "output_type": "display_data"
    },
    {
     "data": {
      "text/html": [
       "<ol class=list-inline>\n",
       "\t<li>45</li>\n",
       "\t<li>500</li>\n",
       "</ol>\n"
      ],
      "text/latex": [
       "\\begin{enumerate*}\n",
       "\\item 45\n",
       "\\item 500\n",
       "\\end{enumerate*}\n"
      ],
      "text/markdown": [
       "1. 45\n",
       "2. 500\n",
       "\n",
       "\n"
      ],
      "text/plain": [
       "[1]  45 500"
      ]
     },
     "metadata": {},
     "output_type": "display_data"
    }
   ],
   "source": [
    "B = 500\n",
    "boots = replicate(B, sample(exp, size = n, replace = TRUE))\n",
    "head(boots)\n",
    "dim(boots)"
   ]
  },
  {
   "cell_type": "code",
   "execution_count": 6,
   "metadata": {},
   "outputs": [],
   "source": [
    "xBarStar = colMeans(boots)"
   ]
  },
  {
   "cell_type": "markdown",
   "metadata": {},
   "source": [
    "#### (c) Use the quantile() function to find the 2.5th and 97.5th percentile of the distribution of each $\\bar{X}^*_i$. Use these values to calculate the $95\\%$ boostrap confidence interval for $\\mu$. "
   ]
  },
  {
   "cell_type": "code",
   "execution_count": 97,
   "metadata": {},
   "outputs": [
    {
     "name": "stdout",
     "output_type": "stream",
     "text": [
      "The bootstrap CI is [ 1.294707 ,  1.599515 ]"
     ]
    }
   ],
   "source": [
    "lower = 2*xbar - as.numeric(quantile(xBarStar, probs = 0.975))\n",
    "upper = 2*xbar - as.numeric(quantile(xBarStar, probs = 0.025))\n",
    "\n",
    "cat(\"The bootstrap CI is [\", lower, \", \", upper, \"]\")"
   ]
  },
  {
   "cell_type": "markdown",
   "metadata": {},
   "source": [
    "#### (d) Compute the appropriate \"normal theory\" confidence interval for $\\mu$ (learned in STAT/MATH 4520/5520 or STAT 4000/5000)."
   ]
  },
  {
   "cell_type": "code",
   "execution_count": 98,
   "metadata": {},
   "outputs": [
    {
     "data": {
      "text/html": [
       "1.03531601672836"
      ],
      "text/latex": [
       "1.03531601672836"
      ],
      "text/markdown": [
       "1.03531601672836"
      ],
      "text/plain": [
       "[1] 1.035316"
      ]
     },
     "metadata": {},
     "output_type": "display_data"
    }
   ],
   "source": [
    "sigma = var(exp)\n",
    "sigma"
   ]
  },
  {
   "cell_type": "code",
   "execution_count": 99,
   "metadata": {},
   "outputs": [
    {
     "data": {
      "text/html": [
       "<ol class=list-inline>\n",
       "\t<li>0.7482969341804</li>\n",
       "\t<li>1.35329326798492</li>\n",
       "</ol>\n"
      ],
      "text/latex": [
       "\\begin{enumerate*}\n",
       "\\item 0.7482969341804\n",
       "\\item 1.35329326798492\n",
       "\\end{enumerate*}\n"
      ],
      "text/markdown": [
       "1. 0.7482969341804\n",
       "2. 1.35329326798492\n",
       "\n",
       "\n"
      ],
      "text/plain": [
       "[1] 0.7482969 1.3532933"
      ]
     },
     "metadata": {},
     "output_type": "display_data"
    }
   ],
   "source": [
    "lower = xbar - 1.96 * sigma / sqrt(n)\n",
    "upper = xbar + 1.96 * sigma / sqrt(n)\n",
    "c(lower, upper)"
   ]
  },
  {
   "cell_type": "markdown",
   "metadata": {},
   "source": [
    "#### (e) What values can you change above to make these two interval estimates closer to each other?"
   ]
  },
  {
   "cell_type": "markdown",
   "metadata": {},
   "source": [
    "We could change the number of bootstrap samples B, or because we generated the original sample from a distribution, we could increase the number of samples n. In doing so, we could expect the bootstrap to be more accurate and more accurately approach the \"normal\" interval."
   ]
  },
  {
   "cell_type": "markdown",
   "metadata": {},
   "source": [
    "## Problem #2 \n",
    "\n",
    "#### (a) Let $X \\sim \\Gamma(\\alpha = 1, \\beta = 1/3)$. Generate three random samples each of size $n = 100$ from $X$. Store the samples in objects rsg1, rsg2, and rsg3, respectively.\n",
    "\n"
   ]
  },
  {
   "cell_type": "code",
   "execution_count": 70,
   "metadata": {},
   "outputs": [],
   "source": [
    "n = 100\n",
    "rsg1 = rgamma(n = n, shape = 1, scale = 3)\n",
    "rsg2 = rgamma(n = n, shape = 1, scale = 3)\n",
    "rsg3 = rgamma(n = n, shape = 1, scale = 3)"
   ]
  },
  {
   "cell_type": "markdown",
   "metadata": {},
   "source": [
    "#### (b)  Generate $B=10^4 - 1$ boostrap samples from rsg1, rsg2, and rsg3. A bootstrap sample is a sample of the same size as the original sample taken with replacement. "
   ]
  },
  {
   "cell_type": "code",
   "execution_count": 71,
   "metadata": {},
   "outputs": [],
   "source": [
    "B = (10^4 - 1)\n",
    "boots1 = replicate(B, sample(rsg1, size = n, replace = TRUE))\n",
    "boots2 = replicate(B, sample(rsg2, size = n, replace = TRUE))\n",
    "boots3 = replicate(B, sample(rsg3, size = n, replace = TRUE))"
   ]
  },
  {
   "cell_type": "markdown",
   "metadata": {},
   "source": [
    "#### (c) Apply the mean to each bootstrap sample and store the means of the bootstrapped samples from rsg1, rsg2, and rsg3 in the objects ThetaHatStar1, ThetaHatStar2, and ThetaHatStar3, respectively.\n"
   ]
  },
  {
   "cell_type": "code",
   "execution_count": 72,
   "metadata": {},
   "outputs": [],
   "source": [
    "ThetaHatStar1 = colMeans(boots1)\n",
    "ThetaHatStar2 = colMeans(boots2)\n",
    "ThetaHatStar3 = colMeans(boots3)"
   ]
  },
  {
   "cell_type": "markdown",
   "metadata": {},
   "source": [
    "#### (d) What is the exact sampling distribution of $\\bar{X}$?"
   ]
  },
  {
   "cell_type": "markdown",
   "metadata": {},
   "source": [
    "We can use mgf's to figure out the distribution of $\\bar{X}$. But I'm not entirely sure how to do this so I know the sample mean should approach the distribution $\\bar{X} \\sim N(\\mu, \\frac{\\sigma}{\\sqrt{n}}) = N(3, \\frac{3}{100})$. These are the numbers I will use in the following parts."
   ]
  },
  {
   "cell_type": "markdown",
   "metadata": {},
   "source": [
    "#### (e) Compute the estimated boostrap bias of $\\bar{X}$, $Bias_{\\widehat{f}}[\\bar{X}] = \\bar{X}^* - \\bar{X}$ using the values in  ThetaHatStar1, ThetaHatStar2, and ThetaHatStar3."
   ]
  },
  {
   "cell_type": "code",
   "execution_count": 73,
   "metadata": {},
   "outputs": [
    {
     "data": {
      "text/html": [
       "-0.00255595356634064"
      ],
      "text/latex": [
       "-0.00255595356634064"
      ],
      "text/markdown": [
       "-0.00255595356634064"
      ],
      "text/plain": [
       "[1] -0.002555954"
      ]
     },
     "metadata": {},
     "output_type": "display_data"
    },
    {
     "data": {
      "text/html": [
       "0.000976629152105168"
      ],
      "text/latex": [
       "0.000976629152105168"
      ],
      "text/markdown": [
       "0.000976629152105168"
      ],
      "text/plain": [
       "[1] 0.0009766292"
      ]
     },
     "metadata": {},
     "output_type": "display_data"
    },
    {
     "data": {
      "text/html": [
       "-0.000686537341277216"
      ],
      "text/latex": [
       "-0.000686537341277216"
      ],
      "text/markdown": [
       "-0.000686537341277216"
      ],
      "text/plain": [
       "[1] -0.0006865373"
      ]
     },
     "metadata": {},
     "output_type": "display_data"
    }
   ],
   "source": [
    "xbar1 = mean(rsg1)\n",
    "xStarBar1 = mean(ThetaHatStar1)\n",
    "mean1 = xStarBar1 - xbar1\n",
    "\n",
    "xbar2 = mean(rsg2)\n",
    "xStarBar2 = mean(ThetaHatStar2)\n",
    "mean2 = xStarBar2 - xbar2\n",
    "\n",
    "xbar3 = mean(rsg3)\n",
    "xStarBar3 = mean(ThetaHatStar3)\n",
    "mean3 = xStarBar3 - xbar3\n",
    "\n",
    "mean1\n",
    "mean2\n",
    "mean3"
   ]
  },
  {
   "cell_type": "markdown",
   "metadata": {},
   "source": [
    "#### (f) Compute the estimated bootstrap standard error of $\\bar{X}$ using the values in ThetaHatStar1, ThetaHatStar2, and ThetaHatStar3."
   ]
  },
  {
   "cell_type": "code",
   "execution_count": 74,
   "metadata": {},
   "outputs": [
    {
     "data": {
      "text/html": [
       "0.264989166584908"
      ],
      "text/latex": [
       "0.264989166584908"
      ],
      "text/markdown": [
       "0.264989166584908"
      ],
      "text/plain": [
       "[1] 0.2649892"
      ]
     },
     "metadata": {},
     "output_type": "display_data"
    },
    {
     "data": {
      "text/html": [
       "0.321654221749645"
      ],
      "text/latex": [
       "0.321654221749645"
      ],
      "text/markdown": [
       "0.321654221749645"
      ],
      "text/plain": [
       "[1] 0.3216542"
      ]
     },
     "metadata": {},
     "output_type": "display_data"
    },
    {
     "data": {
      "text/html": [
       "0.309055138506879"
      ],
      "text/latex": [
       "0.309055138506879"
      ],
      "text/markdown": [
       "0.309055138506879"
      ],
      "text/plain": [
       "[1] 0.3090551"
      ]
     },
     "metadata": {},
     "output_type": "display_data"
    }
   ],
   "source": [
    "se1 = sqrt(sum((ThetaHatStar1 - xStarBar1)^2) / (B - 1))\n",
    "se2 = sqrt(sum((ThetaHatStar2 - xStarBar2)^2) / (B - 1))\n",
    "se3 = sqrt(sum((ThetaHatStar3 - xStarBar3)^2) / (B - 1))\n",
    "\n",
    "se1\n",
    "se2\n",
    "se3"
   ]
  },
  {
   "cell_type": "markdown",
   "metadata": {},
   "source": [
    "#### (g) Graph the distributions of $X$, $\\bar{X}$, rsg1, rsg2,  rsg3, ThetaHatStar1, ThetaHatStar2, and ThetaHatStar3. Specifically, place density estimates of rsg1, rsg2,  and rsg3 clearly beneath the distribution of $X$. Use a solid vertical line to denote $E(X)$ for all four graphs. Place a dashed vertical line in the density estimates of rsg1, rsg2,  and rsg3 at the mean of the values in the respective objects. Place density estimates of ThetaHatStar1, ThetaHatStar2, and ThetaHatStar3 directly beneath the distribution of $\\bar{X}$. Use a solid vertical line to denote $E(\\bar{X})$ for all four graphs. Place a dashed vertical line in the density estimatse of ThetaHatStar1, ThetaHatStar2, and ThetaHatStar3 at the mean of the values in the respective objects."
   ]
  },
  {
   "cell_type": "code",
   "execution_count": 75,
   "metadata": {},
   "outputs": [
    {
     "data": {
      "image/png": "[encoded data removed]",
      "text/plain": [
       "Plot with title \"Histogram of ThetaHatStar3\""
      ]
     },
     "metadata": {},
     "output_type": "display_data"
    }
   ],
   "source": [
    "par(mfrow = c(4, 2)) # Create pane of 4 rows and 2 columns\n",
    "x1 = seq(0, 5, len = 100)\n",
    "x2 = seq(2, 5, len = 100)\n",
    "\n",
    "plot(x = x1, y = dgamma(x, shape = 1, scale = 3)); abline(v = 3);\n",
    "plot(x = x1, y = dnorm(x, mean = 3, sd = sqrt(3/100))); abline(v = 3)\n",
    "hist(rsg1, freq = FALSE); abline(v = 3); abline(v = xbar1, lty = 2)\n",
    "hist(ThetaHatStar1, freq = FALSE); abline(v = 3); abline(v = xStarBar1, lty = 2)\n",
    "hist(rsg2, freq = FALSE); abline(v = 3); abline(v = xbar2, lty = 2)\n",
    "hist(ThetaHatStar2, freq = FALSE); abline(v = 3); abline(v = xStarBar2, lty = 2)\n",
    "hist(rsg3, freq = FALSE); abline(v = 3); abline(v = xbar3, lty = 2)\n",
    "hist(ThetaHatStar3, freq = FALSE); abline(v = 3); abline(v = xStarBar3, lty = 2)"
   ]
  },
  {
   "cell_type": "markdown",
   "metadata": {},
   "source": [
    "#### (e) Discuss the bias, shape, and spread of the bootstrap distributions of $\\bar{X}$."
   ]
  },
  {
   "cell_type": "markdown",
   "metadata": {
    "collapsed": true
   },
   "source": [
    " The bootstrap distributions form normal distributions with a mean around 3 that extends to $\\sim [2,4]$. The bootstrap distributions are unbiased because $Bias(\\bar{X}) = E[\\bar{X}] - \\mu = \\frac{1}{n}\\sum^n_i E[x_i] - \\mu = \\mu - \\mu = 0$."
   ]
  },
  {
   "cell_type": "markdown",
   "metadata": {},
   "source": [
    "## Problem #3: Bootstrap Confidence Intervals\n",
    "\n",
    "Suppose that $X_1,...,X_8 \\overset{iid}{\\sim} \\Gamma(\\alpha, \\beta)$. Let's use the bootstrap to compute a $90\\%$ confidence interval for the population standard deviation: $sd(X) = \\sqrt{\\alpha/\\beta^2} = \\theta$.\n",
    "\n",
    "\n",
    "#### (a) Generate a sample of size $n = 8$ from $\\Gamma(\\alpha = 1, \\beta = 1/3)$ and calculate the true population standard deviation (in this example, we are generating data so that we can see how well our estimation procedure will do).\n"
   ]
  },
  {
   "cell_type": "code",
   "execution_count": 1,
   "metadata": {},
   "outputs": [
    {
     "data": {
      "text/html": [
       "<ol class=list-inline>\n",
       "\t<li>0.524969967936608</li>\n",
       "\t<li>1.09696959442825</li>\n",
       "\t<li>2.98460716400307</li>\n",
       "\t<li>0.0170189345892194</li>\n",
       "\t<li>0.097380598404911</li>\n",
       "\t<li>0.129517377737882</li>\n",
       "\t<li>2.05974555860292</li>\n",
       "\t<li>4.79425241566863</li>\n",
       "</ol>\n"
      ],
      "text/latex": [
       "\\begin{enumerate*}\n",
       "\\item 0.524969967936608\n",
       "\\item 1.09696959442825\n",
       "\\item 2.98460716400307\n",
       "\\item 0.0170189345892194\n",
       "\\item 0.097380598404911\n",
       "\\item 0.129517377737882\n",
       "\\item 2.05974555860292\n",
       "\\item 4.79425241566863\n",
       "\\end{enumerate*}\n"
      ],
      "text/markdown": [
       "1. 0.524969967936608\n",
       "2. 1.09696959442825\n",
       "3. 2.98460716400307\n",
       "4. 0.0170189345892194\n",
       "5. 0.097380598404911\n",
       "6. 0.129517377737882\n",
       "7. 2.05974555860292\n",
       "8. 4.79425241566863\n",
       "\n",
       "\n"
      ],
      "text/plain": [
       "[1] 0.52496997 1.09696959 2.98460716 0.01701893 0.09738060 0.12951738 2.05974556\n",
       "[8] 4.79425242"
      ]
     },
     "metadata": {},
     "output_type": "display_data"
    }
   ],
   "source": [
    "n = 8\n",
    "gamma = rgamma(n = 8, 1, 1/3)"
   ]
  },
  {
   "cell_type": "markdown",
   "metadata": {},
   "source": [
    "Standard Deviation = $\\sqrt{ \\alpha / \\beta^2} = \\sqrt{1 / (1/3)^2} = 3$"
   ]
  },
  {
   "cell_type": "markdown",
   "metadata": {},
   "source": [
    "#### (b) Generate $B = 200$ bootstrap samples from the above sample. "
   ]
  },
  {
   "cell_type": "code",
   "execution_count": 9,
   "metadata": {},
   "outputs": [
    {
     "data": {
      "text/html": [
       "<ol class=list-inline>\n",
       "\t<li>8</li>\n",
       "\t<li>200</li>\n",
       "</ol>\n"
      ],
      "text/latex": [
       "\\begin{enumerate*}\n",
       "\\item 8\n",
       "\\item 200\n",
       "\\end{enumerate*}\n"
      ],
      "text/markdown": [
       "1. 8\n",
       "2. 200\n",
       "\n",
       "\n"
      ],
      "text/plain": [
       "[1]   8 200"
      ]
     },
     "metadata": {},
     "output_type": "display_data"
    }
   ],
   "source": [
    "B = 200\n",
    "boots = replicate(B, sample(gamma, length(gamma), replace = TRUE))\n",
    "dim(boots)"
   ]
  },
  {
   "cell_type": "markdown",
   "metadata": {},
   "source": [
    "#### (c) Calculate the MLE of $\\theta$ for the original sample. Denote this as $\\widehat{\\theta}$. Then, calculate the MLE of $\\theta$ for each bootstrap sample. Denote this as $\\widehat{\\theta}^*_i$, for $i = 1,...,B$. Avoid loops! (HINT: use the apply() function.)"
   ]
  },
  {
   "cell_type": "code",
   "execution_count": 12,
   "metadata": {},
   "outputs": [
    {
     "data": {
      "image/png": "[encoded data removed]",
      "text/plain": [
       "Plot with title \"Histogram of thetaHat\""
      ]
     },
     "metadata": {},
     "output_type": "display_data"
    }
   ],
   "source": [
    "thetaHat = sqrt((n-1)/n) * apply (boots, 2, sd)\n",
    "hist(thetaHat)"
   ]
  },
  {
   "cell_type": "markdown",
   "metadata": {},
   "source": [
    "#### (d) Use the quantile() function to find the 5th and 95th percentile of the distribution of $\\widehat{\\theta}^*_i$. Use these values to calculate the $90\\%$ boostrap confidence interval for $\\theta$. "
   ]
  },
  {
   "cell_type": "code",
   "execution_count": 15,
   "metadata": {},
   "outputs": [
    {
     "data": {
      "text/html": [
       "<ol class=list-inline>\n",
       "\t<li>1.21031491826583</li>\n",
       "\t<li>2.5211382351499</li>\n",
       "</ol>\n"
      ],
      "text/latex": [
       "\\begin{enumerate*}\n",
       "\\item 1.21031491826583\n",
       "\\item 2.5211382351499\n",
       "\\end{enumerate*}\n"
      ],
      "text/markdown": [
       "1. 1.21031491826583\n",
       "2. 2.5211382351499\n",
       "\n",
       "\n"
      ],
      "text/plain": [
       "[1] 1.210315 2.521138"
      ]
     },
     "metadata": {},
     "output_type": "display_data"
    }
   ],
   "source": [
    "q = as.numeric(quantile(thetaHat, c(0.05, 0.95)))\n",
    "l = 2*sqrt((n-1) / n) * sd(gamma) - q[2]\n",
    "u = 2*sqrt((n-1) / n) * sd(gamma) - q[1]\n",
    "CI = c(l, u)\n",
    "CI"
   ]
  },
  {
   "cell_type": "markdown",
   "metadata": {},
   "source": [
    "#### (e) Interpret this confidence interval."
   ]
  },
  {
   "cell_type": "markdown",
   "metadata": {
    "collapsed": true
   },
   "source": [
    "From the bootstrap, we know that 9 out of 10 times the standard deviation will lie between $[1.21, 2.52]$."
   ]
  },
  {
   "cell_type": "markdown",
   "metadata": {},
   "source": [
    "## Problem #4\n",
    "\n",
    "Suppose one wants to estimate the sd in the number of hours that people work in a week. One draws a random sample of size 8, and finds $\\mathbf{x} = (40, 35, 40, 0, 0, 40, 50, 10)$.\n",
    "\n",
    "#### (a) Find the MLE for the standard deviation of the sample."
   ]
  },
  {
   "cell_type": "markdown",
   "metadata": {},
   "source": [
    "$\\sigma^2_{MLE} = 1/n * \\sum(x_i - \\bar{x})^2 $"
   ]
  },
  {
   "cell_type": "code",
   "execution_count": 16,
   "metadata": {},
   "outputs": [
    {
     "name": "stdout",
     "output_type": "stream",
     "text": [
      "The MLE for the standard deviation is 18.86424"
     ]
    }
   ],
   "source": [
    "x = c(40, 35, 40, 0, 0, 40, 50, 10)\n",
    "xbar = mean(x)\n",
    "sigma = sqrt(1/length(x) * sum((x - xbar)^2))\n",
    "cat(\"The MLE for the standard deviation is\", sigma)"
   ]
  },
  {
   "cell_type": "markdown",
   "metadata": {},
   "source": [
    "#### (b) Draw $B = 500$ boostrap samples from this sample and calculate the MLE of the standard deviation for each."
   ]
  },
  {
   "cell_type": "code",
   "execution_count": 19,
   "metadata": {},
   "outputs": [],
   "source": [
    "MLE <- function(x){\n",
    "    return(sqrt(1/length(x) * sum((x - xbar)^2)))\n",
    "}"
   ]
  },
  {
   "cell_type": "code",
   "execution_count": 26,
   "metadata": {},
   "outputs": [
    {
     "data": {
      "text/html": [
       "<ol class=list-inline>\n",
       "\t<li>16.9673399506228</li>\n",
       "\t<li>15.1167332780598</li>\n",
       "\t<li>17.6223402248396</li>\n",
       "\t<li>20.9444951001451</li>\n",
       "\t<li>20.0292754487026</li>\n",
       "\t<li>18.9674886318669</li>\n",
       "</ol>\n"
      ],
      "text/latex": [
       "\\begin{enumerate*}\n",
       "\\item 16.9673399506228\n",
       "\\item 15.1167332780598\n",
       "\\item 17.6223402248396\n",
       "\\item 20.9444951001451\n",
       "\\item 20.0292754487026\n",
       "\\item 18.9674886318669\n",
       "\\end{enumerate*}\n"
      ],
      "text/markdown": [
       "1. 16.9673399506228\n",
       "2. 15.1167332780598\n",
       "3. 17.6223402248396\n",
       "4. 20.9444951001451\n",
       "5. 20.0292754487026\n",
       "6. 18.9674886318669\n",
       "\n",
       "\n"
      ],
      "text/plain": [
       "[1] 16.96734 15.11673 17.62234 20.94450 20.02928 18.96749"
      ]
     },
     "metadata": {},
     "output_type": "display_data"
    }
   ],
   "source": [
    "B = 500\n",
    "boots = replicate(B, sample(x, size = length(x), replace = TRUE))\n",
    "bootsSigma = apply(boots, 2, function(x) MLE(x))\n",
    "head(bootsSigma)"
   ]
  },
  {
   "cell_type": "markdown",
   "metadata": {},
   "source": [
    "#### (c) Find the 95% pivot bootstrap confidence interval for the population standard deviation."
   ]
  },
  {
   "cell_type": "code",
   "execution_count": 27,
   "metadata": {},
   "outputs": [
    {
     "name": "stdout",
     "output_type": "stream",
     "text": [
      "The pivot confidence interval is  30.50459 39.97535"
     ]
    }
   ],
   "source": [
    "lower = 2*xbar - as.numeric(quantile(bootsSigma, probs = 0.975))\n",
    "upper = 2*xbar - as.numeric(quantile(bootsSigma, probs = 0.025))\n",
    "CI = c(lower, upper)\n",
    "cat(\"The pivot confidence interval is \", CI)"
   ]
  },
  {
   "cell_type": "markdown",
   "metadata": {},
   "source": [
    "## Problem #5\n",
    "\n",
    "The newcomb dataset contains a numeric vector giving the ‘Third Series’ of measurements of the passage time of light recorded by Newcomb in 1882. The given values divided by 1000 plus 24 give the time in millionths of a second for light to traverse a known distance. The ‘true’ value is now considered to be 33.02.\n",
    "\n",
    "Our goal is to test the hypotheses that $$H_0: \\mu = 33.02 \\, \\, vs. \\, \\, \n",
    "H_1: \\mu \\ne 33.02.$$\n",
    "\n",
    "We will choose the $\\alpha = 0.05$ level, and use $\\bar{X}$ as the test statistic. \n",
    "\n",
    "#### (a) Load the newcomb data and decide whether you think it comes from a normal distribution."
   ]
  },
  {
   "cell_type": "code",
   "execution_count": 2,
   "metadata": {},
   "outputs": [
    {
     "data": {
      "text/html": [
       "26.2121212121212"
      ],
      "text/latex": [
       "26.2121212121212"
      ],
      "text/markdown": [
       "26.2121212121212"
      ],
      "text/plain": [
       "[1] 26.21212"
      ]
     },
     "metadata": {},
     "output_type": "display_data"
    },
    {
     "data": {},
     "metadata": {},
     "output_type": "display_data"
    },
    {
     "data": {
      "text/plain": [
       "\n",
       "\tShapiro-Wilk normality test\n",
       "\n",
       "data:  newcomb\n",
       "W = 0.59115, p-value = 2.842e-12\n"
      ]
     },
     "metadata": {},
     "output_type": "display_data"
    },
    {
     "data": {
      "image/png": "[encoded data removed]",
      "text/plain": [
       "plot without title"
      ]
     },
     "metadata": {},
     "output_type": "display_data"
    }
   ],
   "source": [
    "library(MASS)\n",
    "data(newcomb); xbar = mean(newcomb); \n",
    "n = length(newcomb);\n",
    "xbar\n",
    "df = data.frame(newcomb);\n",
    "library(ggplot2)\n",
    "ggplot(data = df)+\n",
    "geom_histogram(mapping = aes(x = newcomb), bins = 15)\n",
    "\n",
    "shapiro.test(newcomb)"
   ]
  },
  {
   "cell_type": "markdown",
   "metadata": {},
   "source": [
    "Now, since our test statistic is $\\bar{X}$, the CLT *might* help us. But maybe not. So, let's assume not (and we might see why later). We'll use the bootstrap to test our hypotheses.\n",
    "\n",
    "#### (b) Shift the data so that the mean is the value under the null."
   ]
  },
  {
   "cell_type": "code",
   "execution_count": 5,
   "metadata": {},
   "outputs": [
    {
     "data": {
      "text/html": [
       "33.02"
      ],
      "text/latex": [
       "33.02"
      ],
      "text/markdown": [
       "33.02"
      ],
      "text/plain": [
       "[1] 33.02"
      ]
     },
     "metadata": {},
     "output_type": "display_data"
    }
   ],
   "source": [
    "newnewcomb = newcomb - mean(newcomb) + 33.02; mean(newnewcomb)"
   ]
  },
  {
   "cell_type": "markdown",
   "metadata": {},
   "source": [
    "This shifted data now serves as a stand in for our population. We use it to resample from.\n",
    "\n",
    "#### (c) Resample with replacement from the data $B = 10^5$ times and calculate the mean for each sample."
   ]
  },
  {
   "cell_type": "code",
   "execution_count": 8,
   "metadata": {},
   "outputs": [
    {
     "data": {
      "text/html": [
       "<ol class=list-inline>\n",
       "\t<li>66</li>\n",
       "\t<li>100000</li>\n",
       "</ol>\n"
      ],
      "text/latex": [
       "\\begin{enumerate*}\n",
       "\\item 66\n",
       "\\item 100000\n",
       "\\end{enumerate*}\n"
      ],
      "text/markdown": [
       "1. 66\n",
       "2. 100000\n",
       "\n",
       "\n"
      ],
      "text/plain": [
       "[1]     66 100000"
      ]
     },
     "metadata": {},
     "output_type": "display_data"
    },
    {
     "data": {},
     "metadata": {},
     "output_type": "display_data"
    },
    {
     "data": {
      "image/png": "[encoded data removed]",
      "text/plain": [
       "plot without title"
      ]
     },
     "metadata": {},
     "output_type": "display_data"
    }
   ],
   "source": [
    "B = 10^5; bs = replicate(B, sample(newnewcomb, n, replace = TRUE)); dim(bs)\n",
    "xbardist = colMeans(bs); \n",
    "xbardistst = (xbardist - mean(xbardist))/sd(xbardist)\n",
    "dfmeans = data.frame(xbardist)\n",
    "ggplot(data = dfmeans)+geom_histogram(mapping = aes(x = xbardist), bins = 15)"
   ]
  },
  {
   "cell_type": "markdown",
   "metadata": {},
   "source": [
    "Notice that the distribution here is skewed left, and thus, not normal. So, we were right not to use the \"normal theory\" result!"
   ]
  },
  {
   "cell_type": "markdown",
   "metadata": {},
   "source": [
    "The p-value is the probability of getting something more extreme than what we observed. 26.21--the observed sample mean--is $33.02 - 26.21 = 6.81$ units away from the mean under $H_0$. So our p-value is the probability of being more than 6.81 units away from 33.02."
   ]
  },
  {
   "cell_type": "code",
   "execution_count": 9,
   "metadata": {},
   "outputs": [
    {
     "name": "stdout",
     "output_type": "stream",
     "text": [
      "The p-value is 1e-05 ."
     ]
    }
   ],
   "source": [
    "d = c(33.02 - abs(33.02 - xbar), 33.02 + abs(33.02 - xbar))\n",
    "\n",
    "pvalue = (sum(xbardist < d[1]) + sum(xbardist > d[2]))/B\n",
    "cat(\"The p-value is\", pvalue,\".\")"
   ]
  },
  {
   "cell_type": "markdown",
   "metadata": {},
   "source": [
    "Note that the p-value is less than $\\alpha = 0.05$, so we would reject $H_0$.  \n",
    "\n",
    "We can compare this to a t-test, but we should note that the t-test isn't appropriate because the normal population assumption isn't met."
   ]
  },
  {
   "cell_type": "code",
   "execution_count": 11,
   "metadata": {},
   "outputs": [
    {
     "data": {
      "text/plain": [
       "\n",
       "\tOne Sample t-test\n",
       "\n",
       "data:  newcomb\n",
       "t = -5.1471, df = 65, p-value = 2.648e-06\n",
       "alternative hypothesis: true mean is not equal to 33.02\n",
       "95 percent confidence interval:\n",
       " 23.57059 28.85365\n",
       "sample estimates:\n",
       "mean of x \n",
       " 26.21212 \n"
      ]
     },
     "metadata": {},
     "output_type": "display_data"
    }
   ],
   "source": [
    "t.test(newcomb,alternative=\"two.sided\",mu=33.02)"
   ]
  }
 ],
 "metadata": {
  "kernelspec": {
   "display_name": "R",
   "language": "R",
   "name": "ir"
  },
  "language_info": {
   "codemirror_mode": "r",
   "file_extension": ".r",
   "mimetype": "text/x-r-source",
   "name": "R",
   "pygments_lexer": "r",
   "version": "3.4.3"
  }
 },
 "nbformat": 4,
 "nbformat_minor": 2
}
