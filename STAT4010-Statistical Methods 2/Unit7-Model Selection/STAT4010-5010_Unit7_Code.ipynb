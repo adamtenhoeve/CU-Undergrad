{
 "cells": [
  {
   "cell_type": "markdown",
   "metadata": {},
   "source": [
    "# Unit #7 Code (Model Selection +)\n",
    "\n",
    "## Problem #1\n",
    "\n",
    "The real estate data is a record of variables measured about homes.\n",
    "\n",
    "#### (a) Fit a full model, and use the update() function to perform backward selection (let $\\alpha_{crit} = 0.15$). Check the diagnostics for this model."
   ]
  },
  {
   "cell_type": "markdown",
   "metadata": {},
   "source": [
    "Name: Adam Ten Hoeve"
   ]
  },
  {
   "cell_type": "code",
   "execution_count": 15,
   "metadata": {},
   "outputs": [
    {
     "data": {
      "text/html": [
       "<table>\n",
       "<thead><tr><th scope=col>ID</th><th scope=col>Price</th><th scope=col>Sqft</th><th scope=col>Bedroom</th><th scope=col>Bathroom</th><th scope=col>Airconditioning</th><th scope=col>Garage</th><th scope=col>Pool</th><th scope=col>YearBuild</th><th scope=col>Quality</th><th scope=col>Lot</th><th scope=col>AdjHighway</th></tr></thead>\n",
       "<tbody>\n",
       "\t<tr><td>1     </td><td>360000</td><td>3032  </td><td>4     </td><td>4     </td><td>1     </td><td>2     </td><td>0     </td><td>1972  </td><td>2     </td><td>22221 </td><td>0     </td></tr>\n",
       "\t<tr><td>2     </td><td>340000</td><td>2058  </td><td>4     </td><td>2     </td><td>1     </td><td>2     </td><td>0     </td><td>1976  </td><td>2     </td><td>22912 </td><td>0     </td></tr>\n",
       "\t<tr><td>3     </td><td>250000</td><td>1780  </td><td>4     </td><td>3     </td><td>1     </td><td>2     </td><td>0     </td><td>1980  </td><td>2     </td><td>21345 </td><td>0     </td></tr>\n",
       "\t<tr><td>4     </td><td>205500</td><td>1638  </td><td>4     </td><td>2     </td><td>1     </td><td>2     </td><td>0     </td><td>1963  </td><td>2     </td><td>17342 </td><td>0     </td></tr>\n",
       "\t<tr><td>5     </td><td>275500</td><td>2196  </td><td>4     </td><td>3     </td><td>1     </td><td>2     </td><td>0     </td><td>1968  </td><td>2     </td><td>21786 </td><td>0     </td></tr>\n",
       "\t<tr><td>6     </td><td>248000</td><td>1966  </td><td>4     </td><td>3     </td><td>1     </td><td>5     </td><td>1     </td><td>1972  </td><td>2     </td><td>18902 </td><td>0     </td></tr>\n",
       "</tbody>\n",
       "</table>\n"
      ],
      "text/latex": [
       "\\begin{tabular}{r|llllllllllll}\n",
       " ID & Price & Sqft & Bedroom & Bathroom & Airconditioning & Garage & Pool & YearBuild & Quality & Lot & AdjHighway\\\\\n",
       "\\hline\n",
       "\t 1      & 360000 & 3032   & 4      & 4      & 1      & 2      & 0      & 1972   & 2      & 22221  & 0     \\\\\n",
       "\t 2      & 340000 & 2058   & 4      & 2      & 1      & 2      & 0      & 1976   & 2      & 22912  & 0     \\\\\n",
       "\t 3      & 250000 & 1780   & 4      & 3      & 1      & 2      & 0      & 1980   & 2      & 21345  & 0     \\\\\n",
       "\t 4      & 205500 & 1638   & 4      & 2      & 1      & 2      & 0      & 1963   & 2      & 17342  & 0     \\\\\n",
       "\t 5      & 275500 & 2196   & 4      & 3      & 1      & 2      & 0      & 1968   & 2      & 21786  & 0     \\\\\n",
       "\t 6      & 248000 & 1966   & 4      & 3      & 1      & 5      & 1      & 1972   & 2      & 18902  & 0     \\\\\n",
       "\\end{tabular}\n"
      ],
      "text/markdown": [
       "\n",
       "ID | Price | Sqft | Bedroom | Bathroom | Airconditioning | Garage | Pool | YearBuild | Quality | Lot | AdjHighway | \n",
       "|---|---|---|---|---|---|\n",
       "| 1      | 360000 | 3032   | 4      | 4      | 1      | 2      | 0      | 1972   | 2      | 22221  | 0      | \n",
       "| 2      | 340000 | 2058   | 4      | 2      | 1      | 2      | 0      | 1976   | 2      | 22912  | 0      | \n",
       "| 3      | 250000 | 1780   | 4      | 3      | 1      | 2      | 0      | 1980   | 2      | 21345  | 0      | \n",
       "| 4      | 205500 | 1638   | 4      | 2      | 1      | 2      | 0      | 1963   | 2      | 17342  | 0      | \n",
       "| 5      | 275500 | 2196   | 4      | 3      | 1      | 2      | 0      | 1968   | 2      | 21786  | 0      | \n",
       "| 6      | 248000 | 1966   | 4      | 3      | 1      | 5      | 1      | 1972   | 2      | 18902  | 0      | \n",
       "\n",
       "\n"
      ],
      "text/plain": [
       "  ID Price  Sqft Bedroom Bathroom Airconditioning Garage Pool YearBuild Quality\n",
       "1 1  360000 3032 4       4        1               2      0    1972      2      \n",
       "2 2  340000 2058 4       2        1               2      0    1976      2      \n",
       "3 3  250000 1780 4       3        1               2      0    1980      2      \n",
       "4 4  205500 1638 4       2        1               2      0    1963      2      \n",
       "5 5  275500 2196 4       3        1               2      0    1968      2      \n",
       "6 6  248000 1966 4       3        1               5      1    1972      2      \n",
       "  Lot   AdjHighway\n",
       "1 22221 0         \n",
       "2 22912 0         \n",
       "3 21345 0         \n",
       "4 17342 0         \n",
       "5 21786 0         \n",
       "6 18902 0         "
      ]
     },
     "metadata": {},
     "output_type": "display_data"
    },
    {
     "data": {
      "text/html": [
       "<strong>Bathroom:</strong> 5"
      ],
      "text/latex": [
       "\\textbf{Bathroom:} 5"
      ],
      "text/markdown": [
       "**Bathroom:** 5"
      ],
      "text/plain": [
       "Bathroom \n",
       "       5 "
      ]
     },
     "metadata": {},
     "output_type": "display_data"
    },
    {
     "data": {
      "text/plain": [
       "\n",
       "Call:\n",
       "lm(formula = Price ~ ID + Sqft + Bedroom + Airconditioning + \n",
       "    Garage + Pool + YearBuild + Quality + Lot + AdjHighway, data = real)\n",
       "\n",
       "Residuals:\n",
       "    Min      1Q  Median      3Q     Max \n",
       "-162488  -41298   -4060   32449  348820 \n",
       "\n",
       "Coefficients:\n",
       "                  Estimate Std. Error t value Pr(>|t|)    \n",
       "(Intercept)     -2.382e+06  4.459e+05  -5.343 1.38e-07 ***\n",
       "ID              -1.903e+01  2.663e+01  -0.715  0.47511    \n",
       "Sqft             1.066e+02  6.661e+00  15.997  < 2e-16 ***\n",
       "Bedroom         -9.637e+03  3.482e+03  -2.768  0.00585 ** \n",
       "Airconditioning -1.173e+04  8.969e+03  -1.308  0.19137    \n",
       "Garage           1.724e+04  5.658e+03   3.046  0.00244 ** \n",
       "Pool             1.225e+04  1.165e+04   1.051  0.29356    \n",
       "YearBuild        1.276e+03  2.242e+02   5.692 2.12e-08 ***\n",
       "Quality         -5.159e+04  8.112e+03  -6.360 4.49e-10 ***\n",
       "Lot              1.409e+00  2.652e-01   5.310 1.64e-07 ***\n",
       "AdjHighway      -3.133e+04  2.117e+04  -1.480  0.13949    \n",
       "---\n",
       "Signif. codes:  0 '***' 0.001 '**' 0.01 '*' 0.05 '.' 0.1 ' ' 1\n",
       "\n",
       "Residual standard error: 66100 on 511 degrees of freedom\n",
       "Multiple R-squared:  0.7747,\tAdjusted R-squared:  0.7703 \n",
       "F-statistic: 175.7 on 10 and 511 DF,  p-value: < 2.2e-16\n"
      ]
     },
     "metadata": {},
     "output_type": "display_data"
    }
   ],
   "source": [
    "real = read.csv(\"http://www.stat.cmu.edu/~cshalizi/mreg/15/hw/08/real-estate.csv\")\n",
    "head(real)\n",
    "\n",
    "lmod = lm(Price ~ ., data = real)\n",
    "cc = coef(summary(lmod))  # coefficient table\n",
    "lnSigVariable = which.max(cc[,\"Pr(>|t|)\"]) # Get row with largest p-value\n",
    "lnSigVariable\n",
    "lmod = update(lmod, . ~ . - Bathroom)\n",
    "summary(lmod)"
   ]
  },
  {
   "cell_type": "code",
   "execution_count": 16,
   "metadata": {},
   "outputs": [
    {
     "data": {
      "text/html": [
       "<strong>ID:</strong> 2"
      ],
      "text/latex": [
       "\\textbf{ID:} 2"
      ],
      "text/markdown": [
       "**ID:** 2"
      ],
      "text/plain": [
       "ID \n",
       " 2 "
      ]
     },
     "metadata": {},
     "output_type": "display_data"
    },
    {
     "data": {
      "text/plain": [
       "\n",
       "Call:\n",
       "lm(formula = Price ~ Sqft + Bedroom + Airconditioning + Garage + \n",
       "    Pool + YearBuild + Quality + Lot + AdjHighway, data = real)\n",
       "\n",
       "Residuals:\n",
       "    Min      1Q  Median      3Q     Max \n",
       "-164089  -41289   -3326   32825  348341 \n",
       "\n",
       "Coefficients:\n",
       "                  Estimate Std. Error t value Pr(>|t|)    \n",
       "(Intercept)     -2.388e+06  4.456e+05  -5.360 1.26e-07 ***\n",
       "Sqft             1.074e+02  6.549e+00  16.402  < 2e-16 ***\n",
       "Bedroom         -9.737e+03  3.478e+03  -2.800  0.00530 ** \n",
       "Airconditioning -1.222e+04  8.939e+03  -1.368  0.17206    \n",
       "Garage           1.732e+04  5.654e+03   3.063  0.00231 ** \n",
       "Pool             1.246e+04  1.165e+04   1.070  0.28506    \n",
       "YearBuild        1.278e+03  2.240e+02   5.705 1.97e-08 ***\n",
       "Quality         -5.386e+04  7.462e+03  -7.218 1.92e-12 ***\n",
       "Lot              1.421e+00  2.645e-01   5.374 1.17e-07 ***\n",
       "AdjHighway      -2.715e+04  2.033e+04  -1.335  0.18240    \n",
       "---\n",
       "Signif. codes:  0 '***' 0.001 '**' 0.01 '*' 0.05 '.' 0.1 ' ' 1\n",
       "\n",
       "Residual standard error: 66070 on 512 degrees of freedom\n",
       "Multiple R-squared:  0.7745,\tAdjusted R-squared:  0.7706 \n",
       "F-statistic: 195.4 on 9 and 512 DF,  p-value: < 2.2e-16\n"
      ]
     },
     "metadata": {},
     "output_type": "display_data"
    }
   ],
   "source": [
    "cc = coef(summary(lmod))  # coefficient table\n",
    "lnSigVariable = which.max(cc[,\"Pr(>|t|)\"]) # Get row with largest p-value\n",
    "lnSigVariable\n",
    "lmod2 = update(lmod, . ~ . - ID)\n",
    "summary(lmod2)"
   ]
  },
  {
   "cell_type": "code",
   "execution_count": 17,
   "metadata": {},
   "outputs": [
    {
     "data": {
      "text/html": [
       "<strong>ID:</strong> 2"
      ],
      "text/latex": [
       "\\textbf{ID:} 2"
      ],
      "text/markdown": [
       "**ID:** 2"
      ],
      "text/plain": [
       "ID \n",
       " 2 "
      ]
     },
     "metadata": {},
     "output_type": "display_data"
    },
    {
     "data": {
      "text/plain": [
       "\n",
       "Call:\n",
       "lm(formula = Price ~ ID + Sqft + Bedroom + Airconditioning + \n",
       "    Garage + YearBuild + Quality + Lot + AdjHighway, data = real)\n",
       "\n",
       "Residuals:\n",
       "    Min      1Q  Median      3Q     Max \n",
       "-165504  -40477   -2821   32174  347228 \n",
       "\n",
       "Coefficients:\n",
       "                  Estimate Std. Error t value Pr(>|t|)    \n",
       "(Intercept)     -2.357e+06  4.453e+05  -5.293 1.79e-07 ***\n",
       "ID              -1.973e+01  2.662e+01  -0.741  0.45892    \n",
       "Sqft             1.070e+02  6.648e+00  16.096  < 2e-16 ***\n",
       "Bedroom         -9.440e+03  3.477e+03  -2.715  0.00686 ** \n",
       "Airconditioning -1.126e+04  8.959e+03  -1.257  0.20923    \n",
       "Garage           1.742e+04  5.656e+03   3.080  0.00218 ** \n",
       "YearBuild        1.262e+03  2.238e+02   5.640 2.81e-08 ***\n",
       "Quality         -5.168e+04  8.112e+03  -6.370 4.21e-10 ***\n",
       "Lot              1.389e+00  2.646e-01   5.248 2.25e-07 ***\n",
       "AdjHighway      -3.193e+04  2.116e+04  -1.509  0.13196    \n",
       "---\n",
       "Signif. codes:  0 '***' 0.001 '**' 0.01 '*' 0.05 '.' 0.1 ' ' 1\n",
       "\n",
       "Residual standard error: 66100 on 512 degrees of freedom\n",
       "Multiple R-squared:  0.7743,\tAdjusted R-squared:  0.7703 \n",
       "F-statistic: 195.1 on 9 and 512 DF,  p-value: < 2.2e-16\n"
      ]
     },
     "metadata": {},
     "output_type": "display_data"
    }
   ],
   "source": [
    "cc = coef(summary(lmod))  # coefficient table\n",
    "lnSigVariable = which.max(cc[,\"Pr(>|t|)\"]) # Get row with largest p-value\n",
    "lnSigVariable\n",
    "lmod3 = update(lmod, . ~ . - Pool)\n",
    "summary(lmod3)"
   ]
  },
  {
   "cell_type": "code",
   "execution_count": 18,
   "metadata": {},
   "outputs": [
    {
     "data": {
      "text/html": [
       "<strong>ID:</strong> 2"
      ],
      "text/latex": [
       "\\textbf{ID:} 2"
      ],
      "text/markdown": [
       "**ID:** 2"
      ],
      "text/plain": [
       "ID \n",
       " 2 "
      ]
     },
     "metadata": {},
     "output_type": "display_data"
    },
    {
     "data": {
      "text/plain": [
       "\n",
       "Call:\n",
       "lm(formula = Price ~ ID + Sqft + Bedroom + Garage + Pool + YearBuild + \n",
       "    Quality + Lot + AdjHighway, data = real)\n",
       "\n",
       "Residuals:\n",
       "    Min      1Q  Median      3Q     Max \n",
       "-160560  -41541   -3482   33177  349957 \n",
       "\n",
       "Coefficients:\n",
       "              Estimate Std. Error t value Pr(>|t|)    \n",
       "(Intercept) -2.290e+06  4.405e+05  -5.197 2.93e-07 ***\n",
       "ID          -2.169e+01  2.657e+01  -0.817  0.41459    \n",
       "Sqft         1.073e+02  6.642e+00  16.153  < 2e-16 ***\n",
       "Bedroom     -1.015e+04  3.463e+03  -2.930  0.00354 ** \n",
       "Garage       1.643e+04  5.628e+03   2.919  0.00367 ** \n",
       "Pool         1.149e+04  1.165e+04   0.987  0.32426    \n",
       "YearBuild    1.222e+03  2.205e+02   5.542 4.80e-08 ***\n",
       "Quality     -4.940e+04  7.943e+03  -6.219 1.04e-09 ***\n",
       "Lot          1.453e+00  2.633e-01   5.518 5.47e-08 ***\n",
       "AdjHighway  -3.087e+04  2.118e+04  -1.458  0.14554    \n",
       "---\n",
       "Signif. codes:  0 '***' 0.001 '**' 0.01 '*' 0.05 '.' 0.1 ' ' 1\n",
       "\n",
       "Residual standard error: 66140 on 512 degrees of freedom\n",
       "Multiple R-squared:  0.774,\tAdjusted R-squared:   0.77 \n",
       "F-statistic: 194.8 on 9 and 512 DF,  p-value: < 2.2e-16\n"
      ]
     },
     "metadata": {},
     "output_type": "display_data"
    }
   ],
   "source": [
    "cc = coef(summary(lmod))  # coefficient table\n",
    "lnSigVariable = which.max(cc[,\"Pr(>|t|)\"]) # Get row with largest p-value\n",
    "lnSigVariable\n",
    "lmod4 = update(lmod, . ~ . - Airconditioning)\n",
    "summary(lmod4)"
   ]
  },
  {
   "cell_type": "code",
   "execution_count": 19,
   "metadata": {},
   "outputs": [
    {
     "data": {
      "text/html": [
       "<strong>ID:</strong> 2"
      ],
      "text/latex": [
       "\\textbf{ID:} 2"
      ],
      "text/markdown": [
       "**ID:** 2"
      ],
      "text/plain": [
       "ID \n",
       " 2 "
      ]
     },
     "metadata": {},
     "output_type": "display_data"
    },
    {
     "data": {
      "text/plain": [
       "\n",
       "Call:\n",
       "lm(formula = Price ~ ID + Sqft + Bedroom + Airconditioning + \n",
       "    Garage + Pool + YearBuild + Quality + Lot, data = real)\n",
       "\n",
       "Residuals:\n",
       "    Min      1Q  Median      3Q     Max \n",
       "-164115  -40774   -2861   31717  349113 \n",
       "\n",
       "Coefficients:\n",
       "                  Estimate Std. Error t value Pr(>|t|)    \n",
       "(Intercept)     -2.341e+06  4.455e+05  -5.254 2.19e-07 ***\n",
       "ID              -8.155e+00  2.562e+01  -0.318  0.75042    \n",
       "Sqft             1.077e+02  6.623e+00  16.261  < 2e-16 ***\n",
       "Bedroom         -9.715e+03  3.486e+03  -2.787  0.00552 ** \n",
       "Airconditioning -1.152e+04  8.978e+03  -1.283  0.20021    \n",
       "Garage           1.720e+04  5.665e+03   3.035  0.00252 ** \n",
       "Pool             1.272e+04  1.166e+04   1.091  0.27598    \n",
       "YearBuild        1.254e+03  2.239e+02   5.598 3.54e-08 ***\n",
       "Quality         -5.291e+04  8.072e+03  -6.555 1.36e-10 ***\n",
       "Lot              1.381e+00  2.649e-01   5.213 2.70e-07 ***\n",
       "---\n",
       "Signif. codes:  0 '***' 0.001 '**' 0.01 '*' 0.05 '.' 0.1 ' ' 1\n",
       "\n",
       "Residual standard error: 66170 on 512 degrees of freedom\n",
       "Multiple R-squared:  0.7738,\tAdjusted R-squared:  0.7698 \n",
       "F-statistic: 194.6 on 9 and 512 DF,  p-value: < 2.2e-16\n"
      ]
     },
     "metadata": {},
     "output_type": "display_data"
    }
   ],
   "source": [
    "cc = coef(summary(lmod))  # coefficient table\n",
    "lnSigVariable = which.max(cc[,\"Pr(>|t|)\"]) # Get row with largest p-value\n",
    "lnSigVariable\n",
    "lmod5 = update(lmod, . ~ . - AdjHighway)\n",
    "summary(lmod5)"
   ]
  },
  {
   "cell_type": "code",
   "execution_count": 21,
   "metadata": {},
   "outputs": [
    {
     "data": {
      "text/html": [
       "<table>\n",
       "<thead><tr><th scope=col>Res.Df</th><th scope=col>RSS</th><th scope=col>Df</th><th scope=col>Sum of Sq</th><th scope=col>F</th><th scope=col>Pr(&gt;F)</th></tr></thead>\n",
       "<tbody>\n",
       "\t<tr><td>512         </td><td>2.242108e+12</td><td>NA          </td><td>        NA  </td><td>      NA    </td><td>       NA   </td></tr>\n",
       "\t<tr><td>511         </td><td>2.232538e+12</td><td> 1          </td><td>9569832822  </td><td>2.190415    </td><td>0.1394882   </td></tr>\n",
       "</tbody>\n",
       "</table>\n"
      ],
      "text/latex": [
       "\\begin{tabular}{r|llllll}\n",
       " Res.Df & RSS & Df & Sum of Sq & F & Pr(>F)\\\\\n",
       "\\hline\n",
       "\t 512          & 2.242108e+12 & NA           &         NA   &       NA     &        NA   \\\\\n",
       "\t 511          & 2.232538e+12 &  1           & 9569832822   & 2.190415     & 0.1394882   \\\\\n",
       "\\end{tabular}\n"
      ],
      "text/markdown": [
       "\n",
       "Res.Df | RSS | Df | Sum of Sq | F | Pr(>F) | \n",
       "|---|---|\n",
       "| 512          | 2.242108e+12 | NA           |         NA   |       NA     |        NA    | \n",
       "| 511          | 2.232538e+12 |  1           | 9569832822   | 2.190415     | 0.1394882    | \n",
       "\n",
       "\n"
      ],
      "text/plain": [
       "  Res.Df RSS          Df Sum of Sq  F        Pr(>F)   \n",
       "1 512    2.242108e+12 NA         NA       NA        NA\n",
       "2 511    2.232538e+12  1 9569832822 2.190415 0.1394882"
      ]
     },
     "metadata": {},
     "output_type": "display_data"
    },
    {
     "data": {
      "image/png": "[encoded data removed]",
      "text/plain": [
       "Plot with title \"\""
      ]
     },
     "metadata": {},
     "output_type": "display_data"
    }
   ],
   "source": [
    "anova(lmod5, lmod)\n",
    "par(mfrow = c(2,2)); plot(lmod)"
   ]
  },
  {
   "cell_type": "markdown",
   "metadata": {},
   "source": [
    "After the backward selection, we ended with a model with features for Sqft, Bedroom, Garage, Yearbuild, Quality and Lot which all had p-values less than 0.15. With an anova test, we see that there is a statistical significant difference at the $\\alpha = 0.05$ significance level, but not at the $\\alpha = 0.15$ level. From the plots, we can conclude that there is some nonconstant variance, the data is skewed to the right, and there might be some nonparametric predictors."
   ]
  },
  {
   "cell_type": "markdown",
   "metadata": {},
   "source": [
    "## Problem #2\n",
    "\n",
    "The cpus dataset in the MASS library is a relative performance measure and characteristics of 209 CPUs. See ?cpus for a help file and more information about this data. \n",
    "\n",
    "#### Use the regsubsets() function to find the best models of size 1 through 4 (i.e., the best SLR model, the best model with 2 predictors, etc.). Calculate and plot the AIC as a function of the number of predictors. "
   ]
  },
  {
   "cell_type": "code",
   "execution_count": 30,
   "metadata": {},
   "outputs": [],
   "source": [
    "?cpus"
   ]
  },
  {
   "cell_type": "code",
   "execution_count": 28,
   "metadata": {
    "scrolled": false
   },
   "outputs": [
    {
     "data": {
      "text/html": [
       "<table>\n",
       "<thead><tr><th scope=col>name</th><th scope=col>syct</th><th scope=col>mmin</th><th scope=col>mmax</th><th scope=col>cach</th><th scope=col>chmin</th><th scope=col>chmax</th><th scope=col>perf</th><th scope=col>estperf</th></tr></thead>\n",
       "<tbody>\n",
       "\t<tr><td>ADVISOR 32/60 </td><td>125           </td><td> 256          </td><td> 6000         </td><td>256           </td><td>16            </td><td>128           </td><td>198           </td><td>199           </td></tr>\n",
       "\t<tr><td>AMDAHL 470V/7 </td><td> 29           </td><td>8000          </td><td>32000         </td><td> 32           </td><td> 8            </td><td> 32           </td><td>269           </td><td>253           </td></tr>\n",
       "\t<tr><td>AMDAHL 470/7A </td><td> 29           </td><td>8000          </td><td>32000         </td><td> 32           </td><td> 8            </td><td> 32           </td><td>220           </td><td>253           </td></tr>\n",
       "\t<tr><td>AMDAHL 470V/7B</td><td> 29           </td><td>8000          </td><td>32000         </td><td> 32           </td><td> 8            </td><td> 32           </td><td>172           </td><td>253           </td></tr>\n",
       "\t<tr><td>AMDAHL 470V/7C</td><td> 29           </td><td>8000          </td><td>16000         </td><td> 32           </td><td> 8            </td><td> 16           </td><td>132           </td><td>132           </td></tr>\n",
       "\t<tr><td>AMDAHL 470V/8 </td><td> 26           </td><td>8000          </td><td>32000         </td><td> 64           </td><td> 8            </td><td> 32           </td><td>318           </td><td>290           </td></tr>\n",
       "</tbody>\n",
       "</table>\n"
      ],
      "text/latex": [
       "\\begin{tabular}{r|lllllllll}\n",
       " name & syct & mmin & mmax & cach & chmin & chmax & perf & estperf\\\\\n",
       "\\hline\n",
       "\t ADVISOR 32/60  & 125            &  256           &  6000          & 256            & 16             & 128            & 198            & 199           \\\\\n",
       "\t AMDAHL 470V/7  &  29            & 8000           & 32000          &  32            &  8             &  32            & 269            & 253           \\\\\n",
       "\t AMDAHL 470/7A  &  29            & 8000           & 32000          &  32            &  8             &  32            & 220            & 253           \\\\\n",
       "\t AMDAHL 470V/7B &  29            & 8000           & 32000          &  32            &  8             &  32            & 172            & 253           \\\\\n",
       "\t AMDAHL 470V/7C &  29            & 8000           & 16000          &  32            &  8             &  16            & 132            & 132           \\\\\n",
       "\t AMDAHL 470V/8  &  26            & 8000           & 32000          &  64            &  8             &  32            & 318            & 290           \\\\\n",
       "\\end{tabular}\n"
      ],
      "text/markdown": [
       "\n",
       "name | syct | mmin | mmax | cach | chmin | chmax | perf | estperf | \n",
       "|---|---|---|---|---|---|\n",
       "| ADVISOR 32/60  | 125            |  256           |  6000          | 256            | 16             | 128            | 198            | 199            | \n",
       "| AMDAHL 470V/7  |  29            | 8000           | 32000          |  32            |  8             |  32            | 269            | 253            | \n",
       "| AMDAHL 470/7A  |  29            | 8000           | 32000          |  32            |  8             |  32            | 220            | 253            | \n",
       "| AMDAHL 470V/7B |  29            | 8000           | 32000          |  32            |  8             |  32            | 172            | 253            | \n",
       "| AMDAHL 470V/7C |  29            | 8000           | 16000          |  32            |  8             |  16            | 132            | 132            | \n",
       "| AMDAHL 470V/8  |  26            | 8000           | 32000          |  64            |  8             |  32            | 318            | 290            | \n",
       "\n",
       "\n"
      ],
      "text/plain": [
       "  name           syct mmin mmax  cach chmin chmax perf estperf\n",
       "1 ADVISOR 32/60  125   256  6000 256  16    128   198  199    \n",
       "2 AMDAHL 470V/7   29  8000 32000  32   8     32   269  253    \n",
       "3 AMDAHL 470/7A   29  8000 32000  32   8     32   220  253    \n",
       "4 AMDAHL 470V/7B  29  8000 32000  32   8     32   172  253    \n",
       "5 AMDAHL 470V/7C  29  8000 16000  32   8     16   132  132    \n",
       "6 AMDAHL 470V/8   26  8000 32000  64   8     32   318  290    "
      ]
     },
     "metadata": {},
     "output_type": "display_data"
    }
   ],
   "source": [
    "library(leaps)\n",
    "library(MASS)\n",
    "data(cpus)\n",
    "head(cpus)"
   ]
  },
  {
   "cell_type": "code",
   "execution_count": 32,
   "metadata": {},
   "outputs": [
    {
     "data": {
      "text/html": [
       "<table>\n",
       "<thead><tr><th></th><th scope=col>(Intercept)</th><th scope=col>syct</th><th scope=col>mmin</th><th scope=col>mmax</th><th scope=col>cach</th><th scope=col>chmin</th><th scope=col>chmax</th></tr></thead>\n",
       "<tbody>\n",
       "\t<tr><th scope=row>1</th><td>TRUE </td><td>FALSE</td><td>FALSE</td><td>TRUE </td><td>FALSE</td><td>FALSE</td><td>FALSE</td></tr>\n",
       "\t<tr><th scope=row>2</th><td>TRUE </td><td>FALSE</td><td>FALSE</td><td>TRUE </td><td> TRUE</td><td>FALSE</td><td>FALSE</td></tr>\n",
       "\t<tr><th scope=row>3</th><td>TRUE </td><td>FALSE</td><td> TRUE</td><td>TRUE </td><td>FALSE</td><td>FALSE</td><td> TRUE</td></tr>\n",
       "\t<tr><th scope=row>4</th><td>TRUE </td><td>FALSE</td><td> TRUE</td><td>TRUE </td><td> TRUE</td><td>FALSE</td><td> TRUE</td></tr>\n",
       "\t<tr><th scope=row>5</th><td>TRUE </td><td> TRUE</td><td> TRUE</td><td>TRUE </td><td> TRUE</td><td>FALSE</td><td> TRUE</td></tr>\n",
       "\t<tr><th scope=row>6</th><td>TRUE </td><td> TRUE</td><td> TRUE</td><td>TRUE </td><td> TRUE</td><td> TRUE</td><td> TRUE</td></tr>\n",
       "</tbody>\n",
       "</table>\n"
      ],
      "text/latex": [
       "\\begin{tabular}{r|lllllll}\n",
       "  & (Intercept) & syct & mmin & mmax & cach & chmin & chmax\\\\\n",
       "\\hline\n",
       "\t1 & TRUE  & FALSE & FALSE & TRUE  & FALSE & FALSE & FALSE\\\\\n",
       "\t2 & TRUE  & FALSE & FALSE & TRUE  &  TRUE & FALSE & FALSE\\\\\n",
       "\t3 & TRUE  & FALSE &  TRUE & TRUE  & FALSE & FALSE &  TRUE\\\\\n",
       "\t4 & TRUE  & FALSE &  TRUE & TRUE  &  TRUE & FALSE &  TRUE\\\\\n",
       "\t5 & TRUE  &  TRUE &  TRUE & TRUE  &  TRUE & FALSE &  TRUE\\\\\n",
       "\t6 & TRUE  &  TRUE &  TRUE & TRUE  &  TRUE &  TRUE &  TRUE\\\\\n",
       "\\end{tabular}\n"
      ],
      "text/markdown": [
       "\n",
       "| <!--/--> | (Intercept) | syct | mmin | mmax | cach | chmin | chmax | \n",
       "|---|---|---|---|---|---|\n",
       "| 1 | TRUE  | FALSE | FALSE | TRUE  | FALSE | FALSE | FALSE | \n",
       "| 2 | TRUE  | FALSE | FALSE | TRUE  |  TRUE | FALSE | FALSE | \n",
       "| 3 | TRUE  | FALSE |  TRUE | TRUE  | FALSE | FALSE |  TRUE | \n",
       "| 4 | TRUE  | FALSE |  TRUE | TRUE  |  TRUE | FALSE |  TRUE | \n",
       "| 5 | TRUE  |  TRUE |  TRUE | TRUE  |  TRUE | FALSE |  TRUE | \n",
       "| 6 | TRUE  |  TRUE |  TRUE | TRUE  |  TRUE |  TRUE |  TRUE | \n",
       "\n",
       "\n"
      ],
      "text/plain": [
       "  (Intercept) syct  mmin  mmax cach  chmin chmax\n",
       "1 TRUE        FALSE FALSE TRUE FALSE FALSE FALSE\n",
       "2 TRUE        FALSE FALSE TRUE  TRUE FALSE FALSE\n",
       "3 TRUE        FALSE  TRUE TRUE FALSE FALSE  TRUE\n",
       "4 TRUE        FALSE  TRUE TRUE  TRUE FALSE  TRUE\n",
       "5 TRUE         TRUE  TRUE TRUE  TRUE FALSE  TRUE\n",
       "6 TRUE         TRUE  TRUE TRUE  TRUE  TRUE  TRUE"
      ]
     },
     "metadata": {},
     "output_type": "display_data"
    }
   ],
   "source": [
    "summary(regsubsets(perf ~ . - name - estperf, data = cpus))$which"
   ]
  },
  {
   "cell_type": "code",
   "execution_count": 42,
   "metadata": {},
   "outputs": [
    {
     "data": {
      "image/png": "[encoded data removed]",
      "text/plain": [
       "plot without title"
      ]
     },
     "metadata": {},
     "output_type": "display_data"
    }
   ],
   "source": [
    "lmod1 = lm(perf ~ mmax, data = cpus)\n",
    "lmod2 = lm(perf ~ mmax + cach, data = cpus)\n",
    "lmod3 = lm(perf ~ mmin + mmax + chmax, data = cpus)\n",
    "lmod4 = lm(perf ~ mmin + mmax + cach + chmax, data = cpus)\n",
    "\n",
    "AICs = c(AIC(lmod1), AIC(lmod2), AIC(lmod3), AIC(lmod4))\n",
    "x = seq(1:4)\n",
    "plot(x, AICs)"
   ]
  },
  {
   "cell_type": "markdown",
   "metadata": {},
   "source": [
    "# Problem #3\n",
    "\n",
    "The fat dataset in the faraway package contains 252 male human body measurements. \n",
    "\n",
    "#### (a) Consider the circumference measurements as predictors (columns 9 through 18), with brozek--percentage of body fat--as the response. Show that using these predictors would result in the problem of multicollinearity."
   ]
  },
  {
   "cell_type": "code",
   "execution_count": 48,
   "metadata": {},
   "outputs": [],
   "source": [
    "library(faraway)"
   ]
  },
  {
   "cell_type": "code",
   "execution_count": 49,
   "metadata": {},
   "outputs": [
    {
     "data": {
      "text/html": [
       "<table>\n",
       "<thead><tr><th scope=col>brozek</th><th scope=col>neck</th><th scope=col>chest</th><th scope=col>abdom</th><th scope=col>hip</th><th scope=col>thigh</th><th scope=col>knee</th><th scope=col>ankle</th><th scope=col>biceps</th><th scope=col>forearm</th><th scope=col>wrist</th></tr></thead>\n",
       "<tbody>\n",
       "\t<tr><td>12.6 </td><td>36.2 </td><td> 93.1</td><td> 85.2</td><td> 94.5</td><td>59.0 </td><td>37.3 </td><td>21.9 </td><td>32.0 </td><td>27.4 </td><td>17.1 </td></tr>\n",
       "\t<tr><td> 6.9 </td><td>38.5 </td><td> 93.6</td><td> 83.0</td><td> 98.7</td><td>58.7 </td><td>37.3 </td><td>23.4 </td><td>30.5 </td><td>28.9 </td><td>18.2 </td></tr>\n",
       "\t<tr><td>24.6 </td><td>34.0 </td><td> 95.8</td><td> 87.9</td><td> 99.2</td><td>59.6 </td><td>38.9 </td><td>24.0 </td><td>28.8 </td><td>25.2 </td><td>16.6 </td></tr>\n",
       "\t<tr><td>10.9 </td><td>37.4 </td><td>101.8</td><td> 86.4</td><td>101.2</td><td>60.1 </td><td>37.3 </td><td>22.8 </td><td>32.4 </td><td>29.4 </td><td>18.2 </td></tr>\n",
       "\t<tr><td>27.8 </td><td>34.4 </td><td> 97.3</td><td>100.0</td><td>101.9</td><td>63.2 </td><td>42.2 </td><td>24.0 </td><td>32.2 </td><td>27.7 </td><td>17.7 </td></tr>\n",
       "\t<tr><td>20.6 </td><td>39.0 </td><td>104.5</td><td> 94.4</td><td>107.8</td><td>66.0 </td><td>42.0 </td><td>25.6 </td><td>35.7 </td><td>30.6 </td><td>18.8 </td></tr>\n",
       "</tbody>\n",
       "</table>\n"
      ],
      "text/latex": [
       "\\begin{tabular}{r|lllllllllll}\n",
       " brozek & neck & chest & abdom & hip & thigh & knee & ankle & biceps & forearm & wrist\\\\\n",
       "\\hline\n",
       "\t 12.6  & 36.2  &  93.1 &  85.2 &  94.5 & 59.0  & 37.3  & 21.9  & 32.0  & 27.4  & 17.1 \\\\\n",
       "\t  6.9  & 38.5  &  93.6 &  83.0 &  98.7 & 58.7  & 37.3  & 23.4  & 30.5  & 28.9  & 18.2 \\\\\n",
       "\t 24.6  & 34.0  &  95.8 &  87.9 &  99.2 & 59.6  & 38.9  & 24.0  & 28.8  & 25.2  & 16.6 \\\\\n",
       "\t 10.9  & 37.4  & 101.8 &  86.4 & 101.2 & 60.1  & 37.3  & 22.8  & 32.4  & 29.4  & 18.2 \\\\\n",
       "\t 27.8  & 34.4  &  97.3 & 100.0 & 101.9 & 63.2  & 42.2  & 24.0  & 32.2  & 27.7  & 17.7 \\\\\n",
       "\t 20.6  & 39.0  & 104.5 &  94.4 & 107.8 & 66.0  & 42.0  & 25.6  & 35.7  & 30.6  & 18.8 \\\\\n",
       "\\end{tabular}\n"
      ],
      "text/markdown": [
       "\n",
       "brozek | neck | chest | abdom | hip | thigh | knee | ankle | biceps | forearm | wrist | \n",
       "|---|---|---|---|---|---|\n",
       "| 12.6  | 36.2  |  93.1 |  85.2 |  94.5 | 59.0  | 37.3  | 21.9  | 32.0  | 27.4  | 17.1  | \n",
       "|  6.9  | 38.5  |  93.6 |  83.0 |  98.7 | 58.7  | 37.3  | 23.4  | 30.5  | 28.9  | 18.2  | \n",
       "| 24.6  | 34.0  |  95.8 |  87.9 |  99.2 | 59.6  | 38.9  | 24.0  | 28.8  | 25.2  | 16.6  | \n",
       "| 10.9  | 37.4  | 101.8 |  86.4 | 101.2 | 60.1  | 37.3  | 22.8  | 32.4  | 29.4  | 18.2  | \n",
       "| 27.8  | 34.4  |  97.3 | 100.0 | 101.9 | 63.2  | 42.2  | 24.0  | 32.2  | 27.7  | 17.7  | \n",
       "| 20.6  | 39.0  | 104.5 |  94.4 | 107.8 | 66.0  | 42.0  | 25.6  | 35.7  | 30.6  | 18.8  | \n",
       "\n",
       "\n"
      ],
      "text/plain": [
       "  brozek neck chest abdom hip   thigh knee ankle biceps forearm wrist\n",
       "1 12.6   36.2  93.1  85.2  94.5 59.0  37.3 21.9  32.0   27.4    17.1 \n",
       "2  6.9   38.5  93.6  83.0  98.7 58.7  37.3 23.4  30.5   28.9    18.2 \n",
       "3 24.6   34.0  95.8  87.9  99.2 59.6  38.9 24.0  28.8   25.2    16.6 \n",
       "4 10.9   37.4 101.8  86.4 101.2 60.1  37.3 22.8  32.4   29.4    18.2 \n",
       "5 27.8   34.4  97.3 100.0 101.9 63.2  42.2 24.0  32.2   27.7    17.7 \n",
       "6 20.6   39.0 104.5  94.4 107.8 66.0  42.0 25.6  35.7   30.6    18.8 "
      ]
     },
     "metadata": {},
     "output_type": "display_data"
    },
    {
     "data": {
      "text/plain": [
       "\n",
       "Call:\n",
       "lm(formula = brozek ~ ., data = cfat)\n",
       "\n",
       "Residuals:\n",
       "    Min      1Q  Median      3Q     Max \n",
       "-9.3159 -2.7435 -0.1584  2.8388 10.5150 \n",
       "\n",
       "Coefficients:\n",
       "             Estimate Std. Error t value Pr(>|t|)    \n",
       "(Intercept)  7.228749   6.214309   1.163  0.24588    \n",
       "neck        -0.581947   0.208580  -2.790  0.00569 ** \n",
       "chest       -0.090847   0.085430  -1.063  0.28866    \n",
       "abdom        0.960229   0.071582  13.414  < 2e-16 ***\n",
       "hip         -0.391355   0.112686  -3.473  0.00061 ***\n",
       "thigh        0.133708   0.124922   1.070  0.28554    \n",
       "knee        -0.094055   0.212394  -0.443  0.65828    \n",
       "ankle        0.004222   0.203175   0.021  0.98344    \n",
       "biceps       0.111196   0.159118   0.699  0.48533    \n",
       "forearm      0.344536   0.185511   1.857  0.06450 .  \n",
       "wrist       -1.353472   0.471410  -2.871  0.00445 ** \n",
       "---\n",
       "Signif. codes:  0 '***' 0.001 '**' 0.01 '*' 0.05 '.' 0.1 ' ' 1\n",
       "\n",
       "Residual standard error: 4.071 on 241 degrees of freedom\n",
       "Multiple R-squared:  0.7351,\tAdjusted R-squared:  0.7241 \n",
       "F-statistic: 66.87 on 10 and 241 DF,  p-value: < 2.2e-16\n"
      ]
     },
     "metadata": {},
     "output_type": "display_data"
    },
    {
     "data": {
      "text/html": [
       "<dl class=dl-horizontal>\n",
       "\t<dt>neck</dt>\n",
       "\t\t<dd>3.89302160348793</dd>\n",
       "\t<dt>chest</dt>\n",
       "\t\t<dd>7.8546622761678</dd>\n",
       "\t<dt>abdom</dt>\n",
       "\t\t<dd>9.02187827826108</dd>\n",
       "\t<dt>hip</dt>\n",
       "\t\t<dd>9.86875537503291</dd>\n",
       "\t<dt>thigh</dt>\n",
       "\t\t<dd>6.51317776614696</dd>\n",
       "\t<dt>knee</dt>\n",
       "\t\t<dd>3.97347937596343</dd>\n",
       "\t<dt>ankle</dt>\n",
       "\t\t<dd>1.79568345187019</dd>\n",
       "\t<dt>biceps</dt>\n",
       "\t\t<dd>3.49961918885282</dd>\n",
       "\t<dt>forearm</dt>\n",
       "\t\t<dd>2.12786084941021</dd>\n",
       "\t<dt>wrist</dt>\n",
       "\t\t<dd>2.93296965370346</dd>\n",
       "</dl>\n"
      ],
      "text/latex": [
       "\\begin{description*}\n",
       "\\item[neck] 3.89302160348793\n",
       "\\item[chest] 7.8546622761678\n",
       "\\item[abdom] 9.02187827826108\n",
       "\\item[hip] 9.86875537503291\n",
       "\\item[thigh] 6.51317776614696\n",
       "\\item[knee] 3.97347937596343\n",
       "\\item[ankle] 1.79568345187019\n",
       "\\item[biceps] 3.49961918885282\n",
       "\\item[forearm] 2.12786084941021\n",
       "\\item[wrist] 2.93296965370346\n",
       "\\end{description*}\n"
      ],
      "text/markdown": [
       "neck\n",
       ":   3.89302160348793chest\n",
       ":   7.8546622761678abdom\n",
       ":   9.02187827826108hip\n",
       ":   9.86875537503291thigh\n",
       ":   6.51317776614696knee\n",
       ":   3.97347937596343ankle\n",
       ":   1.79568345187019biceps\n",
       ":   3.49961918885282forearm\n",
       ":   2.12786084941021wrist\n",
       ":   2.93296965370346\n",
       "\n"
      ],
      "text/plain": [
       "    neck    chest    abdom      hip    thigh     knee    ankle   biceps \n",
       "3.893022 7.854662 9.021878 9.868755 6.513178 3.973479 1.795683 3.499619 \n",
       " forearm    wrist \n",
       "2.127861 2.932970 "
      ]
     },
     "metadata": {},
     "output_type": "display_data"
    }
   ],
   "source": [
    "data(fat, package = \"faraway\")\n",
    "cfat = fat[,c(1,9:18)]\n",
    "head(cfat)\n",
    "\n",
    "lmod = lm(brozek ~ ., data = cfat)\n",
    "summary(lmod)\n",
    "vif(lmod)"
   ]
  },
  {
   "cell_type": "markdown",
   "metadata": {},
   "source": [
    "We can see from the variance inflation factors that many of the predictors are collinear with other predictors."
   ]
  },
  {
   "cell_type": "markdown",
   "metadata": {},
   "source": [
    "#### (b) Compute the principal component decomposition of these predictors, and print a summary. How much variance is explained by the first two principal components. "
   ]
  },
  {
   "cell_type": "code",
   "execution_count": 51,
   "metadata": {},
   "outputs": [
    {
     "data": {
      "text/plain": [
       "Importance of components:\n",
       "                          PC1     PC2     PC3    PC4     PC5     PC6     PC7\n",
       "Standard deviation     2.7302 0.99856 0.81924 0.7043 0.64793 0.53083 0.47200\n",
       "Proportion of Variance 0.6777 0.09065 0.06101 0.0451 0.03817 0.02562 0.02025\n",
       "Cumulative Proportion  0.6777 0.76831 0.82932 0.8744 0.91258 0.93820 0.95845\n",
       "                           PC8     PC9   PC10    PC11\n",
       "Standard deviation     0.41492 0.40520 0.2774 0.20911\n",
       "Proportion of Variance 0.01565 0.01493 0.0070 0.00398\n",
       "Cumulative Proportion  0.97410 0.98903 0.9960 1.00000"
      ]
     },
     "metadata": {},
     "output_type": "display_data"
    }
   ],
   "source": [
    "summary(prcomp(cfat, scale = T))"
   ]
  },
  {
   "cell_type": "markdown",
   "metadata": {},
   "source": [
    "77% of the variance is explained by the first two principle co"
   ]
  },
  {
   "cell_type": "markdown",
   "metadata": {},
   "source": [
    "# Problem #4\n",
    "\n",
    "longley is a macroeconomic data set which provides a well-known example for a highly collinear regression.\n",
    "\n",
    "GNP.deflator\n",
    "GNP implicit price deflator (1954=100)\n",
    "\n",
    "GNP\n",
    "Gross National Product.\n",
    "\n",
    "Unemployed\n",
    "number of unemployed.\n",
    "\n",
    "Armed.Forces\n",
    "number of people in the armed forces.\n",
    "\n",
    "Population\n",
    "‘noninstitutionalized’ population ≥ 14 years of age.\n",
    "\n",
    "Year\n",
    "the year (time).\n",
    "\n",
    "Employed\n",
    "number of people employed.\n",
    "\n",
    "The regression lm(Employed ~ .) is known to be highly collinear.\n",
    "\n",
    "#### Fit a ridge regression with the first column of the longley data as the response and all others as predictors, using $\\lambda =seq(0,0.1,0.001)$  Plot the coefficients as a function of $\\lambda$. Place a vertical line at the GCV estimate of $\\lambda$. Print the parameter estimates that you would use from the ridge regression."
   ]
  },
  {
   "cell_type": "code",
   "execution_count": 1,
   "metadata": {},
   "outputs": [
    {
     "name": "stderr",
     "output_type": "stream",
     "text": [
      "Loading required package: MASS\n"
     ]
    },
    {
     "data": {
      "text/html": [
       "<table>\n",
       "<thead><tr><th></th><th scope=col>GNP.deflator</th><th scope=col>GNP</th><th scope=col>Unemployed</th><th scope=col>Armed.Forces</th><th scope=col>Population</th><th scope=col>Year</th><th scope=col>Employed</th></tr></thead>\n",
       "<tbody>\n",
       "\t<tr><th scope=row>1947</th><td>83.0   </td><td>234.289</td><td>235.6  </td><td>159.0  </td><td>107.608</td><td>1947   </td><td>60.323 </td></tr>\n",
       "\t<tr><th scope=row>1948</th><td>88.5   </td><td>259.426</td><td>232.5  </td><td>145.6  </td><td>108.632</td><td>1948   </td><td>61.122 </td></tr>\n",
       "\t<tr><th scope=row>1949</th><td>88.2   </td><td>258.054</td><td>368.2  </td><td>161.6  </td><td>109.773</td><td>1949   </td><td>60.171 </td></tr>\n",
       "\t<tr><th scope=row>1950</th><td>89.5   </td><td>284.599</td><td>335.1  </td><td>165.0  </td><td>110.929</td><td>1950   </td><td>61.187 </td></tr>\n",
       "\t<tr><th scope=row>1951</th><td>96.2   </td><td>328.975</td><td>209.9  </td><td>309.9  </td><td>112.075</td><td>1951   </td><td>63.221 </td></tr>\n",
       "\t<tr><th scope=row>1952</th><td>98.1   </td><td>346.999</td><td>193.2  </td><td>359.4  </td><td>113.270</td><td>1952   </td><td>63.639 </td></tr>\n",
       "</tbody>\n",
       "</table>\n"
      ],
      "text/latex": [
       "\\begin{tabular}{r|lllllll}\n",
       "  & GNP.deflator & GNP & Unemployed & Armed.Forces & Population & Year & Employed\\\\\n",
       "\\hline\n",
       "\t1947 & 83.0    & 234.289 & 235.6   & 159.0   & 107.608 & 1947    & 60.323 \\\\\n",
       "\t1948 & 88.5    & 259.426 & 232.5   & 145.6   & 108.632 & 1948    & 61.122 \\\\\n",
       "\t1949 & 88.2    & 258.054 & 368.2   & 161.6   & 109.773 & 1949    & 60.171 \\\\\n",
       "\t1950 & 89.5    & 284.599 & 335.1   & 165.0   & 110.929 & 1950    & 61.187 \\\\\n",
       "\t1951 & 96.2    & 328.975 & 209.9   & 309.9   & 112.075 & 1951    & 63.221 \\\\\n",
       "\t1952 & 98.1    & 346.999 & 193.2   & 359.4   & 113.270 & 1952    & 63.639 \\\\\n",
       "\\end{tabular}\n"
      ],
      "text/markdown": [
       "\n",
       "| <!--/--> | GNP.deflator | GNP | Unemployed | Armed.Forces | Population | Year | Employed | \n",
       "|---|---|---|---|---|---|\n",
       "| 1947 | 83.0    | 234.289 | 235.6   | 159.0   | 107.608 | 1947    | 60.323  | \n",
       "| 1948 | 88.5    | 259.426 | 232.5   | 145.6   | 108.632 | 1948    | 61.122  | \n",
       "| 1949 | 88.2    | 258.054 | 368.2   | 161.6   | 109.773 | 1949    | 60.171  | \n",
       "| 1950 | 89.5    | 284.599 | 335.1   | 165.0   | 110.929 | 1950    | 61.187  | \n",
       "| 1951 | 96.2    | 328.975 | 209.9   | 309.9   | 112.075 | 1951    | 63.221  | \n",
       "| 1952 | 98.1    | 346.999 | 193.2   | 359.4   | 113.270 | 1952    | 63.639  | \n",
       "\n",
       "\n"
      ],
      "text/plain": [
       "     GNP.deflator GNP     Unemployed Armed.Forces Population Year Employed\n",
       "1947 83.0         234.289 235.6      159.0        107.608    1947 60.323  \n",
       "1948 88.5         259.426 232.5      145.6        108.632    1948 61.122  \n",
       "1949 88.2         258.054 368.2      161.6        109.773    1949 60.171  \n",
       "1950 89.5         284.599 335.1      165.0        110.929    1950 61.187  \n",
       "1951 96.2         328.975 209.9      309.9        112.075    1951 63.221  \n",
       "1952 98.1         346.999 193.2      359.4        113.270    1952 63.639  "
      ]
     },
     "metadata": {},
     "output_type": "display_data"
    },
    {
     "data": {
      "text/plain": [
       "\n",
       "Call:\n",
       "lm(formula = y ~ ., data = longley)\n",
       "\n",
       "Residuals:\n",
       "    Min      1Q  Median      3Q     Max \n",
       "-2.0086 -0.5147  0.1127  0.4227  1.5503 \n",
       "\n",
       "Coefficients:\n",
       "               Estimate Std. Error t value Pr(>|t|)  \n",
       "(Intercept)  2946.85636 5647.97658   0.522   0.6144  \n",
       "GNP             0.26353    0.10815   2.437   0.0376 *\n",
       "Unemployed      0.03648    0.03024   1.206   0.2585  \n",
       "Armed.Forces    0.01116    0.01545   0.722   0.4885  \n",
       "Population     -1.73703    0.67382  -2.578   0.0298 *\n",
       "Year           -1.41880    2.94460  -0.482   0.6414  \n",
       "Employed        0.23129    1.30394   0.177   0.8631  \n",
       "---\n",
       "Signif. codes:  0 '***' 0.001 '**' 0.01 '*' 0.05 '.' 0.1 ' ' 1\n",
       "\n",
       "Residual standard error: 1.195 on 9 degrees of freedom\n",
       "Multiple R-squared:  0.9926,\tAdjusted R-squared:  0.9877 \n",
       "F-statistic: 202.5 on 6 and 9 DF,  p-value: 4.426e-09\n"
      ]
     },
     "metadata": {},
     "output_type": "display_data"
    },
    {
     "data": {
      "text/plain": [
       "                        GNP    Unemployed  Armed.Forces    Population \n",
       "2946.85636017    0.26352725    0.03648291    0.01116105   -1.73702984 \n",
       "         Year      Employed \n",
       "  -1.41879853    0.23128785 "
      ]
     },
     "metadata": {},
     "output_type": "display_data"
    },
    {
     "data": {
      "text/html": [
       "<strong>0.005:</strong> 0.119609039117453"
      ],
      "text/latex": [
       "\\textbf{0.005:} 0.119609039117453"
      ],
      "text/markdown": [
       "**0.005:** 0.119609039117453"
      ],
      "text/plain": [
       "   0.005 \n",
       "0.119609 "
      ]
     },
     "metadata": {},
     "output_type": "display_data"
    },
    {
     "name": "stdout",
     "output_type": "stream",
     "text": [
      "modified HKB estimator is 0.006836982 \n",
      "modified L-W estimator is 0.05267247 \n",
      "smallest value of GCV  at 0.006 \n"
     ]
    },
    {
     "data": {
      "image/png": "[encoded data removed]",
      "text/plain": [
       "plot without title"
      ]
     },
     "metadata": {},
     "output_type": "display_data"
    }
   ],
   "source": [
    "require(MASS)\n",
    "head(longley)\n",
    "names(longley)[1] = \"y\"\n",
    "\n",
    "lmod = lm(y ~ ., data = longley)\n",
    "summary(lmod)\n",
    "\n",
    "lm.ridge(y ~ ., longley) # is same as lm()\n",
    "\n",
    "lmridge = lm.ridge(y ~ ., longley, lambda = seq(0, 0.1, 0.001))\n",
    "\n",
    "lmridge$GCV[6] # The lowest error is the 6th one in this dataset\n",
    "\n",
    "plot(lmridge, xlab = \"lambda\") # specified seq of lambda\n",
    "abline(v = 0.0057) #vertical line at lambda GCV\n",
    "select(lm.ridge(y ~ ., longley, lambda = seq(0, 0.1, 0.001))) # selects lambda automatically"
   ]
  },
  {
   "cell_type": "markdown",
   "metadata": {},
   "source": [
    "## Problem #5\n",
    "\n",
    "In this problem, we will simulate some data to show how PCA/PCR works.\n",
    "\n",
    "#### (a) Construct three predictors, each with $n = 10$ measurements, that are highly correlated. (e.g., use rnorm())."
   ]
  },
  {
   "cell_type": "code",
   "execution_count": 3,
   "metadata": {},
   "outputs": [],
   "source": [
    "set.seed(99)\n",
    "n = 10\n",
    "x1 = rnorm(n, 1, 1)\n",
    "x2 = x1 + rnorm(n, 0, 0.1)\n",
    "x3 = x1 + x2 + rnorm(n, 0, 2)\n",
    "x = cbind(x1, x2, x3)"
   ]
  },
  {
   "cell_type": "markdown",
   "metadata": {},
   "source": [
    "#### (b) Construct the correlation matrix associated with these predictors."
   ]
  },
  {
   "cell_type": "code",
   "execution_count": 5,
   "metadata": {},
   "outputs": [
    {
     "data": {
      "text/html": [
       "<table>\n",
       "<thead><tr><th></th><th scope=col>x1</th><th scope=col>x2</th><th scope=col>x3</th></tr></thead>\n",
       "<tbody>\n",
       "\t<tr><th scope=row>x1</th><td>1.0000000</td><td>0.9733903</td><td>0.3715148</td></tr>\n",
       "\t<tr><th scope=row>x2</th><td>0.9733903</td><td>1.0000000</td><td>0.4063106</td></tr>\n",
       "\t<tr><th scope=row>x3</th><td>0.3715148</td><td>0.4063106</td><td>1.0000000</td></tr>\n",
       "</tbody>\n",
       "</table>\n"
      ],
      "text/latex": [
       "\\begin{tabular}{r|lll}\n",
       "  & x1 & x2 & x3\\\\\n",
       "\\hline\n",
       "\tx1 & 1.0000000 & 0.9733903 & 0.3715148\\\\\n",
       "\tx2 & 0.9733903 & 1.0000000 & 0.4063106\\\\\n",
       "\tx3 & 0.3715148 & 0.4063106 & 1.0000000\\\\\n",
       "\\end{tabular}\n"
      ],
      "text/markdown": [
       "\n",
       "| <!--/--> | x1 | x2 | x3 | \n",
       "|---|---|---|\n",
       "| x1 | 1.0000000 | 0.9733903 | 0.3715148 | \n",
       "| x2 | 0.9733903 | 1.0000000 | 0.4063106 | \n",
       "| x3 | 0.3715148 | 0.4063106 | 1.0000000 | \n",
       "\n",
       "\n"
      ],
      "text/plain": [
       "   x1        x2        x3       \n",
       "x1 1.0000000 0.9733903 0.3715148\n",
       "x2 0.9733903 1.0000000 0.4063106\n",
       "x3 0.3715148 0.4063106 1.0000000"
      ]
     },
     "metadata": {},
     "output_type": "display_data"
    },
    {
     "data": {
      "text/html": [
       "<table>\n",
       "<thead><tr><th></th><th scope=col>x1</th><th scope=col>x2</th><th scope=col>x3</th></tr></thead>\n",
       "<tbody>\n",
       "\t<tr><th scope=row>x1</th><td>1.0000000</td><td>0.9733903</td><td>0.3715148</td></tr>\n",
       "\t<tr><th scope=row>x2</th><td>0.9733903</td><td>1.0000000</td><td>0.4063106</td></tr>\n",
       "\t<tr><th scope=row>x3</th><td>0.3715148</td><td>0.4063106</td><td>1.0000000</td></tr>\n",
       "</tbody>\n",
       "</table>\n"
      ],
      "text/latex": [
       "\\begin{tabular}{r|lll}\n",
       "  & x1 & x2 & x3\\\\\n",
       "\\hline\n",
       "\tx1 & 1.0000000 & 0.9733903 & 0.3715148\\\\\n",
       "\tx2 & 0.9733903 & 1.0000000 & 0.4063106\\\\\n",
       "\tx3 & 0.3715148 & 0.4063106 & 1.0000000\\\\\n",
       "\\end{tabular}\n"
      ],
      "text/markdown": [
       "\n",
       "| <!--/--> | x1 | x2 | x3 | \n",
       "|---|---|---|\n",
       "| x1 | 1.0000000 | 0.9733903 | 0.3715148 | \n",
       "| x2 | 0.9733903 | 1.0000000 | 0.4063106 | \n",
       "| x3 | 0.3715148 | 0.4063106 | 1.0000000 | \n",
       "\n",
       "\n"
      ],
      "text/plain": [
       "   x1        x2        x3       \n",
       "x1 1.0000000 0.9733903 0.3715148\n",
       "x2 0.9733903 1.0000000 0.4063106\n",
       "x3 0.3715148 0.4063106 1.0000000"
      ]
     },
     "metadata": {},
     "output_type": "display_data"
    }
   ],
   "source": [
    "z = scale(x)\n",
    "A = 1/(n-1) * t(z) %*% z\n",
    "A\n",
    "# - or - \n",
    "cor(x)"
   ]
  },
  {
   "cell_type": "markdown",
   "metadata": {},
   "source": [
    "#### (c) Find the spectral decomposition of the correlation matrix constructed in part (b)."
   ]
  },
  {
   "cell_type": "code",
   "execution_count": 6,
   "metadata": {},
   "outputs": [
    {
     "data": {
      "text/html": [
       "<table>\n",
       "<thead><tr><th></th><th scope=col>x1</th><th scope=col>x2</th><th scope=col>x3</th></tr></thead>\n",
       "<tbody>\n",
       "\t<tr><th scope=row>x1</th><td> 3.330669e-16</td><td>-7.771561e-16</td><td> 1.110223e-16</td></tr>\n",
       "\t<tr><th scope=row>x2</th><td>-6.661338e-16</td><td>-8.881784e-16</td><td> 1.165734e-15</td></tr>\n",
       "\t<tr><th scope=row>x3</th><td> 1.110223e-16</td><td> 1.165734e-15</td><td>-2.442491e-15</td></tr>\n",
       "</tbody>\n",
       "</table>\n"
      ],
      "text/latex": [
       "\\begin{tabular}{r|lll}\n",
       "  & x1 & x2 & x3\\\\\n",
       "\\hline\n",
       "\tx1 &  3.330669e-16 & -7.771561e-16 &  1.110223e-16\\\\\n",
       "\tx2 & -6.661338e-16 & -8.881784e-16 &  1.165734e-15\\\\\n",
       "\tx3 &  1.110223e-16 &  1.165734e-15 & -2.442491e-15\\\\\n",
       "\\end{tabular}\n"
      ],
      "text/markdown": [
       "\n",
       "| <!--/--> | x1 | x2 | x3 | \n",
       "|---|---|---|\n",
       "| x1 |  3.330669e-16 | -7.771561e-16 |  1.110223e-16 | \n",
       "| x2 | -6.661338e-16 | -8.881784e-16 |  1.165734e-15 | \n",
       "| x3 |  1.110223e-16 |  1.165734e-15 | -2.442491e-15 | \n",
       "\n",
       "\n"
      ],
      "text/plain": [
       "   x1            x2            x3           \n",
       "x1  3.330669e-16 -7.771561e-16  1.110223e-16\n",
       "x2 -6.661338e-16 -8.881784e-16  1.165734e-15\n",
       "x3  1.110223e-16  1.165734e-15 -2.442491e-15"
      ]
     },
     "metadata": {},
     "output_type": "display_data"
    }
   ],
   "source": [
    "e = eigen(A)\n",
    "V = e$vectors # Weights that go into calculating PCs\n",
    "D = diag(e$values) # Variance covariance matrix of PCs\n",
    "A1 = V %*% D %*% t(V)\n",
    "A-A1"
   ]
  },
  {
   "cell_type": "markdown",
   "metadata": {},
   "source": [
    "#### (d) Find the principal components of the original predictor matrix. Confirm that the variance/covariance of the principal components what is suggested by theory."
   ]
  },
  {
   "cell_type": "code",
   "execution_count": 7,
   "metadata": {},
   "outputs": [
    {
     "data": {
      "text/html": [
       "<table>\n",
       "<tbody>\n",
       "\t<tr><td> 2.221166e+00</td><td> 2.884460e-16</td><td>-4.875266e-16</td></tr>\n",
       "\t<tr><td> 2.884460e-16</td><td> 7.529642e-01</td><td>-1.145596e-15</td></tr>\n",
       "\t<tr><td>-4.875266e-16</td><td>-1.145596e-15</td><td> 2.587031e-02</td></tr>\n",
       "</tbody>\n",
       "</table>\n"
      ],
      "text/latex": [
       "\\begin{tabular}{lll}\n",
       "\t  2.221166e+00 &  2.884460e-16 & -4.875266e-16\\\\\n",
       "\t  2.884460e-16 &  7.529642e-01 & -1.145596e-15\\\\\n",
       "\t -4.875266e-16 & -1.145596e-15 &  2.587031e-02\\\\\n",
       "\\end{tabular}\n"
      ],
      "text/markdown": [
       "\n",
       "|  2.221166e+00 |  2.884460e-16 | -4.875266e-16 | \n",
       "|  2.884460e-16 |  7.529642e-01 | -1.145596e-15 | \n",
       "| -4.875266e-16 | -1.145596e-15 |  2.587031e-02 | \n",
       "\n",
       "\n"
      ],
      "text/plain": [
       "     [,1]          [,2]          [,3]         \n",
       "[1,]  2.221166e+00  2.884460e-16 -4.875266e-16\n",
       "[2,]  2.884460e-16  7.529642e-01 -1.145596e-15\n",
       "[3,] -4.875266e-16 -1.145596e-15  2.587031e-02"
      ]
     },
     "metadata": {},
     "output_type": "display_data"
    },
    {
     "data": {
      "text/html": [
       "<table>\n",
       "<tbody>\n",
       "\t<tr><td> 2.221166e+00</td><td> 2.467162e-16</td><td>-4.810966e-16</td></tr>\n",
       "\t<tr><td> 2.467162e-16</td><td> 7.529642e-01</td><td>-1.147230e-15</td></tr>\n",
       "\t<tr><td>-4.756928e-16</td><td>-1.146130e-15</td><td> 2.587031e-02</td></tr>\n",
       "</tbody>\n",
       "</table>\n"
      ],
      "text/latex": [
       "\\begin{tabular}{lll}\n",
       "\t  2.221166e+00 &  2.467162e-16 & -4.810966e-16\\\\\n",
       "\t  2.467162e-16 &  7.529642e-01 & -1.147230e-15\\\\\n",
       "\t -4.756928e-16 & -1.146130e-15 &  2.587031e-02\\\\\n",
       "\\end{tabular}\n"
      ],
      "text/markdown": [
       "\n",
       "|  2.221166e+00 |  2.467162e-16 | -4.810966e-16 | \n",
       "|  2.467162e-16 |  7.529642e-01 | -1.147230e-15 | \n",
       "| -4.756928e-16 | -1.146130e-15 |  2.587031e-02 | \n",
       "\n",
       "\n"
      ],
      "text/plain": [
       "     [,1]          [,2]          [,3]         \n",
       "[1,]  2.221166e+00  2.467162e-16 -4.810966e-16\n",
       "[2,]  2.467162e-16  7.529642e-01 -1.147230e-15\n",
       "[3,] -4.756928e-16 -1.146130e-15  2.587031e-02"
      ]
     },
     "metadata": {},
     "output_type": "display_data"
    }
   ],
   "source": [
    "# Variance of each PC\n",
    "C = z %*% V\n",
    "var(C)\n",
    "# - or -\n",
    "1/(n-1) * t(C)%*%C\n",
    "# Notice that variance decreases as move across rows. Most variance is in first PC"
   ]
  },
  {
   "cell_type": "code",
   "execution_count": 9,
   "metadata": {},
   "outputs": [
    {
     "data": {
      "text/plain": [
       "Importance of components:\n",
       "                          PC1    PC2     PC3\n",
       "Standard deviation     1.4904 0.8677 0.16084\n",
       "Proportion of Variance 0.7404 0.2510 0.00862\n",
       "Cumulative Proportion  0.7404 0.9914 1.00000"
      ]
     },
     "metadata": {},
     "output_type": "display_data"
    }
   ],
   "source": [
    "s = prcomp(x, scale = T)\n",
    "summary(s)"
   ]
  },
  {
   "cell_type": "code",
   "execution_count": 10,
   "metadata": {},
   "outputs": [
    {
     "data": {
      "text/plain": [
       "Importance of components:\n",
       "                          Comp.1    Comp.2      Comp.3\n",
       "Standard deviation     1.4903575 0.8677351 0.160842500\n",
       "Proportion of Variance 0.7403885 0.2509881 0.008623437\n",
       "Cumulative Proportion  0.7403885 0.9913766 1.000000000"
      ]
     },
     "metadata": {},
     "output_type": "display_data"
    }
   ],
   "source": [
    "s2 = princomp(x, cor = T)\n",
    "summary(s2)"
   ]
  },
  {
   "cell_type": "markdown",
   "metadata": {},
   "source": [
    "#### (e) Simulate a response according to the relationship \n",
    "\n",
    "$$ Y = 2X_1 + 4X_2 + X_3 + \\varepsilon,$$ \n",
    "\n",
    "where $\\varepsilon \\sim N(0,0.25)$. Fit an lm to this data, and calculate the VIFs for the predictors. What do you notice?"
   ]
  },
  {
   "cell_type": "code",
   "execution_count": 15,
   "metadata": {},
   "outputs": [
    {
     "data": {
      "text/plain": [
       "\n",
       "Call:\n",
       "lm(formula = y ~ ., data = df)\n",
       "\n",
       "Residuals:\n",
       "     Min       1Q   Median       3Q      Max \n",
       "-0.26509 -0.03482  0.03646  0.09967  0.16597 \n",
       "\n",
       "Coefficients:\n",
       "            Estimate Std. Error t value Pr(>|t|)    \n",
       "(Intercept) -0.03735    0.11211  -0.333  0.75034    \n",
       "x1           1.92653    0.41526   4.639  0.00354 ** \n",
       "x2           4.02252    0.42798   9.399 8.24e-05 ***\n",
       "x3           1.00761    0.03665  27.494 1.53e-07 ***\n",
       "---\n",
       "Signif. codes:  0 '***' 0.001 '**' 0.01 '*' 0.05 '.' 0.1 ' ' 1\n",
       "\n",
       "Residual standard error: 0.172 on 6 degrees of freedom\n",
       "Multiple R-squared:  0.999,\tAdjusted R-squared:  0.9986 \n",
       "F-statistic:  2083 on 3 and 6 DF,  p-value: 1.931e-09\n"
      ]
     },
     "metadata": {},
     "output_type": "display_data"
    }
   ],
   "source": [
    "y = 2*x1 + 4*x2 + x3 + rnorm(n, 0, 0.25)\n",
    "df = data.frame(y, x1, x2, x3)\n",
    "lmod = lm(y ~ ., data = df)\n",
    "summary(lmod)"
   ]
  },
  {
   "cell_type": "code",
   "execution_count": 16,
   "metadata": {},
   "outputs": [
    {
     "data": {
      "text/html": [
       "<dl class=dl-horizontal>\n",
       "\t<dt>x1</dt>\n",
       "\t\t<dd>19.2967280944924</dd>\n",
       "\t<dt>x2</dt>\n",
       "\t\t<dd>19.922264809214</dd>\n",
       "\t<dt>x3</dt>\n",
       "\t\t<dd>1.21365534754039</dd>\n",
       "</dl>\n"
      ],
      "text/latex": [
       "\\begin{description*}\n",
       "\\item[x1] 19.2967280944924\n",
       "\\item[x2] 19.922264809214\n",
       "\\item[x3] 1.21365534754039\n",
       "\\end{description*}\n"
      ],
      "text/markdown": [
       "x1\n",
       ":   19.2967280944924x2\n",
       ":   19.922264809214x3\n",
       ":   1.21365534754039\n",
       "\n"
      ],
      "text/plain": [
       "       x1        x2        x3 \n",
       "19.296728 19.922265  1.213655 "
      ]
     },
     "metadata": {},
     "output_type": "display_data"
    }
   ],
   "source": [
    "# Calculate variance inflation factors\n",
    "library(faraway)\n",
    "vif(lmod)"
   ]
  },
  {
   "cell_type": "markdown",
   "metadata": {},
   "source": [
    "We notice that the intercept is not significant. That's not surpising because there wasn't an intercept in the true model. We also notice that the standard errors of x1 and x2 are an order of magnitude higher than those of x3, which makes sense because of the variance inflation factor. From the variance inflation factor itself, we notice that there is a lot of correlation between x1 and x2 and the other predictors because the VIF is large. The VIF of x3 is small, so it is not highly correlated with the other predictors."
   ]
  },
  {
   "cell_type": "markdown",
   "metadata": {},
   "source": [
    "#### (f) Now, fit an lm to the response created in the previous part, but use just the first two principal components as predictors. Calculate the VIFs. What do you notice?"
   ]
  },
  {
   "cell_type": "code",
   "execution_count": 21,
   "metadata": {},
   "outputs": [
    {
     "data": {
      "text/plain": [
       "\n",
       "Call:\n",
       "lm(formula = y ~ PC1 + PC2, data = df2)\n",
       "\n",
       "Residuals:\n",
       "     Min       1Q   Median       3Q      Max \n",
       "-0.45092 -0.01166  0.05689  0.12056  0.18385 \n",
       "\n",
       "Coefficients:\n",
       "            Estimate Std. Error t value Pr(>|t|)    \n",
       "(Intercept)  7.27337    0.07002 103.877 2.02e-12 ***\n",
       "PC1         -3.02153    0.04952 -61.013 8.34e-11 ***\n",
       "PC2          0.57177    0.08506   6.722 0.000272 ***\n",
       "---\n",
       "Signif. codes:  0 '***' 0.001 '**' 0.01 '*' 0.05 '.' 0.1 ' ' 1\n",
       "\n",
       "Residual standard error: 0.2214 on 7 degrees of freedom\n",
       "Multiple R-squared:  0.9981,\tAdjusted R-squared:  0.9976 \n",
       "F-statistic:  1884 on 2 and 7 DF,  p-value: 2.746e-10\n"
      ]
     },
     "metadata": {},
     "output_type": "display_data"
    }
   ],
   "source": [
    "df2 = data.frame(y, s$x) # s$x are the PCs\n",
    "lmodPCA = lm(y ~ PC1 + PC2, data = df2)\n",
    "summary(lmodPCA)"
   ]
  },
  {
   "cell_type": "code",
   "execution_count": 22,
   "metadata": {},
   "outputs": [
    {
     "data": {
      "text/html": [
       "<dl class=dl-horizontal>\n",
       "\t<dt>PC1</dt>\n",
       "\t\t<dd>1</dd>\n",
       "\t<dt>PC2</dt>\n",
       "\t\t<dd>1</dd>\n",
       "</dl>\n"
      ],
      "text/latex": [
       "\\begin{description*}\n",
       "\\item[PC1] 1\n",
       "\\item[PC2] 1\n",
       "\\end{description*}\n"
      ],
      "text/markdown": [
       "PC1\n",
       ":   1PC2\n",
       ":   1\n",
       "\n"
      ],
      "text/plain": [
       "PC1 PC2 \n",
       "  1   1 "
      ]
     },
     "metadata": {},
     "output_type": "display_data"
    }
   ],
   "source": [
    "vif(lmodPCA)"
   ]
  },
  {
   "cell_type": "markdown",
   "metadata": {},
   "source": [
    "Everything is significant. We also see that the variance inflation factors are exactly 1 for each. This makes sense because all of the PCs are orthogonal, meaning there is no correlation between them."
   ]
  },
  {
   "cell_type": "markdown",
   "metadata": {},
   "source": [
    "#### (g) Calculate the mean squared error of prediction for each of the two models above. Which one does better? Why, in some contexts, might you prefer the one that does a little worse?"
   ]
  },
  {
   "cell_type": "code",
   "execution_count": 23,
   "metadata": {},
   "outputs": [
    {
     "data": {
      "text/html": [
       "0.0343188909359429"
      ],
      "text/latex": [
       "0.0343188909359429"
      ],
      "text/markdown": [
       "0.0343188909359429"
      ],
      "text/plain": [
       "[1] 0.03431889"
      ]
     },
     "metadata": {},
     "output_type": "display_data"
    }
   ],
   "source": [
    "with(df2, mean((y- fitted(lmodPCA))^2 ))"
   ]
  },
  {
   "cell_type": "code",
   "execution_count": 24,
   "metadata": {},
   "outputs": [
    {
     "data": {
      "text/html": [
       "0.0177538354774402"
      ],
      "text/latex": [
       "0.0177538354774402"
      ],
      "text/markdown": [
       "0.0177538354774402"
      ],
      "text/plain": [
       "[1] 0.01775384"
      ]
     },
     "metadata": {},
     "output_type": "display_data"
    }
   ],
   "source": [
    "with(df, mean(resid(lmod)^2))"
   ]
  },
  {
   "cell_type": "markdown",
   "metadata": {},
   "source": [
    "The mean-squared error of the PCR model is higher than the mean-squared error of the normal model. This is because we removed one of the principal components. So, even though the mean-squared is higher, we need fewer PCs than having all the predictors, which can help us simplify the model and get more stable estimates."
   ]
  },
  {
   "cell_type": "markdown",
   "metadata": {},
   "source": [
    "Note that if all the PCs are in the PCR model, then the mean-squared errors will be the same."
   ]
  },
  {
   "cell_type": "code",
   "execution_count": null,
   "metadata": {},
   "outputs": [],
   "source": []
  }
 ],
 "metadata": {
  "kernelspec": {
   "display_name": "R",
   "language": "R",
   "name": "ir"
  },
  "language_info": {
   "codemirror_mode": "r",
   "file_extension": ".r",
   "mimetype": "text/x-r-source",
   "name": "R",
   "pygments_lexer": "r",
   "version": "3.4.3"
  }
 },
 "nbformat": 4,
 "nbformat_minor": 2
}
