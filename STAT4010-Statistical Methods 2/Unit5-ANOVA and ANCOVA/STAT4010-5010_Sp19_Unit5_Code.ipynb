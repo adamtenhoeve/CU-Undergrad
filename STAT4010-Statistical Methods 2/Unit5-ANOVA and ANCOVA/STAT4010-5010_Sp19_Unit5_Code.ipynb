{
 "cells": [
  {
   "cell_type": "markdown",
   "metadata": {},
   "source": [
    "# Unit #5 Code\n",
    "\n"
   ]
  },
  {
   "cell_type": "markdown",
   "metadata": {},
   "source": [
    "Name: Adam Ten Hoeve"
   ]
  },
  {
   "cell_type": "markdown",
   "metadata": {},
   "source": [
    "## Problem #1\n",
    "\n",
    "To demonstrate how interaction terms work in an ANCOVA model, let's generate some data. First, we consider the model \n",
    "\n",
    "$$Y_i = \\beta_0 + \\beta_1 X + \\beta_2 Z + \\beta_3XZ + \\varepsilon_i$$\n",
    "\n",
    "where $X$ is a continuous covariate, $Z$ is a dummy variable coding the levels of a two level factor, and $\\varepsilon_i \\overset{iid}{\\sim} N(0,\\sigma^2)$. We choose values for the parameters below (b0,...,b3). \n",
    "\n",
    "First, notice that $\\beta_3 = 0$. In this case, we can think about having two separate regression lines--one for $Y$ against $X$ when the unit is in group $Z = 0$ and another for $Y$ against $X$ when the unit is in group $Z = 1$. What do we notice about the slope of each of these lines?\n"
   ]
  },
  {
   "cell_type": "code",
   "execution_count": 1,
   "metadata": {},
   "outputs": [
    {
     "data": {
      "text/html": [
       "<table>\n",
       "<thead><tr><th scope=col>x</th><th scope=col>z</th><th scope=col>y</th></tr></thead>\n",
       "<tbody>\n",
       "\t<tr><td>1.186784 </td><td>0        </td><td> 3.480550</td></tr>\n",
       "\t<tr><td>1.867505 </td><td>1        </td><td> 9.974839</td></tr>\n",
       "\t<tr><td>1.740442 </td><td>1        </td><td> 9.524798</td></tr>\n",
       "\t<tr><td>0.320845 </td><td>0        </td><td> 1.863619</td></tr>\n",
       "\t<tr><td>1.875672 </td><td>0        </td><td> 4.569925</td></tr>\n",
       "\t<tr><td>1.983290 </td><td>1        </td><td>10.027918</td></tr>\n",
       "</tbody>\n",
       "</table>\n"
      ],
      "text/latex": [
       "\\begin{tabular}{r|lll}\n",
       " x & z & y\\\\\n",
       "\\hline\n",
       "\t 1.186784  & 0         &  3.480550\\\\\n",
       "\t 1.867505  & 1         &  9.974839\\\\\n",
       "\t 1.740442  & 1         &  9.524798\\\\\n",
       "\t 0.320845  & 0         &  1.863619\\\\\n",
       "\t 1.875672  & 0         &  4.569925\\\\\n",
       "\t 1.983290  & 1         & 10.027918\\\\\n",
       "\\end{tabular}\n"
      ],
      "text/markdown": [
       "\n",
       "x | z | y | \n",
       "|---|---|---|---|---|---|\n",
       "| 1.186784  | 0         |  3.480550 | \n",
       "| 1.867505  | 1         |  9.974839 | \n",
       "| 1.740442  | 1         |  9.524798 | \n",
       "| 0.320845  | 0         |  1.863619 | \n",
       "| 1.875672  | 0         |  4.569925 | \n",
       "| 1.983290  | 1         | 10.027918 | \n",
       "\n",
       "\n"
      ],
      "text/plain": [
       "  x        z y        \n",
       "1 1.186784 0  3.480550\n",
       "2 1.867505 1  9.974839\n",
       "3 1.740442 1  9.524798\n",
       "4 0.320845 0  1.863619\n",
       "5 1.875672 0  4.569925\n",
       "6 1.983290 1 10.027918"
      ]
     },
     "metadata": {},
     "output_type": "display_data"
    },
    {
     "data": {
      "image/png": "[encoded data removed]",
      "text/plain": [
       "plot without title"
      ]
     },
     "metadata": {},
     "output_type": "display_data"
    }
   ],
   "source": [
    "rm(list = ls())\n",
    "set.seed(99)\n",
    "\n",
    "#simulate data\n",
    "n = 500\n",
    "b0 = 1; b1 = 2; b2 = 5; b3 = 0; eps = rnorm(n, 0, 0.5);\n",
    "x = runif(n, 0, 2); \n",
    "z = runif(n, -2, 2);\n",
    "z = ifelse(z > 0, 1, 0)\n",
    "y = b0 + b1*x + b2*z - b3*(x*z) + eps\n",
    "df = data.frame(x = x, z = as.factor(z), y = y)\n",
    "head(df)\n",
    "\n",
    "# Plot separate regression lines\n",
    "with(df, plot(x,y, pch = 3, col = c(\"blue\", \"orange\")[z]))\n",
    "abline(coef(lm(y[z == 0] ~ x[z == 0], data = df)), col = \"blue\")\n",
    "abline(coef(lm(y[z == 1] ~ x[z == 1], data = df)), col = \"orange\")"
   ]
  },
  {
   "cell_type": "markdown",
   "metadata": {},
   "source": [
    "The slopes of the two regression lines are the same, all that changes is the intercept."
   ]
  },
  {
   "cell_type": "markdown",
   "metadata": {},
   "source": [
    "#### Now, let's add the interaction term. What happens to the slopes of each line?"
   ]
  },
  {
   "cell_type": "code",
   "execution_count": 2,
   "metadata": {
    "scrolled": false
   },
   "outputs": [
    {
     "data": {
      "text/html": [
       "<table>\n",
       "<thead><tr><th scope=col>x</th><th scope=col>z</th><th scope=col>y</th></tr></thead>\n",
       "<tbody>\n",
       "\t<tr><td>1.186784 </td><td>0        </td><td> 3.480550</td></tr>\n",
       "\t<tr><td>1.867505 </td><td>1        </td><td>28.649886</td></tr>\n",
       "\t<tr><td>1.740442 </td><td>1        </td><td>26.929216</td></tr>\n",
       "\t<tr><td>0.320845 </td><td>0        </td><td> 1.863619</td></tr>\n",
       "\t<tr><td>1.875672 </td><td>0        </td><td> 4.569925</td></tr>\n",
       "\t<tr><td>1.983290 </td><td>1        </td><td>29.860822</td></tr>\n",
       "</tbody>\n",
       "</table>\n"
      ],
      "text/latex": [
       "\\begin{tabular}{r|lll}\n",
       " x & z & y\\\\\n",
       "\\hline\n",
       "\t 1.186784  & 0         &  3.480550\\\\\n",
       "\t 1.867505  & 1         & 28.649886\\\\\n",
       "\t 1.740442  & 1         & 26.929216\\\\\n",
       "\t 0.320845  & 0         &  1.863619\\\\\n",
       "\t 1.875672  & 0         &  4.569925\\\\\n",
       "\t 1.983290  & 1         & 29.860822\\\\\n",
       "\\end{tabular}\n"
      ],
      "text/markdown": [
       "\n",
       "x | z | y | \n",
       "|---|---|---|---|---|---|\n",
       "| 1.186784  | 0         |  3.480550 | \n",
       "| 1.867505  | 1         | 28.649886 | \n",
       "| 1.740442  | 1         | 26.929216 | \n",
       "| 0.320845  | 0         |  1.863619 | \n",
       "| 1.875672  | 0         |  4.569925 | \n",
       "| 1.983290  | 1         | 29.860822 | \n",
       "\n",
       "\n"
      ],
      "text/plain": [
       "  x        z y        \n",
       "1 1.186784 0  3.480550\n",
       "2 1.867505 1 28.649886\n",
       "3 1.740442 1 26.929216\n",
       "4 0.320845 0  1.863619\n",
       "5 1.875672 0  4.569925\n",
       "6 1.983290 1 29.860822"
      ]
     },
     "metadata": {},
     "output_type": "display_data"
    },
    {
     "data": {
      "text/plain": [
       "\n",
       "Call:\n",
       "lm(formula = y ~ x + z, data = df)\n",
       "\n",
       "Residuals:\n",
       "    Min      1Q  Median      3Q     Max \n",
       "-6.6564 -2.3662  0.0755  2.4997  5.1820 \n",
       "\n",
       "Coefficients:\n",
       "            Estimate Std. Error t value Pr(>|t|)    \n",
       "(Intercept)  -3.8917     0.2755  -14.12   <2e-16 ***\n",
       "x             7.3310     0.2257   32.47   <2e-16 ***\n",
       "z1           14.6199     0.2589   56.48   <2e-16 ***\n",
       "---\n",
       "Signif. codes:  0 '***' 0.001 '**' 0.01 '*' 0.05 '.' 0.1 ' ' 1\n",
       "\n",
       "Residual standard error: 2.881 on 497 degrees of freedom\n",
       "Multiple R-squared:  0.9029,\tAdjusted R-squared:  0.9025 \n",
       "F-statistic:  2310 on 2 and 497 DF,  p-value: < 2.2e-16\n"
      ]
     },
     "metadata": {},
     "output_type": "display_data"
    },
    {
     "data": {
      "text/plain": [
       "\n",
       "Call:\n",
       "lm(formula = y[z == 0] ~ x[z == 0], data = df)\n",
       "\n",
       "Residuals:\n",
       "     Min       1Q   Median       3Q      Max \n",
       "-1.56643 -0.31784 -0.03369  0.33112  1.41799 \n",
       "\n",
       "Coefficients:\n",
       "            Estimate Std. Error t value Pr(>|t|)    \n",
       "(Intercept)  0.83931    0.06354   13.21   <2e-16 ***\n",
       "x[z == 0]    2.12084    0.05950   35.64   <2e-16 ***\n",
       "---\n",
       "Signif. codes:  0 '***' 0.001 '**' 0.01 '*' 0.05 '.' 0.1 ' ' 1\n",
       "\n",
       "Residual standard error: 0.5233 on 243 degrees of freedom\n",
       "Multiple R-squared:  0.8394,\tAdjusted R-squared:  0.8388 \n",
       "F-statistic:  1270 on 1 and 243 DF,  p-value: < 2.2e-16\n"
      ]
     },
     "metadata": {},
     "output_type": "display_data"
    },
    {
     "data": {
      "text/plain": [
       "\n",
       "Call:\n",
       "lm(formula = y[z == 1] ~ x[z == 1], data = df)\n",
       "\n",
       "Residuals:\n",
       "     Min       1Q   Median       3Q      Max \n",
       "-1.55548 -0.34265  0.00753  0.35798  1.24438 \n",
       "\n",
       "Coefficients:\n",
       "            Estimate Std. Error t value Pr(>|t|)    \n",
       "(Intercept)  5.95682    0.06254   95.24   <2e-16 ***\n",
       "x[z == 1]   12.04070    0.05359  224.66   <2e-16 ***\n",
       "---\n",
       "Signif. codes:  0 '***' 0.001 '**' 0.01 '*' 0.05 '.' 0.1 ' ' 1\n",
       "\n",
       "Residual standard error: 0.4957 on 253 degrees of freedom\n",
       "Multiple R-squared:  0.995,\tAdjusted R-squared:  0.995 \n",
       "F-statistic: 5.047e+04 on 1 and 253 DF,  p-value: < 2.2e-16\n"
      ]
     },
     "metadata": {},
     "output_type": "display_data"
    },
    {
     "data": {
      "text/plain": [
       "\n",
       "Call:\n",
       "lm(formula = y ~ x + z + x * z, data = df)\n",
       "\n",
       "Residuals:\n",
       "     Min       1Q   Median       3Q      Max \n",
       "-1.56643 -0.33797 -0.00941  0.34480  1.41799 \n",
       "\n",
       "Coefficients:\n",
       "            Estimate Std. Error t value Pr(>|t|)    \n",
       "(Intercept)  0.83931    0.06185   13.57   <2e-16 ***\n",
       "x            2.12084    0.05792   36.61   <2e-16 ***\n",
       "z1           5.11752    0.08920   57.37   <2e-16 ***\n",
       "x:z1         9.91986    0.07993  124.11   <2e-16 ***\n",
       "---\n",
       "Signif. codes:  0 '***' 0.001 '**' 0.01 '*' 0.05 '.' 0.1 ' ' 1\n",
       "\n",
       "Residual standard error: 0.5094 on 496 degrees of freedom\n",
       "Multiple R-squared:  0.997,\tAdjusted R-squared:  0.997 \n",
       "F-statistic: 5.439e+04 on 3 and 496 DF,  p-value: < 2.2e-16\n"
      ]
     },
     "metadata": {},
     "output_type": "display_data"
    },
    {
     "data": {
      "image/png": "[encoded data removed]",
      "text/plain": [
       "plot without title"
      ]
     },
     "metadata": {},
     "output_type": "display_data"
    }
   ],
   "source": [
    "# To add interaction term, set b3 to something not zero. Represents the difference in slopes between the models.\n",
    "# Notice that the larger the b3, the more significant the intercation. The smaller the b3, the less significant.\n",
    "b3 = 10\n",
    "y = b0 + b1*x + b2*z + b3*x*z + eps\n",
    "df = data.frame(x = x, z = as.factor(z), y = y)\n",
    "head(df)\n",
    "\n",
    "lmod = lm(y ~ x + z, data = df)\n",
    "lmodz0 = lm(y[z == 0] ~ x[z == 0], data = df)\n",
    "lmodz1 = lm(y[z == 1] ~ x[z == 1], data = df)\n",
    "lmodInter = lm(y ~ x + z + x*z, data = df)\n",
    "summary(lmod)\n",
    "summary(lmodz0)\n",
    "summary(lmodz1)\n",
    "summary(lmodInter)\n",
    "\n",
    "# Plot separate regression lines\n",
    "with(df, plot(x,y, pch = 3, col = c(\"blue\", \"orange\")[z]))\n",
    "abline(coef(lm(y[z == 0] ~ x[z == 0], data = df)), col = \"blue\")\n",
    "abline(coef(lm(y[z == 1] ~ x[z == 1], data = df)), col = \"orange\")"
   ]
  },
  {
   "cell_type": "markdown",
   "metadata": {},
   "source": [
    "## Problem #2\n",
    "\n",
    "Load the mtcars dataset. The goal if this question will be to try to explain the variability in miles per gallon (mpg) using transmission type (am), while adjusting for horsepower (hp).\n",
    "\n",
    "#### (a) Rename the levels of am from 0 and 1 to \"Automatic\" and \"Manual\" (one option for this is to use the revalue() function in the plyr package). Then, create a boxplot of mpg against am. What do you notice? What is the difference in the mean of mpg for cars in the Automatic group vs the Manual group?"
   ]
  },
  {
   "cell_type": "code",
   "execution_count": 3,
   "metadata": {},
   "outputs": [
    {
     "name": "stderr",
     "output_type": "stream",
     "text": [
      "-- Attaching packages --------------------------------------- tidyverse 1.2.1 --\n",
      "v ggplot2 2.2.1     v purrr   0.2.4\n",
      "v tibble  1.4.1     v dplyr   0.7.4\n",
      "v tidyr   0.7.2     v stringr 1.2.0\n",
      "v readr   1.1.1     v forcats 0.2.0\n",
      "-- Conflicts ------------------------------------------ tidyverse_conflicts() --\n",
      "x dplyr::filter() masks stats::filter()\n",
      "x dplyr::lag()    masks stats::lag()\n",
      "------------------------------------------------------------------------------\n",
      "You have loaded plyr after dplyr - this is likely to cause problems.\n",
      "If you need functions from both plyr and dplyr, please load plyr first, then dplyr:\n",
      "library(plyr); library(dplyr)\n",
      "------------------------------------------------------------------------------\n",
      "\n",
      "Attaching package: 'plyr'\n",
      "\n",
      "The following objects are masked from 'package:dplyr':\n",
      "\n",
      "    arrange, count, desc, failwith, id, mutate, rename, summarise,\n",
      "    summarize\n",
      "\n",
      "The following object is masked from 'package:purrr':\n",
      "\n",
      "    compact\n",
      "\n"
     ]
    },
    {
     "data": {
      "text/html": [
       "7.24493927125506"
      ],
      "text/latex": [
       "7.24493927125506"
      ],
      "text/markdown": [
       "7.24493927125506"
      ],
      "text/plain": [
       "[1] 7.244939"
      ]
     },
     "metadata": {},
     "output_type": "display_data"
    },
    {
     "data": {
      "image/png": "[encoded data removed]",
      "text/plain": [
       "plot without title"
      ]
     },
     "metadata": {},
     "output_type": "display_data"
    }
   ],
   "source": [
    "library(tidyverse)\n",
    "library(plyr)\n",
    "data(mtcars)\n",
    "# head(mtcars)\n",
    "mtcars$amf = as.factor(mtcars$am)\n",
    "mtcars$amf = with(mtcars, revalue(amf, c(\"0\" = \"Automatic\", \"1\" = \"Manual\")))\n",
    "with(mtcars, boxplot(mpg ~ amf), xlab = \"Transmission Type\", ylab = \"MPG\")\n",
    "with(mtcars, mean(mpg[amf == \"Manual\"]) - mean(mpg[amf == \"Automatic\"]))"
   ]
  },
  {
   "cell_type": "markdown",
   "metadata": {},
   "source": [
    "We can notice that the manual has a higher min, max, mean and quartile values than the Automatic values. The difference in means is about 5mpg."
   ]
  },
  {
   "cell_type": "markdown",
   "metadata": {},
   "source": [
    "#### (b) Construct three models: \n",
    "\n",
    "1. An ANOVA model that checks for differences in mean mpg across different transmission types. \n",
    "2. An ANCOVA model that checks for differences in mean mpg across different transmission types, adjusting for horsepower.\n",
    "3. An ANCOVA model that checks for differences in mean mpg across different transmission types, adjusting for horsepower and for interaction effects between horsepower and transmission type."
   ]
  },
  {
   "cell_type": "code",
   "execution_count": 5,
   "metadata": {},
   "outputs": [
    {
     "data": {
      "text/plain": [
       "\n",
       "Call:\n",
       "lm(formula = mpg ~ amf, data = mtcars)\n",
       "\n",
       "Residuals:\n",
       "    Min      1Q  Median      3Q     Max \n",
       "-9.3923 -3.0923 -0.2974  3.2439  9.5077 \n",
       "\n",
       "Coefficients:\n",
       "            Estimate Std. Error t value Pr(>|t|)    \n",
       "(Intercept)   17.147      1.125  15.247 1.13e-15 ***\n",
       "amfManual      7.245      1.764   4.106 0.000285 ***\n",
       "---\n",
       "Signif. codes:  0 '***' 0.001 '**' 0.01 '*' 0.05 '.' 0.1 ' ' 1\n",
       "\n",
       "Residual standard error: 4.902 on 30 degrees of freedom\n",
       "Multiple R-squared:  0.3598,\tAdjusted R-squared:  0.3385 \n",
       "F-statistic: 16.86 on 1 and 30 DF,  p-value: 0.000285\n"
      ]
     },
     "metadata": {},
     "output_type": "display_data"
    },
    {
     "data": {
      "text/plain": [
       "\n",
       "Call:\n",
       "lm(formula = mpg ~ hp + amf, data = mtcars)\n",
       "\n",
       "Residuals:\n",
       "    Min      1Q  Median      3Q     Max \n",
       "-4.3843 -2.2642  0.1366  1.6968  5.8657 \n",
       "\n",
       "Coefficients:\n",
       "             Estimate Std. Error t value Pr(>|t|)    \n",
       "(Intercept) 26.584914   1.425094  18.655  < 2e-16 ***\n",
       "hp          -0.058888   0.007857  -7.495 2.92e-08 ***\n",
       "amfManual    5.277085   1.079541   4.888 3.46e-05 ***\n",
       "---\n",
       "Signif. codes:  0 '***' 0.001 '**' 0.01 '*' 0.05 '.' 0.1 ' ' 1\n",
       "\n",
       "Residual standard error: 2.909 on 29 degrees of freedom\n",
       "Multiple R-squared:  0.782,\tAdjusted R-squared:  0.767 \n",
       "F-statistic: 52.02 on 2 and 29 DF,  p-value: 2.55e-10\n"
      ]
     },
     "metadata": {},
     "output_type": "display_data"
    },
    {
     "data": {
      "text/plain": [
       "\n",
       "Call:\n",
       "lm(formula = mpg ~ hp + amf + am:hp, data = mtcars)\n",
       "\n",
       "Residuals:\n",
       "    Min      1Q  Median      3Q     Max \n",
       "-4.3818 -2.2696  0.1344  1.7058  5.8752 \n",
       "\n",
       "Coefficients:\n",
       "              Estimate Std. Error t value Pr(>|t|)    \n",
       "(Intercept) 26.6248479  2.1829432  12.197 1.01e-12 ***\n",
       "hp          -0.0591370  0.0129449  -4.568 9.02e-05 ***\n",
       "amfManual    5.2176534  2.6650931   1.958   0.0603 .  \n",
       "hp:am        0.0004029  0.0164602   0.024   0.9806    \n",
       "---\n",
       "Signif. codes:  0 '***' 0.001 '**' 0.01 '*' 0.05 '.' 0.1 ' ' 1\n",
       "\n",
       "Residual standard error: 2.961 on 28 degrees of freedom\n",
       "Multiple R-squared:  0.782,\tAdjusted R-squared:  0.7587 \n",
       "F-statistic: 33.49 on 3 and 28 DF,  p-value: 2.112e-09\n"
      ]
     },
     "metadata": {},
     "output_type": "display_data"
    }
   ],
   "source": [
    "anov = lm(mpg ~ amf, data = mtcars)\n",
    "summary(anov)\n",
    "\n",
    "anc = lm(mpg ~ hp + amf, data = mtcars)\n",
    "summary(anc)\n",
    "\n",
    "ancInt = lm(mpg ~  hp + amf + am:hp, data = mtcars)\n",
    "summary(ancInt)"
   ]
  },
  {
   "cell_type": "markdown",
   "metadata": {},
   "source": [
    "#### Is the interaction term significant?"
   ]
  },
  {
   "cell_type": "markdown",
   "metadata": {},
   "source": [
    "The interaction term is not significant because the p-value is very high (0.9806)."
   ]
  },
  {
   "cell_type": "markdown",
   "metadata": {},
   "source": [
    "#### (c) Construct a plot of mpg against horsepower, and color points based in transmission type. Then, overlay the regression lines with the interaction term, and the lines without. How are these lines consistent with your answer in (b)?"
   ]
  },
  {
   "cell_type": "code",
   "execution_count": 6,
   "metadata": {},
   "outputs": [
    {
     "data": {
      "image/png": "[encoded data removed]",
      "text/plain": [
       "plot without title"
      ]
     },
     "metadata": {},
     "output_type": "display_data"
    },
    {
     "data": {
      "text/html": [
       "<strong>hp:</strong> -0.0587340910946415"
      ],
      "text/latex": [
       "\\textbf{hp:} -0.0587340910946415"
      ],
      "text/markdown": [
       "**hp:** -0.0587340910946415"
      ],
      "text/plain": [
       "         hp \n",
       "-0.05873409 "
      ]
     },
     "metadata": {},
     "output_type": "display_data"
    },
    {
     "data": {
      "image/png": "[encoded data removed]",
      "text/plain": [
       "plot without title"
      ]
     },
     "metadata": {},
     "output_type": "display_data"
    }
   ],
   "source": [
    "#plot separate regression lines\n",
    "with(mtcars, plot(hp,mpg, pch = 3, col = c(\"blue\",\"orange\")[amf]))\n",
    "abline(coef(lm(mpg[am == 0] ~ hp[am == 0], data = mtcars)), col = \"blue\")\n",
    "abline(coef(lm(mpg[am == 1] ~ hp[am == 1], data = mtcars)), col = \"orange\")\n",
    "\n",
    "with(mtcars, plot(hp,mpg, pch = 3, col = c(\"blue\",\"orange\")[amf]))\n",
    "abline(coef(lm(mpg[am == 0] ~ hp[am == 0], data = mtcars)), col = \"blue\")\n",
    "with(mtcars, abline(coef(ancInt)[1] + coef(ancInt)[3], \n",
    "                    coef(ancInt)[2] + coef(ancInt)[4], col = \"orange\"))\n",
    "coef(ancInt)[2] + coef(ancInt)[4]"
   ]
  },
  {
   "cell_type": "markdown",
   "metadata": {},
   "source": [
    "For the plots, we can see that the slopes of both lines, for both types of transmissions, are about the same. This means that the interaction between the two variables is likely insignificant, which agrees with our conclusions from part (b)."
   ]
  }
 ],
 "metadata": {
  "kernelspec": {
   "display_name": "R",
   "language": "R",
   "name": "ir"
  },
  "language_info": {
   "codemirror_mode": "r",
   "file_extension": ".r",
   "mimetype": "text/x-r-source",
   "name": "R",
   "pygments_lexer": "r",
   "version": "3.4.3"
  }
 },
 "nbformat": 4,
 "nbformat_minor": 2
}
