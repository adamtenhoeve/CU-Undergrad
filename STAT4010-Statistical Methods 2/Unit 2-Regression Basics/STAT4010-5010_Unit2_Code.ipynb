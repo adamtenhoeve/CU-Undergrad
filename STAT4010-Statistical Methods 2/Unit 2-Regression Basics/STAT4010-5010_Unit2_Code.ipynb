{
 "cells": [
  {
   "cell_type": "markdown",
   "metadata": {},
   "source": [
    "# Unit #2 Code: Regression Basics\n",
    "\n",
    "In this notebook, we will learn how to perform multiple linear regression in R and interpret some of the output."
   ]
  },
  {
   "cell_type": "markdown",
   "metadata": {},
   "source": [
    "## Problem #1\n",
    "\n",
    "Tobias Mayer collected data on the locations of various landmarks on the moon, including the Manilius crater, as they moved relative to earth. He derived an equation describing the motion of the moon (called liberation) taking the form $$arc = \\beta_0 + \\beta_1 sinang + \\beta_2 cosang.$$\n",
    "\n",
    "Mayer had measurements of sinang, cosang, and arc, and wished to obtain values for $\\beta_j$, $j=0,1,2$. \n",
    "\n",
    "#### (a) Using the code below, load the data, and explore it. Does there appear to be a linear relationship between arc (the response) and either singang or cosang?"
   ]
  },
  {
   "cell_type": "code",
   "execution_count": 8,
   "metadata": {},
   "outputs": [
    {
     "data": {
      "text/html": [
       "<table>\n",
       "<thead><tr><th scope=col>arc</th><th scope=col>sinang</th><th scope=col>cosang</th><th scope=col>group</th></tr></thead>\n",
       "<tbody>\n",
       "\t<tr><td>13.16667</td><td>0.8836  </td><td>-0.4682 </td><td>1       </td></tr>\n",
       "\t<tr><td>13.13333</td><td>0.9996  </td><td>-0.0282 </td><td>1       </td></tr>\n",
       "\t<tr><td>13.20000</td><td>0.9899  </td><td> 0.1421 </td><td>1       </td></tr>\n",
       "\t<tr><td>14.25000</td><td>0.2221  </td><td> 0.9750 </td><td>3       </td></tr>\n",
       "\t<tr><td>14.70000</td><td>0.0006  </td><td> 1.0000 </td><td>3       </td></tr>\n",
       "\t<tr><td>13.01667</td><td>0.9308  </td><td>-0.3654 </td><td>1       </td></tr>\n",
       "</tbody>\n",
       "</table>\n"
      ],
      "text/latex": [
       "\\begin{tabular}{r|llll}\n",
       " arc & sinang & cosang & group\\\\\n",
       "\\hline\n",
       "\t 13.16667 & 0.8836   & -0.4682  & 1       \\\\\n",
       "\t 13.13333 & 0.9996   & -0.0282  & 1       \\\\\n",
       "\t 13.20000 & 0.9899   &  0.1421  & 1       \\\\\n",
       "\t 14.25000 & 0.2221   &  0.9750  & 3       \\\\\n",
       "\t 14.70000 & 0.0006   &  1.0000  & 3       \\\\\n",
       "\t 13.01667 & 0.9308   & -0.3654  & 1       \\\\\n",
       "\\end{tabular}\n"
      ],
      "text/markdown": [
       "\n",
       "arc | sinang | cosang | group | \n",
       "|---|---|---|---|---|---|\n",
       "| 13.16667 | 0.8836   | -0.4682  | 1        | \n",
       "| 13.13333 | 0.9996   | -0.0282  | 1        | \n",
       "| 13.20000 | 0.9899   |  0.1421  | 1        | \n",
       "| 14.25000 | 0.2221   |  0.9750  | 3        | \n",
       "| 14.70000 | 0.0006   |  1.0000  | 3        | \n",
       "| 13.01667 | 0.9308   | -0.3654  | 1        | \n",
       "\n",
       "\n"
      ],
      "text/plain": [
       "  arc      sinang cosang  group\n",
       "1 13.16667 0.8836 -0.4682 1    \n",
       "2 13.13333 0.9996 -0.0282 1    \n",
       "3 13.20000 0.9899  0.1421 1    \n",
       "4 14.25000 0.2221  0.9750 3    \n",
       "5 14.70000 0.0006  1.0000 3    \n",
       "6 13.01667 0.9308 -0.3654 1    "
      ]
     },
     "metadata": {},
     "output_type": "display_data"
    },
    {
     "data": {
      "text/html": [
       "-0.990552853807783"
      ],
      "text/latex": [
       "-0.990552853807783"
      ],
      "text/markdown": [
       "-0.990552853807783"
      ],
      "text/plain": [
       "[1] -0.9905529"
      ]
     },
     "metadata": {},
     "output_type": "display_data"
    },
    {
     "data": {
      "image/png": "[encoded data removed]",
      "text/plain": [
       "plot without title"
      ]
     },
     "metadata": {},
     "output_type": "display_data"
    }
   ],
   "source": [
    "#install.packages(\"faraway\", dependencies = TRUE)\n",
    "library(faraway)\n",
    "data(manilius)\n",
    "head(manilius)\n",
    "plot(manilius)\n",
    "with(manilius, cor(sinang, arc))"
   ]
  },
  {
   "cell_type": "markdown",
   "metadata": {},
   "source": [
    "#### (b) Perform simple linear regression with arc as the response and sinang as the predictor using the lm() function. Use the summary function to print a summary of the model. Report and interpret the coefficient of determination."
   ]
  },
  {
   "cell_type": "code",
   "execution_count": 12,
   "metadata": {},
   "outputs": [
    {
     "data": {
      "text/plain": [
       "\n",
       "Call:\n",
       "lm(formula = arc ~ sinang, data = manilius)\n",
       "\n",
       "Residuals:\n",
       "     Min       1Q   Median       3Q      Max \n",
       "-0.31850 -0.08576  0.04563  0.10836  0.29629 \n",
       "\n",
       "Coefficients:\n",
       "            Estimate Std. Error t value Pr(>|t|)    \n",
       "(Intercept) 14.59329    0.03105  470.06   <2e-16 ***\n",
       "sinang      -1.51217    0.04187  -36.12   <2e-16 ***\n",
       "---\n",
       "Signif. codes:  0 '***' 0.001 '**' 0.01 '*' 0.05 '.' 0.1 ' ' 1\n",
       "\n",
       "Residual standard error: 0.1555 on 25 degrees of freedom\n",
       "Multiple R-squared:  0.9812,\tAdjusted R-squared:  0.9804 \n",
       "F-statistic:  1304 on 1 and 25 DF,  p-value: < 2.2e-16\n"
      ]
     },
     "metadata": {},
     "output_type": "display_data"
    }
   ],
   "source": [
    "#lmod = lm(response ~ predictor + predictor2 + ..., data = nameofdataframe)\n",
    "lmod = lm(arc ~ sinang, data = manilius) # Fits the model\n",
    "summary(lmod)"
   ]
  },
  {
   "cell_type": "markdown",
   "metadata": {},
   "source": [
    "$R^2 = 0.9804$. This means that roughly 98% of the variability in arc can be explained by sinang."
   ]
  },
  {
   "cell_type": "markdown",
   "metadata": {},
   "source": [
    "#### (c) Compute:\n",
    "\n",
    "1. The hat matrix for the model from scratch (e.g., using functions like model.matrix() to obtain the design matrix $X$, solve() to compute an inverse, %*% for matrix multiplication, and t() for transpose). \n",
    "2. The sum of the diagonals of the hat matrix. \n",
    "3. Then, note that lm.influence(NameOfModel)$hat gives the diagonals of the hat matrix. \n",
    "4. Print the residuals of the model, using resid().\n",
    "5. What is the sum of the residuals? Do you think it will always be that value? If so, can you prove it?\n",
    "\n",
    "Note: Above I had you compute a matrix inverse. In practice, [rarely is it a good idea to compute the inverse of a matrix](https://www.johndcook.com/blog/2010/01/19/dont-invert-that-matrix/)  (it's expensive!). There are fancy ways around inverse computation."
   ]
  },
  {
   "cell_type": "code",
   "execution_count": 14,
   "metadata": {},
   "outputs": [
    {
     "data": {
      "text/html": [
       "2"
      ],
      "text/latex": [
       "2"
      ],
      "text/markdown": [
       "2"
      ],
      "text/plain": [
       "[1] 2"
      ]
     },
     "metadata": {},
     "output_type": "display_data"
    },
    {
     "data": {
      "text/html": [
       "2"
      ],
      "text/latex": [
       "2"
      ],
      "text/markdown": [
       "2"
      ],
      "text/plain": [
       "[1] 2"
      ]
     },
     "metadata": {},
     "output_type": "display_data"
    },
    {
     "name": "stdout",
     "output_type": "stream",
     "text": [
      "           1            2            3            4            5            6 \n",
      "-0.090477374  0.051600435  0.103599101 -0.007441206  0.107614240 -0.169103185 \n",
      "           7            8            9           10           11           12 \n",
      " 0.014405943  0.119297032 -0.134343201 -0.047794699  0.071843636 -0.067459615 \n",
      "          13           14           15           16           17           18 \n",
      " 0.114906987  0.160291248 -0.081037250  0.109113866  0.178541050 -0.318500824 \n",
      "          19           20           21           22           23           24 \n",
      " 0.045627012  0.100074729 -0.181533026 -0.214872629  0.130886538  0.296290810 \n",
      "          25           26           27 \n",
      " 0.093122535 -0.311919771 -0.072732381 \n"
     ]
    },
    {
     "data": {
      "text/html": [
       "-1.62196645003831e-16"
      ],
      "text/latex": [
       "-1.62196645003831e-16"
      ],
      "text/markdown": [
       "-1.62196645003831e-16"
      ],
      "text/plain": [
       "[1] -1.621966e-16"
      ]
     },
     "metadata": {},
     "output_type": "display_data"
    }
   ],
   "source": [
    "# Compute matrix X\n",
    "X = model.matrix(lmod)\n",
    "# Compute Hat Matrix. Recall H = X(X^TX)^-1X^T then sum of the diagonals of hat matrix\n",
    "sum(diag(X %*% solve(t(X) %*% X) %*% t(X)))\n",
    "# Do the same calculation with lm.influence(NameOfModel)$hat\n",
    "sum(lm.influence(lmod)$hat)\n",
    "# Print the residuals\n",
    "print(resid(lmod))\n",
    "# Print the sum of the residuals\n",
    "sum(resid(lmod))"
   ]
  },
  {
   "cell_type": "markdown",
   "metadata": {},
   "source": [
    "#### (d) Interpret the estimates of the parameters in the model."
   ]
  },
  {
   "cell_type": "markdown",
   "metadata": {},
   "source": [
    "Based on the model, arc will change by $-1.512$ for every $1$ unit increase in sinang. The intercept lies at 14.593."
   ]
  },
  {
   "cell_type": "markdown",
   "metadata": {},
   "source": [
    "#### (e) Plot the data and add the SLR line and the mean of the response without considering the predictor (this is just a horizontal line). Choose a single $x$ value, and be able to identify the three deviations discussed in class (explained deviation, residual deviation, and total deviation).\n",
    "\n",
    "Challenge: try doing this plot with ggplot! geom_smooth() and geom_hline() might help."
   ]
  },
  {
   "cell_type": "code",
   "execution_count": 21,
   "metadata": {},
   "outputs": [
    {
     "data": {},
     "metadata": {},
     "output_type": "display_data"
    },
    {
     "data": {
      "image/png": "[encoded data removed]",
      "text/plain": [
       "plot without title"
      ]
     },
     "metadata": {},
     "output_type": "display_data"
    }
   ],
   "source": [
    "library(ggplot2)\n",
    "p = ggplot(data = manilius) + geom_point(mapping = aes(x = sinang, y = arc))\n",
    "p = p + geom_smooth(data = manilius, formula = y ~ x, method = lm, color = '2', aes(x = sinang,y = arc, group = 1), se = TRUE)\n",
    "p = p + geom_hline(mapping = aes(yintercept = mean(arc)))\n",
    "p"
   ]
  },
  {
   "cell_type": "markdown",
   "metadata": {},
   "source": [
    "## Problem #2\n",
    "\n",
    "#### (a) Now perform MLR, adding cosang to the model. Use the summary function to print a summary of the model. "
   ]
  },
  {
   "cell_type": "code",
   "execution_count": 22,
   "metadata": {},
   "outputs": [
    {
     "data": {
      "text/plain": [
       "\n",
       "Call:\n",
       "lm(formula = arc ~ sinang + cosang, data = manilius)\n",
       "\n",
       "Residuals:\n",
       "     Min       1Q   Median       3Q      Max \n",
       "-0.37033 -0.07810  0.03655  0.07960  0.31581 \n",
       "\n",
       "Coefficients:\n",
       "            Estimate Std. Error t value Pr(>|t|)    \n",
       "(Intercept) 14.56162    0.03411 426.846   <2e-16 ***\n",
       "sinang      -1.50458    0.04013 -37.490   <2e-16 ***\n",
       "cosang       0.09137    0.04890   1.868    0.074 .  \n",
       "---\n",
       "Signif. codes:  0 '***' 0.001 '**' 0.01 '*' 0.05 '.' 0.1 ' ' 1\n",
       "\n",
       "Residual standard error: 0.1483 on 24 degrees of freedom\n",
       "Multiple R-squared:  0.9836,\tAdjusted R-squared:  0.9822 \n",
       "F-statistic:   719 on 2 and 24 DF,  p-value: < 2.2e-16\n"
      ]
     },
     "metadata": {},
     "output_type": "display_data"
    }
   ],
   "source": [
    "#lmod = lm(response ~ predictor1 + predictor2, data = nameofdataframe)\n",
    "lmod2 = lm(arc ~ sinang + cosang, data = manilius)\n",
    "summary(lmod2)\n"
   ]
  },
  {
   "cell_type": "markdown",
   "metadata": {},
   "source": [
    "#### (b)  Compute the sum of the diagonals of the hat matrix. Compare it to the sum of the diagonals of the hat matrix in problem #1. Can you hypothesize what the sum of the diagonals of the hat matrix will always be?"
   ]
  },
  {
   "cell_type": "code",
   "execution_count": 24,
   "metadata": {},
   "outputs": [
    {
     "data": {
      "text/html": [
       "3"
      ],
      "text/latex": [
       "3"
      ],
      "text/markdown": [
       "3"
      ],
      "text/plain": [
       "[1] 3"
      ]
     },
     "metadata": {},
     "output_type": "display_data"
    }
   ],
   "source": [
    "sum(lm.influence(lmod2)$hat)"
   ]
  },
  {
   "cell_type": "markdown",
   "metadata": {},
   "source": [
    "It appears that the sum of the diagonals of the hat matrix is always p+1."
   ]
  },
  {
   "cell_type": "markdown",
   "metadata": {},
   "source": [
    "#### (c) Plot the residuals of the model ($y$) against the fitted values ($x$). What do you notice about where they are centered? Does the variability in the residuals change as a function of the fitted values?"
   ]
  },
  {
   "cell_type": "code",
   "execution_count": 26,
   "metadata": {
    "scrolled": false
   },
   "outputs": [
    {
     "data": {
      "image/png": "[encoded data removed]",
      "text/plain": [
       "Plot with title \"\""
      ]
     },
     "metadata": {},
     "output_type": "display_data"
    },
    {
     "data": {
      "image/png": "[encoded data removed]",
      "text/plain": [
       "Plot with title \"\""
      ]
     },
     "metadata": {},
     "output_type": "display_data"
    },
    {
     "data": {
      "image/png": "[encoded data removed]",
      "text/plain": [
       "Plot with title \"\""
      ]
     },
     "metadata": {},
     "output_type": "display_data"
    },
    {
     "data": {
      "image/png": "[encoded data removed]",
      "text/plain": [
       "Plot with title \"\""
      ]
     },
     "metadata": {},
     "output_type": "display_data"
    }
   ],
   "source": [
    "plot(lmod2)"
   ]
  },
  {
   "cell_type": "markdown",
   "metadata": {},
   "source": [
    "The residuals are centered at zero and spread in both positive and negative directions. This makes sense because the expected value of the error is 0, and (if it follows the model) spreads by $\\sigma^2$. However, it does appear that the variance increases as fitted values increase so it might not be a constant variance and involve an issue with the model."
   ]
  },
  {
   "cell_type": "markdown",
   "metadata": {},
   "source": [
    "#### (d) Interpret the estimates of the parameters in the model."
   ]
  },
  {
   "cell_type": "markdown",
   "metadata": {
    "collapsed": true
   },
   "source": [
    "Arc will increase by 0.091 for each unit increase in cosang if sinang stays constant. Arc will decrease by 1.505 for each unit increase in sinang if cosang stays constant."
   ]
  },
  {
   "cell_type": "markdown",
   "metadata": {},
   "source": [
    "#### (e) Add a new predictor to the manilius dataframe: $cosang2 = 2\\times cosang$. Then, run multiple linear regression using all three predictors. Print a summary. Why is the estimate for cosang2 NA? "
   ]
  },
  {
   "cell_type": "code",
   "execution_count": 7,
   "metadata": {},
   "outputs": [
    {
     "data": {
      "text/plain": [
       "\n",
       "Call:\n",
       "lm(formula = arc ~ sinang + cosang + cosang2, data = manilius)\n",
       "\n",
       "Residuals:\n",
       "     Min       1Q   Median       3Q      Max \n",
       "-0.37033 -0.07810  0.03655  0.07960  0.31581 \n",
       "\n",
       "Coefficients: (1 not defined because of singularities)\n",
       "            Estimate Std. Error t value Pr(>|t|)    \n",
       "(Intercept) 14.56162    0.03411 426.846   <2e-16 ***\n",
       "sinang      -1.50458    0.04013 -37.490   <2e-16 ***\n",
       "cosang       0.09137    0.04890   1.868    0.074 .  \n",
       "cosang2           NA         NA      NA       NA    \n",
       "---\n",
       "Signif. codes:  0 '***' 0.001 '**' 0.01 '*' 0.05 '.' 0.1 ' ' 1\n",
       "\n",
       "Residual standard error: 0.1483 on 24 degrees of freedom\n",
       "Multiple R-squared:  0.9836,\tAdjusted R-squared:  0.9822 \n",
       "F-statistic:   719 on 2 and 24 DF,  p-value: < 2.2e-16\n"
      ]
     },
     "metadata": {},
     "output_type": "display_data"
    }
   ],
   "source": [
    "manilius$cosang2 = manilius$cosang * 2\n",
    "lmod3 = lm(arc ~ sinang + cosang + cosang2, data = manilius)\n",
    "summary(lmod3)"
   ]
  },
  {
   "cell_type": "markdown",
   "metadata": {},
   "source": [
    "Cosang2 is NA because it is a constant multiple of cosang, so it is not independent of the other data. "
   ]
  },
  {
   "cell_type": "markdown",
   "metadata": {},
   "source": [
    "#### (f) Add another new predictor to the manilius dataframe: $cosang3 = 2\\times cosang + \\gamma$, where $\\gamma \\sim N(0,10^{-4})$. Then, run multiple linear regression using sinang, cosang, and cosang3 as predictors. Print a summary. What do you notice about the standard error column for cosang and cosang3? "
   ]
  },
  {
   "cell_type": "code",
   "execution_count": 30,
   "metadata": {},
   "outputs": [
    {
     "data": {
      "text/plain": [
       "\n",
       "Call:\n",
       "lm(formula = arc ~ sinang + cosang + cosang3, data = manilius)\n",
       "\n",
       "Residuals:\n",
       "     Min       1Q   Median       3Q      Max \n",
       "-0.35622 -0.08952  0.04200  0.07820  0.30826 \n",
       "\n",
       "Coefficients:\n",
       "              Estimate Std. Error t value Pr(>|t|)    \n",
       "(Intercept)   14.56387    0.03499 416.285   <2e-16 ***\n",
       "sinang        -1.50188    0.04117 -36.476   <2e-16 ***\n",
       "cosang      -240.88503  500.34472  -0.481    0.635    \n",
       "cosang3      120.48611  250.16802   0.482    0.635    \n",
       "---\n",
       "Signif. codes:  0 '***' 0.001 '**' 0.01 '*' 0.05 '.' 0.1 ' ' 1\n",
       "\n",
       "Residual standard error: 0.1507 on 23 degrees of freedom\n",
       "Multiple R-squared:  0.9837,\tAdjusted R-squared:  0.9816 \n",
       "F-statistic:   464 on 3 and 23 DF,  p-value: < 2.2e-16\n"
      ]
     },
     "metadata": {},
     "output_type": "display_data"
    }
   ],
   "source": [
    "manilius$cosang3 = manilius$cosang*2 + rnorm(length(manilius$cosang), 0, 0.0001)\n",
    "lmod4 = lm(arc ~ sinang + cosang + cosang3, data = manilius)\n",
    "summary(lmod4)"
   ]
  },
  {
   "cell_type": "markdown",
   "metadata": {
    "collapsed": true
   },
   "source": [
    "The standard errors for cosang and cosang3 are very high. This means that there is likely something in the model that is very correlated with it, in this case with each other. We want our features to have a little correlation as possible to best interpret the data."
   ]
  }
 ],
 "metadata": {
  "kernelspec": {
   "display_name": "R",
   "language": "R",
   "name": "ir"
  },
  "language_info": {
   "codemirror_mode": "r",
   "file_extension": ".r",
   "mimetype": "text/x-r-source",
   "name": "R",
   "pygments_lexer": "r",
   "version": "3.4.3"
  }
 },
 "nbformat": 4,
 "nbformat_minor": 2
}
