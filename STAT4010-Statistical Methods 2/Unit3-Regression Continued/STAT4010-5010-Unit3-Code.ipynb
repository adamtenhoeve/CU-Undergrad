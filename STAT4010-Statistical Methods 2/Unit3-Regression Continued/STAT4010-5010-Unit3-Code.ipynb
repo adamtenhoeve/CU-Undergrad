{
 "cells": [
  {
   "cell_type": "markdown",
   "metadata": {},
   "source": [
    "# Unit #3 Code: Regression Inference, Prediction, and Explanation\n",
    "\n",
    "In this code, we will implement and apply inference concepts that we learned about in Unit #3."
   ]
  },
  {
   "cell_type": "markdown",
   "metadata": {},
   "source": [
    "Name: Adam Ten Hoeve"
   ]
  },
  {
   "cell_type": "markdown",
   "metadata": {},
   "source": [
    "## Problem #1\n",
    "\n",
    "Let's take a look at the some [weather data](https://www.kaggle.com/budincsevity/szeged-weather/home). Our goal will be to think about prediction and explanation with respect to this data. But, this is a (somewhat) large dataset, and along the way, I'll ask you to clean and subset the data (these are important skills for data scientists).\n",
    "\n",
    "Here's a call to load the data:"
   ]
  },
  {
   "cell_type": "code",
   "execution_count": 1,
   "metadata": {},
   "outputs": [],
   "source": [
    "weather = read.csv(\"https://www.colorado.edu/amath/sites/default/files/attached-files/weatherhistory.txt\", sep = \"\\t\")"
   ]
  },
  {
   "cell_type": "markdown",
   "metadata": {},
   "source": [
    "#### (a) Print out the column names for this dataset. Our goal is to see how humidity does in predicting apparent temperature, while adjusting for some other variables. Construct a new dataframe with the date, temperature, apparent temperature, humidity, and windspeed. Also, since the names are a bit ugly, change them to:\n",
    "\n",
    "\"date\", \"temp\", \"atemp\", \"humid\", \"wspeed\""
   ]
  },
  {
   "cell_type": "code",
   "execution_count": 2,
   "metadata": {},
   "outputs": [
    {
     "data": {
      "text/html": [
       "<ol class=list-inline>\n",
       "\t<li>'Formatted.Date'</li>\n",
       "\t<li>'Summary'</li>\n",
       "\t<li>'Precip.Type'</li>\n",
       "\t<li>'Temperature..C.'</li>\n",
       "\t<li>'Apparent.Temperature..C.'</li>\n",
       "\t<li>'Humidity'</li>\n",
       "\t<li>'Wind.Speed..km.h.'</li>\n",
       "\t<li>'Wind.Bearing..degrees.'</li>\n",
       "\t<li>'Visibility..km.'</li>\n",
       "\t<li>'Loud.Cover'</li>\n",
       "\t<li>'Pressure..millibars.'</li>\n",
       "\t<li>'Daily.Summary'</li>\n",
       "</ol>\n"
      ],
      "text/latex": [
       "\\begin{enumerate*}\n",
       "\\item 'Formatted.Date'\n",
       "\\item 'Summary'\n",
       "\\item 'Precip.Type'\n",
       "\\item 'Temperature..C.'\n",
       "\\item 'Apparent.Temperature..C.'\n",
       "\\item 'Humidity'\n",
       "\\item 'Wind.Speed..km.h.'\n",
       "\\item 'Wind.Bearing..degrees.'\n",
       "\\item 'Visibility..km.'\n",
       "\\item 'Loud.Cover'\n",
       "\\item 'Pressure..millibars.'\n",
       "\\item 'Daily.Summary'\n",
       "\\end{enumerate*}\n"
      ],
      "text/markdown": [
       "1. 'Formatted.Date'\n",
       "2. 'Summary'\n",
       "3. 'Precip.Type'\n",
       "4. 'Temperature..C.'\n",
       "5. 'Apparent.Temperature..C.'\n",
       "6. 'Humidity'\n",
       "7. 'Wind.Speed..km.h.'\n",
       "8. 'Wind.Bearing..degrees.'\n",
       "9. 'Visibility..km.'\n",
       "10. 'Loud.Cover'\n",
       "11. 'Pressure..millibars.'\n",
       "12. 'Daily.Summary'\n",
       "\n",
       "\n"
      ],
      "text/plain": [
       " [1] \"Formatted.Date\"           \"Summary\"                 \n",
       " [3] \"Precip.Type\"              \"Temperature..C.\"         \n",
       " [5] \"Apparent.Temperature..C.\" \"Humidity\"                \n",
       " [7] \"Wind.Speed..km.h.\"        \"Wind.Bearing..degrees.\"  \n",
       " [9] \"Visibility..km.\"          \"Loud.Cover\"              \n",
       "[11] \"Pressure..millibars.\"     \"Daily.Summary\"           "
      ]
     },
     "metadata": {},
     "output_type": "display_data"
    }
   ],
   "source": [
    "colnames(weather)"
   ]
  },
  {
   "cell_type": "code",
   "execution_count": 3,
   "metadata": {},
   "outputs": [
    {
     "name": "stderr",
     "output_type": "stream",
     "text": [
      "-- Attaching packages --------------------------------------- tidyverse 1.2.1 --\n",
      "v ggplot2 2.2.1     v purrr   0.2.4\n",
      "v tibble  1.4.1     v dplyr   0.7.4\n",
      "v tidyr   0.7.2     v stringr 1.2.0\n",
      "v readr   1.1.1     v forcats 0.2.0\n",
      "-- Conflicts ------------------------------------------ tidyverse_conflicts() --\n",
      "x dplyr::filter() masks stats::filter()\n",
      "x dplyr::lag()    masks stats::lag()\n"
     ]
    },
    {
     "data": {
      "text/html": [
       "<table>\n",
       "<thead><tr><th scope=col>date</th><th scope=col>temp</th><th scope=col>atemp</th><th scope=col>humid</th><th scope=col>wspeed</th></tr></thead>\n",
       "<tbody>\n",
       "\t<tr><td>2006-04-01 00:00:00.000 +0200</td><td>9.472222                     </td><td>7.388889                     </td><td>0.89                         </td><td>14.1197                      </td></tr>\n",
       "\t<tr><td>2006-04-01 01:00:00.000 +0200</td><td>9.355556                     </td><td>7.227778                     </td><td>0.86                         </td><td>14.2646                      </td></tr>\n",
       "\t<tr><td>2006-04-01 02:00:00.000 +0200</td><td>9.377778                     </td><td>9.377778                     </td><td>0.89                         </td><td> 3.9284                      </td></tr>\n",
       "\t<tr><td>2006-04-01 03:00:00.000 +0200</td><td>8.288889                     </td><td>5.944444                     </td><td>0.83                         </td><td>14.1036                      </td></tr>\n",
       "\t<tr><td>2006-04-01 04:00:00.000 +0200</td><td>8.755556                     </td><td>6.977778                     </td><td>0.83                         </td><td>11.0446                      </td></tr>\n",
       "\t<tr><td>2006-04-01 05:00:00.000 +0200</td><td>9.222222                     </td><td>7.111111                     </td><td>0.85                         </td><td>13.9587                      </td></tr>\n",
       "</tbody>\n",
       "</table>\n"
      ],
      "text/latex": [
       "\\begin{tabular}{r|lllll}\n",
       " date & temp & atemp & humid & wspeed\\\\\n",
       "\\hline\n",
       "\t 2006-04-01 00:00:00.000 +0200 & 9.472222                      & 7.388889                      & 0.89                          & 14.1197                      \\\\\n",
       "\t 2006-04-01 01:00:00.000 +0200 & 9.355556                      & 7.227778                      & 0.86                          & 14.2646                      \\\\\n",
       "\t 2006-04-01 02:00:00.000 +0200 & 9.377778                      & 9.377778                      & 0.89                          &  3.9284                      \\\\\n",
       "\t 2006-04-01 03:00:00.000 +0200 & 8.288889                      & 5.944444                      & 0.83                          & 14.1036                      \\\\\n",
       "\t 2006-04-01 04:00:00.000 +0200 & 8.755556                      & 6.977778                      & 0.83                          & 11.0446                      \\\\\n",
       "\t 2006-04-01 05:00:00.000 +0200 & 9.222222                      & 7.111111                      & 0.85                          & 13.9587                      \\\\\n",
       "\\end{tabular}\n"
      ],
      "text/markdown": [
       "\n",
       "date | temp | atemp | humid | wspeed | \n",
       "|---|---|---|---|---|---|\n",
       "| 2006-04-01 00:00:00.000 +0200 | 9.472222                      | 7.388889                      | 0.89                          | 14.1197                       | \n",
       "| 2006-04-01 01:00:00.000 +0200 | 9.355556                      | 7.227778                      | 0.86                          | 14.2646                       | \n",
       "| 2006-04-01 02:00:00.000 +0200 | 9.377778                      | 9.377778                      | 0.89                          |  3.9284                       | \n",
       "| 2006-04-01 03:00:00.000 +0200 | 8.288889                      | 5.944444                      | 0.83                          | 14.1036                       | \n",
       "| 2006-04-01 04:00:00.000 +0200 | 8.755556                      | 6.977778                      | 0.83                          | 11.0446                       | \n",
       "| 2006-04-01 05:00:00.000 +0200 | 9.222222                      | 7.111111                      | 0.85                          | 13.9587                       | \n",
       "\n",
       "\n"
      ],
      "text/plain": [
       "  date                          temp     atemp    humid wspeed \n",
       "1 2006-04-01 00:00:00.000 +0200 9.472222 7.388889 0.89  14.1197\n",
       "2 2006-04-01 01:00:00.000 +0200 9.355556 7.227778 0.86  14.2646\n",
       "3 2006-04-01 02:00:00.000 +0200 9.377778 9.377778 0.89   3.9284\n",
       "4 2006-04-01 03:00:00.000 +0200 8.288889 5.944444 0.83  14.1036\n",
       "5 2006-04-01 04:00:00.000 +0200 8.755556 6.977778 0.83  11.0446\n",
       "6 2006-04-01 05:00:00.000 +0200 9.222222 7.111111 0.85  13.9587"
      ]
     },
     "metadata": {},
     "output_type": "display_data"
    }
   ],
   "source": [
    "library(tidyverse)\n",
    "weather2 = select(weather, Formatted.Date, Temperature..C., Apparent.Temperature..C., Humidity, Wind.Speed..km.h.)\n",
    "colnames(weather2) = c(\"date\", \"temp\", \"atemp\", \"humid\", \"wspeed\")\n",
    "head(weather2)"
   ]
  },
  {
   "cell_type": "markdown",
   "metadata": {},
   "source": [
    "#### (b) Split the data into a training and testing set (as in previous assignments). Fit a linear model where atemp is the response and humid wspeed are predictors. Print the lm() summary."
   ]
  },
  {
   "cell_type": "code",
   "execution_count": 4,
   "metadata": {},
   "outputs": [],
   "source": [
    "# Set the seed for random numbers\n",
    "set.seed(99)\n",
    "# Sample size is 80% of the number of rows\n",
    "sampleSize = floor(0.8 * nrow(weather2))\n",
    "# Get random row indexes from the data set\n",
    "randIndexes = sample(seq_len(nrow(weather2)), size = sampleSize)\n",
    "# Create training set from rows with the random indexes. Make test set everything else.\n",
    "training = weather2[randIndexes, ]\n",
    "test = weather2[-randIndexes, ]"
   ]
  },
  {
   "cell_type": "code",
   "execution_count": 18,
   "metadata": {},
   "outputs": [
    {
     "data": {
      "text/plain": [
       "\n",
       "Call:\n",
       "lm(formula = atemp ~ humid + wspeed, data = training)\n",
       "\n",
       "Residuals:\n",
       "    Min      1Q  Median      3Q     Max \n",
       "-61.440  -5.639   0.641   6.272  22.400 \n",
       "\n",
       "Coefficients:\n",
       "              Estimate Std. Error t value Pr(>|t|)    \n",
       "(Intercept)  40.344304   0.137448  293.52   <2e-16 ***\n",
       "humid       -35.541539   0.156623 -226.92   <2e-16 ***\n",
       "wspeed       -0.313168   0.004424  -70.79   <2e-16 ***\n",
       "---\n",
       "Signif. codes:  0 '***' 0.001 '**' 0.01 '*' 0.05 '.' 0.1 ' ' 1\n",
       "\n",
       "Residual standard error: 8.28 on 77159 degrees of freedom\n",
       "Multiple R-squared:  0.4022,\tAdjusted R-squared:  0.4022 \n",
       "F-statistic: 2.596e+04 on 2 and 77159 DF,  p-value: < 2.2e-16\n"
      ]
     },
     "metadata": {},
     "output_type": "display_data"
    }
   ],
   "source": [
    "# Fit a MLR model to training data\n",
    "lmod = lm(atemp ~ humid + wspeed, data = training)\n",
    "summary(lmod)"
   ]
  },
  {
   "cell_type": "markdown",
   "metadata": {},
   "source": [
    "#### (c) Compute the standard error, t-value, and p-value explicitly and make sure that they match the summary above."
   ]
  },
  {
   "cell_type": "code",
   "execution_count": 6,
   "metadata": {},
   "outputs": [],
   "source": [
    "modelsummary = summary(lmod)\n",
    "betaHumidHat = modelsummary$coefficients[\"humid\", \"Estimate\"]\n",
    "betaWSpeedHat = modelsummary$coefficients[\"wspeed\", \"Estimate\"]\n",
    "betaInterHat = modelsummary$coefficients[\"(Intercept)\", \"Estimate\"]"
   ]
  },
  {
   "cell_type": "code",
   "execution_count": 7,
   "metadata": {},
   "outputs": [
    {
     "name": "stdout",
     "output_type": "stream",
     "text": [
      "standard error: 0.1374476 \n",
      "t-value: 293.5251 \n",
      "p-value: 0 \n"
     ]
    }
   ],
   "source": [
    "# calculate the estimate of variance. sigmaHat^2 = sum(y_i - ybar)^2 / [n - (p+1)]\n",
    "sigmaHat = sum((resid(lmod))^2) / (nrow(training) - 3)\n",
    "# calulate standard error for intercept. s.e(B_j) = sqrt(var(B_j)) = sqrt(sigmaHat^2 * [(X^T*X)^-1]_jj)\n",
    "X = matrix(c(rep(1, times = nrow(training)), training$humid, training$wspeed), ncol = 3, nrow = nrow(training))\n",
    "seInter = sqrt(sigmaHat * (solve(t(X) %*% X)[1,1]))\n",
    "cat(\"standard error:\", seInter, \"\\n\")\n",
    "# calculate the t-value for intercept. t = (bHat_j - b_j) / seHumid\n",
    "tInter = betaInterHat / seInter\n",
    "cat(\"t-value:\", tInter, \"\\n\")\n",
    "# calculate the p-vaue for intercept.\n",
    "pInter = 2 * pt(-abs(tInter), df = nrow(training) - ncol(training))\n",
    "cat(\"p-value:\", pInter, \"\\n\")"
   ]
  },
  {
   "cell_type": "code",
   "execution_count": 8,
   "metadata": {},
   "outputs": [
    {
     "name": "stdout",
     "output_type": "stream",
     "text": [
      "standard error: 0.156623 \n",
      "t-value: -226.9241 \n",
      "t-value: 0 \n"
     ]
    }
   ],
   "source": [
    "# Repeat above with humidity.\n",
    "# Calculate standard error\n",
    "seHumid = sqrt(sigmaHat * (solve(t(X) %*% X)[2,2]))\n",
    "cat(\"standard error:\", seHumid, \"\\n\")\n",
    "# calculate the t-value for humidity. t = (bHat_j - b_j) / seHumid\n",
    "tHumid = betaHumidHat / seHumid\n",
    "cat(\"t-value:\", tHumid, \"\\n\")\n",
    "# calculate the p-vaue for humidity\n",
    "pHumid = 2 * pt(-abs(tHumid), df = nrow(training) - ncol(training))\n",
    "cat(\"t-value:\", pHumid, \"\\n\")"
   ]
  },
  {
   "cell_type": "code",
   "execution_count": 9,
   "metadata": {},
   "outputs": [
    {
     "name": "stdout",
     "output_type": "stream",
     "text": [
      "standard error: 0.004424065 \n",
      "t-value: -70.7873 \n"
     ]
    },
    {
     "name": "stderr",
     "output_type": "stream",
     "text": [
      "Warning message in Ops.factor(left, right):\n",
      "\"'-' not meaningful for factors\""
     ]
    },
    {
     "name": "stdout",
     "output_type": "stream",
     "text": [
      "t-value: 0 \n"
     ]
    }
   ],
   "source": [
    "# Repeat above with wspeed\n",
    "seWSpeed = sqrt(sigmaHat * solve(t(X) %*% X)[3,3])\n",
    "cat(\"standard error:\", seWSpeed, \"\\n\")\n",
    "# calc t-val\n",
    "tWSpeed = betaWSpeedHat / seWSpeed\n",
    "cat(\"t-value:\", tWSpeed, \"\\n\")\n",
    "# calc p-val\n",
    "pWSpeed = 2 * pt(-abs(tWSpeed), df = nrow(training - ncol(training)))\n",
    "cat(\"t-value:\", pWSpeed, \"\\n\")"
   ]
  },
  {
   "cell_type": "markdown",
   "metadata": {},
   "source": [
    "From the calculations above we see that the all of our personal calculations are the same as the calculations from the summary."
   ]
  },
  {
   "cell_type": "markdown",
   "metadata": {},
   "source": [
    "#### (d) Construct 90% confidence intervals for each MLR parameter."
   ]
  },
  {
   "cell_type": "code",
   "execution_count": 19,
   "metadata": {},
   "outputs": [
    {
     "data": {
      "text/html": [
       "<table>\n",
       "<thead><tr><th></th><th scope=col>5 %</th><th scope=col>95 %</th></tr></thead>\n",
       "<tbody>\n",
       "\t<tr><th scope=row>(Intercept)</th><td> 40.1182200</td><td> 40.5703877</td></tr>\n",
       "\t<tr><th scope=row>humid</th><td>-35.7991645</td><td>-35.2839145</td></tr>\n",
       "\t<tr><th scope=row>wspeed</th><td> -0.3204447</td><td> -0.3058906</td></tr>\n",
       "</tbody>\n",
       "</table>\n"
      ],
      "text/latex": [
       "\\begin{tabular}{r|ll}\n",
       "  & 5 \\% & 95 \\%\\\\\n",
       "\\hline\n",
       "\t(Intercept) &  40.1182200 &  40.5703877\\\\\n",
       "\thumid & -35.7991645 & -35.2839145\\\\\n",
       "\twspeed &  -0.3204447 &  -0.3058906\\\\\n",
       "\\end{tabular}\n"
      ],
      "text/markdown": [
       "\n",
       "| <!--/--> | 5 % | 95 % | \n",
       "|---|---|---|\n",
       "| (Intercept) |  40.1182200 |  40.5703877 | \n",
       "| humid | -35.7991645 | -35.2839145 | \n",
       "| wspeed |  -0.3204447 |  -0.3058906 | \n",
       "\n",
       "\n"
      ],
      "text/plain": [
       "            5 %         95 %       \n",
       "(Intercept)  40.1182200  40.5703877\n",
       "humid       -35.7991645 -35.2839145\n",
       "wspeed       -0.3204447  -0.3058906"
      ]
     },
     "metadata": {},
     "output_type": "display_data"
    }
   ],
   "source": [
    "confint(lmod, level = 0.9)"
   ]
  },
  {
   "cell_type": "markdown",
   "metadata": {},
   "source": [
    "#### (e) Conduct an F-test to compare the full model above with the SLR model containing only humidity. What other test is this F-test equivalent to?"
   ]
  },
  {
   "cell_type": "code",
   "execution_count": 11,
   "metadata": {},
   "outputs": [
    {
     "data": {
      "text/html": [
       "<table>\n",
       "<thead><tr><th scope=col>Res.Df</th><th scope=col>RSS</th><th scope=col>Df</th><th scope=col>Sum of Sq</th><th scope=col>F</th><th scope=col>Pr(&gt;F)</th></tr></thead>\n",
       "<tbody>\n",
       "\t<tr><td>77160   </td><td>5633309 </td><td>NA      </td><td>      NA</td><td>      NA</td><td>NA      </td></tr>\n",
       "\t<tr><td>77159   </td><td>5289781 </td><td> 1      </td><td>343527.8</td><td>5010.842</td><td> 0      </td></tr>\n",
       "</tbody>\n",
       "</table>\n"
      ],
      "text/latex": [
       "\\begin{tabular}{r|llllll}\n",
       " Res.Df & RSS & Df & Sum of Sq & F & Pr(>F)\\\\\n",
       "\\hline\n",
       "\t 77160    & 5633309  & NA       &       NA &       NA & NA      \\\\\n",
       "\t 77159    & 5289781  &  1       & 343527.8 & 5010.842 &  0      \\\\\n",
       "\\end{tabular}\n"
      ],
      "text/markdown": [
       "\n",
       "Res.Df | RSS | Df | Sum of Sq | F | Pr(>F) | \n",
       "|---|---|\n",
       "| 77160    | 5633309  | NA       |       NA |       NA | NA       | \n",
       "| 77159    | 5289781  |  1       | 343527.8 | 5010.842 |  0       | \n",
       "\n",
       "\n"
      ],
      "text/plain": [
       "  Res.Df RSS     Df Sum of Sq F        Pr(>F)\n",
       "1 77160  5633309 NA       NA        NA NA    \n",
       "2 77159  5289781  1 343527.8  5010.842  0    "
      ]
     },
     "metadata": {},
     "output_type": "display_data"
    }
   ],
   "source": [
    "anova(lm(atemp ~ humid, data = training), lm(atemp ~ humid + wspeed, data = training))"
   ]
  },
  {
   "cell_type": "markdown",
   "metadata": {
    "collapsed": true
   },
   "source": [
    "Because the p-value of the anova test is very small, we reject the null hypothesis and assert that the SLR model is not sufficient to model the data, therefore we should use the MLR model. Notice that the F-test is equivalent to an anova test, which tests whether the means of the two (or more, if applicable) models are the same."
   ]
  },
  {
   "cell_type": "markdown",
   "metadata": {},
   "source": [
    "#### (f) Randomly choose five values from the training set, and use those humidity and windspeed values to predict apparent temperature. Be sure to provide and interpret prediction intervals. "
   ]
  },
  {
   "cell_type": "code",
   "execution_count": 12,
   "metadata": {},
   "outputs": [
    {
     "data": {
      "text/html": [
       "<table>\n",
       "<thead><tr><th></th><th scope=col>fit</th><th scope=col>lwr</th><th scope=col>upr</th></tr></thead>\n",
       "<tbody>\n",
       "\t<tr><th scope=row>78635</th><td>16.457862  </td><td>  0.2290944</td><td>32.68663   </td></tr>\n",
       "\t<tr><th scope=row>3925</th><td>27.128206  </td><td> 10.8988718</td><td>43.35754   </td></tr>\n",
       "\t<tr><th scope=row>17743</th><td> 5.052116  </td><td>-11.1767361</td><td>21.28097   </td></tr>\n",
       "\t<tr><th scope=row>84472</th><td> 8.721142  </td><td> -7.5085055</td><td>24.95079   </td></tr>\n",
       "\t<tr><th scope=row>95101</th><td>14.532365  </td><td> -1.6964092</td><td>30.76114   </td></tr>\n",
       "</tbody>\n",
       "</table>\n"
      ],
      "text/latex": [
       "\\begin{tabular}{r|lll}\n",
       "  & fit & lwr & upr\\\\\n",
       "\\hline\n",
       "\t78635 & 16.457862   &   0.2290944 & 32.68663   \\\\\n",
       "\t3925 & 27.128206   &  10.8988718 & 43.35754   \\\\\n",
       "\t17743 &  5.052116   & -11.1767361 & 21.28097   \\\\\n",
       "\t84472 &  8.721142   &  -7.5085055 & 24.95079   \\\\\n",
       "\t95101 & 14.532365   &  -1.6964092 & 30.76114   \\\\\n",
       "\\end{tabular}\n"
      ],
      "text/markdown": [
       "\n",
       "| <!--/--> | fit | lwr | upr | \n",
       "|---|---|---|---|---|\n",
       "| 78635 | 16.457862   |   0.2290944 | 32.68663    | \n",
       "| 3925 | 27.128206   |  10.8988718 | 43.35754    | \n",
       "| 17743 |  5.052116   | -11.1767361 | 21.28097    | \n",
       "| 84472 |  8.721142   |  -7.5085055 | 24.95079    | \n",
       "| 95101 | 14.532365   |  -1.6964092 | 30.76114    | \n",
       "\n",
       "\n"
      ],
      "text/plain": [
       "      fit       lwr         upr     \n",
       "78635 16.457862   0.2290944 32.68663\n",
       "3925  27.128206  10.8988718 43.35754\n",
       "17743  5.052116 -11.1767361 21.28097\n",
       "84472  8.721142  -7.5085055 24.95079\n",
       "95101 14.532365  -1.6964092 30.76114"
      ]
     },
     "metadata": {},
     "output_type": "display_data"
    }
   ],
   "source": [
    "set.seed(99)\n",
    "randIndexes = sample(x = seq_len(nrow(training)), size = 5)\n",
    "randSamples = training[randIndexes, ]\n",
    "predict(lmod, newdata = randSamples, interval = \"prediction\")"
   ]
  },
  {
   "cell_type": "markdown",
   "metadata": {},
   "source": [
    "The prediction intervals mean that 95% of the time, the actual y-value will fall within the predicted interval. In this case, the range of intervals is $\\sim 30$."
   ]
  },
  {
   "cell_type": "markdown",
   "metadata": {},
   "source": [
    "#### (g) Compute the predicted MSE for all values in the training set using both the MLR and SLR models above. Which performs better?"
   ]
  },
  {
   "cell_type": "code",
   "execution_count": 13,
   "metadata": {},
   "outputs": [
    {
     "data": {
      "text/html": [
       "73.0062581077116"
      ],
      "text/latex": [
       "73.0062581077116"
      ],
      "text/markdown": [
       "73.0062581077116"
      ],
      "text/plain": [
       "[1] 73.00626"
      ]
     },
     "metadata": {},
     "output_type": "display_data"
    },
    {
     "data": {
      "text/html": [
       "68.5542252412104"
      ],
      "text/latex": [
       "68.5542252412104"
      ],
      "text/markdown": [
       "68.5542252412104"
      ],
      "text/plain": [
       "[1] 68.55423"
      ]
     },
     "metadata": {},
     "output_type": "display_data"
    }
   ],
   "source": [
    "# Get the predicted values for both SLR and MLR for all values in the training set\n",
    "predsSLR = predict(lm(atemp ~ humid, data = training), newdata = training)\n",
    "predsMLR = predict(lmod, newdata = training)\n",
    "# Calculte the MSE for both sets of predicitions\n",
    "MSESLR = mean((training[,3] - predsSLR)^2)\n",
    "MSESLR\n",
    "MSEMLR = mean((training[,3] - predsMLR)^2)\n",
    "MSEMLR"
   ]
  },
  {
   "cell_type": "markdown",
   "metadata": {},
   "source": [
    "The MSE for the SLR model is 73.006 and the MSE for the MLR model is 68.554. This means that our MLR model does perform better (in terms of smaller residuals) than the SLR model and is a better fit for the variance in the data."
   ]
  },
  {
   "cell_type": "markdown",
   "metadata": {},
   "source": [
    "#### (h) Describe some difficulties in using the MLR model for explanation for this dataset. Can we infer causality (e.g., that changes in windspeed and humidity cause changes in apparent temperature)? If so, why? If not, what might we need to do to infer causality?"
   ]
  },
  {
   "cell_type": "markdown",
   "metadata": {},
   "source": [
    "One difficulty with the model is that it doesn't take into account all of the possible predictors that affect the apparent temperature. I.e. there are more than just windspeed and humidity that affects the apparent temperature. Another issue is that this is an observational study, meaning that the data is occuring and nothing is being controlled for. It's usually easier to infer causality from experiments where variables can be more controlled."
   ]
  },
  {
   "cell_type": "markdown",
   "metadata": {},
   "source": [
    "## Problem #2\n",
    "\n",
    "The PlantGrowth data contains results from an experiment to compare yields (as measured by dried weight of plants) obtained under a control and two different treatment conditions. \n",
    "\n",
    "#### (a) Load the data into R and construct a boxplot of weight for each group (the control, treatment 1, and treatment 2). What do you notice about the distribution of weight across these three groups?"
   ]
  },
  {
   "cell_type": "code",
   "execution_count": 14,
   "metadata": {},
   "outputs": [
    {
     "data": {
      "image/png": "[encoded data removed]",
      "text/plain": [
       "plot without title"
      ]
     },
     "metadata": {},
     "output_type": "display_data"
    }
   ],
   "source": [
    "data(PlantGrowth)\n",
    "plot(weight ~ group, data = PlantGrowth)"
   ]
  },
  {
   "cell_type": "markdown",
   "metadata": {
    "collapsed": true
   },
   "source": [
    "From the plot, we can tell that the first treatment, on average, created plants that weighed less than the control but had a wider range of resulting weights. The second treatment, on average, produced plants that weighed more than the average with a smaller range of resulting weights. "
   ]
  },
  {
   "cell_type": "markdown",
   "metadata": {},
   "source": [
    "#### (b) Perform a regression that uses weight as the response and group as the predictor. Print the summary. Notice that the result is actually *multiple* linear regression, not simple linear regression. The model being used here is:\n",
    "\n",
    "\\begin{align*}\n",
    "Y_i = \\beta_0 + \\beta_1 X_{i,1} + \\beta_2 X_{i,2} + \\varepsilon_i\n",
    "\\end{align*}\n",
    "\n",
    "where \n",
    "\n",
    "1. $X_{i,1} = 1$ if the $i^{th}$ plant is in the first treatment group and zero otherwise.\n",
    "2.  $X_{i,2} = 1$ if the $i^{th}$ plant is in the second treatment group and zero otherwise.\n",
    "\n",
    "Notice that, if $X_{i,1} = 1$ and $X_{i,2} = 1$ are both zero, then the $i^{th}$ plant is in the control group.\n",
    "\n",
    "#### Print out the design matrix to confirm that this is the model being used."
   ]
  },
  {
   "cell_type": "code",
   "execution_count": 15,
   "metadata": {},
   "outputs": [
    {
     "data": {
      "text/plain": [
       "\n",
       "Call:\n",
       "lm(formula = weight ~ group, data = PlantGrowth)\n",
       "\n",
       "Residuals:\n",
       "    Min      1Q  Median      3Q     Max \n",
       "-1.0710 -0.4180 -0.0060  0.2627  1.3690 \n",
       "\n",
       "Coefficients:\n",
       "            Estimate Std. Error t value Pr(>|t|)    \n",
       "(Intercept)   5.0320     0.1971  25.527   <2e-16 ***\n",
       "grouptrt1    -0.3710     0.2788  -1.331   0.1944    \n",
       "grouptrt2     0.4940     0.2788   1.772   0.0877 .  \n",
       "---\n",
       "Signif. codes:  0 '***' 0.001 '**' 0.01 '*' 0.05 '.' 0.1 ' ' 1\n",
       "\n",
       "Residual standard error: 0.6234 on 27 degrees of freedom\n",
       "Multiple R-squared:  0.2641,\tAdjusted R-squared:  0.2096 \n",
       "F-statistic: 4.846 on 2 and 27 DF,  p-value: 0.01591\n"
      ]
     },
     "metadata": {},
     "output_type": "display_data"
    },
    {
     "data": {
      "text/html": [
       "<table>\n",
       "<thead><tr><th></th><th scope=col>(Intercept)</th><th scope=col>grouptrt1</th><th scope=col>grouptrt2</th></tr></thead>\n",
       "<tbody>\n",
       "\t<tr><th scope=row>1</th><td>1</td><td>0</td><td>0</td></tr>\n",
       "\t<tr><th scope=row>2</th><td>1</td><td>0</td><td>0</td></tr>\n",
       "\t<tr><th scope=row>3</th><td>1</td><td>0</td><td>0</td></tr>\n",
       "\t<tr><th scope=row>4</th><td>1</td><td>0</td><td>0</td></tr>\n",
       "\t<tr><th scope=row>5</th><td>1</td><td>0</td><td>0</td></tr>\n",
       "\t<tr><th scope=row>6</th><td>1</td><td>0</td><td>0</td></tr>\n",
       "\t<tr><th scope=row>7</th><td>1</td><td>0</td><td>0</td></tr>\n",
       "\t<tr><th scope=row>8</th><td>1</td><td>0</td><td>0</td></tr>\n",
       "\t<tr><th scope=row>9</th><td>1</td><td>0</td><td>0</td></tr>\n",
       "\t<tr><th scope=row>10</th><td>1</td><td>0</td><td>0</td></tr>\n",
       "\t<tr><th scope=row>11</th><td>1</td><td>1</td><td>0</td></tr>\n",
       "\t<tr><th scope=row>12</th><td>1</td><td>1</td><td>0</td></tr>\n",
       "\t<tr><th scope=row>13</th><td>1</td><td>1</td><td>0</td></tr>\n",
       "\t<tr><th scope=row>14</th><td>1</td><td>1</td><td>0</td></tr>\n",
       "\t<tr><th scope=row>15</th><td>1</td><td>1</td><td>0</td></tr>\n",
       "\t<tr><th scope=row>16</th><td>1</td><td>1</td><td>0</td></tr>\n",
       "\t<tr><th scope=row>17</th><td>1</td><td>1</td><td>0</td></tr>\n",
       "\t<tr><th scope=row>18</th><td>1</td><td>1</td><td>0</td></tr>\n",
       "\t<tr><th scope=row>19</th><td>1</td><td>1</td><td>0</td></tr>\n",
       "\t<tr><th scope=row>20</th><td>1</td><td>1</td><td>0</td></tr>\n",
       "\t<tr><th scope=row>21</th><td>1</td><td>0</td><td>1</td></tr>\n",
       "\t<tr><th scope=row>22</th><td>1</td><td>0</td><td>1</td></tr>\n",
       "\t<tr><th scope=row>23</th><td>1</td><td>0</td><td>1</td></tr>\n",
       "\t<tr><th scope=row>24</th><td>1</td><td>0</td><td>1</td></tr>\n",
       "\t<tr><th scope=row>25</th><td>1</td><td>0</td><td>1</td></tr>\n",
       "\t<tr><th scope=row>26</th><td>1</td><td>0</td><td>1</td></tr>\n",
       "\t<tr><th scope=row>27</th><td>1</td><td>0</td><td>1</td></tr>\n",
       "\t<tr><th scope=row>28</th><td>1</td><td>0</td><td>1</td></tr>\n",
       "\t<tr><th scope=row>29</th><td>1</td><td>0</td><td>1</td></tr>\n",
       "\t<tr><th scope=row>30</th><td>1</td><td>0</td><td>1</td></tr>\n",
       "</tbody>\n",
       "</table>\n"
      ],
      "text/latex": [
       "\\begin{tabular}{r|lll}\n",
       "  & (Intercept) & grouptrt1 & grouptrt2\\\\\n",
       "\\hline\n",
       "\t1 & 1 & 0 & 0\\\\\n",
       "\t2 & 1 & 0 & 0\\\\\n",
       "\t3 & 1 & 0 & 0\\\\\n",
       "\t4 & 1 & 0 & 0\\\\\n",
       "\t5 & 1 & 0 & 0\\\\\n",
       "\t6 & 1 & 0 & 0\\\\\n",
       "\t7 & 1 & 0 & 0\\\\\n",
       "\t8 & 1 & 0 & 0\\\\\n",
       "\t9 & 1 & 0 & 0\\\\\n",
       "\t10 & 1 & 0 & 0\\\\\n",
       "\t11 & 1 & 1 & 0\\\\\n",
       "\t12 & 1 & 1 & 0\\\\\n",
       "\t13 & 1 & 1 & 0\\\\\n",
       "\t14 & 1 & 1 & 0\\\\\n",
       "\t15 & 1 & 1 & 0\\\\\n",
       "\t16 & 1 & 1 & 0\\\\\n",
       "\t17 & 1 & 1 & 0\\\\\n",
       "\t18 & 1 & 1 & 0\\\\\n",
       "\t19 & 1 & 1 & 0\\\\\n",
       "\t20 & 1 & 1 & 0\\\\\n",
       "\t21 & 1 & 0 & 1\\\\\n",
       "\t22 & 1 & 0 & 1\\\\\n",
       "\t23 & 1 & 0 & 1\\\\\n",
       "\t24 & 1 & 0 & 1\\\\\n",
       "\t25 & 1 & 0 & 1\\\\\n",
       "\t26 & 1 & 0 & 1\\\\\n",
       "\t27 & 1 & 0 & 1\\\\\n",
       "\t28 & 1 & 0 & 1\\\\\n",
       "\t29 & 1 & 0 & 1\\\\\n",
       "\t30 & 1 & 0 & 1\\\\\n",
       "\\end{tabular}\n"
      ],
      "text/markdown": [
       "\n",
       "| <!--/--> | (Intercept) | grouptrt1 | grouptrt2 | \n",
       "|---|---|---|---|---|---|---|---|---|---|---|---|---|---|---|---|---|---|---|---|---|---|---|---|---|---|---|---|---|---|\n",
       "| 1 | 1 | 0 | 0 | \n",
       "| 2 | 1 | 0 | 0 | \n",
       "| 3 | 1 | 0 | 0 | \n",
       "| 4 | 1 | 0 | 0 | \n",
       "| 5 | 1 | 0 | 0 | \n",
       "| 6 | 1 | 0 | 0 | \n",
       "| 7 | 1 | 0 | 0 | \n",
       "| 8 | 1 | 0 | 0 | \n",
       "| 9 | 1 | 0 | 0 | \n",
       "| 10 | 1 | 0 | 0 | \n",
       "| 11 | 1 | 1 | 0 | \n",
       "| 12 | 1 | 1 | 0 | \n",
       "| 13 | 1 | 1 | 0 | \n",
       "| 14 | 1 | 1 | 0 | \n",
       "| 15 | 1 | 1 | 0 | \n",
       "| 16 | 1 | 1 | 0 | \n",
       "| 17 | 1 | 1 | 0 | \n",
       "| 18 | 1 | 1 | 0 | \n",
       "| 19 | 1 | 1 | 0 | \n",
       "| 20 | 1 | 1 | 0 | \n",
       "| 21 | 1 | 0 | 1 | \n",
       "| 22 | 1 | 0 | 1 | \n",
       "| 23 | 1 | 0 | 1 | \n",
       "| 24 | 1 | 0 | 1 | \n",
       "| 25 | 1 | 0 | 1 | \n",
       "| 26 | 1 | 0 | 1 | \n",
       "| 27 | 1 | 0 | 1 | \n",
       "| 28 | 1 | 0 | 1 | \n",
       "| 29 | 1 | 0 | 1 | \n",
       "| 30 | 1 | 0 | 1 | \n",
       "\n",
       "\n"
      ],
      "text/plain": [
       "   (Intercept) grouptrt1 grouptrt2\n",
       "1  1           0         0        \n",
       "2  1           0         0        \n",
       "3  1           0         0        \n",
       "4  1           0         0        \n",
       "5  1           0         0        \n",
       "6  1           0         0        \n",
       "7  1           0         0        \n",
       "8  1           0         0        \n",
       "9  1           0         0        \n",
       "10 1           0         0        \n",
       "11 1           1         0        \n",
       "12 1           1         0        \n",
       "13 1           1         0        \n",
       "14 1           1         0        \n",
       "15 1           1         0        \n",
       "16 1           1         0        \n",
       "17 1           1         0        \n",
       "18 1           1         0        \n",
       "19 1           1         0        \n",
       "20 1           1         0        \n",
       "21 1           0         1        \n",
       "22 1           0         1        \n",
       "23 1           0         1        \n",
       "24 1           0         1        \n",
       "25 1           0         1        \n",
       "26 1           0         1        \n",
       "27 1           0         1        \n",
       "28 1           0         1        \n",
       "29 1           0         1        \n",
       "30 1           0         1        "
      ]
     },
     "metadata": {},
     "output_type": "display_data"
    }
   ],
   "source": [
    "lmod = lm(weight ~ group, data = PlantGrowth)\n",
    "summary(lmod)\n",
    "# model.matrix(~group, data = PlantGrowth)\n",
    "model.matrix(lmod)"
   ]
  },
  {
   "cell_type": "markdown",
   "metadata": {},
   "source": [
    "#### (c) There are three groups in this study. Why are there only two predictors in the model? To investigate this, consider fitting a new model: \n",
    "\n",
    "\\begin{align*}\n",
    "Y_i = \\beta_0 + \\beta_1 X_{i,1} + \\beta_2 X_{i,2} + \\beta_2 X_{i,3} + \\varepsilon_i\n",
    "\\end{align*}\n",
    "\n",
    "where \n",
    "\n",
    "1. $X_{i,1} = 1$ if the $i^{th}$ plant is in the first treatment group and zero otherwise.\n",
    "2. $X_{i,2} = 1$ if the $i^{th}$ plant is in the second treatment group and zero otherwise.\n",
    "3. $X_{i,3} = 1$ if the $i^{th}$ plant is in the control group and zero otherwise.\n",
    "\n",
    "#### What would happen when you fit this model? (Hint: Something is wrong with the design matrix!)\n"
   ]
  },
  {
   "cell_type": "code",
   "execution_count": 16,
   "metadata": {},
   "outputs": [
    {
     "data": {
      "text/plain": [
       "\n",
       "Call:\n",
       "lm(formula = weight ~ -1 + group, data = PlantGrowth)\n",
       "\n",
       "Residuals:\n",
       "    Min      1Q  Median      3Q     Max \n",
       "-1.0710 -0.4180 -0.0060  0.2627  1.3690 \n",
       "\n",
       "Coefficients:\n",
       "          Estimate Std. Error t value Pr(>|t|)    \n",
       "groupctrl   5.0320     0.1971   25.53   <2e-16 ***\n",
       "grouptrt1   4.6610     0.1971   23.64   <2e-16 ***\n",
       "grouptrt2   5.5260     0.1971   28.03   <2e-16 ***\n",
       "---\n",
       "Signif. codes:  0 '***' 0.001 '**' 0.01 '*' 0.05 '.' 0.1 ' ' 1\n",
       "\n",
       "Residual standard error: 0.6234 on 27 degrees of freedom\n",
       "Multiple R-squared:  0.9867,\tAdjusted R-squared:  0.9852 \n",
       "F-statistic: 665.5 on 3 and 27 DF,  p-value: < 2.2e-16\n"
      ]
     },
     "metadata": {},
     "output_type": "display_data"
    },
    {
     "data": {
      "text/html": [
       "<table>\n",
       "<thead><tr><th></th><th scope=col>groupctrl</th><th scope=col>grouptrt1</th><th scope=col>grouptrt2</th></tr></thead>\n",
       "<tbody>\n",
       "\t<tr><th scope=row>1</th><td>1</td><td>0</td><td>0</td></tr>\n",
       "\t<tr><th scope=row>2</th><td>1</td><td>0</td><td>0</td></tr>\n",
       "\t<tr><th scope=row>3</th><td>1</td><td>0</td><td>0</td></tr>\n",
       "\t<tr><th scope=row>4</th><td>1</td><td>0</td><td>0</td></tr>\n",
       "\t<tr><th scope=row>5</th><td>1</td><td>0</td><td>0</td></tr>\n",
       "\t<tr><th scope=row>6</th><td>1</td><td>0</td><td>0</td></tr>\n",
       "\t<tr><th scope=row>7</th><td>1</td><td>0</td><td>0</td></tr>\n",
       "\t<tr><th scope=row>8</th><td>1</td><td>0</td><td>0</td></tr>\n",
       "\t<tr><th scope=row>9</th><td>1</td><td>0</td><td>0</td></tr>\n",
       "\t<tr><th scope=row>10</th><td>1</td><td>0</td><td>0</td></tr>\n",
       "\t<tr><th scope=row>11</th><td>0</td><td>1</td><td>0</td></tr>\n",
       "\t<tr><th scope=row>12</th><td>0</td><td>1</td><td>0</td></tr>\n",
       "\t<tr><th scope=row>13</th><td>0</td><td>1</td><td>0</td></tr>\n",
       "\t<tr><th scope=row>14</th><td>0</td><td>1</td><td>0</td></tr>\n",
       "\t<tr><th scope=row>15</th><td>0</td><td>1</td><td>0</td></tr>\n",
       "\t<tr><th scope=row>16</th><td>0</td><td>1</td><td>0</td></tr>\n",
       "\t<tr><th scope=row>17</th><td>0</td><td>1</td><td>0</td></tr>\n",
       "\t<tr><th scope=row>18</th><td>0</td><td>1</td><td>0</td></tr>\n",
       "\t<tr><th scope=row>19</th><td>0</td><td>1</td><td>0</td></tr>\n",
       "\t<tr><th scope=row>20</th><td>0</td><td>1</td><td>0</td></tr>\n",
       "\t<tr><th scope=row>21</th><td>0</td><td>0</td><td>1</td></tr>\n",
       "\t<tr><th scope=row>22</th><td>0</td><td>0</td><td>1</td></tr>\n",
       "\t<tr><th scope=row>23</th><td>0</td><td>0</td><td>1</td></tr>\n",
       "\t<tr><th scope=row>24</th><td>0</td><td>0</td><td>1</td></tr>\n",
       "\t<tr><th scope=row>25</th><td>0</td><td>0</td><td>1</td></tr>\n",
       "\t<tr><th scope=row>26</th><td>0</td><td>0</td><td>1</td></tr>\n",
       "\t<tr><th scope=row>27</th><td>0</td><td>0</td><td>1</td></tr>\n",
       "\t<tr><th scope=row>28</th><td>0</td><td>0</td><td>1</td></tr>\n",
       "\t<tr><th scope=row>29</th><td>0</td><td>0</td><td>1</td></tr>\n",
       "\t<tr><th scope=row>30</th><td>0</td><td>0</td><td>1</td></tr>\n",
       "</tbody>\n",
       "</table>\n"
      ],
      "text/latex": [
       "\\begin{tabular}{r|lll}\n",
       "  & groupctrl & grouptrt1 & grouptrt2\\\\\n",
       "\\hline\n",
       "\t1 & 1 & 0 & 0\\\\\n",
       "\t2 & 1 & 0 & 0\\\\\n",
       "\t3 & 1 & 0 & 0\\\\\n",
       "\t4 & 1 & 0 & 0\\\\\n",
       "\t5 & 1 & 0 & 0\\\\\n",
       "\t6 & 1 & 0 & 0\\\\\n",
       "\t7 & 1 & 0 & 0\\\\\n",
       "\t8 & 1 & 0 & 0\\\\\n",
       "\t9 & 1 & 0 & 0\\\\\n",
       "\t10 & 1 & 0 & 0\\\\\n",
       "\t11 & 0 & 1 & 0\\\\\n",
       "\t12 & 0 & 1 & 0\\\\\n",
       "\t13 & 0 & 1 & 0\\\\\n",
       "\t14 & 0 & 1 & 0\\\\\n",
       "\t15 & 0 & 1 & 0\\\\\n",
       "\t16 & 0 & 1 & 0\\\\\n",
       "\t17 & 0 & 1 & 0\\\\\n",
       "\t18 & 0 & 1 & 0\\\\\n",
       "\t19 & 0 & 1 & 0\\\\\n",
       "\t20 & 0 & 1 & 0\\\\\n",
       "\t21 & 0 & 0 & 1\\\\\n",
       "\t22 & 0 & 0 & 1\\\\\n",
       "\t23 & 0 & 0 & 1\\\\\n",
       "\t24 & 0 & 0 & 1\\\\\n",
       "\t25 & 0 & 0 & 1\\\\\n",
       "\t26 & 0 & 0 & 1\\\\\n",
       "\t27 & 0 & 0 & 1\\\\\n",
       "\t28 & 0 & 0 & 1\\\\\n",
       "\t29 & 0 & 0 & 1\\\\\n",
       "\t30 & 0 & 0 & 1\\\\\n",
       "\\end{tabular}\n"
      ],
      "text/markdown": [
       "\n",
       "| <!--/--> | groupctrl | grouptrt1 | grouptrt2 | \n",
       "|---|---|---|---|---|---|---|---|---|---|---|---|---|---|---|---|---|---|---|---|---|---|---|---|---|---|---|---|---|---|\n",
       "| 1 | 1 | 0 | 0 | \n",
       "| 2 | 1 | 0 | 0 | \n",
       "| 3 | 1 | 0 | 0 | \n",
       "| 4 | 1 | 0 | 0 | \n",
       "| 5 | 1 | 0 | 0 | \n",
       "| 6 | 1 | 0 | 0 | \n",
       "| 7 | 1 | 0 | 0 | \n",
       "| 8 | 1 | 0 | 0 | \n",
       "| 9 | 1 | 0 | 0 | \n",
       "| 10 | 1 | 0 | 0 | \n",
       "| 11 | 0 | 1 | 0 | \n",
       "| 12 | 0 | 1 | 0 | \n",
       "| 13 | 0 | 1 | 0 | \n",
       "| 14 | 0 | 1 | 0 | \n",
       "| 15 | 0 | 1 | 0 | \n",
       "| 16 | 0 | 1 | 0 | \n",
       "| 17 | 0 | 1 | 0 | \n",
       "| 18 | 0 | 1 | 0 | \n",
       "| 19 | 0 | 1 | 0 | \n",
       "| 20 | 0 | 1 | 0 | \n",
       "| 21 | 0 | 0 | 1 | \n",
       "| 22 | 0 | 0 | 1 | \n",
       "| 23 | 0 | 0 | 1 | \n",
       "| 24 | 0 | 0 | 1 | \n",
       "| 25 | 0 | 0 | 1 | \n",
       "| 26 | 0 | 0 | 1 | \n",
       "| 27 | 0 | 0 | 1 | \n",
       "| 28 | 0 | 0 | 1 | \n",
       "| 29 | 0 | 0 | 1 | \n",
       "| 30 | 0 | 0 | 1 | \n",
       "\n",
       "\n"
      ],
      "text/plain": [
       "   groupctrl grouptrt1 grouptrt2\n",
       "1  1         0         0        \n",
       "2  1         0         0        \n",
       "3  1         0         0        \n",
       "4  1         0         0        \n",
       "5  1         0         0        \n",
       "6  1         0         0        \n",
       "7  1         0         0        \n",
       "8  1         0         0        \n",
       "9  1         0         0        \n",
       "10 1         0         0        \n",
       "11 0         1         0        \n",
       "12 0         1         0        \n",
       "13 0         1         0        \n",
       "14 0         1         0        \n",
       "15 0         1         0        \n",
       "16 0         1         0        \n",
       "17 0         1         0        \n",
       "18 0         1         0        \n",
       "19 0         1         0        \n",
       "20 0         1         0        \n",
       "21 0         0         1        \n",
       "22 0         0         1        \n",
       "23 0         0         1        \n",
       "24 0         0         1        \n",
       "25 0         0         1        \n",
       "26 0         0         1        \n",
       "27 0         0         1        \n",
       "28 0         0         1        \n",
       "29 0         0         1        \n",
       "30 0         0         1        "
      ]
     },
     "metadata": {},
     "output_type": "display_data"
    }
   ],
   "source": [
    "badLmod = lm(weight ~ -1 + group, data = PlantGrowth)\n",
    "summary(badLmod)\n",
    "model.matrix(badLmod)"
   ]
  },
  {
   "cell_type": "markdown",
   "metadata": {},
   "source": [
    "When we fit this model, there is no intercept in the model, instead the 5.032 of the intercept in the first model is the estimate of the control predictor in the second. Because we are treating the control as a new variable rather than the baseline, the the model has no possible interpretation for when the treatments are 0 which is where the intercept would lie. It's also worth noting that each estimate has increased by 5.032 from the first model. This is because the first (control) column is now dependent on the other two columns, meaning $X^TX$ is no longer invertible and has infinite solutions, so is nonidentifiable."
   ]
  },
  {
   "cell_type": "markdown",
   "metadata": {},
   "source": [
    "#### (d) Interpret the coefficients in the model above. In particular:\n",
    "\n",
    "1. what is the mean yield of the control group?\n",
    "2. what is the mean yield of the treatment 1 group?\n",
    "3. What is the difference in the mean between the control group and and the second treatment group?"
   ]
  },
  {
   "cell_type": "markdown",
   "metadata": {},
   "source": [
    "1. The mean yield of the control group is 5.0320, the same as the intercept from the first model.\n",
    "2. The mean yield of the treatment 1 group is 4.661, 5.032 greater than the first model.\n",
    "3. The difference between the means yields of the control group and second treatment group is 5.526 - 5.032 = 0.494, which is the coefficient of the second treatment in the first model."
   ]
  },
  {
   "cell_type": "markdown",
   "metadata": {},
   "source": [
    "#### (e) Is there reason to believe that there is *some* difference in means between the control group and a treatment group?"
   ]
  },
  {
   "cell_type": "markdown",
   "metadata": {},
   "source": [
    "Yes. Because the p-value of the F-statistic for our first model is 0.015 < 0.05, we can reject the null hypothesis and say that there is a statistically significant difference between the means of the groups. We don't know which groups, but we know that there is a pair that have different means."
   ]
  },
  {
   "cell_type": "markdown",
   "metadata": {},
   "source": [
    "#### (f) The R help file claims that this is an experiment. What are some facts that we should consider about the design of the experiment before we might feel comfortable making causal claims about the treatments (e.g., that on average treatment 1 caused an increase in yield of $u$ units over the control)?"
   ]
  },
  {
   "cell_type": "markdown",
   "metadata": {},
   "source": [
    "To make causal claims, we should be confident that we controlled for all othe variables. If there were other features that affected the result of the experiment, then we can not definitively say that there is causation. Other things that we must consider are also the randomization of the other variables and the random noise in the measurements."
   ]
  }
 ],
 "metadata": {
  "kernelspec": {
   "display_name": "R",
   "language": "R",
   "name": "ir"
  },
  "language_info": {
   "codemirror_mode": "r",
   "file_extension": ".r",
   "mimetype": "text/x-r-source",
   "name": "R",
   "pygments_lexer": "r",
   "version": "3.4.3"
  }
 },
 "nbformat": 4,
 "nbformat_minor": 2
}
