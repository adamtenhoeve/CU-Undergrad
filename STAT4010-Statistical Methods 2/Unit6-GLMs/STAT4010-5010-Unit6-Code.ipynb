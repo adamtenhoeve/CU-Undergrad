{
 "cells": [
  {
   "cell_type": "markdown",
   "metadata": {},
   "source": [
    "# STAT 4010/5010 Unit #6 Code: GLMs\n",
    "\n",
    "\n",
    "## Problem #1\n",
    "In January 1986, the space shuttle Challenger exploded shortly after launch. An investigation was launched into the cause of the crash and attention focused on the rubber O-ring seals in the rocket boosters. At lower temperatures, rubber becomes more brittle and is a less effective sealant. At the time of the launch, the temperature was 31°F. Could the failure of the O-rings have been predicted? In the 23 previous shuttle missions for which data exists, some evidence of damage due to blow by and erosion was recorded on some O-rings. Each shuttle had two boosters, each with three O-rings. For each mission, we know the number of O-rings out of six showing some damage and the launch temperature. \n",
    "\n",
    "The 'orings' is a data frame with 23 observations on the following 2 variables.\n",
    "\n",
    "1. temp:  Ambient temperature (Fahrenheit) at launch time\n",
    "2. damage: Number of damaged 'O' rings (out of a total of 6)\n",
    "\n",
    "#### (a) Construct a new variable called prop, which is the proportion of damaged 'O' rings. Plot prop against temperature. What do you notice about this plot?"
   ]
  },
  {
   "cell_type": "code",
   "execution_count": 12,
   "metadata": {
    "scrolled": false
   },
   "outputs": [
    {
     "data": {
      "text/html": [
       "<table>\n",
       "<thead><tr><th scope=col>temp</th><th scope=col>damage</th></tr></thead>\n",
       "<tbody>\n",
       "\t<tr><td>53</td><td>5 </td></tr>\n",
       "\t<tr><td>57</td><td>1 </td></tr>\n",
       "\t<tr><td>58</td><td>1 </td></tr>\n",
       "\t<tr><td>63</td><td>1 </td></tr>\n",
       "\t<tr><td>66</td><td>0 </td></tr>\n",
       "\t<tr><td>67</td><td>0 </td></tr>\n",
       "</tbody>\n",
       "</table>\n"
      ],
      "text/latex": [
       "\\begin{tabular}{r|ll}\n",
       " temp & damage\\\\\n",
       "\\hline\n",
       "\t 53 & 5 \\\\\n",
       "\t 57 & 1 \\\\\n",
       "\t 58 & 1 \\\\\n",
       "\t 63 & 1 \\\\\n",
       "\t 66 & 0 \\\\\n",
       "\t 67 & 0 \\\\\n",
       "\\end{tabular}\n"
      ],
      "text/markdown": [
       "\n",
       "temp | damage | \n",
       "|---|---|---|---|---|---|\n",
       "| 53 | 5  | \n",
       "| 57 | 1  | \n",
       "| 58 | 1  | \n",
       "| 63 | 1  | \n",
       "| 66 | 0  | \n",
       "| 67 | 0  | \n",
       "\n",
       "\n"
      ],
      "text/plain": [
       "  temp damage\n",
       "1 53   5     \n",
       "2 57   1     \n",
       "3 58   1     \n",
       "4 63   1     \n",
       "5 66   0     \n",
       "6 67   0     "
      ]
     },
     "metadata": {},
     "output_type": "display_data"
    }
   ],
   "source": [
    "rm(list = ls())\n",
    "library(faraway)\n",
    "library(MASS)\n",
    "#library(aod) #wald.test\n",
    "#library(lmtest) #lrtest (likelihood ratio test--same as anova)\n",
    "\n",
    "data(orings)\n",
    "head(orings)"
   ]
  },
  {
   "cell_type": "code",
   "execution_count": 13,
   "metadata": {},
   "outputs": [
    {
     "data": {
      "image/png": "[encoded data removed]",
      "text/plain": [
       "plot without title"
      ]
     },
     "metadata": {},
     "output_type": "display_data"
    }
   ],
   "source": [
    "orings$prop = orings$damage / 6\n",
    "plot(orings$temp, orings$prop)"
   ]
  },
  {
   "cell_type": "markdown",
   "metadata": {},
   "source": [
    "There appears to be some correlation between temperature and the number of orings that failed. For the most part, the colder it was, the more that failed and more than 1 oring failed only at the coldest temperatures."
   ]
  },
  {
   "cell_type": "markdown",
   "metadata": {},
   "source": [
    "#### (b) Let's use the 'glm' function for fitting the logit model (logistic regression). The first argument will be the model: RESPONSE ~ PREDICTORS. For binomial response data, we need two pieces of information about the response values—y and n. Thus for binomial families, the response can be specified as a two-column matrix with the columns giving the numbers of successes and failures. You'll also need to specify the family argument, and the data argument. Other arguments should include 'data' and 'family'. Use ?glm to specify these arguments.\n"
   ]
  },
  {
   "cell_type": "code",
   "execution_count": 74,
   "metadata": {},
   "outputs": [
    {
     "data": {
      "text/plain": [
       "\n",
       "Call:\n",
       "glm(formula = cbind(orings$damage, 6 - orings$damage) ~ temp, \n",
       "    family = binomial, data = orings)\n",
       "\n",
       "Deviance Residuals: \n",
       "    Min       1Q   Median       3Q      Max  \n",
       "-0.9529  -0.7345  -0.4393  -0.2079   1.9565  \n",
       "\n",
       "Coefficients:\n",
       "            Estimate Std. Error z value Pr(>|z|)    \n",
       "(Intercept) 11.66299    3.29626   3.538 0.000403 ***\n",
       "temp        -0.21623    0.05318  -4.066 4.78e-05 ***\n",
       "---\n",
       "Signif. codes:  0 '***' 0.001 '**' 0.01 '*' 0.05 '.' 0.1 ' ' 1\n",
       "\n",
       "(Dispersion parameter for binomial family taken to be 1)\n",
       "\n",
       "    Null deviance: 38.898  on 22  degrees of freedom\n",
       "Residual deviance: 16.912  on 21  degrees of freedom\n",
       "AIC: 33.675\n",
       "\n",
       "Number of Fisher Scoring iterations: 6\n"
      ]
     },
     "metadata": {},
     "output_type": "display_data"
    },
    {
     "data": {
      "text/plain": [
       "    Min.  1st Qu.   Median     Mean  3rd Qu.     Max. \n",
       "-0.89727 -0.56606 -0.31188  0.07184 -0.14717  3.77106 "
      ]
     },
     "metadata": {},
     "output_type": "display_data"
    },
    {
     "data": {
      "text/plain": [
       "    Min.  1st Qu.   Median     Mean  3rd Qu.     Max. \n",
       "-0.89727 -0.56606 -0.31188  0.07184 -0.14717  3.77106 "
      ]
     },
     "metadata": {},
     "output_type": "display_data"
    },
    {
     "data": {
      "text/plain": [
       "   Min. 1st Qu.  Median    Mean 3rd Qu.    Max. \n",
       "-0.9529 -0.7345 -0.4393 -0.1661 -0.2079  1.9565 "
      ]
     },
     "metadata": {},
     "output_type": "display_data"
    }
   ],
   "source": [
    "glmod = glm(cbind(orings$damage, 6-orings$damage) ~ temp, data = orings, family = binomial)\n",
    "summary(glmod)\n",
    "\n",
    "# Long way to calculate pearson residuals with equation\n",
    "phat = predict(glmod, type = \"response\");\n",
    "r = with(orings, (damage/6 - phat) / sqrt((phat*(1-phat))/6)) # Formula for Pearson Residuals\n",
    "summary(r)\n",
    "# Shorter way to calculate pearson residuals\n",
    "summary(resid(glmod, type = \"pearson\"))\n",
    "# If you want deviance residuals\n",
    "summary(resid(glmod, type = \"deviance\"))"
   ]
  },
  {
   "cell_type": "markdown",
   "metadata": {},
   "source": [
    "#### (c) Plot the data again with the logit model. You can do this easily with the ilogit function."
   ]
  },
  {
   "cell_type": "code",
   "execution_count": 75,
   "metadata": {},
   "outputs": [
    {
     "data": {
      "image/png": "[encoded data removed]",
      "text/plain": [
       "plot without title"
      ]
     },
     "metadata": {},
     "output_type": "display_data"
    }
   ],
   "source": [
    "plot(orings$temp, orings$prop, xlim = c(25,85), ylim = c(0,1), xlab = \"Temperature\")\n",
    "x = seq(25, 85, 1)\n",
    "# Numbers in ilogit come from estimates above\n",
    "lines(x, ilogit(11.66299 - 0.21623*x), col = \"red\") #ilogit is the inverse"
   ]
  },
  {
   "cell_type": "markdown",
   "metadata": {},
   "source": [
    "#### (d) Now let's check the interpretation of $\\widehat{\\beta}_1$. Create a new temperature value of 45 and 46 degrees. Calculuate the odds of failure at 45 and 46 degrees. What is the ratio of these two odds? "
   ]
  },
  {
   "cell_type": "code",
   "execution_count": 76,
   "metadata": {},
   "outputs": [
    {
     "data": {
      "text/html": [
       "<table>\n",
       "<thead><tr><th scope=col>temp</th><th scope=col>damage</th><th scope=col>prop</th><th scope=col>fit</th><th scope=col>se_fit</th><th scope=col>fit_resp</th><th scope=col>upper</th><th scope=col>lower</th></tr></thead>\n",
       "<tbody>\n",
       "\t<tr><td>53        </td><td>5         </td><td>0.8333333 </td><td> 0.2026055</td><td>0.5823128 </td><td>0.55047882</td><td>0.7969324 </td><td>0.27647394</td></tr>\n",
       "\t<tr><td>57        </td><td>1         </td><td>0.1666667 </td><td>-0.6623292</td><td>0.4351906 </td><td>0.34021659</td><td>0.5518262 </td><td>0.17759748</td></tr>\n",
       "\t<tr><td>58        </td><td>1         </td><td>0.1666667 </td><td>-0.8785628</td><td>0.4075604 </td><td>0.29347569</td><td>0.4841448 </td><td>0.15529201</td></tr>\n",
       "\t<tr><td>63        </td><td>1         </td><td>0.1666667 </td><td>-1.9597311</td><td>0.3667597 </td><td>0.12349615</td><td>0.2268452 </td><td>0.06337280</td></tr>\n",
       "\t<tr><td>66        </td><td>0         </td><td>0.0000000 </td><td>-2.6084321</td><td>0.4282805 </td><td>0.06859771</td><td>0.1478113 </td><td>0.03032487</td></tr>\n",
       "\t<tr><td>67        </td><td>0         </td><td>0.0000000 </td><td>-2.8246658</td><td>0.4593900 </td><td>0.05600575</td><td>0.1294438 </td><td>0.02312497</td></tr>\n",
       "</tbody>\n",
       "</table>\n"
      ],
      "text/latex": [
       "\\begin{tabular}{r|llllllll}\n",
       " temp & damage & prop & fit & se\\_fit & fit\\_resp & upper & lower\\\\\n",
       "\\hline\n",
       "\t 53         & 5          & 0.8333333  &  0.2026055 & 0.5823128  & 0.55047882 & 0.7969324  & 0.27647394\\\\\n",
       "\t 57         & 1          & 0.1666667  & -0.6623292 & 0.4351906  & 0.34021659 & 0.5518262  & 0.17759748\\\\\n",
       "\t 58         & 1          & 0.1666667  & -0.8785628 & 0.4075604  & 0.29347569 & 0.4841448  & 0.15529201\\\\\n",
       "\t 63         & 1          & 0.1666667  & -1.9597311 & 0.3667597  & 0.12349615 & 0.2268452  & 0.06337280\\\\\n",
       "\t 66         & 0          & 0.0000000  & -2.6084321 & 0.4282805  & 0.06859771 & 0.1478113  & 0.03032487\\\\\n",
       "\t 67         & 0          & 0.0000000  & -2.8246658 & 0.4593900  & 0.05600575 & 0.1294438  & 0.02312497\\\\\n",
       "\\end{tabular}\n"
      ],
      "text/markdown": [
       "\n",
       "temp | damage | prop | fit | se_fit | fit_resp | upper | lower | \n",
       "|---|---|---|---|---|---|\n",
       "| 53         | 5          | 0.8333333  |  0.2026055 | 0.5823128  | 0.55047882 | 0.7969324  | 0.27647394 | \n",
       "| 57         | 1          | 0.1666667  | -0.6623292 | 0.4351906  | 0.34021659 | 0.5518262  | 0.17759748 | \n",
       "| 58         | 1          | 0.1666667  | -0.8785628 | 0.4075604  | 0.29347569 | 0.4841448  | 0.15529201 | \n",
       "| 63         | 1          | 0.1666667  | -1.9597311 | 0.3667597  | 0.12349615 | 0.2268452  | 0.06337280 | \n",
       "| 66         | 0          | 0.0000000  | -2.6084321 | 0.4282805  | 0.06859771 | 0.1478113  | 0.03032487 | \n",
       "| 67         | 0          | 0.0000000  | -2.8246658 | 0.4593900  | 0.05600575 | 0.1294438  | 0.02312497 | \n",
       "\n",
       "\n"
      ],
      "text/plain": [
       "  temp damage prop      fit        se_fit    fit_resp   upper     lower     \n",
       "1 53   5      0.8333333  0.2026055 0.5823128 0.55047882 0.7969324 0.27647394\n",
       "2 57   1      0.1666667 -0.6623292 0.4351906 0.34021659 0.5518262 0.17759748\n",
       "3 58   1      0.1666667 -0.8785628 0.4075604 0.29347569 0.4841448 0.15529201\n",
       "4 63   1      0.1666667 -1.9597311 0.3667597 0.12349615 0.2268452 0.06337280\n",
       "5 66   0      0.0000000 -2.6084321 0.4282805 0.06859771 0.1478113 0.03032487\n",
       "6 67   0      0.0000000 -2.8246658 0.4593900 0.05600575 0.1294438 0.02312497"
      ]
     },
     "metadata": {},
     "output_type": "display_data"
    }
   ],
   "source": [
    "head(orings)"
   ]
  },
  {
   "cell_type": "code",
   "execution_count": 77,
   "metadata": {},
   "outputs": [
    {
     "data": {
      "text/html": [
       "<dl class=dl-horizontal>\n",
       "\t<dt>1</dt>\n",
       "\t\t<dd>0.873523090983473</dd>\n",
       "\t<dt>2</dt>\n",
       "\t\t<dd>0.847644038403052</dd>\n",
       "</dl>\n"
      ],
      "text/latex": [
       "\\begin{description*}\n",
       "\\item[1] 0.873523090983473\n",
       "\\item[2] 0.847644038403052\n",
       "\\end{description*}\n"
      ],
      "text/markdown": [
       "1\n",
       ":   0.8735230909834732\n",
       ":   0.847644038403052\n",
       "\n"
      ],
      "text/plain": [
       "        1         2 \n",
       "0.8735231 0.8476440 "
      ]
     },
     "metadata": {},
     "output_type": "display_data"
    },
    {
     "data": {
      "text/html": [
       "<table>\n",
       "<thead><tr><th scope=col>temp</th><th scope=col>odds</th></tr></thead>\n",
       "<tbody>\n",
       "\t<tr><td>45      </td><td>6.906582</td></tr>\n",
       "\t<tr><td>46      </td><td>5.563576</td></tr>\n",
       "</tbody>\n",
       "</table>\n"
      ],
      "text/latex": [
       "\\begin{tabular}{r|ll}\n",
       " temp & odds\\\\\n",
       "\\hline\n",
       "\t 45       & 6.906582\\\\\n",
       "\t 46       & 5.563576\\\\\n",
       "\\end{tabular}\n"
      ],
      "text/markdown": [
       "\n",
       "temp | odds | \n",
       "|---|---|\n",
       "| 45       | 6.906582 | \n",
       "| 46       | 5.563576 | \n",
       "\n",
       "\n"
      ],
      "text/plain": [
       "  temp odds    \n",
       "1 45   6.906582\n",
       "2 46   5.563576"
      ]
     },
     "metadata": {},
     "output_type": "display_data"
    }
   ],
   "source": [
    "newdata = data.frame(temp = c(45, 46))\n",
    "pred = predict(glmod, newdata, type = \"response\")\n",
    "pred\n",
    "newdata$odds = pred / (1 - pred)\n",
    "newdata"
   ]
  },
  {
   "cell_type": "code",
   "execution_count": 78,
   "metadata": {},
   "outputs": [
    {
     "data": {
      "text/html": [
       "1.24139241397209"
      ],
      "text/latex": [
       "1.24139241397209"
      ],
      "text/markdown": [
       "1.24139241397209"
      ],
      "text/plain": [
       "[1] 1.241392"
      ]
     },
     "metadata": {},
     "output_type": "display_data"
    }
   ],
   "source": [
    "newdata[1, ]$odds / newdata[2, ]$odds"
   ]
  },
  {
   "cell_type": "markdown",
   "metadata": {},
   "source": [
    "The odds of it failing are 6.91 at 45 degrees and 5.56 at 46 degrees. The ratio is then 1.24 between these two odds."
   ]
  },
  {
   "cell_type": "markdown",
   "metadata": {},
   "source": [
    "#### (e) Compute confidence intervals for the model parameters \"by hand\"."
   ]
  },
  {
   "cell_type": "code",
   "execution_count": 73,
   "metadata": {},
   "outputs": [
    {
     "data": {
      "text/html": [
       "181.692177774515"
      ],
      "text/latex": [
       "181.692177774515"
      ],
      "text/markdown": [
       "181.692177774515"
      ],
      "text/plain": [
       "[1] 181.6922"
      ]
     },
     "metadata": {},
     "output_type": "display_data"
    },
    {
     "data": {
      "text/html": [
       "74303266.0464091"
      ],
      "text/latex": [
       "74303266.0464091"
      ],
      "text/markdown": [
       "74303266.0464091"
      ],
      "text/plain": [
       "[1] 74303266"
      ]
     },
     "metadata": {},
     "output_type": "display_data"
    },
    {
     "data": {
      "text/html": [
       "0.725814617872559"
      ],
      "text/latex": [
       "0.725814617872559"
      ],
      "text/markdown": [
       "0.725814617872559"
      ],
      "text/plain": [
       "[1] 0.7258146"
      ]
     },
     "metadata": {},
     "output_type": "display_data"
    },
    {
     "data": {
      "text/html": [
       "0.894038281567281"
      ],
      "text/latex": [
       "0.894038281567281"
      ],
      "text/markdown": [
       "0.894038281567281"
      ],
      "text/plain": [
       "[1] 0.8940383"
      ]
     },
     "metadata": {},
     "output_type": "display_data"
    }
   ],
   "source": [
    "# Get the model parameters\n",
    "params = summary(glmod)$coef\n",
    "\n",
    "lower1 = exp(params[1, 1] - 1.96*params[1, 2])\n",
    "upper1 = exp(params[1, 1] + 1.96*params[1, 2])\n",
    "\n",
    "lower2 = exp(params[2, 1] - 1.96*params[2, 2])\n",
    "upper2 = exp(params[2, 1] + 1.96*params[2, 2])\n",
    "\n",
    "lower1; upper1; lower2; upper2;"
   ]
  },
  {
   "cell_type": "markdown",
   "metadata": {},
   "source": [
    "The 95% confidence interval for the intercept is [181.69, 74303266.05] and the 95% confidence interval for temp is [0.72, 0.89]."
   ]
  },
  {
   "cell_type": "markdown",
   "metadata": {},
   "source": [
    "#### (f) Now compute them using confint(glmod). Notice that these intervals are slightly different; they are based on the profile likelihood and do not assume asymptotic normality. They are more accurate for small sample sizes. Profile likelihood confidence intervals don’t assume normality of the estimator and appear to perform better for small samples sizes than Wald CIs (above). They are, nonetheless, still based on an asymptotic approximation – the asymptotic chi-square distribution of the log likelihood ratio test statistic. (for more info: http://www.math.umt.edu/patterson/ProfileLikelihoodCI.pdf)"
   ]
  },
  {
   "cell_type": "code",
   "execution_count": 55,
   "metadata": {},
   "outputs": [
    {
     "name": "stderr",
     "output_type": "stream",
     "text": [
      "Waiting for profiling to be done...\n"
     ]
    },
    {
     "data": {
      "text/html": [
       "<table>\n",
       "<thead><tr><th></th><th scope=col>2.5 %</th><th scope=col>97.5 %</th></tr></thead>\n",
       "<tbody>\n",
       "\t<tr><th scope=row>(Intercept)</th><td>263.8010254 </td><td>1.372889e+08</td></tr>\n",
       "\t<tr><th scope=row>temp</th><td>  0.7170161 </td><td>8.867617e-01</td></tr>\n",
       "</tbody>\n",
       "</table>\n"
      ],
      "text/latex": [
       "\\begin{tabular}{r|ll}\n",
       "  & 2.5 \\% & 97.5 \\%\\\\\n",
       "\\hline\n",
       "\t(Intercept) & 263.8010254  & 1.372889e+08\\\\\n",
       "\ttemp &   0.7170161  & 8.867617e-01\\\\\n",
       "\\end{tabular}\n"
      ],
      "text/markdown": [
       "\n",
       "| <!--/--> | 2.5 % | 97.5 % | \n",
       "|---|---|\n",
       "| (Intercept) | 263.8010254  | 1.372889e+08 | \n",
       "| temp |   0.7170161  | 8.867617e-01 | \n",
       "\n",
       "\n"
      ],
      "text/plain": [
       "            2.5 %       97.5 %      \n",
       "(Intercept) 263.8010254 1.372889e+08\n",
       "temp          0.7170161 8.867617e-01"
      ]
     },
     "metadata": {},
     "output_type": "display_data"
    }
   ],
   "source": [
    "exp(confint(glmod))"
   ]
  },
  {
   "cell_type": "markdown",
   "metadata": {},
   "source": [
    "#### (g) Predict the probability of faulire at Temp = 45 degrees.\n"
   ]
  },
  {
   "cell_type": "markdown",
   "metadata": {},
   "source": [
    "From the predictions eariler in part (d), we can see that the probability of failure at 45 degrees is 0.874."
   ]
  },
  {
   "cell_type": "markdown",
   "metadata": {},
   "source": [
    "## Problem #2 \n",
    "\n",
    "A researcher is interested in how variables, such as gre (Graduate Record Exam scores), gpa (grade point average) and prestige of the undergraduate institution (rank), effect admission into graduate school. The response variable, admit/don't admit, is a binary variable.\n",
    "\n"
   ]
  },
  {
   "cell_type": "code",
   "execution_count": 79,
   "metadata": {},
   "outputs": [
    {
     "data": {
      "text/html": [
       "<table>\n",
       "<thead><tr><th scope=col>admit</th><th scope=col>gre</th><th scope=col>gpa</th><th scope=col>rank</th></tr></thead>\n",
       "<tbody>\n",
       "\t<tr><td>0   </td><td>380 </td><td>3.61</td><td>3   </td></tr>\n",
       "\t<tr><td>1   </td><td>660 </td><td>3.67</td><td>3   </td></tr>\n",
       "\t<tr><td>1   </td><td>800 </td><td>4.00</td><td>1   </td></tr>\n",
       "\t<tr><td>1   </td><td>640 </td><td>3.19</td><td>4   </td></tr>\n",
       "\t<tr><td>0   </td><td>520 </td><td>2.93</td><td>4   </td></tr>\n",
       "\t<tr><td>1   </td><td>760 </td><td>3.00</td><td>2   </td></tr>\n",
       "</tbody>\n",
       "</table>\n"
      ],
      "text/latex": [
       "\\begin{tabular}{r|llll}\n",
       " admit & gre & gpa & rank\\\\\n",
       "\\hline\n",
       "\t 0    & 380  & 3.61 & 3   \\\\\n",
       "\t 1    & 660  & 3.67 & 3   \\\\\n",
       "\t 1    & 800  & 4.00 & 1   \\\\\n",
       "\t 1    & 640  & 3.19 & 4   \\\\\n",
       "\t 0    & 520  & 2.93 & 4   \\\\\n",
       "\t 1    & 760  & 3.00 & 2   \\\\\n",
       "\\end{tabular}\n"
      ],
      "text/markdown": [
       "\n",
       "admit | gre | gpa | rank | \n",
       "|---|---|---|---|---|---|\n",
       "| 0    | 380  | 3.61 | 3    | \n",
       "| 1    | 660  | 3.67 | 3    | \n",
       "| 1    | 800  | 4.00 | 1    | \n",
       "| 1    | 640  | 3.19 | 4    | \n",
       "| 0    | 520  | 2.93 | 4    | \n",
       "| 1    | 760  | 3.00 | 2    | \n",
       "\n",
       "\n"
      ],
      "text/plain": [
       "  admit gre gpa  rank\n",
       "1 0     380 3.61 3   \n",
       "2 1     660 3.67 3   \n",
       "3 1     800 4.00 1   \n",
       "4 1     640 3.19 4   \n",
       "5 0     520 2.93 4   \n",
       "6 1     760 3.00 2   "
      ]
     },
     "metadata": {},
     "output_type": "display_data"
    }
   ],
   "source": [
    "admission = read.csv(\"https://stats.idre.ucla.edu/stat/data/binary.csv\")\n",
    "\n",
    "admission$rank = as.factor(admission$rank)\n",
    "head(admission)\n"
   ]
  },
  {
   "cell_type": "markdown",
   "metadata": {},
   "source": [
    "#### (a) Perform logistic regression treating ${\\tt admit}$ as the response. Be sure to treat ${\\tt rank}$ as a categorical variable."
   ]
  },
  {
   "cell_type": "code",
   "execution_count": 80,
   "metadata": {},
   "outputs": [
    {
     "data": {
      "text/plain": [
       "\n",
       "Call:\n",
       "glm(formula = admit ~ ., family = binomial, data = admission)\n",
       "\n",
       "Deviance Residuals: \n",
       "    Min       1Q   Median       3Q      Max  \n",
       "-1.6268  -0.8662  -0.6388   1.1490   2.0790  \n",
       "\n",
       "Coefficients:\n",
       "             Estimate Std. Error z value Pr(>|z|)    \n",
       "(Intercept) -3.989979   1.139951  -3.500 0.000465 ***\n",
       "gre          0.002264   0.001094   2.070 0.038465 *  \n",
       "gpa          0.804038   0.331819   2.423 0.015388 *  \n",
       "rank2       -0.675443   0.316490  -2.134 0.032829 *  \n",
       "rank3       -1.340204   0.345306  -3.881 0.000104 ***\n",
       "rank4       -1.551464   0.417832  -3.713 0.000205 ***\n",
       "---\n",
       "Signif. codes:  0 '***' 0.001 '**' 0.01 '*' 0.05 '.' 0.1 ' ' 1\n",
       "\n",
       "(Dispersion parameter for binomial family taken to be 1)\n",
       "\n",
       "    Null deviance: 499.98  on 399  degrees of freedom\n",
       "Residual deviance: 458.52  on 394  degrees of freedom\n",
       "AIC: 470.52\n",
       "\n",
       "Number of Fisher Scoring iterations: 4\n"
      ]
     },
     "metadata": {},
     "output_type": "display_data"
    }
   ],
   "source": [
    "glmod = glm(admit ~ ., data = admission, family = binomial)\n",
    "summary(glmod)"
   ]
  },
  {
   "cell_type": "markdown",
   "metadata": {},
   "source": [
    "#### (b) Construct a reduced model without the ${\\tt rank}$ variable. Conduct the likelihood ratio test to decide whether the reduced model is sufficient. You can do this using ${\\tt anova}$ or ${\\tt lrtest}$."
   ]
  },
  {
   "cell_type": "code",
   "execution_count": 81,
   "metadata": {},
   "outputs": [
    {
     "data": {
      "text/plain": [
       "\n",
       "Call:\n",
       "glm(formula = admit ~ gre + gpa, family = binomial, data = admission)\n",
       "\n",
       "Deviance Residuals: \n",
       "    Min       1Q   Median       3Q      Max  \n",
       "-1.2730  -0.8988  -0.7206   1.3013   2.0620  \n",
       "\n",
       "Coefficients:\n",
       "             Estimate Std. Error z value Pr(>|z|)    \n",
       "(Intercept) -4.949378   1.075093  -4.604 4.15e-06 ***\n",
       "gre          0.002691   0.001057   2.544   0.0109 *  \n",
       "gpa          0.754687   0.319586   2.361   0.0182 *  \n",
       "---\n",
       "Signif. codes:  0 '***' 0.001 '**' 0.01 '*' 0.05 '.' 0.1 ' ' 1\n",
       "\n",
       "(Dispersion parameter for binomial family taken to be 1)\n",
       "\n",
       "    Null deviance: 499.98  on 399  degrees of freedom\n",
       "Residual deviance: 480.34  on 397  degrees of freedom\n",
       "AIC: 486.34\n",
       "\n",
       "Number of Fisher Scoring iterations: 4\n"
      ]
     },
     "metadata": {},
     "output_type": "display_data"
    }
   ],
   "source": [
    "glmodRed = glm(admit ~ gre + gpa, data = admission, family = binomial)\n",
    "summary(glmodRed)"
   ]
  },
  {
   "cell_type": "code",
   "execution_count": 84,
   "metadata": {},
   "outputs": [
    {
     "data": {
      "text/html": [
       "<table>\n",
       "<thead><tr><th scope=col>Resid. Df</th><th scope=col>Resid. Dev</th><th scope=col>Df</th><th scope=col>Deviance</th><th scope=col>Pr(&gt;Chi)</th></tr></thead>\n",
       "<tbody>\n",
       "\t<tr><td>397         </td><td>480.3440    </td><td>NA          </td><td>      NA    </td><td>          NA</td></tr>\n",
       "\t<tr><td>394         </td><td>458.5175    </td><td> 3          </td><td>21.82649    </td><td>7.088456e-05</td></tr>\n",
       "</tbody>\n",
       "</table>\n"
      ],
      "text/latex": [
       "\\begin{tabular}{r|lllll}\n",
       " Resid. Df & Resid. Dev & Df & Deviance & Pr(>Chi)\\\\\n",
       "\\hline\n",
       "\t 397          & 480.3440     & NA           &       NA     &           NA\\\\\n",
       "\t 394          & 458.5175     &  3           & 21.82649     & 7.088456e-05\\\\\n",
       "\\end{tabular}\n"
      ],
      "text/markdown": [
       "\n",
       "Resid. Df | Resid. Dev | Df | Deviance | Pr(>Chi) | \n",
       "|---|---|\n",
       "| 397          | 480.3440     | NA           |       NA     |           NA | \n",
       "| 394          | 458.5175     |  3           | 21.82649     | 7.088456e-05 | \n",
       "\n",
       "\n"
      ],
      "text/plain": [
       "  Resid. Df Resid. Dev Df Deviance Pr(>Chi)    \n",
       "1 397       480.3440   NA       NA           NA\n",
       "2 394       458.5175    3 21.82649 7.088456e-05"
      ]
     },
     "metadata": {},
     "output_type": "display_data"
    }
   ],
   "source": [
    "anova(glmodRed, glmod, test = \"Chisq\")"
   ]
  },
  {
   "cell_type": "markdown",
   "metadata": {},
   "source": [
    "From the anova test, we can see that the p-value is less than 0.05. Therefor we reject the null and assert that there is a difference between the models so the reduced model is not sufficient. We should use the full model with the rank predictor to best model the data."
   ]
  },
  {
   "cell_type": "markdown",
   "metadata": {},
   "source": [
    "## Problem #3\n",
    "\n",
    "For each 30 Galapagos islands, we have a count of the number of plant species found on each island and the number that are endemic to that island. We also have five geographic variables for each island. \n",
    "\n",
    "1. Species: the number of plant species found on the island\n",
    "2. Endemics: the number of endemic species\n",
    "3. Area: the area of the island (km$^2$)\n",
    "4. Elevation: the highest elevation of the island (m)\n",
    "5. Nearest: the distance from the nearest island (km)\n",
    "6. Scruz: the distance from Santa Cruz island (km)\n",
    "7. Adjacent: the area of the adjacent island (square km)\n",
    "\n",
    "#### (a) Remove the Endemics variable from the dataframe, and fit a linear model with Species as the respons and all other variables as predictors. Run some diagnostics and explain why this model is not the best fit."
   ]
  },
  {
   "cell_type": "code",
   "execution_count": 13,
   "metadata": {},
   "outputs": [
    {
     "data": {
      "text/html": [
       "<table>\n",
       "<thead><tr><th></th><th scope=col>Species</th><th scope=col>Endemics</th><th scope=col>Area</th><th scope=col>Elevation</th><th scope=col>Nearest</th><th scope=col>Scruz</th><th scope=col>Adjacent</th></tr></thead>\n",
       "<tbody>\n",
       "\t<tr><th scope=row>Baltra</th><td>58    </td><td>23    </td><td>25.09 </td><td>346   </td><td>0.6   </td><td> 0.6  </td><td>  1.84</td></tr>\n",
       "\t<tr><th scope=row>Bartolome</th><td>31    </td><td>21    </td><td> 1.24 </td><td>109   </td><td>0.6   </td><td>26.3  </td><td>572.33</td></tr>\n",
       "\t<tr><th scope=row>Caldwell</th><td> 3    </td><td> 3    </td><td> 0.21 </td><td>114   </td><td>2.8   </td><td>58.7  </td><td>  0.78</td></tr>\n",
       "\t<tr><th scope=row>Champion</th><td>25    </td><td> 9    </td><td> 0.10 </td><td> 46   </td><td>1.9   </td><td>47.4  </td><td>  0.18</td></tr>\n",
       "\t<tr><th scope=row>Coamano</th><td> 2    </td><td> 1    </td><td> 0.05 </td><td> 77   </td><td>1.9   </td><td> 1.9  </td><td>903.82</td></tr>\n",
       "\t<tr><th scope=row>Daphne.Major</th><td>18    </td><td>11    </td><td> 0.34 </td><td>119   </td><td>8.0   </td><td> 8.0  </td><td>  1.84</td></tr>\n",
       "</tbody>\n",
       "</table>\n"
      ],
      "text/latex": [
       "\\begin{tabular}{r|lllllll}\n",
       "  & Species & Endemics & Area & Elevation & Nearest & Scruz & Adjacent\\\\\n",
       "\\hline\n",
       "\tBaltra & 58     & 23     & 25.09  & 346    & 0.6    &  0.6   &   1.84\\\\\n",
       "\tBartolome & 31     & 21     &  1.24  & 109    & 0.6    & 26.3   & 572.33\\\\\n",
       "\tCaldwell &  3     &  3     &  0.21  & 114    & 2.8    & 58.7   &   0.78\\\\\n",
       "\tChampion & 25     &  9     &  0.10  &  46    & 1.9    & 47.4   &   0.18\\\\\n",
       "\tCoamano &  2     &  1     &  0.05  &  77    & 1.9    &  1.9   & 903.82\\\\\n",
       "\tDaphne.Major & 18     & 11     &  0.34  & 119    & 8.0    &  8.0   &   1.84\\\\\n",
       "\\end{tabular}\n"
      ],
      "text/markdown": [
       "\n",
       "| <!--/--> | Species | Endemics | Area | Elevation | Nearest | Scruz | Adjacent | \n",
       "|---|---|---|---|---|---|\n",
       "| Baltra | 58     | 23     | 25.09  | 346    | 0.6    |  0.6   |   1.84 | \n",
       "| Bartolome | 31     | 21     |  1.24  | 109    | 0.6    | 26.3   | 572.33 | \n",
       "| Caldwell |  3     |  3     |  0.21  | 114    | 2.8    | 58.7   |   0.78 | \n",
       "| Champion | 25     |  9     |  0.10  |  46    | 1.9    | 47.4   |   0.18 | \n",
       "| Coamano |  2     |  1     |  0.05  |  77    | 1.9    |  1.9   | 903.82 | \n",
       "| Daphne.Major | 18     | 11     |  0.34  | 119    | 8.0    |  8.0   |   1.84 | \n",
       "\n",
       "\n"
      ],
      "text/plain": [
       "             Species Endemics Area  Elevation Nearest Scruz Adjacent\n",
       "Baltra       58      23       25.09 346       0.6      0.6    1.84  \n",
       "Bartolome    31      21        1.24 109       0.6     26.3  572.33  \n",
       "Caldwell      3       3        0.21 114       2.8     58.7    0.78  \n",
       "Champion     25       9        0.10  46       1.9     47.4    0.18  \n",
       "Coamano       2       1        0.05  77       1.9      1.9  903.82  \n",
       "Daphne.Major 18      11        0.34 119       8.0      8.0    1.84  "
      ]
     },
     "metadata": {},
     "output_type": "display_data"
    },
    {
     "data": {
      "text/plain": [
       "\n",
       "Call:\n",
       "lm(formula = Species ~ ., data = gala)\n",
       "\n",
       "Residuals:\n",
       "     Min       1Q   Median       3Q      Max \n",
       "-111.679  -34.898   -7.862   33.460  182.584 \n",
       "\n",
       "Coefficients:\n",
       "             Estimate Std. Error t value Pr(>|t|)    \n",
       "(Intercept)  7.068221  19.154198   0.369 0.715351    \n",
       "Area        -0.023938   0.022422  -1.068 0.296318    \n",
       "Elevation    0.319465   0.053663   5.953 3.82e-06 ***\n",
       "Nearest      0.009144   1.054136   0.009 0.993151    \n",
       "Scruz       -0.240524   0.215402  -1.117 0.275208    \n",
       "Adjacent    -0.074805   0.017700  -4.226 0.000297 ***\n",
       "---\n",
       "Signif. codes:  0 '***' 0.001 '**' 0.01 '*' 0.05 '.' 0.1 ' ' 1\n",
       "\n",
       "Residual standard error: 60.98 on 24 degrees of freedom\n",
       "Multiple R-squared:  0.7658,\tAdjusted R-squared:  0.7171 \n",
       "F-statistic:  15.7 on 5 and 24 DF,  p-value: 6.838e-07\n"
      ]
     },
     "metadata": {},
     "output_type": "display_data"
    },
    {
     "name": "stderr",
     "output_type": "stream",
     "text": [
      "Warning message in sqrt(crit * p * (1 - hh)/hh):\n",
      "\"NaNs produced\"Warning message in sqrt(crit * p * (1 - hh)/hh):\n",
      "\"NaNs produced\""
     ]
    },
    {
     "data": {
      "image/png": "[encoded data removed]",
      "text/plain": [
       "Plot with title \"\""
      ]
     },
     "metadata": {},
     "output_type": "display_data"
    }
   ],
   "source": [
    "library(faraway)\n",
    "data(gala)\n",
    "head(gala)\n",
    "\n",
    "gala = gala[ , !(names(gala) %in% \"Endemics\")]\n",
    "\n",
    "lmod = lm(Species ~ ., data = gala)\n",
    "summary(lmod)\n",
    "par(mfrow = c(2,2)); plot(lmod)"
   ]
  },
  {
   "cell_type": "markdown",
   "metadata": {},
   "source": [
    "#### (b) Recall that a square root transformation of the response might be helpful when the nonconstant variance assumption is violated. Try this transformation. "
   ]
  },
  {
   "cell_type": "code",
   "execution_count": 14,
   "metadata": {},
   "outputs": [
    {
     "data": {
      "text/plain": [
       "\n",
       "Call:\n",
       "lm(formula = sqrt(Species) ~ ., data = gala)\n",
       "\n",
       "Residuals:\n",
       "    Min      1Q  Median      3Q     Max \n",
       "-4.5572 -1.4969 -0.3031  1.3527  5.2110 \n",
       "\n",
       "Coefficients:\n",
       "              Estimate Std. Error t value Pr(>|t|)    \n",
       "(Intercept)  3.3919243  0.8712678   3.893 0.000690 ***\n",
       "Area        -0.0019718  0.0010199  -1.933 0.065080 .  \n",
       "Elevation    0.0164784  0.0024410   6.751 5.55e-07 ***\n",
       "Nearest      0.0249326  0.0479495   0.520 0.607844    \n",
       "Scruz       -0.0134826  0.0097980  -1.376 0.181509    \n",
       "Adjacent    -0.0033669  0.0008051  -4.182 0.000333 ***\n",
       "---\n",
       "Signif. codes:  0 '***' 0.001 '**' 0.01 '*' 0.05 '.' 0.1 ' ' 1\n",
       "\n",
       "Residual standard error: 2.774 on 24 degrees of freedom\n",
       "Multiple R-squared:  0.7827,\tAdjusted R-squared:  0.7374 \n",
       "F-statistic: 17.29 on 5 and 24 DF,  p-value: 2.874e-07\n"
      ]
     },
     "metadata": {},
     "output_type": "display_data"
    },
    {
     "name": "stderr",
     "output_type": "stream",
     "text": [
      "Warning message in sqrt(crit * p * (1 - hh)/hh):\n",
      "\"NaNs produced\"Warning message in sqrt(crit * p * (1 - hh)/hh):\n",
      "\"NaNs produced\""
     ]
    },
    {
     "data": {
      "image/png": "[encoded data removed]",
      "text/plain": [
       "Plot with title \"\""
      ]
     },
     "metadata": {},
     "output_type": "display_data"
    }
   ],
   "source": [
    "lmod2 = lm(sqrt(Species) ~ ., data = gala)\n",
    "summary(lmod2)\n",
    "par(mfrow = c(2,2)); plot(lmod2)"
   ]
  },
  {
   "cell_type": "markdown",
   "metadata": {},
   "source": [
    "#### (c) One issue with a transformation is that it makes interpretation less natural. Let's try a Poisson regression (with no transformation on the repsonse)."
   ]
  },
  {
   "cell_type": "code",
   "execution_count": 15,
   "metadata": {},
   "outputs": [
    {
     "data": {
      "text/plain": [
       "\n",
       "Call:\n",
       "glm(formula = Species ~ ., family = poisson, data = gala)\n",
       "\n",
       "Deviance Residuals: \n",
       "    Min       1Q   Median       3Q      Max  \n",
       "-8.2752  -4.4966  -0.9443   1.9168  10.1849  \n",
       "\n",
       "Coefficients:\n",
       "              Estimate Std. Error z value Pr(>|z|)    \n",
       "(Intercept)  3.155e+00  5.175e-02  60.963  < 2e-16 ***\n",
       "Area        -5.799e-04  2.627e-05 -22.074  < 2e-16 ***\n",
       "Elevation    3.541e-03  8.741e-05  40.507  < 2e-16 ***\n",
       "Nearest      8.826e-03  1.821e-03   4.846 1.26e-06 ***\n",
       "Scruz       -5.709e-03  6.256e-04  -9.126  < 2e-16 ***\n",
       "Adjacent    -6.630e-04  2.933e-05 -22.608  < 2e-16 ***\n",
       "---\n",
       "Signif. codes:  0 '***' 0.001 '**' 0.01 '*' 0.05 '.' 0.1 ' ' 1\n",
       "\n",
       "(Dispersion parameter for poisson family taken to be 1)\n",
       "\n",
       "    Null deviance: 3510.73  on 29  degrees of freedom\n",
       "Residual deviance:  716.85  on 24  degrees of freedom\n",
       "AIC: 889.68\n",
       "\n",
       "Number of Fisher Scoring iterations: 5\n"
      ]
     },
     "metadata": {},
     "output_type": "display_data"
    },
    {
     "name": "stderr",
     "output_type": "stream",
     "text": [
      "Warning message in sqrt(crit * p * (1 - hh)/hh):\n",
      "\"NaNs produced\"Warning message in sqrt(crit * p * (1 - hh)/hh):\n",
      "\"NaNs produced\""
     ]
    },
    {
     "data": {
      "image/png": "[encoded data removed]",
      "text/plain": [
       "Plot with title \"\""
      ]
     },
     "metadata": {},
     "output_type": "display_data"
    }
   ],
   "source": [
    "glmod = glm(Species ~ ., data = gala, family = poisson)\n",
    "summary(glmod)\n",
    "par(mfrow = c(2,2)); plot(glmod)"
   ]
  },
  {
   "cell_type": "markdown",
   "metadata": {},
   "source": [
    "#### (d) Interpret the parameter associated with Nearest. "
   ]
  },
  {
   "cell_type": "markdown",
   "metadata": {},
   "source": []
  },
  {
   "cell_type": "markdown",
   "metadata": {},
   "source": [
    "#### (e) Calculate the deviance for Poisson regression. Does this value show up in the summary? Also, check the goodness of fit of this model using Pearson's $\\chi^2$ statistic. What do you conclude about the fit?"
   ]
  },
  {
   "cell_type": "code",
   "execution_count": 17,
   "metadata": {},
   "outputs": [
    {
     "data": {
      "text/html": [
       "716.845773941473"
      ],
      "text/latex": [
       "716.845773941473"
      ],
      "text/markdown": [
       "716.845773941473"
      ],
      "text/plain": [
       "[1] 716.8458"
      ]
     },
     "metadata": {},
     "output_type": "display_data"
    },
    {
     "data": {
      "text/html": [
       "761.979247761281"
      ],
      "text/latex": [
       "761.979247761281"
      ],
      "text/markdown": [
       "761.979247761281"
      ],
      "text/plain": [
       "[1] 761.9792"
      ]
     },
     "metadata": {},
     "output_type": "display_data"
    }
   ],
   "source": [
    "with(gala, 2*sum(Species*log(Species/fitted(glmod)) - (Species - fitted(glmod))))\n",
    "with(gala, sum((Species - fitted(glmod))^2/fitted(glmod)))\n",
    "\n",
    "glmodReduced = glm(Species ~ . - Nearest, data = gala, family = poisson)"
   ]
  },
  {
   "cell_type": "code",
   "execution_count": 18,
   "metadata": {},
   "outputs": [
    {
     "data": {
      "text/html": [
       "<table>\n",
       "<thead><tr><th scope=col>Resid. Df</th><th scope=col>Resid. Dev</th><th scope=col>Df</th><th scope=col>Deviance</th><th scope=col>Pr(&gt;Chi)</th></tr></thead>\n",
       "<tbody>\n",
       "\t<tr><td>25          </td><td>739.4108    </td><td>NA          </td><td>      NA    </td><td>          NA</td></tr>\n",
       "\t<tr><td>24          </td><td>716.8458    </td><td> 1          </td><td>22.56504    </td><td>2.031481e-06</td></tr>\n",
       "</tbody>\n",
       "</table>\n"
      ],
      "text/latex": [
       "\\begin{tabular}{r|lllll}\n",
       " Resid. Df & Resid. Dev & Df & Deviance & Pr(>Chi)\\\\\n",
       "\\hline\n",
       "\t 25           & 739.4108     & NA           &       NA     &           NA\\\\\n",
       "\t 24           & 716.8458     &  1           & 22.56504     & 2.031481e-06\\\\\n",
       "\\end{tabular}\n"
      ],
      "text/markdown": [
       "\n",
       "Resid. Df | Resid. Dev | Df | Deviance | Pr(>Chi) | \n",
       "|---|---|\n",
       "| 25           | 739.4108     | NA           |       NA     |           NA | \n",
       "| 24           | 716.8458     |  1           | 22.56504     | 2.031481e-06 | \n",
       "\n",
       "\n"
      ],
      "text/plain": [
       "  Resid. Df Resid. Dev Df Deviance Pr(>Chi)    \n",
       "1 25        739.4108   NA       NA           NA\n",
       "2 24        716.8458    1 22.56504 2.031481e-06"
      ]
     },
     "metadata": {},
     "output_type": "display_data"
    }
   ],
   "source": [
    "anova(glmodReduced, glmod, test = \"Chisq\")"
   ]
  },
  {
   "cell_type": "code",
   "execution_count": 21,
   "metadata": {},
   "outputs": [
    {
     "data": {
      "text/html": [
       "31.7491353233867"
      ],
      "text/latex": [
       "31.7491353233867"
      ],
      "text/markdown": [
       "31.7491353233867"
      ],
      "text/plain": [
       "[1] 31.74914"
      ]
     },
     "metadata": {},
     "output_type": "display_data"
    },
    {
     "data": {
      "text/plain": [
       "\n",
       "Call:\n",
       "glm(formula = Species ~ ., family = poisson, data = gala)\n",
       "\n",
       "Deviance Residuals: \n",
       "    Min       1Q   Median       3Q      Max  \n",
       "-8.2752  -4.4966  -0.9443   1.9168  10.1849  \n",
       "\n",
       "Coefficients:\n",
       "              Estimate Std. Error z value Pr(>|z|)    \n",
       "(Intercept)  3.1548079  0.2915897  10.819  < 2e-16 ***\n",
       "Area        -0.0005799  0.0001480  -3.918 8.95e-05 ***\n",
       "Elevation    0.0035406  0.0004925   7.189 6.53e-13 ***\n",
       "Nearest      0.0088256  0.0102621   0.860    0.390    \n",
       "Scruz       -0.0057094  0.0035251  -1.620    0.105    \n",
       "Adjacent    -0.0006630  0.0001653  -4.012 6.01e-05 ***\n",
       "---\n",
       "Signif. codes:  0 '***' 0.001 '**' 0.01 '*' 0.05 '.' 0.1 ' ' 1\n",
       "\n",
       "(Dispersion parameter for poisson family taken to be 31.74914)\n",
       "\n",
       "    Null deviance: 3510.73  on 29  degrees of freedom\n",
       "Residual deviance:  716.85  on 24  degrees of freedom\n",
       "AIC: 889.68\n",
       "\n",
       "Number of Fisher Scoring iterations: 5\n"
      ]
     },
     "metadata": {},
     "output_type": "display_data"
    },
    {
     "data": {
      "text/html": [
       "7.07315731341578e-136"
      ],
      "text/latex": [
       "7.07315731341578e-136"
      ],
      "text/markdown": [
       "7.07315731341578e-136"
      ],
      "text/plain": [
       "[1] 7.073157e-136"
      ]
     },
     "metadata": {},
     "output_type": "display_data"
    }
   ],
   "source": [
    "dispEst = sum(residuals(glmod, type = \"pearson\")^2/glmod$df.res) #estimate of dispersion parameter\n",
    "dispEst\n",
    "summary(glmod, dispersion = dispEst)\n",
    "pchisq(glmod$deviance, glmod$df.residual, lower.tail = F)"
   ]
  },
  {
   "cell_type": "code",
   "execution_count": 22,
   "metadata": {},
   "outputs": [
    {
     "name": "stderr",
     "output_type": "stream",
     "text": [
      "Warning message in drop1.glm(glmod, test = \"F\"):\n",
      "\"F test assumes 'quasipoisson' family\""
     ]
    },
    {
     "data": {
      "text/html": [
       "<table>\n",
       "<thead><tr><th></th><th scope=col>Df</th><th scope=col>Deviance</th><th scope=col>AIC</th><th scope=col>F value</th><th scope=col>Pr(&gt;F)</th></tr></thead>\n",
       "<tbody>\n",
       "\t<tr><th scope=row>&lt;none&gt;</th><td>NA          </td><td> 716.8458   </td><td> 889.6767   </td><td>        NA  </td><td>          NA</td></tr>\n",
       "\t<tr><th scope=row>Area</th><td> 1          </td><td>1204.3529   </td><td>1375.1838   </td><td>16.3217396  </td><td>4.762092e-04</td></tr>\n",
       "\t<tr><th scope=row>Elevation</th><td> 1          </td><td>2389.5689   </td><td>2560.3998   </td><td>56.0027776  </td><td>1.007228e-07</td></tr>\n",
       "\t<tr><th scope=row>Nearest</th><td> 1          </td><td> 739.4108   </td><td> 910.2418   </td><td> 0.7554776  </td><td>3.933572e-01</td></tr>\n",
       "\t<tr><th scope=row>Scruz</th><td> 1          </td><td> 813.6200   </td><td> 984.4509   </td><td> 3.2400008  </td><td>8.444482e-02</td></tr>\n",
       "\t<tr><th scope=row>Adjacent</th><td> 1          </td><td>1341.4542   </td><td>1512.2851   </td><td>20.9118923  </td><td>1.230182e-04</td></tr>\n",
       "</tbody>\n",
       "</table>\n"
      ],
      "text/latex": [
       "\\begin{tabular}{r|lllll}\n",
       "  & Df & Deviance & AIC & F value & Pr(>F)\\\\\n",
       "\\hline\n",
       "\t<none> & NA           &  716.8458    &  889.6767    &         NA   &           NA\\\\\n",
       "\tArea &  1           & 1204.3529    & 1375.1838    & 16.3217396   & 4.762092e-04\\\\\n",
       "\tElevation &  1           & 2389.5689    & 2560.3998    & 56.0027776   & 1.007228e-07\\\\\n",
       "\tNearest &  1           &  739.4108    &  910.2418    &  0.7554776   & 3.933572e-01\\\\\n",
       "\tScruz &  1           &  813.6200    &  984.4509    &  3.2400008   & 8.444482e-02\\\\\n",
       "\tAdjacent &  1           & 1341.4542    & 1512.2851    & 20.9118923   & 1.230182e-04\\\\\n",
       "\\end{tabular}\n"
      ],
      "text/markdown": [
       "\n",
       "| <!--/--> | Df | Deviance | AIC | F value | Pr(>F) | \n",
       "|---|---|---|---|---|---|\n",
       "| <none> | NA           |  716.8458    |  889.6767    |         NA   |           NA | \n",
       "| Area |  1           | 1204.3529    | 1375.1838    | 16.3217396   | 4.762092e-04 | \n",
       "| Elevation |  1           | 2389.5689    | 2560.3998    | 56.0027776   | 1.007228e-07 | \n",
       "| Nearest |  1           |  739.4108    |  910.2418    |  0.7554776   | 3.933572e-01 | \n",
       "| Scruz |  1           |  813.6200    |  984.4509    |  3.2400008   | 8.444482e-02 | \n",
       "| Adjacent |  1           | 1341.4542    | 1512.2851    | 20.9118923   | 1.230182e-04 | \n",
       "\n",
       "\n"
      ],
      "text/plain": [
       "          Df Deviance  AIC       F value    Pr(>F)      \n",
       "<none>    NA  716.8458  889.6767         NA           NA\n",
       "Area       1 1204.3529 1375.1838 16.3217396 4.762092e-04\n",
       "Elevation  1 2389.5689 2560.3998 56.0027776 1.007228e-07\n",
       "Nearest    1  739.4108  910.2418  0.7554776 3.933572e-01\n",
       "Scruz      1  813.6200  984.4509  3.2400008 8.444482e-02\n",
       "Adjacent   1 1341.4542 1512.2851 20.9118923 1.230182e-04"
      ]
     },
     "metadata": {},
     "output_type": "display_data"
    }
   ],
   "source": [
    "drop1(glmod, test = \"F\")"
   ]
  },
  {
   "cell_type": "markdown",
   "metadata": {},
   "source": [
    "## Problem #4\n",
    "\n",
    "Research another type of GLM (beyond binomial and Poisson), find a dataset that is reasonably modeled by that GLM, and model it. Does the model fit well?"
   ]
  },
  {
   "cell_type": "code",
   "execution_count": 1,
   "metadata": {
    "scrolled": false
   },
   "outputs": [
    {
     "data": {
      "image/png": "[encoded data removed]",
      "text/plain": [
       "Plot with title \"density.default(x = wafer$resist)\""
      ]
     },
     "metadata": {},
     "output_type": "display_data"
    }
   ],
   "source": [
    "library(faraway)\n",
    "data(wafer)\n",
    "plot(density(wafer$resist))"
   ]
  },
  {
   "cell_type": "markdown",
   "metadata": {},
   "source": [
    "If the outcome is skewed and always positive, it can be modeled using the gamma distribution. So let's try that."
   ]
  },
  {
   "cell_type": "code",
   "execution_count": 10,
   "metadata": {},
   "outputs": [
    {
     "data": {
      "text/plain": [
       "\n",
       "Call:\n",
       "glm(formula = resist ~ x1 + x2 + x3 + x4, family = Gamma(link = \"log\"), \n",
       "    data = wafer)\n",
       "\n",
       "Deviance Residuals: \n",
       "     Min        1Q    Median        3Q       Max  \n",
       "-0.17548  -0.06486   0.01423   0.08399   0.10898  \n",
       "\n",
       "Coefficients:\n",
       "            Estimate Std. Error t value Pr(>|t|)    \n",
       "(Intercept)  5.44552    0.05856  92.983  < 2e-16 ***\n",
       "x1+          0.12115    0.05238   2.313 0.041090 *  \n",
       "x2+         -0.30049    0.05238  -5.736 0.000131 ***\n",
       "x3+          0.17979    0.05238   3.432 0.005601 ** \n",
       "x4+         -0.05757    0.05238  -1.099 0.295248    \n",
       "---\n",
       "Signif. codes:  0 '***' 0.001 '**' 0.01 '*' 0.05 '.' 0.1 ' ' 1\n",
       "\n",
       "(Dispersion parameter for Gamma family taken to be 0.01097542)\n",
       "\n",
       "    Null deviance: 0.69784  on 15  degrees of freedom\n",
       "Residual deviance: 0.12418  on 11  degrees of freedom\n",
       "AIC: 152.91\n",
       "\n",
       "Number of Fisher Scoring iterations: 4\n"
      ]
     },
     "metadata": {},
     "output_type": "display_data"
    }
   ],
   "source": [
    "gammaGLM <- glm(formula = resist ~ x1 + x2 + x3 + x4,\n",
    "                         family  = Gamma(link = \"log\"),\n",
    "                         data    = wafer)\n",
    "summary(gammaGLM)\n",
    "\n",
    "# dp = sum(resid(gammaGLM, type = \"pearson\")^2) / gammaGLM$df.res;\n",
    "# dp"
   ]
  },
  {
   "cell_type": "code",
   "execution_count": 7,
   "metadata": {},
   "outputs": [
    {
     "data": {
      "text/html": [
       "<table>\n",
       "<thead><tr><th></th><th scope=col>Estimate</th><th scope=col>Std. Error</th><th scope=col>t value</th><th scope=col>Pr(&gt;|t|)</th></tr></thead>\n",
       "<tbody>\n",
       "\t<tr><th scope=row>(Intercept)</th><td>231.7185740 </td><td>1.060314    </td><td>2.410161e+40</td><td>1.000000    </td></tr>\n",
       "\t<tr><th scope=row>x1+</th><td>  1.1287977 </td><td>1.053778    </td><td>1.010352e+01</td><td>1.041945    </td></tr>\n",
       "\t<tr><th scope=row>x2+</th><td>  0.7404588 </td><td>1.053778    </td><td>3.226230e-03</td><td>1.000131    </td></tr>\n",
       "\t<tr><th scope=row>x3+</th><td>  1.1969634 </td><td>1.053778    </td><td>3.094641e+01</td><td>1.005616    </td></tr>\n",
       "\t<tr><th scope=row>x4+</th><td>  0.9440590 </td><td>1.053778    </td><td>3.332107e-01</td><td>1.343459    </td></tr>\n",
       "</tbody>\n",
       "</table>\n"
      ],
      "text/latex": [
       "\\begin{tabular}{r|llll}\n",
       "  & Estimate & Std. Error & t value & Pr(>\\textbar{}t\\textbar{})\\\\\n",
       "\\hline\n",
       "\t(Intercept) & 231.7185740  & 1.060314     & 2.410161e+40 & 1.000000    \\\\\n",
       "\tx1+ &   1.1287977  & 1.053778     & 1.010352e+01 & 1.041945    \\\\\n",
       "\tx2+ &   0.7404588  & 1.053778     & 3.226230e-03 & 1.000131    \\\\\n",
       "\tx3+ &   1.1969634  & 1.053778     & 3.094641e+01 & 1.005616    \\\\\n",
       "\tx4+ &   0.9440590  & 1.053778     & 3.332107e-01 & 1.343459    \\\\\n",
       "\\end{tabular}\n"
      ],
      "text/markdown": [
       "\n",
       "| <!--/--> | Estimate | Std. Error | t value | Pr(>|t|) | \n",
       "|---|---|---|---|---|\n",
       "| (Intercept) | 231.7185740  | 1.060314     | 2.410161e+40 | 1.000000     | \n",
       "| x1+ |   1.1287977  | 1.053778     | 1.010352e+01 | 1.041945     | \n",
       "| x2+ |   0.7404588  | 1.053778     | 3.226230e-03 | 1.000131     | \n",
       "| x3+ |   1.1969634  | 1.053778     | 3.094641e+01 | 1.005616     | \n",
       "| x4+ |   0.9440590  | 1.053778     | 3.332107e-01 | 1.343459     | \n",
       "\n",
       "\n"
      ],
      "text/plain": [
       "            Estimate    Std. Error t value      Pr(>|t|)\n",
       "(Intercept) 231.7185740 1.060314   2.410161e+40 1.000000\n",
       "x1+           1.1287977 1.053778   1.010352e+01 1.041945\n",
       "x2+           0.7404588 1.053778   3.226230e-03 1.000131\n",
       "x3+           1.1969634 1.053778   3.094641e+01 1.005616\n",
       "x4+           0.9440590 1.053778   3.332107e-01 1.343459"
      ]
     },
     "metadata": {},
     "output_type": "display_data"
    }
   ],
   "source": [
    "exp(coef(summary(gammaGLM)))"
   ]
  },
  {
   "cell_type": "code",
   "execution_count": 11,
   "metadata": {},
   "outputs": [
    {
     "data": {
      "image/png": "[encoded data removed]",
      "text/plain": [
       "Plot with title \"\""
      ]
     },
     "metadata": {},
     "output_type": "display_data"
    }
   ],
   "source": [
    "par(mfrow = c(2,2));\n",
    "plot(gammaGLM)"
   ]
  },
  {
   "cell_type": "markdown",
   "metadata": {},
   "source": [
    "The residual plot doesn't look to terrible and the QQ plot has some deviation in the tales, but nothing too bad. "
   ]
  },
  {
   "cell_type": "markdown",
   "metadata": {},
   "source": [
    "From the summary, let's start with the deviance. The Null deviance is 0.698 and the Residual Deviance is 0.124. Although the deviances were small in both cases, the deviance does go down by a large proportion after the model was fit. We can also see that three of the four predictors were deemed statistically significant, which means they likely had an effect on improving the fit of the model. Therefor, we can say that the glm does fit the model."
   ]
  },
  {
   "cell_type": "code",
   "execution_count": null,
   "metadata": {},
   "outputs": [],
   "source": []
  }
 ],
 "metadata": {
  "kernelspec": {
   "display_name": "R",
   "language": "R",
   "name": "ir"
  },
  "language_info": {
   "codemirror_mode": "r",
   "file_extension": ".r",
   "mimetype": "text/x-r-source",
   "name": "R",
   "pygments_lexer": "r",
   "version": "3.4.3"
  }
 },
 "nbformat": 4,
 "nbformat_minor": 2
}
