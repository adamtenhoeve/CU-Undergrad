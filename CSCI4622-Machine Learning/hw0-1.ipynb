{
 "cells": [
  {
   "cell_type": "markdown",
   "metadata": {},
   "source": [
    "Before you turn this problem in, make sure everything runs as expected. First, **restart the kernel** (in the menubar, select Kernel$\\rightarrow$Restart) and then **run all cells** (in the menubar, select Cell$\\rightarrow$Run All).\n",
    "\n",
    "Make sure you fill in any place that says `YOUR CODE HERE` or \"YOUR ANSWER HERE\", as well as your name and collaborators below:"
   ]
  },
  {
   "cell_type": "code",
   "execution_count": 1,
   "metadata": {},
   "outputs": [],
   "source": [
    "NAME = \"Adam Ten Hoeve\"\n",
    "COLLABORATORS = \"\""
   ]
  },
  {
   "cell_type": "markdown",
   "metadata": {},
   "source": [
    "---"
   ]
  },
  {
   "cell_type": "markdown",
   "metadata": {
    "colab_type": "text",
    "deletable": false,
    "editable": false,
    "id": "IfI985RzKjG5",
    "nbgrader": {
     "cell_type": "markdown",
     "checksum": "90f67c20b0cbbb602f64e9b427d9e5e7",
     "grade": false,
     "grade_id": "cell-f654c65b83e29e9c",
     "locked": true,
     "schema_version": 3,
     "solution": false,
     "task": false
    }
   },
   "source": [
    "## Introduction\n",
    "\n",
    "The purpose of this notebook is to:\n",
    "1. Verify you can run Jupyter notebooks and have all the necessary packages\n",
    "2. Provide some practice problems for brushing up on Python, Matplotlib, and Numpy"
   ]
  },
  {
   "cell_type": "markdown",
   "metadata": {
    "colab_type": "text",
    "deletable": false,
    "editable": false,
    "id": "8hNGSXMDKjG6",
    "nbgrader": {
     "cell_type": "markdown",
     "checksum": "418cc7b0a6b1f522b2a08a812ac91f9e",
     "grade": false,
     "grade_id": "cell-116061a6988d4272",
     "locked": true,
     "schema_version": 3,
     "solution": false,
     "task": false
    }
   },
   "source": [
    "## Environment Verification\n",
    "\n",
    "The two cells below load the required modules. You should be able to load all these modules. If you cannot load a module, you should `conda install` it if using Anaconda. If using COLAB, you need to consult the COLAB docs on how to run a `pip install` command from the notebook."
   ]
  },
  {
   "cell_type": "code",
   "execution_count": 2,
   "metadata": {
    "colab": {},
    "colab_type": "code",
    "deletable": false,
    "editable": false,
    "id": "gJ3rDKQxKjG7",
    "nbgrader": {
     "cell_type": "code",
     "checksum": "4f36468fb89f8618dbf4c7ac794c14d8",
     "grade": false,
     "grade_id": "cell-141e365bf67d1447",
     "locked": true,
     "schema_version": 3,
     "solution": false,
     "task": false
    }
   },
   "outputs": [],
   "source": [
    "# If you need extra Python import statements, or pip install (for COLAB), you can add them to the below cell."
   ]
  },
  {
   "cell_type": "code",
   "execution_count": 3,
   "metadata": {
    "colab": {},
    "colab_type": "code",
    "id": "0qw41-1lKjG9"
   },
   "outputs": [],
   "source": [
    "import numpy as np\n",
    "import matplotlib as mpl\n",
    "import sklearn\n",
    "import functools\n",
    "import math\n",
    "import time\n",
    "from scipy.stats import norm\n",
    "import matplotlib.pyplot as plt"
   ]
  },
  {
   "cell_type": "code",
   "execution_count": 4,
   "metadata": {
    "colab": {
     "base_uri": "https://localhost:8080/",
     "height": 89
    },
    "colab_type": "code",
    "deletable": false,
    "editable": false,
    "id": "NOVuB3lXKjG_",
    "nbgrader": {
     "cell_type": "code",
     "checksum": "42af8d182ae1a93bbe6897a6d925a42d",
     "grade": false,
     "grade_id": "cell-01c872de3d11bd53",
     "locked": true,
     "schema_version": 3,
     "solution": false,
     "task": false
    },
    "outputId": "29926493-325e-4cdb-ec01-a00e89d4bbfc"
   },
   "outputs": [
    {
     "name": "stdout",
     "output_type": "stream",
     "text": [
      "Numpy: 1.16.3\n",
      "Matplotlib: 2.2.2\n",
      "SkLearn: 0.20.3\n"
     ]
    }
   ],
   "source": [
    "print(\"Numpy: {}\".format(np.__version__))\n",
    "print(\"Matplotlib: {}\".format(mpl.__version__))\n",
    "print(\"SkLearn: {}\".format(sklearn.__version__))\n"
   ]
  },
  {
   "cell_type": "markdown",
   "metadata": {
    "colab_type": "text",
    "deletable": false,
    "editable": false,
    "id": "sjYfkWsBKjHB",
    "nbgrader": {
     "cell_type": "markdown",
     "checksum": "2bb18104bfc207448e72cd703a7a3f69",
     "grade": false,
     "grade_id": "cell-2848563e2e26f746",
     "locked": true,
     "schema_version": 3,
     "solution": false,
     "task": false
    }
   },
   "source": [
    "## Python and Numpy Review\n",
    "\n",
    "This section consists of several problems that will help you review basic Python scripting. If you are completely new to Python or need a refresher, you should explore explore the thousands of tutorials on-line or see TAs for references. Note that we are using Python 3 (specifically >=3.6). Note that these exercises below are not exhaustive. \n",
    "\n",
    "The practice problems focus on things that are potentially useful and basic:\n",
    "\n",
    "1. Open a file and read data from storage (a file on the local disk)\n",
    "2. Store the data in some data structure that allows us to inspect and iterate over the data\n",
    "3. Plot the results (using Matplotlib)"
   ]
  },
  {
   "cell_type": "markdown",
   "metadata": {
    "colab_type": "text",
    "deletable": false,
    "editable": false,
    "id": "NWuKAB3oKjHC",
    "nbgrader": {
     "cell_type": "markdown",
     "checksum": "5c5236e628b9c6aeede7ac42a920950e",
     "grade": false,
     "grade_id": "cell-48e71130c1fb453f",
     "locked": true,
     "schema_version": 3,
     "solution": false,
     "task": false
    }
   },
   "source": [
    "### Basic File I/O, Functions, Arrays, Dictionaries \n",
    "\n",
    "To test our system, we need data, but we don't have any on hand. So we will write some functions to generate fake data. This is more work, but allows us the flexibility for better testing. You will:\n",
    "1. Write a function to generate some fake data.\n",
    "2. Use the above function to write the fake data to a file.\n",
    "3. Write a function to re-read.\n",
    "\n",
    "Use only Python functions (not Numpy yet) to accomplish the above. The function specs are given for you."
   ]
  },
  {
   "cell_type": "markdown",
   "metadata": {
    "colab_type": "text",
    "deletable": false,
    "editable": false,
    "id": "HeYv_0eqKjHC",
    "nbgrader": {
     "cell_type": "markdown",
     "checksum": "149f8b313e5f26d50feb5a271a7f984c",
     "grade": false,
     "grade_id": "cell-84f00623a288e987",
     "locked": true,
     "schema_version": 3,
     "solution": false,
     "task": false
    }
   },
   "source": [
    "### Problem 1.1: Generate synthetic test data"
   ]
  },
  {
   "cell_type": "code",
   "execution_count": 11,
   "metadata": {},
   "outputs": [
    {
     "data": {
      "text/plain": [
       "2.0"
      ]
     },
     "execution_count": 11,
     "metadata": {},
     "output_type": "execute_result"
    }
   ],
   "source": [
    "random.normalvariate(10, 1)"
   ]
  },
  {
   "cell_type": "code",
   "execution_count": 14,
   "metadata": {
    "colab": {},
    "colab_type": "code",
    "deletable": false,
    "id": "ZiADP2N2KjHD",
    "nbgrader": {
     "cell_type": "code",
     "checksum": "8934383ce9e47dc6bd51d6e698838310",
     "grade": false,
     "grade_id": "cell-f48d1502b8a6f223",
     "locked": false,
     "schema_version": 3,
     "solution": true,
     "task": false
    }
   },
   "outputs": [],
   "source": [
    "# hint: use Python's default \"random\" module\n",
    "import random\n",
    "import math\n",
    "\n",
    "''' generate_data\n",
    "Args:\n",
    "    mean : Python float\n",
    "    variance : Python float\n",
    "    num_samples: How many samples to return (defualt = 1)\n",
    "    \n",
    "Returns: \n",
    "    A list of numbers drawn from a normal distribution with mean 'mean' and variance 'variance'\n",
    "    \n",
    "Hints: Basic list manipulations, random number generation\n",
    "Hints: Use list comprehension, can be done in one or two lines of code.\n",
    "'''\n",
    "def generate_data(mean : float, variance :float, num_samples :int):\n",
    "    data = []\n",
    "    # YOUR CODE HERE\n",
    "    data = [random.normalvariate(mean, math.sqrt(variance)) for i in range(num_samples)]\n",
    "    return data"
   ]
  },
  {
   "cell_type": "markdown",
   "metadata": {
    "colab_type": "text",
    "id": "DawPKMjZKjHF"
   },
   "source": [
    "Each problem in HW assignments will ask you to write code in the above form. We also provide test cases that verify your code. Passing the test is part of the grade. There may be additional held-out tests, so be sure to test your code sufficiently (you can add additional code in the same cell above.)"
   ]
  },
  {
   "cell_type": "code",
   "execution_count": 17,
   "metadata": {
    "colab": {
     "base_uri": "https://localhost:8080/",
     "height": 197
    },
    "colab_type": "code",
    "deletable": false,
    "editable": false,
    "id": "S8yyur80KjHF",
    "nbgrader": {
     "cell_type": "code",
     "checksum": "dd57190b432907a9c95f2daf26e732a9",
     "grade": true,
     "grade_id": "cell-4086cfb4e5f162fe",
     "locked": true,
     "points": 1,
     "schema_version": 3,
     "solution": false,
     "task": false
    },
    "outputId": "d42caac5-764c-48b9-9162-c153831c9c54"
   },
   "outputs": [
    {
     "name": "stdout",
     "output_type": "stream",
     "text": [
      "Test: mean: 1.0, var: 2.0, num_samples: 100\n",
      "Pass rate: 0.9475\n",
      "Test: mean: 2.0, var: 2, num_samples: 100\n",
      "Pass rate: 0.955\n",
      "Test: mean: -1.0, var: 0.4, num_samples: 100\n",
      "Pass rate: 0.9595\n",
      "Test: mean: -3.0, var: 0.01, num_samples: 100\n",
      "Pass rate: 0.9525\n",
      "Test: mean: -3.0, var: 10.0, num_samples: 100\n",
      "Pass rate: 0.944\n"
     ]
    }
   ],
   "source": [
    "# A simple (but not the only) for 1.1\n",
    "def simple_test_1_1(test_mean, test_var, num_iterations=2000):\n",
    "    num_samples = 100\n",
    "    print(\"Test: mean: {}, var: {}, num_samples: {}\".format(test_mean, test_var, num_samples))\n",
    "    samp_mean_var = test_var / num_samples\n",
    "    num_pass = 0\n",
    "    for i in range(num_iterations):\n",
    "        test_data = generate_data(test_mean, test_var, num_samples)\n",
    "        stat = functools.reduce( lambda x,y: x+y, test_data, 0.0) / num_samples\n",
    "        stat_error = abs((stat - test_mean)/math.sqrt(samp_mean_var))\n",
    "        error_bounds = norm.ppf(0.975)\n",
    "        run_result = stat_error < error_bounds\n",
    "        if(run_result): \n",
    "            num_pass += 1\n",
    "    pass_rate = num_pass / num_iterations\n",
    "    print(\"Pass rate:\", pass_rate)\n",
    "    return pass_rate\n",
    "\n",
    "assert(simple_test_1_1(1.0, 2.0) > 0.94)\n",
    "assert(simple_test_1_1(2.0, 2) > 0.94)\n",
    "assert(simple_test_1_1(-1.0, 0.4) > 0.94)\n",
    "assert(simple_test_1_1(-3.0, 0.01) > 0.94)\n",
    "assert(simple_test_1_1(-3.0, 10.0) > 0.94)"
   ]
  },
  {
   "cell_type": "markdown",
   "metadata": {
    "colab_type": "text",
    "id": "AYqghY4BKjHH"
   },
   "source": [
    "### Problem 1.2: Write synthetic test data to a local file "
   ]
  },
  {
   "cell_type": "code",
   "execution_count": null,
   "metadata": {
    "colab": {},
    "colab_type": "code",
    "deletable": false,
    "id": "Imem4t-FKjHI",
    "nbgrader": {
     "cell_type": "code",
     "checksum": "8b0babde480e312960b254c7303485b9",
     "grade": false,
     "grade_id": "cell-96e607ee664ae3e7",
     "locked": false,
     "schema_version": 3,
     "solution": true,
     "task": false
    }
   },
   "outputs": [],
   "source": [
    "''' write_data_file\n",
    "Args:\n",
    "    data_array: the Python list \n",
    "    \n",
    "Actions: \n",
    "    Write the elements of data_array as default-formatted floating points strings to \n",
    "    the file \"./test.txt\", one element per line.\n",
    "'''\n",
    "def write_data_file(data_list : list):\n",
    "    # Your code here\n",
    "    # YOUR CODE HERE\n",
    "    raise NotImplementedError()"
   ]
  },
  {
   "cell_type": "code",
   "execution_count": null,
   "metadata": {
    "colab": {},
    "colab_type": "code",
    "deletable": false,
    "editable": false,
    "id": "3cVJw42DKjHJ",
    "nbgrader": {
     "cell_type": "code",
     "checksum": "60a805a8491c99fee6b2916ae6ccc533",
     "grade": true,
     "grade_id": "cell-7ec8742636ca86c0",
     "locked": true,
     "points": 2,
     "schema_version": 3,
     "solution": false,
     "task": false
    }
   },
   "outputs": [],
   "source": [
    "def test_file_write(test_list):\n",
    "    write_data_file(test_list)\n",
    "    with open(\"./test.txt\", \"r\") as infile:\n",
    "        numbers = infile.readlines()\n",
    "    num_list = [float(num.strip()) for num in numbers]\n",
    "    if(len(num_list) != len(test_list)):\n",
    "        return False\n",
    "    for idx, num in enumerate(num_list):\n",
    "        if(num != test_list[idx]):\n",
    "            return False\n",
    "    return True\n",
    "\n",
    "assert(test_file_write([1.0, 1.1, 2.0, 3.4, 4.3]))\n",
    "assert(test_file_write([1.4333]))"
   ]
  },
  {
   "cell_type": "markdown",
   "metadata": {
    "colab_type": "text",
    "deletable": false,
    "editable": false,
    "id": "zXeLyHmqKjHL",
    "nbgrader": {
     "cell_type": "markdown",
     "checksum": "da158dcc221ca30c2bf23a2510b3d912",
     "grade": false,
     "grade_id": "cell-4d66bfe74ec9f863",
     "locked": true,
     "schema_version": 3,
     "solution": false,
     "task": false
    }
   },
   "source": [
    "### Problem 1.3: Read synthetic data and create a dictionary from it.\n",
    "\n",
    "The function opens \"./test.txt\", reads in the data array.\n",
    "You can use the test_file_write function above for reference.\n",
    "However, we would now like to return a list of dictionaries. \n",
    "The list should contain one dictionary for each element read from the file.\n",
    "Each dictionary should have the following format:\n",
    "\n",
    "```\n",
    "{\n",
    "    \"data\": (float read from file),\n",
    "    \"index\": (index of file line starting from 0),\n",
    "    \"time\": (a time stamp using python's time.time(), this returns unix time in seconds as a float)\n",
    "}\n",
    "```\n",
    "    "
   ]
  },
  {
   "cell_type": "code",
   "execution_count": null,
   "metadata": {
    "colab": {},
    "colab_type": "code",
    "deletable": false,
    "id": "3xCxpSi9KjHL",
    "nbgrader": {
     "cell_type": "code",
     "checksum": "288651679c86c8a9ab1297f9807d05b3",
     "grade": false,
     "grade_id": "cell-ba7bf196061bd82b",
     "locked": false,
     "schema_version": 3,
     "solution": true,
     "task": false
    }
   },
   "outputs": [],
   "source": [
    "'''read_data_file\n",
    "Args:\n",
    "    none\n",
    "    \n",
    "Returns:\n",
    "    See above\n",
    "    \n",
    "Hints: Can be accomplished in two-four lines.\n",
    "'''\n",
    "def read_data_file():\n",
    "    data_dict_list = []\n",
    "    #Your code here\n",
    "    # YOUR CODE HERE\n",
    "    raise NotImplementedError()\n",
    "    return data_dict_list"
   ]
  },
  {
   "cell_type": "code",
   "execution_count": null,
   "metadata": {
    "colab": {
     "base_uri": "https://localhost:8080/",
     "height": 107
    },
    "colab_type": "code",
    "deletable": false,
    "editable": false,
    "id": "PXVbf9TWKjHN",
    "nbgrader": {
     "cell_type": "code",
     "checksum": "7636e3a273efddc2f2544f0ee55c327d",
     "grade": true,
     "grade_id": "cell-787d3c7a7fba06d6",
     "locked": true,
     "points": 1,
     "schema_version": 3,
     "solution": false,
     "task": false
    },
    "outputId": "90faf9fc-8afe-4743-d31b-e939cc2adde3"
   },
   "outputs": [],
   "source": [
    "test_data = [1.0, 2.0, 3.0, -1.1, 2.3]\n",
    "write_data_file(test_data)\n",
    "test_result = read_data_file()\n",
    "assert(type(test_result) is list)\n",
    "for idx, i in enumerate(test_result):\n",
    "    assert(type(i) is dict)\n",
    "    assert(type(i[\"time\"]) is float)\n",
    "    print(i[\"time\"])\n",
    "    assert(i[\"index\"] == idx)\n",
    "    assert(i[\"data\"] == test_data[idx])"
   ]
  },
  {
   "cell_type": "markdown",
   "metadata": {
    "colab_type": "text",
    "id": "dc0DlGFnKjHP"
   },
   "source": [
    "### Part 2: Matplotlib Familiarization\n",
    "\n",
    "Now we will use Matplotlib to create some graphs. This section is manually graded, where we will inspect the graphs you have plotted for completeness.  \n",
    "\n",
    "Each graph should have the following:\n",
    "\n",
    "1. A title\n",
    "2. Labels on the X/Y axis\n",
    "3. Multiple plots answering one question should be combined into one plot using subplot whenever possible.\n",
    "\n",
    "Since we are just making up these data and plots, use generic names for the labels, as shown in the worked example below."
   ]
  },
  {
   "cell_type": "markdown",
   "metadata": {
    "colab_type": "text",
    "deletable": false,
    "editable": false,
    "id": "WsEPxxK2KjHQ",
    "nbgrader": {
     "cell_type": "markdown",
     "checksum": "c9a795305542c65f5d8c3088b8ac7619",
     "grade": false,
     "grade_id": "cell-5b5db42373476463",
     "locked": true,
     "schema_version": 3,
     "solution": false,
     "task": false
    }
   },
   "source": [
    "Plot 1 (worked example): Generate some random data using generate_data (~100 samples), write_data_file and read_data_file. Plot the data as a line graph using the time attribute in milliseconds as the x-axis and the \"data\" attribute as the y axis. The x axis should be an offset from $t_0$ where $t_0$ is the first time stamp in the dictionary list."
   ]
  },
  {
   "cell_type": "code",
   "execution_count": null,
   "metadata": {
    "colab": {
     "base_uri": "https://localhost:8080/",
     "height": 295
    },
    "colab_type": "code",
    "deletable": false,
    "editable": false,
    "id": "6KtPcTePKjHQ",
    "nbgrader": {
     "cell_type": "code",
     "checksum": "bb2b2e68625a4c5094f22b7f4ff4db2e",
     "grade": false,
     "grade_id": "cell-38ebfe08ea79f9a1",
     "locked": true,
     "schema_version": 3,
     "solution": false,
     "task": false
    },
    "outputId": "dc430147-6590-437c-9f6d-5d7c40dc0f35"
   },
   "outputs": [],
   "source": [
    "example_data = generate_data(10.0, 1.0, 100)\n",
    "write_data_file(example_data)\n",
    "example_data = read_data_file()\n",
    "\n",
    "t_0 = example_data[0][\"time\"]\n",
    "time_stamps = [(entry[\"time\"]-t_0)*1e3 for entry in example_data]\n",
    "data_series = [entry[\"data\"] for entry in example_data]\n",
    "\n",
    "plt.plot(time_stamps, data_series)\n",
    "plt.xlabel(\"Time offset (msec)\")\n",
    "plt.ylabel(\"Signal mu=10, sigma=1.0\")\n",
    "plt.title(\"Signal over time, 100 samples\")\n",
    "plt.show()"
   ]
  },
  {
   "cell_type": "markdown",
   "metadata": {
    "colab_type": "text",
    "deletable": false,
    "editable": false,
    "id": "Y4lsBT3FKjHS",
    "nbgrader": {
     "cell_type": "markdown",
     "checksum": "1d6168875990477f4712ccb743f0198b",
     "grade": false,
     "grade_id": "cell-e71804ac92380e8e",
     "locked": true,
     "points": 0,
     "schema_version": 3,
     "solution": false,
     "task": true
    }
   },
   "source": [
    "### Plots 2-3\n",
    "Do the same as the above plot, but plot 2 different \"signals\" with the same mean, but different deviations. Create one plot with these two lines plotted on the same axis. Then, create a second plot which has two sub-graphs (\"subplots\") stacked vertically, with one line per subplot."
   ]
  },
  {
   "cell_type": "code",
   "execution_count": null,
   "metadata": {
    "colab": {},
    "colab_type": "code",
    "deletable": false,
    "id": "I6YPNiR0KjHS",
    "nbgrader": {
     "cell_type": "code",
     "checksum": "c4ebd6642a6e3706dc3a0b68317d8be2",
     "grade": true,
     "grade_id": "cell-8a534752fbb14cc6",
     "locked": false,
     "points": 3,
     "schema_version": 3,
     "solution": true,
     "task": false
    }
   },
   "outputs": [],
   "source": [
    "# YOUR CODE HERE\n",
    "raise NotImplementedError()"
   ]
  },
  {
   "cell_type": "markdown",
   "metadata": {
    "colab_type": "text",
    "deletable": false,
    "editable": false,
    "id": "0fRhSKHHKjHV",
    "nbgrader": {
     "cell_type": "markdown",
     "checksum": "eaaac4d1f0c776d8f582874b047d0402",
     "grade": false,
     "grade_id": "cell-032ed1eba65bac13",
     "locked": true,
     "points": 0,
     "schema_version": 3,
     "solution": false,
     "task": true
    }
   },
   "source": [
    "### Plot 4\n",
    "\n",
    "Again, create two different series of random data, now with different means and different deviations. Create a scatter plot using the first series for the x-axis and the second series for the y-axis. Make sure all points less than a certain distance (decided by you) from the center of mass of the distribution are marked with triangles. All other points should be marked by circles. Choose the distance so roughly half the points are triangles and half are circles."
   ]
  },
  {
   "cell_type": "code",
   "execution_count": null,
   "metadata": {
    "colab": {},
    "colab_type": "code",
    "deletable": false,
    "id": "rrtWgA_8KjHW",
    "nbgrader": {
     "cell_type": "code",
     "checksum": "a60f7d5af66432ab16b251c78cd16fca",
     "grade": true,
     "grade_id": "cell-9db997430903f19d",
     "locked": false,
     "points": 4,
     "schema_version": 3,
     "solution": true,
     "task": false
    }
   },
   "outputs": [],
   "source": [
    "# YOUR CODE HERE\n",
    "raise NotImplementedError()"
   ]
  },
  {
   "cell_type": "markdown",
   "metadata": {
    "colab_type": "text",
    "id": "2bwIDV5-KjHX"
   },
   "source": [
    "### Numpy Familiarization\n",
    "The absolute best way to learn NumPy is to work through the ENTIRE [quickstart](https://docs.scipy.org/doc/numpy/user/quickstart.html) here. When you are comfortable with that, you should be ready for nearly anything we throw at you. Note that NumPy replaces nearly everything you can do in Python that involves manipulating homogenously-typed arrays of numbers. We provide the below exercise that mimics problem 1.1. Look thorugh the NumPy docs to find the correct function call to make. It can be done in 1 line."
   ]
  },
  {
   "cell_type": "code",
   "execution_count": null,
   "metadata": {
    "colab": {},
    "colab_type": "code",
    "deletable": false,
    "id": "CzFCaJm_KjHY",
    "nbgrader": {
     "cell_type": "code",
     "checksum": "dcc71b7ee41f1560c09ed73a42ab1bce",
     "grade": false,
     "grade_id": "cell-e4b34fc9acf8967a",
     "locked": false,
     "schema_version": 3,
     "solution": true,
     "task": false
    }
   },
   "outputs": [],
   "source": [
    "''' generate_data\n",
    "Args:\n",
    "    mean : Python float\n",
    "    variance : Python float\n",
    "    num_samples: How many samples to return (defualt = 1)\n",
    "    \n",
    "Returns: \n",
    "    A Numpy-Array of numbers drawn from a normal distribution with mean 'mean' and variance 'variance'\n",
    "    \n",
    "Hints: Use np.random module. Can be done in one line of code.\n",
    "'''\n",
    "def generate_data_numpy(mean : float, variance :float, shape :tuple):\n",
    "    data = np.zeros(shape)\n",
    "    # Your code here\n",
    "    # YOUR CODE HERE\n",
    "    raise NotImplementedError()\n",
    "    return data"
   ]
  },
  {
   "cell_type": "code",
   "execution_count": null,
   "metadata": {
    "colab": {
     "base_uri": "https://localhost:8080/",
     "height": 125
    },
    "colab_type": "code",
    "deletable": false,
    "editable": false,
    "id": "aYzpvryyKjHZ",
    "nbgrader": {
     "cell_type": "code",
     "checksum": "713bdcc561c198afa7f9e0f6d0d1e67d",
     "grade": true,
     "grade_id": "cell-6c7d81b3211f9e8b",
     "locked": true,
     "points": 1,
     "schema_version": 3,
     "solution": false,
     "task": false
    },
    "outputId": "7b0a9642-dbc5-4cc7-9f1b-440c54e45e4e"
   },
   "outputs": [],
   "source": [
    "test_data = generate_data_numpy(1.0, 1.0, (2, 3))\n",
    "assert(test_data.shape == (2, 3))\n",
    "\n",
    "\n",
    "def simple_test_3_1(test_mean, test_var, shape=(10,10), num_iterations=2000):\n",
    "    num_samples = np.prod(shape)\n",
    "    print(\"Test: mean: {}, var: {}, num_samples: {}\".format(test_mean, test_var, num_samples))\n",
    "    samp_mean_var = test_var / num_samples\n",
    "    num_pass = 0\n",
    "    for i in range(num_iterations):\n",
    "        test_data = generate_data_numpy(test_mean, test_var, shape)\n",
    "        stat = np.sum(test_data)/num_samples\n",
    "        stat_error = abs((stat - test_mean)/math.sqrt(samp_mean_var))\n",
    "        error_bounds = norm.ppf(0.975)\n",
    "        run_result = stat_error < error_bounds\n",
    "        if(run_result): \n",
    "            num_pass += 1\n",
    "    pass_rate = num_pass / num_iterations\n",
    "    print(\"Pass rate:\", pass_rate)\n",
    "    return pass_rate\n",
    "\n",
    "assert(simple_test_3_1(-4, 2.0, (100, 10)))\n",
    "assert(simple_test_3_1(10, 0.1, (10, 10)))\n",
    "assert(simple_test_3_1(3, .01, (1, 10)))"
   ]
  },
  {
   "cell_type": "code",
   "execution_count": null,
   "metadata": {
    "colab": {},
    "colab_type": "code",
    "id": "I4vDy-zmKjHb"
   },
   "outputs": [],
   "source": []
  }
 ],
 "metadata": {
  "colab": {
   "name": "Homework 0 - Environment Setup, Python Review.ipynb",
   "provenance": [],
   "version": "0.3.2"
  },
  "kernelspec": {
   "display_name": "Python 3",
   "language": "python",
   "name": "python3"
  },
  "language_info": {
   "codemirror_mode": {
    "name": "ipython",
    "version": 3
   },
   "file_extension": ".py",
   "mimetype": "text/x-python",
   "name": "python",
   "nbconvert_exporter": "python",
   "pygments_lexer": "ipython3",
   "version": "3.7.4"
  }
 },
 "nbformat": 4,
 "nbformat_minor": 1
}
